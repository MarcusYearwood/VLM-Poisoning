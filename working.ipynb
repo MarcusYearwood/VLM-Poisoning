{
 "cells": [
  {
   "cell_type": "code",
   "execution_count": 1,
   "metadata": {},
   "outputs": [
    {
     "name": "stdout",
     "output_type": "stream",
     "text": [
      "[2025-01-01 11:31:06,345] [INFO] [real_accelerator.py:110:get_accelerator] Setting ds_accelerator to cuda (auto detect)\n"
     ]
    }
   ],
   "source": [
    "import os\n",
    "import torch\n",
    "import json\n",
    "import argparse\n",
    "from tqdm import tqdm\n",
    "import torch.optim as optim\n",
    "from torchvision.utils import save_image\n",
    "\n",
    "from models import get_image_encoder_llava, encode_image_llava, get_llava_model, get_response_llava\n",
    "from models import get_image_encoder_internlm, encode_image_internlm, get_internlm_model, get_response_internlm\n",
    "from models import encode_image_clip, get_image_encoder_clip, i2t_similarity_clip\n",
    "\n",
    "from datasets import collate_fn, SingleTargetPairedImageDataset, PairedImageDataset, ImageDataset\n",
    "from poison_utils import load_image, load_image_tensors, L2_norm, save_poison_data, test_attack_efficacy\n",
    "from torch.nn import DataParallel\n",
    "\n",
    "from torchvision import transforms\n",
    "\n",
    "# diff augmentation\n",
    "# import kornia\n",
    "from augmentation_zoo import *\n",
    "\n",
    "\n",
    "def read_json(path):\n",
    "    with open(path, 'r', encoding='utf-8') as f:\n",
    "        return json.load(f)\n",
    "\n",
    "def embedding_attack_Linf(encode_images, image_base, image_target, emb_dist, masks, orig_sizes_base, orig_sizes_target, \\\n",
    "                     iters=100, lr=1/255, eps=8/255, diff_aug=None, resume_X_adv=None, target_caption=\"\"):\n",
    "      '''\n",
    "      optimizing x_adv to minimize emb_dist( img_embed of x_adv, img_embed of image_target ) within Lp constraint using PGD\n",
    "\n",
    "      image_encoder: the image embedding function (e.g. CLIP, EVA)\n",
    "      image_base, image_target: images BEFORE normalization, between [0,1]\n",
    "      emb_dist: the distance metrics for vision embedding (such as L2): take a batch of bs image pairs as input, \\\n",
    "            and output EACH of pair-wise distances of the whole batch (size = [bs])\n",
    "\n",
    "      eps: for Lp constraint\n",
    "      lr: the step size. The update is grad.sign * lr\n",
    "      diff_aug: using differentiable augmentation, e.g. RandomResizeCrop\n",
    "      resume_X_adv: None or an initialization for X_adv\n",
    "\n",
    "      return: X_adv between [0,1]\n",
    "      '''\n",
    "      # assert len(image_base.size()) == len(image_target.size()) and len(image_base.size()) == 4, 'image size length should be 4'\n",
    "      # assert image_base.size(0) == image_target.size(0), 'image_base and image_target contain different number of images'\n",
    "      bs = image_base.size(0)\n",
    "      device = image_base.device\n",
    "\n",
    "      with torch.no_grad():\n",
    "            embedding_targets = encode_images(image_target, bs, orig_sizes_target)\n",
    "\n",
    "      X_adv = image_base.clone().detach() + (torch.rand(*image_base.shape)*2*eps-eps).to(device)\n",
    "      # X_adv = image_base.clone().detach()\n",
    "      if resume_X_adv is not None:\n",
    "            print('Resuming from a given X_adv')\n",
    "            X_adv = resume_X_adv.clone().detach()\n",
    "      X_adv.data = X_adv.data.clamp(0,1)\n",
    "      X_adv.requires_grad_(True) \n",
    "\n",
    "      optimizer = optim.SGD([X_adv], lr=lr)\n",
    "      scheduler = torch.optim.lr_scheduler.MultiStepLR(optimizer, milestones=[int(iters*0.5)], gamma=0.5)\n",
    "\n",
    "      loss_best = 1e8 * torch.ones(bs).to(device)\n",
    "      X_adv_best = resume_X_adv.clone().detach() if resume_X_adv is not None else torch.rand(*image_base.shape).to(device)\n",
    "\n",
    "      batch_losses = []\n",
    "\n",
    "      # for i in tqdm(range(iters)):\n",
    "      for i in range(iters):\n",
    "            embs = encode_images(X_adv, bs, orig_sizes_base)\n",
    "            \n",
    "\n",
    "            loss = emb_dist(embs, embedding_targets) # length = bs\n",
    "\n",
    "            # if i% max(int(iters/1000),1) == 0:\n",
    "            #       if (loss < loss_best).sum()>0:\n",
    "            #             index = torch.where(loss < loss_best)[0]\n",
    "            #             loss_best[index] = loss.clone().detach()[index].to(loss_best[index].dtype)\n",
    "            #             X_adv_best[index] = X_adv.clone().detach()[index]\n",
    "\n",
    "            loss = loss.sum() \n",
    "            # print(\"loss shape\", loss)\n",
    "            sim_score = i2t_similarity_clip(image_encoder, image_processor, X_adv[0][:, :original_sizes_base[0][1], :original_sizes_base[0][0]], target_caption)\n",
    "            # print(\"sim_score shape\", sim_score.shape)\n",
    "            loss -= sim_score[0][0]\n",
    "\n",
    "\n",
    "            #### edit when returning to joint loss #####\n",
    "            if i % max(int(iters / 1000), 1) == 0:\n",
    "                  # Ensure `loss` is a tensor with per-batch losses\n",
    "                  loss_per_batch = -sim_score  # Assuming `sim_score` is a tensor with shape [bs]\n",
    "\n",
    "                  if (loss_per_batch < loss_best).sum() > 0:\n",
    "                        index = torch.where(loss_per_batch < loss_best)[0]\n",
    "                        loss_best[index] = loss_per_batch.clone().detach().to(loss_best[index].dtype)\n",
    "                        X_adv_best[index] = X_adv.clone().detach()[index]\n",
    "            #######\n",
    "\n",
    "            optimizer.zero_grad()\n",
    "            loss.backward()\n",
    "\n",
    "            # print losses at increments\n",
    "            # if i% max(int(iters/20),1) == 0:\n",
    "            #       batch_losses.append(loss.item()/bs)\n",
    "            #       print('Iter :{} loss:{:.4f}, lr * 255:{:.4f}'.format(i,loss.item()/bs, scheduler.get_last_lr()[0]*255))\n",
    "\n",
    "            for j in range(bs):\n",
    "                  X_adv.grad[j] *= (1 - masks[j])\n",
    "\n",
    "            # Linf sign update\n",
    "            X_adv.grad = torch.sign(X_adv.grad)\n",
    "            optimizer.step()\n",
    "            scheduler.step()\n",
    "            X_adv.data = torch.minimum(torch.maximum(X_adv, image_base - eps), image_base + eps) #\n",
    "            X_adv.data = X_adv.data.clamp(0,1)     \n",
    "            X_adv.grad = None  \n",
    "\n",
    "            if torch.isnan(loss):\n",
    "                  print('Encounter nan loss at iteration {}'.format(i))\n",
    "                  break                 \n",
    "\n",
    "      with torch.no_grad():\n",
    "            embs = encode_images(X_adv_best, bs, orig_sizes_base)\n",
    "            loss = emb_dist(embs, embedding_targets)\n",
    "            # print('Best Total loss vector:{}'.format(loss))\n",
    "            print('Best Total loss:{:.4f}'.format(loss.mean().item()))\n",
    "\n",
    "      return X_adv_best, loss.detach(), batch_losses\n",
    "\n",
    "\n"
   ]
  },
  {
   "cell_type": "code",
   "execution_count": 2,
   "metadata": {},
   "outputs": [
    {
     "name": "stderr",
     "output_type": "stream",
     "text": [
      "`text_config_dict` is provided which will be used to initialize `CLIPTextConfig`. The value `text_config[\"id2label\"]` will be overriden.\n",
      "`text_config_dict` is provided which will be used to initialize `CLIPTextConfig`. The value `text_config[\"bos_token_id\"]` will be overriden.\n",
      "`text_config_dict` is provided which will be used to initialize `CLIPTextConfig`. The value `text_config[\"eos_token_id\"]` will be overriden.\n",
      "Loading image tensors: 100%|██████████| 100/100 [00:01<00:00, 83.75it/s]\n",
      "Loading image tensors: 100%|██████████| 19/19 [00:00<00:00, 25.72it/s]"
     ]
    },
    {
     "name": "stdout",
     "output_type": "stream",
     "text": [
      "Finishing loading 100 pairs of base and target images for poisoning, size=100\n"
     ]
    },
    {
     "name": "stderr",
     "output_type": "stream",
     "text": [
      "\n"
     ]
    }
   ],
   "source": [
    "task = \"mini_MathVista_grid\"\n",
    "args = {\n",
    "    \"model\": \"clip\",\n",
    "    \"poison_save_pth\": f\"./data/poisons/{task}\",\n",
    "    \"iter_attack\": 500,\n",
    "    \"lr_attack\": 0.2,\n",
    "    \"task_data_pth\": f\"data/task_data/{task}\",\n",
    "    \"diff_aug_specify\": None,\n",
    "    \"temperature\": 0,\n",
    "    \"max_new_tokens\": 200,\n",
    "    \"training_mode\": \"all_target\",\n",
    "    \"eps\": 16,\n",
    "    \"batch_size\": 1,\n",
    "}\n",
    "\n",
    "image_encoder, image_processor, diff_aug, img_size = get_image_encoder_clip()\n",
    "encode_images = lambda imgs, bs, orig_sizes: encode_image_clip(image_encoder, imgs, img_size, bs, diff_aug, orig_sizes) \n",
    "chat = None\n",
    "\n",
    "question_json = read_json(os.path.join(args[\"task_data_pth\"], \"questions.json\"))\n",
    "pids = question_json.keys()\n",
    "\n",
    "images_base, images_target, target_caps = load_image_tensors(args[\"task_data_pth\"],img_size,args[\"training_mode\"])\n"
   ]
  },
  {
   "cell_type": "code",
   "execution_count": 3,
   "metadata": {},
   "outputs": [],
   "source": [
    "base_dataset = ImageDataset(images_base)\n",
    "target_dataset = ImageDataset(images_target)\n",
    "\n",
    "import torch.nn.functional as F\n",
    "import random\n",
    "import torch\n",
    "\n",
    "\n",
    "def collate_fn_image(batch):\n",
    "    images_base = batch\n",
    "    max_height = max(img.size(2) for img in images_base)\n",
    "    max_width = max(img.size(3) for img in images_base)\n",
    "    \n",
    "    # Create lists to store padded images and masks\n",
    "    padded_images_base = []\n",
    "    original_sizes = []\n",
    "    masks = []\n",
    "\n",
    "    for img in images_base:\n",
    "        _, __, h, w = img.shape  # Channels, Height, Width\n",
    "        original_sizes.append((w, h))  # Store original size (width, height)\n",
    "\n",
    "        # Calculate padding (left, right, top, bottom)\n",
    "        padding = (0, max_width - w, 0, max_height - h)\n",
    "\n",
    "        # Pad the image\n",
    "        padded_img = F.pad(img, padding, value=0)  # Zero-padding\n",
    "        padded_images_base.append(padded_img)\n",
    "\n",
    "        # Create a padding mask (1 for padded, 0 for original)\n",
    "        mask = torch.ones(1, max_height, max_width)  # Initialize mask with ones\n",
    "        mask[:, :h, :w] = 0  # Set original area to 0 (no padding)\n",
    "        masks.append(mask)\n",
    "    \n",
    "    images_base = torch.cat(padded_images_base, dim=0)\n",
    "    masks = torch.cat(masks, dim=0)\n",
    "\n",
    "    return images_base, masks, original_sizes\n",
    "\n",
    "base_dataloader = torch.utils.data.DataLoader(\n",
    "    base_dataset, batch_size=args[\"batch_size\"], \n",
    "    shuffle=False, collate_fn=collate_fn_image\n",
    ")\n",
    "\n",
    "target_dataloader = torch.utils.data.DataLoader(\n",
    "    target_dataset, batch_size=1, \n",
    "    shuffle=False, collate_fn=collate_fn_image\n",
    ")"
   ]
  },
  {
   "cell_type": "code",
   "execution_count": 4,
   "metadata": {},
   "outputs": [],
   "source": [
    "# next(iter(target_dataloader))"
   ]
  },
  {
   "cell_type": "code",
   "execution_count": 5,
   "metadata": {},
   "outputs": [
    {
     "name": "stdout",
     "output_type": "stream",
     "text": [
      "Caption: a cartoon illustration of a living room with a chair and table\n",
      "Caption similarity score target: 27.6583\n"
     ]
    },
    {
     "name": "stderr",
     "output_type": "stream",
     "text": [
      " 34%|███▍      | 34/100 [00:00<00:00, 337.42it/s]"
     ]
    },
    {
     "name": "stdout",
     "output_type": "stream",
     "text": [
      "Batch 0 already processed, skipping...\n",
      "Batch 1 already processed, skipping...\n",
      "Batch 2 already processed, skipping...\n",
      "Batch 3 already processed, skipping...\n",
      "Batch 4 already processed, skipping...\n",
      "Batch 5 already processed, skipping...\n",
      "Batch 6 already processed, skipping...\n",
      "Batch 7 already processed, skipping...\n",
      "Batch 8 already processed, skipping...\n",
      "Batch 9 already processed, skipping...\n",
      "Batch 10 already processed, skipping...\n",
      "Batch 11 already processed, skipping...\n",
      "Batch 12 already processed, skipping...\n",
      "Batch 13 already processed, skipping...\n",
      "Batch 14 already processed, skipping...\n",
      "Batch 15 already processed, skipping...\n",
      "Batch 16 already processed, skipping...\n",
      "Batch 17 already processed, skipping...\n",
      "Batch 18 already processed, skipping...\n",
      "Batch 19 already processed, skipping...\n",
      "Batch 20 already processed, skipping...\n",
      "Batch 21 already processed, skipping...\n",
      "Batch 22 already processed, skipping...\n",
      "Batch 23 already processed, skipping...\n",
      "Batch 24 already processed, skipping...\n",
      "Batch 25 already processed, skipping...\n",
      "Batch 26 already processed, skipping...\n",
      "Batch 27 already processed, skipping...\n",
      "Batch 28 already processed, skipping...\n",
      "Batch 29 already processed, skipping...\n",
      "Batch 30 already processed, skipping...\n",
      "Batch 31 already processed, skipping...\n",
      "Batch 32 already processed, skipping...\n",
      "Batch 33 already processed, skipping...\n",
      "Batch 34 already processed, skipping...\n",
      "Batch 35 already processed, skipping...\n",
      "Batch 36 already processed, skipping...\n",
      "Batch 37 already processed, skipping...\n",
      "Batch 38 already processed, skipping...\n",
      "Batch 39 already processed, skipping...\n"
     ]
    },
    {
     "name": "stderr",
     "output_type": "stream",
     "text": [
      "100%|██████████| 100/100 [00:00<00:00, 232.89it/s]\n"
     ]
    },
    {
     "name": "stdout",
     "output_type": "stream",
     "text": [
      "Batch 40 already processed, skipping...\n",
      "Batch 41 already processed, skipping...\n",
      "Batch 42 already processed, skipping...\n",
      "Batch 43 already processed, skipping...\n",
      "Batch 44 already processed, skipping...\n",
      "Batch 45 already processed, skipping...\n",
      "Batch 46 already processed, skipping...\n",
      "Batch 47 already processed, skipping...\n",
      "Batch 48 already processed, skipping...\n",
      "Batch 49 already processed, skipping...\n",
      "Batch 50 already processed, skipping...\n",
      "Batch 51 already processed, skipping...\n",
      "Batch 52 already processed, skipping...\n",
      "Batch 53 already processed, skipping...\n",
      "Batch 54 already processed, skipping...\n",
      "Batch 55 already processed, skipping...\n",
      "Batch 56 already processed, skipping...\n",
      "Batch 57 already processed, skipping...\n",
      "Batch 58 already processed, skipping...\n",
      "Batch 59 already processed, skipping...\n",
      "Batch 60 already processed, skipping...\n",
      "Batch 61 already processed, skipping...\n",
      "Batch 62 already processed, skipping...\n",
      "Batch 63 already processed, skipping...\n",
      "Batch 64 already processed, skipping...\n",
      "Batch 65 already processed, skipping...\n",
      "Batch 66 already processed, skipping...\n",
      "Batch 67 already processed, skipping...\n",
      "Batch 68 already processed, skipping...\n",
      "Batch 69 already processed, skipping...\n",
      "Batch 70 already processed, skipping...\n",
      "Batch 71 already processed, skipping...\n",
      "Batch 72 already processed, skipping...\n",
      "Batch 73 already processed, skipping...\n",
      "Batch 74 already processed, skipping...\n",
      "Batch 75 already processed, skipping...\n",
      "Batch 76 already processed, skipping...\n",
      "Batch 77 already processed, skipping...\n",
      "Batch 78 already processed, skipping...\n",
      "Batch 79 already processed, skipping...\n",
      "Batch 80 already processed, skipping...\n",
      "Batch 81 already processed, skipping...\n",
      "Batch 82 already processed, skipping...\n",
      "Batch 83 already processed, skipping...\n",
      "Batch 84 already processed, skipping...\n",
      "Batch 85 already processed, skipping...\n",
      "Batch 86 already processed, skipping...\n",
      "Batch 87 already processed, skipping...\n",
      "Batch 88 already processed, skipping...\n",
      "Batch 89 already processed, skipping...\n",
      "Batch 90 already processed, skipping...\n",
      "Batch 91 already processed, skipping...\n",
      "Batch 92 already processed, skipping...\n",
      "Batch 93 already processed, skipping...\n",
      "Batch 94 already processed, skipping...\n",
      "Batch 95 already processed, skipping...\n",
      "Batch 96 already processed, skipping...\n",
      "Batch 97 already processed, skipping...\n",
      "Batch 98 already processed, skipping...\n",
      "Batch 99 already processed, skipping...\n",
      "Caption: a bar chart with a blue background\n",
      "Caption similarity score target: 31.1636\n"
     ]
    },
    {
     "name": "stderr",
     "output_type": "stream",
     "text": [
      " 29%|██▉       | 29/100 [00:00<00:00, 275.88it/s]"
     ]
    },
    {
     "name": "stdout",
     "output_type": "stream",
     "text": [
      "Batch 0 already processed, skipping...\n",
      "Batch 1 already processed, skipping...\n",
      "Batch 2 already processed, skipping...\n",
      "Batch 3 already processed, skipping...\n",
      "Batch 4 already processed, skipping...\n",
      "Batch 5 already processed, skipping...\n",
      "Batch 6 already processed, skipping...\n",
      "Batch 7 already processed, skipping...\n",
      "Batch 8 already processed, skipping...\n",
      "Batch 9 already processed, skipping...\n",
      "Batch 10 already processed, skipping...\n",
      "Batch 11 already processed, skipping...\n",
      "Batch 12 already processed, skipping...\n",
      "Batch 13 already processed, skipping...\n",
      "Batch 14 already processed, skipping...\n",
      "Batch 15 already processed, skipping...\n",
      "Batch 16 already processed, skipping...\n",
      "Batch 17 already processed, skipping...\n",
      "Batch 18 already processed, skipping...\n",
      "Batch 19 already processed, skipping...\n",
      "Batch 20 already processed, skipping...\n",
      "Batch 21 already processed, skipping...\n",
      "Batch 22 already processed, skipping...\n",
      "Batch 23 already processed, skipping...\n",
      "Batch 24 already processed, skipping...\n",
      "Batch 25 already processed, skipping...\n",
      "Batch 26 already processed, skipping...\n",
      "Batch 27 already processed, skipping...\n",
      "Batch 28 already processed, skipping...\n",
      "Batch 29 already processed, skipping...\n",
      "Batch 30 already processed, skipping...\n",
      "Batch 31 already processed, skipping...\n",
      "Batch 32 already processed, skipping...\n",
      "Batch 33 already processed, skipping...\n",
      "Batch 34 already processed, skipping...\n",
      "Batch 35 already processed, skipping...\n",
      "Batch 36 already processed, skipping...\n",
      "Batch 37 already processed, skipping...\n",
      "Batch 38 already processed, skipping...\n",
      "Batch 39 already processed, skipping...\n"
     ]
    },
    {
     "name": "stderr",
     "output_type": "stream",
     "text": [
      "100%|██████████| 100/100 [00:00<00:00, 230.40it/s]"
     ]
    },
    {
     "name": "stdout",
     "output_type": "stream",
     "text": [
      "Batch 40 already processed, skipping...\n",
      "Batch 41 already processed, skipping...\n",
      "Batch 42 already processed, skipping...\n",
      "Batch 43 already processed, skipping...\n",
      "Batch 44 already processed, skipping...\n",
      "Batch 45 already processed, skipping...\n",
      "Batch 46 already processed, skipping...\n",
      "Batch 47 already processed, skipping...\n",
      "Batch 48 already processed, skipping...\n",
      "Batch 49 already processed, skipping...\n",
      "Batch 50 already processed, skipping...\n",
      "Batch 51 already processed, skipping...\n",
      "Batch 52 already processed, skipping...\n",
      "Batch 53 already processed, skipping...\n",
      "Batch 54 already processed, skipping...\n",
      "Batch 55 already processed, skipping...\n",
      "Batch 56 already processed, skipping...\n",
      "Batch 57 already processed, skipping...\n",
      "Batch 58 already processed, skipping...\n",
      "Batch 59 already processed, skipping...\n",
      "Batch 60 already processed, skipping...\n",
      "Batch 61 already processed, skipping...\n",
      "Batch 62 already processed, skipping...\n",
      "Batch 63 already processed, skipping...\n",
      "Batch 64 already processed, skipping...\n",
      "Batch 65 already processed, skipping...\n",
      "Batch 66 already processed, skipping...\n",
      "Batch 67 already processed, skipping...\n",
      "Batch 68 already processed, skipping...\n",
      "Batch 69 already processed, skipping...\n",
      "Batch 70 already processed, skipping...\n",
      "Batch 71 already processed, skipping...\n",
      "Batch 72 already processed, skipping...\n",
      "Batch 73 already processed, skipping...\n",
      "Batch 74 already processed, skipping...\n",
      "Batch 75 already processed, skipping...\n",
      "Batch 76 already processed, skipping...\n",
      "Batch 77 already processed, skipping...\n",
      "Batch 78 already processed, skipping...\n",
      "Batch 79 already processed, skipping...\n",
      "Batch 80 already processed, skipping...\n",
      "Batch 81 already processed, skipping...\n",
      "Batch 82 already processed, skipping...\n",
      "Batch 83 already processed, skipping...\n",
      "Batch 84 already processed, skipping...\n",
      "Batch 85 already processed, skipping...\n",
      "Batch 86 already processed, skipping...\n",
      "Batch 87 already processed, skipping...\n",
      "Batch 88 already processed, skipping...\n",
      "Batch 89 already processed, skipping...\n",
      "Batch 90 already processed, skipping...\n",
      "Batch 91 already processed, skipping...\n",
      "Batch 92 already processed, skipping...\n",
      "Batch 93 already processed, skipping...\n",
      "Batch 94 already processed, skipping...\n",
      "Batch 95 already processed, skipping...\n",
      "Batch 96 already processed, skipping...\n",
      "Batch 97 already processed, skipping...\n",
      "Batch 98 already processed, skipping...\n",
      "Batch 99 already processed, skipping...\n",
      "Caption: a diagram showing the structure of a company\n",
      "Caption similarity score target: 23.7367\n"
     ]
    },
    {
     "name": "stderr",
     "output_type": "stream",
     "text": [
      "\n",
      "  0%|          | 0/100 [00:00<?, ?it/s]"
     ]
    },
    {
     "name": "stdout",
     "output_type": "stream",
     "text": [
      "Batch 0 already processed, skipping...\n",
      "Batch 1 already processed, skipping...\n",
      "Batch 2 already processed, skipping...\n",
      "Batch 3 already processed, skipping...\n",
      "Batch 4 already processed, skipping...\n",
      "Batch 5 already processed, skipping...\n",
      "Batch 6 already processed, skipping...\n",
      "Batch 7 already processed, skipping...\n",
      "Batch 8 already processed, skipping...\n",
      "Batch 9 already processed, skipping...\n",
      "Batch 10 already processed, skipping...\n",
      "Batch 11 already processed, skipping...\n",
      "Batch 12 already processed, skipping...\n",
      "Batch 13 already processed, skipping...\n",
      "Batch 14 already processed, skipping...\n",
      "Batch 15 already processed, skipping...\n",
      "Batch 16 already processed, skipping...\n",
      "Batch 17 already processed, skipping...\n",
      "Batch 18 already processed, skipping...\n",
      "Batch 19 already processed, skipping...\n",
      "Batch 20 already processed, skipping...\n",
      "Batch 21 already processed, skipping...\n",
      "Batch 22 already processed, skipping...\n",
      "Batch 23 already processed, skipping...\n",
      "Batch 24 already processed, skipping...\n",
      "Batch 25 already processed, skipping...\n",
      "Batch 26 already processed, skipping...\n",
      "Batch 27 already processed, skipping...\n",
      "Batch 28 already processed, skipping...\n",
      "Batch 29 already processed, skipping...\n",
      "Batch 30 already processed, skipping...\n",
      "Batch 31 already processed, skipping...\n",
      "Batch 32 already processed, skipping...\n",
      "Batch 33 already processed, skipping...\n",
      "Batch 34 already processed, skipping...\n",
      "Batch 35 already processed, skipping...\n",
      "Batch 36 already processed, skipping...\n",
      "Batch 37 already processed, skipping...\n",
      "Batch 38 already processed, skipping...\n",
      "Batch 39 already processed, skipping...\n"
     ]
    },
    {
     "name": "stderr",
     "output_type": "stream",
     "text": [
      "100%|██████████| 100/100 [00:00<00:00, 268.32it/s]\n"
     ]
    },
    {
     "name": "stdout",
     "output_type": "stream",
     "text": [
      "Batch 40 already processed, skipping...\n",
      "Batch 41 already processed, skipping...\n",
      "Batch 42 already processed, skipping...\n",
      "Batch 43 already processed, skipping...\n",
      "Batch 44 already processed, skipping...\n",
      "Batch 45 already processed, skipping...\n",
      "Batch 46 already processed, skipping...\n",
      "Batch 47 already processed, skipping...\n",
      "Batch 48 already processed, skipping...\n",
      "Batch 49 already processed, skipping...\n",
      "Batch 50 already processed, skipping...\n",
      "Batch 51 already processed, skipping...\n",
      "Batch 52 already processed, skipping...\n",
      "Batch 53 already processed, skipping...\n",
      "Batch 54 already processed, skipping...\n",
      "Batch 55 already processed, skipping...\n",
      "Batch 56 already processed, skipping...\n",
      "Batch 57 already processed, skipping...\n",
      "Batch 58 already processed, skipping...\n",
      "Batch 59 already processed, skipping...\n",
      "Batch 60 already processed, skipping...\n",
      "Batch 61 already processed, skipping...\n",
      "Batch 62 already processed, skipping...\n",
      "Batch 63 already processed, skipping...\n",
      "Batch 64 already processed, skipping...\n",
      "Batch 65 already processed, skipping...\n",
      "Batch 66 already processed, skipping...\n",
      "Batch 67 already processed, skipping...\n",
      "Batch 68 already processed, skipping...\n",
      "Batch 69 already processed, skipping...\n",
      "Batch 70 already processed, skipping...\n",
      "Batch 71 already processed, skipping...\n",
      "Batch 72 already processed, skipping...\n",
      "Batch 73 already processed, skipping...\n",
      "Batch 74 already processed, skipping...\n",
      "Batch 75 already processed, skipping...\n",
      "Batch 76 already processed, skipping...\n",
      "Batch 77 already processed, skipping...\n",
      "Batch 78 already processed, skipping...\n",
      "Batch 79 already processed, skipping...\n",
      "Batch 80 already processed, skipping...\n",
      "Batch 81 already processed, skipping...\n",
      "Batch 82 already processed, skipping...\n",
      "Batch 83 already processed, skipping...\n",
      "Batch 84 already processed, skipping...\n",
      "Batch 85 already processed, skipping...\n",
      "Batch 86 already processed, skipping...\n",
      "Batch 87 already processed, skipping...\n",
      "Batch 88 already processed, skipping...\n",
      "Batch 89 already processed, skipping...\n",
      "Batch 90 already processed, skipping...\n",
      "Batch 91 already processed, skipping...\n",
      "Batch 92 already processed, skipping...\n",
      "Batch 93 already processed, skipping...\n",
      "Batch 94 already processed, skipping...\n",
      "Batch 95 already processed, skipping...\n",
      "Batch 96 already processed, skipping...\n",
      "Batch 97 already processed, skipping...\n",
      "Batch 98 already processed, skipping...\n",
      "Batch 99 already processed, skipping...\n",
      "Caption: geogebra applet press enter to start activity\n",
      "Caption similarity score target: 24.7093\n"
     ]
    },
    {
     "name": "stderr",
     "output_type": "stream",
     "text": [
      "  0%|          | 0/100 [00:00<?, ?it/s]"
     ]
    },
    {
     "name": "stdout",
     "output_type": "stream",
     "text": [
      "Batch 0 already processed, skipping...\n",
      "Batch 1 already processed, skipping...\n",
      "Batch 2 already processed, skipping...\n",
      "Batch 3 already processed, skipping...\n",
      "Batch 4 already processed, skipping...\n",
      "Batch 5 already processed, skipping...\n",
      "Batch 6 already processed, skipping...\n",
      "Batch 7 already processed, skipping...\n",
      "Batch 8 already processed, skipping...\n",
      "Batch 9 already processed, skipping...\n",
      "Batch 10 already processed, skipping...\n",
      "Batch 11 already processed, skipping...\n",
      "Batch 12 already processed, skipping...\n",
      "Batch 13 already processed, skipping...\n",
      "Batch 14 already processed, skipping...\n",
      "Batch 15 already processed, skipping...\n",
      "Batch 16 already processed, skipping...\n",
      "Batch 17 already processed, skipping...\n",
      "Batch 18 already processed, skipping...\n",
      "Batch 19 already processed, skipping...\n",
      "Batch 20 already processed, skipping...\n",
      "Batch 21 already processed, skipping...\n",
      "Batch 22 already processed, skipping...\n",
      "Batch 23 already processed, skipping...\n",
      "Batch 24 already processed, skipping...\n",
      "Batch 25 already processed, skipping...\n"
     ]
    },
    {
     "name": "stderr",
     "output_type": "stream",
     "text": [
      " 41%|████      | 41/100 [00:00<00:00, 205.67it/s]"
     ]
    },
    {
     "name": "stdout",
     "output_type": "stream",
     "text": [
      "Batch 26 already processed, skipping...\n",
      "Batch 27 already processed, skipping...\n",
      "Batch 28 already processed, skipping...\n",
      "Batch 29 already processed, skipping...\n",
      "Batch 30 already processed, skipping...\n",
      "Batch 31 already processed, skipping...\n",
      "Batch 32 already processed, skipping...\n",
      "Batch 33 already processed, skipping...\n",
      "Batch 34 already processed, skipping...\n",
      "Batch 35 already processed, skipping...\n",
      "Batch 36 already processed, skipping...\n",
      "Batch 37 already processed, skipping...\n",
      "Batch 38 already processed, skipping...\n",
      "Batch 39 already processed, skipping...\n",
      "Batch 40 already processed, skipping...\n",
      "Batch 41 already processed, skipping...\n",
      "Batch 42 already processed, skipping...\n",
      "Batch 43 already processed, skipping...\n",
      "Batch 44 already processed, skipping...\n",
      "Batch 45 already processed, skipping...\n",
      "Batch 46 already processed, skipping...\n",
      "Batch 47 already processed, skipping...\n",
      "Batch 48 already processed, skipping...\n",
      "Batch 49 already processed, skipping...\n",
      "Batch 50 already processed, skipping...\n",
      "Batch 51 already processed, skipping...\n",
      "Batch 52 already processed, skipping...\n",
      "Batch 53 already processed, skipping...\n",
      "Batch 54 already processed, skipping...\n",
      "Batch 55 already processed, skipping...\n",
      "Batch 56 already processed, skipping...\n",
      "Batch 57 already processed, skipping...\n",
      "Batch 58 already processed, skipping...\n",
      "Batch 59 already processed, skipping...\n",
      "Batch 60 already processed, skipping...\n",
      "Batch 61 already processed, skipping...\n",
      "Batch 62 already processed, skipping...\n",
      "Batch 63 already processed, skipping...\n",
      "Batch 64 already processed, skipping...\n",
      "Batch 65 already processed, skipping...\n",
      "Batch 66 already processed, skipping...\n",
      "Batch 67 already processed, skipping...\n",
      "Batch 68 already processed, skipping...\n"
     ]
    },
    {
     "name": "stderr",
     "output_type": "stream",
     "text": [
      "100%|██████████| 100/100 [00:00<00:00, 298.01it/s]\n"
     ]
    },
    {
     "name": "stdout",
     "output_type": "stream",
     "text": [
      "Batch 69 already processed, skipping...\n",
      "Batch 70 already processed, skipping...\n",
      "Batch 71 already processed, skipping...\n",
      "Batch 72 already processed, skipping...\n",
      "Batch 73 already processed, skipping...\n",
      "Batch 74 already processed, skipping...\n",
      "Batch 75 already processed, skipping...\n",
      "Batch 76 already processed, skipping...\n",
      "Batch 77 already processed, skipping...\n",
      "Batch 78 already processed, skipping...\n",
      "Batch 79 already processed, skipping...\n",
      "Batch 80 already processed, skipping...\n",
      "Batch 81 already processed, skipping...\n",
      "Batch 82 already processed, skipping...\n",
      "Batch 83 already processed, skipping...\n",
      "Batch 84 already processed, skipping...\n",
      "Batch 85 already processed, skipping...\n",
      "Batch 86 already processed, skipping...\n",
      "Batch 87 already processed, skipping...\n",
      "Batch 88 already processed, skipping...\n",
      "Batch 89 already processed, skipping...\n",
      "Batch 90 already processed, skipping...\n",
      "Batch 91 already processed, skipping...\n",
      "Batch 92 already processed, skipping...\n",
      "Batch 93 already processed, skipping...\n",
      "Batch 94 already processed, skipping...\n",
      "Batch 95 already processed, skipping...\n",
      "Batch 96 already processed, skipping...\n",
      "Batch 97 already processed, skipping...\n",
      "Batch 98 already processed, skipping...\n",
      "Batch 99 already processed, skipping...\n",
      "Caption: a black and white drawing of an octahedron\n",
      "Caption similarity score target: 28.0112\n"
     ]
    },
    {
     "name": "stderr",
     "output_type": "stream",
     "text": [
      "  0%|          | 0/100 [00:00<?, ?it/s]"
     ]
    },
    {
     "name": "stdout",
     "output_type": "stream",
     "text": [
      "Batch 0 already processed, skipping...\n",
      "Batch 1 already processed, skipping...\n",
      "Batch 2 already processed, skipping...\n",
      "Batch 3 already processed, skipping...\n",
      "Batch 4 already processed, skipping...\n",
      "Batch 5 already processed, skipping...\n",
      "Batch 6 already processed, skipping...\n",
      "Batch 7 already processed, skipping...\n",
      "Batch 8 already processed, skipping...\n",
      "Batch 9 already processed, skipping...\n",
      "Batch 10 already processed, skipping...\n",
      "Batch 11 already processed, skipping...\n",
      "Batch 12 already processed, skipping...\n",
      "Batch 13 already processed, skipping...\n",
      "Batch 14 already processed, skipping...\n",
      "Batch 15 already processed, skipping...\n",
      "Batch 16 already processed, skipping...\n",
      "Batch 17 already processed, skipping...\n",
      "Batch 18 already processed, skipping...\n",
      "Batch 19 already processed, skipping...\n",
      "Batch 20 already processed, skipping...\n",
      "Batch 21 already processed, skipping...\n",
      "Batch 22 already processed, skipping...\n",
      "Batch 23 already processed, skipping...\n",
      "Batch 24 already processed, skipping...\n",
      "Batch 25 already processed, skipping...\n",
      "Batch 26 already processed, skipping...\n",
      "Batch 27 already processed, skipping...\n",
      "Batch 28 already processed, skipping...\n",
      "Batch 29 already processed, skipping...\n",
      "Batch 30 already processed, skipping...\n",
      "Batch 31 already processed, skipping...\n",
      "Batch 32 already processed, skipping...\n",
      "Batch 33 already processed, skipping...\n",
      "Batch 34 already processed, skipping...\n",
      "Batch 35 already processed, skipping...\n",
      "Batch 36 already processed, skipping...\n",
      "Batch 37 already processed, skipping...\n",
      "Batch 38 already processed, skipping...\n",
      "Batch 39 already processed, skipping...\n"
     ]
    },
    {
     "name": "stderr",
     "output_type": "stream",
     "text": [
      " 41%|████      | 41/100 [00:00<00:00, 200.57it/s]"
     ]
    },
    {
     "name": "stdout",
     "output_type": "stream",
     "text": [
      "Batch 40 already processed, skipping...\n",
      "Batch 41 already processed, skipping...\n",
      "Batch 42 already processed, skipping...\n",
      "Batch 43 already processed, skipping...\n",
      "Batch 44 already processed, skipping...\n",
      "Batch 45 already processed, skipping...\n",
      "Batch 46 already processed, skipping...\n",
      "Batch 47 already processed, skipping...\n",
      "Batch 48 already processed, skipping...\n",
      "Batch 49 already processed, skipping...\n",
      "Batch 50 already processed, skipping...\n",
      "Batch 51 already processed, skipping...\n",
      "Batch 52 already processed, skipping...\n",
      "Batch 53 already processed, skipping...\n",
      "Batch 54 already processed, skipping...\n",
      "Batch 55 already processed, skipping...\n",
      "Batch 56 already processed, skipping...\n",
      "Batch 57 already processed, skipping...\n",
      "Batch 58 already processed, skipping...\n",
      "Batch 59 already processed, skipping...\n",
      "Batch 60 already processed, skipping...\n",
      "Batch 61 already processed, skipping...\n",
      "Batch 62 already processed, skipping...\n",
      "Batch 63 already processed, skipping...\n",
      "Batch 64 already processed, skipping...\n",
      "Batch 65 already processed, skipping...\n",
      "Batch 66 already processed, skipping...\n",
      "Batch 67 already processed, skipping...\n",
      "Batch 68 already processed, skipping...\n"
     ]
    },
    {
     "name": "stderr",
     "output_type": "stream",
     "text": [
      "100%|██████████| 100/100 [00:00<00:00, 292.47it/s]\n"
     ]
    },
    {
     "name": "stdout",
     "output_type": "stream",
     "text": [
      "Batch 69 already processed, skipping...\n",
      "Batch 70 already processed, skipping...\n",
      "Batch 71 already processed, skipping...\n",
      "Batch 72 already processed, skipping...\n",
      "Batch 73 already processed, skipping...\n",
      "Batch 74 already processed, skipping...\n",
      "Batch 75 already processed, skipping...\n",
      "Batch 76 already processed, skipping...\n",
      "Batch 77 already processed, skipping...\n",
      "Batch 78 already processed, skipping...\n",
      "Batch 79 already processed, skipping...\n",
      "Batch 80 already processed, skipping...\n",
      "Batch 81 already processed, skipping...\n",
      "Batch 82 already processed, skipping...\n",
      "Batch 83 already processed, skipping...\n",
      "Batch 84 already processed, skipping...\n",
      "Batch 85 already processed, skipping...\n",
      "Batch 86 already processed, skipping...\n",
      "Batch 87 already processed, skipping...\n",
      "Batch 88 already processed, skipping...\n",
      "Batch 89 already processed, skipping...\n",
      "Batch 90 already processed, skipping...\n",
      "Batch 91 already processed, skipping...\n",
      "Batch 92 already processed, skipping...\n",
      "Batch 93 already processed, skipping...\n",
      "Batch 94 already processed, skipping...\n",
      "Batch 95 already processed, skipping...\n",
      "Batch 96 already processed, skipping...\n",
      "Batch 97 already processed, skipping...\n",
      "Batch 98 already processed, skipping...\n",
      "Batch 99 already processed, skipping...\n",
      "Caption: randomized heatmap\n",
      "Caption similarity score target: 33.1302\n"
     ]
    },
    {
     "name": "stderr",
     "output_type": "stream",
     "text": [
      "  0%|          | 0/100 [00:00<?, ?it/s]"
     ]
    },
    {
     "name": "stdout",
     "output_type": "stream",
     "text": [
      "Batch 0 already processed, skipping...\n",
      "Batch 1 already processed, skipping...\n",
      "Batch 2 already processed, skipping...\n",
      "Batch 3 already processed, skipping...\n",
      "Batch 4 already processed, skipping...\n",
      "Batch 5 already processed, skipping...\n",
      "Batch 6 already processed, skipping...\n",
      "Batch 7 already processed, skipping...\n",
      "Batch 8 already processed, skipping...\n",
      "Batch 9 already processed, skipping...\n",
      "Batch 10 already processed, skipping...\n",
      "Batch 11 already processed, skipping...\n",
      "Batch 12 already processed, skipping...\n",
      "Batch 13 already processed, skipping...\n",
      "Batch 14 already processed, skipping...\n",
      "Batch 15 already processed, skipping...\n",
      "Batch 16 already processed, skipping...\n",
      "Batch 17 already processed, skipping...\n",
      "Batch 18 already processed, skipping...\n",
      "Batch 19 already processed, skipping...\n",
      "Batch 20 already processed, skipping...\n",
      "Batch 21 already processed, skipping...\n",
      "Batch 22 already processed, skipping...\n",
      "Batch 23 already processed, skipping...\n",
      "Batch 24 already processed, skipping...\n",
      "Batch 25 already processed, skipping...\n",
      "Batch 26 already processed, skipping...\n",
      "Batch 27 already processed, skipping...\n",
      "Batch 28 already processed, skipping...\n",
      "Batch 29 already processed, skipping...\n",
      "Batch 30 already processed, skipping...\n",
      "Batch 31 already processed, skipping...\n",
      "Batch 32 already processed, skipping...\n",
      "Batch 33 already processed, skipping...\n",
      "Batch 34 already processed, skipping...\n",
      "Batch 35 already processed, skipping...\n",
      "Batch 36 already processed, skipping...\n",
      "Batch 37 already processed, skipping...\n",
      "Batch 38 already processed, skipping...\n",
      "Batch 39 already processed, skipping...\n",
      "Batch 40 already processed, skipping..."
     ]
    },
    {
     "name": "stderr",
     "output_type": "stream",
     "text": [
      " 41%|████      | 41/100 [00:00<00:00, 189.00it/s]"
     ]
    },
    {
     "name": "stdout",
     "output_type": "stream",
     "text": [
      "\n",
      "Batch 41 already processed, skipping...\n",
      "Batch 42 already processed, skipping...\n",
      "Batch 43 already processed, skipping...\n",
      "Batch 44 already processed, skipping...\n",
      "Batch 45 already processed, skipping...\n"
     ]
    },
    {
     "name": "stderr",
     "output_type": "stream",
     "text": [
      "100%|██████████| 100/100 [00:00<00:00, 283.36it/s]\n"
     ]
    },
    {
     "name": "stdout",
     "output_type": "stream",
     "text": [
      "Batch 46 already processed, skipping...\n",
      "Batch 47 already processed, skipping...\n",
      "Batch 48 already processed, skipping...\n",
      "Batch 49 already processed, skipping...\n",
      "Batch 50 already processed, skipping...\n",
      "Batch 51 already processed, skipping...\n",
      "Batch 52 already processed, skipping...\n",
      "Batch 53 already processed, skipping...\n",
      "Batch 54 already processed, skipping...\n",
      "Batch 55 already processed, skipping...\n",
      "Batch 56 already processed, skipping...\n",
      "Batch 57 already processed, skipping...\n",
      "Batch 58 already processed, skipping...\n",
      "Batch 59 already processed, skipping...\n",
      "Batch 60 already processed, skipping...\n",
      "Batch 61 already processed, skipping...\n",
      "Batch 62 already processed, skipping...\n",
      "Batch 63 already processed, skipping...\n",
      "Batch 64 already processed, skipping...\n",
      "Batch 65 already processed, skipping...\n",
      "Batch 66 already processed, skipping...\n",
      "Batch 67 already processed, skipping...\n",
      "Batch 68 already processed, skipping...\n",
      "Batch 69 already processed, skipping...\n",
      "Batch 70 already processed, skipping...\n",
      "Batch 71 already processed, skipping...\n",
      "Batch 72 already processed, skipping...\n",
      "Batch 73 already processed, skipping...\n",
      "Batch 74 already processed, skipping...\n",
      "Batch 75 already processed, skipping...\n",
      "Batch 76 already processed, skipping...\n",
      "Batch 77 already processed, skipping...\n",
      "Batch 78 already processed, skipping...\n",
      "Batch 79 already processed, skipping...\n",
      "Batch 80 already processed, skipping...\n",
      "Batch 81 already processed, skipping...\n",
      "Batch 82 already processed, skipping...\n",
      "Batch 83 already processed, skipping...\n",
      "Batch 84 already processed, skipping...\n",
      "Batch 85 already processed, skipping...\n",
      "Batch 86 already processed, skipping...\n",
      "Batch 87 already processed, skipping...\n",
      "Batch 88 already processed, skipping...\n",
      "Batch 89 already processed, skipping...\n",
      "Batch 90 already processed, skipping...\n",
      "Batch 91 already processed, skipping...\n",
      "Batch 92 already processed, skipping...\n",
      "Batch 93 already processed, skipping...\n",
      "Batch 94 already processed, skipping...\n",
      "Batch 95 already processed, skipping...\n",
      "Batch 96 already processed, skipping...\n",
      "Batch 97 already processed, skipping...\n",
      "Batch 98 already processed, skipping...\n",
      "Batch 99 already processed, skipping...\n",
      "Caption: a man is riding a bike on a hill\n",
      "Caption similarity score target: 16.8991\n"
     ]
    },
    {
     "name": "stderr",
     "output_type": "stream",
     "text": [
      "  0%|          | 0/100 [00:00<?, ?it/s]"
     ]
    },
    {
     "name": "stdout",
     "output_type": "stream",
     "text": [
      "Batch 0 already processed, skipping...\n",
      "Batch 1 already processed, skipping...\n",
      "Batch 2 already processed, skipping...\n",
      "Batch 3 already processed, skipping...\n",
      "Batch 4 already processed, skipping...\n",
      "Batch 5 already processed, skipping...\n",
      "Batch 6 already processed, skipping...\n",
      "Batch 7 already processed, skipping...\n",
      "Batch 8 already processed, skipping...\n",
      "Batch 9 already processed, skipping...\n",
      "Batch 10 already processed, skipping...\n",
      "Batch 11 already processed, skipping...\n",
      "Batch 12 already processed, skipping...\n",
      "Batch 13 already processed, skipping...\n",
      "Batch 14 already processed, skipping...\n",
      "Batch 15 already processed, skipping...\n",
      "Batch 16 already processed, skipping...\n",
      "Batch 17 already processed, skipping...\n",
      "Batch 18 already processed, skipping...\n",
      "Batch 19 already processed, skipping...\n",
      "Batch 20 already processed, skipping...\n",
      "Batch 21 already processed, skipping...\n",
      "Batch 22 already processed, skipping...\n",
      "Batch 23 already processed, skipping...\n",
      "Batch 24 already processed, skipping...\n",
      "Batch 25 already processed, skipping...\n",
      "Batch 26 already processed, skipping...\n",
      "Batch 27 already processed, skipping...\n",
      "Batch 28 already processed, skipping...\n",
      "Batch 29 already processed, skipping...\n",
      "Batch 30 already processed, skipping...\n",
      "Batch 31 already processed, skipping...\n",
      "Batch 32 already processed, skipping...\n",
      "Batch 33 already processed, skipping...\n",
      "Batch 34 already processed, skipping...\n",
      "Batch 35 already processed, skipping...\n",
      "Batch 36 already processed, skipping...\n",
      "Batch 37 already processed, skipping...\n",
      "Batch 38 already processed, skipping...\n",
      "Batch 39 already processed, skipping...\n"
     ]
    },
    {
     "name": "stderr",
     "output_type": "stream",
     "text": [
      " 41%|████      | 41/100 [00:00<00:00, 186.58it/s]"
     ]
    },
    {
     "name": "stdout",
     "output_type": "stream",
     "text": [
      "Batch 40 already processed, skipping...\n",
      "Batch 41 already processed, skipping...\n",
      "Batch 42 already processed, skipping...\n",
      "Batch 43 already processed, skipping...\n",
      "Batch 44 already processed, skipping...\n",
      "Batch 45 already processed, skipping...\n",
      "Batch 46 already processed, skipping...\n",
      "Batch 47 already processed, skipping...\n",
      "Batch 48 already processed, skipping...\n",
      "Batch 49 already processed, skipping...\n",
      "Batch 50 already processed, skipping...\n",
      "Batch 51 already processed, skipping...\n",
      "Batch 52 already processed, skipping...\n",
      "Batch 53 already processed, skipping...\n",
      "Batch 54 already processed, skipping...\n",
      "Batch 55 already processed, skipping...\n",
      "Batch 56 already processed, skipping...\n",
      "Batch 57 already processed, skipping...\n",
      "Batch 58 already processed, skipping...\n",
      "Batch 59 already processed, skipping...\n",
      "Batch 60 already processed, skipping...\n",
      "Batch 61 already processed, skipping...\n",
      "Batch 62 already processed, skipping...\n",
      "Batch 63 already processed, skipping...\n",
      "Batch 64 already processed, skipping...\n",
      "Batch 65 already processed, skipping...\n",
      "Batch 66 already processed, skipping...\n",
      "Batch 67 already processed, skipping...\n",
      "Batch 68 already processed, skipping...\n"
     ]
    },
    {
     "name": "stderr",
     "output_type": "stream",
     "text": [
      "100%|██████████| 100/100 [00:00<00:00, 267.58it/s]\n"
     ]
    },
    {
     "name": "stdout",
     "output_type": "stream",
     "text": [
      "Batch 69 already processed, skipping...\n",
      "Batch 70 already processed, skipping...\n",
      "Batch 71 already processed, skipping...\n",
      "Batch 72 already processed, skipping...\n",
      "Batch 73 already processed, skipping...\n",
      "Batch 74 already processed, skipping...\n",
      "Batch 75 already processed, skipping...\n",
      "Batch 76 already processed, skipping...\n",
      "Batch 77 already processed, skipping...\n",
      "Batch 78 already processed, skipping...\n",
      "Batch 79 already processed, skipping...\n",
      "Batch 80 already processed, skipping...\n",
      "Batch 81 already processed, skipping...\n",
      "Batch 82 already processed, skipping...\n",
      "Batch 83 already processed, skipping...\n",
      "Batch 84 already processed, skipping...\n",
      "Batch 85 already processed, skipping...\n",
      "Batch 86 already processed, skipping...\n",
      "Batch 87 already processed, skipping...\n",
      "Batch 88 already processed, skipping...\n",
      "Batch 89 already processed, skipping...\n",
      "Batch 90 already processed, skipping...\n",
      "Batch 91 already processed, skipping...\n",
      "Batch 92 already processed, skipping...\n",
      "Batch 93 already processed, skipping...\n",
      "Batch 94 already processed, skipping...\n",
      "Batch 95 already processed, skipping...\n",
      "Batch 96 already processed, skipping...\n",
      "Batch 97 already processed, skipping...\n",
      "Batch 98 already processed, skipping...\n",
      "Batch 99 already processed, skipping...\n",
      "Caption: a map of the united states with blue water\n",
      "Caption similarity score target: 22.9538\n"
     ]
    },
    {
     "name": "stderr",
     "output_type": "stream",
     "text": [
      "  0%|          | 0/100 [00:00<?, ?it/s]"
     ]
    },
    {
     "name": "stdout",
     "output_type": "stream",
     "text": [
      "Batch 0 already processed, skipping...\n",
      "Batch 1 already processed, skipping...\n",
      "Batch 2 already processed, skipping...\n",
      "Batch 3 already processed, skipping...\n",
      "Batch 4 already processed, skipping...\n",
      "Batch 5 already processed, skipping...\n",
      "Batch 6 already processed, skipping...\n",
      "Batch 7 already processed, skipping...\n",
      "Batch 8 already processed, skipping...\n",
      "Batch 9 already processed, skipping...\n",
      "Batch 10 already processed, skipping...\n",
      "Batch 11 already processed, skipping...\n",
      "Batch 12 already processed, skipping...\n",
      "Batch 13 already processed, skipping...\n",
      "Batch 14 already processed, skipping...\n",
      "Batch 15 already processed, skipping...\n",
      "Batch 16 already processed, skipping...\n",
      "Batch 17 already processed, skipping...\n",
      "Batch 18 already processed, skipping...\n",
      "Batch 19 already processed, skipping...\n",
      "Batch 20 already processed, skipping...\n",
      "Batch 21 already processed, skipping...\n",
      "Batch 22 already processed, skipping...\n",
      "Batch 23 already processed, skipping...\n",
      "Batch 24 already processed, skipping...\n",
      "Batch 25 already processed, skipping...\n",
      "Batch 26 already processed, skipping...\n",
      "Batch 27 already processed, skipping...\n",
      "Batch 28 already processed, skipping...\n",
      "Batch 29 already processed, skipping...\n",
      "Batch 30 already processed, skipping...\n",
      "Batch 31 already processed, skipping...\n",
      "Batch 32 already processed, skipping...\n",
      "Batch 33 already processed, skipping...\n",
      "Batch 34 already processed, skipping...\n",
      "Batch 35 already processed, skipping...\n",
      "Batch 36 already processed, skipping...\n",
      "Batch 37 already processed, skipping...\n",
      "Batch 38 already processed, skipping...\n",
      "Batch 39 already processed, skipping...\n"
     ]
    },
    {
     "name": "stderr",
     "output_type": "stream",
     "text": [
      " 41%|████      | 41/100 [00:00<00:00, 194.91it/s]"
     ]
    },
    {
     "name": "stdout",
     "output_type": "stream",
     "text": [
      "Batch 40 already processed, skipping...\n",
      "Batch 41 already processed, skipping...\n",
      "Batch 42 already processed, skipping...\n",
      "Batch 43 already processed, skipping...\n",
      "Batch 44 already processed, skipping...\n"
     ]
    },
    {
     "name": "stderr",
     "output_type": "stream",
     "text": [
      "100%|██████████| 100/100 [00:00<00:00, 281.18it/s]\n"
     ]
    },
    {
     "name": "stdout",
     "output_type": "stream",
     "text": [
      "Batch 45 already processed, skipping...\n",
      "Batch 46 already processed, skipping...\n",
      "Batch 47 already processed, skipping...\n",
      "Batch 48 already processed, skipping...\n",
      "Batch 49 already processed, skipping...\n",
      "Batch 50 already processed, skipping...\n",
      "Batch 51 already processed, skipping...\n",
      "Batch 52 already processed, skipping...\n",
      "Batch 53 already processed, skipping...\n",
      "Batch 54 already processed, skipping...\n",
      "Batch 55 already processed, skipping...\n",
      "Batch 56 already processed, skipping...\n",
      "Batch 57 already processed, skipping...\n",
      "Batch 58 already processed, skipping...\n",
      "Batch 59 already processed, skipping...\n",
      "Batch 60 already processed, skipping...\n",
      "Batch 61 already processed, skipping...\n",
      "Batch 62 already processed, skipping...\n",
      "Batch 63 already processed, skipping...\n",
      "Batch 64 already processed, skipping...\n",
      "Batch 65 already processed, skipping...\n",
      "Batch 66 already processed, skipping...\n",
      "Batch 67 already processed, skipping...\n",
      "Batch 68 already processed, skipping...\n",
      "Batch 69 already processed, skipping...\n",
      "Batch 70 already processed, skipping...\n",
      "Batch 71 already processed, skipping...\n",
      "Batch 72 already processed, skipping...\n",
      "Batch 73 already processed, skipping...\n",
      "Batch 74 already processed, skipping...\n",
      "Batch 75 already processed, skipping...\n",
      "Batch 76 already processed, skipping...\n",
      "Batch 77 already processed, skipping...\n",
      "Batch 78 already processed, skipping...\n",
      "Batch 79 already processed, skipping...\n",
      "Batch 80 already processed, skipping...\n",
      "Batch 81 already processed, skipping...\n",
      "Batch 82 already processed, skipping...\n",
      "Batch 83 already processed, skipping...\n",
      "Batch 84 already processed, skipping...\n",
      "Batch 85 already processed, skipping...\n",
      "Batch 86 already processed, skipping...\n",
      "Batch 87 already processed, skipping...\n",
      "Batch 88 already processed, skipping...\n",
      "Batch 89 already processed, skipping...\n",
      "Batch 90 already processed, skipping...\n",
      "Batch 91 already processed, skipping...\n",
      "Batch 92 already processed, skipping...\n",
      "Batch 93 already processed, skipping...\n",
      "Batch 94 already processed, skipping...\n",
      "Batch 95 already processed, skipping...\n",
      "Batch 96 already processed, skipping...\n",
      "Batch 97 already processed, skipping...\n",
      "Batch 98 already processed, skipping...\n",
      "Batch 99 already processed, skipping...\n",
      "Caption: an x - ray image of a human skull\n",
      "Caption similarity score target: 29.3401\n"
     ]
    },
    {
     "name": "stderr",
     "output_type": "stream",
     "text": [
      "  0%|          | 0/100 [00:00<?, ?it/s]"
     ]
    },
    {
     "name": "stdout",
     "output_type": "stream",
     "text": [
      "Batch 0 already processed, skipping...\n",
      "Batch 1 already processed, skipping...\n",
      "Batch 2 already processed, skipping...\n",
      "Batch 3 already processed, skipping...\n",
      "Batch 4 already processed, skipping...\n",
      "Batch 5 already processed, skipping...\n",
      "Batch 6 already processed, skipping...\n",
      "Batch 7 already processed, skipping...\n",
      "Batch 8 already processed, skipping...\n",
      "Batch 9 already processed, skipping...\n",
      "Batch 10 already processed, skipping...\n",
      "Batch 11 already processed, skipping...\n",
      "Batch 12 already processed, skipping...\n",
      "Batch 13 already processed, skipping...\n",
      "Batch 14 already processed, skipping...\n",
      "Batch 15 already processed, skipping...\n",
      "Batch 16 already processed, skipping...\n",
      "Batch 17 already processed, skipping...\n",
      "Batch 18 already processed, skipping...\n",
      "Batch 19 already processed, skipping...\n",
      "Batch 20 already processed, skipping...\n",
      "Batch 21 already processed, skipping...\n",
      "Batch 22 already processed, skipping...\n",
      "Batch 23 already processed, skipping...\n",
      "Batch 24 already processed, skipping...\n",
      "Batch 25 already processed, skipping...\n",
      "Batch 26 already processed, skipping...\n",
      "Batch 27 already processed, skipping...\n",
      "Batch 28 already processed, skipping...\n",
      "Batch 29 already processed, skipping...\n",
      "Batch 30 already processed, skipping...\n",
      "Batch 31 already processed, skipping...\n",
      "Batch 32 already processed, skipping...\n",
      "Batch 33 already processed, skipping...\n",
      "Batch 34 already processed, skipping...\n",
      "Batch 35 already processed, skipping...\n",
      "Batch 36 already processed, skipping...\n",
      "Batch 37 already processed, skipping...\n",
      "Batch 38 already processed, skipping...\n",
      "Batch 39 already processed, skipping...\n"
     ]
    },
    {
     "name": "stderr",
     "output_type": "stream",
     "text": [
      " 41%|████      | 41/100 [00:00<00:00, 197.56it/s]"
     ]
    },
    {
     "name": "stdout",
     "output_type": "stream",
     "text": [
      "Batch 40 already processed, skipping...\n",
      "Batch 41 already processed, skipping...\n",
      "Batch 42 already processed, skipping...\n",
      "Batch 43 already processed, skipping...\n",
      "Batch 44 already processed, skipping...\n",
      "Batch 45 already processed, skipping...\n",
      "Batch 46 already processed, skipping...\n",
      "Batch 47 already processed, skipping...\n",
      "Batch 48 already processed, skipping...\n",
      "Batch 49 already processed, skipping...\n",
      "Batch 50 already processed, skipping...\n",
      "Batch 51 already processed, skipping...\n",
      "Batch 52 already processed, skipping...\n",
      "Batch 53 already processed, skipping...\n",
      "Batch 54 already processed, skipping...\n",
      "Batch 55 already processed, skipping...\n",
      "Batch 56 already processed, skipping...\n",
      "Batch 57 already processed, skipping...\n",
      "Batch 58 already processed, skipping...\n",
      "Batch 59 already processed, skipping...\n",
      "Batch 60 already processed, skipping...\n",
      "Batch 61 already processed, skipping...\n",
      "Batch 62 already processed, skipping...\n",
      "Batch 63 already processed, skipping...\n",
      "Batch 64 already processed, skipping...\n",
      "Batch 65 already processed, skipping...\n",
      "Batch 66 already processed, skipping...\n",
      "Batch 67 already processed, skipping...\n",
      "Batch 68 already processed, skipping...\n"
     ]
    },
    {
     "name": "stderr",
     "output_type": "stream",
     "text": [
      "100%|██████████| 100/100 [00:00<00:00, 287.52it/s]\n"
     ]
    },
    {
     "name": "stdout",
     "output_type": "stream",
     "text": [
      "Batch 69 already processed, skipping...\n",
      "Batch 70 already processed, skipping...\n",
      "Batch 71 already processed, skipping...\n",
      "Batch 72 already processed, skipping...\n",
      "Batch 73 already processed, skipping...\n",
      "Batch 74 already processed, skipping...\n",
      "Batch 75 already processed, skipping...\n",
      "Batch 76 already processed, skipping...\n",
      "Batch 77 already processed, skipping...\n",
      "Batch 78 already processed, skipping...\n",
      "Batch 79 already processed, skipping...\n",
      "Batch 80 already processed, skipping...\n",
      "Batch 81 already processed, skipping...\n",
      "Batch 82 already processed, skipping...\n",
      "Batch 83 already processed, skipping...\n",
      "Batch 84 already processed, skipping...\n",
      "Batch 85 already processed, skipping...\n",
      "Batch 86 already processed, skipping...\n",
      "Batch 87 already processed, skipping...\n",
      "Batch 88 already processed, skipping...\n",
      "Batch 89 already processed, skipping...\n",
      "Batch 90 already processed, skipping...\n",
      "Batch 91 already processed, skipping...\n",
      "Batch 92 already processed, skipping...\n",
      "Batch 93 already processed, skipping...\n",
      "Batch 94 already processed, skipping...\n",
      "Batch 95 already processed, skipping...\n",
      "Batch 96 already processed, skipping...\n",
      "Batch 97 already processed, skipping...\n",
      "Batch 98 already processed, skipping...\n",
      "Batch 99 already processed, skipping...\n",
      "Caption: president trump and president barack obama laughing\n",
      "Caption similarity score target: 33.5238\n"
     ]
    },
    {
     "name": "stderr",
     "output_type": "stream",
     "text": [
      "  0%|          | 0/100 [00:00<?, ?it/s]"
     ]
    },
    {
     "name": "stdout",
     "output_type": "stream",
     "text": [
      "Batch 0 already processed, skipping...\n",
      "Batch 1 already processed, skipping...\n",
      "Batch 2 already processed, skipping...\n",
      "Batch 3 already processed, skipping...\n",
      "Batch 4 already processed, skipping...\n",
      "Batch 5 already processed, skipping...\n",
      "Batch 6 already processed, skipping...\n",
      "Batch 7 already processed, skipping...\n",
      "Batch 8 already processed, skipping...\n",
      "Batch 9 already processed, skipping...\n",
      "Batch 10 already processed, skipping...\n",
      "Batch 11 already processed, skipping...\n",
      "Batch 12 already processed, skipping...\n",
      "Batch 13 already processed, skipping...\n",
      "Batch 14 already processed, skipping...\n",
      "Batch 15 already processed, skipping...\n",
      "Batch 16 already processed, skipping...\n",
      "Batch 17 already processed, skipping...\n",
      "Batch 18 already processed, skipping...\n",
      "Batch 19 already processed, skipping...\n",
      "Batch 20 already processed, skipping...\n",
      "Batch 21 already processed, skipping...\n",
      "Batch 22 already processed, skipping...\n",
      "Batch 23 already processed, skipping...\n",
      "Batch 24 already processed, skipping...\n",
      "Batch 25 already processed, skipping...\n"
     ]
    },
    {
     "name": "stderr",
     "output_type": "stream",
     "text": [
      " 38%|███▊      | 38/100 [00:00<00:00, 371.22it/s]"
     ]
    },
    {
     "name": "stdout",
     "output_type": "stream",
     "text": [
      "Batch 26 already processed, skipping...\n",
      "Batch 27 already processed, skipping...\n",
      "Batch 28 already processed, skipping...\n",
      "Batch 29 already processed, skipping...\n",
      "Batch 30 already processed, skipping...\n",
      "Batch 31 already processed, skipping...\n",
      "Batch 32 already processed, skipping...\n",
      "Batch 33 already processed, skipping...\n",
      "Batch 34 already processed, skipping...\n",
      "Batch 35 already processed, skipping...\n",
      "Batch 36 already processed, skipping...\n",
      "Batch 37 already processed, skipping...\n",
      "Batch 38 already processed, skipping...\n",
      "Batch 39 already processed, skipping...\n",
      "Batch 40 already processed, skipping...\n",
      "Batch 41 already processed, skipping...\n",
      "Batch 42 already processed, skipping...\n",
      "Batch 43 already processed, skipping...\n",
      "Batch 44 already processed, skipping...\n",
      "Batch 45 already processed, skipping...\n",
      "Batch 46 already processed, skipping...\n",
      "Batch 47 already processed, skipping...\n",
      "Batch 48 already processed, skipping...\n",
      "Batch 49 already processed, skipping...\n",
      "Batch 50 already processed, skipping...\n",
      "Batch 51 already processed, skipping...\n",
      "Batch 52 already processed, skipping...\n",
      "Batch 53 already processed, skipping...\n",
      "Batch 54 already processed, skipping...\n",
      "Batch 55 already processed, skipping...\n",
      "Batch 56 already processed, skipping...\n",
      "Batch 57 already processed, skipping...\n",
      "Batch 58 already processed, skipping...\n",
      "Batch 59 already processed, skipping...\n",
      "Batch 60 already processed, skipping...\n",
      "Batch 61 already processed, skipping...\n",
      "Batch 62 already processed, skipping...\n",
      "Batch 63 already processed, skipping...\n",
      "Batch 64 already processed, skipping...\n",
      "Batch 65 already processed, skipping...\n",
      "Batch 66 already processed, skipping...\n",
      "Batch 67 already processed, skipping...\n",
      "Batch 68 already processed, skipping...\n"
     ]
    },
    {
     "name": "stderr",
     "output_type": "stream",
     "text": [
      "100%|██████████| 100/100 [00:00<00:00, 278.13it/s]\n"
     ]
    },
    {
     "name": "stdout",
     "output_type": "stream",
     "text": [
      "Batch 69 already processed, skipping...\n",
      "Batch 70 already processed, skipping...\n",
      "Batch 71 already processed, skipping...\n",
      "Batch 72 already processed, skipping...\n",
      "Batch 73 already processed, skipping...\n",
      "Batch 74 already processed, skipping...\n",
      "Batch 75 already processed, skipping...\n",
      "Batch 76 already processed, skipping...\n",
      "Batch 77 already processed, skipping...\n",
      "Batch 78 already processed, skipping...\n",
      "Batch 79 already processed, skipping...\n",
      "Batch 80 already processed, skipping...\n",
      "Batch 81 already processed, skipping...\n",
      "Batch 82 already processed, skipping...\n",
      "Batch 83 already processed, skipping...\n",
      "Batch 84 already processed, skipping...\n",
      "Batch 85 already processed, skipping...\n",
      "Batch 86 already processed, skipping...\n",
      "Batch 87 already processed, skipping...\n",
      "Batch 88 already processed, skipping...\n",
      "Batch 89 already processed, skipping...\n",
      "Batch 90 already processed, skipping...\n",
      "Batch 91 already processed, skipping...\n",
      "Batch 92 already processed, skipping...\n",
      "Batch 93 already processed, skipping...\n",
      "Batch 94 already processed, skipping...\n",
      "Batch 95 already processed, skipping...\n",
      "Batch 96 already processed, skipping...\n",
      "Batch 97 already processed, skipping...\n",
      "Batch 98 already processed, skipping...\n",
      "Batch 99 already processed, skipping...\n",
      "Caption: random pie chart\n",
      "Caption similarity score target: 29.3509\n"
     ]
    },
    {
     "name": "stderr",
     "output_type": "stream",
     "text": [
      "  0%|          | 0/100 [00:00<?, ?it/s]"
     ]
    },
    {
     "name": "stdout",
     "output_type": "stream",
     "text": [
      "Batch 0 already processed, skipping...\n",
      "Batch 1 already processed, skipping...\n",
      "Batch 2 already processed, skipping...\n",
      "Batch 3 already processed, skipping...\n",
      "Batch 4 already processed, skipping...\n",
      "Batch 5 already processed, skipping...\n",
      "Batch 6 already processed, skipping...\n",
      "Batch 7 already processed, skipping...\n",
      "Batch 8 already processed, skipping...\n",
      "Batch 9 already processed, skipping...\n",
      "Batch 10 already processed, skipping...\n",
      "Batch 11 already processed, skipping...\n",
      "Batch 12 already processed, skipping...\n",
      "Batch 13 already processed, skipping...\n",
      "Batch 14 already processed, skipping...\n",
      "Batch 15 already processed, skipping...\n",
      "Batch 16 already processed, skipping...\n",
      "Batch 17 already processed, skipping...\n",
      "Batch 18 already processed, skipping...\n",
      "Batch 19 already processed, skipping...\n",
      "Batch 20 already processed, skipping...\n",
      "Batch 21 already processed, skipping...\n",
      "Batch 22 already processed, skipping...\n",
      "Batch 23 already processed, skipping...\n",
      "Batch 24 already processed, skipping...\n",
      "Batch 25 already processed, skipping...\n",
      "Batch 26 already processed, skipping...\n",
      "Batch 27 already processed, skipping...\n",
      "Batch 28 already processed, skipping...\n",
      "Batch 29 already processed, skipping...\n",
      "Batch 30 already processed, skipping...\n",
      "Batch 31 already processed, skipping...\n",
      "Batch 32 already processed, skipping...\n",
      "Batch 33 already processed, skipping...\n",
      "Batch 34 already processed, skipping...\n",
      "Batch 35 already processed, skipping...\n",
      "Batch 36 already processed, skipping...\n",
      "Batch 37 already processed, skipping...\n",
      "Batch 38 already processed, skipping...\n",
      "Batch 39 already processed, skipping...\n"
     ]
    },
    {
     "name": "stderr",
     "output_type": "stream",
     "text": [
      " 41%|████      | 41/100 [00:00<00:00, 192.11it/s]"
     ]
    },
    {
     "name": "stdout",
     "output_type": "stream",
     "text": [
      "Batch 40 already processed, skipping...\n",
      "Batch 41 already processed, skipping...\n"
     ]
    },
    {
     "name": "stderr",
     "output_type": "stream",
     "text": [
      " 70%|███████   | 70/100 [00:00<00:00, 204.87it/s]"
     ]
    },
    {
     "name": "stdout",
     "output_type": "stream",
     "text": [
      "Batch 42 already processed, skipping...\n",
      "Batch 43 already processed, skipping...\n",
      "Batch 44 already processed, skipping...\n",
      "Batch 45 already processed, skipping...\n",
      "Batch 46 already processed, skipping...\n",
      "Batch 47 already processed, skipping...\n",
      "Batch 48 already processed, skipping...\n",
      "Batch 49 already processed, skipping...\n",
      "Batch 50 already processed, skipping...\n",
      "Batch 51 already processed, skipping...\n",
      "Batch 52 already processed, skipping...\n",
      "Batch 53 already processed, skipping...\n",
      "Batch 54 already processed, skipping...\n",
      "Batch 55 already processed, skipping...\n",
      "Batch 56 already processed, skipping...\n",
      "Batch 57 already processed, skipping...\n",
      "Batch 58 already processed, skipping...\n",
      "Batch 59 already processed, skipping...\n",
      "Batch 60 already processed, skipping...\n",
      "Batch 61 already processed, skipping...\n",
      "Batch 62 already processed, skipping...\n",
      "Batch 63 already processed, skipping...\n",
      "Batch 64 already processed, skipping...\n",
      "Batch 65 already processed, skipping...\n",
      "Batch 66 already processed, skipping...\n",
      "Batch 67 already processed, skipping...\n",
      "Batch 68 already processed, skipping...\n",
      "Batch 69 already processed, skipping...\n",
      "Batch 70 already processed, skipping...\n",
      "Batch 71 already processed, skipping...\n",
      "Batch 72 already processed, skipping...\n",
      "Batch 73 already processed, skipping...\n",
      "Batch 74 already processed, skipping...\n",
      "Batch 75 already processed, skipping...\n",
      "Batch 76 already processed, skipping...\n",
      "Batch 77 already processed, skipping...\n",
      "Batch 78 already processed, skipping...\n",
      "Batch 79 already processed, skipping...\n",
      "Batch 80 already processed, skipping...\n"
     ]
    },
    {
     "name": "stderr",
     "output_type": "stream",
     "text": [
      "100%|██████████| 100/100 [00:00<00:00, 190.11it/s]\n"
     ]
    },
    {
     "name": "stdout",
     "output_type": "stream",
     "text": [
      "Batch 81 already processed, skipping...\n",
      "Batch 82 already processed, skipping...\n",
      "Batch 83 already processed, skipping...\n",
      "Batch 84 already processed, skipping...\n",
      "Batch 85 already processed, skipping...\n",
      "Batch 86 already processed, skipping...\n",
      "Batch 87 already processed, skipping...\n",
      "Batch 88 already processed, skipping...\n",
      "Batch 89 already processed, skipping...\n",
      "Batch 90 already processed, skipping...\n",
      "Batch 91 already processed, skipping...\n",
      "Batch 92 already processed, skipping...\n",
      "Batch 93 already processed, skipping...\n",
      "Batch 94 already processed, skipping...\n",
      "Batch 95 already processed, skipping...\n",
      "Batch 96 already processed, skipping...\n",
      "Batch 97 already processed, skipping...\n",
      "Batch 98 already processed, skipping...\n",
      "Batch 99 already processed, skipping...\n",
      "Caption: a worksheet with four question figures and answer figures\n",
      "Caption similarity score target: 24.2218\n"
     ]
    },
    {
     "name": "stderr",
     "output_type": "stream",
     "text": [
      "  0%|          | 0/100 [00:00<?, ?it/s]"
     ]
    },
    {
     "name": "stdout",
     "output_type": "stream",
     "text": [
      "Batch 0 already processed, skipping...\n",
      "Batch 1 already processed, skipping...\n",
      "Batch 2 already processed, skipping...\n",
      "Batch 3 already processed, skipping...\n",
      "Batch 4 already processed, skipping...\n",
      "Batch 5 already processed, skipping...\n",
      "Batch 6 already processed, skipping...\n",
      "Batch 7 already processed, skipping...\n",
      "Batch 8 already processed, skipping...\n",
      "Batch 9 already processed, skipping...\n",
      "Batch 10 already processed, skipping...\n",
      "Batch 11 already processed, skipping...\n",
      "Batch 12 already processed, skipping...\n",
      "Batch 13 already processed, skipping...\n",
      "Batch 14 already processed, skipping...\n",
      "Batch 15 already processed, skipping...\n",
      "Batch 16 already processed, skipping...\n",
      "Batch 17 already processed, skipping...\n",
      "Batch 18 already processed, skipping...\n",
      "Batch 19 already processed, skipping...\n",
      "Batch 20 already processed, skipping...\n",
      "Batch 21 already processed, skipping...\n",
      "Batch 22 already processed, skipping...\n",
      "Batch 23 already processed, skipping...\n",
      "Batch 24 already processed, skipping...\n",
      "Batch 25 already processed, skipping...\n",
      "Batch 26 already processed, skipping...\n",
      "Batch 27 already processed, skipping...\n",
      "Batch 28 already processed, skipping...\n",
      "Batch 29 already processed, skipping...\n",
      "Batch 30 already processed, skipping...\n",
      "Batch 31 already processed, skipping...\n",
      "Batch 32 already processed, skipping...\n"
     ]
    },
    {
     "name": "stderr",
     "output_type": "stream",
     "text": [
      " 41%|████      | 41/100 [00:00<00:00, 200.08it/s]"
     ]
    },
    {
     "name": "stdout",
     "output_type": "stream",
     "text": [
      "Batch 33 already processed, skipping...\n",
      "Batch 34 already processed, skipping...\n",
      "Batch 35 already processed, skipping...\n",
      "Batch 36 already processed, skipping...\n",
      "Batch 37 already processed, skipping...\n",
      "Batch 38 already processed, skipping...\n",
      "Batch 39 already processed, skipping...\n",
      "Batch 40 already processed, skipping...\n",
      "Batch 41 already processed, skipping...\n",
      "Batch 42 already processed, skipping...\n",
      "Batch 43 already processed, skipping...\n",
      "Batch 44 already processed, skipping...\n",
      "Batch 45 already processed, skipping...\n",
      "Batch 46 already processed, skipping...\n",
      "Batch 47 already processed, skipping...\n",
      "Batch 48 already processed, skipping...\n",
      "Batch 49 already processed, skipping...\n",
      "Batch 50 already processed, skipping...\n",
      "Batch 51 already processed, skipping...\n",
      "Batch 52 already processed, skipping...\n",
      "Batch 53 already processed, skipping...\n",
      "Batch 54 already processed, skipping...\n",
      "Batch 55 already processed, skipping...\n",
      "Batch 56 already processed, skipping...\n",
      "Batch 57 already processed, skipping...\n",
      "Batch 58 already processed, skipping...\n",
      "Batch 59 already processed, skipping...\n",
      "Batch 60 already processed, skipping...\n",
      "Batch 61 already processed, skipping...\n",
      "Batch 62 already processed, skipping...\n",
      "Batch 63 already processed, skipping...\n",
      "Batch 64 already processed, skipping...\n",
      "Batch 65 already processed, skipping...\n",
      "Batch 66 already processed, skipping...\n",
      "Batch 67 already processed, skipping...\n",
      "Batch 68 already processed, skipping...\n"
     ]
    },
    {
     "name": "stderr",
     "output_type": "stream",
     "text": [
      "100%|██████████| 100/100 [00:00<00:00, 291.31it/s]\n"
     ]
    },
    {
     "name": "stdout",
     "output_type": "stream",
     "text": [
      "Batch 69 already processed, skipping...\n",
      "Batch 70 already processed, skipping...\n",
      "Batch 71 already processed, skipping...\n",
      "Batch 72 already processed, skipping...\n",
      "Batch 73 already processed, skipping...\n",
      "Batch 74 already processed, skipping...\n",
      "Batch 75 already processed, skipping...\n",
      "Batch 76 already processed, skipping...\n",
      "Batch 77 already processed, skipping...\n",
      "Batch 78 already processed, skipping...\n",
      "Batch 79 already processed, skipping...\n",
      "Batch 80 already processed, skipping...\n",
      "Batch 81 already processed, skipping...\n",
      "Batch 82 already processed, skipping...\n",
      "Batch 83 already processed, skipping...\n",
      "Batch 84 already processed, skipping...\n",
      "Batch 85 already processed, skipping...\n",
      "Batch 86 already processed, skipping...\n",
      "Batch 87 already processed, skipping...\n",
      "Batch 88 already processed, skipping...\n",
      "Batch 89 already processed, skipping...\n",
      "Batch 90 already processed, skipping...\n",
      "Batch 91 already processed, skipping...\n",
      "Batch 92 already processed, skipping...\n",
      "Batch 93 already processed, skipping...\n",
      "Batch 94 already processed, skipping...\n",
      "Batch 95 already processed, skipping...\n",
      "Batch 96 already processed, skipping...\n",
      "Batch 97 already processed, skipping...\n",
      "Batch 98 already processed, skipping...\n",
      "Batch 99 already processed, skipping...\n",
      "Caption: radar core with ludum dart data\n",
      "Caption similarity score target: 24.6078\n"
     ]
    },
    {
     "name": "stderr",
     "output_type": "stream",
     "text": [
      "  0%|          | 0/100 [00:00<?, ?it/s]"
     ]
    },
    {
     "name": "stdout",
     "output_type": "stream",
     "text": [
      "Batch 0 already processed, skipping...\n",
      "Batch 1 already processed, skipping...\n",
      "Batch 2 already processed, skipping...\n",
      "Batch 3 already processed, skipping...\n",
      "Batch 4 already processed, skipping...\n",
      "Batch 5 already processed, skipping...\n",
      "Batch 6 already processed, skipping...\n",
      "Batch 7 already processed, skipping...\n",
      "Batch 8 already processed, skipping...\n",
      "Batch 9 already processed, skipping...\n",
      "Batch 10 already processed, skipping...\n",
      "Batch 11 already processed, skipping...\n",
      "Batch 12 already processed, skipping...\n",
      "Batch 13 already processed, skipping...\n",
      "Batch 14 already processed, skipping...\n",
      "Batch 15 already processed, skipping...\n",
      "Batch 16 already processed, skipping...\n",
      "Batch 17 already processed, skipping...\n",
      "Batch 18 already processed, skipping...\n",
      "Batch 19 already processed, skipping...\n",
      "Batch 20 already processed, skipping...\n",
      "Batch 21 already processed, skipping...\n",
      "Batch 22 already processed, skipping...\n",
      "Batch 23 already processed, skipping...\n",
      "Batch 24 already processed, skipping...\n",
      "Batch 25 already processed, skipping...\n",
      "Batch 26 already processed, skipping...\n",
      "Batch 27 already processed, skipping...\n",
      "Batch 28 already processed, skipping...\n",
      "Batch 29 already processed, skipping...\n",
      "Batch 30 already processed, skipping...\n",
      "Batch 31 already processed, skipping...\n",
      "Batch 32 already processed, skipping...\n",
      "Batch 33 already processed, skipping...\n",
      "Batch 34 already processed, skipping...\n",
      "Batch 35 already processed, skipping...\n",
      "Batch 36 already processed, skipping...\n",
      "Batch 37 already processed, skipping...\n",
      "Batch 38 already processed, skipping...\n",
      "Batch 39 already processed, skipping...\n"
     ]
    },
    {
     "name": "stderr",
     "output_type": "stream",
     "text": [
      " 41%|████      | 41/100 [00:00<00:00, 187.30it/s]"
     ]
    },
    {
     "name": "stdout",
     "output_type": "stream",
     "text": [
      "Batch 40 already processed, skipping...\n",
      "Batch 41 already processed, skipping...\n",
      "Batch 42 already processed, skipping...\n",
      "Batch 43 already processed, skipping...\n",
      "Batch 44 already processed, skipping...\n",
      "Batch 45 already processed, skipping...\n",
      "Batch 46 already processed, skipping...\n",
      "Batch 47 already processed, skipping...\n"
     ]
    },
    {
     "name": "stderr",
     "output_type": "stream",
     "text": [
      "100%|██████████| 100/100 [00:00<00:00, 277.93it/s]\n"
     ]
    },
    {
     "name": "stdout",
     "output_type": "stream",
     "text": [
      "Batch 48 already processed, skipping...\n",
      "Batch 49 already processed, skipping...\n",
      "Batch 50 already processed, skipping...\n",
      "Batch 51 already processed, skipping...\n",
      "Batch 52 already processed, skipping...\n",
      "Batch 53 already processed, skipping...\n",
      "Batch 54 already processed, skipping...\n",
      "Batch 55 already processed, skipping...\n",
      "Batch 56 already processed, skipping...\n",
      "Batch 57 already processed, skipping...\n",
      "Batch 58 already processed, skipping...\n",
      "Batch 59 already processed, skipping...\n",
      "Batch 60 already processed, skipping...\n",
      "Batch 61 already processed, skipping...\n",
      "Batch 62 already processed, skipping...\n",
      "Batch 63 already processed, skipping...\n",
      "Batch 64 already processed, skipping...\n",
      "Batch 65 already processed, skipping...\n",
      "Batch 66 already processed, skipping...\n",
      "Batch 67 already processed, skipping...\n",
      "Batch 68 already processed, skipping...\n",
      "Batch 69 already processed, skipping...\n",
      "Batch 70 already processed, skipping...\n",
      "Batch 71 already processed, skipping...\n",
      "Batch 72 already processed, skipping...\n",
      "Batch 73 already processed, skipping...\n",
      "Batch 74 already processed, skipping...\n",
      "Batch 75 already processed, skipping...\n",
      "Batch 76 already processed, skipping...\n",
      "Batch 77 already processed, skipping...\n",
      "Batch 78 already processed, skipping...\n",
      "Batch 79 already processed, skipping...\n",
      "Batch 80 already processed, skipping...\n",
      "Batch 81 already processed, skipping...\n",
      "Batch 82 already processed, skipping...\n",
      "Batch 83 already processed, skipping...\n",
      "Batch 84 already processed, skipping...\n",
      "Batch 85 already processed, skipping...\n",
      "Batch 86 already processed, skipping...\n",
      "Batch 87 already processed, skipping...\n",
      "Batch 88 already processed, skipping...\n",
      "Batch 89 already processed, skipping...\n",
      "Batch 90 already processed, skipping...\n",
      "Batch 91 already processed, skipping...\n",
      "Batch 92 already processed, skipping...\n",
      "Batch 93 already processed, skipping...\n",
      "Batch 94 already processed, skipping...\n",
      "Batch 95 already processed, skipping...\n",
      "Batch 96 already processed, skipping...\n",
      "Batch 97 already processed, skipping...\n",
      "Batch 98 already processed, skipping...\n",
      "Batch 99 already processed, skipping...\n",
      "Caption: a black and white print of different types of leaves\n",
      "Caption similarity score target: 36.8814\n"
     ]
    },
    {
     "name": "stderr",
     "output_type": "stream",
     "text": [
      "  0%|          | 0/100 [00:00<?, ?it/s]"
     ]
    },
    {
     "name": "stdout",
     "output_type": "stream",
     "text": [
      "Batch 0 already processed, skipping...\n",
      "Batch 1 already processed, skipping...\n",
      "Batch 2 already processed, skipping...\n",
      "Batch 3 already processed, skipping...\n",
      "Batch 4 already processed, skipping...\n",
      "Batch 5 already processed, skipping...\n",
      "batch_id =  6\n",
      "Caption similarity score base: 5.5079\n"
     ]
    },
    {
     "name": "stderr",
     "output_type": "stream",
     "text": [
      "  7%|▋         | 7/100 [01:14<16:31, 10.66s/it]"
     ]
    },
    {
     "name": "stdout",
     "output_type": "stream",
     "text": [
      "Best Total loss:14.6406\n",
      "Caption similarity score adv: 77.2240\n",
      "Max Pixel Difference between Adversarial Image and Base *255: 16.0\n",
      "Saved poisoned image 1306 to ./data/poisons/mini_MathVista_grid/sci/6.jpg\n",
      "batch_id =  7\n",
      "Caption similarity score base: 9.1772\n"
     ]
    },
    {
     "name": "stderr",
     "output_type": "stream",
     "text": [
      "  8%|▊         | 8/100 [02:27<32:34, 21.25s/it]"
     ]
    },
    {
     "name": "stdout",
     "output_type": "stream",
     "text": [
      "Best Total loss:13.9844\n",
      "Caption similarity score adv: 88.0338\n",
      "Max Pixel Difference between Adversarial Image and Base *255: 16.0\n",
      "Saved poisoned image 1307 to ./data/poisons/mini_MathVista_grid/sci/7.jpg\n",
      "batch_id =  8\n",
      "Caption similarity score base: 11.1083\n"
     ]
    },
    {
     "name": "stderr",
     "output_type": "stream",
     "text": [
      "  9%|▉         | 9/100 [03:39<47:04, 31.04s/it]"
     ]
    },
    {
     "name": "stdout",
     "output_type": "stream",
     "text": [
      "Best Total loss:14.0703\n",
      "Caption similarity score adv: 76.8855\n",
      "Max Pixel Difference between Adversarial Image and Base *255: 16.0\n",
      "Saved poisoned image 1308 to ./data/poisons/mini_MathVista_grid/sci/8.jpg\n",
      "batch_id =  9\n",
      "Caption similarity score base: 11.0608\n"
     ]
    },
    {
     "name": "stderr",
     "output_type": "stream",
     "text": [
      " 10%|█         | 10/100 [04:52<1:00:27, 40.31s/it]"
     ]
    },
    {
     "name": "stdout",
     "output_type": "stream",
     "text": [
      "Best Total loss:13.5469\n",
      "Caption similarity score adv: 82.2708\n",
      "Max Pixel Difference between Adversarial Image and Base *255: 16.0\n",
      "Saved poisoned image 1309 to ./data/poisons/mini_MathVista_grid/sci/9.jpg\n",
      "batch_id =  10\n",
      "Caption similarity score base: 5.1711\n"
     ]
    },
    {
     "name": "stderr",
     "output_type": "stream",
     "text": [
      " 11%|█         | 11/100 [06:04<1:10:52, 47.78s/it]"
     ]
    },
    {
     "name": "stdout",
     "output_type": "stream",
     "text": [
      "Best Total loss:14.1094\n",
      "Caption similarity score adv: 88.3390\n",
      "Max Pixel Difference between Adversarial Image and Base *255: 16.0\n",
      "Saved poisoned image 1310 to ./data/poisons/mini_MathVista_grid/sci/10.jpg\n",
      "batch_id =  11\n",
      "Caption similarity score base: 4.0839\n"
     ]
    },
    {
     "name": "stderr",
     "output_type": "stream",
     "text": [
      " 12%|█▏        | 12/100 [07:14<1:18:25, 53.47s/it]"
     ]
    },
    {
     "name": "stdout",
     "output_type": "stream",
     "text": [
      "Best Total loss:13.9609\n",
      "Caption similarity score adv: 86.6835\n",
      "Max Pixel Difference between Adversarial Image and Base *255: 16.0\n",
      "Saved poisoned image 1311 to ./data/poisons/mini_MathVista_grid/sci/11.jpg\n",
      "batch_id =  12\n",
      "Caption similarity score base: 11.4514\n"
     ]
    },
    {
     "name": "stderr",
     "output_type": "stream",
     "text": [
      " 13%|█▎        | 13/100 [08:27<1:24:48, 58.49s/it]"
     ]
    },
    {
     "name": "stdout",
     "output_type": "stream",
     "text": [
      "Best Total loss:14.3750\n",
      "Caption similarity score adv: 78.0977\n",
      "Max Pixel Difference between Adversarial Image and Base *255: 16.0\n",
      "Saved poisoned image 1312 to ./data/poisons/mini_MathVista_grid/sci/12.jpg\n",
      "batch_id =  13\n",
      "Caption similarity score base: 9.5254\n"
     ]
    },
    {
     "name": "stderr",
     "output_type": "stream",
     "text": [
      " 14%|█▍        | 14/100 [09:37<1:28:33, 61.78s/it]"
     ]
    },
    {
     "name": "stdout",
     "output_type": "stream",
     "text": [
      "Best Total loss:13.8438\n",
      "Caption similarity score adv: 88.0291\n",
      "Max Pixel Difference between Adversarial Image and Base *255: 16.0\n",
      "Saved poisoned image 1313 to ./data/poisons/mini_MathVista_grid/sci/13.jpg\n",
      "batch_id =  14\n",
      "Caption similarity score base: 16.0416\n"
     ]
    },
    {
     "name": "stderr",
     "output_type": "stream",
     "text": [
      " 15%|█▌        | 15/100 [10:50<1:31:49, 64.82s/it]"
     ]
    },
    {
     "name": "stdout",
     "output_type": "stream",
     "text": [
      "Best Total loss:13.5469\n",
      "Caption similarity score adv: 81.0289\n",
      "Max Pixel Difference between Adversarial Image and Base *255: 16.0\n",
      "Saved poisoned image 1314 to ./data/poisons/mini_MathVista_grid/sci/14.jpg\n",
      "batch_id =  15\n",
      "Caption similarity score base: 9.6151\n"
     ]
    },
    {
     "name": "stderr",
     "output_type": "stream",
     "text": [
      " 16%|█▌        | 16/100 [12:04<1:34:36, 67.58s/it]"
     ]
    },
    {
     "name": "stdout",
     "output_type": "stream",
     "text": [
      "Best Total loss:14.0000\n",
      "Caption similarity score adv: 72.3863\n",
      "Max Pixel Difference between Adversarial Image and Base *255: 16.0\n",
      "Saved poisoned image 1315 to ./data/poisons/mini_MathVista_grid/sci/15.jpg\n",
      "batch_id =  16\n",
      "Caption similarity score base: 11.2845\n"
     ]
    },
    {
     "name": "stderr",
     "output_type": "stream",
     "text": [
      " 17%|█▋        | 17/100 [13:21<1:37:02, 70.15s/it]"
     ]
    },
    {
     "name": "stdout",
     "output_type": "stream",
     "text": [
      "Best Total loss:14.1016\n",
      "Caption similarity score adv: 74.2665\n",
      "Max Pixel Difference between Adversarial Image and Base *255: 16.0\n",
      "Saved poisoned image 1316 to ./data/poisons/mini_MathVista_grid/sci/16.jpg\n",
      "batch_id =  17\n",
      "Caption similarity score base: 3.8244\n"
     ]
    },
    {
     "name": "stderr",
     "output_type": "stream",
     "text": [
      " 18%|█▊        | 18/100 [14:38<1:38:58, 72.42s/it]"
     ]
    },
    {
     "name": "stdout",
     "output_type": "stream",
     "text": [
      "Best Total loss:14.2266\n",
      "Caption similarity score adv: 79.5832\n",
      "Max Pixel Difference between Adversarial Image and Base *255: 16.0\n",
      "Saved poisoned image 1317 to ./data/poisons/mini_MathVista_grid/sci/17.jpg\n",
      "batch_id =  18\n",
      "Caption similarity score base: 7.4180\n"
     ]
    },
    {
     "name": "stderr",
     "output_type": "stream",
     "text": [
      " 19%|█▉        | 19/100 [15:53<1:38:42, 73.12s/it]"
     ]
    },
    {
     "name": "stdout",
     "output_type": "stream",
     "text": [
      "Best Total loss:13.5938\n",
      "Caption similarity score adv: 82.9001\n",
      "Max Pixel Difference between Adversarial Image and Base *255: 16.0\n",
      "Saved poisoned image 1318 to ./data/poisons/mini_MathVista_grid/sci/18.jpg\n",
      "batch_id =  19\n",
      "Caption similarity score base: 0.1489\n"
     ]
    },
    {
     "name": "stderr",
     "output_type": "stream",
     "text": [
      " 20%|██        | 20/100 [17:09<1:38:30, 73.88s/it]"
     ]
    },
    {
     "name": "stdout",
     "output_type": "stream",
     "text": [
      "Best Total loss:14.1875\n",
      "Caption similarity score adv: 83.1821\n",
      "Max Pixel Difference between Adversarial Image and Base *255: 16.0\n",
      "Saved poisoned image 1319 to ./data/poisons/mini_MathVista_grid/sci/19.jpg\n",
      "batch_id =  20\n",
      "Caption similarity score base: 8.4062\n"
     ]
    },
    {
     "name": "stderr",
     "output_type": "stream",
     "text": [
      " 21%|██        | 21/100 [18:21<1:36:33, 73.33s/it]"
     ]
    },
    {
     "name": "stdout",
     "output_type": "stream",
     "text": [
      "Best Total loss:14.1250\n",
      "Caption similarity score adv: 83.3925\n",
      "Max Pixel Difference between Adversarial Image and Base *255: 16.0\n",
      "Saved poisoned image 1320 to ./data/poisons/mini_MathVista_grid/sci/20.jpg\n",
      "batch_id =  21\n",
      "Caption similarity score base: 9.8591\n"
     ]
    },
    {
     "name": "stderr",
     "output_type": "stream",
     "text": [
      " 22%|██▏       | 22/100 [19:35<1:35:37, 73.56s/it]"
     ]
    },
    {
     "name": "stdout",
     "output_type": "stream",
     "text": [
      "Best Total loss:13.8906\n",
      "Caption similarity score adv: 82.8845\n",
      "Max Pixel Difference between Adversarial Image and Base *255: 16.0\n",
      "Saved poisoned image 1321 to ./data/poisons/mini_MathVista_grid/sci/21.jpg\n",
      "batch_id =  22\n",
      "Caption similarity score base: 8.9410\n"
     ]
    },
    {
     "name": "stderr",
     "output_type": "stream",
     "text": [
      " 23%|██▎       | 23/100 [20:52<1:35:30, 74.43s/it]"
     ]
    },
    {
     "name": "stdout",
     "output_type": "stream",
     "text": [
      "Best Total loss:14.2578\n",
      "Caption similarity score adv: 83.4053\n",
      "Max Pixel Difference between Adversarial Image and Base *255: 16.0\n",
      "Saved poisoned image 1322 to ./data/poisons/mini_MathVista_grid/sci/22.jpg\n",
      "batch_id =  23\n",
      "Caption similarity score base: 9.3526\n"
     ]
    },
    {
     "name": "stderr",
     "output_type": "stream",
     "text": [
      " 24%|██▍       | 24/100 [22:09<1:35:16, 75.22s/it]"
     ]
    },
    {
     "name": "stdout",
     "output_type": "stream",
     "text": [
      "Best Total loss:14.2578\n",
      "Caption similarity score adv: 84.9818\n",
      "Max Pixel Difference between Adversarial Image and Base *255: 16.0\n",
      "Saved poisoned image 1323 to ./data/poisons/mini_MathVista_grid/sci/23.jpg\n",
      "batch_id =  24\n",
      "Caption similarity score base: 10.7355\n"
     ]
    },
    {
     "name": "stderr",
     "output_type": "stream",
     "text": [
      " 25%|██▌       | 25/100 [23:21<1:32:59, 74.40s/it]"
     ]
    },
    {
     "name": "stdout",
     "output_type": "stream",
     "text": [
      "Best Total loss:14.4297\n",
      "Caption similarity score adv: 88.0352\n",
      "Max Pixel Difference between Adversarial Image and Base *255: 16.0\n",
      "Saved poisoned image 1324 to ./data/poisons/mini_MathVista_grid/sci/24.jpg\n",
      "batch_id =  25\n",
      "Caption similarity score base: 8.7716\n"
     ]
    },
    {
     "name": "stderr",
     "output_type": "stream",
     "text": [
      " 26%|██▌       | 26/100 [24:34<1:31:01, 73.80s/it]"
     ]
    },
    {
     "name": "stdout",
     "output_type": "stream",
     "text": [
      "Best Total loss:13.9688\n",
      "Caption similarity score adv: 81.8143\n",
      "Max Pixel Difference between Adversarial Image and Base *255: 16.0\n",
      "Saved poisoned image 1325 to ./data/poisons/mini_MathVista_grid/sci/25.jpg\n",
      "batch_id =  26\n",
      "Caption similarity score base: 8.7934\n",
      "Best Total loss:13.8359\n",
      "Caption similarity score adv: 81.9627\n",
      "Max Pixel Difference between Adversarial Image and Base *255: 16.0\n"
     ]
    },
    {
     "name": "stderr",
     "output_type": "stream",
     "text": [
      " 27%|██▋       | 27/100 [25:49<1:30:33, 74.43s/it]"
     ]
    },
    {
     "name": "stdout",
     "output_type": "stream",
     "text": [
      "Saved poisoned image 1326 to ./data/poisons/mini_MathVista_grid/sci/26.jpg\n",
      "batch_id =  27\n",
      "Caption similarity score base: 9.5983\n"
     ]
    },
    {
     "name": "stderr",
     "output_type": "stream",
     "text": [
      " 28%|██▊       | 28/100 [27:00<1:27:53, 73.24s/it]"
     ]
    },
    {
     "name": "stdout",
     "output_type": "stream",
     "text": [
      "Best Total loss:13.8984\n",
      "Caption similarity score adv: 81.0244\n",
      "Max Pixel Difference between Adversarial Image and Base *255: 16.0\n",
      "Saved poisoned image 1327 to ./data/poisons/mini_MathVista_grid/sci/27.jpg\n",
      "batch_id =  28\n",
      "Caption similarity score base: 6.0717\n"
     ]
    },
    {
     "name": "stderr",
     "output_type": "stream",
     "text": [
      " 29%|██▉       | 29/100 [28:11<1:26:02, 72.71s/it]"
     ]
    },
    {
     "name": "stdout",
     "output_type": "stream",
     "text": [
      "Best Total loss:13.7891\n",
      "Caption similarity score adv: 82.3762\n",
      "Max Pixel Difference between Adversarial Image and Base *255: 16.0\n",
      "Saved poisoned image 1328 to ./data/poisons/mini_MathVista_grid/sci/28.jpg\n",
      "batch_id =  29\n",
      "Caption similarity score base: 12.8117\n"
     ]
    },
    {
     "name": "stderr",
     "output_type": "stream",
     "text": [
      " 30%|███       | 30/100 [29:23<1:24:28, 72.41s/it]"
     ]
    },
    {
     "name": "stdout",
     "output_type": "stream",
     "text": [
      "Best Total loss:14.1719\n",
      "Caption similarity score adv: 68.7256\n",
      "Max Pixel Difference between Adversarial Image and Base *255: 16.0\n",
      "Saved poisoned image 1329 to ./data/poisons/mini_MathVista_grid/sci/29.jpg\n",
      "batch_id =  30\n",
      "Caption similarity score base: 3.5617\n"
     ]
    },
    {
     "name": "stderr",
     "output_type": "stream",
     "text": [
      " 31%|███       | 31/100 [30:34<1:22:55, 72.11s/it]"
     ]
    },
    {
     "name": "stdout",
     "output_type": "stream",
     "text": [
      "Best Total loss:14.0078\n",
      "Caption similarity score adv: 86.3371\n",
      "Max Pixel Difference between Adversarial Image and Base *255: 16.0\n",
      "Saved poisoned image 1330 to ./data/poisons/mini_MathVista_grid/sci/30.jpg\n",
      "batch_id =  31\n",
      "Caption similarity score base: 10.5890\n"
     ]
    },
    {
     "name": "stderr",
     "output_type": "stream",
     "text": [
      " 32%|███▏      | 32/100 [31:46<1:21:25, 71.85s/it]"
     ]
    },
    {
     "name": "stdout",
     "output_type": "stream",
     "text": [
      "Best Total loss:14.4844\n",
      "Caption similarity score adv: 73.2422\n",
      "Max Pixel Difference between Adversarial Image and Base *255: 16.0\n",
      "Saved poisoned image 1331 to ./data/poisons/mini_MathVista_grid/sci/31.jpg\n",
      "batch_id =  32\n",
      "Caption similarity score base: 13.3316\n"
     ]
    },
    {
     "name": "stderr",
     "output_type": "stream",
     "text": [
      " 33%|███▎      | 33/100 [32:57<1:20:05, 71.72s/it]"
     ]
    },
    {
     "name": "stdout",
     "output_type": "stream",
     "text": [
      "Best Total loss:13.7969\n",
      "Caption similarity score adv: 80.6720\n",
      "Max Pixel Difference between Adversarial Image and Base *255: 16.0\n",
      "Saved poisoned image 1332 to ./data/poisons/mini_MathVista_grid/sci/32.jpg\n",
      "batch_id =  33\n",
      "Caption similarity score base: 9.9230\n"
     ]
    },
    {
     "name": "stderr",
     "output_type": "stream",
     "text": [
      " 34%|███▍      | 34/100 [34:11<1:19:38, 72.41s/it]"
     ]
    },
    {
     "name": "stdout",
     "output_type": "stream",
     "text": [
      "Best Total loss:14.2422\n",
      "Caption similarity score adv: 80.2708\n",
      "Max Pixel Difference between Adversarial Image and Base *255: 16.0\n",
      "Saved poisoned image 1333 to ./data/poisons/mini_MathVista_grid/sci/33.jpg\n",
      "batch_id =  34\n",
      "Caption similarity score base: 13.3794\n"
     ]
    },
    {
     "name": "stderr",
     "output_type": "stream",
     "text": [
      " 35%|███▌      | 35/100 [35:24<1:18:34, 72.53s/it]"
     ]
    },
    {
     "name": "stdout",
     "output_type": "stream",
     "text": [
      "Best Total loss:14.3594\n",
      "Caption similarity score adv: 75.5880\n",
      "Max Pixel Difference between Adversarial Image and Base *255: 16.0\n",
      "Saved poisoned image 1334 to ./data/poisons/mini_MathVista_grid/sci/34.jpg\n",
      "batch_id =  35\n",
      "Caption similarity score base: -0.7425\n"
     ]
    },
    {
     "name": "stderr",
     "output_type": "stream",
     "text": [
      " 36%|███▌      | 36/100 [36:34<1:16:33, 71.77s/it]"
     ]
    },
    {
     "name": "stdout",
     "output_type": "stream",
     "text": [
      "Best Total loss:14.3750\n",
      "Caption similarity score adv: 83.3473\n",
      "Max Pixel Difference between Adversarial Image and Base *255: 16.0\n",
      "Saved poisoned image 1335 to ./data/poisons/mini_MathVista_grid/sci/35.jpg\n",
      "batch_id =  36\n",
      "Caption similarity score base: 8.9060\n"
     ]
    },
    {
     "name": "stderr",
     "output_type": "stream",
     "text": [
      " 37%|███▋      | 37/100 [37:50<1:16:41, 73.04s/it]"
     ]
    },
    {
     "name": "stdout",
     "output_type": "stream",
     "text": [
      "Best Total loss:14.2109\n",
      "Caption similarity score adv: 79.8166\n",
      "Max Pixel Difference between Adversarial Image and Base *255: 16.0\n",
      "Saved poisoned image 1336 to ./data/poisons/mini_MathVista_grid/sci/36.jpg\n",
      "batch_id =  37\n",
      "Caption similarity score base: 8.0290\n"
     ]
    },
    {
     "name": "stderr",
     "output_type": "stream",
     "text": [
      " 38%|███▊      | 38/100 [39:01<1:14:49, 72.41s/it]"
     ]
    },
    {
     "name": "stdout",
     "output_type": "stream",
     "text": [
      "Best Total loss:14.4219\n",
      "Caption similarity score adv: 80.0959\n",
      "Max Pixel Difference between Adversarial Image and Base *255: 16.0\n",
      "Saved poisoned image 1337 to ./data/poisons/mini_MathVista_grid/sci/37.jpg\n",
      "batch_id =  38\n",
      "Caption similarity score base: 7.4756\n"
     ]
    },
    {
     "name": "stderr",
     "output_type": "stream",
     "text": [
      " 39%|███▉      | 39/100 [40:12<1:13:08, 71.95s/it]"
     ]
    },
    {
     "name": "stdout",
     "output_type": "stream",
     "text": [
      "Best Total loss:14.3750\n",
      "Caption similarity score adv: 78.3105\n",
      "Max Pixel Difference between Adversarial Image and Base *255: 16.0\n",
      "Saved poisoned image 1338 to ./data/poisons/mini_MathVista_grid/sci/38.jpg\n",
      "batch_id =  39\n",
      "Caption similarity score base: 6.2086\n"
     ]
    },
    {
     "name": "stderr",
     "output_type": "stream",
     "text": [
      " 40%|████      | 40/100 [41:22<1:11:33, 71.55s/it]"
     ]
    },
    {
     "name": "stdout",
     "output_type": "stream",
     "text": [
      "Best Total loss:14.2188\n",
      "Caption similarity score adv: 87.3915\n",
      "Max Pixel Difference between Adversarial Image and Base *255: 16.0\n",
      "Saved poisoned image 1339 to ./data/poisons/mini_MathVista_grid/sci/39.jpg\n",
      "batch_id =  40\n",
      "Caption similarity score base: 4.0394\n",
      "Best Total loss:14.5156\n",
      "Caption similarity score adv: 79.6256\n",
      "Max Pixel Difference between Adversarial Image and Base *255: 16.0\n"
     ]
    },
    {
     "name": "stderr",
     "output_type": "stream",
     "text": [
      " 41%|████      | 41/100 [42:42<1:12:50, 74.08s/it]"
     ]
    },
    {
     "name": "stdout",
     "output_type": "stream",
     "text": [
      "Saved poisoned image 1340 to ./data/poisons/mini_MathVista_grid/sci/40.jpg\n",
      "batch_id =  41\n",
      "Caption similarity score base: 2.7733\n",
      "Best Total loss:14.8125\n",
      "Caption similarity score adv: 81.6670\n",
      "Max Pixel Difference between Adversarial Image and Base *255: 16.0\n"
     ]
    },
    {
     "name": "stderr",
     "output_type": "stream",
     "text": [
      " 42%|████▏     | 42/100 [43:54<1:10:59, 73.44s/it]"
     ]
    },
    {
     "name": "stdout",
     "output_type": "stream",
     "text": [
      "Saved poisoned image 1341 to ./data/poisons/mini_MathVista_grid/sci/41.jpg\n",
      "batch_id =  42\n",
      "Caption similarity score base: 5.3577\n"
     ]
    },
    {
     "name": "stderr",
     "output_type": "stream",
     "text": [
      " 43%|████▎     | 43/100 [45:06<1:09:14, 72.89s/it]"
     ]
    },
    {
     "name": "stdout",
     "output_type": "stream",
     "text": [
      "Best Total loss:14.1172\n",
      "Caption similarity score adv: 72.5493\n",
      "Max Pixel Difference between Adversarial Image and Base *255: 16.0\n",
      "Saved poisoned image 1342 to ./data/poisons/mini_MathVista_grid/sci/42.jpg\n",
      "batch_id =  43\n",
      "Caption similarity score base: 11.4546\n"
     ]
    },
    {
     "name": "stderr",
     "output_type": "stream",
     "text": [
      " 44%|████▍     | 44/100 [46:19<1:07:59, 72.85s/it]"
     ]
    },
    {
     "name": "stdout",
     "output_type": "stream",
     "text": [
      "Best Total loss:13.8438\n",
      "Caption similarity score adv: 75.3770\n",
      "Max Pixel Difference between Adversarial Image and Base *255: 16.0\n",
      "Saved poisoned image 1343 to ./data/poisons/mini_MathVista_grid/sci/43.jpg\n",
      "batch_id =  44\n",
      "Caption similarity score base: 3.4930\n"
     ]
    },
    {
     "name": "stderr",
     "output_type": "stream",
     "text": [
      " 45%|████▌     | 45/100 [47:31<1:06:34, 72.63s/it]"
     ]
    },
    {
     "name": "stdout",
     "output_type": "stream",
     "text": [
      "Best Total loss:14.3906\n",
      "Caption similarity score adv: 74.5592\n",
      "Max Pixel Difference between Adversarial Image and Base *255: 16.0\n",
      "Saved poisoned image 1344 to ./data/poisons/mini_MathVista_grid/sci/44.jpg\n",
      "batch_id =  45\n",
      "Caption similarity score base: 7.6292\n"
     ]
    }
   ],
   "source": [
    "################################################################################\n",
    "\n",
    "###########    implement grid approach here. use dataloaders above   ###########\n",
    "\n",
    "################################################################################\n",
    "\n",
    "import matplotlib.pyplot as plt\n",
    "\n",
    "\n",
    "\n",
    "\n",
    "\n",
    "###### Running attack optimization ######\n",
    "original_sizes_list = []\n",
    "X_adv_list = []\n",
    "all_losses = []\n",
    "loss_attack_list = []\n",
    "start_idx = 0\n",
    "end_idx = 0\n",
    "for j, (image_target, _, original_sizes_target) in  enumerate(target_dataloader):\n",
    "    target_name = target_caps[j][\"name\"]\n",
    "    target_path = os.path.join(args[\"poison_save_pth\"], target_caps[j][\"name\"])\n",
    "    if not os.path.exists(target_path):\n",
    "        os.makedirs(target_path)\n",
    "\n",
    "    ###### Resume by checking already saved images ######\n",
    "    saved_images = set(os.listdir(target_path))\n",
    "    saved_image_ids = {int(fname.split('.')[0]) for fname in saved_images if fname.endswith('.jpg')}\n",
    "\n",
    "    ###### show target images ######\n",
    "    # print(\"Working on target:\", target_name)\n",
    "    # plt.imshow(image_target.squeeze(0).permute(1,2,0))\n",
    "    # plt.axis(\"off\")\n",
    "    # plt.show()\n",
    "\n",
    "    #### sanity check ####\n",
    "    with torch.no_grad():\n",
    "        sim_score = i2t_similarity_clip(image_encoder, image_processor, image_target, target_caps[j][\"caption\"]).item()\n",
    "        print(\"Caption:\", target_caps[j][\"caption\"])\n",
    "        print(f\"Caption similarity score target: {sim_score:.4f}\")\n",
    "    ####\n",
    "\n",
    "    # print(image_target.squeeze(0).permute(1,2,0).shape)\n",
    "    # for i, (image_base, masks_base, original_sizes_base) in  enumerate(base_dataloader):\n",
    "    for i, (image_base, masks_base, original_sizes_base) in  tqdm(enumerate(base_dataloader), total=len(base_dataloader)):\n",
    "        # if i == 1:\n",
    "        #       raise Exception(\"Stopping on purpose here\")\n",
    "        # plt.imshow(image_base.squeeze(0).permute(1,2,0))\n",
    "        # plt.axis(\"off\")\n",
    "        # plt.show()\n",
    "\n",
    "        start_idx = end_idx\n",
    "        end_idx = start_idx + image_base.size(0) # mathvista\n",
    "\n",
    "        if all(idx%100 in saved_image_ids for idx in range(start_idx, end_idx)):\n",
    "                print(f'Batch {i} already processed, skipping...')\n",
    "                continue\n",
    "\n",
    "        print('batch_id = ',i)\n",
    "        image_base, image_target, masks_base = image_base.cuda(), image_target.cuda(), masks_base.cuda()\n",
    "\n",
    "\n",
    "        #### sanity check start ####\n",
    "        with torch.no_grad():\n",
    "            sim_score = i2t_similarity_clip(image_encoder, image_processor, image_base, target_caps[j][\"caption\"]).item()\n",
    "            print(f\"Caption similarity score base: {sim_score:.4f}\")\n",
    "        ####\n",
    "\n",
    "        X_adv, loss_attack, batch_losses = embedding_attack_Linf(\n",
    "                encode_images=encode_images, image_base=image_base, \n",
    "                image_target=image_target, emb_dist=L2_norm, \n",
    "                iters=args[\"iter_attack\"], lr=args[\"lr_attack\"]/255, \n",
    "                eps=int(args[\"eps\"])/255, diff_aug=diff_aug, resume_X_adv=None, \n",
    "                masks=masks_base, orig_sizes_base=original_sizes_base, orig_sizes_target=original_sizes_target,\n",
    "                target_caption=target_caps[j][\"caption\"]\n",
    "        )\n",
    "\n",
    "\n",
    "        if chat:\n",
    "                if \"MathVista\" not in args[\"task_data_pth\"]:\n",
    "                    print()\n",
    "                    print(\"Before:\", chat(image_base[0][:][:original_sizes_base[0][1]][:original_sizes_base[0][0]]))\n",
    "                    print(\"After:\", chat(X_adv[0][:][:original_sizes_base[0][1]][:original_sizes_base[0][0]]))\n",
    "                    print()\n",
    "                else:\n",
    "                    print(\"Question:\", question_json[f\"{i+1}\"][\"question\"])\n",
    "                    print()\n",
    "                    print(\"Actual Answer:\", question_json[f\"{i+1}\"][\"answer\"])\n",
    "                    print(\"-\"*20)\n",
    "                    print(\"Model Answer Before:\", chat(image_base[0][:][:original_sizes_base[0][1]][:original_sizes_base[0][0]], i+1))\n",
    "                    print(\"-\"*20)\n",
    "                    print(\"Model Answer After: \", chat(X_adv[0][:][:original_sizes_base[0][1]][:original_sizes_base[0][0]], i+1))\n",
    "                    print()\n",
    "        \n",
    "        #### sanity check start ####\n",
    "        sim_score = i2t_similarity_clip(image_encoder, image_processor, X_adv, target_caps[j][\"caption\"]).item()\n",
    "        print(f\"Caption similarity score adv: {sim_score:.4f}\")\n",
    "        ####\n",
    "\n",
    "\n",
    "        # ###### Save poisoned images after each batch ######\n",
    "        for k in range(X_adv.size(0)):  # Save each image in the batch\n",
    "                img_idx = start_idx + k\n",
    "                img_pth = os.path.join(target_path, f'{img_idx%100}.jpg')\n",
    "                if img_idx not in saved_image_ids:  # Only save if it doesn't already exist\n",
    "                    img_tensor = X_adv[k][:, :original_sizes_base[k][1], :original_sizes_base[k][0]]\n",
    "                    print(\"Max Pixel Difference between Adversarial Image and Base *255:\", round(torch.max(torch.abs(X_adv-image_base)).item()*255, 4))\n",
    "                    save_image(img_tensor.cpu(), img_pth)\n",
    "                    print(f'Saved poisoned image {img_idx} to {img_pth}') # mathvista\n",
    "        \n",
    "        ######## show noise ##############\n",
    "        amplification_factor = 30  # Increase the factor to make the noise more visible\n",
    "        noise = (X_adv - image_base) * amplification_factor\n",
    "\n",
    "        # Normalize the noise to [0, 1] for visualization\n",
    "        noise = (noise - noise.min()) / (noise.max() - noise.min())\n",
    "\n",
    "        # Display the noise\n",
    "        # plt.imshow(noise.squeeze(0).permute(1, 2, 0).cpu().numpy())  # Ensure the tensor is on CPU and converted to numpy\n",
    "        # plt.axis(\"off\")\n",
    "        # plt.title(\"Adversarial Noise (Amplified)\")\n",
    "        # plt.show()\n",
    "        #######################\n",
    "\n",
    "\n",
    "        # X_adv_list.append(X_adv)\n",
    "\n",
    "        X_adv_list += X_adv \n",
    "        # print(torch.tensor(original_sizes).size())\n",
    "        original_sizes_list.append(torch.tensor(original_sizes_base))\n",
    "        loss_attack_list.append(loss_attack)\n",
    "        all_losses.append(batch_losses)\n",
    "\n",
    "        # save loss tensor here\n",
    "\n",
    "# X_adv = torch.cat(X_adv_list,axis=0).cpu()\n",
    "loss_tensor_path = f'./results/loss_tensor_{args[\"task_data_pth\"].split(\"/\")[-1]}.pt'\n",
    "\n",
    "X_adv = X_adv_list\n",
    "original_sizes_base = torch.cat(original_sizes_list,axis=0)\n",
    "loss_attack = torch.cat(loss_attack_list,dim=0)\n",
    "torch.save(torch.tensor(batch_losses), loss_tensor_path)"
   ]
  },
  {
   "cell_type": "code",
   "execution_count": null,
   "metadata": {},
   "outputs": [],
   "source": []
  }
 ],
 "metadata": {
  "kernelspec": {
   "display_name": "VLM_Poisoning",
   "language": "python",
   "name": "python3"
  },
  "language_info": {
   "codemirror_mode": {
    "name": "ipython",
    "version": 3
   },
   "file_extension": ".py",
   "mimetype": "text/x-python",
   "name": "python",
   "nbconvert_exporter": "python",
   "pygments_lexer": "ipython3",
   "version": "3.10.15"
  }
 },
 "nbformat": 4,
 "nbformat_minor": 2
}
