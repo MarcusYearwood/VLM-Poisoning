{
 "cells": [
  {
   "cell_type": "code",
   "execution_count": 1,
   "metadata": {},
   "outputs": [],
   "source": [
    "import os\n",
    "import torch\n",
    "import json\n",
    "import argparse\n",
    "from tqdm import tqdm\n",
    "import torch.optim as optim\n",
    "from torchvision.utils import save_image\n",
    "\n",
    "from training_models import MyClip\n",
    "\n",
    "from datasets import collate_fn_image, ImageDataset\n",
    "\n",
    "from torchvision import transforms"
   ]
  },
  {
   "cell_type": "code",
   "execution_count": 2,
   "metadata": {},
   "outputs": [],
   "source": [
    "dataset_name = \"mini_MathVista_grid\"\n",
    "args = {\n",
    "    \"model\": \"clip\",\n",
    "    \"poison_save_pth\": f\"./data/poisons/{dataset_name}\",\n",
    "    \"iter_attack\": 500,\n",
    "    \"lr_attack\": 0.2,\n",
    "    \"base_data_pth\": f\"data/{dataset_name}/base\",\n",
    "    \"target_data_pth\": f\"data/{dataset_name}/target\",\n",
    "    \"questions_pth\": f\"data/{dataset_name}/questions.json\",\n",
    "    \"temperature\": 0,\n",
    "    \"max_new_tokens\": 200,\n",
    "    \"eps\": 16,\n",
    "}\n",
    "def read_json(path):\n",
    "    with open(path, 'r', encoding='utf-8') as f:\n",
    "        return json.load(f)\n",
    "\n",
    "encoder_model = MyClip()\n",
    "\n",
    "question_json = read_json(args[\"questions_pth\"])\n",
    "pids = question_json.keys()\n",
    "\n",
    "\n",
    "\n",
    "base_caps = read_json(os.path.join(args[\"base_data_pth\"], \"caps.json\"))\n",
    "target_caps = read_json(os.path.join(args[\"target_data_pth\"], \"caps.json\"))"
   ]
  },
  {
   "cell_type": "code",
   "execution_count": 47,
   "metadata": {},
   "outputs": [],
   "source": [
    "def collate_fn_image(batch):\n",
    "    image, caps = zip(*batch)\n",
    "    image = torch.stack(image, dim=0)\n",
    "    bsz, c, h, w = image.shape\n",
    "    assert bsz == 1\n",
    "    \n",
    "    return image, caps[0]"
   ]
  },
  {
   "cell_type": "code",
   "execution_count": 48,
   "metadata": {},
   "outputs": [],
   "source": [
    "base_dataset = ImageDataset(base_caps[\"annotations\"])\n",
    "target_dataset = ImageDataset(target_caps[\"annotations\"])\n",
    "\n",
    "base_dataloader = torch.utils.data.DataLoader(\n",
    "    base_dataset, batch_size=1, \n",
    "    shuffle=False, collate_fn=collate_fn_image\n",
    ")\n",
    "\n",
    "target_dataloader = torch.utils.data.DataLoader(\n",
    "    target_dataset, batch_size=1, \n",
    "    shuffle=False, collate_fn=collate_fn_image\n",
    ")"
   ]
  },
  {
   "cell_type": "code",
   "execution_count": 50,
   "metadata": {},
   "outputs": [],
   "source": []
  },
  {
   "cell_type": "code",
   "execution_count": 52,
   "metadata": {},
   "outputs": [
    {
     "data": {
      "text/plain": [
       "torch.Tensor"
      ]
     },
     "execution_count": 52,
     "metadata": {},
     "output_type": "execute_result"
    }
   ],
   "source": []
  },
  {
   "cell_type": "code",
   "execution_count": null,
   "metadata": {},
   "outputs": [],
   "source": []
  }
 ],
 "metadata": {
  "kernelspec": {
   "display_name": "VLM_Poisoning",
   "language": "python",
   "name": "python3"
  },
  "language_info": {
   "codemirror_mode": {
    "name": "ipython",
    "version": 3
   },
   "file_extension": ".py",
   "mimetype": "text/x-python",
   "name": "python",
   "nbconvert_exporter": "python",
   "pygments_lexer": "ipython3",
   "version": "3.10.16"
  }
 },
 "nbformat": 4,
 "nbformat_minor": 2
}
