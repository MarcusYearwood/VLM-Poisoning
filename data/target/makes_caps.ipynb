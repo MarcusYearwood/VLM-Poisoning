{
 "cells": [
  {
   "cell_type": "code",
   "execution_count": 6,
   "metadata": {},
   "outputs": [],
   "source": [
    "import json\n",
    "import os\n",
    "from transformers import AutoModelForCausalLM, AutoTokenizer\n",
    "from transformers.generation import GenerationConfig\n",
    "import torch\n",
    "from PIL import Image\n",
    "from tqdm import tqdm\n",
    "import re"
   ]
  },
  {
   "cell_type": "code",
   "execution_count": 2,
   "metadata": {},
   "outputs": [
    {
     "name": "stderr",
     "output_type": "stream",
     "text": [
      "The model is automatically converting to bf16 for faster inference. If you want to disable the automatic precision, please manually add bf16/fp16/fp32=True to \"AutoModelForCausalLM.from_pretrained\".\n"
     ]
    },
    {
     "data": {
      "application/vnd.jupyter.widget-view+json": {
       "model_id": "cbab536b6f0248c78bff676bd49585af",
       "version_major": 2,
       "version_minor": 0
      },
      "text/plain": [
       "Loading checkpoint shards:   0%|          | 0/10 [00:00<?, ?it/s]"
      ]
     },
     "metadata": {},
     "output_type": "display_data"
    }
   ],
   "source": [
    "tokenizer = AutoTokenizer.from_pretrained(\"Qwen/Qwen-VL\", trust_remote_code=True)\n",
    "model = AutoModelForCausalLM.from_pretrained(\"Qwen/Qwen-VL\", trust_remote_code=True).eval().cuda()"
   ]
  },
  {
   "cell_type": "code",
   "execution_count": 31,
   "metadata": {},
   "outputs": [],
   "source": [
    "def generate_caption(img_pth):\n",
    "    query = tokenizer.from_list_format([\n",
    "        {'image': img_pth},\n",
    "        {'text': 'In two or more sentences, describe the image in extensive detail:'},\n",
    "    ])\n",
    "    inputs = tokenizer(query, return_tensors='pt')\n",
    "    inputs = inputs.to(model.device)\n",
    "    pred = model.generate(**inputs, max_new_tokens=300)\n",
    "    raw_output = tokenizer.decode(pred.cpu()[0], skip_special_tokens=False)\n",
    "    response = re.search(r\":(.*?)<\\|endoftext\\|>\", raw_output)\n",
    "    \n",
    "    # Return clean caption if found, otherwise return raw output\n",
    "    return response.group(1).strip() if response else raw_output\n",
    "    return response"
   ]
  },
  {
   "cell_type": "code",
   "execution_count": 4,
   "metadata": {},
   "outputs": [],
   "source": [
    "images = [img for img in os.listdir(\"./\") if img.split(\".\")[-1] in [\"png\", \"jpg\", \"jpeg\"]]"
   ]
  },
  {
   "cell_type": "code",
   "execution_count": 32,
   "metadata": {},
   "outputs": [
    {
     "name": "stderr",
     "output_type": "stream",
     "text": [
      " 11%|█         | 2/19 [00:02<00:16,  1.02it/s]"
     ]
    },
    {
     "name": "stdout",
     "output_type": "stream",
     "text": [
      "This image depicts a bar chart that contains four bars. The bars are labeled as follows: Lorem, Ipsum, Dolor, and Sit. The bars are all of the same height, and they are all of the same width. The bar chart is drawn on a white background.\n"
     ]
    },
    {
     "name": "stderr",
     "output_type": "stream",
     "text": [
      "100%|██████████| 19/19 [00:21<00:00,  1.15s/it]\n"
     ]
    }
   ],
   "source": [
    "caps = []\n",
    "for i, img_pth in tqdm(enumerate(images), total=len(images)):\n",
    "    img_cap = generate_caption(img_pth)\n",
    "    if i == 0:\n",
    "        print(img_cap)\n",
    "    caps.append({\n",
    "        \"path\": img_pth,\n",
    "        \"pid\": str(i),\n",
    "        \"name\": \".\".join(img_pth.split(\".\")[:-1]),\n",
    "        \"caption\": img_cap\n",
    "    })"
   ]
  },
  {
   "cell_type": "code",
   "execution_count": 35,
   "metadata": {},
   "outputs": [],
   "source": [
    "path = \"cap.json\""
   ]
  },
  {
   "cell_type": "code",
   "execution_count": 36,
   "metadata": {},
   "outputs": [],
   "source": [
    "with open(path, 'w') as f:\n",
    "    json.dump(caps, f, indent=4)"
   ]
  }
 ],
 "metadata": {
  "kernelspec": {
   "display_name": "VLM_Poisoning",
   "language": "python",
   "name": "python3"
  },
  "language_info": {
   "codemirror_mode": {
    "name": "ipython",
    "version": 3
   },
   "file_extension": ".py",
   "mimetype": "text/x-python",
   "name": "python",
   "nbconvert_exporter": "python",
   "pygments_lexer": "ipython3",
   "version": "3.10.16"
  }
 },
 "nbformat": 4,
 "nbformat_minor": 2
}
