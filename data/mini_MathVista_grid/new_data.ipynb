{
 "cells": [
  {
   "cell_type": "code",
   "execution_count": null,
   "metadata": {},
   "outputs": [],
   "source": [
    "import os\n",
    "from PIL import Image\n",
    "from tqdm import tqdm\n",
    "\n",
    "size = 512\n",
    "\n",
    "# Paths\n",
    "source_folder = \"./base\"\n",
    "dest_folder = f\"./base_{size}\"\n",
    "\n",
    "# Create the destination folder if it doesn't exist\n",
    "os.makedirs(dest_folder, exist_ok=True)\n",
    "\n",
    "# Loop through the files in the source folder\n",
    "for file_name in tqdm(os.listdir(source_folder)):\n",
    "    # Only process JPG files\n",
    "    if file_name.lower().endswith(\".jpg\"):\n",
    "        source_path = os.path.join(source_folder, file_name)\n",
    "        dest_path = os.path.join(dest_folder, file_name)\n",
    "        \n",
    "        # Open the image\n",
    "        with Image.open(source_path) as img:\n",
    "            # Resize to 224x224 with bicubic interpolation\n",
    "            resized_img = img.resize((size, size), resample=Image.BICUBIC)\n",
    "            \n",
    "            # Save the resized image to the destination folder\n",
    "            resized_img.save(dest_path)\n"
   ]
  }
 ],
 "metadata": {
  "kernelspec": {
   "display_name": "VLM_Poisoning",
   "language": "python",
   "name": "python3"
  },
  "language_info": {
   "codemirror_mode": {
    "name": "ipython",
    "version": 3
   },
   "file_extension": ".py",
   "mimetype": "text/x-python",
   "name": "python",
   "nbconvert_exporter": "python",
   "pygments_lexer": "ipython3",
   "version": "3.10.15"
  }
 },
 "nbformat": 4,
 "nbformat_minor": 2
}
