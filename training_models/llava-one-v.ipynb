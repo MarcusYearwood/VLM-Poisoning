{
 "cells": [
  {
   "cell_type": "code",
   "execution_count": null,
   "metadata": {},
   "outputs": [],
   "source": [
    "class MyClip():\n",
    "    def __init__(self):\n",
    "        warnings.filterwarnings(\"ignore\")\n",
    "        model_name = \"openai/clip-vit-base-patch32\"\n",
    "        self.device = torch.device(\"cuda\" if torch.cuda.is_available() else \"cpu\")\n",
    "\n",
    "        self.clip_vision_model = CLIPVisionModelWithProjection.from_pretrained(model_name).to(self.device)\n",
    "        self.clip_text_model = CLIPTextModelWithProjection.from_pretrained(model_name).to(self.device)\n",
    "        self.tokenizer = AutoTokenizer.from_pretrained(model_name)\n",
    "        \n",
    "        self.input_res = self.clip_vision_model.vision_model.config.image_size\n",
    "\n",
    "    def encode_image(self, image):\n",
    "        outputs = self.clip_vision_model(pixel_values=clip_preprocess(image))\n",
    "        return outputs.image_embeds\n",
    "\n",
    "    def encode_text(self, text):\n",
    "        inputs = self.tokenizer(text, padding=True, return_tensors=\"pt\")\n",
    "        inputs.to(self.device)\n",
    "        outputs = self.clip_text_model(**inputs)\n",
    "        return outputs.text_embeds\n"
   ]
  },
  {
   "cell_type": "code",
   "execution_count": null,
   "metadata": {},
   "outputs": [],
   "source": []
  }
 ],
 "metadata": {
  "language_info": {
   "name": "python"
  }
 },
 "nbformat": 4,
 "nbformat_minor": 2
}
