{
 "cells": [
  {
   "cell_type": "code",
   "execution_count": 1,
   "metadata": {},
   "outputs": [
    {
     "name": "stderr",
     "output_type": "stream",
     "text": [
      "/home/users/mxy/miniconda3/envs/VLM_Poisoning/lib/python3.10/site-packages/bitsandbytes/cextension.py:34: UserWarning: The installed version of bitsandbytes was compiled without GPU support. 8-bit optimizers, 8-bit multiplication, and GPU quantization are unavailable.\n",
      "  warn(\"The installed version of bitsandbytes was compiled without GPU support. \"\n"
     ]
    },
    {
     "name": "stdout",
     "output_type": "stream",
     "text": [
      "/home/users/mxy/miniconda3/envs/VLM_Poisoning/lib/python3.10/site-packages/bitsandbytes/libbitsandbytes_cpu.so: undefined symbol: cadam32bit_grad_fp32\n",
      "[2025-01-09 20:24:18,253] [INFO] [real_accelerator.py:110:get_accelerator] Setting ds_accelerator to cuda (auto detect)\n"
     ]
    }
   ],
   "source": [
    "import torch\n",
    "from transformers import CLIPModel, CLIPProcessor, CLIPVisionModel, CLIPVisionModelWithProjection\n",
    "from PIL import Image\n",
    "import torchvision\n",
    "from torch.nn import DataParallel\n",
    "import torchvision.transforms as T\n",
    "from torchvision.transforms import InterpolationMode\n",
    "import warnings\n",
    "import numpy as np"
   ]
  },
  {
   "cell_type": "code",
   "execution_count": 2,
   "metadata": {},
   "outputs": [
    {
     "name": "stderr",
     "output_type": "stream",
     "text": [
      "`text_config_dict` is provided which will be used to initialize `CLIPTextConfig`. The value `text_config[\"id2label\"]` will be overriden.\n",
      "`text_config_dict` is provided which will be used to initialize `CLIPTextConfig`. The value `text_config[\"bos_token_id\"]` will be overriden.\n",
      "`text_config_dict` is provided which will be used to initialize `CLIPTextConfig`. The value `text_config[\"eos_token_id\"]` will be overriden.\n"
     ]
    }
   ],
   "source": [
    "warnings.filterwarnings(\"ignore\")\n",
    "model_name = \"openai/clip-vit-large-patch14\"\n",
    "clip_model = CLIPModel.from_pretrained(model_name).eval()\n",
    "clip_vision_model = CLIPVisionModelWithProjection.from_pretrained(\"openai/clip-vit-base-patch32\")\n",
    "# clip_vision_model = CLIPVisionModel.from_pretrained(\"openai/clip-vit-base-patch32\")\n",
    "processor = CLIPProcessor.from_pretrained(model_name)"
   ]
  },
  {
   "cell_type": "code",
   "execution_count": 3,
   "metadata": {},
   "outputs": [],
   "source": [
    "input_res=clip_vision_model.vision_model.config.image_size"
   ]
  },
  {
   "cell_type": "code",
   "execution_count": null,
   "metadata": {},
   "outputs": [],
   "source": []
  },
  {
   "cell_type": "code",
   "execution_count": 4,
   "metadata": {},
   "outputs": [],
   "source": [
    "img_path = \"../data/mini_MathVista_grid/target/bar.png\"\n",
    "\n",
    "with Image.open(img_path) as img:\n",
    "    pil_image = img\n",
    "    img_tensor = torchvision.transforms.PILToTensor()(img.convert('RGB'))"
   ]
  },
  {
   "cell_type": "code",
   "execution_count": 5,
   "metadata": {},
   "outputs": [
    {
     "data": {
      "text/plain": [
       "torch.Size([3, 553, 699])"
      ]
     },
     "execution_count": 5,
     "metadata": {},
     "output_type": "execute_result"
    }
   ],
   "source": [
    "img_tensor.shape"
   ]
  },
  {
   "cell_type": "code",
   "execution_count": 6,
   "metadata": {},
   "outputs": [],
   "source": [
    "device = clip_vision_model.device"
   ]
  },
  {
   "cell_type": "code",
   "execution_count": 7,
   "metadata": {},
   "outputs": [],
   "source": [
    "inputs = processor(images=img_tensor, return_tensors=\"pt\")\n",
    "# processed_img = torch.from_numpy(np.array(processor.image_processor.preprocess(img_tensor)[\"pixel_values\"])).cuda()\n",
    "inputs = inputs.to(device)"
   ]
  },
  {
   "cell_type": "code",
   "execution_count": 8,
   "metadata": {},
   "outputs": [],
   "source": [
    "outputs = clip_vision_model(**inputs)"
   ]
  },
  {
   "cell_type": "code",
   "execution_count": 9,
   "metadata": {},
   "outputs": [],
   "source": [
    "last_hidden_state_tensor = outputs.last_hidden_state"
   ]
  },
  {
   "cell_type": "code",
   "execution_count": 10,
   "metadata": {},
   "outputs": [
    {
     "data": {
      "image/png": "[encoded data removed]",
      "text/plain": [
       "<PIL.PngImagePlugin.PngImageFile image mode=RGBA size=699x553>"
      ]
     },
     "execution_count": 10,
     "metadata": {},
     "output_type": "execute_result"
    }
   ],
   "source": [
    "pil_image"
   ]
  },
  {
   "cell_type": "code",
   "execution_count": 11,
   "metadata": {},
   "outputs": [],
   "source": [
    "pil_inputs = processor(images=pil_image, return_tensors=\"pt\")\n",
    "pil_outputs = clip_vision_model(**pil_inputs)\n",
    "last_hidden_state_pil = pil_outputs.last_hidden_state"
   ]
  },
  {
   "cell_type": "code",
   "execution_count": 12,
   "metadata": {},
   "outputs": [
    {
     "data": {
      "text/plain": [
       "tensor([[[True, True, True,  ..., True, True, True],\n",
       "         [True, True, True,  ..., True, True, True],\n",
       "         [True, True, True,  ..., True, True, True],\n",
       "         ...,\n",
       "         [True, True, True,  ..., True, True, True],\n",
       "         [True, True, True,  ..., True, True, True],\n",
       "         [True, True, True,  ..., True, True, True]]])"
      ]
     },
     "execution_count": 12,
     "metadata": {},
     "output_type": "execute_result"
    }
   ],
   "source": [
    "last_hidden_state_pil == last_hidden_state_tensor"
   ]
  },
  {
   "cell_type": "code",
   "execution_count": 2,
   "metadata": {},
   "outputs": [
    {
     "name": "stdout",
     "output_type": "stream",
     "text": [
      "[2025-01-09 23:15:27,154] [INFO] [real_accelerator.py:110:get_accelerator] Setting ds_accelerator to cuda (auto detect)\n"
     ]
    }
   ],
   "source": [
    "from clip import MyClip"
   ]
  },
  {
   "cell_type": "code",
   "execution_count": 3,
   "metadata": {},
   "outputs": [],
   "source": [
    "model = MyClip()"
   ]
  },
  {
   "cell_type": "code",
   "execution_count": 5,
   "metadata": {},
   "outputs": [],
   "source": [
    "text_embeds = model.encode_text(\"hello, my name e jeff\")"
   ]
  },
  {
   "cell_type": "code",
   "execution_count": 6,
   "metadata": {},
   "outputs": [
    {
     "data": {
      "text/plain": [
       "torch.Size([1, 512])"
      ]
     },
     "execution_count": 6,
     "metadata": {},
     "output_type": "execute_result"
    }
   ],
   "source": [
    "text_embeds.shape"
   ]
  },
  {
   "cell_type": "code",
   "execution_count": null,
   "metadata": {},
   "outputs": [],
   "source": []
  },
  {
   "cell_type": "markdown",
   "metadata": {},
   "source": [
    "# AEGE Work"
   ]
  },
  {
   "cell_type": "code",
   "execution_count": 1,
   "metadata": {},
   "outputs": [],
   "source": [
    "import sys\n",
    "import os\n",
    "sys.path.append(os.path.abspath(\"..\"))  # Adjust as needed\n",
    "\n",
    "from models.CLIP.clip import clip"
   ]
  },
  {
   "cell_type": "code",
   "execution_count": 2,
   "metadata": {},
   "outputs": [],
   "source": [
    "import torchvision"
   ]
  },
  {
   "cell_type": "code",
   "execution_count": 3,
   "metadata": {},
   "outputs": [],
   "source": [
    "from PIL import Image"
   ]
  },
  {
   "cell_type": "code",
   "execution_count": 4,
   "metadata": {},
   "outputs": [],
   "source": [
    "import torch"
   ]
  },
  {
   "cell_type": "code",
   "execution_count": 54,
   "metadata": {},
   "outputs": [],
   "source": [
    "import numpy as np"
   ]
  },
  {
   "cell_type": "code",
   "execution_count": 41,
   "metadata": {},
   "outputs": [],
   "source": [
    "device = \"cuda\"\n",
    "\n",
    "clip_rn_50,_ = clip.load('RN50', device=device)\n",
    "clip_rn_101,_ = clip.load('RN101', device=device)\n",
    "clip_vit_b_16,_ = clip.load('ViT-B/16', device=device)\n",
    "clip_vit_b_32,_ = clip.load('ViT-B/32', device=device)\n",
    "clip_vit_l_14,_ = clip.load('ViT-L/14', device=device)\n",
    "models = [clip_rn_50, clip_rn_101, clip_vit_b_16, clip_vit_b_32, clip_vit_l_14]\n",
    "# models = [clip_vit_b_32]\n",
    "clip_preprocess = torchvision.transforms.Compose(\n",
    "    [\n",
    "        torchvision.transforms.Resize(clip_vit_b_32.visual.input_resolution, interpolation=torchvision.transforms.InterpolationMode.BICUBIC, antialias=True),\n",
    "        # torchvision.transforms.Lambda(lambda img: torch.clamp(img, 0.0, 255.0) / 255.0),\n",
    "        torchvision.transforms.CenterCrop(clip_vit_b_32.visual.input_resolution),\n",
    "        torchvision.transforms.Normalize((0.48145466, 0.4578275, 0.40821073), (0.26862954, 0.26130258, 0.27577711)), # CLIP imgs mean and std.\n",
    "    ]\n",
    ")\n",
    "final_preprocess = torchvision.transforms.Compose(\n",
    "    [\n",
    "        torchvision.transforms.Resize(clip_vit_b_32.visual.input_resolution, interpolation=torchvision.transforms.InterpolationMode.BICUBIC, antialias=True),\n",
    "        # torchvision.transforms.Lambda(lambda img: torch.clamp(img, 0.0, 255.0) / 255.0),\n",
    "        torchvision.transforms.CenterCrop(clip_vit_b_32.visual.input_resolution),\n",
    "    ]\n",
    ")\n"
   ]
  },
  {
   "cell_type": "code",
   "execution_count": 55,
   "metadata": {},
   "outputs": [],
   "source": [
    "def to_tensor(pic):\n",
    "    mode_to_nptype = {\"I\": np.int32, \"I;16\": np.int16, \"F\": np.float32}\n",
    "    img = torch.from_numpy(np.array(pic, mode_to_nptype.get(pic.mode, np.uint8), copy=True))\n",
    "    img = img.view(pic.size[1], pic.size[0], len(pic.getbands()))\n",
    "    img = img.permute((2, 0, 1)).contiguous()\n",
    "    return img.to(dtype=torch.get_default_dtype())"
   ]
  },
  {
   "cell_type": "code",
   "execution_count": 56,
   "metadata": {},
   "outputs": [],
   "source": [
    "transform_fn = torchvision.transforms.Compose(\n",
    "        [\n",
    "            torchvision.transforms.Resize(224, interpolation=torchvision.transforms.InterpolationMode.BICUBIC),\n",
    "            torchvision.transforms.CenterCrop(224),\n",
    "            torchvision.transforms.Lambda(lambda img: img.convert(\"RGB\")),\n",
    "            torchvision.transforms.Lambda(lambda img: to_tensor(img)),\n",
    "            torchvision.transforms.Lambda(lambda img: torch.clamp(img, 0.0, 255.0) / 255.0),\n",
    "        ]\n",
    "    )\n",
    "transform_fn_org = torchvision.transforms.Compose(\n",
    "    [\n",
    "        torchvision.transforms.Resize(256, interpolation=torchvision.transforms.InterpolationMode.BICUBIC),\n",
    "        torchvision.transforms.CenterCrop(256),\n",
    "        torchvision.transforms.ToTensor(), # [0, 1]\n",
    "        torchvision.transforms.Lambda(lambda img: (img * 2 - 1)),\n",
    "        # torchvision.transforms.Lambda(lambda img: img.convert(\"RGB\")),\n",
    "        # torchvision.transforms.Lambda(lambda img: to_tensor(img)),\n",
    "    ]\n",
    ")"
   ]
  },
  {
   "cell_type": "code",
   "execution_count": 57,
   "metadata": {},
   "outputs": [],
   "source": [
    "img_path = \"../data/mini_MathVista_grid/target/bar.png\"\n",
    "\n",
    "with Image.open(img_path) as img:\n",
    "    pil_image = img\n",
    "    img_tensor = transform_fn(img.convert('RGB'))"
   ]
  },
  {
   "cell_type": "code",
   "execution_count": 60,
   "metadata": {},
   "outputs": [],
   "source": [
    "# image_tgt = img_tensor.to(torch.float16).to(device)\n",
    "image_tgt = img_tensor.to(device)"
   ]
  },
  {
   "cell_type": "code",
   "execution_count": 62,
   "metadata": {},
   "outputs": [],
   "source": [
    "image_tgt = image_tgt.unsqueeze(0)"
   ]
  },
  {
   "cell_type": "code",
   "execution_count": 63,
   "metadata": {},
   "outputs": [],
   "source": [
    "with torch.no_grad():\n",
    "    tgt_image_features_list=[]\n",
    "    image_tgt = clip_preprocess(image_tgt)\n",
    "    for clip_model in models:\n",
    "        tgt_image_features = clip_model.encode_image(image_tgt)  # [bs, 512]\n",
    "        tgt_image_features = tgt_image_features / tgt_image_features.norm(dim=1, keepdim=True)\n",
    "        tgt_image_features_list.append(tgt_image_features)"
   ]
  },
  {
   "cell_type": "code",
   "execution_count": 64,
   "metadata": {},
   "outputs": [],
   "source": [
    "for i, feat in enumerate(tgt_image_features_list):\n",
    "    if torch.all(torch.isnan(feat)):\n",
    "        print(\"nothing here man\", i)"
   ]
  },
  {
   "cell_type": "code",
   "execution_count": 65,
   "metadata": {},
   "outputs": [
    {
     "data": {
      "text/plain": [
       "[tensor([[ 0.0439, -0.0006, -0.0093,  ...,  0.0137, -0.0059, -0.0108]],\n",
       "        device='cuda:0', dtype=torch.float16),\n",
       " tensor([[-2.6962e-02, -5.5847e-02, -4.1779e-02, -4.4975e-03,  5.0659e-02,\n",
       "          -4.9652e-02, -2.4872e-02, -4.3854e-02, -7.5569e-03,  2.3804e-02,\n",
       "          -7.4097e-02, -2.6810e-02,  3.6964e-03, -9.6069e-02, -8.5754e-02,\n",
       "          -6.7444e-02,  6.9275e-02,  2.3071e-02,  1.1101e-02, -2.1500e-02,\n",
       "           1.6434e-02, -5.8502e-02,  2.2202e-02, -5.7373e-02,  5.2917e-02,\n",
       "           2.6825e-02, -2.1095e-03,  2.3834e-02,  1.8478e-02,  4.6509e-02,\n",
       "           6.1035e-03,  3.0075e-02, -4.7882e-02, -1.2665e-02, -4.4342e-02,\n",
       "           2.1820e-02,  8.4839e-03,  5.6114e-03,  2.4811e-02,  9.9060e-02,\n",
       "          -3.2410e-02,  1.0132e-02,  7.3433e-03,  5.8075e-02, -3.2166e-02,\n",
       "          -4.5807e-02,  1.0170e-02,  5.6091e-02,  3.6621e-02,  5.1483e-02,\n",
       "          -3.9246e-02,  3.7041e-03,  2.2156e-02,  2.0126e-02,  1.5472e-02,\n",
       "          -6.0577e-03,  1.3016e-02, -8.2550e-03, -1.5869e-02,  2.0447e-02,\n",
       "           7.0305e-03, -9.8190e-03,  4.5044e-02, -4.4891e-02,  1.4519e-02,\n",
       "           4.7638e-02,  2.6825e-02,  1.9272e-02, -2.5158e-03,  3.3295e-02,\n",
       "          -5.7578e-05, -3.6530e-02,  2.4353e-02, -1.0963e-02, -3.6163e-02,\n",
       "           1.8173e-02,  2.1133e-02,  5.9723e-02,  8.7280e-03, -4.9011e-02,\n",
       "           7.4158e-03, -3.2104e-02, -4.0855e-03, -2.7161e-02, -4.9164e-02,\n",
       "          -3.6224e-02,  1.4999e-02, -2.3880e-02, -6.2866e-02,  6.6589e-02,\n",
       "           1.9470e-02, -9.4788e-02, -1.6129e-02,  1.4453e-01, -7.3547e-03,\n",
       "          -1.9379e-03,  8.3130e-02,  1.6785e-03,  3.9764e-02, -3.7785e-03,\n",
       "          -3.0499e-03,  7.2021e-03, -3.6713e-02,  4.6448e-02,  5.4199e-02,\n",
       "          -2.5177e-02, -4.1443e-02, -8.7769e-02,  4.0680e-02,  4.3396e-02,\n",
       "          -4.5204e-04,  4.9347e-02,  2.3178e-02,  5.2307e-02, -1.7624e-02,\n",
       "           8.3389e-03, -5.0020e-04, -1.7303e-02,  4.5990e-02, -8.0383e-02,\n",
       "           3.9642e-02,  4.7760e-02,  8.7036e-02, -4.1199e-03, -2.1103e-02,\n",
       "           4.4128e-02, -2.2400e-02, -4.1718e-02,  5.6549e-02, -2.2659e-02,\n",
       "          -8.5999e-02, -1.3237e-02, -2.7435e-02,  3.6377e-02, -7.9468e-02,\n",
       "           1.0811e-02, -2.2949e-02, -5.7281e-02, -3.0869e-02,  9.6558e-02,\n",
       "           2.6520e-02, -1.8860e-02,  1.2413e-02, -1.4015e-02, -2.4475e-02,\n",
       "          -3.7903e-02,  2.2903e-02, -6.0272e-03, -8.1787e-02, -4.4365e-03,\n",
       "           1.3062e-02, -4.3701e-02, -1.2772e-02, -1.6479e-02, -9.6130e-04,\n",
       "          -7.1373e-03,  1.6571e-02,  2.3849e-02,  4.4312e-02, -9.0698e-02,\n",
       "           6.4209e-02,  1.2244e-01, -4.7699e-02, -7.8247e-02,  3.3142e-02,\n",
       "          -3.8727e-02,  1.1692e-03, -2.1576e-02, -1.4137e-02,  3.2532e-02,\n",
       "           2.0561e-03, -2.5177e-02,  4.8027e-03, -4.9591e-02,  4.1870e-02,\n",
       "          -5.9418e-02,  8.1177e-03, -3.1647e-02,  2.3163e-02, -1.7643e-03,\n",
       "          -5.4718e-02, -1.6479e-02,  1.4555e-04, -3.1281e-02, -1.8631e-02,\n",
       "           3.8910e-02,  4.8904e-03, -2.7634e-02,  8.4839e-03,  3.9520e-02,\n",
       "          -1.0147e-02, -3.6102e-02, -1.8463e-02,  1.8873e-03, -3.5095e-02,\n",
       "          -4.9103e-02, -5.6877e-03, -2.5665e-02, -5.3284e-02, -2.0065e-02,\n",
       "           3.2532e-02,  2.4872e-02,  1.7441e-02, -2.3174e-03,  2.1408e-02,\n",
       "           2.0432e-02, -4.3011e-04, -1.3206e-02,  2.1992e-03,  2.2003e-02,\n",
       "          -5.9509e-02, -2.6760e-03,  5.2948e-02, -4.2480e-02,  1.7960e-02,\n",
       "          -2.6306e-02, -6.8779e-03, -1.1597e-02,  5.9605e-06,  1.1086e-02,\n",
       "          -4.2358e-02,  2.0218e-02, -3.0670e-02,  1.7334e-02,  2.3422e-02,\n",
       "           8.7280e-03, -2.2202e-02,  3.1677e-02, -2.5244e-01,  1.4664e-02,\n",
       "          -4.5074e-02,  1.6833e-01,  2.6398e-02,  6.4880e-02, -9.6436e-03,\n",
       "          -2.5894e-02, -6.7688e-02, -5.5786e-02, -2.0233e-02,  3.0045e-02,\n",
       "           9.4376e-03,  4.1580e-03,  8.6365e-02, -1.3924e-02, -5.1422e-02,\n",
       "           3.0746e-02,  4.7791e-02, -6.8848e-02,  1.5984e-03,  9.4299e-03,\n",
       "          -6.9153e-02, -9.5581e-02, -1.3283e-02, -3.5767e-02,  3.2379e-02,\n",
       "           2.8534e-02, -2.7298e-02,  2.9160e-02,  5.0964e-02,  1.7967e-03,\n",
       "           1.2672e-02,  1.7334e-02,  2.5375e-02,  1.1826e-02,  8.2550e-03,\n",
       "          -1.1879e-02, -9.6893e-03, -2.4155e-02,  3.6224e-02, -6.2500e-02,\n",
       "          -3.6087e-03,  2.5421e-02, -5.1636e-02,  1.7334e-02, -1.7838e-02,\n",
       "           2.8046e-02, -4.1443e-02, -3.6831e-03, -4.8798e-02,  1.3763e-02,\n",
       "          -1.7044e-02,  3.8391e-02, -5.2834e-03, -6.4941e-02,  1.2993e-02,\n",
       "           5.7831e-02, -2.8946e-02, -2.4933e-02,  8.5022e-02, -9.6985e-02,\n",
       "          -3.5767e-02,  1.2985e-02, -3.9734e-02, -1.7197e-02,  1.8402e-02,\n",
       "          -3.9886e-02, -5.8685e-02, -2.0035e-02, -3.6072e-02, -4.1931e-02,\n",
       "          -7.3357e-03, -1.5259e-02, -1.6556e-02, -4.2206e-02,  6.0242e-02,\n",
       "          -1.7944e-02,  1.6916e-04, -8.3637e-04,  1.1148e-03,  2.8183e-02,\n",
       "          -1.6846e-01, -7.9880e-03, -1.4734e-01, -1.8509e-02,  3.0182e-02,\n",
       "           1.3817e-02,  3.0441e-03,  1.1616e-03,  2.5528e-02,  1.6312e-02,\n",
       "          -1.2779e-02,  4.2664e-02,  7.5928e-02, -4.2755e-02, -6.8787e-02,\n",
       "          -4.0405e-02,  5.2277e-02,  4.1656e-02,  1.3550e-02, -4.8279e-02,\n",
       "           6.9733e-03,  1.8997e-02, -7.5562e-02, -1.5259e-04,  5.8441e-02,\n",
       "          -5.5511e-02,  1.9684e-02, -8.6853e-02, -4.5349e-02, -5.6791e-04,\n",
       "          -2.1347e-02, -7.3608e-02, -3.6133e-02,  1.0513e-02,  3.9978e-03,\n",
       "          -1.8784e-02, -5.2551e-02,  1.5823e-02,  5.5115e-02,  6.1554e-02,\n",
       "           7.3853e-03,  2.9392e-03, -1.2154e-02,  2.1027e-02, -3.9749e-03,\n",
       "           4.2480e-02,  2.4597e-02, -5.9570e-02, -9.4055e-02, -3.4943e-02,\n",
       "          -1.8341e-02,  1.6296e-02, -1.4977e-02, -1.6083e-02, -2.1606e-02,\n",
       "          -4.7058e-02, -1.2560e-03, -2.1606e-02, -2.3632e-03, -5.6274e-02,\n",
       "           4.1931e-02,  1.4885e-02, -1.6312e-02,  2.5497e-02, -4.8706e-02,\n",
       "          -6.0303e-02, -3.7659e-02,  1.4755e-02, -2.2766e-02,  1.9623e-02,\n",
       "          -8.0872e-02,  3.9330e-03,  5.4688e-02, -9.3231e-03,  9.2850e-03,\n",
       "           1.7960e-02,  4.5502e-02,  4.5380e-02,  1.1435e-03,  8.8135e-02,\n",
       "           5.3131e-02, -1.5076e-02, -3.8605e-02,  6.4941e-02, -1.0872e-03,\n",
       "          -2.5818e-02, -3.1860e-02, -9.6741e-03,  1.3069e-02, -4.6204e-02,\n",
       "           1.7700e-01, -3.2928e-02,  7.7454e-02,  2.9869e-03,  2.9106e-03,\n",
       "          -1.5930e-02, -4.0855e-03,  4.5395e-03,  5.9540e-02,  9.4727e-02,\n",
       "          -1.0582e-02,  5.9540e-02,  9.7168e-02, -5.9052e-02,  5.2246e-02,\n",
       "          -1.5656e-02, -1.9150e-02,  6.1035e-02, -1.5610e-02, -4.0253e-02,\n",
       "          -1.9588e-03,  3.5980e-02, -4.3106e-03, -2.5806e-03, -1.3952e-03,\n",
       "          -8.8806e-03, -2.4155e-02,  1.8127e-02,  1.6159e-02,  7.8064e-02,\n",
       "          -4.2114e-02,  3.1067e-02,  1.4290e-02,  4.1885e-03,  3.4771e-03,\n",
       "          -3.8528e-03, -1.9714e-02,  2.2903e-02, -2.2491e-02, -4.5090e-03,\n",
       "          -2.0264e-02, -4.9866e-02, -5.4688e-02, -3.7140e-02, -3.7170e-02,\n",
       "           7.0984e-02, -5.7678e-02, -2.2812e-02, -4.3427e-02, -8.4000e-03,\n",
       "           9.7351e-02,  1.4801e-02, -1.7822e-02,  1.9058e-02, -5.7495e-02,\n",
       "          -2.9861e-02, -1.9348e-02,  5.8929e-02, -1.2347e-01,  3.9215e-03,\n",
       "          -3.8872e-03,  5.5420e-02, -5.9845e-02, -5.0690e-02, -1.4748e-02,\n",
       "           2.8137e-02, -6.2294e-03,  2.3819e-02, -2.9617e-02,  1.5454e-01,\n",
       "           3.6102e-02, -4.9347e-02,  5.3894e-02, -1.1864e-02, -1.5640e-02,\n",
       "          -5.0781e-02,  2.7313e-02, -6.4514e-02, -1.4557e-02,  2.9545e-03,\n",
       "           1.4229e-02,  3.2379e-02, -7.5722e-03, -3.7476e-02, -1.4854e-02,\n",
       "           1.9409e-02, -9.2773e-02, -2.4323e-02,  2.9106e-03,  7.7133e-03,\n",
       "           5.2399e-02, -2.2980e-02, -4.3762e-02,  2.7374e-02,  3.3360e-03,\n",
       "          -9.8938e-02, -2.8870e-02, -5.5298e-02, -1.2726e-02, -7.3242e-02,\n",
       "           2.3361e-02,  4.6295e-02, -5.5618e-03, -2.1286e-02,  2.8168e-02,\n",
       "          -3.1143e-02, -4.1077e-02,  2.5452e-02,  4.0222e-02,  5.6915e-02,\n",
       "          -3.1372e-02, -3.1738e-02]], device='cuda:0', dtype=torch.float16),\n",
       " tensor([[-1.4374e-02, -9.0088e-02,  1.1810e-02, -3.3875e-02, -4.2145e-02,\n",
       "           6.6284e-02,  1.9699e-02, -5.3955e-02, -1.3100e-02, -5.1697e-02,\n",
       "          -2.3972e-02,  5.1025e-02,  2.4506e-02, -9.3155e-03,  8.8577e-03,\n",
       "          -3.4546e-02,  1.8616e-02, -1.6177e-04, -4.5105e-02, -1.8158e-02,\n",
       "           4.4128e-02, -7.9803e-03,  5.0507e-03, -9.3231e-03,  9.4528e-03,\n",
       "           5.8899e-03, -1.4175e-02, -1.7242e-02,  2.5421e-02,  3.5980e-02,\n",
       "          -5.7281e-02, -2.1469e-02,  1.9257e-02,  1.1353e-02, -5.1117e-02,\n",
       "          -5.9547e-03, -2.1011e-02,  2.4529e-03, -1.9608e-02, -2.4918e-02,\n",
       "          -4.9561e-02, -2.2919e-02,  2.9968e-02, -8.1116e-02,  4.6906e-02,\n",
       "          -3.6194e-02, -8.7662e-03, -2.8168e-02,  4.5990e-02, -3.3356e-02,\n",
       "          -2.4536e-02, -4.8035e-02,  1.8219e-02,  3.3264e-02,  2.1744e-02,\n",
       "          -5.2338e-02, -5.5878e-02,  4.4525e-02,  3.0556e-03,  4.9477e-03,\n",
       "           1.2817e-01, -1.9409e-02, -3.9429e-02,  2.5497e-02,  5.2002e-02,\n",
       "          -1.9028e-02,  2.3788e-02, -1.3222e-02,  5.9723e-02, -3.1952e-02,\n",
       "          -1.1864e-02,  1.7258e-02,  4.1626e-02,  3.3325e-02,  1.0559e-02,\n",
       "           3.3386e-02,  3.3798e-03,  3.3112e-02, -2.3315e-02,  1.4839e-02,\n",
       "           2.4445e-02,  1.6992e-01,  8.4305e-03, -8.8043e-03,  3.8849e-02,\n",
       "          -3.7781e-02,  2.4216e-02,  3.7861e-03, -3.3325e-02, -3.2654e-02,\n",
       "          -1.3542e-02,  3.6926e-02,  6.0272e-03,  1.7986e-03,  3.2463e-03,\n",
       "           1.9623e-02,  1.6739e-02,  1.4725e-02,  1.9943e-02, -3.7201e-02,\n",
       "           1.0803e-02, -4.9408e-02, -3.2902e-04, -2.0752e-01, -2.5085e-02,\n",
       "           1.0284e-02,  5.4962e-02,  2.2163e-03, -1.7059e-02,  3.6621e-02,\n",
       "          -3.5553e-02,  2.2888e-02,  8.7891e-02, -4.2511e-02,  1.3628e-03,\n",
       "           1.6068e-02, -2.7512e-02, -3.6812e-03,  1.8280e-02, -4.5593e-02,\n",
       "          -1.2161e-02, -4.5288e-02, -1.0157e-03,  2.6520e-02,  7.8735e-03,\n",
       "           4.8096e-02,  6.0516e-02, -6.0692e-03,  1.4702e-02,  6.5674e-02,\n",
       "           1.1948e-02, -6.9702e-02,  2.3071e-02,  3.6774e-02, -8.1558e-03,\n",
       "           1.3817e-02, -6.3477e-02,  2.4170e-02,  1.3451e-02,  1.8616e-02,\n",
       "          -2.6398e-02, -4.2175e-02,  8.3847e-03,  3.4332e-02,  1.1391e-02,\n",
       "          -1.6724e-02,  6.8359e-02, -4.3335e-02,  9.9411e-03,  1.6541e-02,\n",
       "          -9.1553e-03, -1.0941e-02, -3.5736e-02,  7.2250e-03, -9.7046e-03,\n",
       "          -1.0986e-02,  3.1982e-02,  5.2399e-02,  2.9373e-02, -3.5522e-02,\n",
       "           3.2101e-03,  5.0259e-04, -7.0129e-02,  6.6345e-02,  4.1534e-02,\n",
       "          -1.9928e-02, -6.9466e-03, -3.8208e-02, -2.1774e-02,  4.0558e-02,\n",
       "           1.5900e-02, -5.3101e-02,  1.3794e-02,  1.2215e-02, -5.6381e-03,\n",
       "           3.9581e-02,  1.2264e-03, -9.8343e-03,  1.0577e-01, -3.7289e-03,\n",
       "          -8.4991e-03,  2.6398e-02, -1.0986e-02, -4.3213e-02,  2.2430e-02,\n",
       "           1.4969e-02, -5.4131e-03, -8.4656e-02, -3.1143e-02,  4.4346e-05,\n",
       "          -4.1412e-02,  3.3879e-04, -2.0126e-02,  7.1716e-02,  6.4941e-02,\n",
       "          -2.8519e-02, -3.5736e-02, -1.8864e-03,  2.7359e-02,  5.8350e-02,\n",
       "           2.0081e-02,  1.0651e-02, -1.0433e-03, -8.6121e-02, -8.8577e-03,\n",
       "           3.9520e-02,  2.1027e-02,  6.2256e-03,  6.4926e-03, -3.6072e-02,\n",
       "          -5.6114e-03, -4.6120e-03,  1.8661e-02, -3.1311e-02, -2.2675e-02,\n",
       "           2.9587e-02, -1.6830e-02,  9.3155e-03, -1.3443e-02,  4.9286e-02,\n",
       "          -7.9224e-02,  9.0332e-03,  2.2064e-02, -9.5139e-03,  4.3488e-02,\n",
       "          -2.5406e-02, -1.8854e-03, -2.9175e-02,  5.8250e-03, -3.4393e-02,\n",
       "           1.7868e-02, -1.6312e-02,  9.6741e-02, -4.9530e-02, -3.1311e-02,\n",
       "          -1.0710e-03,  2.7786e-02,  2.2781e-02, -1.1339e-03,  3.4698e-02,\n",
       "           1.7593e-02,  2.4612e-02,  2.5497e-02,  2.2781e-02, -1.5393e-01,\n",
       "           3.0563e-02, -1.6785e-02,  2.8122e-02,  3.4363e-02, -2.7390e-02,\n",
       "           2.1179e-02, -4.4891e-02, -3.9459e-02, -2.5997e-03,  4.7913e-02,\n",
       "           8.2886e-02, -2.3289e-03,  8.3069e-02,  2.5620e-02, -1.5282e-02,\n",
       "           1.8723e-02, -3.0014e-02, -1.5808e-02,  1.1497e-02,  1.7166e-03,\n",
       "           1.6983e-02,  6.0768e-03, -3.2654e-02,  1.4992e-02,  4.7028e-02,\n",
       "          -2.5513e-02,  2.3346e-02,  4.7951e-03,  1.2863e-02, -2.3697e-02,\n",
       "           5.4359e-03, -1.6689e-03, -6.9466e-03, -5.5265e-04, -2.7466e-02,\n",
       "          -1.9989e-02,  3.2959e-03,  4.6600e-02,  2.3788e-02,  5.8556e-03,\n",
       "           3.8433e-03, -1.6388e-02, -3.6896e-02, -2.9633e-02, -3.7201e-02,\n",
       "          -2.5970e-02,  1.6037e-02, -4.5990e-02,  9.2010e-03, -4.7073e-03,\n",
       "          -1.0193e-02, -1.0323e-02,  2.3087e-02, -1.4259e-02, -4.3060e-02,\n",
       "          -2.9449e-02,  5.5618e-03, -1.0689e-02,  5.6648e-04,  3.6041e-02,\n",
       "          -5.9265e-02, -3.9429e-02, -3.9307e-02,  9.1476e-03, -3.2776e-02,\n",
       "          -1.8265e-02, -7.0419e-03,  4.1107e-02, -3.4424e-02, -8.2397e-03,\n",
       "          -6.1890e-02, -4.2992e-03,  1.4286e-03,  5.1178e-02, -3.5431e-02,\n",
       "          -1.5144e-02,  1.5572e-02,  3.8940e-02,  3.6564e-03,  1.2154e-02,\n",
       "           6.3721e-02, -1.6907e-02, -3.2227e-02,  1.9028e-02,  2.8778e-02,\n",
       "          -2.0218e-02,  1.1017e-02, -6.7139e-03,  7.8201e-03, -3.9764e-02,\n",
       "          -1.8677e-02, -2.5009e-02,  4.4537e-04,  2.2675e-02,  6.5613e-02,\n",
       "          -6.8474e-04, -2.8205e-04,  1.2756e-02, -4.3274e-02,  1.0361e-02,\n",
       "           2.9282e-02, -1.5091e-02, -2.7466e-02, -3.8361e-02, -9.0637e-03,\n",
       "           5.7709e-02, -1.3618e-03, -1.8524e-02, -3.0243e-02, -5.0720e-02,\n",
       "           1.8585e-02,  6.6528e-02,  1.5221e-02,  1.1925e-02, -5.3864e-02,\n",
       "           2.9087e-03,  1.0254e-02,  1.0559e-01,  1.0887e-02,  8.8379e-02,\n",
       "          -8.7585e-03,  4.6906e-02,  2.6047e-02,  2.7054e-02,  1.0727e-02,\n",
       "          -2.2079e-02,  2.3331e-02, -4.6082e-03,  4.7729e-02, -4.5891e-03,\n",
       "           2.9175e-02, -5.5328e-02, -2.5818e-02,  4.1008e-03, -5.1941e-02,\n",
       "           3.7422e-03,  2.6123e-02,  8.5632e-02, -1.7290e-03, -3.5950e-02,\n",
       "           3.4058e-02, -7.1678e-03,  1.8854e-03, -2.2263e-02,  3.7994e-02,\n",
       "           4.3854e-02, -2.4750e-02, -1.0895e-02,  8.7204e-03, -5.3162e-02,\n",
       "          -1.8890e-02, -1.6298e-03, -5.1079e-03, -4.0245e-03, -1.2047e-02,\n",
       "           5.7564e-03,  2.1820e-02, -5.0888e-03, -8.3389e-03, -3.0472e-02,\n",
       "           3.7918e-03,  6.4697e-02,  4.5959e-02,  3.0518e-02,  5.6244e-02,\n",
       "          -2.9488e-03,  1.2329e-01,  1.0445e-02, -1.4887e-03,  3.8818e-02,\n",
       "          -1.9363e-02,  4.8035e-02,  2.1317e-02, -2.0996e-02,  4.2648e-03,\n",
       "           2.6550e-02, -4.7272e-02, -4.3396e-02,  1.0973e-04,  9.7885e-03,\n",
       "          -5.2719e-03,  1.9226e-02, -1.2375e-02, -2.5940e-02,  6.9702e-02,\n",
       "          -3.9101e-03,  5.9586e-03,  1.2527e-02, -1.1940e-03,  3.2288e-02,\n",
       "           4.1351e-02, -1.0674e-02,  2.6722e-03, -3.0182e-02,  2.6047e-02,\n",
       "           1.0475e-02,  3.3203e-02,  5.6445e-01, -1.9121e-03, -2.8019e-03,\n",
       "          -2.8091e-02,  6.3354e-02, -2.7512e-02,  4.8035e-02,  3.8624e-03,\n",
       "          -2.5925e-02,  5.1392e-02, -3.5217e-02, -4.4525e-02, -6.5491e-02,\n",
       "          -2.5606e-04,  1.0963e-02, -9.7046e-03,  1.7502e-02, -1.5808e-02,\n",
       "          -3.5797e-02,  6.5689e-03,  2.8473e-02, -3.0701e-02, -2.0096e-02,\n",
       "          -8.0994e-02,  1.5778e-02,  6.9946e-02,  4.9164e-02,  6.6162e-02,\n",
       "          -4.6417e-02, -1.0239e-02,  1.9665e-03,  1.0376e-02,  4.3564e-03,\n",
       "          -9.8572e-02, -4.5990e-02,  1.5274e-02, -1.6713e-04,  1.7776e-02,\n",
       "           9.7046e-03, -3.8330e-02,  1.5625e-02, -5.4359e-03,  4.4594e-03,\n",
       "          -1.1650e-02,  1.4801e-02, -1.3367e-02,  4.3488e-02, -9.8145e-02,\n",
       "          -3.2349e-02,  3.8544e-02, -1.8066e-02,  3.8208e-02,  6.4453e-02,\n",
       "           2.9545e-03,  1.5030e-02,  3.7556e-03,  1.9394e-02, -1.5121e-02,\n",
       "          -1.1452e-02, -2.7740e-02,  1.3885e-02, -4.0741e-02, -2.8351e-02,\n",
       "           3.6163e-02,  3.2288e-02,  1.1948e-02,  3.0422e-04,  1.4587e-02,\n",
       "          -2.0798e-02, -1.8295e-02]], device='cuda:0', dtype=torch.float16),\n",
       " tensor([[ 2.7328e-02, -5.9090e-03, -1.2878e-02,  1.6815e-02,  5.0354e-02,\n",
       "          -1.0425e-01,  6.6284e-02,  3.8269e-02,  2.9266e-02, -1.2894e-02,\n",
       "          -4.4006e-02, -1.2680e-02, -3.6285e-02, -1.5182e-02,  2.8000e-02,\n",
       "          -4.1046e-02,  5.8075e-02, -1.2617e-03, -1.1120e-03,  5.7922e-02,\n",
       "           2.0020e-02, -1.7807e-02, -4.3915e-02,  3.7415e-02, -5.4871e-02,\n",
       "           2.7100e-02, -2.2507e-02, -3.2379e-02,  4.0771e-02, -3.0426e-02,\n",
       "          -1.8799e-02,  4.7638e-02,  4.7241e-02,  1.9501e-02,  5.3070e-02,\n",
       "          -1.7700e-02, -3.2253e-03, -5.3192e-02, -2.2049e-02, -4.6997e-02,\n",
       "          -3.7994e-03,  3.0762e-02, -8.7830e-02, -4.6509e-02, -8.4381e-03,\n",
       "          -5.7770e-02, -6.1646e-03, -1.5091e-02, -1.0147e-02, -3.9490e-02,\n",
       "           3.5553e-02, -3.1204e-02,  2.2614e-02,  2.7420e-02,  9.5291e-03,\n",
       "           4.8340e-02, -3.2471e-02,  1.3306e-01, -1.7700e-02,  6.0303e-02,\n",
       "          -1.0124e-02,  1.5745e-03, -2.5620e-02, -2.2781e-02, -1.1169e-02,\n",
       "           6.5674e-02, -2.1790e-02,  1.6647e-02, -8.6060e-03,  3.5339e-02,\n",
       "          -2.6764e-02, -5.2109e-03, -2.7451e-02,  1.6830e-02, -4.6326e-02,\n",
       "           4.8737e-02,  3.4454e-02, -7.5989e-02, -3.1128e-02, -1.0384e-02,\n",
       "          -2.3376e-02,  2.4582e-02, -4.1389e-03,  1.1670e-01,  6.2714e-03,\n",
       "           3.7804e-03,  7.5378e-02,  2.1301e-02,  1.9440e-02, -5.4108e-02,\n",
       "          -2.5085e-02, -2.5192e-02, -2.5098e-01,  6.5918e-02,  4.2358e-02,\n",
       "          -6.5918e-02,  1.5244e-02, -1.9043e-02,  9.0881e-02,  1.3304e-03,\n",
       "           3.2837e-02, -3.8361e-02,  3.7262e-02,  1.8768e-02, -4.0932e-03,\n",
       "          -2.7847e-02, -1.9714e-01,  3.5614e-02,  9.3994e-03,  2.8824e-02,\n",
       "          -4.6143e-02,  3.9764e-02, -2.9221e-02,  2.8381e-02, -1.9760e-02,\n",
       "          -3.3417e-02, -6.3416e-02, -2.9892e-02, -6.3416e-02,  2.3315e-02,\n",
       "           5.0964e-03,  3.3386e-02,  1.3474e-02, -1.2238e-02, -2.3605e-02,\n",
       "          -1.6144e-02, -1.0658e-02, -1.9318e-02, -4.8790e-03,  6.6040e-02,\n",
       "           6.0638e-02,  5.5420e-02,  1.0571e-01,  9.5703e-02,  5.2521e-02,\n",
       "           9.2285e-02, -2.6657e-02, -5.9082e-02, -4.0680e-02, -1.7883e-02,\n",
       "          -5.3589e-02, -9.7778e-02, -4.1565e-02, -6.7482e-03, -2.3499e-02,\n",
       "           5.1880e-03, -2.0386e-02,  5.3864e-03,  3.0304e-02, -8.2520e-02,\n",
       "           5.6305e-02, -7.2998e-02,  5.0011e-03, -6.0608e-02, -2.1652e-02,\n",
       "          -1.7029e-02, -3.5858e-02,  2.6749e-02,  3.8330e-02,  6.0333e-02,\n",
       "           3.6438e-02,  2.4963e-02,  9.7198e-03, -5.1514e-02, -1.7376e-03,\n",
       "           9.6970e-03, -2.5009e-02,  1.6647e-02, -6.0558e-05,  2.3804e-02,\n",
       "          -8.9661e-02, -2.5360e-02, -3.7750e-02, -7.1259e-03, -4.7569e-03,\n",
       "           6.7596e-03, -1.8036e-02,  3.7354e-02,  1.3489e-01,  5.9570e-02,\n",
       "           2.4902e-02, -6.7406e-03, -7.2693e-02,  1.8967e-02, -5.3467e-02,\n",
       "           1.3985e-02,  2.9709e-02, -1.0347e-04,  5.2429e-02, -8.4106e-02,\n",
       "          -7.8201e-03,  1.1536e-02, -1.6357e-02, -2.7817e-02, -9.6207e-03,\n",
       "          -2.6672e-02, -4.2542e-02, -6.5079e-03, -3.5919e-02,  1.4603e-02,\n",
       "           5.5817e-02,  2.9175e-02, -1.1650e-02,  7.4120e-03,  2.0126e-02,\n",
       "          -3.6869e-03,  4.1840e-02,  4.9286e-03, -1.1759e-03, -3.9749e-03,\n",
       "           6.0028e-02,  6.8542e-02,  2.0874e-02, -5.2681e-03, -1.4297e-02,\n",
       "           2.3941e-02, -2.0081e-02,  5.1498e-03,  5.5466e-03, -3.5419e-03,\n",
       "           9.8877e-03,  1.1615e-01,  4.7272e-02, -1.5808e-02, -1.6129e-02,\n",
       "           8.7280e-03,  2.7618e-02,  2.0859e-02, -5.4749e-02,  1.7212e-02,\n",
       "          -1.2459e-02, -4.0375e-02,  4.7852e-02, -2.5009e-02,  2.0187e-02,\n",
       "          -5.4993e-02,  6.7902e-03,  2.7637e-03, -1.4048e-03,  1.1414e-02,\n",
       "          -2.4857e-02,  6.8237e-02, -2.7267e-02, -2.6230e-02, -6.8237e-02,\n",
       "           6.2805e-02,  4.0009e-02,  6.9336e-02,  7.4951e-02, -4.9469e-02,\n",
       "          -3.3234e-02, -3.7537e-02,  4.8706e-02, -2.0737e-02, -1.3252e-02,\n",
       "           1.6907e-02, -2.3773e-02, -1.4153e-02, -1.4490e-01,  1.2085e-02,\n",
       "           3.5553e-02,  7.1777e-02,  9.8648e-03,  6.6833e-02, -4.9377e-02,\n",
       "           1.7410e-02, -1.4313e-02, -3.2654e-02,  7.5867e-02,  8.9824e-05,\n",
       "          -1.0101e-01,  1.0849e-02,  3.8757e-02, -5.6030e-02, -4.7455e-02,\n",
       "          -9.1934e-03,  1.3527e-02,  1.9516e-02,  3.9429e-02,  4.6936e-02,\n",
       "          -1.7380e-02,  3.5095e-02, -6.5125e-02,  1.0887e-02, -8.2245e-03,\n",
       "           9.3918e-03,  5.9113e-02,  5.5351e-03,  5.5176e-02, -6.7635e-03,\n",
       "           7.9575e-03, -1.7334e-02, -8.1726e-02, -5.6038e-03, -2.5818e-02,\n",
       "           3.3051e-02, -5.6152e-02, -9.4843e-04,  3.4504e-03, -6.1432e-02,\n",
       "           5.4108e-02,  1.4122e-02, -3.1616e-02,  6.7688e-02, -2.1042e-02,\n",
       "          -2.0161e-03,  4.2816e-02, -1.8295e-02, -6.9656e-03,  1.5274e-02,\n",
       "          -1.3657e-02,  5.4016e-02,  9.5581e-02,  8.7646e-02,  8.0261e-03,\n",
       "           9.5825e-03,  6.5575e-03,  2.0462e-02,  4.7035e-03, -1.4084e-02,\n",
       "           2.2964e-02,  1.6211e-01,  4.0649e-02,  6.5498e-03, -2.8290e-02,\n",
       "          -2.5803e-02,  6.2523e-03, -4.8950e-02,  3.9101e-03, -8.6060e-02,\n",
       "           1.7517e-02,  2.9327e-02,  3.6957e-02, -2.1698e-02, -9.2102e-02,\n",
       "          -5.5603e-02, -2.7512e-02, -3.4542e-03, -8.4305e-03,  3.7598e-02,\n",
       "           1.7099e-03, -4.2145e-02, -4.4495e-02,  2.7298e-02,  2.3514e-02,\n",
       "          -4.4250e-02, -4.4518e-03,  1.2636e-03,  4.3243e-02,  2.6474e-02,\n",
       "          -9.1095e-03,  3.0594e-02, -1.4324e-03, -1.5747e-02, -1.1772e-02,\n",
       "           1.3695e-02, -9.6817e-03, -1.2866e-01, -1.2436e-02, -8.2016e-03,\n",
       "          -2.7512e-02, -2.7115e-02, -8.0261e-03, -4.7272e-02, -2.8198e-02,\n",
       "          -1.3710e-02, -1.3260e-02,  7.6294e-02,  5.8746e-02, -9.4833e-03,\n",
       "           3.9001e-02, -2.1927e-02,  3.0640e-02,  1.3323e-03, -3.3936e-02,\n",
       "          -5.7434e-02, -8.7402e-02,  3.9551e-02, -6.2561e-02,  4.3488e-03,\n",
       "          -6.9580e-02, -1.4307e-01, -1.5383e-03, -6.3049e-02,  6.5918e-02,\n",
       "           5.3009e-02,  1.0319e-03,  1.9196e-02,  1.1848e-02, -6.5346e-03,\n",
       "          -7.8003e-02,  2.1576e-02,  6.4430e-03,  1.8448e-02, -2.8137e-02,\n",
       "           1.6190e-02,  2.0035e-02,  2.6093e-02, -2.3060e-03,  9.3689e-03,\n",
       "           3.6163e-02, -3.7537e-02,  1.2184e-02, -5.4504e-02,  1.0437e-02,\n",
       "           1.7639e-02, -5.8990e-02,  2.4200e-02,  4.5990e-02, -4.9316e-02,\n",
       "           5.5939e-02, -5.3131e-02,  5.5023e-02,  2.3895e-02,  7.0152e-03,\n",
       "          -1.1253e-02, -5.7495e-02, -9.1064e-02,  1.1833e-02,  1.5190e-02,\n",
       "          -5.0964e-02, -3.4698e-02,  1.5961e-02, -3.9673e-02, -9.1934e-03,\n",
       "           4.4403e-03, -1.7914e-02, -4.6082e-02, -7.5378e-02,  1.0536e-02,\n",
       "           1.9287e-02, -4.4464e-02,  1.5381e-02, -3.9978e-02, -6.0730e-02,\n",
       "          -5.0079e-02,  3.9673e-03,  5.2147e-03,  7.5439e-02, -4.4739e-02,\n",
       "          -1.0460e-02, -6.9458e-02, -8.2520e-02, -4.4312e-02,  5.8327e-03,\n",
       "           1.6464e-02, -1.2047e-02, -6.0089e-02, -1.1154e-02,  5.5176e-02,\n",
       "          -4.0092e-03, -1.5116e-03,  4.3060e-02,  6.4354e-03,  1.4286e-03,\n",
       "           2.3788e-02, -1.8234e-02,  1.7181e-02,  5.8960e-02,  7.0923e-02,\n",
       "          -9.3994e-03,  4.0161e-02,  1.4603e-02, -4.4785e-03, -5.0171e-02,\n",
       "          -1.4320e-02, -2.6733e-02, -5.9845e-02,  4.2877e-02,  6.6040e-02,\n",
       "          -2.3697e-02,  1.5343e-02, -4.3854e-02,  7.1144e-03, -1.2810e-02,\n",
       "           1.0712e-02,  3.7292e-02, -4.3457e-02, -2.6520e-02,  3.7632e-03,\n",
       "          -3.8147e-02, -2.0813e-02, -1.9363e-02,  4.5898e-02, -9.5062e-03,\n",
       "          -2.1378e-02, -3.3356e-02, -6.3049e-02,  1.9028e-02, -3.1006e-02,\n",
       "           6.6772e-02, -1.4297e-02, -5.1727e-03, -3.4210e-02, -2.4796e-02,\n",
       "          -4.4861e-03,  1.2375e-02,  2.7451e-02, -5.8472e-02, -4.5319e-02,\n",
       "          -9.0027e-02, -6.8016e-03, -1.0132e-02, -2.8137e-02, -1.0509e-03,\n",
       "          -1.3695e-03,  1.8524e-02, -3.3073e-03, -2.0187e-02,  1.1206e-01,\n",
       "          -9.0103e-03, -7.0114e-03]], device='cuda:0', dtype=torch.float16),\n",
       " tensor([[ 1.2054e-02,  3.8757e-02, -2.8763e-03,  2.6001e-02,  3.0960e-02,\n",
       "           2.7435e-02,  3.1952e-02, -4.3274e-02, -2.2247e-02,  2.2316e-03,\n",
       "          -3.3081e-02,  1.6495e-02,  2.0889e-02,  2.4757e-03,  2.7588e-02,\n",
       "           1.6708e-02,  1.9272e-02, -1.0262e-02, -1.9135e-02, -2.3384e-03,\n",
       "           4.4861e-02,  2.0657e-03, -2.1896e-02,  5.4749e-02,  1.3985e-02,\n",
       "          -3.6652e-02, -2.1667e-02, -3.7781e-02,  3.4241e-02, -1.0155e-02,\n",
       "          -8.1863e-03,  8.1062e-05,  1.6037e-02, -1.7136e-02, -1.8358e-03,\n",
       "           1.5533e-02, -1.5373e-02, -1.1024e-02,  5.5817e-02,  3.7670e-03,\n",
       "           1.5373e-02,  1.9775e-02, -3.1555e-02, -2.2110e-02, -3.2562e-02,\n",
       "           5.9753e-02, -1.0139e-02,  3.5004e-02, -2.6627e-02, -2.5452e-02,\n",
       "           1.3687e-02, -3.5889e-02,  4.6082e-03,  3.2532e-02,  4.3488e-03,\n",
       "          -5.3101e-03,  6.5079e-03,  2.5604e-02,  1.2253e-02,  2.0218e-02,\n",
       "           2.0859e-02,  7.2632e-03, -1.8784e-02,  4.7913e-02, -2.3743e-02,\n",
       "           1.0557e-03, -2.0645e-02,  2.4857e-02, -7.0953e-03, -2.6886e-02,\n",
       "           3.4912e-02, -1.0544e-02, -1.7227e-02,  6.2981e-03,  3.1433e-02,\n",
       "          -3.8727e-02,  4.3335e-02,  4.7379e-03, -5.1483e-02,  6.8130e-03,\n",
       "          -1.2627e-02,  3.1097e-02,  4.3976e-02,  3.4695e-03,  1.6830e-02,\n",
       "           5.1331e-02,  4.0100e-02,  4.4312e-02, -3.2318e-02,  2.6062e-02,\n",
       "           1.4473e-02, -1.3649e-02,  3.7506e-02, -3.7415e-02, -3.3295e-02,\n",
       "          -1.3687e-02, -1.5480e-02, -5.0735e-03,  1.3336e-02, -3.0350e-02,\n",
       "          -2.0538e-02,  1.0307e-02,  3.3051e-02,  9.7733e-03, -1.5251e-02,\n",
       "           2.7275e-03, -1.3256e-03,  1.7729e-03,  1.5213e-02,  3.9635e-03,\n",
       "          -2.7435e-02, -3.9482e-03, -6.6986e-03, -3.7498e-03,  6.2103e-03,\n",
       "           1.3138e-02, -1.6815e-02,  5.4855e-03, -1.3351e-03, -6.1111e-03,\n",
       "          -1.1879e-02, -4.1077e-02, -3.9940e-03, -3.1342e-02, -2.6062e-02,\n",
       "           2.7394e-04,  3.2440e-02, -2.1225e-02, -2.4811e-02, -7.5531e-03,\n",
       "          -1.6357e-02, -3.8696e-02,  5.3741e-02, -1.2794e-02,  1.2505e-02,\n",
       "          -3.7109e-02,  3.0792e-02, -1.1467e-02,  2.3758e-02, -3.5980e-02,\n",
       "           2.0020e-02, -1.9730e-02, -4.3144e-03, -2.9984e-02,  5.0125e-03,\n",
       "           4.3983e-03,  2.5681e-02, -2.2324e-02,  1.8402e-02, -4.9225e-02,\n",
       "           7.6218e-03,  1.9058e-02,  2.9419e-02,  3.9330e-03, -3.2104e-02,\n",
       "           2.3712e-02, -2.9495e-02,  1.7761e-02,  2.0172e-02, -4.1382e-02,\n",
       "          -1.9928e-02, -2.0767e-02,  4.0558e-02,  3.8055e-02,  3.4657e-03,\n",
       "          -4.0894e-02, -3.6983e-03,  3.6835e-02,  2.4902e-02,  8.3466e-03,\n",
       "          -3.5648e-03,  1.1993e-02, -2.8412e-02, -1.8814e-02,  4.7241e-02,\n",
       "           4.0802e-02,  1.9058e-02, -2.9083e-02,  3.0426e-02, -7.7591e-03,\n",
       "           1.5662e-01, -1.3130e-02,  5.4260e-02,  2.4017e-02, -2.6688e-02,\n",
       "           1.8950e-03,  1.5747e-02, -3.3478e-02, -8.1787e-03,  2.4445e-02,\n",
       "          -6.6605e-03, -3.0197e-02, -2.5436e-02,  2.6031e-02, -1.8478e-02,\n",
       "          -2.5711e-03,  2.3041e-02,  3.3478e-02, -5.2948e-03, -3.4821e-02,\n",
       "          -5.2429e-02, -2.0172e-02,  8.3303e-04, -1.1017e-02, -3.0823e-02,\n",
       "          -1.5976e-02,  1.6388e-02, -4.1229e-02, -2.6260e-02,  1.3771e-02,\n",
       "          -3.4241e-02,  4.4098e-02, -2.1393e-02, -5.1666e-02,  2.6978e-02,\n",
       "          -1.7151e-02,  2.9888e-03,  8.4045e-02,  1.1375e-02,  2.0569e-02,\n",
       "           1.5335e-02, -3.0319e-02,  1.1101e-02, -1.3359e-02, -5.4512e-03,\n",
       "          -4.1840e-02, -2.4368e-02,  1.4009e-03, -3.0308e-03, -1.5976e-02,\n",
       "          -8.5144e-03, -2.9373e-02, -1.6098e-03, -5.3215e-03,  2.1851e-02,\n",
       "          -1.3985e-02,  4.2229e-03, -3.8452e-02, -1.7746e-02, -1.5358e-02,\n",
       "           6.9160e-03, -3.2532e-02,  3.9902e-03, -3.0533e-02, -1.4435e-02,\n",
       "           2.6398e-02,  1.3969e-02,  2.2171e-02,  1.8921e-02,  2.6840e-02,\n",
       "           3.0167e-02,  2.3956e-02,  5.3741e-02, -3.8116e-02, -1.3756e-02,\n",
       "          -3.0716e-02,  1.1055e-02,  6.7322e-02, -3.8666e-02,  4.0619e-02,\n",
       "          -4.3762e-02,  5.4207e-03,  1.4236e-02,  2.6016e-02,  2.8076e-02,\n",
       "          -1.0498e-02, -2.5253e-02,  3.4084e-03, -5.2155e-02,  1.4259e-02,\n",
       "           1.3916e-02,  2.3849e-02, -5.7068e-03, -3.9795e-02,  2.2003e-02,\n",
       "          -2.7054e-02,  1.1833e-02, -1.6235e-02, -1.0963e-02,  9.0218e-04,\n",
       "          -2.6825e-02, -6.0425e-02, -4.0344e-02,  2.1881e-02,  1.3420e-02,\n",
       "          -1.1162e-02, -4.0222e-02, -7.8011e-03, -1.3687e-02, -2.0844e-02,\n",
       "           8.6899e-03, -3.6652e-02, -3.3997e-02,  4.6654e-03, -1.6525e-02,\n",
       "           1.3016e-02, -6.3705e-03,  8.8453e-04,  4.9858e-03,  3.2074e-02,\n",
       "          -3.3112e-02, -4.1237e-03,  5.3101e-02,  1.9577e-02,  1.7319e-02,\n",
       "          -5.2299e-03,  2.2869e-03,  2.6291e-02, -6.0425e-03, -5.8556e-03,\n",
       "          -4.8096e-02, -1.6525e-02,  3.0422e-04,  2.6321e-02,  5.4291e-02,\n",
       "          -2.6764e-02, -4.5349e-02,  1.3535e-02, -9.5139e-03,  9.8267e-03,\n",
       "           1.6998e-02,  2.2461e-02, -1.1459e-02, -1.4168e-02, -1.9852e-02,\n",
       "          -6.7024e-03, -2.0462e-02,  3.2288e-02, -2.4796e-03, -4.4312e-02,\n",
       "           1.4130e-02,  1.6800e-02,  5.7640e-03,  3.8513e-02,  1.4893e-02,\n",
       "           1.1581e-02,  5.8746e-02, -4.2816e-02, -2.0645e-02, -1.1391e-02,\n",
       "          -4.5662e-03, -4.6265e-02, -1.8494e-02,  8.9798e-03,  3.3264e-02,\n",
       "           9.1476e-03,  3.4576e-02, -3.4576e-02,  2.1790e-02, -3.1433e-02,\n",
       "           4.8187e-02,  3.2715e-02,  5.5466e-03,  1.1269e-02,  1.6418e-02,\n",
       "          -1.2070e-02,  5.3520e-03,  2.7405e-02, -2.5208e-02, -1.3031e-02,\n",
       "          -5.5618e-03, -2.3590e-02, -8.1110e-04,  1.0910e-02, -8.4734e-04,\n",
       "           3.4241e-02,  1.6602e-02,  1.0468e-02,  1.6083e-02,  2.4841e-02,\n",
       "           1.9089e-02,  2.6245e-02, -6.6872e-03,  3.2349e-03, -2.6989e-03,\n",
       "           2.6764e-02,  1.6586e-02, -2.5673e-03,  2.3270e-02, -1.1772e-02,\n",
       "           8.8959e-03,  1.7410e-02,  6.9962e-03,  4.1687e-02,  2.8442e-02,\n",
       "          -2.5269e-02, -3.2318e-02, -6.5994e-03,  1.3077e-02,  1.9653e-02,\n",
       "           9.1736e-02, -6.1455e-03,  1.8692e-02,  2.9545e-03, -3.7384e-02,\n",
       "           7.3013e-03,  2.6825e-02, -2.6917e-02, -4.4136e-03, -1.1467e-02,\n",
       "           1.2070e-02,  7.1449e-03, -8.5983e-03, -1.4130e-02, -5.0354e-02,\n",
       "           8.8959e-03,  3.5553e-03,  4.4403e-02,  2.6150e-03,  1.6006e-02,\n",
       "           1.5396e-02,  1.1833e-02,  2.8458e-03, -4.2993e-01,  2.4841e-02,\n",
       "           3.0777e-02,  6.8932e-03,  3.3936e-02, -7.2746e-03, -3.4241e-02,\n",
       "           2.6367e-02, -4.4220e-02, -1.8112e-02, -1.2688e-02, -6.3515e-03,\n",
       "          -4.3579e-02,  2.9602e-02,  5.6519e-02,  3.3245e-03,  3.9520e-02,\n",
       "          -1.5335e-02, -2.9282e-02, -3.3607e-03,  5.1785e-04,  1.7639e-02,\n",
       "           9.8389e-02, -6.2637e-03, -3.8940e-02,  3.4714e-04, -2.0584e-02,\n",
       "           4.7119e-02,  1.0048e-02,  1.8402e-02,  3.6449e-03,  9.7427e-03,\n",
       "          -4.2053e-02,  1.0920e-03, -8.1482e-03, -3.4332e-02, -2.7008e-02,\n",
       "          -5.3558e-02,  2.8412e-02,  5.2979e-02, -1.9577e-02, -4.7028e-02,\n",
       "          -3.1769e-02,  4.9469e-02,  2.6611e-02,  3.2837e-02,  3.6652e-02,\n",
       "          -7.3547e-03, -2.3102e-02, -1.1597e-02, -4.2847e-02,  3.3051e-02,\n",
       "           1.8463e-02, -1.1543e-02,  3.4424e-02,  4.5349e-02, -2.6093e-02,\n",
       "           1.7426e-02,  8.5449e-03, -4.0253e-02,  1.8906e-02, -6.2370e-03,\n",
       "           8.2703e-03,  3.0746e-03,  2.6718e-02,  4.3774e-04,  4.8447e-03,\n",
       "          -1.0201e-02, -1.5297e-02,  6.6795e-03,  3.1738e-03,  5.7068e-03,\n",
       "           2.6764e-02,  4.3701e-02,  2.8000e-03, -4.1168e-02,  3.5065e-02,\n",
       "           3.0060e-02, -1.6281e-02, -3.7415e-02,  3.1799e-02, -1.9180e-02,\n",
       "           2.4063e-02,  2.7664e-02, -1.1124e-02,  2.2247e-02, -9.3031e-04,\n",
       "          -2.1378e-02,  5.1147e-02,  5.9395e-03,  9.1171e-03, -1.7130e-04,\n",
       "          -3.0350e-02, -4.3091e-02, -2.4490e-02, -1.3481e-02, -9.0485e-03,\n",
       "          -9.0714e-03, -3.9520e-02,  5.2719e-03, -4.5837e-02, -9.4271e-04,\n",
       "          -2.1240e-02,  1.9241e-02, -4.4212e-03, -1.0353e-02, -3.6835e-02,\n",
       "          -1.1091e-03, -2.8259e-02, -2.1164e-02, -9.0027e-03,  2.5436e-02,\n",
       "          -2.3438e-02, -5.8472e-02, -1.2527e-02,  2.1866e-02, -4.9042e-02,\n",
       "          -1.8600e-02, -2.2064e-02, -1.9012e-02,  3.9482e-03,  1.0979e-02,\n",
       "          -1.6418e-02, -1.9547e-02, -6.0129e-04,  1.6342e-02, -6.7444e-02,\n",
       "           1.8585e-02, -4.8615e-02, -5.1178e-02, -8.5602e-03,  7.3204e-03,\n",
       "          -1.2581e-02,  2.6184e-02, -1.4038e-02,  1.9714e-02,  3.8300e-02,\n",
       "           2.2049e-02,  6.6833e-02,  1.2007e-03, -2.2736e-02,  2.5604e-02,\n",
       "          -4.5837e-02, -2.9816e-02,  5.3345e-02,  1.3580e-02,  2.0538e-02,\n",
       "           4.1962e-02, -9.9030e-03, -2.9343e-02, -3.8605e-03,  4.3030e-02,\n",
       "           2.2324e-02, -8.4457e-03,  6.7406e-03, -5.1208e-02,  5.1270e-02,\n",
       "          -1.8921e-02, -9.7504e-03, -4.3755e-03, -1.4706e-03,  1.0323e-02,\n",
       "           1.3985e-02, -3.8330e-02, -1.1078e-02,  2.1927e-02,  2.0325e-02,\n",
       "           2.5528e-02,  1.5974e-03, -3.9581e-02,  1.2398e-02,  2.8839e-03,\n",
       "          -7.0114e-03,  2.0813e-02,  4.5868e-02, -4.8767e-02, -1.8158e-02,\n",
       "          -8.0185e-03,  5.9586e-03, -7.3303e-02, -3.1616e-02,  2.2827e-02,\n",
       "           1.7487e-02, -1.8402e-02, -1.4999e-02,  5.0903e-02,  5.4398e-03,\n",
       "          -8.3618e-03,  2.6794e-02, -2.5635e-02, -1.4580e-02, -3.6373e-03,\n",
       "           1.5945e-02, -4.3518e-02,  5.8960e-02,  2.0950e-02,  2.0874e-02,\n",
       "           5.2979e-02,  1.7944e-02, -9.5291e-03, -2.9083e-02,  1.1116e-02,\n",
       "           9.3842e-03, -6.9923e-03,  1.8721e-03, -2.9205e-02,  1.9379e-02,\n",
       "           4.1084e-03, -3.3081e-02,  4.3274e-02,  3.4363e-02, -1.0063e-02,\n",
       "           3.7689e-02,  4.7638e-02,  1.9958e-02,  4.0665e-03,  4.0131e-03,\n",
       "          -1.2627e-02, -2.2430e-02, -1.5686e-02,  1.4961e-02,  3.4851e-02,\n",
       "           1.0474e-01,  1.8402e-02, -1.3794e-02, -3.7598e-02,  1.9012e-02,\n",
       "          -1.8433e-02,  3.5797e-02, -1.0956e-02, -3.2257e-02,  4.5752e-01,\n",
       "           1.3290e-02, -1.2596e-02, -2.8572e-03,  3.8891e-03,  1.3557e-02,\n",
       "          -2.8259e-02,  4.4983e-02, -1.8906e-02, -1.3611e-02,  8.9645e-03,\n",
       "          -6.4735e-03,  2.3117e-03,  3.5217e-02, -4.4067e-02, -6.8420e-02,\n",
       "           3.9139e-03,  9.4681e-03,  6.3896e-03, -2.6825e-02, -2.3766e-03,\n",
       "          -5.1651e-03,  3.0396e-02, -3.5431e-02,  1.6708e-02,  1.8829e-02,\n",
       "          -3.7811e-02,  3.6945e-03, -1.3718e-02, -3.4363e-02, -1.8402e-02,\n",
       "           2.8687e-02,  4.7302e-02, -1.5610e-02,  1.0895e-02,  2.4338e-02,\n",
       "          -4.0192e-02, -5.0545e-03, -3.0457e-02,  1.1223e-02, -3.0853e-02,\n",
       "           9.6893e-03, -1.0963e-02,  2.5681e-02,  1.5732e-02, -1.0506e-02,\n",
       "           2.9846e-02, -4.3144e-03,  9.3689e-02, -1.2009e-02,  2.8091e-02,\n",
       "           6.3171e-03, -4.1473e-02,  2.9202e-03,  4.2389e-02, -2.3392e-02,\n",
       "           6.3515e-03, -1.8188e-02, -1.3496e-02, -1.7563e-02, -2.6932e-02,\n",
       "           2.5497e-02,  2.4021e-04,  1.1955e-02,  8.3130e-02,  1.8158e-02,\n",
       "          -5.1849e-02, -3.4428e-03, -3.6224e-02,  4.0863e-02,  1.9760e-02,\n",
       "           3.1174e-02,  3.2593e-02,  3.4912e-02,  3.4210e-02,  1.7958e-03,\n",
       "          -2.6428e-02,  5.4749e-02, -1.0529e-02, -1.2225e-01, -2.2781e-02,\n",
       "          -3.2349e-02,  2.8839e-02,  3.5950e-02, -3.2024e-03, -9.1782e-03,\n",
       "           1.9760e-03,  3.9581e-02, -1.5099e-02,  5.4749e-02, -3.3325e-02,\n",
       "          -4.4037e-02,  1.2444e-02, -3.2776e-02, -6.2218e-03,  4.6661e-02,\n",
       "           1.3626e-02,  9.5520e-03, -1.1894e-02,  1.7120e-02,  1.7899e-02,\n",
       "          -2.3270e-02,  2.0020e-02, -2.0142e-02,  3.4515e-02, -1.6907e-02,\n",
       "           2.7863e-02,  2.0676e-02, -3.4607e-02, -2.5543e-02,  2.7771e-02,\n",
       "          -4.8431e-02, -1.3374e-02, -6.4240e-03, -3.4912e-02, -1.5213e-02,\n",
       "          -6.1340e-02, -2.0264e-02, -1.9150e-02, -4.4495e-02,  2.5272e-03,\n",
       "          -1.2825e-02,  1.9970e-03,  1.2581e-02]], device='cuda:0',\n",
       "        dtype=torch.float16)]"
      ]
     },
     "execution_count": 65,
     "metadata": {},
     "output_type": "execute_result"
    }
   ],
   "source": [
    "tgt_image_features_list"
   ]
  },
  {
   "cell_type": "code",
   "execution_count": null,
   "metadata": {},
   "outputs": [
    {
     "name": "stdout",
     "output_type": "stream",
     "text": [
      "nothing here man 0\n",
      "nothing here man 1\n"
     ]
    }
   ],
   "source": [
    "import torchvision\n",
    "from PIL import Image\n",
    "import torch\n",
    "import numpy as np\n",
    "\n",
    "import sys\n",
    "import os\n",
    "sys.path.append(os.path.abspath(\"..\"))  # Adjust as needed\n",
    "\n",
    "from models.CLIP.clip import clip\n",
    "\n",
    "# models = [clip_vit_b_32]\n",
    "clip_preprocess = torchvision.transforms.Compose(\n",
    "    [\n",
    "        torchvision.transforms.Resize(clip_vit_b_32.visual.input_resolution, interpolation=torchvision.transforms.InterpolationMode.BICUBIC, antialias=True),\n",
    "        # torchvision.transforms.Lambda(lambda img: torch.clamp(img, 0.0, 255.0) / 255.0),\n",
    "        torchvision.transforms.CenterCrop(clip_vit_b_32.visual.input_resolution),\n",
    "        torchvision.transforms.Normalize((0.48145466, 0.4578275, 0.40821073), (0.26862954, 0.26130258, 0.27577711)), # CLIP imgs mean and std.\n",
    "    ]\n",
    ")\n",
    "final_preprocess = torchvision.transforms.Compose(\n",
    "    [\n",
    "        torchvision.transforms.Resize(clip_vit_b_32.visual.input_resolution, interpolation=torchvision.transforms.InterpolationMode.BICUBIC, antialias=True),\n",
    "        # torchvision.transforms.Lambda(lambda img: torch.clamp(img, 0.0, 255.0) / 255.0),\n",
    "        torchvision.transforms.CenterCrop(clip_vit_b_32.visual.input_resolution),\n",
    "    ]\n",
    ")\n",
    "\n",
    "class MyClipEnsemble():\n",
    "    def __init__(self):\n",
    "        warnings.filterwarnings(\"ignore\")\n",
    "        self.device = torch.device(\"cuda\" if torch.cuda.is_available() else \"cpu\")\n",
    "        clip_rn_50,_ = clip.load('RN50', device=device)\n",
    "        clip_rn_101,_ = clip.load('RN101', device=device)\n",
    "        clip_vit_b_16,_ = clip.load('ViT-B/16', device=device)\n",
    "        clip_vit_b_32,_ = clip.load('ViT-B/32', device=device)\n",
    "        clip_vit_l_14,_ = clip.load('ViT-L/14', device=device)\n",
    "        self.models = [clip_rn_50, clip_rn_101, clip_vit_b_16, clip_vit_b_32, clip_vit_l_14]\n",
    "\n",
    "        self.clip_preprocess = torchvision.transforms.Compose(\n",
    "            [\n",
    "                torchvision.transforms.Resize(clip_vit_b_32.visual.input_resolution, interpolation=torchvision.transforms.InterpolationMode.BICUBIC, antialias=True),\n",
    "                # torchvision.transforms.Lambda(lambda img: torch.clamp(img, 0.0, 255.0) / 255.0),\n",
    "                torchvision.transforms.CenterCrop(clip_vit_b_32.visual.input_resolution),\n",
    "                torchvision.transforms.Normalize((0.48145466, 0.4578275, 0.40821073), (0.26862954, 0.26130258, 0.27577711)), # CLIP imgs mean and std.\n",
    "            ]\n",
    "        )\n",
    "        \n",
    "    def encode_image(self, image, use_grad=True):\n",
    "        tgt_image_features_list = []\n",
    "        image_tgt = clip_preprocess(image)\n",
    "\n",
    "        context = torch.enable_grad() if use_grad else torch.no_grad()\n",
    "        with context:\n",
    "            for clip_model in models:\n",
    "                tgt_image_features = clip_model.encode_image(image_tgt)  # [bs, 512]\n",
    "                tgt_image_features /= tgt_image_features.norm(dim=1, keepdim=True)\n",
    "                tgt_image_features_list.append(tgt_image_features)\n",
    "\n",
    "        return tgt_image_features_list\n",
    "    \n",
    "    def get_loss(self, adv_image_features_list, tgt_image_features_list):\n",
    "        loss = torch.zeros(1).to(device)\n",
    "        crit_list = []\n",
    "        for model_i, (pred_i, target_i) in enumerate(zip(adv_image_feature_list, tgt_image_features_list)):\n",
    "            crit1 =  torch.mean(torch.sum(pred_i * target_i, dim=1))  # 有目标攻击\n",
    "            # crit2 = 1 - torch.mean(torch.sum(pred_i * org_i, dim=1)) # 无目标攻击\n",
    "            costs[i-idx_time, model_i] = crit1.data\n",
    "            loss.add_(crit1, alpha=weights[i-idx_time, model_i])\n",
    "            crit_list.append(crit1.data.detach().cpu().numpy())\n",
    "            # loss.add_(crit2, alpha=0.3)    \n",
    "        # print(\"loss:\", crit_list)\n",
    "        gradient = torch.autograd.grad(loss, img_n)[0]\n",
    "        gradient = torch.clamp(gradient, min=-0.0025, max=0.0025)  # 0.0025\n"
   ]
  },
  {
   "cell_type": "code",
   "execution_count": null,
   "metadata": {},
   "outputs": [],
   "source": [
    "class MyClipEnsemble():\n",
    "    def __init__(self):\n",
    "        warnings.filterwarnings(\"ignore\")\n",
    "        model_name = \"openai/clip-vit-base-patch32\"\n",
    "        self.device = torch.device(\"cuda\" if torch.cuda.is_available() else \"cpu\")\n",
    "\n",
    "        self.clip_vision_model = CLIPVisionModelWithProjection.from_pretrained(model_name).to(self.device)\n",
    "        self.clip_text_model = CLIPTextModelWithProjection.from_pretrained(model_name).to(self.device)\n",
    "        self.tokenizer = AutoTokenizer.from_pretrained(model_name)\n",
    "        \n",
    "        self.input_res = self.clip_vision_model.vision_model.config.image_size\n",
    "\n",
    "    def encode_image(self, image, use_grad=True):\n",
    "        outputs = self.clip_vision_model(pixel_values=clip_preprocess(image))\n",
    "        return outputs.image_embeds\n",
    "\n",
    "    def encode_text(self, text):\n",
    "        inputs = self.tokenizer(text, padding=True, return_tensors=\"pt\")\n",
    "        inputs.to(self.device)\n",
    "        outputs = self.clip_text_model(**inputs)\n",
    "        return outputs.text_embeds"
   ]
  }
 ],
 "metadata": {
  "kernelspec": {
   "display_name": "notebooks",
   "language": "python",
   "name": "python3"
  },
  "language_info": {
   "codemirror_mode": {
    "name": "ipython",
    "version": 3
   },
   "file_extension": ".py",
   "mimetype": "text/x-python",
   "name": "python",
   "nbconvert_exporter": "python",
   "pygments_lexer": "ipython3",
   "version": "3.10.15"
  }
 },
 "nbformat": 4,
 "nbformat_minor": 2
}
