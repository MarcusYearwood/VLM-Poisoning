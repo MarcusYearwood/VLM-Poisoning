{
 "cells": [
  {
   "cell_type": "code",
   "execution_count": 1,
   "metadata": {},
   "outputs": [
    {
     "name": "stderr",
     "output_type": "stream",
     "text": [
      "/home/users/mxy/miniconda3/envs/VLM_Poisoning/lib/python3.10/site-packages/bitsandbytes/cextension.py:34: UserWarning: The installed version of bitsandbytes was compiled without GPU support. 8-bit optimizers, 8-bit multiplication, and GPU quantization are unavailable.\n",
      "  warn(\"The installed version of bitsandbytes was compiled without GPU support. \"\n"
     ]
    },
    {
     "name": "stdout",
     "output_type": "stream",
     "text": [
      "/home/users/mxy/miniconda3/envs/VLM_Poisoning/lib/python3.10/site-packages/bitsandbytes/libbitsandbytes_cpu.so: undefined symbol: cadam32bit_grad_fp32\n",
      "[2025-01-09 20:24:18,253] [INFO] [real_accelerator.py:110:get_accelerator] Setting ds_accelerator to cuda (auto detect)\n"
     ]
    }
   ],
   "source": [
    "import torch\n",
    "from transformers import CLIPModel, CLIPProcessor, CLIPVisionModel, CLIPVisionModelWithProjection\n",
    "from PIL import Image\n",
    "import torchvision\n",
    "from torch.nn import DataParallel\n",
    "import torchvision.transforms as T\n",
    "from torchvision.transforms import InterpolationMode\n",
    "import warnings\n",
    "import numpy as np"
   ]
  },
  {
   "cell_type": "code",
   "execution_count": 2,
   "metadata": {},
   "outputs": [
    {
     "name": "stderr",
     "output_type": "stream",
     "text": [
      "`text_config_dict` is provided which will be used to initialize `CLIPTextConfig`. The value `text_config[\"id2label\"]` will be overriden.\n",
      "`text_config_dict` is provided which will be used to initialize `CLIPTextConfig`. The value `text_config[\"bos_token_id\"]` will be overriden.\n",
      "`text_config_dict` is provided which will be used to initialize `CLIPTextConfig`. The value `text_config[\"eos_token_id\"]` will be overriden.\n"
     ]
    }
   ],
   "source": [
    "warnings.filterwarnings(\"ignore\")\n",
    "model_name = \"openai/clip-vit-large-patch14\"\n",
    "clip_model = CLIPModel.from_pretrained(model_name).eval()\n",
    "clip_vision_model = CLIPVisionModelWithProjection.from_pretrained(\"openai/clip-vit-base-patch32\")\n",
    "# clip_vision_model = CLIPVisionModel.from_pretrained(\"openai/clip-vit-base-patch32\")\n",
    "processor = CLIPProcessor.from_pretrained(model_name)"
   ]
  },
  {
   "cell_type": "code",
   "execution_count": 3,
   "metadata": {},
   "outputs": [],
   "source": [
    "input_res=clip_vision_model.vision_model.config.image_size"
   ]
  },
  {
   "cell_type": "code",
   "execution_count": null,
   "metadata": {},
   "outputs": [],
   "source": []
  },
  {
   "cell_type": "code",
   "execution_count": 4,
   "metadata": {},
   "outputs": [],
   "source": [
    "img_path = \"../data/mini_MathVista_grid/target/bar.png\"\n",
    "\n",
    "with Image.open(img_path) as img:\n",
    "    pil_image = img\n",
    "    img_tensor = torchvision.transforms.PILToTensor()(img.convert('RGB'))"
   ]
  },
  {
   "cell_type": "code",
   "execution_count": 5,
   "metadata": {},
   "outputs": [
    {
     "data": {
      "text/plain": [
       "torch.Size([3, 553, 699])"
      ]
     },
     "execution_count": 5,
     "metadata": {},
     "output_type": "execute_result"
    }
   ],
   "source": [
    "img_tensor.shape"
   ]
  },
  {
   "cell_type": "code",
   "execution_count": 6,
   "metadata": {},
   "outputs": [],
   "source": [
    "device = clip_vision_model.device"
   ]
  },
  {
   "cell_type": "code",
   "execution_count": 7,
   "metadata": {},
   "outputs": [],
   "source": [
    "inputs = processor(images=img_tensor, return_tensors=\"pt\")\n",
    "# processed_img = torch.from_numpy(np.array(processor.image_processor.preprocess(img_tensor)[\"pixel_values\"])).cuda()\n",
    "inputs = inputs.to(device)"
   ]
  },
  {
   "cell_type": "code",
   "execution_count": 8,
   "metadata": {},
   "outputs": [],
   "source": [
    "outputs = clip_vision_model(**inputs)"
   ]
  },
  {
   "cell_type": "code",
   "execution_count": 9,
   "metadata": {},
   "outputs": [],
   "source": [
    "last_hidden_state_tensor = outputs.last_hidden_state"
   ]
  },
  {
   "cell_type": "code",
   "execution_count": 10,
   "metadata": {},
   "outputs": [
    {
     "data": {
      "image/png": "[encoded data removed]",
      "text/plain": [
       "<PIL.PngImagePlugin.PngImageFile image mode=RGBA size=699x553>"
      ]
     },
     "execution_count": 10,
     "metadata": {},
     "output_type": "execute_result"
    }
   ],
   "source": [
    "pil_image"
   ]
  },
  {
   "cell_type": "code",
   "execution_count": 11,
   "metadata": {},
   "outputs": [],
   "source": [
    "pil_inputs = processor(images=pil_image, return_tensors=\"pt\")\n",
    "pil_outputs = clip_vision_model(**pil_inputs)\n",
    "last_hidden_state_pil = pil_outputs.last_hidden_state"
   ]
  },
  {
   "cell_type": "code",
   "execution_count": 12,
   "metadata": {},
   "outputs": [
    {
     "data": {
      "text/plain": [
       "tensor([[[True, True, True,  ..., True, True, True],\n",
       "         [True, True, True,  ..., True, True, True],\n",
       "         [True, True, True,  ..., True, True, True],\n",
       "         ...,\n",
       "         [True, True, True,  ..., True, True, True],\n",
       "         [True, True, True,  ..., True, True, True],\n",
       "         [True, True, True,  ..., True, True, True]]])"
      ]
     },
     "execution_count": 12,
     "metadata": {},
     "output_type": "execute_result"
    }
   ],
   "source": [
    "last_hidden_state_pil == last_hidden_state_tensor"
   ]
  },
  {
   "cell_type": "code",
   "execution_count": 2,
   "metadata": {},
   "outputs": [
    {
     "name": "stdout",
     "output_type": "stream",
     "text": [
      "[2025-01-09 23:15:27,154] [INFO] [real_accelerator.py:110:get_accelerator] Setting ds_accelerator to cuda (auto detect)\n"
     ]
    }
   ],
   "source": [
    "from clip import MyClip"
   ]
  },
  {
   "cell_type": "code",
   "execution_count": 3,
   "metadata": {},
   "outputs": [],
   "source": [
    "model = MyClip()"
   ]
  },
  {
   "cell_type": "code",
   "execution_count": 5,
   "metadata": {},
   "outputs": [],
   "source": [
    "text_embeds = model.encode_text(\"hello, my name e jeff\")"
   ]
  },
  {
   "cell_type": "code",
   "execution_count": 6,
   "metadata": {},
   "outputs": [
    {
     "data": {
      "text/plain": [
       "torch.Size([1, 512])"
      ]
     },
     "execution_count": 6,
     "metadata": {},
     "output_type": "execute_result"
    }
   ],
   "source": [
    "text_embeds.shape"
   ]
  },
  {
   "cell_type": "code",
   "execution_count": null,
   "metadata": {},
   "outputs": [],
   "source": []
  },
  {
   "cell_type": "markdown",
   "metadata": {},
   "source": [
    "# AEGE Work"
   ]
  },
  {
   "cell_type": "code",
   "execution_count": 1,
   "metadata": {},
   "outputs": [],
   "source": [
    "import sys\n",
    "import os\n",
    "sys.path.append(os.path.abspath(\"..\"))  # Adjust as needed\n",
    "\n",
    "from models.CLIP.clip import clip"
   ]
  },
  {
   "cell_type": "code",
   "execution_count": 2,
   "metadata": {},
   "outputs": [],
   "source": [
    "import torchvision"
   ]
  },
  {
   "cell_type": "code",
   "execution_count": 3,
   "metadata": {},
   "outputs": [],
   "source": [
    "from PIL import Image"
   ]
  },
  {
   "cell_type": "code",
   "execution_count": 4,
   "metadata": {},
   "outputs": [],
   "source": [
    "import torch"
   ]
  },
  {
   "cell_type": "code",
   "execution_count": 5,
   "metadata": {},
   "outputs": [],
   "source": [
    "import numpy as np"
   ]
  },
  {
   "cell_type": "code",
   "execution_count": 6,
   "metadata": {},
   "outputs": [],
   "source": [
    "device = \"cuda\"\n",
    "\n",
    "clip_rn_50,_ = clip.load('RN50', device=device)\n",
    "clip_rn_101,_ = clip.load('RN101', device=device)\n",
    "clip_vit_b_16,_ = clip.load('ViT-B/16', device=device)\n",
    "clip_vit_b_32,_ = clip.load('ViT-B/32', device=device)\n",
    "clip_vit_l_14,_ = clip.load('ViT-L/14', device=device)\n",
    "models = [clip_rn_50, clip_rn_101, clip_vit_b_16, clip_vit_b_32, clip_vit_l_14]\n",
    "# models = [clip_vit_b_32]\n",
    "clip_preprocess = torchvision.transforms.Compose(\n",
    "    [\n",
    "        torchvision.transforms.Resize(clip_vit_b_32.visual.input_resolution, interpolation=torchvision.transforms.InterpolationMode.BICUBIC, antialias=True),\n",
    "        # torchvision.transforms.Lambda(lambda img: torch.clamp(img, 0.0, 255.0) / 255.0),\n",
    "        torchvision.transforms.CenterCrop(clip_vit_b_32.visual.input_resolution),\n",
    "        torchvision.transforms.Normalize((0.48145466, 0.4578275, 0.40821073), (0.26862954, 0.26130258, 0.27577711)), # CLIP imgs mean and std.\n",
    "    ]\n",
    ")\n",
    "final_preprocess = torchvision.transforms.Compose(\n",
    "    [\n",
    "        torchvision.transforms.Resize(clip_vit_b_32.visual.input_resolution, interpolation=torchvision.transforms.InterpolationMode.BICUBIC, antialias=True),\n",
    "        # torchvision.transforms.Lambda(lambda img: torch.clamp(img, 0.0, 255.0) / 255.0),\n",
    "        torchvision.transforms.CenterCrop(clip_vit_b_32.visual.input_resolution),\n",
    "    ]\n",
    ")\n"
   ]
  },
  {
   "cell_type": "code",
   "execution_count": 7,
   "metadata": {},
   "outputs": [],
   "source": [
    "def to_tensor(pic):\n",
    "    mode_to_nptype = {\"I\": np.int32, \"I;16\": np.int16, \"F\": np.float32}\n",
    "    img = torch.from_numpy(np.array(pic, mode_to_nptype.get(pic.mode, np.uint8), copy=True))\n",
    "    img = img.view(pic.size[1], pic.size[0], len(pic.getbands()))\n",
    "    img = img.permute((2, 0, 1)).contiguous()\n",
    "    return img.to(dtype=torch.get_default_dtype())"
   ]
  },
  {
   "cell_type": "code",
   "execution_count": 8,
   "metadata": {},
   "outputs": [],
   "source": [
    "transform_fn = torchvision.transforms.Compose(\n",
    "        [\n",
    "            torchvision.transforms.Resize(224, interpolation=torchvision.transforms.InterpolationMode.BICUBIC),\n",
    "            torchvision.transforms.CenterCrop(224),\n",
    "            torchvision.transforms.Lambda(lambda img: img.convert(\"RGB\")),\n",
    "            torchvision.transforms.Lambda(lambda img: to_tensor(img)),\n",
    "            torchvision.transforms.Lambda(lambda img: torch.clamp(img, 0.0, 255.0) / 255.0),\n",
    "        ]\n",
    "    )\n",
    "transform_fn_org = torchvision.transforms.Compose(\n",
    "    [\n",
    "        torchvision.transforms.Resize(256, interpolation=torchvision.transforms.InterpolationMode.BICUBIC),\n",
    "        torchvision.transforms.CenterCrop(256),\n",
    "        torchvision.transforms.ToTensor(), # [0, 1]\n",
    "        torchvision.transforms.Lambda(lambda img: (img * 2 - 1)),\n",
    "        # torchvision.transforms.Lambda(lambda img: img.convert(\"RGB\")),\n",
    "        # torchvision.transforms.Lambda(lambda img: to_tensor(img)),\n",
    "    ]\n",
    ")"
   ]
  },
  {
   "cell_type": "code",
   "execution_count": 9,
   "metadata": {},
   "outputs": [],
   "source": [
    "tgt_path = \"../data/mini_MathVista_grid/target/bar.png\"\n",
    "adv_path = \"../data/mini_MathVista_grid/target/abst.png\"\n",
    "\n",
    "with Image.open(tgt_path) as img:\n",
    "    pil_image = img\n",
    "    tgt_tensor = transform_fn(img.convert('RGB'))\n",
    "\n",
    "with Image.open(adv_path) as img:\n",
    "    pil_image = img\n",
    "    adv_tensor = transform_fn(img.convert('RGB'))\n",
    "    adv_tensor.requires_grad_(True)"
   ]
  },
  {
   "cell_type": "code",
   "execution_count": 10,
   "metadata": {},
   "outputs": [],
   "source": [
    "# image_tgt = img_tensor.to(torch.float16).to(device)\n",
    "image_tgt = tgt_tensor.to(device)\n",
    "image_adv = adv_tensor.to(device)"
   ]
  },
  {
   "cell_type": "code",
   "execution_count": 11,
   "metadata": {},
   "outputs": [],
   "source": [
    "image_tgt = image_tgt.unsqueeze(0)\n",
    "image_adv = image_adv.unsqueeze(0)"
   ]
  },
  {
   "cell_type": "code",
   "execution_count": 12,
   "metadata": {},
   "outputs": [],
   "source": [
    "with torch.no_grad():\n",
    "    tgt_image_features_list=[]\n",
    "    image_tgt = clip_preprocess(image_tgt)\n",
    "    for clip_model in models:\n",
    "        tgt_image_features = clip_model.encode_image(image_tgt)  # [bs, 512]\n",
    "        tgt_image_features = tgt_image_features / tgt_image_features.norm(dim=1, keepdim=True)\n",
    "        tgt_image_features_list.append(tgt_image_features)"
   ]
  },
  {
   "cell_type": "code",
   "execution_count": 13,
   "metadata": {},
   "outputs": [],
   "source": [
    "adv_image_features_list=[]\n",
    "image_adv = clip_preprocess(image_adv)\n",
    "for clip_model in models:\n",
    "    adv_image_features = clip_model.encode_image(image_adv)  # [bs, 512]\n",
    "    adv_image_features = adv_image_features / adv_image_features.norm(dim=1, keepdim=True)\n",
    "    adv_image_features_list.append(adv_image_features)"
   ]
  },
  {
   "cell_type": "code",
   "execution_count": 14,
   "metadata": {},
   "outputs": [],
   "source": [
    "tau = 1.0  \n",
    "costs = torch.ones(2, len(models))"
   ]
  },
  {
   "cell_type": "code",
   "execution_count": 16,
   "metadata": {},
   "outputs": [],
   "source": [
    "model_losses=torch.zeros(len(models))\n",
    "loss = torch.zeros(1).to(device)\n",
    "crit_list = []\n",
    "for model_i, (pred_i, target_i) in enumerate(zip(adv_image_features_list, tgt_image_features_list)):\n",
    "    model_losses[model_i] = torch.mean(torch.sum(pred_i * target_i, dim=1))   \n"
   ]
  },
  {
   "cell_type": "code",
   "execution_count": 17,
   "metadata": {},
   "outputs": [
    {
     "data": {
      "text/plain": [
       "torch.Size([5])"
      ]
     },
     "execution_count": 17,
     "metadata": {},
     "output_type": "execute_result"
    }
   ],
   "source": [
    "\n",
    "\n",
    "torch.sum(torch.exp(tau*(costs[0] / costs[1]+1e-16)), dim=1) / (len(models)*)"
   ]
  },
  {
   "cell_type": "code",
   "execution_count": 28,
   "metadata": {},
   "outputs": [
    {
     "ename": "RuntimeError",
     "evalue": "Trying to backward through the graph a second time (or directly access saved tensors after they have already been freed). Saved intermediate values of the graph are freed when you call .backward() or autograd.grad(). Specify retain_graph=True if you need to backward through the graph a second time or if you need to access saved tensors after calling backward.",
     "output_type": "error",
     "traceback": [
      "\u001b[0;31m---------------------------------------------------------------------------\u001b[0m",
      "\u001b[0;31mRuntimeError\u001b[0m                              Traceback (most recent call last)",
      "Cell \u001b[0;32mIn[28], line 17\u001b[0m\n\u001b[1;32m     13\u001b[0m costs[\u001b[38;5;241m1\u001b[39m] \u001b[38;5;241m=\u001b[39m costs[\u001b[38;5;241m0\u001b[39m]\n\u001b[1;32m     14\u001b[0m costs[\u001b[38;5;241m0\u001b[39m] \u001b[38;5;241m=\u001b[39m model_losses\u001b[38;5;241m.\u001b[39mclone()\u001b[38;5;241m.\u001b[39mdetach()\n\u001b[0;32m---> 17\u001b[0m gradient \u001b[38;5;241m=\u001b[39m \u001b[43mtorch\u001b[49m\u001b[38;5;241;43m.\u001b[39;49m\u001b[43mautograd\u001b[49m\u001b[38;5;241;43m.\u001b[39;49m\u001b[43mgrad\u001b[49m\u001b[43m(\u001b[49m\u001b[43mloss\u001b[49m\u001b[43m,\u001b[49m\u001b[43m \u001b[49m\u001b[43madv_tensor\u001b[49m\u001b[43m)\u001b[49m[\u001b[38;5;241m0\u001b[39m]\n\u001b[1;32m     18\u001b[0m \u001b[38;5;66;03m# gradient = torch.clamp(gradient, min=-0.0025, max=0.0025)  # 0.0025\u001b[39;00m\n",
      "File \u001b[0;32m~/miniconda3/envs/VLM_Poisoning/lib/python3.10/site-packages/torch/autograd/__init__.py:303\u001b[0m, in \u001b[0;36mgrad\u001b[0;34m(outputs, inputs, grad_outputs, retain_graph, create_graph, only_inputs, allow_unused, is_grads_batched)\u001b[0m\n\u001b[1;32m    301\u001b[0m     \u001b[38;5;28;01mreturn\u001b[39;00m _vmap_internals\u001b[38;5;241m.\u001b[39m_vmap(vjp, \u001b[38;5;241m0\u001b[39m, \u001b[38;5;241m0\u001b[39m, allow_none_pass_through\u001b[38;5;241m=\u001b[39m\u001b[38;5;28;01mTrue\u001b[39;00m)(grad_outputs_)\n\u001b[1;32m    302\u001b[0m \u001b[38;5;28;01melse\u001b[39;00m:\n\u001b[0;32m--> 303\u001b[0m     \u001b[38;5;28;01mreturn\u001b[39;00m \u001b[43mVariable\u001b[49m\u001b[38;5;241;43m.\u001b[39;49m\u001b[43m_execution_engine\u001b[49m\u001b[38;5;241;43m.\u001b[39;49m\u001b[43mrun_backward\u001b[49m\u001b[43m(\u001b[49m\u001b[43m  \u001b[49m\u001b[38;5;66;43;03m# Calls into the C++ engine to run the backward pass\u001b[39;49;00m\n\u001b[1;32m    304\u001b[0m \u001b[43m        \u001b[49m\u001b[43mt_outputs\u001b[49m\u001b[43m,\u001b[49m\u001b[43m \u001b[49m\u001b[43mgrad_outputs_\u001b[49m\u001b[43m,\u001b[49m\u001b[43m \u001b[49m\u001b[43mretain_graph\u001b[49m\u001b[43m,\u001b[49m\u001b[43m \u001b[49m\u001b[43mcreate_graph\u001b[49m\u001b[43m,\u001b[49m\u001b[43m \u001b[49m\u001b[43mt_inputs\u001b[49m\u001b[43m,\u001b[49m\n\u001b[1;32m    305\u001b[0m \u001b[43m        \u001b[49m\u001b[43mallow_unused\u001b[49m\u001b[43m,\u001b[49m\u001b[43m \u001b[49m\u001b[43maccumulate_grad\u001b[49m\u001b[38;5;241;43m=\u001b[39;49m\u001b[38;5;28;43;01mFalse\u001b[39;49;00m\u001b[43m)\u001b[49m\n",
      "\u001b[0;31mRuntimeError\u001b[0m: Trying to backward through the graph a second time (or directly access saved tensors after they have already been freed). Saved intermediate values of the graph are freed when you call .backward() or autograd.grad(). Specify retain_graph=True if you need to backward through the graph a second time or if you need to access saved tensors after calling backward."
     ]
    }
   ],
   "source": [
    "tau = 1.0  \n",
    "costs = torch.ones(2, len(models))\n",
    "\n",
    "model_losses=torch.zeros(len(models))\n",
    "loss = torch.zeros(1).to(device)\n",
    "for model_i, (pred_i, target_i) in enumerate(zip(adv_image_features_list, tgt_image_features_list)):\n",
    "    model_losses[model_i] = torch.mean(torch.sum(pred_i * target_i, dim=1))   \n",
    "\n",
    "exp_cost_ratio = torch.exp(tau*(costs[1] / costs[0]+1e-16))\n",
    "weights = torch.sum(exp_cost_ratio, dim=0) / (len(models)*exp_cost_ratio)\n",
    "loss = torch.sum(weights * model_losses)\n",
    "\n",
    "costs[1] = costs[0]\n",
    "costs[0] = model_losses.clone().detach()\n",
    "\n",
    "\n",
    "gradient = torch.autograd.grad(loss, adv_tensor)[0]\n",
    "# gradient = torch.clamp(gradient, min=-0.0025, max=0.0025)  # 0.0025\n"
   ]
  },
  {
   "cell_type": "code",
   "execution_count": 27,
   "metadata": {},
   "outputs": [
    {
     "data": {
      "text/plain": [
       "tensor([[[-0.0025, -0.0025, -0.0025,  ..., -0.0025, -0.0019,  0.0025],\n",
       "         [-0.0025, -0.0025, -0.0025,  ...,  0.0025,  0.0025,  0.0025],\n",
       "         [-0.0025,  0.0025, -0.0025,  ...,  0.0025,  0.0025,  0.0025],\n",
       "         ...,\n",
       "         [-0.0025, -0.0025, -0.0025,  ...,  0.0025, -0.0025,  0.0025],\n",
       "         [-0.0025,  0.0025, -0.0025,  ...,  0.0025,  0.0011,  0.0025],\n",
       "         [ 0.0012,  0.0025, -0.0025,  ...,  0.0025,  0.0025,  0.0025]],\n",
       "\n",
       "        [[-0.0025,  0.0025, -0.0025,  ..., -0.0025,  0.0025,  0.0025],\n",
       "         [ 0.0025,  0.0025,  0.0025,  ..., -0.0025, -0.0025,  0.0025],\n",
       "         [ 0.0025,  0.0025,  0.0025,  ..., -0.0025, -0.0025,  0.0025],\n",
       "         ...,\n",
       "         [-0.0025, -0.0025, -0.0025,  ..., -0.0025, -0.0025,  0.0025],\n",
       "         [-0.0025, -0.0025, -0.0025,  ..., -0.0025, -0.0025,  0.0025],\n",
       "         [ 0.0025, -0.0025, -0.0025,  ...,  0.0025,  0.0025,  0.0025]],\n",
       "\n",
       "        [[-0.0025, -0.0025, -0.0025,  ...,  0.0025,  0.0025,  0.0025],\n",
       "         [-0.0025,  0.0025, -0.0025,  ..., -0.0025,  0.0025,  0.0025],\n",
       "         [-0.0025, -0.0025,  0.0016,  ..., -0.0025,  0.0025,  0.0025],\n",
       "         ...,\n",
       "         [ 0.0025,  0.0025, -0.0025,  ..., -0.0025, -0.0025,  0.0025],\n",
       "         [ 0.0025,  0.0022,  0.0003,  ..., -0.0025, -0.0025,  0.0025],\n",
       "         [ 0.0025, -0.0025, -0.0025,  ...,  0.0025,  0.0025,  0.0025]]])"
      ]
     },
     "execution_count": 27,
     "metadata": {},
     "output_type": "execute_result"
    }
   ],
   "source": [
    "gradient"
   ]
  },
  {
   "cell_type": "code",
   "execution_count": 56,
   "metadata": {},
   "outputs": [],
   "source": [
    "tau = 1.0  \n",
    "costs = torch.ones(2, len(models))\n",
    "for iteration in range(iterations):#pseudo code\n",
    "    model_losses=torch.zeros(len(models))\n",
    "    loss = torch.zeros(1).to(device)\n",
    "    crit_list = []\n",
    "    adv_image_features_list = get_adv_image_features_list(adv_image)#pseudo code\n",
    "    for model_i, (pred_i, target_i) in enumerate(zip(adv_image_features_list, tgt_image_features_list)):\n",
    "        model_losses[model_i] = torch.mean(torch.sum(pred_i * target_i, dim=1))   \n",
    "\n",
    "    exp_cost_ratio = torch.exp(tau*(costs[1] / costs[0]+1e-16))\n",
    "    weights = torch.sum(exp_cost_ratio, dim=0) / (len(models)*exp_cost_ratio)\n",
    "    loss = torch.sum(weights * model_losses)\n",
    "\n",
    "    costs[1] = costs[0]\n",
    "    costs[0] = model_losses.clone().detach()\n",
    "\n",
    "\n",
    "    gradient = torch.autograd.grad(loss, adv_tensor)[0]\n",
    "    gradient = torch.clamp(gradient, min=-0.0025, max=0.0025)  # 0.0025\n",
    "\n",
    "    update_adv_image(adv_image) #pseudo code"
   ]
  },
  {
   "cell_type": "code",
   "execution_count": 58,
   "metadata": {},
   "outputs": [
    {
     "data": {
      "text/plain": [
       "torch.Size([3, 224, 224])"
      ]
     },
     "execution_count": 58,
     "metadata": {},
     "output_type": "execute_result"
    }
   ],
   "source": [
    "gradient.size()"
   ]
  },
  {
   "cell_type": "code",
   "execution_count": 47,
   "metadata": {},
   "outputs": [
    {
     "data": {
      "text/plain": [
       "tensor([[[[1.3464, 1.2880, 1.3026,  ..., 1.3172, 1.3026, 1.3026],\n",
       "          [1.3610, 1.3026, 1.3172,  ..., 1.3172, 1.3026, 1.3026],\n",
       "          [1.3756, 1.3172, 1.3464,  ..., 1.3172, 1.3026, 1.3026],\n",
       "          ...,\n",
       "          [1.3026, 1.2880, 1.3026,  ..., 1.3318, 1.3318, 1.3318],\n",
       "          [1.3318, 1.3026, 1.3026,  ..., 1.3318, 1.3318, 1.3318],\n",
       "          [1.3756, 1.2880, 1.3026,  ..., 1.3318, 1.3318, 1.3318]],\n",
       "\n",
       "         [[1.3095, 1.2645, 1.2795,  ..., 1.3095, 1.2945, 1.2945],\n",
       "          [1.3245, 1.2795, 1.2945,  ..., 1.3095, 1.2945, 1.2945],\n",
       "          [1.3395, 1.2945, 1.3095,  ..., 1.3095, 1.2945, 1.2945],\n",
       "          ...,\n",
       "          [1.3695, 1.3545, 1.3545,  ..., 1.3545, 1.3545, 1.3545],\n",
       "          [1.3695, 1.3545, 1.3545,  ..., 1.3545, 1.3545, 1.3545],\n",
       "          [1.3995, 1.3395, 1.3545,  ..., 1.3545, 1.3545, 1.3545]],\n",
       "\n",
       "         [[1.1932, 1.0794, 1.0936,  ..., 1.0510, 1.0367, 1.0225],\n",
       "          [1.1932, 1.0794, 1.1078,  ..., 1.0510, 1.0367, 1.0225],\n",
       "          [1.1932, 1.0794, 1.1221,  ..., 1.0510, 1.0367, 1.0225],\n",
       "          ...,\n",
       "          [1.2216, 1.1363, 1.1363,  ..., 1.1078, 1.1078, 1.1078],\n",
       "          [1.2216, 1.1505, 1.1363,  ..., 1.1078, 1.1078, 1.1078],\n",
       "          [1.2643, 1.1505, 1.1363,  ..., 1.1078, 1.1078, 1.1078]]]],\n",
       "       device='cuda:0')"
      ]
     },
     "execution_count": 47,
     "metadata": {},
     "output_type": "execute_result"
    }
   ],
   "source": [
    "image_adv"
   ]
  },
  {
   "cell_type": "code",
   "execution_count": 64,
   "metadata": {},
   "outputs": [],
   "source": [
    "# for i, feat in enumerate(tgt_image_features_list):\n",
    "#     if torch.all(torch.isnan(feat)):\n",
    "#         print(\"nothing here man\", i)"
   ]
  },
  {
   "cell_type": "code",
   "execution_count": null,
   "metadata": {},
   "outputs": [
    {
     "name": "stdout",
     "output_type": "stream",
     "text": [
      "nothing here man 0\n",
      "nothing here man 1\n"
     ]
    }
   ],
   "source": [
    "import torchvision\n",
    "from PIL import Image\n",
    "import torch\n",
    "import numpy as np\n",
    "\n",
    "import sys\n",
    "import os\n",
    "sys.path.append(os.path.abspath(\"..\"))  # Adjust as needed\n",
    "\n",
    "from models.CLIP.clip import clip\n",
    "\n",
    "# models = [clip_vit_b_32]\n",
    "clip_preprocess = torchvision.transforms.Compose(\n",
    "    [\n",
    "        torchvision.transforms.Resize(clip_vit_b_32.visual.input_resolution, interpolation=torchvision.transforms.InterpolationMode.BICUBIC, antialias=True),\n",
    "        # torchvision.transforms.Lambda(lambda img: torch.clamp(img, 0.0, 255.0) / 255.0),\n",
    "        torchvision.transforms.CenterCrop(clip_vit_b_32.visual.input_resolution),\n",
    "        torchvision.transforms.Normalize((0.48145466, 0.4578275, 0.40821073), (0.26862954, 0.26130258, 0.27577711)), # CLIP imgs mean and std.\n",
    "    ]\n",
    ")\n",
    "final_preprocess = torchvision.transforms.Compose(\n",
    "    [\n",
    "        torchvision.transforms.Resize(clip_vit_b_32.visual.input_resolution, interpolation=torchvision.transforms.InterpolationMode.BICUBIC, antialias=True),\n",
    "        # torchvision.transforms.Lambda(lambda img: torch.clamp(img, 0.0, 255.0) / 255.0),\n",
    "        torchvision.transforms.CenterCrop(clip_vit_b_32.visual.input_resolution),\n",
    "    ]\n",
    ")\n",
    "\n",
    "class MyClipEnsemble():\n",
    "    def __init__(self, tau=2):\n",
    "        warnings.filterwarnings(\"ignore\")\n",
    "        self.device = torch.device(\"cuda\" if torch.cuda.is_available() else \"cpu\")\n",
    "        clip_rn_50,_ = clip.load('RN50', device=device)\n",
    "        clip_rn_101,_ = clip.load('RN101', device=device)\n",
    "        clip_vit_b_16,_ = clip.load('ViT-B/16', device=device)\n",
    "        clip_vit_b_32,_ = clip.load('ViT-B/32', device=device)\n",
    "        clip_vit_l_14,_ = clip.load('ViT-L/14', device=device)\n",
    "        self.models = [clip_rn_50, clip_rn_101, clip_vit_b_16, clip_vit_b_32, clip_vit_l_14]\n",
    "\n",
    "        self.clip_preprocess = torchvision.transforms.Compose(\n",
    "            [\n",
    "                torchvision.transforms.Resize(clip_vit_b_32.visual.input_resolution, interpolation=torchvision.transforms.InterpolationMode.BICUBIC, antialias=True),\n",
    "                # torchvision.transforms.Lambda(lambda img: torch.clamp(img, 0.0, 255.0) / 255.0),\n",
    "                torchvision.transforms.CenterCrop(clip_vit_b_32.visual.input_resolution),\n",
    "                torchvision.transforms.Normalize((0.48145466, 0.4578275, 0.40821073), (0.26862954, 0.26130258, 0.27577711)), # CLIP imgs mean and std.\n",
    "            ]\n",
    "        )\n",
    "\n",
    "        self.costs = torch.ones(2, len(self.models))\n",
    "        self.tau = tau\n",
    "        \n",
    "    def encode_image(self, image, use_grad=True):\n",
    "        image_features_list = []\n",
    "        image_tgt = clip_preprocess(image)\n",
    "\n",
    "        context = torch.enable_grad() if use_grad else torch.no_grad()\n",
    "        with context:\n",
    "            for clip_model in self.models:\n",
    "                image_features = clip_model.encode_image(image_tgt)  # [bs, 512]\n",
    "                image_features /= image_features.norm(dim=1, keepdim=True)\n",
    "                image_features_list.append(image_features)\n",
    "\n",
    "        return image_features_list\n",
    "    \n",
    "    def get_gradients(self, adv_image_features_list, tgt_image_features_list):\n",
    "        model_losses=torch.zeros(len(self.models))\n",
    "        loss = torch.zeros(1).to(self.device)\n",
    "        for model_i, (pred_i, target_i) in enumerate(zip(adv_image_features_list, tgt_image_features_list)):\n",
    "            model_losses[model_i] = torch.mean(torch.sum(pred_i * target_i, dim=1))   \n",
    "\n",
    "        exp_cost_ratio = torch.exp(self.tau*(self.costs[1] / self.costs[0]+1e-16))\n",
    "        weights = torch.sum(exp_cost_ratio, dim=0) / (len(self.models)*exp_cost_ratio)\n",
    "        loss = torch.sum(weights * model_losses)\n",
    "\n",
    "        self.costs[1] = self.costs[0]\n",
    "        self.costs[0] = model_losses.clone().detach()\n",
    "\n",
    "\n",
    "        gradient = torch.autograd.grad(loss, adv_tensor)[0]\n",
    "        return gradient\n"
   ]
  },
  {
   "cell_type": "code",
   "execution_count": null,
   "metadata": {},
   "outputs": [],
   "source": [
    "tau = 1.0  \n",
    "costs = torch.ones(2, len(models))\n",
    "\n",
    "model_losses=torch.zeros(len(models))\n",
    "loss = torch.zeros(1).to(device)\n",
    "for model_i, (pred_i, target_i) in enumerate(zip(adv_image_features_list, tgt_image_features_list)):\n",
    "    model_losses[model_i] = torch.mean(torch.sum(pred_i * target_i, dim=1))   \n",
    "\n",
    "exp_cost_ratio = torch.exp(tau*(costs[1] / costs[0]+1e-16))\n",
    "weights = torch.sum(exp_cost_ratio, dim=0) / (len(models)*exp_cost_ratio)\n",
    "loss = torch.sum(weights * model_losses)\n",
    "\n",
    "costs[1] = costs[0]\n",
    "costs[0] = model_losses.clone().detach()\n",
    "\n",
    "\n",
    "gradient = torch.autograd.grad(loss, adv_tensor)[0]"
   ]
  }
 ],
 "metadata": {
  "kernelspec": {
   "display_name": "notebooks",
   "language": "python",
   "name": "python3"
  },
  "language_info": {
   "codemirror_mode": {
    "name": "ipython",
    "version": 3
   },
   "file_extension": ".py",
   "mimetype": "text/x-python",
   "name": "python",
   "nbconvert_exporter": "python",
   "pygments_lexer": "ipython3",
   "version": "3.10.15"
  }
 },
 "nbformat": 4,
 "nbformat_minor": 2
}
