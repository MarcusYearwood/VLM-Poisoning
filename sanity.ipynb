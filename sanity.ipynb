{
 "cells": [
  {
   "cell_type": "code",
   "execution_count": 1,
   "metadata": {},
   "outputs": [],
   "source": [
    "import os\n",
    "import torch\n",
    "import json\n",
    "import argparse\n",
    "from tqdm import tqdm\n",
    "import torch.optim as optim\n",
    "from torchvision.utils import save_image\n",
    "from PIL import Image\n",
    "\n",
    "from training_models import MyClipEnsemble, MyInternEnsemble, MyEnsemble\n",
    "\n",
    "from datasets import collate_fn_image, ImageDataset, EnsembleImageDataset\n",
    "from poison_utils import L2_norm\n",
    "\n",
    "from torchvision import transforms"
   ]
  },
  {
   "cell_type": "markdown",
   "metadata": {},
   "source": [
    "# Image Training"
   ]
  },
  {
   "cell_type": "code",
   "execution_count": 2,
   "metadata": {},
   "outputs": [],
   "source": [
    "dataset_name = \"mini_MathVista_grid\"\n",
    "method = \"i2i_AllEnsembleAttack\"\n",
    "args = {\n",
    "    \"model\": \"clip\",\n",
    "    \"poison_save_pth\": f\"./data/poisons/{dataset_name}+{method}\",\n",
    "    \"iter_attack\": 500,\n",
    "    \"lr_attack\": 1,\n",
    "    # \"base_data_pth\": f\"data/{dataset_name}/base\",\n",
    "    \"base_data_pth\": f\"data/{dataset_name}/base_512\",\n",
    "    \"target_data_pth\": f\"data/{dataset_name}/target\",\n",
    "    \"questions_pth\": f\"data/{dataset_name}/questions.json\",\n",
    "    \"temperature\": 0,\n",
    "    \"max_new_tokens\": 200,\n",
    "    \"eps\": 16,\n",
    "}\n",
    "\n",
    "\n",
    "def read_json(path):\n",
    "    with open(path, 'r', encoding='utf-8') as f:\n",
    "        return json.load(f)\n"
   ]
  },
  {
   "cell_type": "code",
   "execution_count": 3,
   "metadata": {},
   "outputs": [],
   "source": [
    "# encoder_model = MyClip()\n",
    "# encoder_model = MyClipEnsemble()\n",
    "# encoder_model = MyInternEnsemble()\n",
    "encoder_model = MyEnsemble()\n",
    "device = encoder_model.device\n",
    "\n",
    "question_json = read_json(args[\"questions_pth\"])\n",
    "pids = question_json.keys()\n",
    "\n",
    "\n",
    "\n",
    "base_caps = read_json(os.path.join(args[\"base_data_pth\"], \"caps.json\"))\n",
    "target_caps = read_json(os.path.join(args[\"target_data_pth\"], \"caps.json\"))"
   ]
  },
  {
   "cell_type": "code",
   "execution_count": 4,
   "metadata": {},
   "outputs": [],
   "source": [
    "# base_dataset = ImageDataset(base_caps[\"annotations\"])\n",
    "# target_dataset = ImageDataset(target_caps[\"annotations\"])\n",
    "base_dataset = EnsembleImageDataset(base_caps[\"annotations\"])\n",
    "target_dataset = EnsembleImageDataset(target_caps[\"annotations\"])\n",
    "\n",
    "base_dataloader = torch.utils.data.DataLoader(\n",
    "    base_dataset, batch_size=1, \n",
    "    shuffle=False, collate_fn=collate_fn_image\n",
    ")\n",
    "\n",
    "target_dataloader = torch.utils.data.DataLoader(\n",
    "    target_dataset, batch_size=1, \n",
    "    shuffle=False, collate_fn=collate_fn_image\n",
    ")"
   ]
  },
  {
   "cell_type": "code",
   "execution_count": 5,
   "metadata": {},
   "outputs": [],
   "source": [
    "import matplotlib.pyplot as plt\n",
    "def show_img(img, caption):\n",
    "    print(caption)\n",
    "    plt.imshow(img.squeeze(0).permute(1,2,0))\n",
    "    plt.axis(\"off\")\n",
    "    plt.show()"
   ]
  },
  {
   "cell_type": "code",
   "execution_count": 6,
   "metadata": {},
   "outputs": [],
   "source": [
    "def i2i_attack(model, image_base, image_target, iters=100, lr=1/255, eps=8):\n",
    "      '''\n",
    "      optimizing x_adv to minimize emb_dist( img_embed of x_adv, img_embed of image_target ) within Lp constraint using PGD\n",
    "\n",
    "      model: model class with image embedding functionality (e.g. CLIP, EVA)\n",
    "      image_base, image_target: images between [0,1] \n",
    "      emb_dist: the distance metrics for vision embedding (such as L2): take a batch of bs image pairs as input, \\\n",
    "            and output EACH of pair-wise distances of the whole batch (size = [bs])\n",
    "\n",
    "      eps: for Lp constraint\n",
    "      lr: the step size. The update is grad.sign * lr\n",
    "      diff_aug: using differentiable augmentation, e.g. RandomResizeCrop\n",
    "\n",
    "      return: X_adv between [0,1]\n",
    "      '''\n",
    "\n",
    "      bs = image_base.size(0)\n",
    "      device = image_base.device\n",
    "\n",
    "      with torch.no_grad():\n",
    "            embedding_targets = model.encode_image(image_target)\n",
    "            embedding_targets = embedding_targets / embedding_targets.norm(dim=-1, keepdim=True)\n",
    "\n",
    "      X_adv = image_base.clone().detach()\n",
    "      X_adv.requires_grad_(True) \n",
    "\n",
    "      loss_best = 1e8\n",
    "      X_adv_best = X_adv.clone().detach()\n",
    "\n",
    "      # for i in tqdm(range(iters), leave=False):\n",
    "      for i in range(iters):\n",
    "            embs = model.encode_image(X_adv)\n",
    "            embs = embs / embs.norm(dim=-1, keepdim=True)  # Normalize embeddings\n",
    "\n",
    "            loss = L2_norm(embs, embedding_targets)\n",
    "            # loss = torch.mean(torch.sum(embs * embedding_targets, dim=1))\n",
    "\n",
    "            if loss < loss_best:\n",
    "                  loss_best = loss.clone().detach()\n",
    "                  X_adv_best = X_adv.clone().detach()\n",
    "\n",
    "            # optimizer.zero_grad()\n",
    "            loss.backward()\n",
    "\n",
    "            # print losses at increments\n",
    "            if i% max(int(iters/20),1) == 0:\n",
    "                  # print('Iter :{} loss:{:.4f}, lr * 255:{:.4f}'.format(i,loss.item()/bs, scheduler.get_last_lr()[0]*255))\n",
    "                  print('Iter :{} loss:{:.4f}, lr * 255:{:.4f}'.format(i,loss.item()/bs, lr*255))\n",
    "\n",
    "            grad = X_adv.grad\n",
    "            assert grad != None\n",
    "            grad = grad / torch.mean(torch.abs(grad), dim=(1,2,3), keepdim=True)           \n",
    "            \n",
    "            perturbation = lr * grad.sign()\n",
    "            # print(perturbation.shape)\n",
    "            X_adv.data = X_adv.data.detach() + perturbation\n",
    "            X_adv.data = torch.minimum(torch.maximum(X_adv, image_base - eps), image_base + eps) \n",
    "            X_adv.data = X_adv.data.clamp(0,255)\n",
    "            X_adv.grad = None  \n",
    "\n",
    "            if torch.isnan(loss):\n",
    "                  print('Encounter nan loss at iteration {}'.format(i))\n",
    "                  break                 \n",
    "\n",
    "      print('Best Total loss:{:.4f}'.format(loss.item()))\n",
    "\n",
    "      return X_adv_best, loss_best\n",
    "\n",
    "\n"
   ]
  },
  {
   "cell_type": "code",
   "execution_count": 7,
   "metadata": {},
   "outputs": [],
   "source": [
    "def SGAImageAttack(model, image, cap, iters=100, lr=1/255, eps=8):\n",
    "      '''\n",
    "      optimizing x_adv to maximize emb_dist( img_embed of x_adv, text_embed of captions ) within Lp constraint using PGD\n",
    "\n",
    "      model: model class with image and text embedding functionality (e.g. CLIP, EVA)\n",
    "      image, cap: image between [0,255] (float) caption dict for that image\n",
    "      emb_dist: the distance metrics for vision embedding (such as L2): take a batch of bs image pairs as input, \\\n",
    "            and output EACH of pair-wise distances of the whole batch (size = [bs])\n",
    "\n",
    "      eps: for Lp constraint\n",
    "      lr: the step size. The update is grad.sign * lr\n",
    "\n",
    "      return: X_adv between [0,255]\n",
    "      '''\n",
    "\n",
    "      bs = image.size(0)\n",
    "      device = image.device\n",
    "\n",
    "      with torch.no_grad():\n",
    "            embedding_targets = model.encode_text(cap['caption'])\n",
    "            embedding_targets = embedding_targets / embedding_targets.norm(dim=-1, keepdim=True)\n",
    "\n",
    "      X_adv = image.clone().detach()\n",
    "      X_adv.requires_grad_(True) \n",
    "\n",
    "      loss_best = 1e8\n",
    "      X_adv_best = X_adv.clone().detach()\n",
    "\n",
    "      # for i in tqdm(range(iters), leave=False):\n",
    "      for i in range(iters):\n",
    "            embs = model.encode_image(X_adv)\n",
    "            embs = embs / embs.norm(dim=-1, keepdim=True)  # Normalize embeddings\n",
    "\n",
    "            loss = -L2_norm(embs, embedding_targets)\n",
    "\n",
    "            if loss < loss_best:\n",
    "                  loss_best = loss.clone().detach()\n",
    "                  X_adv_best = X_adv.clone().detach()\n",
    "\n",
    "            loss.backward()\n",
    "\n",
    "            # print losses at increments\n",
    "            if i% max(int(iters/20),1) == 0:\n",
    "                  print('Iter :{} loss:{:.4f}, lr * 255:{:.4f}'.format(i,loss.item()/bs, lr*255))\n",
    "\n",
    "            grad = X_adv.grad\n",
    "            assert grad != None\n",
    "            grad = grad / torch.mean(torch.abs(grad), dim=(1,2,3), keepdim=True)           \n",
    "            \n",
    "            perturbation = lr * grad.sign()\n",
    "            # print(perturbation.shape)\n",
    "            X_adv.data = X_adv.data.detach() - perturbation\n",
    "            X_adv.data = torch.minimum(torch.maximum(X_adv, image_base - eps), image_base + eps) \n",
    "            X_adv.data = X_adv.data.clamp(0,255)\n",
    "            X_adv.grad = None  \n",
    "\n",
    "            if torch.isnan(loss):\n",
    "                  print('Encounter nan loss at iteration {}'.format(i))\n",
    "                  break                 \n",
    "\n",
    "      print('Best Total loss:{:.4f}'.format(loss.item()))\n",
    "\n",
    "      return X_adv_best, loss_best"
   ]
  },
  {
   "cell_type": "code",
   "execution_count": 8,
   "metadata": {},
   "outputs": [],
   "source": [
    "def i2i_EnsembleAttack(model, image, target, iters=100, lr=1/255, eps=8):\n",
    "      '''\n",
    "      optimizing x_adv to maximize emb_dist( img_embed of x_adv, text_embed of captions ) within Lp constraint using PGD\n",
    "\n",
    "      model: model class with image and text embedding functionality (e.g. CLIP, EVA)\n",
    "      image, cap: image between [0,255] (float) caption dict for that image\n",
    "      emb_dist: the distance metrics for vision embedding (such as L2): take a batch of bs image pairs as input, \\\n",
    "            and output EACH of pair-wise distances of the whole batch (size = [bs])\n",
    "\n",
    "      eps: for Lp constraint\n",
    "      lr: the step size. The update is grad.sign * lr\n",
    "\n",
    "      return: X_adv between [0,255]\n",
    "      '''\n",
    "\n",
    "      bs = image.size(0)\n",
    "      device = image.device\n",
    "\n",
    "      with torch.no_grad():\n",
    "            embedding_targets = model.encode_image(target)\n",
    "\n",
    "      X_adv = image.clone().detach()\n",
    "      X_adv.requires_grad_(True) \n",
    "\n",
    "      loss_best = 1e8\n",
    "      X_adv_best = X_adv.clone().detach()\n",
    "\n",
    "      # for i in tqdm(range(iters), leave=False):\n",
    "      for i in range(iters):\n",
    "            embs = model.encode_image(X_adv, use_grad=True)\n",
    "\n",
    "            # loss = L2_norm(embs, embedding_targets)\n",
    "            grad, loss, loss_list = model.get_gradients(embs, embedding_targets, X_adv) \n",
    "\n",
    "            torch.cuda.empty_cache()\n",
    "            if loss < loss_best:\n",
    "                  loss_best = loss.clone().detach()\n",
    "                  X_adv_best = X_adv.clone().detach()\n",
    "\n",
    "            # print losses at increments\n",
    "            if i% max(int(iters/20),1) == 0:\n",
    "                  print('Iter :{} loss:{:.4f}, lr:{:.4f}, losses:{}'.format(i,loss.item()/bs, lr, loss_list.tolist()))\n",
    "\n",
    "            \n",
    "            perturbation = lr * grad.sign()\n",
    "            # print(perturbation.shape)\n",
    "            with torch.no_grad():\n",
    "                  X_adv = X_adv + perturbation\n",
    "                  X_adv = torch.min(torch.max(X_adv, image_base - eps), image_base + eps)\n",
    "                  X_adv = torch.clamp(X_adv, 0, 255)\n",
    "            X_adv.requires_grad_(True)\n",
    "\n",
    "            if torch.isnan(loss):\n",
    "                  print('Encounter nan loss at iteration {}'.format(i))\n",
    "                  break                 \n",
    "\n",
    "      print('Best Total loss:{:.4f}'.format(loss.item()))\n",
    "\n",
    "      # return X_adv.clone().detach(), loss_best\n",
    "      return X_adv_best, loss_best"
   ]
  },
  {
   "cell_type": "code",
   "execution_count": 9,
   "metadata": {},
   "outputs": [],
   "source": [
    "# loss gets logits and maximizes entropy of each generated word for image caption\n",
    "\n",
    "# def MaximizeInformationEntropyAttack(model, image, cap, iters=100, lr=1/255, eps=8):\n"
   ]
  },
  {
   "cell_type": "markdown",
   "metadata": {},
   "source": [
    "### SGA Image Attack"
   ]
  },
  {
   "cell_type": "code",
   "execution_count": 10,
   "metadata": {},
   "outputs": [],
   "source": [
    "# import matplotlib.pyplot as plt\n",
    "\n",
    "# ###### Running SGA Image Attack ######\n",
    "# original_sizes_list = []\n",
    "# X_adv_list = []\n",
    "# all_losses = []\n",
    "# loss_attack_list = []\n",
    "\n",
    "# target_path = os.path.join(args['poison_save_pth'], \"SGA\")\n",
    "\n",
    "# if not os.path.exists(target_path):\n",
    "#     os.makedirs(target_path)\n",
    "# saved_images = set(os.listdir(target_path))\n",
    "# saved_image_ids = {int(fname.split('.')[0]) for fname in saved_images if fname.endswith(('.png', '.jpg', '.jpeg'))}\n",
    "\n",
    "\n",
    "# for i, (image_base, base_cap) in  tqdm(enumerate(base_dataloader), desc=f\"Processing all images\", total=len(base_dataloader)):\n",
    "#     if base_cap['name'] in saved_image_ids:\n",
    "#             print(f\"{base_cap['name']} already processed for {target_cap['name']}, skipping...\")\n",
    "#             continue\n",
    "\n",
    "#     print('image name = ', base_cap['name'])\n",
    "#     image_base = image_base.to(device)\n",
    "\n",
    "#     X_adv, loss_attack = SGAImageAttack(\n",
    "#             model=encoder_model,\n",
    "#             image=image_base,\n",
    "#             cap=base_cap,\n",
    "#             iters=args['iter_attack'],\n",
    "#             lr=args['lr_attack'],\n",
    "#             eps=args['eps']\n",
    "#     )\n",
    "\n",
    "\n",
    "#     ###### Save poisoned images after each batch ######\n",
    "#     img_pth = os.path.join(target_path, f\"{base_cap['name']}.png\")\n",
    "#     image_to_save = X_adv/255.0\n",
    "#     print()\n",
    "#     if base_cap['name'] not in saved_image_ids:  # Only save if it doesn't already exist\n",
    "#         print(\"Max Pixel Difference between Adversarial Image and Base *255:\", round(torch.max(torch.abs(X_adv-image_base)).item(), 4))\n",
    "#         save_image(image_to_save.cpu(), img_pth)\n",
    "#         print(f\"Saved poisoned image {base_cap['name']} to {img_pth}\") # mathvista\n",
    "\n",
    "#     # show_img(((X_adv-image_base).to(torch.uint8).cpu()*10), (\"Adversarial Noise\", img_pth))\n",
    "#     # show_img(image_to_save.cpu(), (\"Adversarial Image\", img_pth))\n",
    "\n",
    "        \n",
    "\n",
    "# print(\"Done.\")"
   ]
  },
  {
   "cell_type": "markdown",
   "metadata": {},
   "source": [
    "### i2i attack"
   ]
  },
  {
   "cell_type": "code",
   "execution_count": 11,
   "metadata": {},
   "outputs": [],
   "source": [
    "# ##### Running i2i attack ######\n",
    "# original_sizes_list = []\n",
    "# X_adv_list = []\n",
    "# all_losses = []\n",
    "# loss_attack_list = []\n",
    "# start_idx = 0\n",
    "# end_idx = 0\n",
    "# # for j, (image_target, target_cap) in  tqdm(enumerate(target_dataloader)):\n",
    "# for j, (image_target, target_cap) in  tqdm(enumerate(target_dataloader), desc=\"Target Dataloader\", position=0, leave=True):\n",
    "#     target_name = target_cap[\"name\"]\n",
    "#     target_path = os.path.join(args[\"poison_save_pth\"], target_cap[\"name\"])\n",
    "#     if not os.path.exists(target_path):\n",
    "#         os.makedirs(target_path)\n",
    "\n",
    "#     ###### Resume by checking already saved images ######\n",
    "#     saved_images = set(os.listdir(target_path))\n",
    "#     saved_image_ids = {int(fname.split('.')[0]) for fname in saved_images if fname.endswith(('.png', '.jpg', '.jpeg'))}\n",
    "\n",
    "#     # show_img(image_target, (\"Working on target:\", target_name))\n",
    "\n",
    "#     for i, (image_base, base_cap) in  tqdm(enumerate(base_dataloader), desc=f\"Processing {target_name}\", total=len(base_dataloader), position=1, leave=False):\n",
    "#         if base_cap['name'] in saved_image_ids:\n",
    "#                 print(f\"{base_cap['name']} already processed for {target_cap['name']}, skipping...\")\n",
    "#                 continue\n",
    "\n",
    "#         print('image name = ', base_cap['name'])\n",
    "#         image_base, image_target = image_base.to(device), image_target.to(device)\n",
    "\n",
    "#         X_adv, loss_attack = i2i_attack(\n",
    "#                 model=encoder_model,\n",
    "#                 image_base=image_base,\n",
    "#                 image_target=image_target,\n",
    "#                 iters=args['iter_attack'],\n",
    "#                 lr=args['lr_attack'],\n",
    "#                 eps=args['eps']\n",
    "#         )\n",
    "\n",
    "\n",
    "#         ###### Save poisoned images after each batch ######\n",
    "#         img_pth = os.path.join(target_path, f\"{base_cap['name']}.png\")\n",
    "#         image_to_save = X_adv/255.0\n",
    "#         print()\n",
    "#         if base_cap['name'] not in saved_image_ids:  # Only save if it doesn't already exist\n",
    "#             print(\"Max Pixel Difference between Adversarial Image and Base *255:\", round(torch.max(torch.abs(X_adv-image_base)).item(), 4))\n",
    "#             save_image(image_to_save.cpu(), img_pth)\n",
    "#             print(f\"Saved poisoned image {base_cap['name']} to {img_pth}\") # mathvista\n",
    "\n",
    "#         # show_img(((X_adv-image_base).to(torch.uint8).cpu()*10), (\"Adversarial Noise\", img_pth))\n",
    "#         # show_img(image_to_save.cpu(), (\"Adversarial Image\", img_pth))\n",
    "\n",
    "        \n",
    "\n",
    "# print(\"Done.\")"
   ]
  },
  {
   "cell_type": "markdown",
   "metadata": {},
   "source": [
    "## i2i Ensemble attack"
   ]
  },
  {
   "cell_type": "code",
   "execution_count": 12,
   "metadata": {},
   "outputs": [
    {
     "name": "stderr",
     "output_type": "stream",
     "text": [
      "Target Dataloader: 0it [00:00, ?it/s]"
     ]
    },
    {
     "name": "stdout",
     "output_type": "stream",
     "text": [
      "image name =  85\n",
      "Iter :0 loss:1.0946, lr:1.0000, losses:[1.0615234375, 0.8505859375, 1.126953125, 1.1240234375, 1.0224609375, 1.2578125, 1.21875]\n",
      "Iter :25 loss:0.7047, lr:1.0000, losses:[0.49609375, 0.4462890625, 0.478759765625, 0.6025390625, 0.5888671875, 1.171875, 1.1484375]\n",
      "Iter :50 loss:0.6059, lr:1.0000, losses:[0.4072265625, 0.34912109375, 0.375244140625, 0.490478515625, 0.462646484375, 1.0546875, 1.1015625]\n",
      "Iter :75 loss:0.5649, lr:1.0000, losses:[0.367919921875, 0.321533203125, 0.342041015625, 0.4248046875, 0.427490234375, 1.0, 1.0703125]\n",
      "Iter :100 loss:0.5576, lr:1.0000, losses:[0.3994140625, 0.26708984375, 0.371826171875, 0.437255859375, 0.376708984375, 0.98046875, 1.0703125]\n",
      "Iter :125 loss:0.5235, lr:1.0000, losses:[0.3876953125, 0.30029296875, 0.2464599609375, 0.4013671875, 0.35986328125, 0.9453125, 1.0234375]\n",
      "Iter :150 loss:0.5230, lr:1.0000, losses:[0.3515625, 0.278076171875, 0.36328125, 0.32861328125, 0.327880859375, 0.99609375, 1.015625]\n",
      "Iter :175 loss:0.4872, lr:1.0000, losses:[0.348876953125, 0.2445068359375, 0.2352294921875, 0.361083984375, 0.314208984375, 0.90625, 1.0]\n",
      "Iter :200 loss:0.5047, lr:1.0000, losses:[0.367919921875, 0.281982421875, 0.37255859375, 0.316650390625, 0.29541015625, 0.91015625, 0.98828125]\n",
      "Iter :225 loss:0.4732, lr:1.0000, losses:[0.316162109375, 0.2568359375, 0.20849609375, 0.33544921875, 0.29736328125, 0.90625, 0.9921875]\n",
      "Iter :250 loss:0.4873, lr:1.0000, losses:[0.313232421875, 0.27099609375, 0.34033203125, 0.35107421875, 0.2919921875, 0.8671875, 0.9765625]\n",
      "Iter :275 loss:0.4686, lr:1.0000, losses:[0.337646484375, 0.2958984375, 0.23388671875, 0.304443359375, 0.3115234375, 0.8359375, 0.9609375]\n",
      "Iter :300 loss:0.4846, lr:1.0000, losses:[0.337890625, 0.27197265625, 0.267333984375, 0.282470703125, 0.302978515625, 0.95703125, 0.97265625]\n",
      "Iter :325 loss:0.4581, lr:1.0000, losses:[0.322509765625, 0.264892578125, 0.2237548828125, 0.302490234375, 0.29638671875, 0.83984375, 0.95703125]\n",
      "Iter :350 loss:0.4615, lr:1.0000, losses:[0.2744140625, 0.245361328125, 0.317626953125, 0.314453125, 0.278076171875, 0.84375, 0.95703125]\n",
      "Iter :375 loss:0.4606, lr:1.0000, losses:[0.30908203125, 0.271484375, 0.1898193359375, 0.335693359375, 0.3056640625, 0.85546875, 0.95703125]\n",
      "Iter :400 loss:0.4654, lr:1.0000, losses:[0.29150390625, 0.255126953125, 0.281982421875, 0.32421875, 0.2496337890625, 0.890625, 0.96484375]\n",
      "Iter :425 loss:0.4525, lr:1.0000, losses:[0.32568359375, 0.3115234375, 0.1650390625, 0.291015625, 0.250244140625, 0.87109375, 0.953125]\n",
      "Iter :450 loss:0.4526, lr:1.0000, losses:[0.2763671875, 0.231689453125, 0.341552734375, 0.275634765625, 0.249755859375, 0.8515625, 0.94140625]\n",
      "Iter :475 loss:0.4469, lr:1.0000, losses:[0.26123046875, 0.315185546875, 0.1861572265625, 0.3193359375, 0.26904296875, 0.83984375, 0.9375]\n"
     ]
    },
    {
     "name": "stderr",
     "output_type": "stream",
     "text": []
    },
    {
     "name": "stdout",
     "output_type": "stream",
     "text": [
      "Best Total loss:0.4602\n",
      "\n",
      "Max Pixel Difference between Adversarial Image and Base *255: 16.0\n",
      "Saved poisoned image 85 to ./data/poisons/mini_MathVista_grid+i2i_AllEnsembleAttack/bar/85.png\n",
      "image name =  54\n",
      "Iter :0 loss:1.0629, lr:1.0000, losses:[0.9375, 0.78564453125, 1.076171875, 1.0849609375, 0.96240234375, 1.234375, 1.359375]\n",
      "Iter :25 loss:0.8142, lr:1.0000, losses:[0.64453125, 0.5546875, 0.67529296875, 0.5966796875, 0.74365234375, 1.203125, 1.28125]\n",
      "Iter :50 loss:0.7145, lr:1.0000, losses:[0.55810546875, 0.50439453125, 0.54833984375, 0.467041015625, 0.59521484375, 1.1171875, 1.2109375]\n",
      "Iter :75 loss:0.6682, lr:1.0000, losses:[0.52197265625, 0.447265625, 0.467041015625, 0.412353515625, 0.5244140625, 1.1171875, 1.1875]\n",
      "Iter :100 loss:0.6371, lr:1.0000, losses:[0.495361328125, 0.42041015625, 0.41357421875, 0.40087890625, 0.487060546875, 1.0703125, 1.171875]\n",
      "Iter :125 loss:0.6174, lr:1.0000, losses:[0.4384765625, 0.401611328125, 0.3818359375, 0.368408203125, 0.481201171875, 1.0703125, 1.1796875]\n",
      "Iter :150 loss:0.6087, lr:1.0000, losses:[0.46728515625, 0.375244140625, 0.386474609375, 0.363525390625, 0.47314453125, 1.0390625, 1.15625]\n",
      "Iter :175 loss:0.6063, lr:1.0000, losses:[0.46142578125, 0.369873046875, 0.362548828125, 0.356201171875, 0.459716796875, 1.078125, 1.15625]\n",
      "Iter :200 loss:0.5878, lr:1.0000, losses:[0.38330078125, 0.36767578125, 0.384765625, 0.34375, 0.463134765625, 1.0546875, 1.1171875]\n",
      "Iter :225 loss:0.5941, lr:1.0000, losses:[0.39794921875, 0.35693359375, 0.358154296875, 0.38232421875, 0.4677734375, 1.0703125, 1.125]\n",
      "Iter :250 loss:0.5785, lr:1.0000, losses:[0.375244140625, 0.339111328125, 0.32275390625, 0.330078125, 0.4482421875, 1.1015625, 1.1328125]\n",
      "Iter :275 loss:0.5701, lr:1.0000, losses:[0.404541015625, 0.34228515625, 0.341552734375, 0.357177734375, 0.451171875, 1.0, 1.09375]\n",
      "Iter :300 loss:0.5589, lr:1.0000, losses:[0.3974609375, 0.34521484375, 0.297607421875, 0.3203125, 0.4658203125, 1.0, 1.0859375]\n",
      "Iter :325 loss:0.5652, lr:1.0000, losses:[0.388427734375, 0.328857421875, 0.40185546875, 0.320556640625, 0.438720703125, 1.0, 1.078125]\n",
      "Iter :350 loss:0.5567, lr:1.0000, losses:[0.39453125, 0.3369140625, 0.3017578125, 0.335693359375, 0.4267578125, 1.0234375, 1.078125]\n",
      "Iter :375 loss:0.5570, lr:1.0000, losses:[0.375732421875, 0.320556640625, 0.336181640625, 0.306884765625, 0.4267578125, 1.0546875, 1.078125]\n",
      "Iter :400 loss:0.5605, lr:1.0000, losses:[0.420654296875, 0.320556640625, 0.361572265625, 0.3603515625, 0.429443359375, 0.9609375, 1.0703125]\n",
      "Iter :425 loss:0.5519, lr:1.0000, losses:[0.374755859375, 0.34619140625, 0.3662109375, 0.319580078125, 0.448486328125, 0.9609375, 1.046875]\n",
      "Iter :450 loss:0.5625, lr:1.0000, losses:[0.429931640625, 0.3232421875, 0.36279296875, 0.338623046875, 0.431884765625, 0.99609375, 1.0546875]\n"
     ]
    }
   ],
   "source": [
    "##### Running i2i attack ######\n",
    "original_sizes_list = []\n",
    "X_adv_list = []\n",
    "all_losses = []\n",
    "loss_attack_list = []\n",
    "start_idx = 0\n",
    "end_idx = 0\n",
    "# for j, (image_target, target_cap) in  tqdm(enumerate(target_dataloader)):\n",
    "for j, (image_target, target_cap) in  tqdm(enumerate(target_dataloader), desc=\"Target Dataloader\", position=0, leave=True):\n",
    "    target_name = target_cap[\"name\"]\n",
    "    target_path = os.path.join(args[\"poison_save_pth\"], target_cap[\"name\"])\n",
    "    if not os.path.exists(target_path):\n",
    "        os.makedirs(target_path)\n",
    "\n",
    "    ###### Resume by checking already saved images ######\n",
    "    saved_images = set(os.listdir(target_path))\n",
    "    saved_image_ids = {fname.split('.')[0] for fname in saved_images if fname.endswith(('.png', '.jpg', '.jpeg'))}\n",
    "    if all(name in saved_image_ids for name in [base_cap['name'] for (_, base_cap) in base_dataloader]):\n",
    "        print(f\"{target_cap['name']} entirely complete\")\n",
    "        continue\n",
    "\n",
    "    # show_img(image_target, (\"Working on target:\", target_name))\n",
    "\n",
    "    for i, (image_base, base_cap) in  tqdm(enumerate(base_dataloader), desc=f\"Processing {target_name}\", total=len(base_dataloader), position=1, leave=False):\n",
    "        if base_cap['name'] in saved_image_ids:\n",
    "                print(f\"{base_cap['name']} already processed for {target_cap['name']}, skipping...\")\n",
    "                continue\n",
    "\n",
    "        print('image name = ', base_cap['name'])\n",
    "        image_base, image_target = image_base.to(device), image_target.to(device)\n",
    "\n",
    "        X_adv, loss_attack = i2i_EnsembleAttack(\n",
    "                model=encoder_model,\n",
    "                image=image_base,\n",
    "                target=image_target,\n",
    "                iters=args['iter_attack'],\n",
    "                lr=args['lr_attack'],\n",
    "                eps=args['eps']\n",
    "        )\n",
    "\n",
    "\n",
    "        ###### Save poisoned images after each batch ######\n",
    "        img_pth = os.path.join(target_path, f\"{base_cap['name']}.png\")\n",
    "        image_to_save = X_adv / 255.0\n",
    "        print()\n",
    "        if base_cap['name'] not in saved_image_ids:  # Only save if it doesn't already exist\n",
    "            print(\"Max Pixel Difference between Adversarial Image and Base *255:\", torch.max(torch.abs(X_adv-image_base)).item())\n",
    "            save_image(image_to_save.cpu(), img_pth)\n",
    "            print(f\"Saved poisoned image {base_cap['name']} to {img_pth}\") # mathvista\n",
    "\n",
    "        # show_img(((X_adv-image_base).to(torch.uint8).cpu()*10), (\"Adversarial Noise\", img_pth))\n",
    "        # show_img(image_to_save.cpu(), (\"Adversarial Image\", img_pth))\n",
    "\n",
    "        \n",
    "\n",
    "print(\"Done.\")"
   ]
  },
  {
   "cell_type": "code",
   "execution_count": null,
   "metadata": {},
   "outputs": [],
   "source": [
    "raise Exception(\"Here to stop execution for this section\")"
   ]
  },
  {
   "cell_type": "code",
   "execution_count": null,
   "metadata": {},
   "outputs": [
    {
     "data": {
      "application/vnd.jupyter.widget-view+json": {
       "model_id": "e373d5370ca54514b152ec71ce7102f5",
       "version_major": 2,
       "version_minor": 0
      },
      "text/plain": [
       "Loading checkpoint shards:   0%|          | 0/4 [00:00<?, ?it/s]"
      ]
     },
     "metadata": {},
     "output_type": "display_data"
    },
    {
     "name": "stderr",
     "output_type": "stream",
     "text": [
      "Special tokens have been added in the vocabulary, make sure the associated word embeddings are fine-tuned or trained.\n"
     ]
    }
   ],
   "source": [
    "from eval_models import internvl\n",
    "model = internvl.InternVL_Model()"
   ]
  },
  {
   "cell_type": "code",
   "execution_count": null,
   "metadata": {},
   "outputs": [],
   "source": [
    "base_img = \"./data/mini_MathVista_grid/base_512/28.jpg\"\n",
    "adv_img = \"./data/poisons/mini_MathVista_grid+i2i_AllEnsembleAttack/bar/28.png\"\n",
    "tgt_img = \"./data/mini_MathVista_grid/target/bar.png\"\n",
    "\n",
    "prompt = \"Whats in this image?\""
   ]
  },
  {
   "cell_type": "code",
   "execution_count": null,
   "metadata": {},
   "outputs": [
    {
     "data": {
      "text/plain": [
       "'The image shows a circle with three points on its circumference labeled A, B, and C. There is a line segment AB that is a chord of the circle, and a line segment AC that is a radius of the circle. The angle ∠CAB is indicated, which is a central angle. The circle is drawn with its center at the point where the radius lines meet (not labeled). \\n\\nThis image is often associated with types of problems found in geometry, particularly involving properties of circles, such as angles subtended by chords or radii. For example, ∠CAB being a central angle means it is equal to the inscribed angle ∠CBA, which is an angle subtended by the same arc CA.'"
      ]
     },
     "execution_count": 5,
     "metadata": {},
     "output_type": "execute_result"
    }
   ],
   "source": [
    "model.get_response(base_img, prompt)"
   ]
  },
  {
   "cell_type": "code",
   "execution_count": null,
   "metadata": {},
   "outputs": [
    {
     "data": {
      "text/plain": [
       "'The image shows a circle with three points labeled A, B, and C on its circumference. There is a line segment AB, and another line segment AC that forms a right angle (90 degrees) with BC. The point where AC meets the circle is a right angle, indicated by a small square at point C. This forms a right triangle, ΔABC, inside the circle. \\n\\nThe circle\\'s center is not labeled, but it is the point from which all radii are equal. The image also contains some placeholder text (\"Lorem Ipsum\") and grid lines, suggesting it might be a draft or template.'"
      ]
     },
     "execution_count": 3,
     "metadata": {},
     "output_type": "execute_result"
    }
   ],
   "source": [
    "model.get_response(adv_img, prompt)"
   ]
  },
  {
   "cell_type": "markdown",
   "metadata": {},
   "source": [
    "# Mathvista Evaluation Pipeline"
   ]
  },
  {
   "cell_type": "markdown",
   "metadata": {},
   "source": [
    "### Generate Response"
   ]
  },
  {
   "cell_type": "code",
   "execution_count": null,
   "metadata": {},
   "outputs": [],
   "source": [
    "attacking_model=\"internvl\"\n",
    "captioning_model = \"gpt-3.5-turbo\"\n",
    "method = \"i2i_EnsembleAttack\""
   ]
  },
  {
   "cell_type": "code",
   "execution_count": null,
   "metadata": {},
   "outputs": [],
   "source": [
    "import os\n",
    "import io\n",
    "import time\n",
    "import argparse\n",
    "\n",
    "from tqdm import tqdm\n",
    "\n",
    "import sys\n",
    "from poison_utils import *\n",
    "\n",
    "from eval_models import internlm, internvl\n",
    "from eval_models import gpt\n",
    "\n",
    "from build_query import create_query_data\n",
    "\n"
   ]
  },
  {
   "cell_type": "code",
   "execution_count": null,
   "metadata": {},
   "outputs": [],
   "source": [
    "\n",
    "\n",
    "def verify_response(response):\n",
    "    if isinstance(response, str):\n",
    "        response = response.strip() \n",
    "    if response == \"\" or response == None:\n",
    "        return False\n",
    "    if \"Response Error\" in response:\n",
    "        return False\n",
    "    return True\n",
    "\n",
    "\n",
    "def evaluate_code(code_string):\n",
    "    # execute_code_and_capture_output\n",
    "    # Backup the original stdout\n",
    "    old_stdout = sys.stdout\n",
    "    \n",
    "    # Redirect stdout to capture the output\n",
    "    new_stdout = io.StringIO()\n",
    "    sys.stdout = new_stdout\n",
    "    \n",
    "    # Try executing the code and capture any exception\n",
    "    error = None\n",
    "    try:\n",
    "        exec(code_string)\n",
    "    except Exception as e:\n",
    "        error = e\n",
    "    \n",
    "    # Restore the original stdout\n",
    "    sys.stdout = old_stdout\n",
    "    \n",
    "    # Get the captured output\n",
    "    captured_output = new_stdout.getvalue()\n",
    "    if isinstance(captured_output, str):\n",
    "        captured_output = captured_output.strip()\n",
    "    \n",
    "    # Return the captured output or error\n",
    "    return captured_output, error\n"
   ]
  },
  {
   "cell_type": "code",
   "execution_count": null,
   "metadata": {},
   "outputs": [],
   "source": [
    "task_name = \"mini_MathVista_grid\"\n",
    "class Args:\n",
    "    def __init__(self, task_name, attacking_model, captioning_model):\n",
    "        # Input\n",
    "        self.poison_data_dir = f'data/poisons/{task_name}+{method}'\n",
    "        self.input_file = 'questions.json'\n",
    "        self.task_data_pth = f'data/{task_name}'\n",
    "\n",
    "        # Output\n",
    "        self.output_dir = f'results/{attacking_model}'\n",
    "        self.output_file = f'output_{attacking_model}.json'\n",
    "\n",
    "        # Model\n",
    "        self.model = attacking_model\n",
    "        self.key = \"\"\n",
    "\n",
    "        # Query\n",
    "        self.query_file = None\n",
    "        # self.caption_file = '../data/texts/captions_bard.json'\n",
    "        # self.ocr_file = '../data/texts/ocrs_easyocr.json'\n",
    "        self.shot_type = 'solution'\n",
    "        self.shot_num = 0\n",
    "        self.use_caption = False\n",
    "        self.use_ocr = False\n",
    "\n",
    "        # Other settings\n",
    "        self.rerun = False\n",
    "        self.debug = False\n",
    "\n",
    "    def __repr__(self):\n",
    "        return f\"Args({self.__dict__})\"\n",
    "\n",
    "args = Args(task_name, attacking_model, captioning_model)"
   ]
  },
  {
   "cell_type": "code",
   "execution_count": null,
   "metadata": {},
   "outputs": [
    {
     "name": "stdout",
     "output_type": "stream",
     "text": [
      "Reading data/mini_MathVista_grid/questions.json...\n",
      "\n",
      "Creating new query...\n",
      "\n",
      "Results already exist.\n",
      "Reading results/internvl/output_internvl.json...\n",
      "\n",
      "Loading internvl...\n",
      "FlashAttention2 is not installed.\n",
      "Warning: Flash attention is not available, using eager attention instead.\n"
     ]
    },
    {
     "data": {
      "application/vnd.jupyter.widget-view+json": {
       "model_id": "8dc3acb952324020850b02c7c6437e55",
       "version_major": 2,
       "version_minor": 0
      },
      "text/plain": [
       "Loading checkpoint shards:   0%|          | 0/4 [00:00<?, ?it/s]"
      ]
     },
     "metadata": {},
     "output_type": "display_data"
    },
    {
     "name": "stderr",
     "output_type": "stream",
     "text": [
      "Special tokens have been added in the vocabulary, make sure the associated word embeddings are fine-tuned or trained.\n"
     ]
    },
    {
     "name": "stdout",
     "output_type": "stream",
     "text": [
      "Model loaded.\n",
      "\n",
      "Number of test problems in total: 100\n",
      "Not all targets have directories. Working with: ['bar', 'docs', 'tbl', 'synth', 'nat', 'pie', 'sci', 'vlin', 'rdar', 'pzle', 'med', 'sctr', 'func', 'line', 'map', 'abst', 'heat']\n",
      "\n",
      "Removing problems with existing valid response...\n",
      "Number of test problems to run for each target: {'bar': 100, 'docs': 100, 'tbl': 100, 'synth': 100, 'nat': 100, 'pie': 100, 'sci': 100, 'vlin': 100, 'rdar': 100, 'pzle': 100, 'med': 100, 'sctr': 100, 'func': 100, 'line': 100, 'map': 100, 'abst': 100, 'heat': 100}\n"
     ]
    },
    {
     "name": "stderr",
     "output_type": "stream",
     "text": [
      "  0%|          | 0/100 [00:00<?, ?it/s]"
     ]
    },
    {
     "name": "stdout",
     "output_type": "stream",
     "text": [
      "\n",
      "Generating response for 0...\n"
     ]
    },
    {
     "name": "stderr",
     "output_type": "stream",
     "text": [
      "  1%|          | 1/100 [00:20<34:07, 20.68s/it]"
     ]
    },
    {
     "name": "stdout",
     "output_type": "stream",
     "text": [
      "Saving results to results/internvl/output_internvl.json...\n",
      "Results saved.\n",
      "\n",
      "Generating response for 1...\n"
     ]
    },
    {
     "name": "stderr",
     "output_type": "stream",
     "text": [
      "  2%|▏         | 2/100 [00:22<15:53,  9.73s/it]"
     ]
    },
    {
     "name": "stdout",
     "output_type": "stream",
     "text": [
      "Saving results to results/internvl/output_internvl.json...\n",
      "Results saved.\n",
      "\n",
      "Generating response for 2...\n"
     ]
    },
    {
     "name": "stderr",
     "output_type": "stream",
     "text": [
      "  3%|▎         | 3/100 [00:45<25:39, 15.87s/it]"
     ]
    },
    {
     "name": "stdout",
     "output_type": "stream",
     "text": [
      "Saving results to results/internvl/output_internvl.json...\n",
      "Results saved.\n",
      "\n",
      "Generating response for 3...\n"
     ]
    },
    {
     "name": "stderr",
     "output_type": "stream",
     "text": [
      "  4%|▍         | 4/100 [00:47<16:37, 10.39s/it]"
     ]
    },
    {
     "name": "stdout",
     "output_type": "stream",
     "text": [
      "Saving results to results/internvl/output_internvl.json...\n",
      "Results saved.\n",
      "\n",
      "Generating response for 4...\n"
     ]
    },
    {
     "name": "stderr",
     "output_type": "stream",
     "text": [
      "  5%|▌         | 5/100 [01:02<18:48, 11.88s/it]"
     ]
    },
    {
     "name": "stdout",
     "output_type": "stream",
     "text": [
      "Saving results to results/internvl/output_internvl.json...\n",
      "Results saved.\n",
      "\n",
      "Generating response for 5...\n"
     ]
    },
    {
     "name": "stderr",
     "output_type": "stream",
     "text": [
      "  6%|▌         | 6/100 [01:10<16:48, 10.73s/it]"
     ]
    },
    {
     "name": "stdout",
     "output_type": "stream",
     "text": [
      "Saving results to results/internvl/output_internvl.json...\n",
      "Results saved.\n",
      "\n",
      "Generating response for 6...\n"
     ]
    },
    {
     "name": "stderr",
     "output_type": "stream",
     "text": [
      "  7%|▋         | 7/100 [01:13<12:43,  8.21s/it]"
     ]
    },
    {
     "name": "stdout",
     "output_type": "stream",
     "text": [
      "Saving results to results/internvl/output_internvl.json...\n",
      "Results saved.\n",
      "\n",
      "Generating response for 7...\n"
     ]
    },
    {
     "name": "stderr",
     "output_type": "stream",
     "text": [
      "  8%|▊         | 8/100 [01:20<11:52,  7.74s/it]"
     ]
    },
    {
     "name": "stdout",
     "output_type": "stream",
     "text": [
      "Saving results to results/internvl/output_internvl.json...\n",
      "Results saved.\n",
      "\n",
      "Generating response for 8...\n"
     ]
    },
    {
     "name": "stderr",
     "output_type": "stream",
     "text": [
      "  9%|▉         | 9/100 [01:30<12:46,  8.42s/it]"
     ]
    },
    {
     "name": "stdout",
     "output_type": "stream",
     "text": [
      "Saving results to results/internvl/output_internvl.json...\n",
      "Results saved.\n",
      "\n",
      "Generating response for 9...\n"
     ]
    },
    {
     "name": "stderr",
     "output_type": "stream",
     "text": [
      " 10%|█         | 10/100 [01:37<11:43,  7.82s/it]"
     ]
    },
    {
     "name": "stdout",
     "output_type": "stream",
     "text": [
      "Saving results to results/internvl/output_internvl.json...\n",
      "Results saved.\n",
      "\n",
      "Generating response for 10...\n"
     ]
    },
    {
     "name": "stderr",
     "output_type": "stream",
     "text": [
      " 11%|█         | 11/100 [01:39<08:56,  6.03s/it]"
     ]
    },
    {
     "name": "stdout",
     "output_type": "stream",
     "text": [
      "Saving results to results/internvl/output_internvl.json...\n",
      "Results saved.\n",
      "\n",
      "Generating response for 11...\n"
     ]
    },
    {
     "name": "stderr",
     "output_type": "stream",
     "text": [
      " 12%|█▏        | 12/100 [01:42<07:40,  5.23s/it]"
     ]
    },
    {
     "name": "stdout",
     "output_type": "stream",
     "text": [
      "Saving results to results/internvl/output_internvl.json...\n",
      "Results saved.\n",
      "\n",
      "Generating response for 12...\n"
     ]
    },
    {
     "name": "stderr",
     "output_type": "stream",
     "text": [
      " 13%|█▎        | 13/100 [01:50<08:51,  6.11s/it]"
     ]
    },
    {
     "name": "stdout",
     "output_type": "stream",
     "text": [
      "Saving results to results/internvl/output_internvl.json...\n",
      "Results saved.\n",
      "\n",
      "Generating response for 13...\n"
     ]
    },
    {
     "name": "stderr",
     "output_type": "stream",
     "text": [
      " 14%|█▍        | 14/100 [01:59<09:48,  6.84s/it]"
     ]
    },
    {
     "name": "stdout",
     "output_type": "stream",
     "text": [
      "Saving results to results/internvl/output_internvl.json...\n",
      "Results saved.\n",
      "\n",
      "Generating response for 14...\n"
     ]
    },
    {
     "name": "stderr",
     "output_type": "stream",
     "text": [
      " 15%|█▌        | 15/100 [02:07<10:12,  7.20s/it]"
     ]
    },
    {
     "name": "stdout",
     "output_type": "stream",
     "text": [
      "Saving results to results/internvl/output_internvl.json...\n",
      "Results saved.\n",
      "\n",
      "Generating response for 15...\n"
     ]
    },
    {
     "name": "stderr",
     "output_type": "stream",
     "text": [
      " 16%|█▌        | 16/100 [02:12<09:15,  6.62s/it]"
     ]
    },
    {
     "name": "stdout",
     "output_type": "stream",
     "text": [
      "Saving results to results/internvl/output_internvl.json...\n",
      "Results saved.\n",
      "\n",
      "Generating response for 16...\n"
     ]
    },
    {
     "name": "stderr",
     "output_type": "stream",
     "text": [
      " 17%|█▋        | 17/100 [02:22<10:33,  7.64s/it]"
     ]
    },
    {
     "name": "stdout",
     "output_type": "stream",
     "text": [
      "Saving results to results/internvl/output_internvl.json...\n",
      "Results saved.\n",
      "\n",
      "Generating response for 17...\n"
     ]
    },
    {
     "name": "stderr",
     "output_type": "stream",
     "text": [
      " 18%|█▊        | 18/100 [02:26<09:02,  6.62s/it]"
     ]
    },
    {
     "name": "stdout",
     "output_type": "stream",
     "text": [
      "Saving results to results/internvl/output_internvl.json...\n",
      "Results saved.\n",
      "\n",
      "Generating response for 18...\n"
     ]
    },
    {
     "name": "stderr",
     "output_type": "stream",
     "text": [
      " 19%|█▉        | 19/100 [02:29<07:28,  5.54s/it]"
     ]
    },
    {
     "name": "stdout",
     "output_type": "stream",
     "text": [
      "Saving results to results/internvl/output_internvl.json...\n",
      "Results saved.\n",
      "\n",
      "Generating response for 19...\n"
     ]
    },
    {
     "name": "stderr",
     "output_type": "stream",
     "text": [
      " 20%|██        | 20/100 [02:35<07:28,  5.61s/it]"
     ]
    },
    {
     "name": "stdout",
     "output_type": "stream",
     "text": [
      "Saving results to results/internvl/output_internvl.json...\n",
      "Results saved.\n",
      "\n",
      "Generating response for 20...\n"
     ]
    },
    {
     "name": "stderr",
     "output_type": "stream",
     "text": [
      " 21%|██        | 21/100 [02:36<05:38,  4.29s/it]"
     ]
    },
    {
     "name": "stdout",
     "output_type": "stream",
     "text": [
      "Saving results to results/internvl/output_internvl.json...\n",
      "Results saved.\n",
      "\n",
      "Generating response for 21...\n"
     ]
    },
    {
     "name": "stderr",
     "output_type": "stream",
     "text": [
      " 22%|██▏       | 22/100 [02:39<05:10,  3.98s/it]"
     ]
    },
    {
     "name": "stdout",
     "output_type": "stream",
     "text": [
      "Saving results to results/internvl/output_internvl.json...\n",
      "Results saved.\n",
      "\n",
      "Generating response for 22...\n"
     ]
    },
    {
     "name": "stderr",
     "output_type": "stream",
     "text": [
      " 23%|██▎       | 23/100 [02:54<09:18,  7.26s/it]"
     ]
    },
    {
     "name": "stdout",
     "output_type": "stream",
     "text": [
      "Saving results to results/internvl/output_internvl.json...\n",
      "Results saved.\n",
      "\n",
      "Generating response for 23...\n"
     ]
    },
    {
     "name": "stderr",
     "output_type": "stream",
     "text": [
      " 24%|██▍       | 24/100 [02:59<08:11,  6.47s/it]"
     ]
    },
    {
     "name": "stdout",
     "output_type": "stream",
     "text": [
      "Saving results to results/internvl/output_internvl.json...\n",
      "Results saved.\n",
      "\n",
      "Generating response for 24...\n"
     ]
    },
    {
     "name": "stderr",
     "output_type": "stream",
     "text": [
      " 25%|██▌       | 25/100 [03:06<08:20,  6.68s/it]"
     ]
    },
    {
     "name": "stdout",
     "output_type": "stream",
     "text": [
      "Saving results to results/internvl/output_internvl.json...\n",
      "Results saved.\n",
      "\n",
      "Generating response for 25...\n"
     ]
    },
    {
     "name": "stderr",
     "output_type": "stream",
     "text": [
      " 26%|██▌       | 26/100 [03:11<07:43,  6.26s/it]"
     ]
    },
    {
     "name": "stdout",
     "output_type": "stream",
     "text": [
      "Saving results to results/internvl/output_internvl.json...\n",
      "Results saved.\n",
      "\n",
      "Generating response for 26...\n"
     ]
    },
    {
     "name": "stderr",
     "output_type": "stream",
     "text": [
      " 27%|██▋       | 27/100 [03:14<06:06,  5.02s/it]"
     ]
    },
    {
     "name": "stdout",
     "output_type": "stream",
     "text": [
      "Saving results to results/internvl/output_internvl.json...\n",
      "Results saved.\n",
      "\n",
      "Generating response for 27...\n"
     ]
    },
    {
     "name": "stderr",
     "output_type": "stream",
     "text": [
      " 28%|██▊       | 28/100 [03:24<08:06,  6.76s/it]"
     ]
    },
    {
     "name": "stdout",
     "output_type": "stream",
     "text": [
      "Saving results to results/internvl/output_internvl.json...\n",
      "Results saved.\n",
      "\n",
      "Generating response for 28...\n"
     ]
    },
    {
     "name": "stderr",
     "output_type": "stream",
     "text": [
      " 29%|██▉       | 29/100 [03:28<06:47,  5.73s/it]"
     ]
    },
    {
     "name": "stdout",
     "output_type": "stream",
     "text": [
      "Saving results to results/internvl/output_internvl.json...\n",
      "Results saved.\n",
      "\n",
      "Generating response for 29...\n"
     ]
    },
    {
     "name": "stderr",
     "output_type": "stream",
     "text": [
      " 30%|███       | 30/100 [03:41<09:18,  7.98s/it]"
     ]
    },
    {
     "name": "stdout",
     "output_type": "stream",
     "text": [
      "Saving results to results/internvl/output_internvl.json...\n",
      "Results saved.\n",
      "\n",
      "Generating response for 30...\n"
     ]
    },
    {
     "name": "stderr",
     "output_type": "stream",
     "text": [
      " 31%|███       | 31/100 [03:47<08:35,  7.48s/it]"
     ]
    },
    {
     "name": "stdout",
     "output_type": "stream",
     "text": [
      "Saving results to results/internvl/output_internvl.json...\n",
      "Results saved.\n",
      "\n",
      "Generating response for 31...\n"
     ]
    },
    {
     "name": "stderr",
     "output_type": "stream",
     "text": [
      " 32%|███▏      | 32/100 [03:59<10:02,  8.87s/it]"
     ]
    },
    {
     "name": "stdout",
     "output_type": "stream",
     "text": [
      "Saving results to results/internvl/output_internvl.json...\n",
      "Results saved.\n",
      "\n",
      "Generating response for 32...\n"
     ]
    },
    {
     "name": "stderr",
     "output_type": "stream",
     "text": [
      " 33%|███▎      | 33/100 [04:11<10:45,  9.63s/it]"
     ]
    },
    {
     "name": "stdout",
     "output_type": "stream",
     "text": [
      "Saving results to results/internvl/output_internvl.json...\n",
      "Results saved.\n",
      "\n",
      "Generating response for 33...\n"
     ]
    },
    {
     "name": "stderr",
     "output_type": "stream",
     "text": [
      " 34%|███▍      | 34/100 [04:30<13:55, 12.66s/it]"
     ]
    },
    {
     "name": "stdout",
     "output_type": "stream",
     "text": [
      "Saving results to results/internvl/output_internvl.json...\n",
      "Results saved.\n",
      "\n",
      "Generating response for 34...\n"
     ]
    },
    {
     "name": "stderr",
     "output_type": "stream",
     "text": [
      " 35%|███▌      | 35/100 [05:00<19:09, 17.68s/it]"
     ]
    },
    {
     "name": "stdout",
     "output_type": "stream",
     "text": [
      "Saving results to results/internvl/output_internvl.json...\n",
      "Results saved.\n",
      "\n",
      "Generating response for 35...\n"
     ]
    },
    {
     "name": "stderr",
     "output_type": "stream",
     "text": [
      " 36%|███▌      | 36/100 [05:02<13:47, 12.93s/it]"
     ]
    },
    {
     "name": "stdout",
     "output_type": "stream",
     "text": [
      "Saving results to results/internvl/output_internvl.json...\n",
      "Results saved.\n",
      "\n",
      "Generating response for 36...\n"
     ]
    },
    {
     "name": "stderr",
     "output_type": "stream",
     "text": [
      " 37%|███▋      | 37/100 [05:17<14:11, 13.52s/it]"
     ]
    },
    {
     "name": "stdout",
     "output_type": "stream",
     "text": [
      "Saving results to results/internvl/output_internvl.json...\n",
      "Results saved.\n",
      "\n",
      "Generating response for 37...\n"
     ]
    },
    {
     "name": "stderr",
     "output_type": "stream",
     "text": [
      " 38%|███▊      | 38/100 [05:19<10:40, 10.33s/it]"
     ]
    },
    {
     "name": "stdout",
     "output_type": "stream",
     "text": [
      "Saving results to results/internvl/output_internvl.json...\n",
      "Results saved.\n",
      "\n",
      "Generating response for 38...\n"
     ]
    },
    {
     "name": "stderr",
     "output_type": "stream",
     "text": [
      " 39%|███▉      | 39/100 [05:33<11:24, 11.22s/it]"
     ]
    },
    {
     "name": "stdout",
     "output_type": "stream",
     "text": [
      "Saving results to results/internvl/output_internvl.json...\n",
      "Results saved.\n",
      "\n",
      "Generating response for 39...\n"
     ]
    },
    {
     "name": "stderr",
     "output_type": "stream",
     "text": [
      " 40%|████      | 40/100 [05:34<08:21,  8.36s/it]"
     ]
    },
    {
     "name": "stdout",
     "output_type": "stream",
     "text": [
      "Saving results to results/internvl/output_internvl.json...\n",
      "Results saved.\n",
      "\n",
      "Generating response for 40...\n"
     ]
    },
    {
     "name": "stderr",
     "output_type": "stream",
     "text": [
      " 41%|████      | 41/100 [05:37<06:24,  6.51s/it]"
     ]
    },
    {
     "name": "stdout",
     "output_type": "stream",
     "text": [
      "Saving results to results/internvl/output_internvl.json...\n",
      "Results saved.\n",
      "\n",
      "Generating response for 41...\n"
     ]
    },
    {
     "name": "stderr",
     "output_type": "stream",
     "text": [
      " 42%|████▏     | 42/100 [05:39<05:02,  5.21s/it]"
     ]
    },
    {
     "name": "stdout",
     "output_type": "stream",
     "text": [
      "Saving results to results/internvl/output_internvl.json...\n",
      "Results saved.\n",
      "\n",
      "Generating response for 42...\n"
     ]
    },
    {
     "name": "stderr",
     "output_type": "stream",
     "text": [
      " 43%|████▎     | 43/100 [05:52<07:04,  7.45s/it]"
     ]
    },
    {
     "name": "stdout",
     "output_type": "stream",
     "text": [
      "Saving results to results/internvl/output_internvl.json...\n",
      "Results saved.\n",
      "\n",
      "Generating response for 43...\n"
     ]
    },
    {
     "name": "stderr",
     "output_type": "stream",
     "text": [
      " 44%|████▍     | 44/100 [06:00<07:19,  7.84s/it]"
     ]
    },
    {
     "name": "stdout",
     "output_type": "stream",
     "text": [
      "Saving results to results/internvl/output_internvl.json...\n",
      "Results saved.\n",
      "\n",
      "Generating response for 44...\n"
     ]
    },
    {
     "name": "stderr",
     "output_type": "stream",
     "text": [
      " 45%|████▌     | 45/100 [06:08<07:10,  7.82s/it]"
     ]
    },
    {
     "name": "stdout",
     "output_type": "stream",
     "text": [
      "Saving results to results/internvl/output_internvl.json...\n",
      "Results saved.\n",
      "\n",
      "Generating response for 45...\n"
     ]
    },
    {
     "name": "stderr",
     "output_type": "stream",
     "text": [
      " 46%|████▌     | 46/100 [06:13<06:16,  6.97s/it]"
     ]
    },
    {
     "name": "stdout",
     "output_type": "stream",
     "text": [
      "Saving results to results/internvl/output_internvl.json...\n",
      "Results saved.\n",
      "\n",
      "Generating response for 46...\n"
     ]
    },
    {
     "name": "stderr",
     "output_type": "stream",
     "text": [
      " 47%|████▋     | 47/100 [06:20<06:07,  6.93s/it]"
     ]
    },
    {
     "name": "stdout",
     "output_type": "stream",
     "text": [
      "Saving results to results/internvl/output_internvl.json...\n",
      "Results saved.\n",
      "\n",
      "Generating response for 47...\n"
     ]
    },
    {
     "name": "stderr",
     "output_type": "stream",
     "text": [
      " 48%|████▊     | 48/100 [06:35<08:00,  9.23s/it]"
     ]
    },
    {
     "name": "stdout",
     "output_type": "stream",
     "text": [
      "Saving results to results/internvl/output_internvl.json...\n",
      "Results saved.\n",
      "\n",
      "Generating response for 48...\n"
     ]
    },
    {
     "name": "stderr",
     "output_type": "stream",
     "text": [
      " 49%|████▉     | 49/100 [06:38<06:19,  7.43s/it]"
     ]
    },
    {
     "name": "stdout",
     "output_type": "stream",
     "text": [
      "Saving results to results/internvl/output_internvl.json...\n",
      "Results saved.\n",
      "\n",
      "Generating response for 49...\n"
     ]
    },
    {
     "name": "stderr",
     "output_type": "stream",
     "text": [
      " 50%|█████     | 50/100 [06:44<05:55,  7.12s/it]"
     ]
    },
    {
     "name": "stdout",
     "output_type": "stream",
     "text": [
      "Saving results to results/internvl/output_internvl.json...\n",
      "Results saved.\n",
      "\n",
      "Generating response for 50...\n"
     ]
    },
    {
     "name": "stderr",
     "output_type": "stream",
     "text": [
      " 51%|█████     | 51/100 [06:49<05:21,  6.57s/it]"
     ]
    },
    {
     "name": "stdout",
     "output_type": "stream",
     "text": [
      "Saving results to results/internvl/output_internvl.json...\n",
      "Results saved.\n",
      "\n",
      "Generating response for 51...\n"
     ]
    },
    {
     "name": "stderr",
     "output_type": "stream",
     "text": [
      " 52%|█████▏    | 52/100 [06:52<04:16,  5.34s/it]"
     ]
    },
    {
     "name": "stdout",
     "output_type": "stream",
     "text": [
      "Saving results to results/internvl/output_internvl.json...\n",
      "Results saved.\n",
      "\n",
      "Generating response for 52...\n"
     ]
    },
    {
     "name": "stderr",
     "output_type": "stream",
     "text": [
      " 53%|█████▎    | 53/100 [06:55<03:33,  4.54s/it]"
     ]
    },
    {
     "name": "stdout",
     "output_type": "stream",
     "text": [
      "Saving results to results/internvl/output_internvl.json...\n",
      "Results saved.\n",
      "\n",
      "Generating response for 53...\n"
     ]
    },
    {
     "name": "stderr",
     "output_type": "stream",
     "text": [
      " 54%|█████▍    | 54/100 [07:04<04:34,  5.96s/it]"
     ]
    },
    {
     "name": "stdout",
     "output_type": "stream",
     "text": [
      "Saving results to results/internvl/output_internvl.json...\n",
      "Results saved.\n",
      "\n",
      "Generating response for 54...\n"
     ]
    },
    {
     "name": "stderr",
     "output_type": "stream",
     "text": [
      " 55%|█████▌    | 55/100 [07:19<06:36,  8.80s/it]"
     ]
    },
    {
     "name": "stdout",
     "output_type": "stream",
     "text": [
      "Saving results to results/internvl/output_internvl.json...\n",
      "Results saved.\n",
      "\n",
      "Generating response for 55...\n"
     ]
    },
    {
     "name": "stderr",
     "output_type": "stream",
     "text": [
      " 56%|█████▌    | 56/100 [07:25<05:47,  7.90s/it]"
     ]
    },
    {
     "name": "stdout",
     "output_type": "stream",
     "text": [
      "Saving results to results/internvl/output_internvl.json...\n",
      "Results saved.\n",
      "\n",
      "Generating response for 56...\n"
     ]
    },
    {
     "name": "stderr",
     "output_type": "stream",
     "text": [
      " 57%|█████▋    | 57/100 [07:28<04:30,  6.29s/it]"
     ]
    },
    {
     "name": "stdout",
     "output_type": "stream",
     "text": [
      "Saving results to results/internvl/output_internvl.json...\n",
      "Results saved.\n",
      "\n",
      "Generating response for 57...\n"
     ]
    },
    {
     "name": "stderr",
     "output_type": "stream",
     "text": [
      " 58%|█████▊    | 58/100 [07:34<04:27,  6.38s/it]"
     ]
    },
    {
     "name": "stdout",
     "output_type": "stream",
     "text": [
      "Saving results to results/internvl/output_internvl.json...\n",
      "Results saved.\n",
      "\n",
      "Generating response for 58...\n"
     ]
    },
    {
     "name": "stderr",
     "output_type": "stream",
     "text": [
      " 59%|█████▉    | 59/100 [07:47<05:35,  8.18s/it]"
     ]
    },
    {
     "name": "stdout",
     "output_type": "stream",
     "text": [
      "Saving results to results/internvl/output_internvl.json...\n",
      "Results saved.\n",
      "\n",
      "Generating response for 59...\n"
     ]
    },
    {
     "name": "stderr",
     "output_type": "stream",
     "text": [
      " 60%|██████    | 60/100 [07:51<04:37,  6.93s/it]"
     ]
    },
    {
     "name": "stdout",
     "output_type": "stream",
     "text": [
      "Saving results to results/internvl/output_internvl.json...\n",
      "Results saved.\n",
      "\n",
      "Generating response for 60...\n"
     ]
    },
    {
     "name": "stderr",
     "output_type": "stream",
     "text": [
      " 61%|██████    | 61/100 [07:57<04:26,  6.85s/it]"
     ]
    },
    {
     "name": "stdout",
     "output_type": "stream",
     "text": [
      "Saving results to results/internvl/output_internvl.json...\n",
      "Results saved.\n",
      "\n",
      "Generating response for 61...\n"
     ]
    },
    {
     "name": "stderr",
     "output_type": "stream",
     "text": [
      " 62%|██████▏   | 62/100 [08:14<06:17,  9.93s/it]"
     ]
    },
    {
     "name": "stdout",
     "output_type": "stream",
     "text": [
      "Saving results to results/internvl/output_internvl.json...\n",
      "Results saved.\n",
      "\n",
      "Generating response for 62...\n"
     ]
    },
    {
     "name": "stderr",
     "output_type": "stream",
     "text": [
      " 63%|██████▎   | 63/100 [08:21<05:33,  9.00s/it]"
     ]
    },
    {
     "name": "stdout",
     "output_type": "stream",
     "text": [
      "Saving results to results/internvl/output_internvl.json...\n",
      "Results saved.\n",
      "\n",
      "Generating response for 63...\n"
     ]
    },
    {
     "name": "stderr",
     "output_type": "stream",
     "text": [
      " 64%|██████▍   | 64/100 [08:34<06:04, 10.12s/it]"
     ]
    },
    {
     "name": "stdout",
     "output_type": "stream",
     "text": [
      "Saving results to results/internvl/output_internvl.json...\n",
      "Results saved.\n",
      "\n",
      "Generating response for 64...\n"
     ]
    },
    {
     "name": "stderr",
     "output_type": "stream",
     "text": [
      " 65%|██████▌   | 65/100 [08:48<06:32, 11.21s/it]"
     ]
    },
    {
     "name": "stdout",
     "output_type": "stream",
     "text": [
      "Saving results to results/internvl/output_internvl.json...\n",
      "Results saved.\n",
      "\n",
      "Generating response for 65...\n"
     ]
    },
    {
     "name": "stderr",
     "output_type": "stream",
     "text": [
      " 66%|██████▌   | 66/100 [08:52<05:15,  9.27s/it]"
     ]
    },
    {
     "name": "stdout",
     "output_type": "stream",
     "text": [
      "Saving results to results/internvl/output_internvl.json...\n",
      "Results saved.\n",
      "\n",
      "Generating response for 66...\n"
     ]
    },
    {
     "name": "stderr",
     "output_type": "stream",
     "text": [
      " 67%|██████▋   | 67/100 [08:56<04:05,  7.43s/it]"
     ]
    },
    {
     "name": "stdout",
     "output_type": "stream",
     "text": [
      "Saving results to results/internvl/output_internvl.json...\n",
      "Results saved.\n",
      "\n",
      "Generating response for 67...\n"
     ]
    },
    {
     "name": "stderr",
     "output_type": "stream",
     "text": [
      " 68%|██████▊   | 68/100 [09:07<04:35,  8.61s/it]"
     ]
    },
    {
     "name": "stdout",
     "output_type": "stream",
     "text": [
      "Saving results to results/internvl/output_internvl.json...\n",
      "Results saved.\n",
      "\n",
      "Generating response for 68...\n"
     ]
    },
    {
     "name": "stderr",
     "output_type": "stream",
     "text": [
      " 69%|██████▉   | 69/100 [09:10<03:31,  6.84s/it]"
     ]
    },
    {
     "name": "stdout",
     "output_type": "stream",
     "text": [
      "Saving results to results/internvl/output_internvl.json...\n",
      "Results saved.\n",
      "\n",
      "Generating response for 69...\n"
     ]
    },
    {
     "name": "stderr",
     "output_type": "stream",
     "text": [
      " 70%|███████   | 70/100 [09:13<02:51,  5.72s/it]"
     ]
    },
    {
     "name": "stdout",
     "output_type": "stream",
     "text": [
      "Saving results to results/internvl/output_internvl.json...\n",
      "Results saved.\n",
      "\n",
      "Generating response for 70...\n"
     ]
    },
    {
     "name": "stderr",
     "output_type": "stream",
     "text": [
      " 71%|███████   | 71/100 [09:18<02:41,  5.57s/it]"
     ]
    },
    {
     "name": "stdout",
     "output_type": "stream",
     "text": [
      "Saving results to results/internvl/output_internvl.json...\n",
      "Results saved.\n",
      "\n",
      "Generating response for 71...\n"
     ]
    },
    {
     "name": "stderr",
     "output_type": "stream",
     "text": [
      " 72%|███████▏  | 72/100 [09:23<02:35,  5.57s/it]"
     ]
    },
    {
     "name": "stdout",
     "output_type": "stream",
     "text": [
      "Saving results to results/internvl/output_internvl.json...\n",
      "Results saved.\n",
      "\n",
      "Generating response for 72...\n"
     ]
    },
    {
     "name": "stderr",
     "output_type": "stream",
     "text": [
      " 73%|███████▎  | 73/100 [09:56<06:10, 13.73s/it]"
     ]
    },
    {
     "name": "stdout",
     "output_type": "stream",
     "text": [
      "Saving results to results/internvl/output_internvl.json...\n",
      "Results saved.\n",
      "\n",
      "Generating response for 73...\n"
     ]
    },
    {
     "name": "stderr",
     "output_type": "stream",
     "text": [
      " 74%|███████▍  | 74/100 [10:02<04:57, 11.42s/it]"
     ]
    },
    {
     "name": "stdout",
     "output_type": "stream",
     "text": [
      "Saving results to results/internvl/output_internvl.json...\n",
      "Results saved.\n",
      "\n",
      "Generating response for 74...\n"
     ]
    },
    {
     "name": "stderr",
     "output_type": "stream",
     "text": [
      " 75%|███████▌  | 75/100 [10:09<04:06,  9.86s/it]"
     ]
    },
    {
     "name": "stdout",
     "output_type": "stream",
     "text": [
      "Saving results to results/internvl/output_internvl.json...\n",
      "Results saved.\n",
      "\n",
      "Generating response for 75...\n"
     ]
    },
    {
     "name": "stderr",
     "output_type": "stream",
     "text": [
      " 76%|███████▌  | 76/100 [10:16<03:42,  9.26s/it]"
     ]
    },
    {
     "name": "stdout",
     "output_type": "stream",
     "text": [
      "Saving results to results/internvl/output_internvl.json...\n",
      "Results saved.\n",
      "\n",
      "Generating response for 76...\n"
     ]
    },
    {
     "name": "stderr",
     "output_type": "stream",
     "text": [
      " 77%|███████▋  | 77/100 [10:22<03:10,  8.26s/it]"
     ]
    },
    {
     "name": "stdout",
     "output_type": "stream",
     "text": [
      "Saving results to results/internvl/output_internvl.json...\n",
      "Results saved.\n",
      "\n",
      "Generating response for 77...\n"
     ]
    },
    {
     "name": "stderr",
     "output_type": "stream",
     "text": [
      " 78%|███████▊  | 78/100 [10:29<02:50,  7.75s/it]"
     ]
    },
    {
     "name": "stdout",
     "output_type": "stream",
     "text": [
      "Saving results to results/internvl/output_internvl.json...\n",
      "Results saved.\n",
      "\n",
      "Generating response for 78...\n"
     ]
    },
    {
     "name": "stderr",
     "output_type": "stream",
     "text": [
      " 79%|███████▉  | 79/100 [10:48<03:55, 11.20s/it]"
     ]
    },
    {
     "name": "stdout",
     "output_type": "stream",
     "text": [
      "Saving results to results/internvl/output_internvl.json...\n",
      "Results saved.\n",
      "\n",
      "Generating response for 79...\n"
     ]
    },
    {
     "name": "stderr",
     "output_type": "stream",
     "text": [
      " 80%|████████  | 80/100 [10:56<03:25, 10.28s/it]"
     ]
    },
    {
     "name": "stdout",
     "output_type": "stream",
     "text": [
      "Saving results to results/internvl/output_internvl.json...\n",
      "Results saved.\n",
      "\n",
      "Generating response for 80...\n"
     ]
    },
    {
     "name": "stderr",
     "output_type": "stream",
     "text": [
      " 81%|████████  | 81/100 [11:07<03:15, 10.30s/it]"
     ]
    },
    {
     "name": "stdout",
     "output_type": "stream",
     "text": [
      "Saving results to results/internvl/output_internvl.json...\n",
      "Results saved.\n",
      "\n",
      "Generating response for 81...\n"
     ]
    },
    {
     "name": "stderr",
     "output_type": "stream",
     "text": [
      " 82%|████████▏ | 82/100 [11:20<03:19, 11.11s/it]"
     ]
    },
    {
     "name": "stdout",
     "output_type": "stream",
     "text": [
      "Saving results to results/internvl/output_internvl.json...\n",
      "Results saved.\n",
      "\n",
      "Generating response for 82...\n"
     ]
    },
    {
     "name": "stderr",
     "output_type": "stream",
     "text": [
      " 83%|████████▎ | 83/100 [11:27<02:52, 10.12s/it]"
     ]
    },
    {
     "name": "stdout",
     "output_type": "stream",
     "text": [
      "Saving results to results/internvl/output_internvl.json...\n",
      "Results saved.\n",
      "\n",
      "Generating response for 83...\n"
     ]
    },
    {
     "name": "stderr",
     "output_type": "stream",
     "text": [
      " 84%|████████▍ | 84/100 [11:45<03:16, 12.26s/it]"
     ]
    },
    {
     "name": "stdout",
     "output_type": "stream",
     "text": [
      "Saving results to results/internvl/output_internvl.json...\n",
      "Results saved.\n",
      "\n",
      "Generating response for 84...\n"
     ]
    },
    {
     "name": "stderr",
     "output_type": "stream",
     "text": [
      " 85%|████████▌ | 85/100 [11:52<02:43, 10.87s/it]"
     ]
    },
    {
     "name": "stdout",
     "output_type": "stream",
     "text": [
      "Saving results to results/internvl/output_internvl.json...\n",
      "Results saved.\n",
      "\n",
      "Generating response for 85...\n"
     ]
    },
    {
     "name": "stderr",
     "output_type": "stream",
     "text": [
      " 86%|████████▌ | 86/100 [12:07<02:46, 11.91s/it]"
     ]
    },
    {
     "name": "stdout",
     "output_type": "stream",
     "text": [
      "Saving results to results/internvl/output_internvl.json...\n",
      "Results saved.\n",
      "\n",
      "Generating response for 86...\n"
     ]
    },
    {
     "name": "stderr",
     "output_type": "stream",
     "text": [
      " 87%|████████▋ | 87/100 [12:13<02:14, 10.32s/it]"
     ]
    },
    {
     "name": "stdout",
     "output_type": "stream",
     "text": [
      "Saving results to results/internvl/output_internvl.json...\n",
      "Results saved.\n",
      "\n",
      "Generating response for 87...\n"
     ]
    },
    {
     "name": "stderr",
     "output_type": "stream",
     "text": [
      " 88%|████████▊ | 88/100 [12:25<02:08, 10.68s/it]"
     ]
    },
    {
     "name": "stdout",
     "output_type": "stream",
     "text": [
      "Saving results to results/internvl/output_internvl.json...\n",
      "Results saved.\n",
      "\n",
      "Generating response for 88...\n"
     ]
    },
    {
     "name": "stderr",
     "output_type": "stream",
     "text": [
      " 89%|████████▉ | 89/100 [12:28<01:33,  8.51s/it]"
     ]
    },
    {
     "name": "stdout",
     "output_type": "stream",
     "text": [
      "Saving results to results/internvl/output_internvl.json...\n",
      "Results saved.\n",
      "\n",
      "Generating response for 89...\n"
     ]
    },
    {
     "name": "stderr",
     "output_type": "stream",
     "text": [
      " 90%|█████████ | 90/100 [12:31<01:08,  6.81s/it]"
     ]
    },
    {
     "name": "stdout",
     "output_type": "stream",
     "text": [
      "Saving results to results/internvl/output_internvl.json...\n",
      "Results saved.\n",
      "\n",
      "Generating response for 90...\n"
     ]
    },
    {
     "name": "stderr",
     "output_type": "stream",
     "text": [
      " 91%|█████████ | 91/100 [12:35<00:54,  6.08s/it]"
     ]
    },
    {
     "name": "stdout",
     "output_type": "stream",
     "text": [
      "Saving results to results/internvl/output_internvl.json...\n",
      "Results saved.\n",
      "\n",
      "Generating response for 91...\n"
     ]
    },
    {
     "name": "stderr",
     "output_type": "stream",
     "text": [
      " 92%|█████████▏| 92/100 [12:40<00:43,  5.48s/it]"
     ]
    },
    {
     "name": "stdout",
     "output_type": "stream",
     "text": [
      "Saving results to results/internvl/output_internvl.json...\n",
      "Results saved.\n",
      "\n",
      "Generating response for 92...\n"
     ]
    },
    {
     "name": "stderr",
     "output_type": "stream",
     "text": [
      " 93%|█████████▎| 93/100 [12:48<00:44,  6.34s/it]"
     ]
    },
    {
     "name": "stdout",
     "output_type": "stream",
     "text": [
      "Saving results to results/internvl/output_internvl.json...\n",
      "Results saved.\n",
      "\n",
      "Generating response for 93...\n"
     ]
    },
    {
     "name": "stderr",
     "output_type": "stream",
     "text": [
      " 94%|█████████▍| 94/100 [12:59<00:46,  7.67s/it]"
     ]
    },
    {
     "name": "stdout",
     "output_type": "stream",
     "text": [
      "Saving results to results/internvl/output_internvl.json...\n",
      "Results saved.\n",
      "\n",
      "Generating response for 94...\n"
     ]
    },
    {
     "name": "stderr",
     "output_type": "stream",
     "text": [
      " 95%|█████████▌| 95/100 [13:17<00:54, 10.99s/it]"
     ]
    },
    {
     "name": "stdout",
     "output_type": "stream",
     "text": [
      "Saving results to results/internvl/output_internvl.json...\n",
      "Results saved.\n",
      "\n",
      "Generating response for 95...\n"
     ]
    },
    {
     "name": "stderr",
     "output_type": "stream",
     "text": [
      " 96%|█████████▌| 96/100 [13:22<00:36,  9.23s/it]"
     ]
    },
    {
     "name": "stdout",
     "output_type": "stream",
     "text": [
      "Saving results to results/internvl/output_internvl.json...\n",
      "Results saved.\n",
      "\n",
      "Generating response for 96...\n"
     ]
    },
    {
     "name": "stderr",
     "output_type": "stream",
     "text": [
      " 97%|█████████▋| 97/100 [13:26<00:22,  7.65s/it]"
     ]
    },
    {
     "name": "stdout",
     "output_type": "stream",
     "text": [
      "Saving results to results/internvl/output_internvl.json...\n",
      "Results saved.\n",
      "\n",
      "Generating response for 97...\n"
     ]
    },
    {
     "name": "stderr",
     "output_type": "stream",
     "text": [
      " 98%|█████████▊| 98/100 [13:30<00:12,  6.48s/it]"
     ]
    },
    {
     "name": "stdout",
     "output_type": "stream",
     "text": [
      "Saving results to results/internvl/output_internvl.json...\n",
      "Results saved.\n",
      "\n",
      "Generating response for 98...\n"
     ]
    },
    {
     "name": "stderr",
     "output_type": "stream",
     "text": [
      " 99%|█████████▉| 99/100 [13:33<00:05,  5.40s/it]"
     ]
    },
    {
     "name": "stdout",
     "output_type": "stream",
     "text": [
      "Saving results to results/internvl/output_internvl.json...\n",
      "Results saved.\n",
      "\n",
      "Generating response for 99...\n"
     ]
    },
    {
     "name": "stderr",
     "output_type": "stream",
     "text": [
      "100%|██████████| 100/100 [13:40<00:00,  8.21s/it]\n"
     ]
    },
    {
     "name": "stdout",
     "output_type": "stream",
     "text": [
      "Saving results to results/internvl/output_internvl.json...\n",
      "Results saved.\n"
     ]
    },
    {
     "name": "stderr",
     "output_type": "stream",
     "text": [
      "  0%|          | 0/100 [00:00<?, ?it/s]"
     ]
    },
    {
     "name": "stdout",
     "output_type": "stream",
     "text": [
      "\n",
      "Generating response for 0...\n"
     ]
    },
    {
     "name": "stderr",
     "output_type": "stream",
     "text": [
      "  1%|          | 1/100 [00:23<38:18, 23.22s/it]"
     ]
    },
    {
     "name": "stdout",
     "output_type": "stream",
     "text": [
      "Saving results to results/internvl/output_internvl.json...\n",
      "Results saved.\n",
      "\n",
      "Generating response for 1...\n"
     ]
    },
    {
     "name": "stderr",
     "output_type": "stream",
     "text": [
      "  2%|▏         | 2/100 [00:25<17:59, 11.02s/it]"
     ]
    },
    {
     "name": "stdout",
     "output_type": "stream",
     "text": [
      "Saving results to results/internvl/output_internvl.json...\n",
      "Results saved.\n",
      "\n",
      "Generating response for 2...\n"
     ]
    },
    {
     "name": "stderr",
     "output_type": "stream",
     "text": [
      "  3%|▎         | 3/100 [00:47<25:33, 15.81s/it]"
     ]
    },
    {
     "name": "stdout",
     "output_type": "stream",
     "text": [
      "Saving results to results/internvl/output_internvl.json...\n",
      "Results saved.\n",
      "\n",
      "Generating response for 3...\n"
     ]
    },
    {
     "name": "stderr",
     "output_type": "stream",
     "text": [
      "  4%|▍         | 4/100 [00:49<16:36, 10.38s/it]"
     ]
    },
    {
     "name": "stdout",
     "output_type": "stream",
     "text": [
      "Saving results to results/internvl/output_internvl.json...\n",
      "Results saved.\n",
      "\n",
      "Generating response for 4...\n"
     ]
    },
    {
     "name": "stderr",
     "output_type": "stream",
     "text": [
      "  5%|▌         | 5/100 [01:02<18:18, 11.57s/it]"
     ]
    },
    {
     "name": "stdout",
     "output_type": "stream",
     "text": [
      "Saving results to results/internvl/output_internvl.json...\n",
      "Results saved.\n",
      "\n",
      "Generating response for 5...\n"
     ]
    },
    {
     "name": "stderr",
     "output_type": "stream",
     "text": [
      "  6%|▌         | 6/100 [01:12<16:55, 10.80s/it]"
     ]
    },
    {
     "name": "stdout",
     "output_type": "stream",
     "text": [
      "Saving results to results/internvl/output_internvl.json...\n",
      "Results saved.\n",
      "\n",
      "Generating response for 6...\n"
     ]
    },
    {
     "name": "stderr",
     "output_type": "stream",
     "text": [
      "  7%|▋         | 7/100 [01:14<12:34,  8.11s/it]"
     ]
    },
    {
     "name": "stdout",
     "output_type": "stream",
     "text": [
      "Saving results to results/internvl/output_internvl.json...\n",
      "Results saved.\n",
      "\n",
      "Generating response for 7...\n"
     ]
    },
    {
     "name": "stderr",
     "output_type": "stream",
     "text": [
      "  8%|▊         | 8/100 [01:22<12:01,  7.85s/it]"
     ]
    },
    {
     "name": "stdout",
     "output_type": "stream",
     "text": [
      "Saving results to results/internvl/output_internvl.json...\n",
      "Results saved.\n",
      "\n",
      "Generating response for 8...\n"
     ]
    },
    {
     "name": "stderr",
     "output_type": "stream",
     "text": [
      "  9%|▉         | 9/100 [01:33<13:28,  8.88s/it]"
     ]
    },
    {
     "name": "stdout",
     "output_type": "stream",
     "text": [
      "Saving results to results/internvl/output_internvl.json...\n",
      "Results saved.\n",
      "\n",
      "Generating response for 9...\n"
     ]
    },
    {
     "name": "stderr",
     "output_type": "stream",
     "text": [
      " 10%|█         | 10/100 [01:41<13:08,  8.76s/it]"
     ]
    },
    {
     "name": "stdout",
     "output_type": "stream",
     "text": [
      "Saving results to results/internvl/output_internvl.json...\n",
      "Results saved.\n",
      "\n",
      "Generating response for 10...\n"
     ]
    },
    {
     "name": "stderr",
     "output_type": "stream",
     "text": [
      " 11%|█         | 11/100 [01:44<10:08,  6.84s/it]"
     ]
    },
    {
     "name": "stdout",
     "output_type": "stream",
     "text": [
      "Saving results to results/internvl/output_internvl.json...\n",
      "Results saved.\n",
      "\n",
      "Generating response for 11...\n"
     ]
    },
    {
     "name": "stderr",
     "output_type": "stream",
     "text": [
      " 12%|█▏        | 12/100 [01:47<08:30,  5.80s/it]"
     ]
    },
    {
     "name": "stdout",
     "output_type": "stream",
     "text": [
      "Saving results to results/internvl/output_internvl.json...\n",
      "Results saved.\n",
      "\n",
      "Generating response for 12...\n"
     ]
    },
    {
     "name": "stderr",
     "output_type": "stream",
     "text": [
      " 13%|█▎        | 13/100 [01:51<07:36,  5.25s/it]"
     ]
    },
    {
     "name": "stdout",
     "output_type": "stream",
     "text": [
      "Saving results to results/internvl/output_internvl.json...\n",
      "Results saved.\n",
      "\n",
      "Generating response for 13...\n"
     ]
    },
    {
     "name": "stderr",
     "output_type": "stream",
     "text": [
      " 14%|█▍        | 14/100 [01:59<08:49,  6.15s/it]"
     ]
    },
    {
     "name": "stdout",
     "output_type": "stream",
     "text": [
      "Saving results to results/internvl/output_internvl.json...\n",
      "Results saved.\n",
      "\n",
      "Generating response for 14...\n"
     ]
    },
    {
     "name": "stderr",
     "output_type": "stream",
     "text": [
      " 15%|█▌        | 15/100 [02:09<10:04,  7.11s/it]"
     ]
    },
    {
     "name": "stdout",
     "output_type": "stream",
     "text": [
      "Saving results to results/internvl/output_internvl.json...\n",
      "Results saved.\n",
      "\n",
      "Generating response for 15...\n"
     ]
    },
    {
     "name": "stderr",
     "output_type": "stream",
     "text": [
      " 16%|█▌        | 16/100 [02:15<09:32,  6.82s/it]"
     ]
    },
    {
     "name": "stdout",
     "output_type": "stream",
     "text": [
      "Saving results to results/internvl/output_internvl.json...\n",
      "Results saved.\n",
      "\n",
      "Generating response for 16...\n"
     ]
    },
    {
     "name": "stderr",
     "output_type": "stream",
     "text": [
      " 17%|█▋        | 17/100 [02:25<10:52,  7.86s/it]"
     ]
    },
    {
     "name": "stdout",
     "output_type": "stream",
     "text": [
      "Saving results to results/internvl/output_internvl.json...\n",
      "Results saved.\n",
      "\n",
      "Generating response for 17...\n"
     ]
    },
    {
     "name": "stderr",
     "output_type": "stream",
     "text": [
      " 18%|█▊        | 18/100 [02:29<09:14,  6.76s/it]"
     ]
    },
    {
     "name": "stdout",
     "output_type": "stream",
     "text": [
      "Saving results to results/internvl/output_internvl.json...\n",
      "Results saved.\n",
      "\n",
      "Generating response for 18...\n"
     ]
    },
    {
     "name": "stderr",
     "output_type": "stream",
     "text": [
      " 19%|█▉        | 19/100 [02:32<07:20,  5.44s/it]"
     ]
    },
    {
     "name": "stdout",
     "output_type": "stream",
     "text": [
      "Saving results to results/internvl/output_internvl.json...\n",
      "Results saved.\n",
      "\n",
      "Generating response for 19...\n"
     ]
    },
    {
     "name": "stderr",
     "output_type": "stream",
     "text": [
      " 20%|██        | 20/100 [02:40<08:30,  6.39s/it]"
     ]
    },
    {
     "name": "stdout",
     "output_type": "stream",
     "text": [
      "Saving results to results/internvl/output_internvl.json...\n",
      "Results saved.\n",
      "\n",
      "Generating response for 20...\n"
     ]
    },
    {
     "name": "stderr",
     "output_type": "stream",
     "text": [
      " 21%|██        | 21/100 [02:41<06:19,  4.81s/it]"
     ]
    },
    {
     "name": "stdout",
     "output_type": "stream",
     "text": [
      "Saving results to results/internvl/output_internvl.json...\n",
      "Results saved.\n",
      "\n",
      "Generating response for 21...\n"
     ]
    },
    {
     "name": "stderr",
     "output_type": "stream",
     "text": [
      " 22%|██▏       | 22/100 [02:45<05:35,  4.30s/it]"
     ]
    },
    {
     "name": "stdout",
     "output_type": "stream",
     "text": [
      "Saving results to results/internvl/output_internvl.json...\n",
      "Results saved.\n",
      "\n",
      "Generating response for 22...\n"
     ]
    },
    {
     "name": "stderr",
     "output_type": "stream",
     "text": [
      " 23%|██▎       | 23/100 [02:55<07:43,  6.02s/it]"
     ]
    },
    {
     "name": "stdout",
     "output_type": "stream",
     "text": [
      "Saving results to results/internvl/output_internvl.json...\n",
      "Results saved.\n",
      "\n",
      "Generating response for 23...\n"
     ]
    },
    {
     "name": "stderr",
     "output_type": "stream",
     "text": [
      " 24%|██▍       | 24/100 [02:59<07:03,  5.57s/it]"
     ]
    },
    {
     "name": "stdout",
     "output_type": "stream",
     "text": [
      "Saving results to results/internvl/output_internvl.json...\n",
      "Results saved.\n",
      "\n",
      "Generating response for 24...\n"
     ]
    },
    {
     "name": "stderr",
     "output_type": "stream",
     "text": [
      " 25%|██▌       | 25/100 [03:10<09:08,  7.32s/it]"
     ]
    },
    {
     "name": "stdout",
     "output_type": "stream",
     "text": [
      "Saving results to results/internvl/output_internvl.json...\n",
      "Results saved.\n",
      "\n",
      "Generating response for 25...\n"
     ]
    },
    {
     "name": "stderr",
     "output_type": "stream",
     "text": [
      " 26%|██▌       | 26/100 [03:17<08:39,  7.02s/it]"
     ]
    },
    {
     "name": "stdout",
     "output_type": "stream",
     "text": [
      "Saving results to results/internvl/output_internvl.json...\n",
      "Results saved.\n",
      "\n",
      "Generating response for 26...\n"
     ]
    },
    {
     "name": "stderr",
     "output_type": "stream",
     "text": [
      " 27%|██▋       | 27/100 [03:19<06:46,  5.56s/it]"
     ]
    },
    {
     "name": "stdout",
     "output_type": "stream",
     "text": [
      "Saving results to results/internvl/output_internvl.json...\n",
      "Results saved.\n",
      "\n",
      "Generating response for 27...\n"
     ]
    },
    {
     "name": "stderr",
     "output_type": "stream",
     "text": [
      " 28%|██▊       | 28/100 [03:33<09:37,  8.02s/it]"
     ]
    },
    {
     "name": "stdout",
     "output_type": "stream",
     "text": [
      "Saving results to results/internvl/output_internvl.json...\n",
      "Results saved.\n",
      "\n",
      "Generating response for 28...\n"
     ]
    },
    {
     "name": "stderr",
     "output_type": "stream",
     "text": [
      " 29%|██▉       | 29/100 [03:37<08:06,  6.86s/it]"
     ]
    },
    {
     "name": "stdout",
     "output_type": "stream",
     "text": [
      "Saving results to results/internvl/output_internvl.json...\n",
      "Results saved.\n",
      "\n",
      "Generating response for 29...\n"
     ]
    },
    {
     "name": "stderr",
     "output_type": "stream",
     "text": [
      " 30%|███       | 30/100 [03:51<10:32,  9.03s/it]"
     ]
    },
    {
     "name": "stdout",
     "output_type": "stream",
     "text": [
      "Saving results to results/internvl/output_internvl.json...\n",
      "Results saved.\n",
      "\n",
      "Generating response for 30...\n"
     ]
    },
    {
     "name": "stderr",
     "output_type": "stream",
     "text": [
      " 31%|███       | 31/100 [03:56<08:58,  7.80s/it]"
     ]
    },
    {
     "name": "stdout",
     "output_type": "stream",
     "text": [
      "Saving results to results/internvl/output_internvl.json...\n",
      "Results saved.\n",
      "\n",
      "Generating response for 31...\n"
     ]
    },
    {
     "name": "stderr",
     "output_type": "stream",
     "text": [
      " 32%|███▏      | 32/100 [04:09<10:37,  9.38s/it]"
     ]
    },
    {
     "name": "stdout",
     "output_type": "stream",
     "text": [
      "Saving results to results/internvl/output_internvl.json...\n",
      "Results saved.\n",
      "\n",
      "Generating response for 32...\n"
     ]
    },
    {
     "name": "stderr",
     "output_type": "stream",
     "text": [
      " 33%|███▎      | 33/100 [04:18<10:25,  9.33s/it]"
     ]
    },
    {
     "name": "stdout",
     "output_type": "stream",
     "text": [
      "Saving results to results/internvl/output_internvl.json...\n",
      "Results saved.\n",
      "\n",
      "Generating response for 33...\n"
     ]
    },
    {
     "name": "stderr",
     "output_type": "stream",
     "text": [
      " 34%|███▍      | 34/100 [04:37<13:22, 12.15s/it]"
     ]
    },
    {
     "name": "stdout",
     "output_type": "stream",
     "text": [
      "Saving results to results/internvl/output_internvl.json...\n",
      "Results saved.\n",
      "\n",
      "Generating response for 34...\n"
     ]
    },
    {
     "name": "stderr",
     "output_type": "stream",
     "text": [
      " 35%|███▌      | 35/100 [04:57<15:37, 14.43s/it]"
     ]
    },
    {
     "name": "stdout",
     "output_type": "stream",
     "text": [
      "Saving results to results/internvl/output_internvl.json...\n",
      "Results saved.\n",
      "\n",
      "Generating response for 35...\n"
     ]
    },
    {
     "name": "stderr",
     "output_type": "stream",
     "text": [
      " 36%|███▌      | 36/100 [04:59<11:25, 10.71s/it]"
     ]
    },
    {
     "name": "stdout",
     "output_type": "stream",
     "text": [
      "Saving results to results/internvl/output_internvl.json...\n",
      "Results saved.\n",
      "\n",
      "Generating response for 36...\n"
     ]
    },
    {
     "name": "stderr",
     "output_type": "stream",
     "text": [
      " 37%|███▋      | 37/100 [05:12<12:04, 11.50s/it]"
     ]
    },
    {
     "name": "stdout",
     "output_type": "stream",
     "text": [
      "Saving results to results/internvl/output_internvl.json...\n",
      "Results saved.\n",
      "\n",
      "Generating response for 37...\n"
     ]
    },
    {
     "name": "stderr",
     "output_type": "stream",
     "text": [
      " 38%|███▊      | 38/100 [05:15<09:11,  8.89s/it]"
     ]
    },
    {
     "name": "stdout",
     "output_type": "stream",
     "text": [
      "Saving results to results/internvl/output_internvl.json...\n",
      "Results saved.\n",
      "\n",
      "Generating response for 38...\n"
     ]
    },
    {
     "name": "stderr",
     "output_type": "stream",
     "text": [
      " 39%|███▉      | 39/100 [05:29<10:35, 10.41s/it]"
     ]
    },
    {
     "name": "stdout",
     "output_type": "stream",
     "text": [
      "Saving results to results/internvl/output_internvl.json...\n",
      "Results saved.\n",
      "\n",
      "Generating response for 39...\n"
     ]
    },
    {
     "name": "stderr",
     "output_type": "stream",
     "text": [
      " 40%|████      | 40/100 [05:31<07:54,  7.90s/it]"
     ]
    },
    {
     "name": "stdout",
     "output_type": "stream",
     "text": [
      "Saving results to results/internvl/output_internvl.json...\n",
      "Results saved.\n",
      "\n",
      "Generating response for 40...\n"
     ]
    },
    {
     "name": "stderr",
     "output_type": "stream",
     "text": [
      " 41%|████      | 41/100 [05:33<06:08,  6.25s/it]"
     ]
    },
    {
     "name": "stdout",
     "output_type": "stream",
     "text": [
      "Saving results to results/internvl/output_internvl.json...\n",
      "Results saved.\n",
      "\n",
      "Generating response for 41...\n"
     ]
    },
    {
     "name": "stderr",
     "output_type": "stream",
     "text": [
      " 42%|████▏     | 42/100 [05:35<04:50,  5.01s/it]"
     ]
    },
    {
     "name": "stdout",
     "output_type": "stream",
     "text": [
      "Saving results to results/internvl/output_internvl.json...\n",
      "Results saved.\n",
      "\n",
      "Generating response for 42...\n"
     ]
    },
    {
     "name": "stderr",
     "output_type": "stream",
     "text": [
      " 43%|████▎     | 43/100 [05:47<06:42,  7.05s/it]"
     ]
    },
    {
     "name": "stdout",
     "output_type": "stream",
     "text": [
      "Saving results to results/internvl/output_internvl.json...\n",
      "Results saved.\n",
      "\n",
      "Generating response for 43...\n"
     ]
    },
    {
     "name": "stderr",
     "output_type": "stream",
     "text": [
      " 44%|████▍     | 44/100 [05:55<06:51,  7.35s/it]"
     ]
    },
    {
     "name": "stdout",
     "output_type": "stream",
     "text": [
      "Saving results to results/internvl/output_internvl.json...\n",
      "Results saved.\n",
      "\n",
      "Generating response for 44...\n"
     ]
    },
    {
     "name": "stderr",
     "output_type": "stream",
     "text": [
      " 45%|████▌     | 45/100 [06:04<07:12,  7.86s/it]"
     ]
    },
    {
     "name": "stdout",
     "output_type": "stream",
     "text": [
      "Saving results to results/internvl/output_internvl.json...\n",
      "Results saved.\n",
      "\n",
      "Generating response for 45...\n"
     ]
    },
    {
     "name": "stderr",
     "output_type": "stream",
     "text": [
      " 46%|████▌     | 46/100 [06:09<06:21,  7.06s/it]"
     ]
    },
    {
     "name": "stdout",
     "output_type": "stream",
     "text": [
      "Saving results to results/internvl/output_internvl.json...\n",
      "Results saved.\n",
      "\n",
      "Generating response for 46...\n"
     ]
    },
    {
     "name": "stderr",
     "output_type": "stream",
     "text": [
      " 47%|████▋     | 47/100 [06:18<06:39,  7.53s/it]"
     ]
    },
    {
     "name": "stdout",
     "output_type": "stream",
     "text": [
      "Saving results to results/internvl/output_internvl.json...\n",
      "Results saved.\n",
      "\n",
      "Generating response for 47...\n"
     ]
    },
    {
     "name": "stderr",
     "output_type": "stream",
     "text": [
      " 48%|████▊     | 48/100 [06:28<07:02,  8.12s/it]"
     ]
    },
    {
     "name": "stdout",
     "output_type": "stream",
     "text": [
      "Saving results to results/internvl/output_internvl.json...\n",
      "Results saved.\n",
      "\n",
      "Generating response for 48...\n"
     ]
    },
    {
     "name": "stderr",
     "output_type": "stream",
     "text": [
      " 49%|████▉     | 49/100 [06:31<05:46,  6.80s/it]"
     ]
    },
    {
     "name": "stdout",
     "output_type": "stream",
     "text": [
      "Saving results to results/internvl/output_internvl.json...\n",
      "Results saved.\n",
      "\n",
      "Generating response for 49...\n"
     ]
    },
    {
     "name": "stderr",
     "output_type": "stream",
     "text": [
      " 50%|█████     | 50/100 [06:40<06:09,  7.38s/it]"
     ]
    },
    {
     "name": "stdout",
     "output_type": "stream",
     "text": [
      "Saving results to results/internvl/output_internvl.json...\n",
      "Results saved.\n",
      "\n",
      "Generating response for 50...\n"
     ]
    },
    {
     "name": "stderr",
     "output_type": "stream",
     "text": [
      " 51%|█████     | 51/100 [06:45<05:21,  6.57s/it]"
     ]
    },
    {
     "name": "stdout",
     "output_type": "stream",
     "text": [
      "Saving results to results/internvl/output_internvl.json...\n",
      "Results saved.\n",
      "\n",
      "Generating response for 51...\n"
     ]
    },
    {
     "name": "stderr",
     "output_type": "stream",
     "text": [
      " 52%|█████▏    | 52/100 [06:47<04:17,  5.36s/it]"
     ]
    },
    {
     "name": "stdout",
     "output_type": "stream",
     "text": [
      "Saving results to results/internvl/output_internvl.json...\n",
      "Results saved.\n",
      "\n",
      "Generating response for 52...\n"
     ]
    },
    {
     "name": "stderr",
     "output_type": "stream",
     "text": [
      " 53%|█████▎    | 53/100 [06:50<03:34,  4.56s/it]"
     ]
    },
    {
     "name": "stdout",
     "output_type": "stream",
     "text": [
      "Saving results to results/internvl/output_internvl.json...\n",
      "Results saved.\n",
      "\n",
      "Generating response for 53...\n"
     ]
    },
    {
     "name": "stderr",
     "output_type": "stream",
     "text": [
      " 54%|█████▍    | 54/100 [07:00<04:40,  6.10s/it]"
     ]
    },
    {
     "name": "stdout",
     "output_type": "stream",
     "text": [
      "Saving results to results/internvl/output_internvl.json...\n",
      "Results saved.\n",
      "\n",
      "Generating response for 54...\n"
     ]
    },
    {
     "name": "stderr",
     "output_type": "stream",
     "text": [
      " 55%|█████▌    | 55/100 [07:18<07:14,  9.66s/it]"
     ]
    },
    {
     "name": "stdout",
     "output_type": "stream",
     "text": [
      "Saving results to results/internvl/output_internvl.json...\n",
      "Results saved.\n",
      "\n",
      "Generating response for 55...\n"
     ]
    },
    {
     "name": "stderr",
     "output_type": "stream",
     "text": [
      " 56%|█████▌    | 56/100 [07:24<06:20,  8.65s/it]"
     ]
    },
    {
     "name": "stdout",
     "output_type": "stream",
     "text": [
      "Saving results to results/internvl/output_internvl.json...\n",
      "Results saved.\n",
      "\n",
      "Generating response for 56...\n"
     ]
    },
    {
     "name": "stderr",
     "output_type": "stream",
     "text": [
      " 57%|█████▋    | 57/100 [07:26<04:51,  6.78s/it]"
     ]
    },
    {
     "name": "stdout",
     "output_type": "stream",
     "text": [
      "Saving results to results/internvl/output_internvl.json...\n",
      "Results saved.\n",
      "\n",
      "Generating response for 57...\n"
     ]
    },
    {
     "name": "stderr",
     "output_type": "stream",
     "text": [
      " 58%|█████▊    | 58/100 [07:34<04:50,  6.92s/it]"
     ]
    },
    {
     "name": "stdout",
     "output_type": "stream",
     "text": [
      "Saving results to results/internvl/output_internvl.json...\n",
      "Results saved.\n",
      "\n",
      "Generating response for 58...\n"
     ]
    },
    {
     "name": "stderr",
     "output_type": "stream",
     "text": [
      " 59%|█████▉    | 59/100 [07:55<07:39, 11.20s/it]"
     ]
    },
    {
     "name": "stdout",
     "output_type": "stream",
     "text": [
      "Saving results to results/internvl/output_internvl.json...\n",
      "Results saved.\n",
      "\n",
      "Generating response for 59...\n"
     ]
    },
    {
     "name": "stderr",
     "output_type": "stream",
     "text": [
      " 60%|██████    | 60/100 [08:01<06:26,  9.65s/it]"
     ]
    },
    {
     "name": "stdout",
     "output_type": "stream",
     "text": [
      "Saving results to results/internvl/output_internvl.json...\n",
      "Results saved.\n",
      "\n",
      "Generating response for 60...\n"
     ]
    },
    {
     "name": "stderr",
     "output_type": "stream",
     "text": [
      " 61%|██████    | 61/100 [08:06<05:28,  8.42s/it]"
     ]
    },
    {
     "name": "stdout",
     "output_type": "stream",
     "text": [
      "Saving results to results/internvl/output_internvl.json...\n",
      "Results saved.\n",
      "\n",
      "Generating response for 61...\n"
     ]
    },
    {
     "name": "stderr",
     "output_type": "stream",
     "text": [
      " 62%|██████▏   | 62/100 [08:21<06:35, 10.40s/it]"
     ]
    },
    {
     "name": "stdout",
     "output_type": "stream",
     "text": [
      "Saving results to results/internvl/output_internvl.json...\n",
      "Results saved.\n",
      "\n",
      "Generating response for 62...\n"
     ]
    },
    {
     "name": "stderr",
     "output_type": "stream",
     "text": [
      " 63%|██████▎   | 63/100 [08:32<06:24, 10.39s/it]"
     ]
    },
    {
     "name": "stdout",
     "output_type": "stream",
     "text": [
      "Saving results to results/internvl/output_internvl.json...\n",
      "Results saved.\n",
      "\n",
      "Generating response for 63...\n"
     ]
    },
    {
     "name": "stderr",
     "output_type": "stream",
     "text": [
      " 64%|██████▍   | 64/100 [08:44<06:34, 10.96s/it]"
     ]
    },
    {
     "name": "stdout",
     "output_type": "stream",
     "text": [
      "Saving results to results/internvl/output_internvl.json...\n",
      "Results saved.\n",
      "\n",
      "Generating response for 64...\n"
     ]
    },
    {
     "name": "stderr",
     "output_type": "stream",
     "text": [
      " 65%|██████▌   | 65/100 [08:59<07:10, 12.31s/it]"
     ]
    },
    {
     "name": "stdout",
     "output_type": "stream",
     "text": [
      "Saving results to results/internvl/output_internvl.json...\n",
      "Results saved.\n",
      "\n",
      "Generating response for 65...\n"
     ]
    },
    {
     "name": "stderr",
     "output_type": "stream",
     "text": [
      " 66%|██████▌   | 66/100 [09:06<06:00, 10.61s/it]"
     ]
    },
    {
     "name": "stdout",
     "output_type": "stream",
     "text": [
      "Saving results to results/internvl/output_internvl.json...\n",
      "Results saved.\n",
      "\n",
      "Generating response for 66...\n"
     ]
    },
    {
     "name": "stderr",
     "output_type": "stream",
     "text": [
      " 67%|██████▋   | 67/100 [09:09<04:34,  8.33s/it]"
     ]
    },
    {
     "name": "stdout",
     "output_type": "stream",
     "text": [
      "Saving results to results/internvl/output_internvl.json...\n",
      "Results saved.\n",
      "\n",
      "Generating response for 67...\n"
     ]
    },
    {
     "name": "stderr",
     "output_type": "stream",
     "text": [
      " 68%|██████▊   | 68/100 [09:23<05:18,  9.97s/it]"
     ]
    },
    {
     "name": "stdout",
     "output_type": "stream",
     "text": [
      "Saving results to results/internvl/output_internvl.json...\n",
      "Results saved.\n",
      "\n",
      "Generating response for 68...\n"
     ]
    },
    {
     "name": "stderr",
     "output_type": "stream",
     "text": [
      " 69%|██████▉   | 69/100 [09:25<04:00,  7.75s/it]"
     ]
    },
    {
     "name": "stdout",
     "output_type": "stream",
     "text": [
      "Saving results to results/internvl/output_internvl.json...\n",
      "Results saved.\n",
      "\n",
      "Generating response for 69...\n"
     ]
    },
    {
     "name": "stderr",
     "output_type": "stream",
     "text": [
      " 70%|███████   | 70/100 [09:30<03:22,  6.75s/it]"
     ]
    },
    {
     "name": "stdout",
     "output_type": "stream",
     "text": [
      "Saving results to results/internvl/output_internvl.json...\n",
      "Results saved.\n",
      "\n",
      "Generating response for 70...\n"
     ]
    },
    {
     "name": "stderr",
     "output_type": "stream",
     "text": [
      " 71%|███████   | 71/100 [09:36<03:05,  6.41s/it]"
     ]
    },
    {
     "name": "stdout",
     "output_type": "stream",
     "text": [
      "Saving results to results/internvl/output_internvl.json...\n",
      "Results saved.\n",
      "\n",
      "Generating response for 71...\n"
     ]
    },
    {
     "name": "stderr",
     "output_type": "stream",
     "text": [
      " 72%|███████▏  | 72/100 [09:40<02:45,  5.92s/it]"
     ]
    },
    {
     "name": "stdout",
     "output_type": "stream",
     "text": [
      "Saving results to results/internvl/output_internvl.json...\n",
      "Results saved.\n",
      "\n",
      "Generating response for 72...\n"
     ]
    },
    {
     "name": "stderr",
     "output_type": "stream",
     "text": [
      " 73%|███████▎  | 73/100 [09:51<03:16,  7.28s/it]"
     ]
    },
    {
     "name": "stdout",
     "output_type": "stream",
     "text": [
      "Saving results to results/internvl/output_internvl.json...\n",
      "Results saved.\n",
      "\n",
      "Generating response for 73...\n"
     ]
    },
    {
     "name": "stderr",
     "output_type": "stream",
     "text": [
      " 74%|███████▍  | 74/100 [09:57<03:04,  7.08s/it]"
     ]
    },
    {
     "name": "stdout",
     "output_type": "stream",
     "text": [
      "Saving results to results/internvl/output_internvl.json...\n",
      "Results saved.\n",
      "\n",
      "Generating response for 74...\n"
     ]
    },
    {
     "name": "stderr",
     "output_type": "stream",
     "text": [
      " 75%|███████▌  | 75/100 [10:00<02:23,  5.76s/it]"
     ]
    },
    {
     "name": "stdout",
     "output_type": "stream",
     "text": [
      "Saving results to results/internvl/output_internvl.json...\n",
      "Results saved.\n",
      "\n",
      "Generating response for 75...\n"
     ]
    },
    {
     "name": "stderr",
     "output_type": "stream",
     "text": [
      " 76%|███████▌  | 76/100 [10:08<02:35,  6.48s/it]"
     ]
    },
    {
     "name": "stdout",
     "output_type": "stream",
     "text": [
      "Saving results to results/internvl/output_internvl.json...\n",
      "Results saved.\n",
      "\n",
      "Generating response for 76...\n"
     ]
    },
    {
     "name": "stderr",
     "output_type": "stream",
     "text": [
      " 77%|███████▋  | 77/100 [10:13<02:20,  6.11s/it]"
     ]
    },
    {
     "name": "stdout",
     "output_type": "stream",
     "text": [
      "Saving results to results/internvl/output_internvl.json...\n",
      "Results saved.\n",
      "\n",
      "Generating response for 77...\n"
     ]
    },
    {
     "name": "stderr",
     "output_type": "stream",
     "text": [
      " 78%|███████▊  | 78/100 [10:20<02:18,  6.28s/it]"
     ]
    },
    {
     "name": "stdout",
     "output_type": "stream",
     "text": [
      "Saving results to results/internvl/output_internvl.json...\n",
      "Results saved.\n",
      "\n",
      "Generating response for 78...\n"
     ]
    },
    {
     "name": "stderr",
     "output_type": "stream",
     "text": [
      " 79%|███████▉  | 79/100 [10:33<02:55,  8.35s/it]"
     ]
    },
    {
     "name": "stdout",
     "output_type": "stream",
     "text": [
      "Saving results to results/internvl/output_internvl.json...\n",
      "Results saved.\n",
      "\n",
      "Generating response for 79...\n"
     ]
    },
    {
     "name": "stderr",
     "output_type": "stream",
     "text": [
      " 80%|████████  | 80/100 [10:43<02:55,  8.76s/it]"
     ]
    },
    {
     "name": "stdout",
     "output_type": "stream",
     "text": [
      "Saving results to results/internvl/output_internvl.json...\n",
      "Results saved.\n",
      "\n",
      "Generating response for 80...\n"
     ]
    },
    {
     "name": "stderr",
     "output_type": "stream",
     "text": [
      " 81%|████████  | 81/100 [10:53<02:54,  9.19s/it]"
     ]
    },
    {
     "name": "stdout",
     "output_type": "stream",
     "text": [
      "Saving results to results/internvl/output_internvl.json...\n",
      "Results saved.\n",
      "\n",
      "Generating response for 81...\n"
     ]
    },
    {
     "name": "stderr",
     "output_type": "stream",
     "text": [
      " 82%|████████▏ | 82/100 [11:09<03:20, 11.13s/it]"
     ]
    },
    {
     "name": "stdout",
     "output_type": "stream",
     "text": [
      "Saving results to results/internvl/output_internvl.json...\n",
      "Results saved.\n",
      "\n",
      "Generating response for 82...\n"
     ]
    },
    {
     "name": "stderr",
     "output_type": "stream",
     "text": [
      " 83%|████████▎ | 83/100 [11:18<02:57, 10.44s/it]"
     ]
    },
    {
     "name": "stdout",
     "output_type": "stream",
     "text": [
      "Saving results to results/internvl/output_internvl.json...\n",
      "Results saved.\n",
      "\n",
      "Generating response for 83...\n"
     ]
    },
    {
     "name": "stderr",
     "output_type": "stream",
     "text": [
      " 84%|████████▍ | 84/100 [11:38<03:32, 13.25s/it]"
     ]
    },
    {
     "name": "stdout",
     "output_type": "stream",
     "text": [
      "Saving results to results/internvl/output_internvl.json...\n",
      "Results saved.\n",
      "\n",
      "Generating response for 84...\n"
     ]
    },
    {
     "name": "stderr",
     "output_type": "stream",
     "text": [
      " 85%|████████▌ | 85/100 [11:45<02:50, 11.40s/it]"
     ]
    },
    {
     "name": "stdout",
     "output_type": "stream",
     "text": [
      "Saving results to results/internvl/output_internvl.json...\n",
      "Results saved.\n",
      "\n",
      "Generating response for 85...\n"
     ]
    },
    {
     "name": "stderr",
     "output_type": "stream",
     "text": [
      " 86%|████████▌ | 86/100 [12:01<03:02, 13.04s/it]"
     ]
    },
    {
     "name": "stdout",
     "output_type": "stream",
     "text": [
      "Saving results to results/internvl/output_internvl.json...\n",
      "Results saved.\n",
      "\n",
      "Generating response for 86...\n"
     ]
    },
    {
     "name": "stderr",
     "output_type": "stream",
     "text": [
      " 87%|████████▋ | 87/100 [12:13<02:42, 12.49s/it]"
     ]
    },
    {
     "name": "stdout",
     "output_type": "stream",
     "text": [
      "Saving results to results/internvl/output_internvl.json...\n",
      "Results saved.\n",
      "\n",
      "Generating response for 87...\n"
     ]
    },
    {
     "name": "stderr",
     "output_type": "stream",
     "text": [
      " 88%|████████▊ | 88/100 [12:29<02:44, 13.70s/it]"
     ]
    },
    {
     "name": "stdout",
     "output_type": "stream",
     "text": [
      "Saving results to results/internvl/output_internvl.json...\n",
      "Results saved.\n",
      "\n",
      "Generating response for 88...\n"
     ]
    },
    {
     "name": "stderr",
     "output_type": "stream",
     "text": [
      " 89%|████████▉ | 89/100 [12:33<01:57, 10.73s/it]"
     ]
    },
    {
     "name": "stdout",
     "output_type": "stream",
     "text": [
      "Saving results to results/internvl/output_internvl.json...\n",
      "Results saved.\n",
      "\n",
      "Generating response for 89...\n"
     ]
    },
    {
     "name": "stderr",
     "output_type": "stream",
     "text": [
      " 90%|█████████ | 90/100 [12:39<01:32,  9.30s/it]"
     ]
    },
    {
     "name": "stdout",
     "output_type": "stream",
     "text": [
      "Saving results to results/internvl/output_internvl.json...\n",
      "Results saved.\n",
      "\n",
      "Generating response for 90...\n"
     ]
    },
    {
     "name": "stderr",
     "output_type": "stream",
     "text": [
      " 91%|█████████ | 91/100 [12:43<01:08,  7.59s/it]"
     ]
    },
    {
     "name": "stdout",
     "output_type": "stream",
     "text": [
      "Saving results to results/internvl/output_internvl.json...\n",
      "Results saved.\n",
      "\n",
      "Generating response for 91...\n"
     ]
    },
    {
     "name": "stderr",
     "output_type": "stream",
     "text": [
      " 92%|█████████▏| 92/100 [12:47<00:52,  6.50s/it]"
     ]
    },
    {
     "name": "stdout",
     "output_type": "stream",
     "text": [
      "Saving results to results/internvl/output_internvl.json...\n",
      "Results saved.\n",
      "\n",
      "Generating response for 92...\n"
     ]
    },
    {
     "name": "stderr",
     "output_type": "stream",
     "text": [
      " 93%|█████████▎| 93/100 [12:54<00:46,  6.66s/it]"
     ]
    },
    {
     "name": "stdout",
     "output_type": "stream",
     "text": [
      "Saving results to results/internvl/output_internvl.json...\n",
      "Results saved.\n",
      "\n",
      "Generating response for 93...\n"
     ]
    },
    {
     "name": "stderr",
     "output_type": "stream",
     "text": [
      " 94%|█████████▍| 94/100 [13:08<00:53,  8.95s/it]"
     ]
    },
    {
     "name": "stdout",
     "output_type": "stream",
     "text": [
      "Saving results to results/internvl/output_internvl.json...\n",
      "Results saved.\n",
      "\n",
      "Generating response for 94...\n"
     ]
    },
    {
     "name": "stderr",
     "output_type": "stream",
     "text": [
      " 95%|█████████▌| 95/100 [13:23<00:54, 10.80s/it]"
     ]
    },
    {
     "name": "stdout",
     "output_type": "stream",
     "text": [
      "Saving results to results/internvl/output_internvl.json...\n",
      "Results saved.\n",
      "\n",
      "Generating response for 95...\n"
     ]
    },
    {
     "name": "stderr",
     "output_type": "stream",
     "text": [
      " 96%|█████████▌| 96/100 [13:28<00:36,  9.08s/it]"
     ]
    },
    {
     "name": "stdout",
     "output_type": "stream",
     "text": [
      "Saving results to results/internvl/output_internvl.json...\n",
      "Results saved.\n",
      "\n",
      "Generating response for 96...\n"
     ]
    },
    {
     "name": "stderr",
     "output_type": "stream",
     "text": [
      " 97%|█████████▋| 97/100 [13:31<00:21,  7.20s/it]"
     ]
    },
    {
     "name": "stdout",
     "output_type": "stream",
     "text": [
      "Saving results to results/internvl/output_internvl.json...\n",
      "Results saved.\n",
      "\n",
      "Generating response for 97...\n"
     ]
    },
    {
     "name": "stderr",
     "output_type": "stream",
     "text": [
      " 98%|█████████▊| 98/100 [13:34<00:11,  5.94s/it]"
     ]
    },
    {
     "name": "stdout",
     "output_type": "stream",
     "text": [
      "Saving results to results/internvl/output_internvl.json...\n",
      "Results saved.\n",
      "\n",
      "Generating response for 98...\n"
     ]
    },
    {
     "name": "stderr",
     "output_type": "stream",
     "text": [
      " 99%|█████████▉| 99/100 [13:38<00:05,  5.27s/it]"
     ]
    },
    {
     "name": "stdout",
     "output_type": "stream",
     "text": [
      "Saving results to results/internvl/output_internvl.json...\n",
      "Results saved.\n",
      "\n",
      "Generating response for 99...\n"
     ]
    },
    {
     "name": "stderr",
     "output_type": "stream",
     "text": [
      "100%|██████████| 100/100 [13:41<00:00,  8.21s/it]\n"
     ]
    },
    {
     "name": "stdout",
     "output_type": "stream",
     "text": [
      "Saving results to results/internvl/output_internvl.json...\n",
      "Results saved.\n"
     ]
    },
    {
     "name": "stderr",
     "output_type": "stream",
     "text": [
      "  0%|          | 0/100 [00:00<?, ?it/s]"
     ]
    },
    {
     "name": "stdout",
     "output_type": "stream",
     "text": [
      "\n",
      "Generating response for 0...\n"
     ]
    },
    {
     "name": "stderr",
     "output_type": "stream",
     "text": [
      "  1%|          | 1/100 [00:19<32:16, 19.56s/it]"
     ]
    },
    {
     "name": "stdout",
     "output_type": "stream",
     "text": [
      "Saving results to results/internvl/output_internvl.json...\n",
      "Results saved.\n",
      "\n",
      "Generating response for 1...\n"
     ]
    },
    {
     "name": "stderr",
     "output_type": "stream",
     "text": [
      "  2%|▏         | 2/100 [00:22<16:06,  9.86s/it]"
     ]
    },
    {
     "name": "stdout",
     "output_type": "stream",
     "text": [
      "Saving results to results/internvl/output_internvl.json...\n",
      "Results saved.\n",
      "\n",
      "Generating response for 2...\n"
     ]
    },
    {
     "name": "stderr",
     "output_type": "stream",
     "text": [
      "  3%|▎         | 3/100 [00:48<27:33, 17.05s/it]"
     ]
    },
    {
     "name": "stdout",
     "output_type": "stream",
     "text": [
      "Saving results to results/internvl/output_internvl.json...\n",
      "Results saved.\n",
      "\n",
      "Generating response for 3...\n"
     ]
    },
    {
     "name": "stderr",
     "output_type": "stream",
     "text": [
      "  4%|▍         | 4/100 [00:50<18:14, 11.40s/it]"
     ]
    },
    {
     "name": "stdout",
     "output_type": "stream",
     "text": [
      "Saving results to results/internvl/output_internvl.json...\n",
      "Results saved.\n",
      "\n",
      "Generating response for 4...\n"
     ]
    },
    {
     "name": "stderr",
     "output_type": "stream",
     "text": [
      "  5%|▌         | 5/100 [01:04<19:29, 12.32s/it]"
     ]
    },
    {
     "name": "stdout",
     "output_type": "stream",
     "text": [
      "Saving results to results/internvl/output_internvl.json...\n",
      "Results saved.\n",
      "\n",
      "Generating response for 5...\n"
     ]
    },
    {
     "name": "stderr",
     "output_type": "stream",
     "text": [
      "  6%|▌         | 6/100 [01:14<17:49, 11.38s/it]"
     ]
    },
    {
     "name": "stdout",
     "output_type": "stream",
     "text": [
      "Saving results to results/internvl/output_internvl.json...\n",
      "Results saved.\n",
      "\n",
      "Generating response for 6...\n"
     ]
    },
    {
     "name": "stderr",
     "output_type": "stream",
     "text": [
      "  7%|▋         | 7/100 [01:16<13:05,  8.45s/it]"
     ]
    },
    {
     "name": "stdout",
     "output_type": "stream",
     "text": [
      "Saving results to results/internvl/output_internvl.json...\n",
      "Results saved.\n",
      "\n",
      "Generating response for 7...\n"
     ]
    },
    {
     "name": "stderr",
     "output_type": "stream",
     "text": [
      "  8%|▊         | 8/100 [01:24<12:23,  8.08s/it]"
     ]
    },
    {
     "name": "stdout",
     "output_type": "stream",
     "text": [
      "Saving results to results/internvl/output_internvl.json...\n",
      "Results saved.\n",
      "\n",
      "Generating response for 8...\n"
     ]
    },
    {
     "name": "stderr",
     "output_type": "stream",
     "text": [
      "  9%|▉         | 9/100 [01:38<15:10, 10.01s/it]"
     ]
    },
    {
     "name": "stdout",
     "output_type": "stream",
     "text": [
      "Saving results to results/internvl/output_internvl.json...\n",
      "Results saved.\n",
      "\n",
      "Generating response for 9...\n"
     ]
    },
    {
     "name": "stderr",
     "output_type": "stream",
     "text": [
      " 10%|█         | 10/100 [02:10<25:05, 16.73s/it]"
     ]
    },
    {
     "name": "stdout",
     "output_type": "stream",
     "text": [
      "Saving results to results/internvl/output_internvl.json...\n",
      "Results saved.\n",
      "\n",
      "Generating response for 10...\n"
     ]
    },
    {
     "name": "stderr",
     "output_type": "stream",
     "text": [
      " 11%|█         | 11/100 [02:12<18:03, 12.18s/it]"
     ]
    },
    {
     "name": "stdout",
     "output_type": "stream",
     "text": [
      "Saving results to results/internvl/output_internvl.json...\n",
      "Results saved.\n",
      "\n",
      "Generating response for 11...\n"
     ]
    },
    {
     "name": "stderr",
     "output_type": "stream",
     "text": [
      " 12%|█▏        | 12/100 [02:14<13:41,  9.34s/it]"
     ]
    },
    {
     "name": "stdout",
     "output_type": "stream",
     "text": [
      "Saving results to results/internvl/output_internvl.json...\n",
      "Results saved.\n",
      "\n",
      "Generating response for 12...\n"
     ]
    },
    {
     "name": "stderr",
     "output_type": "stream",
     "text": [
      " 13%|█▎        | 13/100 [02:19<11:25,  7.88s/it]"
     ]
    },
    {
     "name": "stdout",
     "output_type": "stream",
     "text": [
      "Saving results to results/internvl/output_internvl.json...\n",
      "Results saved.\n",
      "\n",
      "Generating response for 13...\n"
     ]
    },
    {
     "name": "stderr",
     "output_type": "stream",
     "text": [
      " 14%|█▍        | 14/100 [02:27<11:22,  7.94s/it]"
     ]
    },
    {
     "name": "stdout",
     "output_type": "stream",
     "text": [
      "Saving results to results/internvl/output_internvl.json...\n",
      "Results saved.\n",
      "\n",
      "Generating response for 14...\n"
     ]
    },
    {
     "name": "stderr",
     "output_type": "stream",
     "text": [
      " 15%|█▌        | 15/100 [02:35<11:05,  7.83s/it]"
     ]
    },
    {
     "name": "stdout",
     "output_type": "stream",
     "text": [
      "Saving results to results/internvl/output_internvl.json...\n",
      "Results saved.\n",
      "\n",
      "Generating response for 15...\n"
     ]
    },
    {
     "name": "stderr",
     "output_type": "stream",
     "text": [
      " 16%|█▌        | 16/100 [02:41<10:15,  7.33s/it]"
     ]
    },
    {
     "name": "stdout",
     "output_type": "stream",
     "text": [
      "Saving results to results/internvl/output_internvl.json...\n",
      "Results saved.\n",
      "\n",
      "Generating response for 16...\n"
     ]
    },
    {
     "name": "stderr",
     "output_type": "stream",
     "text": [
      " 17%|█▋        | 17/100 [02:52<11:49,  8.55s/it]"
     ]
    },
    {
     "name": "stdout",
     "output_type": "stream",
     "text": [
      "Saving results to results/internvl/output_internvl.json...\n",
      "Results saved.\n",
      "\n",
      "Generating response for 17...\n"
     ]
    },
    {
     "name": "stderr",
     "output_type": "stream",
     "text": [
      " 18%|█▊        | 18/100 [02:57<10:10,  7.45s/it]"
     ]
    },
    {
     "name": "stdout",
     "output_type": "stream",
     "text": [
      "Saving results to results/internvl/output_internvl.json...\n",
      "Results saved.\n",
      "\n",
      "Generating response for 18...\n"
     ]
    },
    {
     "name": "stderr",
     "output_type": "stream",
     "text": [
      " 19%|█▉        | 19/100 [02:59<07:54,  5.86s/it]"
     ]
    },
    {
     "name": "stdout",
     "output_type": "stream",
     "text": [
      "Saving results to results/internvl/output_internvl.json...\n",
      "Results saved.\n",
      "\n",
      "Generating response for 19...\n"
     ]
    },
    {
     "name": "stderr",
     "output_type": "stream",
     "text": [
      " 20%|██        | 20/100 [03:06<08:04,  6.06s/it]"
     ]
    },
    {
     "name": "stdout",
     "output_type": "stream",
     "text": [
      "Saving results to results/internvl/output_internvl.json...\n",
      "Results saved.\n",
      "\n",
      "Generating response for 20...\n"
     ]
    },
    {
     "name": "stderr",
     "output_type": "stream",
     "text": [
      " 21%|██        | 21/100 [03:07<06:12,  4.72s/it]"
     ]
    },
    {
     "name": "stdout",
     "output_type": "stream",
     "text": [
      "Saving results to results/internvl/output_internvl.json...\n",
      "Results saved.\n",
      "\n",
      "Generating response for 21...\n"
     ]
    },
    {
     "name": "stderr",
     "output_type": "stream",
     "text": [
      " 22%|██▏       | 22/100 [03:11<05:46,  4.44s/it]"
     ]
    },
    {
     "name": "stdout",
     "output_type": "stream",
     "text": [
      "Saving results to results/internvl/output_internvl.json...\n",
      "Results saved.\n",
      "\n",
      "Generating response for 22...\n"
     ]
    },
    {
     "name": "stderr",
     "output_type": "stream",
     "text": [
      " 23%|██▎       | 23/100 [03:33<12:33,  9.78s/it]"
     ]
    },
    {
     "name": "stdout",
     "output_type": "stream",
     "text": [
      "Saving results to results/internvl/output_internvl.json...\n",
      "Results saved.\n",
      "\n",
      "Generating response for 23...\n"
     ]
    },
    {
     "name": "stderr",
     "output_type": "stream",
     "text": [
      " 24%|██▍       | 24/100 [03:38<10:24,  8.22s/it]"
     ]
    },
    {
     "name": "stdout",
     "output_type": "stream",
     "text": [
      "Saving results to results/internvl/output_internvl.json...\n",
      "Results saved.\n",
      "\n",
      "Generating response for 24...\n"
     ]
    },
    {
     "name": "stderr",
     "output_type": "stream",
     "text": [
      " 25%|██▌       | 25/100 [03:45<09:47,  7.84s/it]"
     ]
    },
    {
     "name": "stdout",
     "output_type": "stream",
     "text": [
      "Saving results to results/internvl/output_internvl.json...\n",
      "Results saved.\n",
      "\n",
      "Generating response for 25...\n"
     ]
    },
    {
     "name": "stderr",
     "output_type": "stream",
     "text": [
      " 26%|██▌       | 26/100 [03:49<08:28,  6.87s/it]"
     ]
    },
    {
     "name": "stdout",
     "output_type": "stream",
     "text": [
      "Saving results to results/internvl/output_internvl.json...\n",
      "Results saved.\n",
      "\n",
      "Generating response for 26...\n"
     ]
    },
    {
     "name": "stderr",
     "output_type": "stream",
     "text": [
      " 27%|██▋       | 27/100 [03:52<06:38,  5.46s/it]"
     ]
    },
    {
     "name": "stdout",
     "output_type": "stream",
     "text": [
      "Saving results to results/internvl/output_internvl.json...\n",
      "Results saved.\n",
      "\n",
      "Generating response for 27...\n"
     ]
    },
    {
     "name": "stderr",
     "output_type": "stream",
     "text": [
      " 28%|██▊       | 28/100 [04:03<08:45,  7.30s/it]"
     ]
    },
    {
     "name": "stdout",
     "output_type": "stream",
     "text": [
      "Saving results to results/internvl/output_internvl.json...\n",
      "Results saved.\n",
      "\n",
      "Generating response for 28...\n"
     ]
    },
    {
     "name": "stderr",
     "output_type": "stream",
     "text": [
      " 29%|██▉       | 29/100 [04:07<07:15,  6.14s/it]"
     ]
    },
    {
     "name": "stdout",
     "output_type": "stream",
     "text": [
      "Saving results to results/internvl/output_internvl.json...\n",
      "Results saved.\n",
      "\n",
      "Generating response for 29...\n"
     ]
    },
    {
     "name": "stderr",
     "output_type": "stream",
     "text": [
      " 30%|███       | 30/100 [04:26<11:45, 10.07s/it]"
     ]
    },
    {
     "name": "stdout",
     "output_type": "stream",
     "text": [
      "Saving results to results/internvl/output_internvl.json...\n",
      "Results saved.\n",
      "\n",
      "Generating response for 30...\n"
     ]
    },
    {
     "name": "stderr",
     "output_type": "stream",
     "text": [
      " 31%|███       | 31/100 [04:31<09:53,  8.61s/it]"
     ]
    },
    {
     "name": "stdout",
     "output_type": "stream",
     "text": [
      "Saving results to results/internvl/output_internvl.json...\n",
      "Results saved.\n",
      "\n",
      "Generating response for 31...\n"
     ]
    },
    {
     "name": "stderr",
     "output_type": "stream",
     "text": [
      " 32%|███▏      | 32/100 [04:45<11:28, 10.13s/it]"
     ]
    },
    {
     "name": "stdout",
     "output_type": "stream",
     "text": [
      "Saving results to results/internvl/output_internvl.json...\n",
      "Results saved.\n",
      "\n",
      "Generating response for 32...\n"
     ]
    },
    {
     "name": "stderr",
     "output_type": "stream",
     "text": [
      " 33%|███▎      | 33/100 [04:54<11:04,  9.92s/it]"
     ]
    },
    {
     "name": "stdout",
     "output_type": "stream",
     "text": [
      "Saving results to results/internvl/output_internvl.json...\n",
      "Results saved.\n",
      "\n",
      "Generating response for 33...\n"
     ]
    },
    {
     "name": "stderr",
     "output_type": "stream",
     "text": [
      " 34%|███▍      | 34/100 [05:28<18:39, 16.96s/it]"
     ]
    },
    {
     "name": "stdout",
     "output_type": "stream",
     "text": [
      "Saving results to results/internvl/output_internvl.json...\n",
      "Results saved.\n",
      "\n",
      "Generating response for 34...\n"
     ]
    },
    {
     "name": "stderr",
     "output_type": "stream",
     "text": [
      " 35%|███▌      | 35/100 [05:54<21:35, 19.93s/it]"
     ]
    },
    {
     "name": "stdout",
     "output_type": "stream",
     "text": [
      "Saving results to results/internvl/output_internvl.json...\n",
      "Results saved.\n",
      "\n",
      "Generating response for 35...\n"
     ]
    },
    {
     "name": "stderr",
     "output_type": "stream",
     "text": [
      " 36%|███▌      | 36/100 [05:57<15:37, 14.65s/it]"
     ]
    },
    {
     "name": "stdout",
     "output_type": "stream",
     "text": [
      "Saving results to results/internvl/output_internvl.json...\n",
      "Results saved.\n",
      "\n",
      "Generating response for 36...\n"
     ]
    },
    {
     "name": "stderr",
     "output_type": "stream",
     "text": [
      " 37%|███▋      | 37/100 [06:09<14:27, 13.77s/it]"
     ]
    },
    {
     "name": "stdout",
     "output_type": "stream",
     "text": [
      "Saving results to results/internvl/output_internvl.json...\n",
      "Results saved.\n",
      "\n",
      "Generating response for 37...\n"
     ]
    },
    {
     "name": "stderr",
     "output_type": "stream",
     "text": [
      " 38%|███▊      | 38/100 [06:12<11:02, 10.68s/it]"
     ]
    },
    {
     "name": "stdout",
     "output_type": "stream",
     "text": [
      "Saving results to results/internvl/output_internvl.json...\n",
      "Results saved.\n",
      "\n",
      "Generating response for 38...\n"
     ]
    },
    {
     "name": "stderr",
     "output_type": "stream",
     "text": [
      " 39%|███▉      | 39/100 [06:27<12:08, 11.94s/it]"
     ]
    },
    {
     "name": "stdout",
     "output_type": "stream",
     "text": [
      "Saving results to results/internvl/output_internvl.json...\n",
      "Results saved.\n",
      "\n",
      "Generating response for 39...\n"
     ]
    },
    {
     "name": "stderr",
     "output_type": "stream",
     "text": [
      " 40%|████      | 40/100 [06:33<10:12, 10.21s/it]"
     ]
    },
    {
     "name": "stdout",
     "output_type": "stream",
     "text": [
      "Saving results to results/internvl/output_internvl.json...\n",
      "Results saved.\n",
      "\n",
      "Generating response for 40...\n"
     ]
    },
    {
     "name": "stderr",
     "output_type": "stream",
     "text": [
      " 41%|████      | 41/100 [06:35<07:42,  7.85s/it]"
     ]
    },
    {
     "name": "stdout",
     "output_type": "stream",
     "text": [
      "Saving results to results/internvl/output_internvl.json...\n",
      "Results saved.\n",
      "\n",
      "Generating response for 41...\n"
     ]
    },
    {
     "name": "stderr",
     "output_type": "stream",
     "text": [
      " 42%|████▏     | 42/100 [06:37<05:55,  6.13s/it]"
     ]
    },
    {
     "name": "stdout",
     "output_type": "stream",
     "text": [
      "Saving results to results/internvl/output_internvl.json...\n",
      "Results saved.\n",
      "\n",
      "Generating response for 42...\n"
     ]
    },
    {
     "name": "stderr",
     "output_type": "stream",
     "text": [
      " 43%|████▎     | 43/100 [06:50<07:45,  8.16s/it]"
     ]
    },
    {
     "name": "stdout",
     "output_type": "stream",
     "text": [
      "Saving results to results/internvl/output_internvl.json...\n",
      "Results saved.\n",
      "\n",
      "Generating response for 43...\n"
     ]
    },
    {
     "name": "stderr",
     "output_type": "stream",
     "text": [
      " 44%|████▍     | 44/100 [06:58<07:35,  8.14s/it]"
     ]
    },
    {
     "name": "stdout",
     "output_type": "stream",
     "text": [
      "Saving results to results/internvl/output_internvl.json...\n",
      "Results saved.\n",
      "\n",
      "Generating response for 44...\n"
     ]
    },
    {
     "name": "stderr",
     "output_type": "stream",
     "text": [
      " 45%|████▌     | 45/100 [07:08<07:44,  8.44s/it]"
     ]
    },
    {
     "name": "stdout",
     "output_type": "stream",
     "text": [
      "Saving results to results/internvl/output_internvl.json...\n",
      "Results saved.\n",
      "\n",
      "Generating response for 45...\n"
     ]
    },
    {
     "name": "stderr",
     "output_type": "stream",
     "text": [
      " 46%|████▌     | 46/100 [07:14<06:57,  7.73s/it]"
     ]
    },
    {
     "name": "stdout",
     "output_type": "stream",
     "text": [
      "Saving results to results/internvl/output_internvl.json...\n",
      "Results saved.\n",
      "\n",
      "Generating response for 46...\n"
     ]
    },
    {
     "name": "stderr",
     "output_type": "stream",
     "text": [
      " 47%|████▋     | 47/100 [07:17<05:32,  6.27s/it]"
     ]
    },
    {
     "name": "stdout",
     "output_type": "stream",
     "text": [
      "Saving results to results/internvl/output_internvl.json...\n",
      "Results saved.\n",
      "\n",
      "Generating response for 47...\n"
     ]
    },
    {
     "name": "stderr",
     "output_type": "stream",
     "text": [
      " 48%|████▊     | 48/100 [07:26<06:10,  7.13s/it]"
     ]
    },
    {
     "name": "stdout",
     "output_type": "stream",
     "text": [
      "Saving results to results/internvl/output_internvl.json...\n",
      "Results saved.\n",
      "\n",
      "Generating response for 48...\n"
     ]
    },
    {
     "name": "stderr",
     "output_type": "stream",
     "text": [
      " 49%|████▉     | 49/100 [07:29<05:09,  6.06s/it]"
     ]
    },
    {
     "name": "stdout",
     "output_type": "stream",
     "text": [
      "Saving results to results/internvl/output_internvl.json...\n",
      "Results saved.\n",
      "\n",
      "Generating response for 49...\n"
     ]
    },
    {
     "name": "stderr",
     "output_type": "stream",
     "text": [
      " 50%|█████     | 50/100 [07:37<05:24,  6.49s/it]"
     ]
    },
    {
     "name": "stdout",
     "output_type": "stream",
     "text": [
      "Saving results to results/internvl/output_internvl.json...\n",
      "Results saved.\n",
      "\n",
      "Generating response for 50...\n"
     ]
    },
    {
     "name": "stderr",
     "output_type": "stream",
     "text": [
      " 51%|█████     | 51/100 [07:42<04:53,  5.99s/it]"
     ]
    },
    {
     "name": "stdout",
     "output_type": "stream",
     "text": [
      "Saving results to results/internvl/output_internvl.json...\n",
      "Results saved.\n",
      "\n",
      "Generating response for 51...\n"
     ]
    },
    {
     "name": "stderr",
     "output_type": "stream",
     "text": [
      " 52%|█████▏    | 52/100 [07:44<03:54,  4.88s/it]"
     ]
    },
    {
     "name": "stdout",
     "output_type": "stream",
     "text": [
      "Saving results to results/internvl/output_internvl.json...\n",
      "Results saved.\n",
      "\n",
      "Generating response for 52...\n"
     ]
    },
    {
     "name": "stderr",
     "output_type": "stream",
     "text": [
      " 53%|█████▎    | 53/100 [07:47<03:21,  4.30s/it]"
     ]
    },
    {
     "name": "stdout",
     "output_type": "stream",
     "text": [
      "Saving results to results/internvl/output_internvl.json...\n",
      "Results saved.\n",
      "\n",
      "Generating response for 53...\n"
     ]
    },
    {
     "name": "stderr",
     "output_type": "stream",
     "text": [
      " 54%|█████▍    | 54/100 [07:57<04:37,  6.02s/it]"
     ]
    },
    {
     "name": "stdout",
     "output_type": "stream",
     "text": [
      "Saving results to results/internvl/output_internvl.json...\n",
      "Results saved.\n",
      "\n",
      "Generating response for 54...\n"
     ]
    },
    {
     "name": "stderr",
     "output_type": "stream",
     "text": [
      " 55%|█████▌    | 55/100 [08:14<06:57,  9.28s/it]"
     ]
    },
    {
     "name": "stdout",
     "output_type": "stream",
     "text": [
      "Saving results to results/internvl/output_internvl.json...\n",
      "Results saved.\n",
      "\n",
      "Generating response for 55...\n"
     ]
    },
    {
     "name": "stderr",
     "output_type": "stream",
     "text": [
      " 56%|█████▌    | 56/100 [08:19<05:57,  8.13s/it]"
     ]
    },
    {
     "name": "stdout",
     "output_type": "stream",
     "text": [
      "Saving results to results/internvl/output_internvl.json...\n",
      "Results saved.\n",
      "\n",
      "Generating response for 56...\n"
     ]
    },
    {
     "name": "stderr",
     "output_type": "stream",
     "text": [
      " 57%|█████▋    | 57/100 [08:21<04:27,  6.22s/it]"
     ]
    },
    {
     "name": "stdout",
     "output_type": "stream",
     "text": [
      "Saving results to results/internvl/output_internvl.json...\n",
      "Results saved.\n",
      "\n",
      "Generating response for 57...\n"
     ]
    },
    {
     "name": "stderr",
     "output_type": "stream",
     "text": [
      " 58%|█████▊    | 58/100 [08:27<04:21,  6.22s/it]"
     ]
    },
    {
     "name": "stdout",
     "output_type": "stream",
     "text": [
      "Saving results to results/internvl/output_internvl.json...\n",
      "Results saved.\n",
      "\n",
      "Generating response for 58...\n"
     ]
    },
    {
     "name": "stderr",
     "output_type": "stream",
     "text": [
      " 59%|█████▉    | 59/100 [08:45<06:40,  9.78s/it]"
     ]
    },
    {
     "name": "stdout",
     "output_type": "stream",
     "text": [
      "Saving results to results/internvl/output_internvl.json...\n",
      "Results saved.\n",
      "\n",
      "Generating response for 59...\n"
     ]
    },
    {
     "name": "stderr",
     "output_type": "stream",
     "text": [
      " 60%|██████    | 60/100 [08:50<05:29,  8.23s/it]"
     ]
    },
    {
     "name": "stdout",
     "output_type": "stream",
     "text": [
      "Saving results to results/internvl/output_internvl.json...\n",
      "Results saved.\n",
      "\n",
      "Generating response for 60...\n"
     ]
    },
    {
     "name": "stderr",
     "output_type": "stream",
     "text": [
      " 61%|██████    | 61/100 [08:59<05:35,  8.61s/it]"
     ]
    },
    {
     "name": "stdout",
     "output_type": "stream",
     "text": [
      "Saving results to results/internvl/output_internvl.json...\n",
      "Results saved.\n",
      "\n",
      "Generating response for 61...\n"
     ]
    },
    {
     "name": "stderr",
     "output_type": "stream",
     "text": [
      " 62%|██████▏   | 62/100 [09:14<06:39, 10.52s/it]"
     ]
    },
    {
     "name": "stdout",
     "output_type": "stream",
     "text": [
      "Saving results to results/internvl/output_internvl.json...\n",
      "Results saved.\n",
      "\n",
      "Generating response for 62...\n"
     ]
    },
    {
     "name": "stderr",
     "output_type": "stream",
     "text": [
      " 63%|██████▎   | 63/100 [09:21<05:48,  9.42s/it]"
     ]
    },
    {
     "name": "stdout",
     "output_type": "stream",
     "text": [
      "Saving results to results/internvl/output_internvl.json...\n",
      "Results saved.\n",
      "\n",
      "Generating response for 63...\n"
     ]
    },
    {
     "name": "stderr",
     "output_type": "stream",
     "text": [
      " 64%|██████▍   | 64/100 [09:35<06:22, 10.63s/it]"
     ]
    },
    {
     "name": "stdout",
     "output_type": "stream",
     "text": [
      "Saving results to results/internvl/output_internvl.json...\n",
      "Results saved.\n",
      "\n",
      "Generating response for 64...\n"
     ]
    },
    {
     "name": "stderr",
     "output_type": "stream",
     "text": [
      " 65%|██████▌   | 65/100 [09:43<05:46,  9.91s/it]"
     ]
    },
    {
     "name": "stdout",
     "output_type": "stream",
     "text": [
      "Saving results to results/internvl/output_internvl.json...\n",
      "Results saved.\n",
      "\n",
      "Generating response for 65...\n"
     ]
    },
    {
     "name": "stderr",
     "output_type": "stream",
     "text": [
      " 66%|██████▌   | 66/100 [09:46<04:28,  7.91s/it]"
     ]
    },
    {
     "name": "stdout",
     "output_type": "stream",
     "text": [
      "Saving results to results/internvl/output_internvl.json...\n",
      "Results saved.\n",
      "\n",
      "Generating response for 66...\n"
     ]
    },
    {
     "name": "stderr",
     "output_type": "stream",
     "text": [
      " 67%|██████▋   | 67/100 [09:50<03:36,  6.55s/it]"
     ]
    },
    {
     "name": "stdout",
     "output_type": "stream",
     "text": [
      "Saving results to results/internvl/output_internvl.json...\n",
      "Results saved.\n",
      "\n",
      "Generating response for 67...\n"
     ]
    },
    {
     "name": "stderr",
     "output_type": "stream",
     "text": [
      " 68%|██████▊   | 68/100 [10:12<06:02, 11.34s/it]"
     ]
    },
    {
     "name": "stdout",
     "output_type": "stream",
     "text": [
      "Saving results to results/internvl/output_internvl.json...\n",
      "Results saved.\n",
      "\n",
      "Generating response for 68...\n"
     ]
    },
    {
     "name": "stderr",
     "output_type": "stream",
     "text": [
      " 69%|██████▉   | 69/100 [10:15<04:30,  8.73s/it]"
     ]
    },
    {
     "name": "stdout",
     "output_type": "stream",
     "text": [
      "Saving results to results/internvl/output_internvl.json...\n",
      "Results saved.\n",
      "\n",
      "Generating response for 69...\n"
     ]
    },
    {
     "name": "stderr",
     "output_type": "stream",
     "text": [
      " 70%|███████   | 70/100 [10:18<03:29,  6.98s/it]"
     ]
    },
    {
     "name": "stdout",
     "output_type": "stream",
     "text": [
      "Saving results to results/internvl/output_internvl.json...\n",
      "Results saved.\n",
      "\n",
      "Generating response for 70...\n"
     ]
    },
    {
     "name": "stderr",
     "output_type": "stream",
     "text": [
      " 71%|███████   | 71/100 [10:23<03:07,  6.46s/it]"
     ]
    },
    {
     "name": "stdout",
     "output_type": "stream",
     "text": [
      "Saving results to results/internvl/output_internvl.json...\n",
      "Results saved.\n",
      "\n",
      "Generating response for 71...\n"
     ]
    },
    {
     "name": "stderr",
     "output_type": "stream",
     "text": [
      " 72%|███████▏  | 72/100 [10:27<02:45,  5.91s/it]"
     ]
    },
    {
     "name": "stdout",
     "output_type": "stream",
     "text": [
      "Saving results to results/internvl/output_internvl.json...\n",
      "Results saved.\n",
      "\n",
      "Generating response for 72...\n"
     ]
    },
    {
     "name": "stderr",
     "output_type": "stream",
     "text": [
      " 73%|███████▎  | 73/100 [11:01<06:23, 14.20s/it]"
     ]
    },
    {
     "name": "stdout",
     "output_type": "stream",
     "text": [
      "Saving results to results/internvl/output_internvl.json...\n",
      "Results saved.\n",
      "\n",
      "Generating response for 73...\n"
     ]
    },
    {
     "name": "stderr",
     "output_type": "stream",
     "text": [
      " 74%|███████▍  | 74/100 [11:08<05:16, 12.18s/it]"
     ]
    },
    {
     "name": "stdout",
     "output_type": "stream",
     "text": [
      "Saving results to results/internvl/output_internvl.json...\n",
      "Results saved.\n",
      "\n",
      "Generating response for 74...\n"
     ]
    },
    {
     "name": "stderr",
     "output_type": "stream",
     "text": [
      " 75%|███████▌  | 75/100 [11:11<03:52,  9.32s/it]"
     ]
    },
    {
     "name": "stdout",
     "output_type": "stream",
     "text": [
      "Saving results to results/internvl/output_internvl.json...\n",
      "Results saved.\n",
      "\n",
      "Generating response for 75...\n"
     ]
    },
    {
     "name": "stderr",
     "output_type": "stream",
     "text": [
      " 76%|███████▌  | 76/100 [11:19<03:34,  8.96s/it]"
     ]
    },
    {
     "name": "stdout",
     "output_type": "stream",
     "text": [
      "Saving results to results/internvl/output_internvl.json...\n",
      "Results saved.\n",
      "\n",
      "Generating response for 76...\n"
     ]
    },
    {
     "name": "stderr",
     "output_type": "stream",
     "text": [
      " 77%|███████▋  | 77/100 [11:24<02:54,  7.58s/it]"
     ]
    },
    {
     "name": "stdout",
     "output_type": "stream",
     "text": [
      "Saving results to results/internvl/output_internvl.json...\n",
      "Results saved.\n",
      "\n",
      "Generating response for 77...\n"
     ]
    },
    {
     "name": "stderr",
     "output_type": "stream",
     "text": [
      " 78%|███████▊  | 78/100 [11:32<02:50,  7.76s/it]"
     ]
    },
    {
     "name": "stdout",
     "output_type": "stream",
     "text": [
      "Saving results to results/internvl/output_internvl.json...\n",
      "Results saved.\n",
      "\n",
      "Generating response for 78...\n"
     ]
    },
    {
     "name": "stderr",
     "output_type": "stream",
     "text": [
      " 79%|███████▉  | 79/100 [11:52<03:59, 11.40s/it]"
     ]
    },
    {
     "name": "stdout",
     "output_type": "stream",
     "text": [
      "Saving results to results/internvl/output_internvl.json...\n",
      "Results saved.\n",
      "\n",
      "Generating response for 79...\n"
     ]
    },
    {
     "name": "stderr",
     "output_type": "stream",
     "text": [
      " 80%|████████  | 80/100 [12:00<03:30, 10.52s/it]"
     ]
    },
    {
     "name": "stdout",
     "output_type": "stream",
     "text": [
      "Saving results to results/internvl/output_internvl.json...\n",
      "Results saved.\n",
      "\n",
      "Generating response for 80...\n"
     ]
    },
    {
     "name": "stderr",
     "output_type": "stream",
     "text": [
      " 81%|████████  | 81/100 [12:12<03:26, 10.87s/it]"
     ]
    },
    {
     "name": "stdout",
     "output_type": "stream",
     "text": [
      "Saving results to results/internvl/output_internvl.json...\n",
      "Results saved.\n",
      "\n",
      "Generating response for 81...\n"
     ]
    },
    {
     "name": "stderr",
     "output_type": "stream",
     "text": [
      " 82%|████████▏ | 82/100 [12:25<03:25, 11.44s/it]"
     ]
    },
    {
     "name": "stdout",
     "output_type": "stream",
     "text": [
      "Saving results to results/internvl/output_internvl.json...\n",
      "Results saved.\n",
      "\n",
      "Generating response for 82...\n"
     ]
    },
    {
     "name": "stderr",
     "output_type": "stream",
     "text": [
      " 83%|████████▎ | 83/100 [12:32<02:54, 10.27s/it]"
     ]
    },
    {
     "name": "stdout",
     "output_type": "stream",
     "text": [
      "Saving results to results/internvl/output_internvl.json...\n",
      "Results saved.\n",
      "\n",
      "Generating response for 83...\n"
     ]
    },
    {
     "name": "stderr",
     "output_type": "stream",
     "text": [
      " 84%|████████▍ | 84/100 [12:51<03:23, 12.71s/it]"
     ]
    },
    {
     "name": "stdout",
     "output_type": "stream",
     "text": [
      "Saving results to results/internvl/output_internvl.json...\n",
      "Results saved.\n",
      "\n",
      "Generating response for 84...\n"
     ]
    },
    {
     "name": "stderr",
     "output_type": "stream",
     "text": [
      " 85%|████████▌ | 85/100 [12:56<02:36, 10.43s/it]"
     ]
    },
    {
     "name": "stdout",
     "output_type": "stream",
     "text": [
      "Saving results to results/internvl/output_internvl.json...\n",
      "Results saved.\n",
      "\n",
      "Generating response for 85...\n"
     ]
    },
    {
     "name": "stderr",
     "output_type": "stream",
     "text": [
      " 86%|████████▌ | 86/100 [13:12<02:50, 12.21s/it]"
     ]
    },
    {
     "name": "stdout",
     "output_type": "stream",
     "text": [
      "Saving results to results/internvl/output_internvl.json...\n",
      "Results saved.\n",
      "\n",
      "Generating response for 86...\n"
     ]
    },
    {
     "name": "stderr",
     "output_type": "stream",
     "text": [
      " 87%|████████▋ | 87/100 [13:24<02:38, 12.19s/it]"
     ]
    },
    {
     "name": "stdout",
     "output_type": "stream",
     "text": [
      "Saving results to results/internvl/output_internvl.json...\n",
      "Results saved.\n",
      "\n",
      "Generating response for 87...\n"
     ]
    },
    {
     "name": "stderr",
     "output_type": "stream",
     "text": [
      " 88%|████████▊ | 88/100 [13:37<02:29, 12.46s/it]"
     ]
    },
    {
     "name": "stdout",
     "output_type": "stream",
     "text": [
      "Saving results to results/internvl/output_internvl.json...\n",
      "Results saved.\n",
      "\n",
      "Generating response for 88...\n"
     ]
    },
    {
     "name": "stderr",
     "output_type": "stream",
     "text": [
      " 89%|████████▉ | 89/100 [13:40<01:44,  9.52s/it]"
     ]
    },
    {
     "name": "stdout",
     "output_type": "stream",
     "text": [
      "Saving results to results/internvl/output_internvl.json...\n",
      "Results saved.\n",
      "\n",
      "Generating response for 89...\n"
     ]
    },
    {
     "name": "stderr",
     "output_type": "stream",
     "text": [
      " 90%|█████████ | 90/100 [13:41<01:11,  7.13s/it]"
     ]
    },
    {
     "name": "stdout",
     "output_type": "stream",
     "text": [
      "Saving results to results/internvl/output_internvl.json...\n",
      "Results saved.\n",
      "\n",
      "Generating response for 90...\n"
     ]
    },
    {
     "name": "stderr",
     "output_type": "stream",
     "text": [
      " 91%|█████████ | 91/100 [13:45<00:54,  6.06s/it]"
     ]
    },
    {
     "name": "stdout",
     "output_type": "stream",
     "text": [
      "Saving results to results/internvl/output_internvl.json...\n",
      "Results saved.\n",
      "\n",
      "Generating response for 91...\n"
     ]
    },
    {
     "name": "stderr",
     "output_type": "stream",
     "text": [
      " 92%|█████████▏| 92/100 [13:49<00:42,  5.34s/it]"
     ]
    },
    {
     "name": "stdout",
     "output_type": "stream",
     "text": [
      "Saving results to results/internvl/output_internvl.json...\n",
      "Results saved.\n",
      "\n",
      "Generating response for 92...\n"
     ]
    },
    {
     "name": "stderr",
     "output_type": "stream",
     "text": [
      " 93%|█████████▎| 93/100 [13:53<00:36,  5.17s/it]"
     ]
    },
    {
     "name": "stdout",
     "output_type": "stream",
     "text": [
      "Saving results to results/internvl/output_internvl.json...\n",
      "Results saved.\n",
      "\n",
      "Generating response for 93...\n"
     ]
    },
    {
     "name": "stderr",
     "output_type": "stream",
     "text": [
      " 94%|█████████▍| 94/100 [14:10<00:52,  8.68s/it]"
     ]
    },
    {
     "name": "stdout",
     "output_type": "stream",
     "text": [
      "Saving results to results/internvl/output_internvl.json...\n",
      "Results saved.\n",
      "\n",
      "Generating response for 94...\n"
     ]
    },
    {
     "name": "stderr",
     "output_type": "stream",
     "text": [
      " 95%|█████████▌| 95/100 [14:33<01:05, 13.03s/it]"
     ]
    },
    {
     "name": "stdout",
     "output_type": "stream",
     "text": [
      "Saving results to results/internvl/output_internvl.json...\n",
      "Results saved.\n",
      "\n",
      "Generating response for 95...\n"
     ]
    },
    {
     "name": "stderr",
     "output_type": "stream",
     "text": [
      " 96%|█████████▌| 96/100 [14:39<00:42, 10.66s/it]"
     ]
    },
    {
     "name": "stdout",
     "output_type": "stream",
     "text": [
      "Saving results to results/internvl/output_internvl.json...\n",
      "Results saved.\n",
      "\n",
      "Generating response for 96...\n"
     ]
    },
    {
     "name": "stderr",
     "output_type": "stream",
     "text": [
      " 97%|█████████▋| 97/100 [14:42<00:25,  8.33s/it]"
     ]
    },
    {
     "name": "stdout",
     "output_type": "stream",
     "text": [
      "Saving results to results/internvl/output_internvl.json...\n",
      "Results saved.\n",
      "\n",
      "Generating response for 97...\n"
     ]
    },
    {
     "name": "stderr",
     "output_type": "stream",
     "text": [
      " 98%|█████████▊| 98/100 [14:44<00:13,  6.69s/it]"
     ]
    },
    {
     "name": "stdout",
     "output_type": "stream",
     "text": [
      "Saving results to results/internvl/output_internvl.json...\n",
      "Results saved.\n",
      "\n",
      "Generating response for 98...\n"
     ]
    },
    {
     "name": "stderr",
     "output_type": "stream",
     "text": [
      " 99%|█████████▉| 99/100 [14:48<00:05,  5.87s/it]"
     ]
    },
    {
     "name": "stdout",
     "output_type": "stream",
     "text": [
      "Saving results to results/internvl/output_internvl.json...\n",
      "Results saved.\n",
      "\n",
      "Generating response for 99...\n"
     ]
    },
    {
     "name": "stderr",
     "output_type": "stream",
     "text": [
      "100%|██████████| 100/100 [14:57<00:00,  8.98s/it]\n"
     ]
    },
    {
     "name": "stdout",
     "output_type": "stream",
     "text": [
      "Saving results to results/internvl/output_internvl.json...\n",
      "Results saved.\n"
     ]
    },
    {
     "name": "stderr",
     "output_type": "stream",
     "text": [
      "  0%|          | 0/100 [00:00<?, ?it/s]"
     ]
    },
    {
     "name": "stdout",
     "output_type": "stream",
     "text": [
      "\n",
      "Generating response for 0...\n"
     ]
    },
    {
     "name": "stderr",
     "output_type": "stream",
     "text": [
      "  1%|          | 1/100 [00:18<31:16, 18.96s/it]"
     ]
    },
    {
     "name": "stdout",
     "output_type": "stream",
     "text": [
      "Saving results to results/internvl/output_internvl.json...\n",
      "Results saved.\n",
      "\n",
      "Generating response for 1...\n"
     ]
    },
    {
     "name": "stderr",
     "output_type": "stream",
     "text": [
      "  2%|▏         | 2/100 [00:21<15:26,  9.45s/it]"
     ]
    },
    {
     "name": "stdout",
     "output_type": "stream",
     "text": [
      "Saving results to results/internvl/output_internvl.json...\n",
      "Results saved.\n",
      "\n",
      "Generating response for 2...\n"
     ]
    },
    {
     "name": "stderr",
     "output_type": "stream",
     "text": [
      "  3%|▎         | 3/100 [00:37<19:57, 12.34s/it]"
     ]
    },
    {
     "name": "stdout",
     "output_type": "stream",
     "text": [
      "Saving results to results/internvl/output_internvl.json...\n",
      "Results saved.\n",
      "\n",
      "Generating response for 3...\n"
     ]
    },
    {
     "name": "stderr",
     "output_type": "stream",
     "text": [
      "  4%|▍         | 4/100 [00:40<13:55,  8.70s/it]"
     ]
    },
    {
     "name": "stdout",
     "output_type": "stream",
     "text": [
      "Saving results to results/internvl/output_internvl.json...\n",
      "Results saved.\n",
      "\n",
      "Generating response for 4...\n"
     ]
    },
    {
     "name": "stderr",
     "output_type": "stream",
     "text": [
      "  5%|▌         | 5/100 [00:52<15:37,  9.87s/it]"
     ]
    },
    {
     "name": "stdout",
     "output_type": "stream",
     "text": [
      "Saving results to results/internvl/output_internvl.json...\n",
      "Results saved.\n",
      "\n",
      "Generating response for 5...\n"
     ]
    },
    {
     "name": "stderr",
     "output_type": "stream",
     "text": [
      "  6%|▌         | 6/100 [00:59<13:54,  8.88s/it]"
     ]
    },
    {
     "name": "stdout",
     "output_type": "stream",
     "text": [
      "Saving results to results/internvl/output_internvl.json...\n",
      "Results saved.\n",
      "\n",
      "Generating response for 6...\n"
     ]
    },
    {
     "name": "stderr",
     "output_type": "stream",
     "text": [
      "  7%|▋         | 7/100 [01:03<11:02,  7.12s/it]"
     ]
    },
    {
     "name": "stdout",
     "output_type": "stream",
     "text": [
      "Saving results to results/internvl/output_internvl.json...\n",
      "Results saved.\n",
      "\n",
      "Generating response for 7...\n"
     ]
    },
    {
     "name": "stderr",
     "output_type": "stream",
     "text": [
      "  8%|▊         | 8/100 [01:09<10:32,  6.87s/it]"
     ]
    },
    {
     "name": "stdout",
     "output_type": "stream",
     "text": [
      "Saving results to results/internvl/output_internvl.json...\n",
      "Results saved.\n",
      "\n",
      "Generating response for 8...\n"
     ]
    },
    {
     "name": "stderr",
     "output_type": "stream",
     "text": [
      "  9%|▉         | 9/100 [01:18<11:30,  7.59s/it]"
     ]
    },
    {
     "name": "stdout",
     "output_type": "stream",
     "text": [
      "Saving results to results/internvl/output_internvl.json...\n",
      "Results saved.\n",
      "\n",
      "Generating response for 9...\n"
     ]
    },
    {
     "name": "stderr",
     "output_type": "stream",
     "text": [
      " 10%|█         | 10/100 [01:43<19:14, 12.83s/it]"
     ]
    },
    {
     "name": "stdout",
     "output_type": "stream",
     "text": [
      "Saving results to results/internvl/output_internvl.json...\n",
      "Results saved.\n",
      "\n",
      "Generating response for 10...\n"
     ]
    },
    {
     "name": "stderr",
     "output_type": "stream",
     "text": [
      " 11%|█         | 11/100 [01:45<14:29,  9.77s/it]"
     ]
    },
    {
     "name": "stdout",
     "output_type": "stream",
     "text": [
      "Saving results to results/internvl/output_internvl.json...\n",
      "Results saved.\n",
      "\n",
      "Generating response for 11...\n"
     ]
    },
    {
     "name": "stderr",
     "output_type": "stream",
     "text": [
      " 12%|█▏        | 12/100 [01:50<11:57,  8.16s/it]"
     ]
    },
    {
     "name": "stdout",
     "output_type": "stream",
     "text": [
      "Saving results to results/internvl/output_internvl.json...\n",
      "Results saved.\n",
      "\n",
      "Generating response for 12...\n"
     ]
    },
    {
     "name": "stderr",
     "output_type": "stream",
     "text": [
      " 13%|█▎        | 13/100 [01:56<10:50,  7.48s/it]"
     ]
    },
    {
     "name": "stdout",
     "output_type": "stream",
     "text": [
      "Saving results to results/internvl/output_internvl.json...\n",
      "Results saved.\n",
      "\n",
      "Generating response for 13...\n"
     ]
    },
    {
     "name": "stderr",
     "output_type": "stream",
     "text": [
      " 14%|█▍        | 14/100 [02:04<11:12,  7.82s/it]"
     ]
    },
    {
     "name": "stdout",
     "output_type": "stream",
     "text": [
      "Saving results to results/internvl/output_internvl.json...\n",
      "Results saved.\n",
      "\n",
      "Generating response for 14...\n"
     ]
    },
    {
     "name": "stderr",
     "output_type": "stream",
     "text": [
      " 15%|█▌        | 15/100 [02:13<11:35,  8.18s/it]"
     ]
    },
    {
     "name": "stdout",
     "output_type": "stream",
     "text": [
      "Saving results to results/internvl/output_internvl.json...\n",
      "Results saved.\n",
      "\n",
      "Generating response for 15...\n"
     ]
    },
    {
     "name": "stderr",
     "output_type": "stream",
     "text": [
      " 16%|█▌        | 16/100 [02:20<10:33,  7.54s/it]"
     ]
    },
    {
     "name": "stdout",
     "output_type": "stream",
     "text": [
      "Saving results to results/internvl/output_internvl.json...\n",
      "Results saved.\n",
      "\n",
      "Generating response for 16...\n"
     ]
    },
    {
     "name": "stderr",
     "output_type": "stream",
     "text": [
      " 17%|█▋        | 17/100 [02:29<11:11,  8.09s/it]"
     ]
    },
    {
     "name": "stdout",
     "output_type": "stream",
     "text": [
      "Saving results to results/internvl/output_internvl.json...\n",
      "Results saved.\n",
      "\n",
      "Generating response for 17...\n"
     ]
    },
    {
     "name": "stderr",
     "output_type": "stream",
     "text": [
      " 18%|█▊        | 18/100 [02:32<09:12,  6.73s/it]"
     ]
    },
    {
     "name": "stdout",
     "output_type": "stream",
     "text": [
      "Saving results to results/internvl/output_internvl.json...\n",
      "Results saved.\n",
      "\n",
      "Generating response for 18...\n"
     ]
    },
    {
     "name": "stderr",
     "output_type": "stream",
     "text": [
      " 19%|█▉        | 19/100 [02:35<07:12,  5.34s/it]"
     ]
    },
    {
     "name": "stdout",
     "output_type": "stream",
     "text": [
      "Saving results to results/internvl/output_internvl.json...\n",
      "Results saved.\n",
      "\n",
      "Generating response for 19...\n"
     ]
    },
    {
     "name": "stderr",
     "output_type": "stream",
     "text": [
      " 20%|██        | 20/100 [02:42<07:50,  5.88s/it]"
     ]
    },
    {
     "name": "stdout",
     "output_type": "stream",
     "text": [
      "Saving results to results/internvl/output_internvl.json...\n",
      "Results saved.\n",
      "\n",
      "Generating response for 20...\n"
     ]
    },
    {
     "name": "stderr",
     "output_type": "stream",
     "text": [
      " 21%|██        | 21/100 [02:43<05:57,  4.53s/it]"
     ]
    },
    {
     "name": "stdout",
     "output_type": "stream",
     "text": [
      "Saving results to results/internvl/output_internvl.json...\n",
      "Results saved.\n",
      "\n",
      "Generating response for 21...\n"
     ]
    },
    {
     "name": "stderr",
     "output_type": "stream",
     "text": [
      " 22%|██▏       | 22/100 [02:47<05:34,  4.28s/it]"
     ]
    },
    {
     "name": "stdout",
     "output_type": "stream",
     "text": [
      "Saving results to results/internvl/output_internvl.json...\n",
      "Results saved.\n",
      "\n",
      "Generating response for 22...\n"
     ]
    },
    {
     "name": "stderr",
     "output_type": "stream",
     "text": [
      " 23%|██▎       | 23/100 [02:59<08:27,  6.60s/it]"
     ]
    },
    {
     "name": "stdout",
     "output_type": "stream",
     "text": [
      "Saving results to results/internvl/output_internvl.json...\n",
      "Results saved.\n",
      "\n",
      "Generating response for 23...\n"
     ]
    },
    {
     "name": "stderr",
     "output_type": "stream",
     "text": [
      " 24%|██▍       | 24/100 [03:02<07:10,  5.67s/it]"
     ]
    },
    {
     "name": "stdout",
     "output_type": "stream",
     "text": [
      "Saving results to results/internvl/output_internvl.json...\n",
      "Results saved.\n",
      "\n",
      "Generating response for 24...\n"
     ]
    },
    {
     "name": "stderr",
     "output_type": "stream",
     "text": [
      " 25%|██▌       | 25/100 [03:13<08:50,  7.08s/it]"
     ]
    },
    {
     "name": "stdout",
     "output_type": "stream",
     "text": [
      "Saving results to results/internvl/output_internvl.json...\n",
      "Results saved.\n",
      "\n",
      "Generating response for 25...\n"
     ]
    },
    {
     "name": "stderr",
     "output_type": "stream",
     "text": [
      " 26%|██▌       | 26/100 [03:20<08:48,  7.14s/it]"
     ]
    },
    {
     "name": "stdout",
     "output_type": "stream",
     "text": [
      "Saving results to results/internvl/output_internvl.json...\n",
      "Results saved.\n",
      "\n",
      "Generating response for 26...\n"
     ]
    },
    {
     "name": "stderr",
     "output_type": "stream",
     "text": [
      " 27%|██▋       | 27/100 [03:22<06:42,  5.51s/it]"
     ]
    },
    {
     "name": "stdout",
     "output_type": "stream",
     "text": [
      "Saving results to results/internvl/output_internvl.json...\n",
      "Results saved.\n",
      "\n",
      "Generating response for 27...\n"
     ]
    },
    {
     "name": "stderr",
     "output_type": "stream",
     "text": [
      " 28%|██▊       | 28/100 [03:33<08:36,  7.17s/it]"
     ]
    },
    {
     "name": "stdout",
     "output_type": "stream",
     "text": [
      "Saving results to results/internvl/output_internvl.json...\n",
      "Results saved.\n",
      "\n",
      "Generating response for 28...\n"
     ]
    },
    {
     "name": "stderr",
     "output_type": "stream",
     "text": [
      " 29%|██▉       | 29/100 [03:37<07:28,  6.31s/it]"
     ]
    },
    {
     "name": "stdout",
     "output_type": "stream",
     "text": [
      "Saving results to results/internvl/output_internvl.json...\n",
      "Results saved.\n",
      "\n",
      "Generating response for 29...\n"
     ]
    },
    {
     "name": "stderr",
     "output_type": "stream",
     "text": [
      " 30%|███       | 30/100 [03:50<09:32,  8.18s/it]"
     ]
    },
    {
     "name": "stdout",
     "output_type": "stream",
     "text": [
      "Saving results to results/internvl/output_internvl.json...\n",
      "Results saved.\n",
      "\n",
      "Generating response for 30...\n"
     ]
    },
    {
     "name": "stderr",
     "output_type": "stream",
     "text": [
      " 31%|███       | 31/100 [03:55<08:30,  7.40s/it]"
     ]
    },
    {
     "name": "stdout",
     "output_type": "stream",
     "text": [
      "Saving results to results/internvl/output_internvl.json...\n",
      "Results saved.\n",
      "\n",
      "Generating response for 31...\n"
     ]
    },
    {
     "name": "stderr",
     "output_type": "stream",
     "text": [
      " 32%|███▏      | 32/100 [04:07<09:59,  8.81s/it]"
     ]
    },
    {
     "name": "stdout",
     "output_type": "stream",
     "text": [
      "Saving results to results/internvl/output_internvl.json...\n",
      "Results saved.\n",
      "\n",
      "Generating response for 32...\n"
     ]
    },
    {
     "name": "stderr",
     "output_type": "stream",
     "text": [
      " 33%|███▎      | 33/100 [04:17<10:05,  9.03s/it]"
     ]
    },
    {
     "name": "stdout",
     "output_type": "stream",
     "text": [
      "Saving results to results/internvl/output_internvl.json...\n",
      "Results saved.\n",
      "\n",
      "Generating response for 33...\n"
     ]
    },
    {
     "name": "stderr",
     "output_type": "stream",
     "text": [
      " 34%|███▍      | 34/100 [04:45<16:19, 14.85s/it]"
     ]
    },
    {
     "name": "stdout",
     "output_type": "stream",
     "text": [
      "Saving results to results/internvl/output_internvl.json...\n",
      "Results saved.\n",
      "\n",
      "Generating response for 34...\n"
     ]
    },
    {
     "name": "stderr",
     "output_type": "stream",
     "text": [
      " 35%|███▌      | 35/100 [05:02<16:40, 15.39s/it]"
     ]
    },
    {
     "name": "stdout",
     "output_type": "stream",
     "text": [
      "Saving results to results/internvl/output_internvl.json...\n",
      "Results saved.\n",
      "\n",
      "Generating response for 35...\n"
     ]
    },
    {
     "name": "stderr",
     "output_type": "stream",
     "text": [
      " 36%|███▌      | 36/100 [05:05<12:28, 11.69s/it]"
     ]
    },
    {
     "name": "stdout",
     "output_type": "stream",
     "text": [
      "Saving results to results/internvl/output_internvl.json...\n",
      "Results saved.\n",
      "\n",
      "Generating response for 36...\n"
     ]
    },
    {
     "name": "stderr",
     "output_type": "stream",
     "text": [
      " 37%|███▋      | 37/100 [05:14<11:31, 10.97s/it]"
     ]
    },
    {
     "name": "stdout",
     "output_type": "stream",
     "text": [
      "Saving results to results/internvl/output_internvl.json...\n",
      "Results saved.\n",
      "\n",
      "Generating response for 37...\n"
     ]
    },
    {
     "name": "stderr",
     "output_type": "stream",
     "text": [
      " 38%|███▊      | 38/100 [05:17<08:53,  8.61s/it]"
     ]
    },
    {
     "name": "stdout",
     "output_type": "stream",
     "text": [
      "Saving results to results/internvl/output_internvl.json...\n",
      "Results saved.\n",
      "\n",
      "Generating response for 38...\n"
     ]
    },
    {
     "name": "stderr",
     "output_type": "stream",
     "text": [
      " 39%|███▉      | 39/100 [05:31<10:18, 10.14s/it]"
     ]
    },
    {
     "name": "stdout",
     "output_type": "stream",
     "text": [
      "Saving results to results/internvl/output_internvl.json...\n",
      "Results saved.\n",
      "\n",
      "Generating response for 39...\n"
     ]
    },
    {
     "name": "stderr",
     "output_type": "stream",
     "text": [
      " 40%|████      | 40/100 [05:33<07:47,  7.79s/it]"
     ]
    },
    {
     "name": "stdout",
     "output_type": "stream",
     "text": [
      "Saving results to results/internvl/output_internvl.json...\n",
      "Results saved.\n",
      "\n",
      "Generating response for 40...\n"
     ]
    },
    {
     "name": "stderr",
     "output_type": "stream",
     "text": [
      " 41%|████      | 41/100 [05:36<06:04,  6.17s/it]"
     ]
    },
    {
     "name": "stdout",
     "output_type": "stream",
     "text": [
      "Saving results to results/internvl/output_internvl.json...\n",
      "Results saved.\n",
      "\n",
      "Generating response for 41...\n"
     ]
    },
    {
     "name": "stderr",
     "output_type": "stream",
     "text": [
      " 42%|████▏     | 42/100 [05:38<04:54,  5.08s/it]"
     ]
    },
    {
     "name": "stdout",
     "output_type": "stream",
     "text": [
      "Saving results to results/internvl/output_internvl.json...\n",
      "Results saved.\n",
      "\n",
      "Generating response for 42...\n"
     ]
    },
    {
     "name": "stderr",
     "output_type": "stream",
     "text": [
      " 43%|████▎     | 43/100 [05:51<07:03,  7.43s/it]"
     ]
    },
    {
     "name": "stdout",
     "output_type": "stream",
     "text": [
      "Saving results to results/internvl/output_internvl.json...\n",
      "Results saved.\n",
      "\n",
      "Generating response for 43...\n"
     ]
    },
    {
     "name": "stderr",
     "output_type": "stream",
     "text": [
      " 44%|████▍     | 44/100 [05:59<07:07,  7.64s/it]"
     ]
    },
    {
     "name": "stdout",
     "output_type": "stream",
     "text": [
      "Saving results to results/internvl/output_internvl.json...\n",
      "Results saved.\n",
      "\n",
      "Generating response for 44...\n"
     ]
    },
    {
     "name": "stderr",
     "output_type": "stream",
     "text": [
      " 45%|████▌     | 45/100 [06:07<07:08,  7.79s/it]"
     ]
    },
    {
     "name": "stdout",
     "output_type": "stream",
     "text": [
      "Saving results to results/internvl/output_internvl.json...\n",
      "Results saved.\n",
      "\n",
      "Generating response for 45...\n"
     ]
    },
    {
     "name": "stderr",
     "output_type": "stream",
     "text": [
      " 46%|████▌     | 46/100 [06:13<06:30,  7.22s/it]"
     ]
    },
    {
     "name": "stdout",
     "output_type": "stream",
     "text": [
      "Saving results to results/internvl/output_internvl.json...\n",
      "Results saved.\n",
      "\n",
      "Generating response for 46...\n"
     ]
    },
    {
     "name": "stderr",
     "output_type": "stream",
     "text": [
      " 47%|████▋     | 47/100 [06:20<06:15,  7.08s/it]"
     ]
    },
    {
     "name": "stdout",
     "output_type": "stream",
     "text": [
      "Saving results to results/internvl/output_internvl.json...\n",
      "Results saved.\n",
      "\n",
      "Generating response for 47...\n"
     ]
    },
    {
     "name": "stderr",
     "output_type": "stream",
     "text": [
      " 48%|████▊     | 48/100 [06:31<07:03,  8.14s/it]"
     ]
    },
    {
     "name": "stdout",
     "output_type": "stream",
     "text": [
      "Saving results to results/internvl/output_internvl.json...\n",
      "Results saved.\n",
      "\n",
      "Generating response for 48...\n"
     ]
    },
    {
     "name": "stderr",
     "output_type": "stream",
     "text": [
      " 49%|████▉     | 49/100 [06:34<05:37,  6.62s/it]"
     ]
    },
    {
     "name": "stdout",
     "output_type": "stream",
     "text": [
      "Saving results to results/internvl/output_internvl.json...\n",
      "Results saved.\n",
      "\n",
      "Generating response for 49...\n"
     ]
    },
    {
     "name": "stderr",
     "output_type": "stream",
     "text": [
      " 50%|█████     | 50/100 [06:49<07:47,  9.34s/it]"
     ]
    },
    {
     "name": "stdout",
     "output_type": "stream",
     "text": [
      "Saving results to results/internvl/output_internvl.json...\n",
      "Results saved.\n",
      "\n",
      "Generating response for 50...\n"
     ]
    },
    {
     "name": "stderr",
     "output_type": "stream",
     "text": [
      " 51%|█████     | 51/100 [06:58<07:25,  9.09s/it]"
     ]
    },
    {
     "name": "stdout",
     "output_type": "stream",
     "text": [
      "Saving results to results/internvl/output_internvl.json...\n",
      "Results saved.\n",
      "\n",
      "Generating response for 51...\n"
     ]
    },
    {
     "name": "stderr",
     "output_type": "stream",
     "text": [
      " 52%|█████▏    | 52/100 [07:00<05:37,  7.02s/it]"
     ]
    },
    {
     "name": "stdout",
     "output_type": "stream",
     "text": [
      "Saving results to results/internvl/output_internvl.json...\n",
      "Results saved.\n",
      "\n",
      "Generating response for 52...\n"
     ]
    },
    {
     "name": "stderr",
     "output_type": "stream",
     "text": [
      " 53%|█████▎    | 53/100 [07:03<04:34,  5.84s/it]"
     ]
    },
    {
     "name": "stdout",
     "output_type": "stream",
     "text": [
      "Saving results to results/internvl/output_internvl.json...\n",
      "Results saved.\n",
      "\n",
      "Generating response for 53...\n"
     ]
    },
    {
     "name": "stderr",
     "output_type": "stream",
     "text": [
      " 54%|█████▍    | 54/100 [07:13<05:26,  7.10s/it]"
     ]
    },
    {
     "name": "stdout",
     "output_type": "stream",
     "text": [
      "Saving results to results/internvl/output_internvl.json...\n",
      "Results saved.\n",
      "\n",
      "Generating response for 54...\n"
     ]
    },
    {
     "name": "stderr",
     "output_type": "stream",
     "text": [
      " 55%|█████▌    | 55/100 [07:31<07:45, 10.35s/it]"
     ]
    },
    {
     "name": "stdout",
     "output_type": "stream",
     "text": [
      "Saving results to results/internvl/output_internvl.json...\n",
      "Results saved.\n",
      "\n",
      "Generating response for 55...\n"
     ]
    },
    {
     "name": "stderr",
     "output_type": "stream",
     "text": [
      " 56%|█████▌    | 56/100 [07:37<06:34,  8.97s/it]"
     ]
    },
    {
     "name": "stdout",
     "output_type": "stream",
     "text": [
      "Saving results to results/internvl/output_internvl.json...\n",
      "Results saved.\n",
      "\n",
      "Generating response for 56...\n"
     ]
    },
    {
     "name": "stderr",
     "output_type": "stream",
     "text": [
      " 57%|█████▋    | 57/100 [07:42<05:35,  7.81s/it]"
     ]
    },
    {
     "name": "stdout",
     "output_type": "stream",
     "text": [
      "Saving results to results/internvl/output_internvl.json...\n",
      "Results saved.\n",
      "\n",
      "Generating response for 57...\n"
     ]
    },
    {
     "name": "stderr",
     "output_type": "stream",
     "text": [
      " 58%|█████▊    | 58/100 [07:48<05:04,  7.26s/it]"
     ]
    },
    {
     "name": "stdout",
     "output_type": "stream",
     "text": [
      "Saving results to results/internvl/output_internvl.json...\n",
      "Results saved.\n",
      "\n",
      "Generating response for 58...\n"
     ]
    },
    {
     "name": "stderr",
     "output_type": "stream",
     "text": [
      " 59%|█████▉    | 59/100 [08:07<07:23, 10.81s/it]"
     ]
    },
    {
     "name": "stdout",
     "output_type": "stream",
     "text": [
      "Saving results to results/internvl/output_internvl.json...\n",
      "Results saved.\n",
      "\n",
      "Generating response for 59...\n"
     ]
    },
    {
     "name": "stderr",
     "output_type": "stream",
     "text": [
      " 60%|██████    | 60/100 [08:11<05:54,  8.86s/it]"
     ]
    },
    {
     "name": "stdout",
     "output_type": "stream",
     "text": [
      "Saving results to results/internvl/output_internvl.json...\n",
      "Results saved.\n",
      "\n",
      "Generating response for 60...\n"
     ]
    },
    {
     "name": "stderr",
     "output_type": "stream",
     "text": [
      " 61%|██████    | 61/100 [08:17<05:02,  7.76s/it]"
     ]
    },
    {
     "name": "stdout",
     "output_type": "stream",
     "text": [
      "Saving results to results/internvl/output_internvl.json...\n",
      "Results saved.\n",
      "\n",
      "Generating response for 61...\n"
     ]
    },
    {
     "name": "stderr",
     "output_type": "stream",
     "text": [
      " 62%|██████▏   | 62/100 [08:31<06:12,  9.80s/it]"
     ]
    },
    {
     "name": "stdout",
     "output_type": "stream",
     "text": [
      "Saving results to results/internvl/output_internvl.json...\n",
      "Results saved.\n",
      "\n",
      "Generating response for 62...\n"
     ]
    },
    {
     "name": "stderr",
     "output_type": "stream",
     "text": [
      " 63%|██████▎   | 63/100 [08:34<04:39,  7.56s/it]"
     ]
    },
    {
     "name": "stdout",
     "output_type": "stream",
     "text": [
      "Saving results to results/internvl/output_internvl.json...\n",
      "Results saved.\n",
      "\n",
      "Generating response for 63...\n"
     ]
    },
    {
     "name": "stderr",
     "output_type": "stream",
     "text": [
      " 64%|██████▍   | 64/100 [08:47<05:32,  9.23s/it]"
     ]
    },
    {
     "name": "stdout",
     "output_type": "stream",
     "text": [
      "Saving results to results/internvl/output_internvl.json...\n",
      "Results saved.\n",
      "\n",
      "Generating response for 64...\n"
     ]
    },
    {
     "name": "stderr",
     "output_type": "stream",
     "text": [
      " 65%|██████▌   | 65/100 [08:55<05:14,  8.97s/it]"
     ]
    },
    {
     "name": "stdout",
     "output_type": "stream",
     "text": [
      "Saving results to results/internvl/output_internvl.json...\n",
      "Results saved.\n",
      "\n",
      "Generating response for 65...\n"
     ]
    },
    {
     "name": "stderr",
     "output_type": "stream",
     "text": [
      " 66%|██████▌   | 66/100 [09:01<04:33,  8.05s/it]"
     ]
    },
    {
     "name": "stdout",
     "output_type": "stream",
     "text": [
      "Saving results to results/internvl/output_internvl.json...\n",
      "Results saved.\n",
      "\n",
      "Generating response for 66...\n"
     ]
    },
    {
     "name": "stderr",
     "output_type": "stream",
     "text": [
      " 67%|██████▋   | 67/100 [09:04<03:37,  6.59s/it]"
     ]
    },
    {
     "name": "stdout",
     "output_type": "stream",
     "text": [
      "Saving results to results/internvl/output_internvl.json...\n",
      "Results saved.\n",
      "\n",
      "Generating response for 67...\n"
     ]
    },
    {
     "name": "stderr",
     "output_type": "stream",
     "text": [
      " 68%|██████▊   | 68/100 [09:19<04:51,  9.10s/it]"
     ]
    },
    {
     "name": "stdout",
     "output_type": "stream",
     "text": [
      "Saving results to results/internvl/output_internvl.json...\n",
      "Results saved.\n",
      "\n",
      "Generating response for 68...\n"
     ]
    },
    {
     "name": "stderr",
     "output_type": "stream",
     "text": [
      " 69%|██████▉   | 69/100 [09:21<03:40,  7.10s/it]"
     ]
    },
    {
     "name": "stdout",
     "output_type": "stream",
     "text": [
      "Saving results to results/internvl/output_internvl.json...\n",
      "Results saved.\n",
      "\n",
      "Generating response for 69...\n"
     ]
    },
    {
     "name": "stderr",
     "output_type": "stream",
     "text": [
      " 70%|███████   | 70/100 [09:24<02:54,  5.82s/it]"
     ]
    },
    {
     "name": "stdout",
     "output_type": "stream",
     "text": [
      "Saving results to results/internvl/output_internvl.json...\n",
      "Results saved.\n",
      "\n",
      "Generating response for 70...\n"
     ]
    },
    {
     "name": "stderr",
     "output_type": "stream",
     "text": [
      " 71%|███████   | 71/100 [09:30<02:46,  5.73s/it]"
     ]
    },
    {
     "name": "stdout",
     "output_type": "stream",
     "text": [
      "Saving results to results/internvl/output_internvl.json...\n",
      "Results saved.\n",
      "\n",
      "Generating response for 71...\n"
     ]
    },
    {
     "name": "stderr",
     "output_type": "stream",
     "text": [
      " 72%|███████▏  | 72/100 [09:37<02:53,  6.19s/it]"
     ]
    },
    {
     "name": "stdout",
     "output_type": "stream",
     "text": [
      "Saving results to results/internvl/output_internvl.json...\n",
      "Results saved.\n",
      "\n",
      "Generating response for 72...\n"
     ]
    },
    {
     "name": "stderr",
     "output_type": "stream",
     "text": [
      " 73%|███████▎  | 73/100 [09:48<03:27,  7.68s/it]"
     ]
    },
    {
     "name": "stdout",
     "output_type": "stream",
     "text": [
      "Saving results to results/internvl/output_internvl.json...\n",
      "Results saved.\n",
      "\n",
      "Generating response for 73...\n"
     ]
    },
    {
     "name": "stderr",
     "output_type": "stream",
     "text": [
      " 74%|███████▍  | 74/100 [09:54<03:03,  7.04s/it]"
     ]
    },
    {
     "name": "stdout",
     "output_type": "stream",
     "text": [
      "Saving results to results/internvl/output_internvl.json...\n",
      "Results saved.\n",
      "\n",
      "Generating response for 74...\n"
     ]
    },
    {
     "name": "stderr",
     "output_type": "stream",
     "text": [
      " 75%|███████▌  | 75/100 [09:57<02:30,  6.00s/it]"
     ]
    },
    {
     "name": "stdout",
     "output_type": "stream",
     "text": [
      "Saving results to results/internvl/output_internvl.json...\n",
      "Results saved.\n",
      "\n",
      "Generating response for 75...\n"
     ]
    },
    {
     "name": "stderr",
     "output_type": "stream",
     "text": [
      " 76%|███████▌  | 76/100 [10:06<02:40,  6.69s/it]"
     ]
    },
    {
     "name": "stdout",
     "output_type": "stream",
     "text": [
      "Saving results to results/internvl/output_internvl.json...\n",
      "Results saved.\n",
      "\n",
      "Generating response for 76...\n"
     ]
    },
    {
     "name": "stderr",
     "output_type": "stream",
     "text": [
      " 77%|███████▋  | 77/100 [10:12<02:30,  6.55s/it]"
     ]
    },
    {
     "name": "stdout",
     "output_type": "stream",
     "text": [
      "Saving results to results/internvl/output_internvl.json...\n",
      "Results saved.\n",
      "\n",
      "Generating response for 77...\n"
     ]
    },
    {
     "name": "stderr",
     "output_type": "stream",
     "text": [
      " 78%|███████▊  | 78/100 [10:22<02:45,  7.52s/it]"
     ]
    },
    {
     "name": "stdout",
     "output_type": "stream",
     "text": [
      "Saving results to results/internvl/output_internvl.json...\n",
      "Results saved.\n",
      "\n",
      "Generating response for 78...\n"
     ]
    },
    {
     "name": "stderr",
     "output_type": "stream",
     "text": [
      " 79%|███████▉  | 79/100 [10:34<03:09,  9.04s/it]"
     ]
    },
    {
     "name": "stdout",
     "output_type": "stream",
     "text": [
      "Saving results to results/internvl/output_internvl.json...\n",
      "Results saved.\n",
      "\n",
      "Generating response for 79...\n"
     ]
    },
    {
     "name": "stderr",
     "output_type": "stream",
     "text": [
      " 80%|████████  | 80/100 [10:44<03:06,  9.33s/it]"
     ]
    },
    {
     "name": "stdout",
     "output_type": "stream",
     "text": [
      "Saving results to results/internvl/output_internvl.json...\n",
      "Results saved.\n",
      "\n",
      "Generating response for 80...\n"
     ]
    },
    {
     "name": "stderr",
     "output_type": "stream",
     "text": [
      " 81%|████████  | 81/100 [10:55<03:03,  9.67s/it]"
     ]
    },
    {
     "name": "stdout",
     "output_type": "stream",
     "text": [
      "Saving results to results/internvl/output_internvl.json...\n",
      "Results saved.\n",
      "\n",
      "Generating response for 81...\n"
     ]
    },
    {
     "name": "stderr",
     "output_type": "stream",
     "text": [
      " 82%|████████▏ | 82/100 [11:08<03:14, 10.81s/it]"
     ]
    },
    {
     "name": "stdout",
     "output_type": "stream",
     "text": [
      "Saving results to results/internvl/output_internvl.json...\n",
      "Results saved.\n",
      "\n",
      "Generating response for 82...\n"
     ]
    },
    {
     "name": "stderr",
     "output_type": "stream",
     "text": [
      " 83%|████████▎ | 83/100 [11:13<02:31,  8.89s/it]"
     ]
    },
    {
     "name": "stdout",
     "output_type": "stream",
     "text": [
      "Saving results to results/internvl/output_internvl.json...\n",
      "Results saved.\n",
      "\n",
      "Generating response for 83...\n"
     ]
    },
    {
     "name": "stderr",
     "output_type": "stream",
     "text": [
      " 84%|████████▍ | 84/100 [11:28<02:53, 10.82s/it]"
     ]
    },
    {
     "name": "stdout",
     "output_type": "stream",
     "text": [
      "Saving results to results/internvl/output_internvl.json...\n",
      "Results saved.\n",
      "\n",
      "Generating response for 84...\n"
     ]
    },
    {
     "name": "stderr",
     "output_type": "stream",
     "text": [
      " 85%|████████▌ | 85/100 [11:33<02:16,  9.10s/it]"
     ]
    },
    {
     "name": "stdout",
     "output_type": "stream",
     "text": [
      "Saving results to results/internvl/output_internvl.json...\n",
      "Results saved.\n",
      "\n",
      "Generating response for 85...\n"
     ]
    },
    {
     "name": "stderr",
     "output_type": "stream",
     "text": [
      " 86%|████████▌ | 86/100 [11:53<02:53, 12.39s/it]"
     ]
    },
    {
     "name": "stdout",
     "output_type": "stream",
     "text": [
      "Saving results to results/internvl/output_internvl.json...\n",
      "Results saved.\n",
      "\n",
      "Generating response for 86...\n"
     ]
    },
    {
     "name": "stderr",
     "output_type": "stream",
     "text": [
      " 87%|████████▋ | 87/100 [12:04<02:35, 12.00s/it]"
     ]
    },
    {
     "name": "stdout",
     "output_type": "stream",
     "text": [
      "Saving results to results/internvl/output_internvl.json...\n",
      "Results saved.\n",
      "\n",
      "Generating response for 87...\n"
     ]
    },
    {
     "name": "stderr",
     "output_type": "stream",
     "text": [
      " 88%|████████▊ | 88/100 [12:17<02:26, 12.25s/it]"
     ]
    },
    {
     "name": "stdout",
     "output_type": "stream",
     "text": [
      "Saving results to results/internvl/output_internvl.json...\n",
      "Results saved.\n",
      "\n",
      "Generating response for 88...\n"
     ]
    },
    {
     "name": "stderr",
     "output_type": "stream",
     "text": [
      " 89%|████████▉ | 89/100 [12:19<01:41,  9.22s/it]"
     ]
    },
    {
     "name": "stdout",
     "output_type": "stream",
     "text": [
      "Saving results to results/internvl/output_internvl.json...\n",
      "Results saved.\n",
      "\n",
      "Generating response for 89...\n"
     ]
    },
    {
     "name": "stderr",
     "output_type": "stream",
     "text": [
      " 90%|█████████ | 90/100 [12:21<01:11,  7.15s/it]"
     ]
    },
    {
     "name": "stdout",
     "output_type": "stream",
     "text": [
      "Saving results to results/internvl/output_internvl.json...\n",
      "Results saved.\n",
      "\n",
      "Generating response for 90...\n"
     ]
    },
    {
     "name": "stderr",
     "output_type": "stream",
     "text": [
      " 91%|█████████ | 91/100 [12:26<00:58,  6.46s/it]"
     ]
    },
    {
     "name": "stdout",
     "output_type": "stream",
     "text": [
      "Saving results to results/internvl/output_internvl.json...\n",
      "Results saved.\n",
      "\n",
      "Generating response for 91...\n"
     ]
    },
    {
     "name": "stderr",
     "output_type": "stream",
     "text": [
      " 92%|█████████▏| 92/100 [12:30<00:45,  5.64s/it]"
     ]
    },
    {
     "name": "stdout",
     "output_type": "stream",
     "text": [
      "Saving results to results/internvl/output_internvl.json...\n",
      "Results saved.\n",
      "\n",
      "Generating response for 92...\n"
     ]
    },
    {
     "name": "stderr",
     "output_type": "stream",
     "text": [
      " 93%|█████████▎| 93/100 [12:35<00:38,  5.52s/it]"
     ]
    },
    {
     "name": "stdout",
     "output_type": "stream",
     "text": [
      "Saving results to results/internvl/output_internvl.json...\n",
      "Results saved.\n",
      "\n",
      "Generating response for 93...\n"
     ]
    },
    {
     "name": "stderr",
     "output_type": "stream",
     "text": [
      " 94%|█████████▍| 94/100 [12:52<00:53,  8.87s/it]"
     ]
    },
    {
     "name": "stdout",
     "output_type": "stream",
     "text": [
      "Saving results to results/internvl/output_internvl.json...\n",
      "Results saved.\n",
      "\n",
      "Generating response for 94...\n"
     ]
    },
    {
     "name": "stderr",
     "output_type": "stream",
     "text": [
      " 95%|█████████▌| 95/100 [13:07<00:53, 10.62s/it]"
     ]
    },
    {
     "name": "stdout",
     "output_type": "stream",
     "text": [
      "Saving results to results/internvl/output_internvl.json...\n",
      "Results saved.\n",
      "\n",
      "Generating response for 95...\n"
     ]
    },
    {
     "name": "stderr",
     "output_type": "stream",
     "text": [
      " 96%|█████████▌| 96/100 [13:12<00:35,  8.95s/it]"
     ]
    },
    {
     "name": "stdout",
     "output_type": "stream",
     "text": [
      "Saving results to results/internvl/output_internvl.json...\n",
      "Results saved.\n",
      "\n",
      "Generating response for 96...\n"
     ]
    },
    {
     "name": "stderr",
     "output_type": "stream",
     "text": [
      " 97%|█████████▋| 97/100 [13:15<00:21,  7.11s/it]"
     ]
    },
    {
     "name": "stdout",
     "output_type": "stream",
     "text": [
      "Saving results to results/internvl/output_internvl.json...\n",
      "Results saved.\n",
      "\n",
      "Generating response for 97...\n"
     ]
    },
    {
     "name": "stderr",
     "output_type": "stream",
     "text": [
      " 98%|█████████▊| 98/100 [13:18<00:12,  6.15s/it]"
     ]
    },
    {
     "name": "stdout",
     "output_type": "stream",
     "text": [
      "Saving results to results/internvl/output_internvl.json...\n",
      "Results saved.\n",
      "\n",
      "Generating response for 98...\n"
     ]
    },
    {
     "name": "stderr",
     "output_type": "stream",
     "text": [
      " 99%|█████████▉| 99/100 [13:21<00:05,  5.17s/it]"
     ]
    },
    {
     "name": "stdout",
     "output_type": "stream",
     "text": [
      "Saving results to results/internvl/output_internvl.json...\n",
      "Results saved.\n",
      "\n",
      "Generating response for 99...\n"
     ]
    },
    {
     "name": "stderr",
     "output_type": "stream",
     "text": [
      "100%|██████████| 100/100 [13:28<00:00,  8.09s/it]\n"
     ]
    },
    {
     "name": "stdout",
     "output_type": "stream",
     "text": [
      "Saving results to results/internvl/output_internvl.json...\n",
      "Results saved.\n"
     ]
    },
    {
     "name": "stderr",
     "output_type": "stream",
     "text": [
      "  0%|          | 0/100 [00:00<?, ?it/s]"
     ]
    },
    {
     "name": "stdout",
     "output_type": "stream",
     "text": [
      "\n",
      "Generating response for 0...\n"
     ]
    },
    {
     "name": "stderr",
     "output_type": "stream",
     "text": [
      "  1%|          | 1/100 [00:28<46:31, 28.20s/it]"
     ]
    },
    {
     "name": "stdout",
     "output_type": "stream",
     "text": [
      "Saving results to results/internvl/output_internvl.json...\n",
      "Results saved.\n",
      "\n",
      "Generating response for 1...\n"
     ]
    },
    {
     "name": "stderr",
     "output_type": "stream",
     "text": [
      "  2%|▏         | 2/100 [00:30<21:31, 13.18s/it]"
     ]
    },
    {
     "name": "stdout",
     "output_type": "stream",
     "text": [
      "Saving results to results/internvl/output_internvl.json...\n",
      "Results saved.\n",
      "\n",
      "Generating response for 2...\n"
     ]
    },
    {
     "name": "stderr",
     "output_type": "stream",
     "text": [
      "  3%|▎         | 3/100 [00:53<28:26, 17.59s/it]"
     ]
    },
    {
     "name": "stdout",
     "output_type": "stream",
     "text": [
      "Saving results to results/internvl/output_internvl.json...\n",
      "Results saved.\n",
      "\n",
      "Generating response for 3...\n"
     ]
    },
    {
     "name": "stderr",
     "output_type": "stream",
     "text": [
      "  4%|▍         | 4/100 [00:56<18:39, 11.66s/it]"
     ]
    },
    {
     "name": "stdout",
     "output_type": "stream",
     "text": [
      "Saving results to results/internvl/output_internvl.json...\n",
      "Results saved.\n",
      "\n",
      "Generating response for 4...\n"
     ]
    },
    {
     "name": "stderr",
     "output_type": "stream",
     "text": [
      "  5%|▌         | 5/100 [01:15<22:36, 14.28s/it]"
     ]
    },
    {
     "name": "stdout",
     "output_type": "stream",
     "text": [
      "Saving results to results/internvl/output_internvl.json...\n",
      "Results saved.\n",
      "\n",
      "Generating response for 5...\n"
     ]
    },
    {
     "name": "stderr",
     "output_type": "stream",
     "text": [
      "  6%|▌         | 6/100 [01:27<21:08, 13.49s/it]"
     ]
    },
    {
     "name": "stdout",
     "output_type": "stream",
     "text": [
      "Saving results to results/internvl/output_internvl.json...\n",
      "Results saved.\n",
      "\n",
      "Generating response for 6...\n"
     ]
    },
    {
     "name": "stderr",
     "output_type": "stream",
     "text": [
      "  7%|▋         | 7/100 [01:30<15:43, 10.15s/it]"
     ]
    },
    {
     "name": "stdout",
     "output_type": "stream",
     "text": [
      "Saving results to results/internvl/output_internvl.json...\n",
      "Results saved.\n",
      "\n",
      "Generating response for 7...\n"
     ]
    },
    {
     "name": "stderr",
     "output_type": "stream",
     "text": [
      "  8%|▊         | 8/100 [01:38<14:36,  9.52s/it]"
     ]
    },
    {
     "name": "stdout",
     "output_type": "stream",
     "text": [
      "Saving results to results/internvl/output_internvl.json...\n",
      "Results saved.\n",
      "\n",
      "Generating response for 8...\n"
     ]
    },
    {
     "name": "stderr",
     "output_type": "stream",
     "text": [
      "  9%|▉         | 9/100 [01:50<15:47, 10.41s/it]"
     ]
    },
    {
     "name": "stdout",
     "output_type": "stream",
     "text": [
      "Saving results to results/internvl/output_internvl.json...\n",
      "Results saved.\n",
      "\n",
      "Generating response for 9...\n"
     ]
    },
    {
     "name": "stderr",
     "output_type": "stream",
     "text": [
      " 10%|█         | 10/100 [02:24<26:08, 17.43s/it]"
     ]
    },
    {
     "name": "stdout",
     "output_type": "stream",
     "text": [
      "Saving results to results/internvl/output_internvl.json...\n",
      "Results saved.\n",
      "\n",
      "Generating response for 10...\n"
     ]
    },
    {
     "name": "stderr",
     "output_type": "stream",
     "text": [
      " 11%|█         | 11/100 [02:25<18:47, 12.67s/it]"
     ]
    },
    {
     "name": "stdout",
     "output_type": "stream",
     "text": [
      "Saving results to results/internvl/output_internvl.json...\n",
      "Results saved.\n",
      "\n",
      "Generating response for 11...\n"
     ]
    },
    {
     "name": "stderr",
     "output_type": "stream",
     "text": [
      " 12%|█▏        | 12/100 [02:28<14:07,  9.63s/it]"
     ]
    },
    {
     "name": "stdout",
     "output_type": "stream",
     "text": [
      "Saving results to results/internvl/output_internvl.json...\n",
      "Results saved.\n",
      "\n",
      "Generating response for 12...\n"
     ]
    },
    {
     "name": "stderr",
     "output_type": "stream",
     "text": [
      " 13%|█▎        | 13/100 [02:32<11:30,  7.93s/it]"
     ]
    },
    {
     "name": "stdout",
     "output_type": "stream",
     "text": [
      "Saving results to results/internvl/output_internvl.json...\n",
      "Results saved.\n",
      "\n",
      "Generating response for 13...\n"
     ]
    },
    {
     "name": "stderr",
     "output_type": "stream",
     "text": [
      " 14%|█▍        | 14/100 [02:41<11:38,  8.12s/it]"
     ]
    },
    {
     "name": "stdout",
     "output_type": "stream",
     "text": [
      "Saving results to results/internvl/output_internvl.json...\n",
      "Results saved.\n",
      "\n",
      "Generating response for 14...\n"
     ]
    },
    {
     "name": "stderr",
     "output_type": "stream",
     "text": [
      " 15%|█▌        | 15/100 [02:50<12:01,  8.48s/it]"
     ]
    },
    {
     "name": "stdout",
     "output_type": "stream",
     "text": [
      "Saving results to results/internvl/output_internvl.json...\n",
      "Results saved.\n",
      "\n",
      "Generating response for 15...\n"
     ]
    },
    {
     "name": "stderr",
     "output_type": "stream",
     "text": [
      " 16%|█▌        | 16/100 [02:56<10:48,  7.72s/it]"
     ]
    },
    {
     "name": "stdout",
     "output_type": "stream",
     "text": [
      "Saving results to results/internvl/output_internvl.json...\n",
      "Results saved.\n",
      "\n",
      "Generating response for 16...\n"
     ]
    },
    {
     "name": "stderr",
     "output_type": "stream",
     "text": [
      " 17%|█▋        | 17/100 [03:09<12:41,  9.17s/it]"
     ]
    },
    {
     "name": "stdout",
     "output_type": "stream",
     "text": [
      "Saving results to results/internvl/output_internvl.json...\n",
      "Results saved.\n",
      "\n",
      "Generating response for 17...\n"
     ]
    },
    {
     "name": "stderr",
     "output_type": "stream",
     "text": [
      " 18%|█▊        | 18/100 [03:12<10:14,  7.49s/it]"
     ]
    },
    {
     "name": "stdout",
     "output_type": "stream",
     "text": [
      "Saving results to results/internvl/output_internvl.json...\n",
      "Results saved.\n",
      "\n",
      "Generating response for 18...\n"
     ]
    },
    {
     "name": "stderr",
     "output_type": "stream",
     "text": [
      " 19%|█▉        | 19/100 [03:14<07:56,  5.88s/it]"
     ]
    },
    {
     "name": "stdout",
     "output_type": "stream",
     "text": [
      "Saving results to results/internvl/output_internvl.json...\n",
      "Results saved.\n",
      "\n",
      "Generating response for 19...\n"
     ]
    },
    {
     "name": "stderr",
     "output_type": "stream",
     "text": [
      " 20%|██        | 20/100 [03:20<07:51,  5.90s/it]"
     ]
    },
    {
     "name": "stdout",
     "output_type": "stream",
     "text": [
      "Saving results to results/internvl/output_internvl.json...\n",
      "Results saved.\n",
      "\n",
      "Generating response for 20...\n"
     ]
    },
    {
     "name": "stderr",
     "output_type": "stream",
     "text": [
      " 21%|██        | 21/100 [03:21<05:53,  4.48s/it]"
     ]
    },
    {
     "name": "stdout",
     "output_type": "stream",
     "text": [
      "Saving results to results/internvl/output_internvl.json...\n",
      "Results saved.\n",
      "\n",
      "Generating response for 21...\n"
     ]
    },
    {
     "name": "stderr",
     "output_type": "stream",
     "text": [
      " 22%|██▏       | 22/100 [03:24<05:12,  4.01s/it]"
     ]
    },
    {
     "name": "stdout",
     "output_type": "stream",
     "text": [
      "Saving results to results/internvl/output_internvl.json...\n",
      "Results saved.\n",
      "\n",
      "Generating response for 22...\n"
     ]
    },
    {
     "name": "stderr",
     "output_type": "stream",
     "text": [
      " 23%|██▎       | 23/100 [03:36<08:07,  6.33s/it]"
     ]
    },
    {
     "name": "stdout",
     "output_type": "stream",
     "text": [
      "Saving results to results/internvl/output_internvl.json...\n",
      "Results saved.\n",
      "\n",
      "Generating response for 23...\n"
     ]
    },
    {
     "name": "stderr",
     "output_type": "stream",
     "text": [
      " 24%|██▍       | 24/100 [03:40<07:13,  5.71s/it]"
     ]
    },
    {
     "name": "stdout",
     "output_type": "stream",
     "text": [
      "Saving results to results/internvl/output_internvl.json...\n",
      "Results saved.\n",
      "\n",
      "Generating response for 24...\n"
     ]
    },
    {
     "name": "stderr",
     "output_type": "stream",
     "text": [
      " 25%|██▌       | 25/100 [03:46<07:02,  5.63s/it]"
     ]
    },
    {
     "name": "stdout",
     "output_type": "stream",
     "text": [
      "Saving results to results/internvl/output_internvl.json...\n",
      "Results saved.\n",
      "\n",
      "Generating response for 25...\n"
     ]
    },
    {
     "name": "stderr",
     "output_type": "stream",
     "text": [
      " 26%|██▌       | 26/100 [03:53<07:29,  6.07s/it]"
     ]
    },
    {
     "name": "stdout",
     "output_type": "stream",
     "text": [
      "Saving results to results/internvl/output_internvl.json...\n",
      "Results saved.\n",
      "\n",
      "Generating response for 26...\n"
     ]
    },
    {
     "name": "stderr",
     "output_type": "stream",
     "text": [
      " 27%|██▋       | 27/100 [03:55<06:02,  4.96s/it]"
     ]
    },
    {
     "name": "stdout",
     "output_type": "stream",
     "text": [
      "Saving results to results/internvl/output_internvl.json...\n",
      "Results saved.\n",
      "\n",
      "Generating response for 27...\n"
     ]
    },
    {
     "name": "stderr",
     "output_type": "stream",
     "text": [
      " 28%|██▊       | 28/100 [04:07<08:34,  7.14s/it]"
     ]
    },
    {
     "name": "stdout",
     "output_type": "stream",
     "text": [
      "Saving results to results/internvl/output_internvl.json...\n",
      "Results saved.\n",
      "\n",
      "Generating response for 28...\n"
     ]
    },
    {
     "name": "stderr",
     "output_type": "stream",
     "text": [
      " 29%|██▉       | 29/100 [04:11<07:11,  6.08s/it]"
     ]
    },
    {
     "name": "stdout",
     "output_type": "stream",
     "text": [
      "Saving results to results/internvl/output_internvl.json...\n",
      "Results saved.\n",
      "\n",
      "Generating response for 29...\n"
     ]
    },
    {
     "name": "stderr",
     "output_type": "stream",
     "text": [
      " 30%|███       | 30/100 [04:24<09:22,  8.03s/it]"
     ]
    },
    {
     "name": "stdout",
     "output_type": "stream",
     "text": [
      "Saving results to results/internvl/output_internvl.json...\n",
      "Results saved.\n",
      "\n",
      "Generating response for 30...\n"
     ]
    },
    {
     "name": "stderr",
     "output_type": "stream",
     "text": [
      " 31%|███       | 31/100 [04:30<08:46,  7.62s/it]"
     ]
    },
    {
     "name": "stdout",
     "output_type": "stream",
     "text": [
      "Saving results to results/internvl/output_internvl.json...\n",
      "Results saved.\n",
      "\n",
      "Generating response for 31...\n"
     ]
    },
    {
     "name": "stderr",
     "output_type": "stream",
     "text": [
      " 32%|███▏      | 32/100 [04:41<09:41,  8.55s/it]"
     ]
    },
    {
     "name": "stdout",
     "output_type": "stream",
     "text": [
      "Saving results to results/internvl/output_internvl.json...\n",
      "Results saved.\n",
      "\n",
      "Generating response for 32...\n"
     ]
    },
    {
     "name": "stderr",
     "output_type": "stream",
     "text": [
      " 33%|███▎      | 33/100 [04:51<10:07,  9.06s/it]"
     ]
    },
    {
     "name": "stdout",
     "output_type": "stream",
     "text": [
      "Saving results to results/internvl/output_internvl.json...\n",
      "Results saved.\n",
      "\n",
      "Generating response for 33...\n"
     ]
    },
    {
     "name": "stderr",
     "output_type": "stream",
     "text": [
      " 34%|███▍      | 34/100 [05:20<16:26, 14.94s/it]"
     ]
    },
    {
     "name": "stdout",
     "output_type": "stream",
     "text": [
      "Saving results to results/internvl/output_internvl.json...\n",
      "Results saved.\n",
      "\n",
      "Generating response for 34...\n"
     ]
    },
    {
     "name": "stderr",
     "output_type": "stream",
     "text": [
      " 35%|███▌      | 35/100 [05:41<18:02, 16.65s/it]"
     ]
    },
    {
     "name": "stdout",
     "output_type": "stream",
     "text": [
      "Saving results to results/internvl/output_internvl.json...\n",
      "Results saved.\n",
      "\n",
      "Generating response for 35...\n"
     ]
    },
    {
     "name": "stderr",
     "output_type": "stream",
     "text": [
      " 36%|███▌      | 36/100 [05:42<13:02, 12.23s/it]"
     ]
    },
    {
     "name": "stdout",
     "output_type": "stream",
     "text": [
      "Saving results to results/internvl/output_internvl.json...\n",
      "Results saved.\n",
      "\n",
      "Generating response for 36...\n"
     ]
    },
    {
     "name": "stderr",
     "output_type": "stream",
     "text": [
      " 37%|███▋      | 37/100 [05:50<11:28, 10.92s/it]"
     ]
    },
    {
     "name": "stdout",
     "output_type": "stream",
     "text": [
      "Saving results to results/internvl/output_internvl.json...\n",
      "Results saved.\n",
      "\n",
      "Generating response for 37...\n"
     ]
    },
    {
     "name": "stderr",
     "output_type": "stream",
     "text": [
      " 38%|███▊      | 38/100 [05:53<08:48,  8.52s/it]"
     ]
    },
    {
     "name": "stdout",
     "output_type": "stream",
     "text": [
      "Saving results to results/internvl/output_internvl.json...\n",
      "Results saved.\n",
      "\n",
      "Generating response for 38...\n"
     ]
    },
    {
     "name": "stderr",
     "output_type": "stream",
     "text": [
      " 39%|███▉      | 39/100 [06:09<10:47, 10.61s/it]"
     ]
    },
    {
     "name": "stdout",
     "output_type": "stream",
     "text": [
      "Saving results to results/internvl/output_internvl.json...\n",
      "Results saved.\n",
      "\n",
      "Generating response for 39...\n"
     ]
    },
    {
     "name": "stderr",
     "output_type": "stream",
     "text": [
      " 40%|████      | 40/100 [06:11<08:06,  8.11s/it]"
     ]
    },
    {
     "name": "stdout",
     "output_type": "stream",
     "text": [
      "Saving results to results/internvl/output_internvl.json...\n",
      "Results saved.\n",
      "\n",
      "Generating response for 40...\n"
     ]
    },
    {
     "name": "stderr",
     "output_type": "stream",
     "text": [
      " 41%|████      | 41/100 [06:13<06:03,  6.16s/it]"
     ]
    },
    {
     "name": "stdout",
     "output_type": "stream",
     "text": [
      "Saving results to results/internvl/output_internvl.json...\n",
      "Results saved.\n",
      "\n",
      "Generating response for 41...\n"
     ]
    },
    {
     "name": "stderr",
     "output_type": "stream",
     "text": [
      " 42%|████▏     | 42/100 [06:15<04:44,  4.90s/it]"
     ]
    },
    {
     "name": "stdout",
     "output_type": "stream",
     "text": [
      "Saving results to results/internvl/output_internvl.json...\n",
      "Results saved.\n",
      "\n",
      "Generating response for 42...\n"
     ]
    },
    {
     "name": "stderr",
     "output_type": "stream",
     "text": [
      " 43%|████▎     | 43/100 [06:29<07:14,  7.62s/it]"
     ]
    },
    {
     "name": "stdout",
     "output_type": "stream",
     "text": [
      "Saving results to results/internvl/output_internvl.json...\n",
      "Results saved.\n",
      "\n",
      "Generating response for 43...\n"
     ]
    },
    {
     "name": "stderr",
     "output_type": "stream",
     "text": [
      " 44%|████▍     | 44/100 [06:37<07:26,  7.97s/it]"
     ]
    },
    {
     "name": "stdout",
     "output_type": "stream",
     "text": [
      "Saving results to results/internvl/output_internvl.json...\n",
      "Results saved.\n",
      "\n",
      "Generating response for 44...\n"
     ]
    },
    {
     "name": "stderr",
     "output_type": "stream",
     "text": [
      " 45%|████▌     | 45/100 [06:46<07:31,  8.20s/it]"
     ]
    },
    {
     "name": "stdout",
     "output_type": "stream",
     "text": [
      "Saving results to results/internvl/output_internvl.json...\n",
      "Results saved.\n",
      "\n",
      "Generating response for 45...\n"
     ]
    },
    {
     "name": "stderr",
     "output_type": "stream",
     "text": [
      " 46%|████▌     | 46/100 [06:51<06:32,  7.27s/it]"
     ]
    },
    {
     "name": "stdout",
     "output_type": "stream",
     "text": [
      "Saving results to results/internvl/output_internvl.json...\n",
      "Results saved.\n",
      "\n",
      "Generating response for 46...\n"
     ]
    },
    {
     "name": "stderr",
     "output_type": "stream",
     "text": [
      " 47%|████▋     | 47/100 [06:53<05:01,  5.69s/it]"
     ]
    },
    {
     "name": "stdout",
     "output_type": "stream",
     "text": [
      "Saving results to results/internvl/output_internvl.json...\n",
      "Results saved.\n",
      "\n",
      "Generating response for 47...\n"
     ]
    },
    {
     "name": "stderr",
     "output_type": "stream",
     "text": [
      " 48%|████▊     | 48/100 [07:14<08:43, 10.07s/it]"
     ]
    },
    {
     "name": "stdout",
     "output_type": "stream",
     "text": [
      "Saving results to results/internvl/output_internvl.json...\n",
      "Results saved.\n",
      "\n",
      "Generating response for 48...\n"
     ]
    },
    {
     "name": "stderr",
     "output_type": "stream",
     "text": [
      " 49%|████▉     | 49/100 [07:18<07:02,  8.28s/it]"
     ]
    },
    {
     "name": "stdout",
     "output_type": "stream",
     "text": [
      "Saving results to results/internvl/output_internvl.json...\n",
      "Results saved.\n",
      "\n",
      "Generating response for 49...\n"
     ]
    },
    {
     "name": "stderr",
     "output_type": "stream",
     "text": [
      " 50%|█████     | 50/100 [07:26<06:57,  8.36s/it]"
     ]
    },
    {
     "name": "stdout",
     "output_type": "stream",
     "text": [
      "Saving results to results/internvl/output_internvl.json...\n",
      "Results saved.\n",
      "\n",
      "Generating response for 50...\n"
     ]
    },
    {
     "name": "stderr",
     "output_type": "stream",
     "text": [
      " 51%|█████     | 51/100 [07:32<06:11,  7.58s/it]"
     ]
    },
    {
     "name": "stdout",
     "output_type": "stream",
     "text": [
      "Saving results to results/internvl/output_internvl.json...\n",
      "Results saved.\n",
      "\n",
      "Generating response for 51...\n"
     ]
    },
    {
     "name": "stderr",
     "output_type": "stream",
     "text": [
      " 52%|█████▏    | 52/100 [07:34<04:39,  5.82s/it]"
     ]
    },
    {
     "name": "stdout",
     "output_type": "stream",
     "text": [
      "Saving results to results/internvl/output_internvl.json...\n",
      "Results saved.\n",
      "\n",
      "Generating response for 52...\n"
     ]
    },
    {
     "name": "stderr",
     "output_type": "stream",
     "text": [
      " 53%|█████▎    | 53/100 [07:37<04:01,  5.13s/it]"
     ]
    },
    {
     "name": "stdout",
     "output_type": "stream",
     "text": [
      "Saving results to results/internvl/output_internvl.json...\n",
      "Results saved.\n",
      "\n",
      "Generating response for 53...\n"
     ]
    },
    {
     "name": "stderr",
     "output_type": "stream",
     "text": [
      " 54%|█████▍    | 54/100 [07:47<04:54,  6.41s/it]"
     ]
    },
    {
     "name": "stdout",
     "output_type": "stream",
     "text": [
      "Saving results to results/internvl/output_internvl.json...\n",
      "Results saved.\n",
      "\n",
      "Generating response for 54...\n"
     ]
    },
    {
     "name": "stderr",
     "output_type": "stream",
     "text": [
      " 55%|█████▌    | 55/100 [08:04<07:15,  9.69s/it]"
     ]
    },
    {
     "name": "stdout",
     "output_type": "stream",
     "text": [
      "Saving results to results/internvl/output_internvl.json...\n",
      "Results saved.\n",
      "\n",
      "Generating response for 55...\n"
     ]
    },
    {
     "name": "stderr",
     "output_type": "stream",
     "text": [
      " 56%|█████▌    | 56/100 [08:11<06:27,  8.80s/it]"
     ]
    },
    {
     "name": "stdout",
     "output_type": "stream",
     "text": [
      "Saving results to results/internvl/output_internvl.json...\n",
      "Results saved.\n",
      "\n",
      "Generating response for 56...\n"
     ]
    },
    {
     "name": "stderr",
     "output_type": "stream",
     "text": [
      " 57%|█████▋    | 57/100 [08:13<04:57,  6.91s/it]"
     ]
    },
    {
     "name": "stdout",
     "output_type": "stream",
     "text": [
      "Saving results to results/internvl/output_internvl.json...\n",
      "Results saved.\n",
      "\n",
      "Generating response for 57...\n"
     ]
    },
    {
     "name": "stderr",
     "output_type": "stream",
     "text": [
      " 58%|█████▊    | 58/100 [08:26<06:05,  8.69s/it]"
     ]
    },
    {
     "name": "stdout",
     "output_type": "stream",
     "text": [
      "Saving results to results/internvl/output_internvl.json...\n",
      "Results saved.\n",
      "\n",
      "Generating response for 58...\n"
     ]
    },
    {
     "name": "stderr",
     "output_type": "stream",
     "text": [
      " 59%|█████▉    | 59/100 [08:43<07:41, 11.26s/it]"
     ]
    },
    {
     "name": "stdout",
     "output_type": "stream",
     "text": [
      "Saving results to results/internvl/output_internvl.json...\n",
      "Results saved.\n",
      "\n",
      "Generating response for 59...\n"
     ]
    },
    {
     "name": "stderr",
     "output_type": "stream",
     "text": [
      " 60%|██████    | 60/100 [08:47<06:06,  9.16s/it]"
     ]
    },
    {
     "name": "stdout",
     "output_type": "stream",
     "text": [
      "Saving results to results/internvl/output_internvl.json...\n",
      "Results saved.\n",
      "\n",
      "Generating response for 60...\n"
     ]
    },
    {
     "name": "stderr",
     "output_type": "stream",
     "text": [
      " 61%|██████    | 61/100 [08:54<05:27,  8.39s/it]"
     ]
    },
    {
     "name": "stdout",
     "output_type": "stream",
     "text": [
      "Saving results to results/internvl/output_internvl.json...\n",
      "Results saved.\n",
      "\n",
      "Generating response for 61...\n"
     ]
    },
    {
     "name": "stderr",
     "output_type": "stream",
     "text": [
      " 62%|██████▏   | 62/100 [09:13<07:15, 11.46s/it]"
     ]
    },
    {
     "name": "stdout",
     "output_type": "stream",
     "text": [
      "Saving results to results/internvl/output_internvl.json...\n",
      "Results saved.\n",
      "\n",
      "Generating response for 62...\n"
     ]
    },
    {
     "name": "stderr",
     "output_type": "stream",
     "text": [
      " 63%|██████▎   | 63/100 [09:15<05:24,  8.76s/it]"
     ]
    },
    {
     "name": "stdout",
     "output_type": "stream",
     "text": [
      "Saving results to results/internvl/output_internvl.json...\n",
      "Results saved.\n",
      "\n",
      "Generating response for 63...\n"
     ]
    },
    {
     "name": "stderr",
     "output_type": "stream",
     "text": [
      " 64%|██████▍   | 64/100 [09:29<06:12, 10.33s/it]"
     ]
    },
    {
     "name": "stdout",
     "output_type": "stream",
     "text": [
      "Saving results to results/internvl/output_internvl.json...\n",
      "Results saved.\n",
      "\n",
      "Generating response for 64...\n"
     ]
    },
    {
     "name": "stderr",
     "output_type": "stream",
     "text": [
      " 65%|██████▌   | 65/100 [09:51<08:02, 13.78s/it]"
     ]
    },
    {
     "name": "stdout",
     "output_type": "stream",
     "text": [
      "Saving results to results/internvl/output_internvl.json...\n",
      "Results saved.\n",
      "\n",
      "Generating response for 65...\n"
     ]
    },
    {
     "name": "stderr",
     "output_type": "stream",
     "text": [
      " 66%|██████▌   | 66/100 [09:54<06:01, 10.64s/it]"
     ]
    },
    {
     "name": "stdout",
     "output_type": "stream",
     "text": [
      "Saving results to results/internvl/output_internvl.json...\n",
      "Results saved.\n",
      "\n",
      "Generating response for 66...\n"
     ]
    },
    {
     "name": "stderr",
     "output_type": "stream",
     "text": [
      " 67%|██████▋   | 67/100 [09:58<04:40,  8.49s/it]"
     ]
    },
    {
     "name": "stdout",
     "output_type": "stream",
     "text": [
      "Saving results to results/internvl/output_internvl.json...\n",
      "Results saved.\n",
      "\n",
      "Generating response for 67...\n"
     ]
    },
    {
     "name": "stderr",
     "output_type": "stream",
     "text": [
      " 68%|██████▊   | 68/100 [10:17<06:18, 11.83s/it]"
     ]
    },
    {
     "name": "stdout",
     "output_type": "stream",
     "text": [
      "Saving results to results/internvl/output_internvl.json...\n",
      "Results saved.\n",
      "\n",
      "Generating response for 68...\n"
     ]
    },
    {
     "name": "stderr",
     "output_type": "stream",
     "text": [
      " 69%|██████▉   | 69/100 [10:21<04:52,  9.43s/it]"
     ]
    },
    {
     "name": "stdout",
     "output_type": "stream",
     "text": [
      "Saving results to results/internvl/output_internvl.json...\n",
      "Results saved.\n",
      "\n",
      "Generating response for 69...\n"
     ]
    },
    {
     "name": "stderr",
     "output_type": "stream",
     "text": [
      " 70%|███████   | 70/100 [10:24<03:44,  7.49s/it]"
     ]
    },
    {
     "name": "stdout",
     "output_type": "stream",
     "text": [
      "Saving results to results/internvl/output_internvl.json...\n",
      "Results saved.\n",
      "\n",
      "Generating response for 70...\n"
     ]
    },
    {
     "name": "stderr",
     "output_type": "stream",
     "text": [
      " 71%|███████   | 71/100 [10:30<03:20,  6.92s/it]"
     ]
    },
    {
     "name": "stdout",
     "output_type": "stream",
     "text": [
      "Saving results to results/internvl/output_internvl.json...\n",
      "Results saved.\n",
      "\n",
      "Generating response for 71...\n"
     ]
    },
    {
     "name": "stderr",
     "output_type": "stream",
     "text": [
      " 72%|███████▏  | 72/100 [10:36<03:09,  6.76s/it]"
     ]
    },
    {
     "name": "stdout",
     "output_type": "stream",
     "text": [
      "Saving results to results/internvl/output_internvl.json...\n",
      "Results saved.\n",
      "\n",
      "Generating response for 72...\n"
     ]
    },
    {
     "name": "stderr",
     "output_type": "stream",
     "text": [
      " 73%|███████▎  | 73/100 [10:45<03:17,  7.33s/it]"
     ]
    },
    {
     "name": "stdout",
     "output_type": "stream",
     "text": [
      "Saving results to results/internvl/output_internvl.json...\n",
      "Results saved.\n",
      "\n",
      "Generating response for 73...\n"
     ]
    },
    {
     "name": "stderr",
     "output_type": "stream",
     "text": [
      " 74%|███████▍  | 74/100 [10:51<02:58,  6.87s/it]"
     ]
    },
    {
     "name": "stdout",
     "output_type": "stream",
     "text": [
      "Saving results to results/internvl/output_internvl.json...\n",
      "Results saved.\n",
      "\n",
      "Generating response for 74...\n"
     ]
    },
    {
     "name": "stderr",
     "output_type": "stream",
     "text": [
      " 75%|███████▌  | 75/100 [10:54<02:23,  5.74s/it]"
     ]
    },
    {
     "name": "stdout",
     "output_type": "stream",
     "text": [
      "Saving results to results/internvl/output_internvl.json...\n",
      "Results saved.\n",
      "\n",
      "Generating response for 75...\n"
     ]
    },
    {
     "name": "stderr",
     "output_type": "stream",
     "text": [
      " 76%|███████▌  | 76/100 [11:02<02:35,  6.47s/it]"
     ]
    },
    {
     "name": "stdout",
     "output_type": "stream",
     "text": [
      "Saving results to results/internvl/output_internvl.json...\n",
      "Results saved.\n",
      "\n",
      "Generating response for 76...\n"
     ]
    },
    {
     "name": "stderr",
     "output_type": "stream",
     "text": [
      " 77%|███████▋  | 77/100 [11:07<02:18,  6.02s/it]"
     ]
    },
    {
     "name": "stdout",
     "output_type": "stream",
     "text": [
      "Saving results to results/internvl/output_internvl.json...\n",
      "Results saved.\n",
      "\n",
      "Generating response for 77...\n"
     ]
    },
    {
     "name": "stderr",
     "output_type": "stream",
     "text": [
      " 78%|███████▊  | 78/100 [11:12<02:09,  5.87s/it]"
     ]
    },
    {
     "name": "stdout",
     "output_type": "stream",
     "text": [
      "Saving results to results/internvl/output_internvl.json...\n",
      "Results saved.\n",
      "\n",
      "Generating response for 78...\n"
     ]
    },
    {
     "name": "stderr",
     "output_type": "stream",
     "text": [
      " 79%|███████▉  | 79/100 [11:29<03:09,  9.03s/it]"
     ]
    },
    {
     "name": "stdout",
     "output_type": "stream",
     "text": [
      "Saving results to results/internvl/output_internvl.json...\n",
      "Results saved.\n",
      "\n",
      "Generating response for 79...\n"
     ]
    },
    {
     "name": "stderr",
     "output_type": "stream",
     "text": [
      " 80%|████████  | 80/100 [11:42<03:24, 10.21s/it]"
     ]
    },
    {
     "name": "stdout",
     "output_type": "stream",
     "text": [
      "Saving results to results/internvl/output_internvl.json...\n",
      "Results saved.\n",
      "\n",
      "Generating response for 80...\n"
     ]
    },
    {
     "name": "stderr",
     "output_type": "stream",
     "text": [
      " 81%|████████  | 81/100 [11:53<03:20, 10.57s/it]"
     ]
    },
    {
     "name": "stdout",
     "output_type": "stream",
     "text": [
      "Saving results to results/internvl/output_internvl.json...\n",
      "Results saved.\n",
      "\n",
      "Generating response for 81...\n"
     ]
    },
    {
     "name": "stderr",
     "output_type": "stream",
     "text": [
      " 82%|████████▏ | 82/100 [12:06<03:22, 11.26s/it]"
     ]
    },
    {
     "name": "stdout",
     "output_type": "stream",
     "text": [
      "Saving results to results/internvl/output_internvl.json...\n",
      "Results saved.\n",
      "\n",
      "Generating response for 82...\n"
     ]
    },
    {
     "name": "stderr",
     "output_type": "stream",
     "text": [
      " 83%|████████▎ | 83/100 [12:13<02:47,  9.86s/it]"
     ]
    },
    {
     "name": "stdout",
     "output_type": "stream",
     "text": [
      "Saving results to results/internvl/output_internvl.json...\n",
      "Results saved.\n",
      "\n",
      "Generating response for 83...\n"
     ]
    },
    {
     "name": "stderr",
     "output_type": "stream",
     "text": [
      " 84%|████████▍ | 84/100 [12:29<03:09, 11.87s/it]"
     ]
    },
    {
     "name": "stdout",
     "output_type": "stream",
     "text": [
      "Saving results to results/internvl/output_internvl.json...\n",
      "Results saved.\n",
      "\n",
      "Generating response for 84...\n"
     ]
    },
    {
     "name": "stderr",
     "output_type": "stream",
     "text": [
      " 85%|████████▌ | 85/100 [12:34<02:25,  9.73s/it]"
     ]
    },
    {
     "name": "stdout",
     "output_type": "stream",
     "text": [
      "Saving results to results/internvl/output_internvl.json...\n",
      "Results saved.\n",
      "\n",
      "Generating response for 85...\n"
     ]
    },
    {
     "name": "stderr",
     "output_type": "stream",
     "text": [
      " 86%|████████▌ | 86/100 [12:48<02:35, 11.07s/it]"
     ]
    },
    {
     "name": "stdout",
     "output_type": "stream",
     "text": [
      "Saving results to results/internvl/output_internvl.json...\n",
      "Results saved.\n",
      "\n",
      "Generating response for 86...\n"
     ]
    },
    {
     "name": "stderr",
     "output_type": "stream",
     "text": [
      " 87%|████████▋ | 87/100 [13:01<02:31, 11.68s/it]"
     ]
    },
    {
     "name": "stdout",
     "output_type": "stream",
     "text": [
      "Saving results to results/internvl/output_internvl.json...\n",
      "Results saved.\n",
      "\n",
      "Generating response for 87...\n"
     ]
    },
    {
     "name": "stderr",
     "output_type": "stream",
     "text": [
      " 88%|████████▊ | 88/100 [13:10<02:10, 10.85s/it]"
     ]
    },
    {
     "name": "stdout",
     "output_type": "stream",
     "text": [
      "Saving results to results/internvl/output_internvl.json...\n",
      "Results saved.\n",
      "\n",
      "Generating response for 88...\n"
     ]
    },
    {
     "name": "stderr",
     "output_type": "stream",
     "text": [
      " 89%|████████▉ | 89/100 [13:13<01:33,  8.47s/it]"
     ]
    },
    {
     "name": "stdout",
     "output_type": "stream",
     "text": [
      "Saving results to results/internvl/output_internvl.json...\n",
      "Results saved.\n",
      "\n",
      "Generating response for 89...\n"
     ]
    },
    {
     "name": "stderr",
     "output_type": "stream",
     "text": [
      " 90%|█████████ | 90/100 [13:15<01:05,  6.53s/it]"
     ]
    },
    {
     "name": "stdout",
     "output_type": "stream",
     "text": [
      "Saving results to results/internvl/output_internvl.json...\n",
      "Results saved.\n",
      "\n",
      "Generating response for 90...\n"
     ]
    },
    {
     "name": "stderr",
     "output_type": "stream",
     "text": [
      " 91%|█████████ | 91/100 [13:18<00:50,  5.56s/it]"
     ]
    },
    {
     "name": "stdout",
     "output_type": "stream",
     "text": [
      "Saving results to results/internvl/output_internvl.json...\n",
      "Results saved.\n",
      "\n",
      "Generating response for 91...\n"
     ]
    },
    {
     "name": "stderr",
     "output_type": "stream",
     "text": [
      " 92%|█████████▏| 92/100 [13:22<00:40,  5.11s/it]"
     ]
    },
    {
     "name": "stdout",
     "output_type": "stream",
     "text": [
      "Saving results to results/internvl/output_internvl.json...\n",
      "Results saved.\n",
      "\n",
      "Generating response for 92...\n"
     ]
    },
    {
     "name": "stderr",
     "output_type": "stream",
     "text": [
      " 93%|█████████▎| 93/100 [13:29<00:38,  5.56s/it]"
     ]
    },
    {
     "name": "stdout",
     "output_type": "stream",
     "text": [
      "Saving results to results/internvl/output_internvl.json...\n",
      "Results saved.\n",
      "\n",
      "Generating response for 93...\n"
     ]
    },
    {
     "name": "stderr",
     "output_type": "stream",
     "text": [
      " 94%|█████████▍| 94/100 [13:45<00:52,  8.79s/it]"
     ]
    },
    {
     "name": "stdout",
     "output_type": "stream",
     "text": [
      "Saving results to results/internvl/output_internvl.json...\n",
      "Results saved.\n",
      "\n",
      "Generating response for 94...\n"
     ]
    },
    {
     "name": "stderr",
     "output_type": "stream",
     "text": [
      " 95%|█████████▌| 95/100 [14:02<00:55, 11.05s/it]"
     ]
    },
    {
     "name": "stdout",
     "output_type": "stream",
     "text": [
      "Saving results to results/internvl/output_internvl.json...\n",
      "Results saved.\n",
      "\n",
      "Generating response for 95...\n"
     ]
    },
    {
     "name": "stderr",
     "output_type": "stream",
     "text": [
      " 96%|█████████▌| 96/100 [14:07<00:37,  9.27s/it]"
     ]
    },
    {
     "name": "stdout",
     "output_type": "stream",
     "text": [
      "Saving results to results/internvl/output_internvl.json...\n",
      "Results saved.\n",
      "\n",
      "Generating response for 96...\n"
     ]
    },
    {
     "name": "stderr",
     "output_type": "stream",
     "text": [
      " 97%|█████████▋| 97/100 [14:10<00:22,  7.43s/it]"
     ]
    },
    {
     "name": "stdout",
     "output_type": "stream",
     "text": [
      "Saving results to results/internvl/output_internvl.json...\n",
      "Results saved.\n",
      "\n",
      "Generating response for 97...\n"
     ]
    },
    {
     "name": "stderr",
     "output_type": "stream",
     "text": [
      " 98%|█████████▊| 98/100 [14:13<00:11,  6.00s/it]"
     ]
    },
    {
     "name": "stdout",
     "output_type": "stream",
     "text": [
      "Saving results to results/internvl/output_internvl.json...\n",
      "Results saved.\n",
      "\n",
      "Generating response for 98...\n"
     ]
    },
    {
     "name": "stderr",
     "output_type": "stream",
     "text": [
      " 99%|█████████▉| 99/100 [14:16<00:05,  5.18s/it]"
     ]
    },
    {
     "name": "stdout",
     "output_type": "stream",
     "text": [
      "Saving results to results/internvl/output_internvl.json...\n",
      "Results saved.\n",
      "\n",
      "Generating response for 99...\n"
     ]
    },
    {
     "name": "stderr",
     "output_type": "stream",
     "text": [
      "100%|██████████| 100/100 [14:24<00:00,  8.65s/it]\n"
     ]
    },
    {
     "name": "stdout",
     "output_type": "stream",
     "text": [
      "Saving results to results/internvl/output_internvl.json...\n",
      "Results saved.\n"
     ]
    },
    {
     "name": "stderr",
     "output_type": "stream",
     "text": [
      "  0%|          | 0/100 [00:00<?, ?it/s]"
     ]
    },
    {
     "name": "stdout",
     "output_type": "stream",
     "text": [
      "\n",
      "Generating response for 0...\n"
     ]
    },
    {
     "name": "stderr",
     "output_type": "stream",
     "text": [
      "  1%|          | 1/100 [00:19<31:40, 19.20s/it]"
     ]
    },
    {
     "name": "stdout",
     "output_type": "stream",
     "text": [
      "Saving results to results/internvl/output_internvl.json...\n",
      "Results saved.\n",
      "\n",
      "Generating response for 1...\n"
     ]
    },
    {
     "name": "stderr",
     "output_type": "stream",
     "text": [
      "  2%|▏         | 2/100 [00:23<16:37, 10.18s/it]"
     ]
    },
    {
     "name": "stdout",
     "output_type": "stream",
     "text": [
      "Saving results to results/internvl/output_internvl.json...\n",
      "Results saved.\n",
      "\n",
      "Generating response for 2...\n"
     ]
    },
    {
     "name": "stderr",
     "output_type": "stream",
     "text": [
      "  3%|▎         | 3/100 [00:38<20:22, 12.61s/it]"
     ]
    },
    {
     "name": "stdout",
     "output_type": "stream",
     "text": [
      "Saving results to results/internvl/output_internvl.json...\n",
      "Results saved.\n",
      "\n",
      "Generating response for 3...\n"
     ]
    },
    {
     "name": "stderr",
     "output_type": "stream",
     "text": [
      "  4%|▍         | 4/100 [00:40<13:10,  8.24s/it]"
     ]
    },
    {
     "name": "stdout",
     "output_type": "stream",
     "text": [
      "Saving results to results/internvl/output_internvl.json...\n",
      "Results saved.\n",
      "\n",
      "Generating response for 4...\n"
     ]
    },
    {
     "name": "stderr",
     "output_type": "stream",
     "text": [
      "  5%|▌         | 5/100 [00:54<16:50, 10.64s/it]"
     ]
    },
    {
     "name": "stdout",
     "output_type": "stream",
     "text": [
      "Saving results to results/internvl/output_internvl.json...\n",
      "Results saved.\n",
      "\n",
      "Generating response for 5...\n"
     ]
    },
    {
     "name": "stderr",
     "output_type": "stream",
     "text": [
      "  6%|▌         | 6/100 [01:02<15:15,  9.74s/it]"
     ]
    },
    {
     "name": "stdout",
     "output_type": "stream",
     "text": [
      "Saving results to results/internvl/output_internvl.json...\n",
      "Results saved.\n",
      "\n",
      "Generating response for 6...\n"
     ]
    },
    {
     "name": "stderr",
     "output_type": "stream",
     "text": [
      "  7%|▋         | 7/100 [01:05<11:28,  7.40s/it]"
     ]
    },
    {
     "name": "stdout",
     "output_type": "stream",
     "text": [
      "Saving results to results/internvl/output_internvl.json...\n",
      "Results saved.\n",
      "\n",
      "Generating response for 7...\n"
     ]
    },
    {
     "name": "stderr",
     "output_type": "stream",
     "text": [
      "  8%|▊         | 8/100 [01:13<11:31,  7.52s/it]"
     ]
    },
    {
     "name": "stdout",
     "output_type": "stream",
     "text": [
      "Saving results to results/internvl/output_internvl.json...\n",
      "Results saved.\n",
      "\n",
      "Generating response for 8...\n"
     ]
    },
    {
     "name": "stderr",
     "output_type": "stream",
     "text": [
      "  9%|▉         | 9/100 [01:24<13:08,  8.67s/it]"
     ]
    },
    {
     "name": "stdout",
     "output_type": "stream",
     "text": [
      "Saving results to results/internvl/output_internvl.json...\n",
      "Results saved.\n",
      "\n",
      "Generating response for 9...\n"
     ]
    },
    {
     "name": "stderr",
     "output_type": "stream",
     "text": [
      " 10%|█         | 10/100 [01:30<11:34,  7.72s/it]"
     ]
    },
    {
     "name": "stdout",
     "output_type": "stream",
     "text": [
      "Saving results to results/internvl/output_internvl.json...\n",
      "Results saved.\n",
      "\n",
      "Generating response for 10...\n"
     ]
    },
    {
     "name": "stderr",
     "output_type": "stream",
     "text": [
      " 11%|█         | 11/100 [01:32<08:52,  5.98s/it]"
     ]
    },
    {
     "name": "stdout",
     "output_type": "stream",
     "text": [
      "Saving results to results/internvl/output_internvl.json...\n",
      "Results saved.\n",
      "\n",
      "Generating response for 11...\n"
     ]
    },
    {
     "name": "stderr",
     "output_type": "stream",
     "text": [
      " 12%|█▏        | 12/100 [01:34<07:00,  4.77s/it]"
     ]
    },
    {
     "name": "stdout",
     "output_type": "stream",
     "text": [
      "Saving results to results/internvl/output_internvl.json...\n",
      "Results saved.\n",
      "\n",
      "Generating response for 12...\n"
     ]
    },
    {
     "name": "stderr",
     "output_type": "stream",
     "text": [
      " 13%|█▎        | 13/100 [01:43<08:59,  6.20s/it]"
     ]
    },
    {
     "name": "stdout",
     "output_type": "stream",
     "text": [
      "Saving results to results/internvl/output_internvl.json...\n",
      "Results saved.\n",
      "\n",
      "Generating response for 13...\n"
     ]
    },
    {
     "name": "stderr",
     "output_type": "stream",
     "text": [
      " 14%|█▍        | 14/100 [01:51<09:24,  6.57s/it]"
     ]
    },
    {
     "name": "stdout",
     "output_type": "stream",
     "text": [
      "Saving results to results/internvl/output_internvl.json...\n",
      "Results saved.\n",
      "\n",
      "Generating response for 14...\n"
     ]
    },
    {
     "name": "stderr",
     "output_type": "stream",
     "text": [
      " 15%|█▌        | 15/100 [02:00<10:27,  7.38s/it]"
     ]
    },
    {
     "name": "stdout",
     "output_type": "stream",
     "text": [
      "Saving results to results/internvl/output_internvl.json...\n",
      "Results saved.\n",
      "\n",
      "Generating response for 15...\n"
     ]
    },
    {
     "name": "stderr",
     "output_type": "stream",
     "text": [
      " 16%|█▌        | 16/100 [02:05<09:20,  6.67s/it]"
     ]
    },
    {
     "name": "stdout",
     "output_type": "stream",
     "text": [
      "Saving results to results/internvl/output_internvl.json...\n",
      "Results saved.\n",
      "\n",
      "Generating response for 16...\n"
     ]
    },
    {
     "name": "stderr",
     "output_type": "stream",
     "text": [
      " 17%|█▋        | 17/100 [02:16<11:04,  8.00s/it]"
     ]
    },
    {
     "name": "stdout",
     "output_type": "stream",
     "text": [
      "Saving results to results/internvl/output_internvl.json...\n",
      "Results saved.\n",
      "\n",
      "Generating response for 17...\n"
     ]
    },
    {
     "name": "stderr",
     "output_type": "stream",
     "text": [
      " 18%|█▊        | 18/100 [02:20<09:19,  6.83s/it]"
     ]
    },
    {
     "name": "stdout",
     "output_type": "stream",
     "text": [
      "Saving results to results/internvl/output_internvl.json...\n",
      "Results saved.\n",
      "\n",
      "Generating response for 18...\n"
     ]
    },
    {
     "name": "stderr",
     "output_type": "stream",
     "text": [
      " 19%|█▉        | 19/100 [02:22<07:17,  5.40s/it]"
     ]
    },
    {
     "name": "stdout",
     "output_type": "stream",
     "text": [
      "Saving results to results/internvl/output_internvl.json...\n",
      "Results saved.\n",
      "\n",
      "Generating response for 19...\n"
     ]
    },
    {
     "name": "stderr",
     "output_type": "stream",
     "text": [
      " 20%|██        | 20/100 [02:29<07:53,  5.92s/it]"
     ]
    },
    {
     "name": "stdout",
     "output_type": "stream",
     "text": [
      "Saving results to results/internvl/output_internvl.json...\n",
      "Results saved.\n",
      "\n",
      "Generating response for 20...\n"
     ]
    },
    {
     "name": "stderr",
     "output_type": "stream",
     "text": [
      " 21%|██        | 21/100 [02:31<06:01,  4.57s/it]"
     ]
    },
    {
     "name": "stdout",
     "output_type": "stream",
     "text": [
      "Saving results to results/internvl/output_internvl.json...\n",
      "Results saved.\n",
      "\n",
      "Generating response for 21...\n"
     ]
    },
    {
     "name": "stderr",
     "output_type": "stream",
     "text": [
      " 22%|██▏       | 22/100 [02:34<05:23,  4.15s/it]"
     ]
    },
    {
     "name": "stdout",
     "output_type": "stream",
     "text": [
      "Saving results to results/internvl/output_internvl.json...\n",
      "Results saved.\n",
      "\n",
      "Generating response for 22...\n"
     ]
    },
    {
     "name": "stderr",
     "output_type": "stream",
     "text": [
      " 23%|██▎       | 23/100 [02:44<07:30,  5.85s/it]"
     ]
    },
    {
     "name": "stdout",
     "output_type": "stream",
     "text": [
      "Saving results to results/internvl/output_internvl.json...\n",
      "Results saved.\n",
      "\n",
      "Generating response for 23...\n"
     ]
    },
    {
     "name": "stderr",
     "output_type": "stream",
     "text": [
      " 24%|██▍       | 24/100 [02:49<07:09,  5.65s/it]"
     ]
    },
    {
     "name": "stdout",
     "output_type": "stream",
     "text": [
      "Saving results to results/internvl/output_internvl.json...\n",
      "Results saved.\n",
      "\n",
      "Generating response for 24...\n"
     ]
    },
    {
     "name": "stderr",
     "output_type": "stream",
     "text": [
      " 25%|██▌       | 25/100 [03:02<09:44,  7.80s/it]"
     ]
    },
    {
     "name": "stdout",
     "output_type": "stream",
     "text": [
      "Saving results to results/internvl/output_internvl.json...\n",
      "Results saved.\n",
      "\n",
      "Generating response for 25...\n"
     ]
    },
    {
     "name": "stderr",
     "output_type": "stream",
     "text": [
      " 26%|██▌       | 26/100 [03:08<09:06,  7.38s/it]"
     ]
    },
    {
     "name": "stdout",
     "output_type": "stream",
     "text": [
      "Saving results to results/internvl/output_internvl.json...\n",
      "Results saved.\n",
      "\n",
      "Generating response for 26...\n"
     ]
    },
    {
     "name": "stderr",
     "output_type": "stream",
     "text": [
      " 27%|██▋       | 27/100 [03:10<07:03,  5.80s/it]"
     ]
    },
    {
     "name": "stdout",
     "output_type": "stream",
     "text": [
      "Saving results to results/internvl/output_internvl.json...\n",
      "Results saved.\n",
      "\n",
      "Generating response for 27...\n"
     ]
    },
    {
     "name": "stderr",
     "output_type": "stream",
     "text": [
      " 28%|██▊       | 28/100 [03:21<08:49,  7.35s/it]"
     ]
    },
    {
     "name": "stdout",
     "output_type": "stream",
     "text": [
      "Saving results to results/internvl/output_internvl.json...\n",
      "Results saved.\n",
      "\n",
      "Generating response for 28...\n"
     ]
    },
    {
     "name": "stderr",
     "output_type": "stream",
     "text": [
      " 29%|██▉       | 29/100 [03:26<07:37,  6.45s/it]"
     ]
    },
    {
     "name": "stdout",
     "output_type": "stream",
     "text": [
      "Saving results to results/internvl/output_internvl.json...\n",
      "Results saved.\n",
      "\n",
      "Generating response for 29...\n"
     ]
    },
    {
     "name": "stderr",
     "output_type": "stream",
     "text": [
      " 30%|███       | 30/100 [03:41<10:42,  9.19s/it]"
     ]
    },
    {
     "name": "stdout",
     "output_type": "stream",
     "text": [
      "Saving results to results/internvl/output_internvl.json...\n",
      "Results saved.\n",
      "\n",
      "Generating response for 30...\n"
     ]
    },
    {
     "name": "stderr",
     "output_type": "stream",
     "text": [
      " 31%|███       | 31/100 [03:47<09:25,  8.19s/it]"
     ]
    },
    {
     "name": "stdout",
     "output_type": "stream",
     "text": [
      "Saving results to results/internvl/output_internvl.json...\n",
      "Results saved.\n",
      "\n",
      "Generating response for 31...\n"
     ]
    },
    {
     "name": "stderr",
     "output_type": "stream",
     "text": [
      " 32%|███▏      | 32/100 [04:00<11:05,  9.79s/it]"
     ]
    },
    {
     "name": "stdout",
     "output_type": "stream",
     "text": [
      "Saving results to results/internvl/output_internvl.json...\n",
      "Results saved.\n",
      "\n",
      "Generating response for 32...\n"
     ]
    },
    {
     "name": "stderr",
     "output_type": "stream",
     "text": [
      " 33%|███▎      | 33/100 [04:10<10:48,  9.68s/it]"
     ]
    },
    {
     "name": "stdout",
     "output_type": "stream",
     "text": [
      "Saving results to results/internvl/output_internvl.json...\n",
      "Results saved.\n",
      "\n",
      "Generating response for 33...\n"
     ]
    },
    {
     "name": "stderr",
     "output_type": "stream",
     "text": [
      " 34%|███▍      | 34/100 [04:42<18:00, 16.36s/it]"
     ]
    },
    {
     "name": "stdout",
     "output_type": "stream",
     "text": [
      "Saving results to results/internvl/output_internvl.json...\n",
      "Results saved.\n",
      "\n",
      "Generating response for 34...\n"
     ]
    },
    {
     "name": "stderr",
     "output_type": "stream",
     "text": [
      " 35%|███▌      | 35/100 [05:03<19:12, 17.72s/it]"
     ]
    },
    {
     "name": "stdout",
     "output_type": "stream",
     "text": [
      "Saving results to results/internvl/output_internvl.json...\n",
      "Results saved.\n",
      "\n",
      "Generating response for 35...\n"
     ]
    },
    {
     "name": "stderr",
     "output_type": "stream",
     "text": [
      " 36%|███▌      | 36/100 [05:05<14:04, 13.20s/it]"
     ]
    },
    {
     "name": "stdout",
     "output_type": "stream",
     "text": [
      "Saving results to results/internvl/output_internvl.json...\n",
      "Results saved.\n",
      "\n",
      "Generating response for 36...\n"
     ]
    },
    {
     "name": "stderr",
     "output_type": "stream",
     "text": [
      " 37%|███▋      | 37/100 [05:14<12:27, 11.87s/it]"
     ]
    },
    {
     "name": "stdout",
     "output_type": "stream",
     "text": [
      "Saving results to results/internvl/output_internvl.json...\n",
      "Results saved.\n",
      "\n",
      "Generating response for 37...\n"
     ]
    },
    {
     "name": "stderr",
     "output_type": "stream",
     "text": [
      " 38%|███▊      | 38/100 [05:17<09:26,  9.13s/it]"
     ]
    },
    {
     "name": "stdout",
     "output_type": "stream",
     "text": [
      "Saving results to results/internvl/output_internvl.json...\n",
      "Results saved.\n",
      "\n",
      "Generating response for 38...\n"
     ]
    },
    {
     "name": "stderr",
     "output_type": "stream",
     "text": [
      " 39%|███▉      | 39/100 [05:34<11:41, 11.50s/it]"
     ]
    },
    {
     "name": "stdout",
     "output_type": "stream",
     "text": [
      "Saving results to results/internvl/output_internvl.json...\n",
      "Results saved.\n",
      "\n",
      "Generating response for 39...\n"
     ]
    },
    {
     "name": "stderr",
     "output_type": "stream",
     "text": [
      " 40%|████      | 40/100 [05:37<09:01,  9.02s/it]"
     ]
    },
    {
     "name": "stdout",
     "output_type": "stream",
     "text": [
      "Saving results to results/internvl/output_internvl.json...\n",
      "Results saved.\n",
      "\n",
      "Generating response for 40...\n"
     ]
    },
    {
     "name": "stderr",
     "output_type": "stream",
     "text": [
      " 41%|████      | 41/100 [05:40<07:00,  7.13s/it]"
     ]
    },
    {
     "name": "stdout",
     "output_type": "stream",
     "text": [
      "Saving results to results/internvl/output_internvl.json...\n",
      "Results saved.\n",
      "\n",
      "Generating response for 41...\n"
     ]
    },
    {
     "name": "stderr",
     "output_type": "stream",
     "text": [
      " 42%|████▏     | 42/100 [05:42<05:20,  5.52s/it]"
     ]
    },
    {
     "name": "stdout",
     "output_type": "stream",
     "text": [
      "Saving results to results/internvl/output_internvl.json...\n",
      "Results saved.\n",
      "\n",
      "Generating response for 42...\n"
     ]
    },
    {
     "name": "stderr",
     "output_type": "stream",
     "text": [
      " 43%|████▎     | 43/100 [05:54<07:08,  7.52s/it]"
     ]
    },
    {
     "name": "stdout",
     "output_type": "stream",
     "text": [
      "Saving results to results/internvl/output_internvl.json...\n",
      "Results saved.\n",
      "\n",
      "Generating response for 43...\n"
     ]
    },
    {
     "name": "stderr",
     "output_type": "stream",
     "text": [
      " 44%|████▍     | 44/100 [06:02<07:10,  7.68s/it]"
     ]
    },
    {
     "name": "stdout",
     "output_type": "stream",
     "text": [
      "Saving results to results/internvl/output_internvl.json...\n",
      "Results saved.\n",
      "\n",
      "Generating response for 44...\n"
     ]
    },
    {
     "name": "stderr",
     "output_type": "stream",
     "text": [
      " 45%|████▌     | 45/100 [06:10<07:07,  7.78s/it]"
     ]
    },
    {
     "name": "stdout",
     "output_type": "stream",
     "text": [
      "Saving results to results/internvl/output_internvl.json...\n",
      "Results saved.\n",
      "\n",
      "Generating response for 45...\n"
     ]
    },
    {
     "name": "stderr",
     "output_type": "stream",
     "text": [
      " 46%|████▌     | 46/100 [06:15<06:17,  7.00s/it]"
     ]
    },
    {
     "name": "stdout",
     "output_type": "stream",
     "text": [
      "Saving results to results/internvl/output_internvl.json...\n",
      "Results saved.\n",
      "\n",
      "Generating response for 46...\n"
     ]
    },
    {
     "name": "stderr",
     "output_type": "stream",
     "text": [
      " 47%|████▋     | 47/100 [06:18<05:02,  5.70s/it]"
     ]
    },
    {
     "name": "stdout",
     "output_type": "stream",
     "text": [
      "Saving results to results/internvl/output_internvl.json...\n",
      "Results saved.\n",
      "\n",
      "Generating response for 47...\n"
     ]
    },
    {
     "name": "stderr",
     "output_type": "stream",
     "text": [
      " 48%|████▊     | 48/100 [06:37<08:29,  9.80s/it]"
     ]
    },
    {
     "name": "stdout",
     "output_type": "stream",
     "text": [
      "Saving results to results/internvl/output_internvl.json...\n",
      "Results saved.\n",
      "\n",
      "Generating response for 48...\n"
     ]
    },
    {
     "name": "stderr",
     "output_type": "stream",
     "text": [
      " 49%|████▉     | 49/100 [06:42<07:10,  8.45s/it]"
     ]
    },
    {
     "name": "stdout",
     "output_type": "stream",
     "text": [
      "Saving results to results/internvl/output_internvl.json...\n",
      "Results saved.\n",
      "\n",
      "Generating response for 49...\n"
     ]
    },
    {
     "name": "stderr",
     "output_type": "stream",
     "text": [
      " 50%|█████     | 50/100 [06:48<06:16,  7.53s/it]"
     ]
    },
    {
     "name": "stdout",
     "output_type": "stream",
     "text": [
      "Saving results to results/internvl/output_internvl.json...\n",
      "Results saved.\n",
      "\n",
      "Generating response for 50...\n"
     ]
    },
    {
     "name": "stderr",
     "output_type": "stream",
     "text": [
      " 51%|█████     | 51/100 [06:56<06:22,  7.81s/it]"
     ]
    },
    {
     "name": "stdout",
     "output_type": "stream",
     "text": [
      "Saving results to results/internvl/output_internvl.json...\n",
      "Results saved.\n",
      "\n",
      "Generating response for 51...\n"
     ]
    },
    {
     "name": "stderr",
     "output_type": "stream",
     "text": [
      " 52%|█████▏    | 52/100 [06:58<04:53,  6.11s/it]"
     ]
    },
    {
     "name": "stdout",
     "output_type": "stream",
     "text": [
      "Saving results to results/internvl/output_internvl.json...\n",
      "Results saved.\n",
      "\n",
      "Generating response for 52...\n"
     ]
    },
    {
     "name": "stderr",
     "output_type": "stream",
     "text": [
      " 53%|█████▎    | 53/100 [07:01<03:58,  5.08s/it]"
     ]
    },
    {
     "name": "stdout",
     "output_type": "stream",
     "text": [
      "Saving results to results/internvl/output_internvl.json...\n",
      "Results saved.\n",
      "\n",
      "Generating response for 53...\n"
     ]
    },
    {
     "name": "stderr",
     "output_type": "stream",
     "text": [
      " 54%|█████▍    | 54/100 [07:10<04:51,  6.33s/it]"
     ]
    },
    {
     "name": "stdout",
     "output_type": "stream",
     "text": [
      "Saving results to results/internvl/output_internvl.json...\n",
      "Results saved.\n",
      "\n",
      "Generating response for 54...\n"
     ]
    },
    {
     "name": "stderr",
     "output_type": "stream",
     "text": [
      " 55%|█████▌    | 55/100 [07:28<07:11,  9.59s/it]"
     ]
    },
    {
     "name": "stdout",
     "output_type": "stream",
     "text": [
      "Saving results to results/internvl/output_internvl.json...\n",
      "Results saved.\n",
      "\n",
      "Generating response for 55...\n"
     ]
    },
    {
     "name": "stderr",
     "output_type": "stream",
     "text": [
      " 56%|█████▌    | 56/100 [07:33<06:08,  8.37s/it]"
     ]
    },
    {
     "name": "stdout",
     "output_type": "stream",
     "text": [
      "Saving results to results/internvl/output_internvl.json...\n",
      "Results saved.\n",
      "\n",
      "Generating response for 56...\n"
     ]
    },
    {
     "name": "stderr",
     "output_type": "stream",
     "text": [
      " 57%|█████▋    | 57/100 [07:35<04:36,  6.42s/it]"
     ]
    },
    {
     "name": "stdout",
     "output_type": "stream",
     "text": [
      "Saving results to results/internvl/output_internvl.json...\n",
      "Results saved.\n",
      "\n",
      "Generating response for 57...\n"
     ]
    },
    {
     "name": "stderr",
     "output_type": "stream",
     "text": [
      " 58%|█████▊    | 58/100 [07:44<04:59,  7.14s/it]"
     ]
    },
    {
     "name": "stdout",
     "output_type": "stream",
     "text": [
      "Saving results to results/internvl/output_internvl.json...\n",
      "Results saved.\n",
      "\n",
      "Generating response for 58...\n"
     ]
    },
    {
     "name": "stderr",
     "output_type": "stream",
     "text": [
      " 59%|█████▉    | 59/100 [07:58<06:25,  9.40s/it]"
     ]
    },
    {
     "name": "stdout",
     "output_type": "stream",
     "text": [
      "Saving results to results/internvl/output_internvl.json...\n",
      "Results saved.\n",
      "\n",
      "Generating response for 59...\n"
     ]
    },
    {
     "name": "stderr",
     "output_type": "stream",
     "text": [
      " 60%|██████    | 60/100 [08:02<05:05,  7.63s/it]"
     ]
    },
    {
     "name": "stdout",
     "output_type": "stream",
     "text": [
      "Saving results to results/internvl/output_internvl.json...\n",
      "Results saved.\n",
      "\n",
      "Generating response for 60...\n"
     ]
    },
    {
     "name": "stderr",
     "output_type": "stream",
     "text": [
      " 61%|██████    | 61/100 [08:11<05:09,  7.93s/it]"
     ]
    },
    {
     "name": "stdout",
     "output_type": "stream",
     "text": [
      "Saving results to results/internvl/output_internvl.json...\n",
      "Results saved.\n",
      "\n",
      "Generating response for 61...\n"
     ]
    },
    {
     "name": "stderr",
     "output_type": "stream",
     "text": [
      " 62%|██████▏   | 62/100 [08:25<06:14,  9.84s/it]"
     ]
    },
    {
     "name": "stdout",
     "output_type": "stream",
     "text": [
      "Saving results to results/internvl/output_internvl.json...\n",
      "Results saved.\n",
      "\n",
      "Generating response for 62...\n"
     ]
    },
    {
     "name": "stderr",
     "output_type": "stream",
     "text": [
      " 63%|██████▎   | 63/100 [08:34<05:54,  9.59s/it]"
     ]
    },
    {
     "name": "stdout",
     "output_type": "stream",
     "text": [
      "Saving results to results/internvl/output_internvl.json...\n",
      "Results saved.\n",
      "\n",
      "Generating response for 63...\n"
     ]
    },
    {
     "name": "stderr",
     "output_type": "stream",
     "text": [
      " 64%|██████▍   | 64/100 [08:48<06:35, 10.97s/it]"
     ]
    },
    {
     "name": "stdout",
     "output_type": "stream",
     "text": [
      "Saving results to results/internvl/output_internvl.json...\n",
      "Results saved.\n",
      "\n",
      "Generating response for 64...\n"
     ]
    },
    {
     "name": "stderr",
     "output_type": "stream",
     "text": [
      " 65%|██████▌   | 65/100 [08:56<05:53, 10.11s/it]"
     ]
    },
    {
     "name": "stdout",
     "output_type": "stream",
     "text": [
      "Saving results to results/internvl/output_internvl.json...\n",
      "Results saved.\n",
      "\n",
      "Generating response for 65...\n"
     ]
    },
    {
     "name": "stderr",
     "output_type": "stream",
     "text": [
      " 66%|██████▌   | 66/100 [09:00<04:40,  8.24s/it]"
     ]
    },
    {
     "name": "stdout",
     "output_type": "stream",
     "text": [
      "Saving results to results/internvl/output_internvl.json...\n",
      "Results saved.\n",
      "\n",
      "Generating response for 66...\n"
     ]
    },
    {
     "name": "stderr",
     "output_type": "stream",
     "text": [
      " 67%|██████▋   | 67/100 [09:03<03:39,  6.66s/it]"
     ]
    },
    {
     "name": "stdout",
     "output_type": "stream",
     "text": [
      "Saving results to results/internvl/output_internvl.json...\n",
      "Results saved.\n",
      "\n",
      "Generating response for 67...\n"
     ]
    },
    {
     "name": "stderr",
     "output_type": "stream",
     "text": [
      " 68%|██████▊   | 68/100 [09:19<05:06,  9.58s/it]"
     ]
    },
    {
     "name": "stdout",
     "output_type": "stream",
     "text": [
      "Saving results to results/internvl/output_internvl.json...\n",
      "Results saved.\n",
      "\n",
      "Generating response for 68...\n"
     ]
    },
    {
     "name": "stderr",
     "output_type": "stream",
     "text": [
      " 69%|██████▉   | 69/100 [09:22<03:48,  7.38s/it]"
     ]
    },
    {
     "name": "stdout",
     "output_type": "stream",
     "text": [
      "Saving results to results/internvl/output_internvl.json...\n",
      "Results saved.\n",
      "\n",
      "Generating response for 69...\n"
     ]
    },
    {
     "name": "stderr",
     "output_type": "stream",
     "text": [
      " 70%|███████   | 70/100 [09:25<03:03,  6.13s/it]"
     ]
    },
    {
     "name": "stdout",
     "output_type": "stream",
     "text": [
      "Saving results to results/internvl/output_internvl.json...\n",
      "Results saved.\n",
      "\n",
      "Generating response for 70...\n"
     ]
    },
    {
     "name": "stderr",
     "output_type": "stream",
     "text": [
      " 71%|███████   | 71/100 [09:31<02:53,  5.99s/it]"
     ]
    },
    {
     "name": "stdout",
     "output_type": "stream",
     "text": [
      "Saving results to results/internvl/output_internvl.json...\n",
      "Results saved.\n",
      "\n",
      "Generating response for 71...\n"
     ]
    },
    {
     "name": "stderr",
     "output_type": "stream",
     "text": [
      " 72%|███████▏  | 72/100 [09:36<02:40,  5.73s/it]"
     ]
    },
    {
     "name": "stdout",
     "output_type": "stream",
     "text": [
      "Saving results to results/internvl/output_internvl.json...\n",
      "Results saved.\n",
      "\n",
      "Generating response for 72...\n"
     ]
    },
    {
     "name": "stderr",
     "output_type": "stream",
     "text": [
      " 73%|███████▎  | 73/100 [09:45<03:06,  6.90s/it]"
     ]
    },
    {
     "name": "stdout",
     "output_type": "stream",
     "text": [
      "Saving results to results/internvl/output_internvl.json...\n",
      "Results saved.\n",
      "\n",
      "Generating response for 73...\n"
     ]
    },
    {
     "name": "stderr",
     "output_type": "stream",
     "text": [
      " 74%|███████▍  | 74/100 [09:50<02:44,  6.31s/it]"
     ]
    },
    {
     "name": "stdout",
     "output_type": "stream",
     "text": [
      "Saving results to results/internvl/output_internvl.json...\n",
      "Results saved.\n",
      "\n",
      "Generating response for 74...\n"
     ]
    },
    {
     "name": "stderr",
     "output_type": "stream",
     "text": [
      " 75%|███████▌  | 75/100 [09:56<02:30,  6.01s/it]"
     ]
    },
    {
     "name": "stdout",
     "output_type": "stream",
     "text": [
      "Saving results to results/internvl/output_internvl.json...\n",
      "Results saved.\n",
      "\n",
      "Generating response for 75...\n"
     ]
    },
    {
     "name": "stderr",
     "output_type": "stream",
     "text": [
      " 76%|███████▌  | 76/100 [10:03<02:37,  6.55s/it]"
     ]
    },
    {
     "name": "stdout",
     "output_type": "stream",
     "text": [
      "Saving results to results/internvl/output_internvl.json...\n",
      "Results saved.\n",
      "\n",
      "Generating response for 76...\n"
     ]
    },
    {
     "name": "stderr",
     "output_type": "stream",
     "text": [
      " 77%|███████▋  | 77/100 [10:08<02:18,  6.02s/it]"
     ]
    },
    {
     "name": "stdout",
     "output_type": "stream",
     "text": [
      "Saving results to results/internvl/output_internvl.json...\n",
      "Results saved.\n",
      "\n",
      "Generating response for 77...\n"
     ]
    },
    {
     "name": "stderr",
     "output_type": "stream",
     "text": [
      " 78%|███████▊  | 78/100 [10:13<02:07,  5.77s/it]"
     ]
    },
    {
     "name": "stdout",
     "output_type": "stream",
     "text": [
      "Saving results to results/internvl/output_internvl.json...\n",
      "Results saved.\n",
      "\n",
      "Generating response for 78...\n"
     ]
    },
    {
     "name": "stderr",
     "output_type": "stream",
     "text": [
      " 79%|███████▉  | 79/100 [10:25<02:40,  7.63s/it]"
     ]
    },
    {
     "name": "stdout",
     "output_type": "stream",
     "text": [
      "Saving results to results/internvl/output_internvl.json...\n",
      "Results saved.\n",
      "\n",
      "Generating response for 79...\n"
     ]
    },
    {
     "name": "stderr",
     "output_type": "stream",
     "text": [
      " 80%|████████  | 80/100 [10:34<02:38,  7.90s/it]"
     ]
    },
    {
     "name": "stdout",
     "output_type": "stream",
     "text": [
      "Saving results to results/internvl/output_internvl.json...\n",
      "Results saved.\n",
      "\n",
      "Generating response for 80...\n"
     ]
    },
    {
     "name": "stderr",
     "output_type": "stream",
     "text": [
      " 81%|████████  | 81/100 [10:44<02:44,  8.63s/it]"
     ]
    },
    {
     "name": "stdout",
     "output_type": "stream",
     "text": [
      "Saving results to results/internvl/output_internvl.json...\n",
      "Results saved.\n",
      "\n",
      "Generating response for 81...\n"
     ]
    },
    {
     "name": "stderr",
     "output_type": "stream",
     "text": [
      " 82%|████████▏ | 82/100 [10:58<03:01, 10.07s/it]"
     ]
    },
    {
     "name": "stdout",
     "output_type": "stream",
     "text": [
      "Saving results to results/internvl/output_internvl.json...\n",
      "Results saved.\n",
      "\n",
      "Generating response for 82...\n"
     ]
    },
    {
     "name": "stderr",
     "output_type": "stream",
     "text": [
      " 83%|████████▎ | 83/100 [11:05<02:37,  9.27s/it]"
     ]
    },
    {
     "name": "stdout",
     "output_type": "stream",
     "text": [
      "Saving results to results/internvl/output_internvl.json...\n",
      "Results saved.\n",
      "\n",
      "Generating response for 83...\n"
     ]
    },
    {
     "name": "stderr",
     "output_type": "stream",
     "text": [
      " 84%|████████▍ | 84/100 [11:20<02:56, 11.03s/it]"
     ]
    },
    {
     "name": "stdout",
     "output_type": "stream",
     "text": [
      "Saving results to results/internvl/output_internvl.json...\n",
      "Results saved.\n",
      "\n",
      "Generating response for 84...\n"
     ]
    },
    {
     "name": "stderr",
     "output_type": "stream",
     "text": [
      " 85%|████████▌ | 85/100 [11:25<02:17,  9.16s/it]"
     ]
    },
    {
     "name": "stdout",
     "output_type": "stream",
     "text": [
      "Saving results to results/internvl/output_internvl.json...\n",
      "Results saved.\n",
      "\n",
      "Generating response for 85...\n"
     ]
    },
    {
     "name": "stderr",
     "output_type": "stream",
     "text": [
      " 86%|████████▌ | 86/100 [11:44<02:47, 12.00s/it]"
     ]
    },
    {
     "name": "stdout",
     "output_type": "stream",
     "text": [
      "Saving results to results/internvl/output_internvl.json...\n",
      "Results saved.\n",
      "\n",
      "Generating response for 86...\n"
     ]
    },
    {
     "name": "stderr",
     "output_type": "stream",
     "text": [
      " 87%|████████▋ | 87/100 [11:54<02:31, 11.62s/it]"
     ]
    },
    {
     "name": "stdout",
     "output_type": "stream",
     "text": [
      "Saving results to results/internvl/output_internvl.json...\n",
      "Results saved.\n",
      "\n",
      "Generating response for 87...\n"
     ]
    },
    {
     "name": "stderr",
     "output_type": "stream",
     "text": [
      " 88%|████████▊ | 88/100 [12:05<02:14, 11.24s/it]"
     ]
    },
    {
     "name": "stdout",
     "output_type": "stream",
     "text": [
      "Saving results to results/internvl/output_internvl.json...\n",
      "Results saved.\n",
      "\n",
      "Generating response for 88...\n"
     ]
    },
    {
     "name": "stderr",
     "output_type": "stream",
     "text": [
      " 89%|████████▉ | 89/100 [12:08<01:36,  8.74s/it]"
     ]
    },
    {
     "name": "stdout",
     "output_type": "stream",
     "text": [
      "Saving results to results/internvl/output_internvl.json...\n",
      "Results saved.\n",
      "\n",
      "Generating response for 89...\n"
     ]
    },
    {
     "name": "stderr",
     "output_type": "stream",
     "text": [
      " 90%|█████████ | 90/100 [12:10<01:08,  6.80s/it]"
     ]
    },
    {
     "name": "stdout",
     "output_type": "stream",
     "text": [
      "Saving results to results/internvl/output_internvl.json...\n",
      "Results saved.\n",
      "\n",
      "Generating response for 90...\n"
     ]
    },
    {
     "name": "stderr",
     "output_type": "stream",
     "text": [
      " 91%|█████████ | 91/100 [12:14<00:54,  6.01s/it]"
     ]
    },
    {
     "name": "stdout",
     "output_type": "stream",
     "text": [
      "Saving results to results/internvl/output_internvl.json...\n",
      "Results saved.\n",
      "\n",
      "Generating response for 91...\n"
     ]
    },
    {
     "name": "stderr",
     "output_type": "stream",
     "text": [
      " 92%|█████████▏| 92/100 [12:17<00:41,  5.21s/it]"
     ]
    },
    {
     "name": "stdout",
     "output_type": "stream",
     "text": [
      "Saving results to results/internvl/output_internvl.json...\n",
      "Results saved.\n",
      "\n",
      "Generating response for 92...\n"
     ]
    },
    {
     "name": "stderr",
     "output_type": "stream",
     "text": [
      " 93%|█████████▎| 93/100 [12:23<00:38,  5.48s/it]"
     ]
    },
    {
     "name": "stdout",
     "output_type": "stream",
     "text": [
      "Saving results to results/internvl/output_internvl.json...\n",
      "Results saved.\n",
      "\n",
      "Generating response for 93...\n"
     ]
    },
    {
     "name": "stderr",
     "output_type": "stream",
     "text": [
      " 94%|█████████▍| 94/100 [12:40<00:52,  8.77s/it]"
     ]
    },
    {
     "name": "stdout",
     "output_type": "stream",
     "text": [
      "Saving results to results/internvl/output_internvl.json...\n",
      "Results saved.\n",
      "\n",
      "Generating response for 94...\n"
     ]
    },
    {
     "name": "stderr",
     "output_type": "stream",
     "text": [
      " 95%|█████████▌| 95/100 [12:55<00:53, 10.69s/it]"
     ]
    },
    {
     "name": "stdout",
     "output_type": "stream",
     "text": [
      "Saving results to results/internvl/output_internvl.json...\n",
      "Results saved.\n",
      "\n",
      "Generating response for 95...\n"
     ]
    },
    {
     "name": "stderr",
     "output_type": "stream",
     "text": [
      " 96%|█████████▌| 96/100 [13:00<00:35,  8.98s/it]"
     ]
    },
    {
     "name": "stdout",
     "output_type": "stream",
     "text": [
      "Saving results to results/internvl/output_internvl.json...\n",
      "Results saved.\n",
      "\n",
      "Generating response for 96...\n"
     ]
    },
    {
     "name": "stderr",
     "output_type": "stream",
     "text": [
      " 97%|█████████▋| 97/100 [13:04<00:22,  7.35s/it]"
     ]
    },
    {
     "name": "stdout",
     "output_type": "stream",
     "text": [
      "Saving results to results/internvl/output_internvl.json...\n",
      "Results saved.\n",
      "\n",
      "Generating response for 97...\n"
     ]
    },
    {
     "name": "stderr",
     "output_type": "stream",
     "text": [
      " 98%|█████████▊| 98/100 [13:06<00:11,  5.98s/it]"
     ]
    },
    {
     "name": "stdout",
     "output_type": "stream",
     "text": [
      "Saving results to results/internvl/output_internvl.json...\n",
      "Results saved.\n",
      "\n",
      "Generating response for 98...\n"
     ]
    },
    {
     "name": "stderr",
     "output_type": "stream",
     "text": [
      " 99%|█████████▉| 99/100 [13:09<00:05,  5.09s/it]"
     ]
    },
    {
     "name": "stdout",
     "output_type": "stream",
     "text": [
      "Saving results to results/internvl/output_internvl.json...\n",
      "Results saved.\n",
      "\n",
      "Generating response for 99...\n"
     ]
    },
    {
     "name": "stderr",
     "output_type": "stream",
     "text": [
      "100%|██████████| 100/100 [13:16<00:00,  7.97s/it]\n"
     ]
    },
    {
     "name": "stdout",
     "output_type": "stream",
     "text": [
      "Saving results to results/internvl/output_internvl.json...\n",
      "Results saved.\n"
     ]
    },
    {
     "name": "stderr",
     "output_type": "stream",
     "text": [
      "  0%|          | 0/100 [00:00<?, ?it/s]"
     ]
    },
    {
     "name": "stdout",
     "output_type": "stream",
     "text": [
      "\n",
      "Generating response for 0...\n"
     ]
    },
    {
     "name": "stderr",
     "output_type": "stream",
     "text": [
      "  1%|          | 1/100 [00:23<38:47, 23.51s/it]"
     ]
    },
    {
     "name": "stdout",
     "output_type": "stream",
     "text": [
      "Saving results to results/internvl/output_internvl.json...\n",
      "Results saved.\n",
      "\n",
      "Generating response for 1...\n"
     ]
    },
    {
     "name": "stderr",
     "output_type": "stream",
     "text": [
      "  2%|▏         | 2/100 [00:26<18:42, 11.46s/it]"
     ]
    },
    {
     "name": "stdout",
     "output_type": "stream",
     "text": [
      "Saving results to results/internvl/output_internvl.json...\n",
      "Results saved.\n",
      "\n",
      "Generating response for 2...\n"
     ]
    },
    {
     "name": "stderr",
     "output_type": "stream",
     "text": [
      "  3%|▎         | 3/100 [00:50<27:37, 17.09s/it]"
     ]
    },
    {
     "name": "stdout",
     "output_type": "stream",
     "text": [
      "Saving results to results/internvl/output_internvl.json...\n",
      "Results saved.\n",
      "\n",
      "Generating response for 3...\n"
     ]
    },
    {
     "name": "stderr",
     "output_type": "stream",
     "text": [
      "  4%|▍         | 4/100 [00:57<21:08, 13.21s/it]"
     ]
    },
    {
     "name": "stdout",
     "output_type": "stream",
     "text": [
      "Saving results to results/internvl/output_internvl.json...\n",
      "Results saved.\n",
      "\n",
      "Generating response for 4...\n"
     ]
    },
    {
     "name": "stderr",
     "output_type": "stream",
     "text": [
      "  5%|▌         | 5/100 [01:09<20:20, 12.85s/it]"
     ]
    },
    {
     "name": "stdout",
     "output_type": "stream",
     "text": [
      "Saving results to results/internvl/output_internvl.json...\n",
      "Results saved.\n",
      "\n",
      "Generating response for 5...\n"
     ]
    },
    {
     "name": "stderr",
     "output_type": "stream",
     "text": [
      "  6%|▌         | 6/100 [01:18<17:54, 11.43s/it]"
     ]
    },
    {
     "name": "stdout",
     "output_type": "stream",
     "text": [
      "Saving results to results/internvl/output_internvl.json...\n",
      "Results saved.\n",
      "\n",
      "Generating response for 6...\n"
     ]
    },
    {
     "name": "stderr",
     "output_type": "stream",
     "text": [
      "  7%|▋         | 7/100 [01:20<13:08,  8.48s/it]"
     ]
    },
    {
     "name": "stdout",
     "output_type": "stream",
     "text": [
      "Saving results to results/internvl/output_internvl.json...\n",
      "Results saved.\n",
      "\n",
      "Generating response for 7...\n"
     ]
    },
    {
     "name": "stderr",
     "output_type": "stream",
     "text": [
      "  8%|▊         | 8/100 [01:27<12:08,  7.92s/it]"
     ]
    },
    {
     "name": "stdout",
     "output_type": "stream",
     "text": [
      "Saving results to results/internvl/output_internvl.json...\n",
      "Results saved.\n",
      "\n",
      "Generating response for 8...\n"
     ]
    },
    {
     "name": "stderr",
     "output_type": "stream",
     "text": [
      "  9%|▉         | 9/100 [01:41<14:42,  9.69s/it]"
     ]
    },
    {
     "name": "stdout",
     "output_type": "stream",
     "text": [
      "Saving results to results/internvl/output_internvl.json...\n",
      "Results saved.\n",
      "\n",
      "Generating response for 9...\n"
     ]
    },
    {
     "name": "stderr",
     "output_type": "stream",
     "text": [
      " 10%|█         | 10/100 [01:51<14:42,  9.80s/it]"
     ]
    },
    {
     "name": "stdout",
     "output_type": "stream",
     "text": [
      "Saving results to results/internvl/output_internvl.json...\n",
      "Results saved.\n",
      "\n",
      "Generating response for 10...\n"
     ]
    },
    {
     "name": "stderr",
     "output_type": "stream",
     "text": [
      " 11%|█         | 11/100 [01:53<11:03,  7.46s/it]"
     ]
    },
    {
     "name": "stdout",
     "output_type": "stream",
     "text": [
      "Saving results to results/internvl/output_internvl.json...\n",
      "Results saved.\n",
      "\n",
      "Generating response for 11...\n"
     ]
    },
    {
     "name": "stderr",
     "output_type": "stream",
     "text": [
      " 12%|█▏        | 12/100 [01:56<08:53,  6.07s/it]"
     ]
    },
    {
     "name": "stdout",
     "output_type": "stream",
     "text": [
      "Saving results to results/internvl/output_internvl.json...\n",
      "Results saved.\n",
      "\n",
      "Generating response for 12...\n"
     ]
    },
    {
     "name": "stderr",
     "output_type": "stream",
     "text": [
      " 13%|█▎        | 13/100 [02:00<08:07,  5.60s/it]"
     ]
    },
    {
     "name": "stdout",
     "output_type": "stream",
     "text": [
      "Saving results to results/internvl/output_internvl.json...\n",
      "Results saved.\n",
      "\n",
      "Generating response for 13...\n"
     ]
    },
    {
     "name": "stderr",
     "output_type": "stream",
     "text": [
      " 14%|█▍        | 14/100 [02:10<09:41,  6.76s/it]"
     ]
    },
    {
     "name": "stdout",
     "output_type": "stream",
     "text": [
      "Saving results to results/internvl/output_internvl.json...\n",
      "Results saved.\n",
      "\n",
      "Generating response for 14...\n"
     ]
    },
    {
     "name": "stderr",
     "output_type": "stream",
     "text": [
      " 15%|█▌        | 15/100 [02:20<11:09,  7.88s/it]"
     ]
    },
    {
     "name": "stdout",
     "output_type": "stream",
     "text": [
      "Saving results to results/internvl/output_internvl.json...\n",
      "Results saved.\n",
      "\n",
      "Generating response for 15...\n"
     ]
    },
    {
     "name": "stderr",
     "output_type": "stream",
     "text": [
      " 16%|█▌        | 16/100 [02:26<10:18,  7.36s/it]"
     ]
    },
    {
     "name": "stdout",
     "output_type": "stream",
     "text": [
      "Saving results to results/internvl/output_internvl.json...\n",
      "Results saved.\n",
      "\n",
      "Generating response for 16...\n"
     ]
    },
    {
     "name": "stderr",
     "output_type": "stream",
     "text": [
      " 17%|█▋        | 17/100 [02:37<11:24,  8.25s/it]"
     ]
    },
    {
     "name": "stdout",
     "output_type": "stream",
     "text": [
      "Saving results to results/internvl/output_internvl.json...\n",
      "Results saved.\n",
      "\n",
      "Generating response for 17...\n"
     ]
    },
    {
     "name": "stderr",
     "output_type": "stream",
     "text": [
      " 18%|█▊        | 18/100 [02:41<09:33,  7.00s/it]"
     ]
    },
    {
     "name": "stdout",
     "output_type": "stream",
     "text": [
      "Saving results to results/internvl/output_internvl.json...\n",
      "Results saved.\n",
      "\n",
      "Generating response for 18...\n"
     ]
    },
    {
     "name": "stderr",
     "output_type": "stream",
     "text": [
      " 19%|█▉        | 19/100 [02:44<07:50,  5.81s/it]"
     ]
    },
    {
     "name": "stdout",
     "output_type": "stream",
     "text": [
      "Saving results to results/internvl/output_internvl.json...\n",
      "Results saved.\n",
      "\n",
      "Generating response for 19...\n"
     ]
    },
    {
     "name": "stderr",
     "output_type": "stream",
     "text": [
      " 20%|██        | 20/100 [02:50<08:05,  6.07s/it]"
     ]
    },
    {
     "name": "stdout",
     "output_type": "stream",
     "text": [
      "Saving results to results/internvl/output_internvl.json...\n",
      "Results saved.\n",
      "\n",
      "Generating response for 20...\n"
     ]
    },
    {
     "name": "stderr",
     "output_type": "stream",
     "text": [
      " 21%|██        | 21/100 [02:52<06:04,  4.61s/it]"
     ]
    },
    {
     "name": "stdout",
     "output_type": "stream",
     "text": [
      "Saving results to results/internvl/output_internvl.json...\n",
      "Results saved.\n",
      "\n",
      "Generating response for 21...\n"
     ]
    },
    {
     "name": "stderr",
     "output_type": "stream",
     "text": [
      " 22%|██▏       | 22/100 [02:54<05:15,  4.04s/it]"
     ]
    },
    {
     "name": "stdout",
     "output_type": "stream",
     "text": [
      "Saving results to results/internvl/output_internvl.json...\n",
      "Results saved.\n",
      "\n",
      "Generating response for 22...\n"
     ]
    },
    {
     "name": "stderr",
     "output_type": "stream",
     "text": [
      " 23%|██▎       | 23/100 [03:09<09:15,  7.21s/it]"
     ]
    },
    {
     "name": "stdout",
     "output_type": "stream",
     "text": [
      "Saving results to results/internvl/output_internvl.json...\n",
      "Results saved.\n",
      "\n",
      "Generating response for 23...\n"
     ]
    },
    {
     "name": "stderr",
     "output_type": "stream",
     "text": [
      " 24%|██▍       | 24/100 [03:15<08:31,  6.73s/it]"
     ]
    },
    {
     "name": "stdout",
     "output_type": "stream",
     "text": [
      "Saving results to results/internvl/output_internvl.json...\n",
      "Results saved.\n",
      "\n",
      "Generating response for 24...\n"
     ]
    },
    {
     "name": "stderr",
     "output_type": "stream",
     "text": [
      " 25%|██▌       | 25/100 [03:28<10:44,  8.59s/it]"
     ]
    },
    {
     "name": "stdout",
     "output_type": "stream",
     "text": [
      "Saving results to results/internvl/output_internvl.json...\n",
      "Results saved.\n",
      "\n",
      "Generating response for 25...\n"
     ]
    },
    {
     "name": "stderr",
     "output_type": "stream",
     "text": [
      " 26%|██▌       | 26/100 [03:36<10:24,  8.44s/it]"
     ]
    },
    {
     "name": "stdout",
     "output_type": "stream",
     "text": [
      "Saving results to results/internvl/output_internvl.json...\n",
      "Results saved.\n",
      "\n",
      "Generating response for 26...\n"
     ]
    },
    {
     "name": "stderr",
     "output_type": "stream",
     "text": [
      " 27%|██▋       | 27/100 [03:38<07:54,  6.50s/it]"
     ]
    },
    {
     "name": "stdout",
     "output_type": "stream",
     "text": [
      "Saving results to results/internvl/output_internvl.json...\n",
      "Results saved.\n",
      "\n",
      "Generating response for 27...\n"
     ]
    },
    {
     "name": "stderr",
     "output_type": "stream",
     "text": [
      " 28%|██▊       | 28/100 [03:49<09:38,  8.04s/it]"
     ]
    },
    {
     "name": "stdout",
     "output_type": "stream",
     "text": [
      "Saving results to results/internvl/output_internvl.json...\n",
      "Results saved.\n",
      "\n",
      "Generating response for 28...\n"
     ]
    },
    {
     "name": "stderr",
     "output_type": "stream",
     "text": [
      " 29%|██▉       | 29/100 [03:52<07:48,  6.59s/it]"
     ]
    },
    {
     "name": "stdout",
     "output_type": "stream",
     "text": [
      "Saving results to results/internvl/output_internvl.json...\n",
      "Results saved.\n",
      "\n",
      "Generating response for 29...\n"
     ]
    },
    {
     "name": "stderr",
     "output_type": "stream",
     "text": [
      " 30%|███       | 30/100 [04:11<12:01, 10.31s/it]"
     ]
    },
    {
     "name": "stdout",
     "output_type": "stream",
     "text": [
      "Saving results to results/internvl/output_internvl.json...\n",
      "Results saved.\n",
      "\n",
      "Generating response for 30...\n"
     ]
    },
    {
     "name": "stderr",
     "output_type": "stream",
     "text": [
      " 31%|███       | 31/100 [04:16<09:54,  8.62s/it]"
     ]
    },
    {
     "name": "stdout",
     "output_type": "stream",
     "text": [
      "Saving results to results/internvl/output_internvl.json...\n",
      "Results saved.\n",
      "\n",
      "Generating response for 31...\n"
     ]
    },
    {
     "name": "stderr",
     "output_type": "stream",
     "text": [
      " 32%|███▏      | 32/100 [04:28<10:46,  9.50s/it]"
     ]
    },
    {
     "name": "stdout",
     "output_type": "stream",
     "text": [
      "Saving results to results/internvl/output_internvl.json...\n",
      "Results saved.\n",
      "\n",
      "Generating response for 32...\n"
     ]
    },
    {
     "name": "stderr",
     "output_type": "stream",
     "text": [
      " 33%|███▎      | 33/100 [04:39<11:20, 10.16s/it]"
     ]
    },
    {
     "name": "stdout",
     "output_type": "stream",
     "text": [
      "Saving results to results/internvl/output_internvl.json...\n",
      "Results saved.\n",
      "\n",
      "Generating response for 33...\n"
     ]
    },
    {
     "name": "stderr",
     "output_type": "stream",
     "text": [
      " 34%|███▍      | 34/100 [05:09<17:36, 16.01s/it]"
     ]
    },
    {
     "name": "stdout",
     "output_type": "stream",
     "text": [
      "Saving results to results/internvl/output_internvl.json...\n",
      "Results saved.\n",
      "\n",
      "Generating response for 34...\n"
     ]
    },
    {
     "name": "stderr",
     "output_type": "stream",
     "text": [
      " 35%|███▌      | 35/100 [05:31<19:25, 17.94s/it]"
     ]
    },
    {
     "name": "stdout",
     "output_type": "stream",
     "text": [
      "Saving results to results/internvl/output_internvl.json...\n",
      "Results saved.\n",
      "\n",
      "Generating response for 35...\n"
     ]
    },
    {
     "name": "stderr",
     "output_type": "stream",
     "text": [
      " 36%|███▌      | 36/100 [05:34<14:03, 13.19s/it]"
     ]
    },
    {
     "name": "stdout",
     "output_type": "stream",
     "text": [
      "Saving results to results/internvl/output_internvl.json...\n",
      "Results saved.\n",
      "\n",
      "Generating response for 36...\n"
     ]
    },
    {
     "name": "stderr",
     "output_type": "stream",
     "text": [
      " 37%|███▋      | 37/100 [05:42<12:17, 11.71s/it]"
     ]
    },
    {
     "name": "stdout",
     "output_type": "stream",
     "text": [
      "Saving results to results/internvl/output_internvl.json...\n",
      "Results saved.\n",
      "\n",
      "Generating response for 37...\n"
     ]
    },
    {
     "name": "stderr",
     "output_type": "stream",
     "text": [
      " 38%|███▊      | 38/100 [05:45<09:20,  9.04s/it]"
     ]
    },
    {
     "name": "stdout",
     "output_type": "stream",
     "text": [
      "Saving results to results/internvl/output_internvl.json...\n",
      "Results saved.\n",
      "\n",
      "Generating response for 38...\n"
     ]
    },
    {
     "name": "stderr",
     "output_type": "stream",
     "text": [
      " 39%|███▉      | 39/100 [05:57<10:10, 10.01s/it]"
     ]
    },
    {
     "name": "stdout",
     "output_type": "stream",
     "text": [
      "Saving results to results/internvl/output_internvl.json...\n",
      "Results saved.\n",
      "\n",
      "Generating response for 39...\n"
     ]
    },
    {
     "name": "stderr",
     "output_type": "stream",
     "text": [
      " 40%|████      | 40/100 [05:59<07:34,  7.58s/it]"
     ]
    },
    {
     "name": "stdout",
     "output_type": "stream",
     "text": [
      "Saving results to results/internvl/output_internvl.json...\n",
      "Results saved.\n",
      "\n",
      "Generating response for 40...\n"
     ]
    },
    {
     "name": "stderr",
     "output_type": "stream",
     "text": [
      " 41%|████      | 41/100 [06:01<05:55,  6.02s/it]"
     ]
    },
    {
     "name": "stdout",
     "output_type": "stream",
     "text": [
      "Saving results to results/internvl/output_internvl.json...\n",
      "Results saved.\n",
      "\n",
      "Generating response for 41...\n"
     ]
    },
    {
     "name": "stderr",
     "output_type": "stream",
     "text": [
      " 42%|████▏     | 42/100 [06:04<04:44,  4.90s/it]"
     ]
    },
    {
     "name": "stdout",
     "output_type": "stream",
     "text": [
      "Saving results to results/internvl/output_internvl.json...\n",
      "Results saved.\n",
      "\n",
      "Generating response for 42...\n"
     ]
    },
    {
     "name": "stderr",
     "output_type": "stream",
     "text": [
      " 43%|████▎     | 43/100 [06:17<07:07,  7.50s/it]"
     ]
    },
    {
     "name": "stdout",
     "output_type": "stream",
     "text": [
      "Saving results to results/internvl/output_internvl.json...\n",
      "Results saved.\n",
      "\n",
      "Generating response for 43...\n"
     ]
    },
    {
     "name": "stderr",
     "output_type": "stream",
     "text": [
      " 44%|████▍     | 44/100 [06:25<07:13,  7.74s/it]"
     ]
    },
    {
     "name": "stdout",
     "output_type": "stream",
     "text": [
      "Saving results to results/internvl/output_internvl.json...\n",
      "Results saved.\n",
      "\n",
      "Generating response for 44...\n"
     ]
    },
    {
     "name": "stderr",
     "output_type": "stream",
     "text": [
      " 45%|████▌     | 45/100 [06:35<07:32,  8.23s/it]"
     ]
    },
    {
     "name": "stdout",
     "output_type": "stream",
     "text": [
      "Saving results to results/internvl/output_internvl.json...\n",
      "Results saved.\n",
      "\n",
      "Generating response for 45...\n"
     ]
    },
    {
     "name": "stderr",
     "output_type": "stream",
     "text": [
      " 46%|████▌     | 46/100 [06:42<07:06,  7.91s/it]"
     ]
    },
    {
     "name": "stdout",
     "output_type": "stream",
     "text": [
      "Saving results to results/internvl/output_internvl.json...\n",
      "Results saved.\n",
      "\n",
      "Generating response for 46...\n"
     ]
    },
    {
     "name": "stderr",
     "output_type": "stream",
     "text": [
      " 47%|████▋     | 47/100 [06:45<05:44,  6.50s/it]"
     ]
    },
    {
     "name": "stdout",
     "output_type": "stream",
     "text": [
      "Saving results to results/internvl/output_internvl.json...\n",
      "Results saved.\n",
      "\n",
      "Generating response for 47...\n"
     ]
    },
    {
     "name": "stderr",
     "output_type": "stream",
     "text": [
      " 48%|████▊     | 48/100 [06:54<06:19,  7.30s/it]"
     ]
    },
    {
     "name": "stdout",
     "output_type": "stream",
     "text": [
      "Saving results to results/internvl/output_internvl.json...\n",
      "Results saved.\n",
      "\n",
      "Generating response for 48...\n"
     ]
    },
    {
     "name": "stderr",
     "output_type": "stream",
     "text": [
      " 49%|████▉     | 49/100 [06:57<05:07,  6.02s/it]"
     ]
    },
    {
     "name": "stdout",
     "output_type": "stream",
     "text": [
      "Saving results to results/internvl/output_internvl.json...\n",
      "Results saved.\n",
      "\n",
      "Generating response for 49...\n"
     ]
    },
    {
     "name": "stderr",
     "output_type": "stream",
     "text": [
      " 50%|█████     | 50/100 [07:05<05:25,  6.51s/it]"
     ]
    },
    {
     "name": "stdout",
     "output_type": "stream",
     "text": [
      "Saving results to results/internvl/output_internvl.json...\n",
      "Results saved.\n",
      "\n",
      "Generating response for 50...\n"
     ]
    },
    {
     "name": "stderr",
     "output_type": "stream",
     "text": [
      " 51%|█████     | 51/100 [07:10<04:52,  5.97s/it]"
     ]
    },
    {
     "name": "stdout",
     "output_type": "stream",
     "text": [
      "Saving results to results/internvl/output_internvl.json...\n",
      "Results saved.\n",
      "\n",
      "Generating response for 51...\n"
     ]
    },
    {
     "name": "stderr",
     "output_type": "stream",
     "text": [
      " 52%|█████▏    | 52/100 [07:12<03:52,  4.85s/it]"
     ]
    },
    {
     "name": "stdout",
     "output_type": "stream",
     "text": [
      "Saving results to results/internvl/output_internvl.json...\n",
      "Results saved.\n",
      "\n",
      "Generating response for 52...\n"
     ]
    },
    {
     "name": "stderr",
     "output_type": "stream",
     "text": [
      " 53%|█████▎    | 53/100 [07:15<03:17,  4.20s/it]"
     ]
    },
    {
     "name": "stdout",
     "output_type": "stream",
     "text": [
      "Saving results to results/internvl/output_internvl.json...\n",
      "Results saved.\n",
      "\n",
      "Generating response for 53...\n"
     ]
    },
    {
     "name": "stderr",
     "output_type": "stream",
     "text": [
      " 54%|█████▍    | 54/100 [07:24<04:25,  5.78s/it]"
     ]
    },
    {
     "name": "stdout",
     "output_type": "stream",
     "text": [
      "Saving results to results/internvl/output_internvl.json...\n",
      "Results saved.\n",
      "\n",
      "Generating response for 54...\n"
     ]
    },
    {
     "name": "stderr",
     "output_type": "stream",
     "text": [
      " 55%|█████▌    | 55/100 [07:41<06:49,  9.10s/it]"
     ]
    },
    {
     "name": "stdout",
     "output_type": "stream",
     "text": [
      "Saving results to results/internvl/output_internvl.json...\n",
      "Results saved.\n",
      "\n",
      "Generating response for 55...\n"
     ]
    },
    {
     "name": "stderr",
     "output_type": "stream",
     "text": [
      " 56%|█████▌    | 56/100 [07:47<05:57,  8.12s/it]"
     ]
    },
    {
     "name": "stdout",
     "output_type": "stream",
     "text": [
      "Saving results to results/internvl/output_internvl.json...\n",
      "Results saved.\n",
      "\n",
      "Generating response for 56...\n"
     ]
    },
    {
     "name": "stderr",
     "output_type": "stream",
     "text": [
      " 57%|█████▋    | 57/100 [07:49<04:31,  6.31s/it]"
     ]
    },
    {
     "name": "stdout",
     "output_type": "stream",
     "text": [
      "Saving results to results/internvl/output_internvl.json...\n",
      "Results saved.\n",
      "\n",
      "Generating response for 57...\n"
     ]
    },
    {
     "name": "stderr",
     "output_type": "stream",
     "text": [
      " 58%|█████▊    | 58/100 [07:59<05:17,  7.56s/it]"
     ]
    },
    {
     "name": "stdout",
     "output_type": "stream",
     "text": [
      "Saving results to results/internvl/output_internvl.json...\n",
      "Results saved.\n",
      "\n",
      "Generating response for 58...\n"
     ]
    },
    {
     "name": "stderr",
     "output_type": "stream",
     "text": [
      " 59%|█████▉    | 59/100 [08:17<07:18, 10.69s/it]"
     ]
    },
    {
     "name": "stdout",
     "output_type": "stream",
     "text": [
      "Saving results to results/internvl/output_internvl.json...\n",
      "Results saved.\n",
      "\n",
      "Generating response for 59...\n"
     ]
    },
    {
     "name": "stderr",
     "output_type": "stream",
     "text": [
      " 60%|██████    | 60/100 [08:23<06:06,  9.17s/it]"
     ]
    },
    {
     "name": "stdout",
     "output_type": "stream",
     "text": [
      "Saving results to results/internvl/output_internvl.json...\n",
      "Results saved.\n",
      "\n",
      "Generating response for 60...\n"
     ]
    },
    {
     "name": "stderr",
     "output_type": "stream",
     "text": [
      " 61%|██████    | 61/100 [08:32<05:51,  9.01s/it]"
     ]
    },
    {
     "name": "stdout",
     "output_type": "stream",
     "text": [
      "Saving results to results/internvl/output_internvl.json...\n",
      "Results saved.\n",
      "\n",
      "Generating response for 61...\n"
     ]
    },
    {
     "name": "stderr",
     "output_type": "stream",
     "text": [
      " 62%|██████▏   | 62/100 [08:50<07:29, 11.82s/it]"
     ]
    },
    {
     "name": "stdout",
     "output_type": "stream",
     "text": [
      "Saving results to results/internvl/output_internvl.json...\n",
      "Results saved.\n",
      "\n",
      "Generating response for 62...\n"
     ]
    },
    {
     "name": "stderr",
     "output_type": "stream",
     "text": [
      " 63%|██████▎   | 63/100 [08:58<06:39, 10.79s/it]"
     ]
    },
    {
     "name": "stdout",
     "output_type": "stream",
     "text": [
      "Saving results to results/internvl/output_internvl.json...\n",
      "Results saved.\n",
      "\n",
      "Generating response for 63...\n"
     ]
    },
    {
     "name": "stderr",
     "output_type": "stream",
     "text": [
      " 64%|██████▍   | 64/100 [09:11<06:53, 11.50s/it]"
     ]
    },
    {
     "name": "stdout",
     "output_type": "stream",
     "text": [
      "Saving results to results/internvl/output_internvl.json...\n",
      "Results saved.\n",
      "\n",
      "Generating response for 64...\n"
     ]
    },
    {
     "name": "stderr",
     "output_type": "stream",
     "text": [
      " 65%|██████▌   | 65/100 [09:20<06:13, 10.68s/it]"
     ]
    },
    {
     "name": "stdout",
     "output_type": "stream",
     "text": [
      "Saving results to results/internvl/output_internvl.json...\n",
      "Results saved.\n",
      "\n",
      "Generating response for 65...\n"
     ]
    },
    {
     "name": "stderr",
     "output_type": "stream",
     "text": [
      " 66%|██████▌   | 66/100 [09:26<05:10,  9.14s/it]"
     ]
    },
    {
     "name": "stdout",
     "output_type": "stream",
     "text": [
      "Saving results to results/internvl/output_internvl.json...\n",
      "Results saved.\n",
      "\n",
      "Generating response for 66...\n"
     ]
    },
    {
     "name": "stderr",
     "output_type": "stream",
     "text": [
      " 67%|██████▋   | 67/100 [09:29<04:04,  7.40s/it]"
     ]
    },
    {
     "name": "stdout",
     "output_type": "stream",
     "text": [
      "Saving results to results/internvl/output_internvl.json...\n",
      "Results saved.\n",
      "\n",
      "Generating response for 67...\n"
     ]
    },
    {
     "name": "stderr",
     "output_type": "stream",
     "text": [
      " 68%|██████▊   | 68/100 [09:51<06:14, 11.71s/it]"
     ]
    },
    {
     "name": "stdout",
     "output_type": "stream",
     "text": [
      "Saving results to results/internvl/output_internvl.json...\n",
      "Results saved.\n",
      "\n",
      "Generating response for 68...\n"
     ]
    },
    {
     "name": "stderr",
     "output_type": "stream",
     "text": [
      " 69%|██████▉   | 69/100 [09:54<04:44,  9.17s/it]"
     ]
    },
    {
     "name": "stdout",
     "output_type": "stream",
     "text": [
      "Saving results to results/internvl/output_internvl.json...\n",
      "Results saved.\n",
      "\n",
      "Generating response for 69...\n"
     ]
    },
    {
     "name": "stderr",
     "output_type": "stream",
     "text": [
      " 70%|███████   | 70/100 [09:58<03:44,  7.49s/it]"
     ]
    },
    {
     "name": "stdout",
     "output_type": "stream",
     "text": [
      "Saving results to results/internvl/output_internvl.json...\n",
      "Results saved.\n",
      "\n",
      "Generating response for 70...\n"
     ]
    },
    {
     "name": "stderr",
     "output_type": "stream",
     "text": [
      " 71%|███████   | 71/100 [10:04<03:24,  7.04s/it]"
     ]
    },
    {
     "name": "stdout",
     "output_type": "stream",
     "text": [
      "Saving results to results/internvl/output_internvl.json...\n",
      "Results saved.\n",
      "\n",
      "Generating response for 71...\n"
     ]
    },
    {
     "name": "stderr",
     "output_type": "stream",
     "text": [
      " 72%|███████▏  | 72/100 [10:09<02:59,  6.40s/it]"
     ]
    },
    {
     "name": "stdout",
     "output_type": "stream",
     "text": [
      "Saving results to results/internvl/output_internvl.json...\n",
      "Results saved.\n",
      "\n",
      "Generating response for 72...\n"
     ]
    },
    {
     "name": "stderr",
     "output_type": "stream",
     "text": [
      " 73%|███████▎  | 73/100 [10:17<03:11,  7.11s/it]"
     ]
    },
    {
     "name": "stdout",
     "output_type": "stream",
     "text": [
      "Saving results to results/internvl/output_internvl.json...\n",
      "Results saved.\n",
      "\n",
      "Generating response for 73...\n"
     ]
    },
    {
     "name": "stderr",
     "output_type": "stream",
     "text": [
      " 74%|███████▍  | 74/100 [10:24<03:02,  7.01s/it]"
     ]
    },
    {
     "name": "stdout",
     "output_type": "stream",
     "text": [
      "Saving results to results/internvl/output_internvl.json...\n",
      "Results saved.\n",
      "\n",
      "Generating response for 74...\n"
     ]
    },
    {
     "name": "stderr",
     "output_type": "stream",
     "text": [
      " 75%|███████▌  | 75/100 [10:27<02:25,  5.83s/it]"
     ]
    },
    {
     "name": "stdout",
     "output_type": "stream",
     "text": [
      "Saving results to results/internvl/output_internvl.json...\n",
      "Results saved.\n",
      "\n",
      "Generating response for 75...\n"
     ]
    },
    {
     "name": "stderr",
     "output_type": "stream",
     "text": [
      " 76%|███████▌  | 76/100 [10:36<02:40,  6.71s/it]"
     ]
    },
    {
     "name": "stdout",
     "output_type": "stream",
     "text": [
      "Saving results to results/internvl/output_internvl.json...\n",
      "Results saved.\n",
      "\n",
      "Generating response for 76...\n"
     ]
    },
    {
     "name": "stderr",
     "output_type": "stream",
     "text": [
      " 77%|███████▋  | 77/100 [10:41<02:20,  6.11s/it]"
     ]
    },
    {
     "name": "stdout",
     "output_type": "stream",
     "text": [
      "Saving results to results/internvl/output_internvl.json...\n",
      "Results saved.\n",
      "\n",
      "Generating response for 77...\n"
     ]
    },
    {
     "name": "stderr",
     "output_type": "stream",
     "text": [
      " 78%|███████▊  | 78/100 [10:53<02:52,  7.84s/it]"
     ]
    },
    {
     "name": "stdout",
     "output_type": "stream",
     "text": [
      "Saving results to results/internvl/output_internvl.json...\n",
      "Results saved.\n",
      "\n",
      "Generating response for 78...\n"
     ]
    },
    {
     "name": "stderr",
     "output_type": "stream",
     "text": [
      " 79%|███████▉  | 79/100 [11:04<03:06,  8.87s/it]"
     ]
    },
    {
     "name": "stdout",
     "output_type": "stream",
     "text": [
      "Saving results to results/internvl/output_internvl.json...\n",
      "Results saved.\n",
      "\n",
      "Generating response for 79...\n"
     ]
    },
    {
     "name": "stderr",
     "output_type": "stream",
     "text": [
      " 80%|████████  | 80/100 [11:13<02:58,  8.93s/it]"
     ]
    },
    {
     "name": "stdout",
     "output_type": "stream",
     "text": [
      "Saving results to results/internvl/output_internvl.json...\n",
      "Results saved.\n",
      "\n",
      "Generating response for 80...\n"
     ]
    },
    {
     "name": "stderr",
     "output_type": "stream",
     "text": [
      " 81%|████████  | 81/100 [11:25<03:05,  9.74s/it]"
     ]
    },
    {
     "name": "stdout",
     "output_type": "stream",
     "text": [
      "Saving results to results/internvl/output_internvl.json...\n",
      "Results saved.\n",
      "\n",
      "Generating response for 81...\n"
     ]
    },
    {
     "name": "stderr",
     "output_type": "stream",
     "text": [
      " 82%|████████▏ | 82/100 [11:37<03:11, 10.65s/it]"
     ]
    },
    {
     "name": "stdout",
     "output_type": "stream",
     "text": [
      "Saving results to results/internvl/output_internvl.json...\n",
      "Results saved.\n",
      "\n",
      "Generating response for 82...\n"
     ]
    },
    {
     "name": "stderr",
     "output_type": "stream",
     "text": [
      " 83%|████████▎ | 83/100 [11:45<02:46,  9.78s/it]"
     ]
    },
    {
     "name": "stdout",
     "output_type": "stream",
     "text": [
      "Saving results to results/internvl/output_internvl.json...\n",
      "Results saved.\n",
      "\n",
      "Generating response for 83...\n"
     ]
    },
    {
     "name": "stderr",
     "output_type": "stream",
     "text": [
      " 84%|████████▍ | 84/100 [11:58<02:52, 10.75s/it]"
     ]
    },
    {
     "name": "stdout",
     "output_type": "stream",
     "text": [
      "Saving results to results/internvl/output_internvl.json...\n",
      "Results saved.\n",
      "\n",
      "Generating response for 84...\n"
     ]
    },
    {
     "name": "stderr",
     "output_type": "stream",
     "text": [
      " 85%|████████▌ | 85/100 [12:03<02:16,  9.10s/it]"
     ]
    },
    {
     "name": "stdout",
     "output_type": "stream",
     "text": [
      "Saving results to results/internvl/output_internvl.json...\n",
      "Results saved.\n",
      "\n",
      "Generating response for 85...\n"
     ]
    },
    {
     "name": "stderr",
     "output_type": "stream",
     "text": [
      " 86%|████████▌ | 86/100 [12:21<02:45, 11.79s/it]"
     ]
    },
    {
     "name": "stdout",
     "output_type": "stream",
     "text": [
      "Saving results to results/internvl/output_internvl.json...\n",
      "Results saved.\n",
      "\n",
      "Generating response for 86...\n"
     ]
    },
    {
     "name": "stderr",
     "output_type": "stream",
     "text": [
      " 87%|████████▋ | 87/100 [12:28<02:12, 10.20s/it]"
     ]
    },
    {
     "name": "stdout",
     "output_type": "stream",
     "text": [
      "Saving results to results/internvl/output_internvl.json...\n",
      "Results saved.\n",
      "\n",
      "Generating response for 87...\n"
     ]
    },
    {
     "name": "stderr",
     "output_type": "stream",
     "text": [
      " 88%|████████▊ | 88/100 [12:41<02:13, 11.11s/it]"
     ]
    },
    {
     "name": "stdout",
     "output_type": "stream",
     "text": [
      "Saving results to results/internvl/output_internvl.json...\n",
      "Results saved.\n",
      "\n",
      "Generating response for 88...\n"
     ]
    },
    {
     "name": "stderr",
     "output_type": "stream",
     "text": [
      " 89%|████████▉ | 89/100 [12:45<01:36,  8.80s/it]"
     ]
    },
    {
     "name": "stdout",
     "output_type": "stream",
     "text": [
      "Saving results to results/internvl/output_internvl.json...\n",
      "Results saved.\n",
      "\n",
      "Generating response for 89...\n"
     ]
    },
    {
     "name": "stderr",
     "output_type": "stream",
     "text": [
      " 90%|█████████ | 90/100 [12:47<01:08,  6.87s/it]"
     ]
    },
    {
     "name": "stdout",
     "output_type": "stream",
     "text": [
      "Saving results to results/internvl/output_internvl.json...\n",
      "Results saved.\n",
      "\n",
      "Generating response for 90...\n"
     ]
    },
    {
     "name": "stderr",
     "output_type": "stream",
     "text": [
      " 91%|█████████ | 91/100 [12:50<00:52,  5.86s/it]"
     ]
    },
    {
     "name": "stdout",
     "output_type": "stream",
     "text": [
      "Saving results to results/internvl/output_internvl.json...\n",
      "Results saved.\n",
      "\n",
      "Generating response for 91...\n"
     ]
    },
    {
     "name": "stderr",
     "output_type": "stream",
     "text": [
      " 92%|█████████▏| 92/100 [12:54<00:41,  5.21s/it]"
     ]
    },
    {
     "name": "stdout",
     "output_type": "stream",
     "text": [
      "Saving results to results/internvl/output_internvl.json...\n",
      "Results saved.\n",
      "\n",
      "Generating response for 92...\n"
     ]
    },
    {
     "name": "stderr",
     "output_type": "stream",
     "text": [
      " 93%|█████████▎| 93/100 [13:02<00:42,  6.13s/it]"
     ]
    },
    {
     "name": "stdout",
     "output_type": "stream",
     "text": [
      "Saving results to results/internvl/output_internvl.json...\n",
      "Results saved.\n",
      "\n",
      "Generating response for 93...\n"
     ]
    },
    {
     "name": "stderr",
     "output_type": "stream",
     "text": [
      " 94%|█████████▍| 94/100 [13:18<00:53,  8.85s/it]"
     ]
    },
    {
     "name": "stdout",
     "output_type": "stream",
     "text": [
      "Saving results to results/internvl/output_internvl.json...\n",
      "Results saved.\n",
      "\n",
      "Generating response for 94...\n"
     ]
    },
    {
     "name": "stderr",
     "output_type": "stream",
     "text": [
      " 95%|█████████▌| 95/100 [13:34<00:55, 11.19s/it]"
     ]
    },
    {
     "name": "stdout",
     "output_type": "stream",
     "text": [
      "Saving results to results/internvl/output_internvl.json...\n",
      "Results saved.\n",
      "\n",
      "Generating response for 95...\n"
     ]
    },
    {
     "name": "stderr",
     "output_type": "stream",
     "text": [
      " 96%|█████████▌| 96/100 [13:39<00:37,  9.38s/it]"
     ]
    },
    {
     "name": "stdout",
     "output_type": "stream",
     "text": [
      "Saving results to results/internvl/output_internvl.json...\n",
      "Results saved.\n",
      "\n",
      "Generating response for 96...\n"
     ]
    },
    {
     "name": "stderr",
     "output_type": "stream",
     "text": [
      " 97%|█████████▋| 97/100 [13:42<00:22,  7.36s/it]"
     ]
    },
    {
     "name": "stdout",
     "output_type": "stream",
     "text": [
      "Saving results to results/internvl/output_internvl.json...\n",
      "Results saved.\n",
      "\n",
      "Generating response for 97...\n"
     ]
    },
    {
     "name": "stderr",
     "output_type": "stream",
     "text": [
      " 98%|█████████▊| 98/100 [13:51<00:15,  7.79s/it]"
     ]
    },
    {
     "name": "stdout",
     "output_type": "stream",
     "text": [
      "Saving results to results/internvl/output_internvl.json...\n",
      "Results saved.\n",
      "\n",
      "Generating response for 98...\n"
     ]
    },
    {
     "name": "stderr",
     "output_type": "stream",
     "text": [
      " 99%|█████████▉| 99/100 [13:54<00:06,  6.42s/it]"
     ]
    },
    {
     "name": "stdout",
     "output_type": "stream",
     "text": [
      "Saving results to results/internvl/output_internvl.json...\n",
      "Results saved.\n",
      "\n",
      "Generating response for 99...\n"
     ]
    },
    {
     "name": "stderr",
     "output_type": "stream",
     "text": [
      "100%|██████████| 100/100 [13:58<00:00,  8.38s/it]\n"
     ]
    },
    {
     "name": "stdout",
     "output_type": "stream",
     "text": [
      "Saving results to results/internvl/output_internvl.json...\n",
      "Results saved.\n"
     ]
    },
    {
     "name": "stderr",
     "output_type": "stream",
     "text": [
      "  0%|          | 0/100 [00:00<?, ?it/s]"
     ]
    },
    {
     "name": "stdout",
     "output_type": "stream",
     "text": [
      "\n",
      "Generating response for 0...\n"
     ]
    },
    {
     "name": "stderr",
     "output_type": "stream",
     "text": [
      "  1%|          | 1/100 [00:20<34:27, 20.88s/it]"
     ]
    },
    {
     "name": "stdout",
     "output_type": "stream",
     "text": [
      "Saving results to results/internvl/output_internvl.json...\n",
      "Results saved.\n",
      "\n",
      "Generating response for 1...\n"
     ]
    },
    {
     "name": "stderr",
     "output_type": "stream",
     "text": [
      "  2%|▏         | 2/100 [00:23<16:13,  9.94s/it]"
     ]
    },
    {
     "name": "stdout",
     "output_type": "stream",
     "text": [
      "Saving results to results/internvl/output_internvl.json...\n",
      "Results saved.\n",
      "\n",
      "Generating response for 2...\n"
     ]
    },
    {
     "name": "stderr",
     "output_type": "stream",
     "text": [
      "  3%|▎         | 3/100 [00:38<19:54, 12.32s/it]"
     ]
    },
    {
     "name": "stdout",
     "output_type": "stream",
     "text": [
      "Saving results to results/internvl/output_internvl.json...\n",
      "Results saved.\n",
      "\n",
      "Generating response for 3...\n"
     ]
    },
    {
     "name": "stderr",
     "output_type": "stream",
     "text": [
      "  4%|▍         | 4/100 [00:40<13:11,  8.24s/it]"
     ]
    },
    {
     "name": "stdout",
     "output_type": "stream",
     "text": [
      "Saving results to results/internvl/output_internvl.json...\n",
      "Results saved.\n",
      "\n",
      "Generating response for 4...\n"
     ]
    },
    {
     "name": "stderr",
     "output_type": "stream",
     "text": [
      "  5%|▌         | 5/100 [00:52<15:13,  9.62s/it]"
     ]
    },
    {
     "name": "stdout",
     "output_type": "stream",
     "text": [
      "Saving results to results/internvl/output_internvl.json...\n",
      "Results saved.\n",
      "\n",
      "Generating response for 5...\n"
     ]
    },
    {
     "name": "stderr",
     "output_type": "stream",
     "text": [
      "  6%|▌         | 6/100 [01:00<14:27,  9.23s/it]"
     ]
    },
    {
     "name": "stdout",
     "output_type": "stream",
     "text": [
      "Saving results to results/internvl/output_internvl.json...\n",
      "Results saved.\n",
      "\n",
      "Generating response for 6...\n"
     ]
    },
    {
     "name": "stderr",
     "output_type": "stream",
     "text": [
      "  7%|▋         | 7/100 [01:03<10:46,  6.96s/it]"
     ]
    },
    {
     "name": "stdout",
     "output_type": "stream",
     "text": [
      "Saving results to results/internvl/output_internvl.json...\n",
      "Results saved.\n",
      "\n",
      "Generating response for 7...\n"
     ]
    },
    {
     "name": "stderr",
     "output_type": "stream",
     "text": [
      "  8%|▊         | 8/100 [01:12<11:39,  7.60s/it]"
     ]
    },
    {
     "name": "stdout",
     "output_type": "stream",
     "text": [
      "Saving results to results/internvl/output_internvl.json...\n",
      "Results saved.\n",
      "\n",
      "Generating response for 8...\n"
     ]
    },
    {
     "name": "stderr",
     "output_type": "stream",
     "text": [
      "  9%|▉         | 9/100 [01:27<15:22, 10.14s/it]"
     ]
    },
    {
     "name": "stdout",
     "output_type": "stream",
     "text": [
      "Saving results to results/internvl/output_internvl.json...\n",
      "Results saved.\n",
      "\n",
      "Generating response for 9...\n"
     ]
    },
    {
     "name": "stderr",
     "output_type": "stream",
     "text": [
      " 10%|█         | 10/100 [01:52<21:52, 14.59s/it]"
     ]
    },
    {
     "name": "stdout",
     "output_type": "stream",
     "text": [
      "Saving results to results/internvl/output_internvl.json...\n",
      "Results saved.\n",
      "\n",
      "Generating response for 10...\n"
     ]
    },
    {
     "name": "stderr",
     "output_type": "stream",
     "text": [
      " 11%|█         | 11/100 [01:55<16:18, 10.99s/it]"
     ]
    },
    {
     "name": "stdout",
     "output_type": "stream",
     "text": [
      "Saving results to results/internvl/output_internvl.json...\n",
      "Results saved.\n",
      "\n",
      "Generating response for 11...\n"
     ]
    },
    {
     "name": "stderr",
     "output_type": "stream",
     "text": [
      " 12%|█▏        | 12/100 [01:58<12:33,  8.56s/it]"
     ]
    },
    {
     "name": "stdout",
     "output_type": "stream",
     "text": [
      "Saving results to results/internvl/output_internvl.json...\n",
      "Results saved.\n",
      "\n",
      "Generating response for 12...\n"
     ]
    },
    {
     "name": "stderr",
     "output_type": "stream",
     "text": [
      " 13%|█▎        | 13/100 [02:07<12:37,  8.70s/it]"
     ]
    },
    {
     "name": "stdout",
     "output_type": "stream",
     "text": [
      "Saving results to results/internvl/output_internvl.json...\n",
      "Results saved.\n",
      "\n",
      "Generating response for 13...\n"
     ]
    },
    {
     "name": "stderr",
     "output_type": "stream",
     "text": [
      " 14%|█▍        | 14/100 [02:15<12:05,  8.44s/it]"
     ]
    },
    {
     "name": "stdout",
     "output_type": "stream",
     "text": [
      "Saving results to results/internvl/output_internvl.json...\n",
      "Results saved.\n",
      "\n",
      "Generating response for 14...\n"
     ]
    },
    {
     "name": "stderr",
     "output_type": "stream",
     "text": [
      " 15%|█▌        | 15/100 [02:24<12:10,  8.60s/it]"
     ]
    },
    {
     "name": "stdout",
     "output_type": "stream",
     "text": [
      "Saving results to results/internvl/output_internvl.json...\n",
      "Results saved.\n",
      "\n",
      "Generating response for 15...\n"
     ]
    },
    {
     "name": "stderr",
     "output_type": "stream",
     "text": [
      " 16%|█▌        | 16/100 [02:29<10:55,  7.81s/it]"
     ]
    },
    {
     "name": "stdout",
     "output_type": "stream",
     "text": [
      "Saving results to results/internvl/output_internvl.json...\n",
      "Results saved.\n",
      "\n",
      "Generating response for 16...\n"
     ]
    },
    {
     "name": "stderr",
     "output_type": "stream",
     "text": [
      " 17%|█▋        | 17/100 [02:39<11:37,  8.40s/it]"
     ]
    },
    {
     "name": "stdout",
     "output_type": "stream",
     "text": [
      "Saving results to results/internvl/output_internvl.json...\n",
      "Results saved.\n",
      "\n",
      "Generating response for 17...\n"
     ]
    },
    {
     "name": "stderr",
     "output_type": "stream",
     "text": [
      " 18%|█▊        | 18/100 [02:45<10:20,  7.56s/it]"
     ]
    },
    {
     "name": "stdout",
     "output_type": "stream",
     "text": [
      "Saving results to results/internvl/output_internvl.json...\n",
      "Results saved.\n",
      "\n",
      "Generating response for 18...\n"
     ]
    },
    {
     "name": "stderr",
     "output_type": "stream",
     "text": [
      " 19%|█▉        | 19/100 [02:48<08:33,  6.35s/it]"
     ]
    },
    {
     "name": "stdout",
     "output_type": "stream",
     "text": [
      "Saving results to results/internvl/output_internvl.json...\n",
      "Results saved.\n",
      "\n",
      "Generating response for 19...\n"
     ]
    },
    {
     "name": "stderr",
     "output_type": "stream",
     "text": [
      " 20%|██        | 20/100 [02:55<08:30,  6.38s/it]"
     ]
    },
    {
     "name": "stdout",
     "output_type": "stream",
     "text": [
      "Saving results to results/internvl/output_internvl.json...\n",
      "Results saved.\n",
      "\n",
      "Generating response for 20...\n"
     ]
    },
    {
     "name": "stderr",
     "output_type": "stream",
     "text": [
      " 21%|██        | 21/100 [02:56<06:22,  4.84s/it]"
     ]
    },
    {
     "name": "stdout",
     "output_type": "stream",
     "text": [
      "Saving results to results/internvl/output_internvl.json...\n",
      "Results saved.\n",
      "\n",
      "Generating response for 21...\n"
     ]
    },
    {
     "name": "stderr",
     "output_type": "stream",
     "text": [
      " 22%|██▏       | 22/100 [02:59<05:38,  4.35s/it]"
     ]
    },
    {
     "name": "stdout",
     "output_type": "stream",
     "text": [
      "Saving results to results/internvl/output_internvl.json...\n",
      "Results saved.\n",
      "\n",
      "Generating response for 22...\n"
     ]
    },
    {
     "name": "stderr",
     "output_type": "stream",
     "text": [
      " 23%|██▎       | 23/100 [03:14<09:32,  7.43s/it]"
     ]
    },
    {
     "name": "stdout",
     "output_type": "stream",
     "text": [
      "Saving results to results/internvl/output_internvl.json...\n",
      "Results saved.\n",
      "\n",
      "Generating response for 23...\n"
     ]
    },
    {
     "name": "stderr",
     "output_type": "stream",
     "text": [
      " 24%|██▍       | 24/100 [03:18<08:08,  6.43s/it]"
     ]
    },
    {
     "name": "stdout",
     "output_type": "stream",
     "text": [
      "Saving results to results/internvl/output_internvl.json...\n",
      "Results saved.\n",
      "\n",
      "Generating response for 24...\n"
     ]
    },
    {
     "name": "stderr",
     "output_type": "stream",
     "text": [
      " 25%|██▌       | 25/100 [03:32<10:45,  8.61s/it]"
     ]
    },
    {
     "name": "stdout",
     "output_type": "stream",
     "text": [
      "Saving results to results/internvl/output_internvl.json...\n",
      "Results saved.\n",
      "\n",
      "Generating response for 25...\n"
     ]
    },
    {
     "name": "stderr",
     "output_type": "stream",
     "text": [
      " 26%|██▌       | 26/100 [03:37<09:26,  7.65s/it]"
     ]
    },
    {
     "name": "stdout",
     "output_type": "stream",
     "text": [
      "Saving results to results/internvl/output_internvl.json...\n",
      "Results saved.\n",
      "\n",
      "Generating response for 26...\n"
     ]
    },
    {
     "name": "stderr",
     "output_type": "stream",
     "text": [
      " 27%|██▋       | 27/100 [03:39<07:17,  6.00s/it]"
     ]
    },
    {
     "name": "stdout",
     "output_type": "stream",
     "text": [
      "Saving results to results/internvl/output_internvl.json...\n",
      "Results saved.\n",
      "\n",
      "Generating response for 27...\n"
     ]
    },
    {
     "name": "stderr",
     "output_type": "stream",
     "text": [
      " 28%|██▊       | 28/100 [03:50<08:59,  7.49s/it]"
     ]
    },
    {
     "name": "stdout",
     "output_type": "stream",
     "text": [
      "Saving results to results/internvl/output_internvl.json...\n",
      "Results saved.\n",
      "\n",
      "Generating response for 28...\n"
     ]
    },
    {
     "name": "stderr",
     "output_type": "stream",
     "text": [
      " 29%|██▉       | 29/100 [03:54<07:28,  6.31s/it]"
     ]
    },
    {
     "name": "stdout",
     "output_type": "stream",
     "text": [
      "Saving results to results/internvl/output_internvl.json...\n",
      "Results saved.\n",
      "\n",
      "Generating response for 29...\n"
     ]
    },
    {
     "name": "stderr",
     "output_type": "stream",
     "text": [
      " 30%|███       | 30/100 [04:10<10:56,  9.38s/it]"
     ]
    },
    {
     "name": "stdout",
     "output_type": "stream",
     "text": [
      "Saving results to results/internvl/output_internvl.json...\n",
      "Results saved.\n",
      "\n",
      "Generating response for 30...\n"
     ]
    },
    {
     "name": "stderr",
     "output_type": "stream",
     "text": [
      " 31%|███       | 31/100 [04:16<09:33,  8.32s/it]"
     ]
    },
    {
     "name": "stdout",
     "output_type": "stream",
     "text": [
      "Saving results to results/internvl/output_internvl.json...\n",
      "Results saved.\n",
      "\n",
      "Generating response for 31...\n"
     ]
    },
    {
     "name": "stderr",
     "output_type": "stream",
     "text": [
      " 32%|███▏      | 32/100 [04:30<11:18,  9.97s/it]"
     ]
    },
    {
     "name": "stdout",
     "output_type": "stream",
     "text": [
      "Saving results to results/internvl/output_internvl.json...\n",
      "Results saved.\n",
      "\n",
      "Generating response for 32...\n"
     ]
    },
    {
     "name": "stderr",
     "output_type": "stream",
     "text": [
      " 33%|███▎      | 33/100 [04:41<11:20, 10.16s/it]"
     ]
    },
    {
     "name": "stdout",
     "output_type": "stream",
     "text": [
      "Saving results to results/internvl/output_internvl.json...\n",
      "Results saved.\n",
      "\n",
      "Generating response for 33...\n"
     ]
    },
    {
     "name": "stderr",
     "output_type": "stream",
     "text": [
      " 34%|███▍      | 34/100 [05:00<14:20, 13.04s/it]"
     ]
    },
    {
     "name": "stdout",
     "output_type": "stream",
     "text": [
      "Saving results to results/internvl/output_internvl.json...\n",
      "Results saved.\n",
      "\n",
      "Generating response for 34...\n"
     ]
    },
    {
     "name": "stderr",
     "output_type": "stream",
     "text": [
      " 35%|███▌      | 35/100 [05:19<16:01, 14.79s/it]"
     ]
    },
    {
     "name": "stdout",
     "output_type": "stream",
     "text": [
      "Saving results to results/internvl/output_internvl.json...\n",
      "Results saved.\n",
      "\n",
      "Generating response for 35...\n"
     ]
    },
    {
     "name": "stderr",
     "output_type": "stream",
     "text": [
      " 36%|███▌      | 36/100 [05:21<11:41, 10.96s/it]"
     ]
    },
    {
     "name": "stdout",
     "output_type": "stream",
     "text": [
      "Saving results to results/internvl/output_internvl.json...\n",
      "Results saved.\n",
      "\n",
      "Generating response for 36...\n"
     ]
    },
    {
     "name": "stderr",
     "output_type": "stream",
     "text": [
      " 37%|███▋      | 37/100 [05:36<12:42, 12.10s/it]"
     ]
    },
    {
     "name": "stdout",
     "output_type": "stream",
     "text": [
      "Saving results to results/internvl/output_internvl.json...\n",
      "Results saved.\n",
      "\n",
      "Generating response for 37...\n"
     ]
    },
    {
     "name": "stderr",
     "output_type": "stream",
     "text": [
      " 38%|███▊      | 38/100 [05:39<09:37,  9.31s/it]"
     ]
    },
    {
     "name": "stdout",
     "output_type": "stream",
     "text": [
      "Saving results to results/internvl/output_internvl.json...\n",
      "Results saved.\n",
      "\n",
      "Generating response for 38...\n"
     ]
    },
    {
     "name": "stderr",
     "output_type": "stream",
     "text": [
      " 39%|███▉      | 39/100 [05:53<10:50, 10.67s/it]"
     ]
    },
    {
     "name": "stdout",
     "output_type": "stream",
     "text": [
      "Saving results to results/internvl/output_internvl.json...\n",
      "Results saved.\n",
      "\n",
      "Generating response for 39...\n"
     ]
    },
    {
     "name": "stderr",
     "output_type": "stream",
     "text": [
      " 40%|████      | 40/100 [05:55<08:04,  8.08s/it]"
     ]
    },
    {
     "name": "stdout",
     "output_type": "stream",
     "text": [
      "Saving results to results/internvl/output_internvl.json...\n",
      "Results saved.\n",
      "\n",
      "Generating response for 40...\n"
     ]
    },
    {
     "name": "stderr",
     "output_type": "stream",
     "text": [
      " 41%|████      | 41/100 [05:57<06:06,  6.21s/it]"
     ]
    },
    {
     "name": "stdout",
     "output_type": "stream",
     "text": [
      "Saving results to results/internvl/output_internvl.json...\n",
      "Results saved.\n",
      "\n",
      "Generating response for 41...\n"
     ]
    },
    {
     "name": "stderr",
     "output_type": "stream",
     "text": [
      " 42%|████▏     | 42/100 [05:58<04:40,  4.83s/it]"
     ]
    },
    {
     "name": "stdout",
     "output_type": "stream",
     "text": [
      "Saving results to results/internvl/output_internvl.json...\n",
      "Results saved.\n",
      "\n",
      "Generating response for 42...\n"
     ]
    },
    {
     "name": "stderr",
     "output_type": "stream",
     "text": [
      " 43%|████▎     | 43/100 [06:09<06:25,  6.77s/it]"
     ]
    },
    {
     "name": "stdout",
     "output_type": "stream",
     "text": [
      "Saving results to results/internvl/output_internvl.json...\n",
      "Results saved.\n",
      "\n",
      "Generating response for 43...\n"
     ]
    },
    {
     "name": "stderr",
     "output_type": "stream",
     "text": [
      " 44%|████▍     | 44/100 [06:18<06:42,  7.19s/it]"
     ]
    },
    {
     "name": "stdout",
     "output_type": "stream",
     "text": [
      "Saving results to results/internvl/output_internvl.json...\n",
      "Results saved.\n",
      "\n",
      "Generating response for 44...\n"
     ]
    },
    {
     "name": "stderr",
     "output_type": "stream",
     "text": [
      " 45%|████▌     | 45/100 [06:26<06:54,  7.54s/it]"
     ]
    },
    {
     "name": "stdout",
     "output_type": "stream",
     "text": [
      "Saving results to results/internvl/output_internvl.json...\n",
      "Results saved.\n",
      "\n",
      "Generating response for 45...\n"
     ]
    },
    {
     "name": "stderr",
     "output_type": "stream",
     "text": [
      " 46%|████▌     | 46/100 [06:32<06:24,  7.12s/it]"
     ]
    },
    {
     "name": "stdout",
     "output_type": "stream",
     "text": [
      "Saving results to results/internvl/output_internvl.json...\n",
      "Results saved.\n",
      "\n",
      "Generating response for 46...\n"
     ]
    },
    {
     "name": "stderr",
     "output_type": "stream",
     "text": [
      " 47%|████▋     | 47/100 [06:35<05:07,  5.80s/it]"
     ]
    },
    {
     "name": "stdout",
     "output_type": "stream",
     "text": [
      "Saving results to results/internvl/output_internvl.json...\n",
      "Results saved.\n",
      "\n",
      "Generating response for 47...\n"
     ]
    },
    {
     "name": "stderr",
     "output_type": "stream",
     "text": [
      " 48%|████▊     | 48/100 [06:53<08:08,  9.39s/it]"
     ]
    },
    {
     "name": "stdout",
     "output_type": "stream",
     "text": [
      "Saving results to results/internvl/output_internvl.json...\n",
      "Results saved.\n",
      "\n",
      "Generating response for 48...\n"
     ]
    },
    {
     "name": "stderr",
     "output_type": "stream",
     "text": [
      " 49%|████▉     | 49/100 [06:56<06:31,  7.68s/it]"
     ]
    },
    {
     "name": "stdout",
     "output_type": "stream",
     "text": [
      "Saving results to results/internvl/output_internvl.json...\n",
      "Results saved.\n",
      "\n",
      "Generating response for 49...\n"
     ]
    },
    {
     "name": "stderr",
     "output_type": "stream",
     "text": [
      " 50%|█████     | 50/100 [07:13<08:45, 10.51s/it]"
     ]
    },
    {
     "name": "stdout",
     "output_type": "stream",
     "text": [
      "Saving results to results/internvl/output_internvl.json...\n",
      "Results saved.\n",
      "\n",
      "Generating response for 50...\n"
     ]
    },
    {
     "name": "stderr",
     "output_type": "stream",
     "text": [
      " 51%|█████     | 51/100 [07:18<07:07,  8.73s/it]"
     ]
    },
    {
     "name": "stdout",
     "output_type": "stream",
     "text": [
      "Saving results to results/internvl/output_internvl.json...\n",
      "Results saved.\n",
      "\n",
      "Generating response for 51...\n"
     ]
    },
    {
     "name": "stderr",
     "output_type": "stream",
     "text": [
      " 52%|█████▏    | 52/100 [07:20<05:23,  6.74s/it]"
     ]
    },
    {
     "name": "stdout",
     "output_type": "stream",
     "text": [
      "Saving results to results/internvl/output_internvl.json...\n",
      "Results saved.\n",
      "\n",
      "Generating response for 52...\n"
     ]
    },
    {
     "name": "stderr",
     "output_type": "stream",
     "text": [
      " 53%|█████▎    | 53/100 [07:22<04:15,  5.43s/it]"
     ]
    },
    {
     "name": "stdout",
     "output_type": "stream",
     "text": [
      "Saving results to results/internvl/output_internvl.json...\n",
      "Results saved.\n",
      "\n",
      "Generating response for 53...\n"
     ]
    },
    {
     "name": "stderr",
     "output_type": "stream",
     "text": [
      " 54%|█████▍    | 54/100 [07:32<05:09,  6.72s/it]"
     ]
    },
    {
     "name": "stdout",
     "output_type": "stream",
     "text": [
      "Saving results to results/internvl/output_internvl.json...\n",
      "Results saved.\n",
      "\n",
      "Generating response for 54...\n"
     ]
    },
    {
     "name": "stderr",
     "output_type": "stream",
     "text": [
      " 55%|█████▌    | 55/100 [07:43<05:52,  7.83s/it]"
     ]
    },
    {
     "name": "stdout",
     "output_type": "stream",
     "text": [
      "Saving results to results/internvl/output_internvl.json...\n",
      "Results saved.\n",
      "\n",
      "Generating response for 55...\n"
     ]
    },
    {
     "name": "stderr",
     "output_type": "stream",
     "text": [
      " 56%|█████▌    | 56/100 [07:49<05:20,  7.28s/it]"
     ]
    },
    {
     "name": "stdout",
     "output_type": "stream",
     "text": [
      "Saving results to results/internvl/output_internvl.json...\n",
      "Results saved.\n",
      "\n",
      "Generating response for 56...\n"
     ]
    },
    {
     "name": "stderr",
     "output_type": "stream",
     "text": [
      " 57%|█████▋    | 57/100 [07:52<04:17,  5.98s/it]"
     ]
    },
    {
     "name": "stdout",
     "output_type": "stream",
     "text": [
      "Saving results to results/internvl/output_internvl.json...\n",
      "Results saved.\n",
      "\n",
      "Generating response for 57...\n"
     ]
    },
    {
     "name": "stderr",
     "output_type": "stream",
     "text": [
      " 58%|█████▊    | 58/100 [08:03<05:21,  7.66s/it]"
     ]
    },
    {
     "name": "stdout",
     "output_type": "stream",
     "text": [
      "Saving results to results/internvl/output_internvl.json...\n",
      "Results saved.\n",
      "\n",
      "Generating response for 58...\n"
     ]
    },
    {
     "name": "stderr",
     "output_type": "stream",
     "text": [
      " 59%|█████▉    | 59/100 [08:21<07:21, 10.78s/it]"
     ]
    },
    {
     "name": "stdout",
     "output_type": "stream",
     "text": [
      "Saving results to results/internvl/output_internvl.json...\n",
      "Results saved.\n",
      "\n",
      "Generating response for 59...\n"
     ]
    },
    {
     "name": "stderr",
     "output_type": "stream",
     "text": [
      " 60%|██████    | 60/100 [08:27<06:12,  9.30s/it]"
     ]
    },
    {
     "name": "stdout",
     "output_type": "stream",
     "text": [
      "Saving results to results/internvl/output_internvl.json...\n",
      "Results saved.\n",
      "\n",
      "Generating response for 60...\n"
     ]
    },
    {
     "name": "stderr",
     "output_type": "stream",
     "text": [
      " 61%|██████    | 61/100 [08:37<06:11,  9.53s/it]"
     ]
    },
    {
     "name": "stdout",
     "output_type": "stream",
     "text": [
      "Saving results to results/internvl/output_internvl.json...\n",
      "Results saved.\n",
      "\n",
      "Generating response for 61...\n"
     ]
    },
    {
     "name": "stderr",
     "output_type": "stream",
     "text": [
      " 62%|██████▏   | 62/100 [08:51<06:46, 10.70s/it]"
     ]
    },
    {
     "name": "stdout",
     "output_type": "stream",
     "text": [
      "Saving results to results/internvl/output_internvl.json...\n",
      "Results saved.\n",
      "\n",
      "Generating response for 62...\n"
     ]
    },
    {
     "name": "stderr",
     "output_type": "stream",
     "text": [
      " 63%|██████▎   | 63/100 [08:59<06:09,  9.98s/it]"
     ]
    },
    {
     "name": "stdout",
     "output_type": "stream",
     "text": [
      "Saving results to results/internvl/output_internvl.json...\n",
      "Results saved.\n",
      "\n",
      "Generating response for 63...\n"
     ]
    },
    {
     "name": "stderr",
     "output_type": "stream",
     "text": [
      " 64%|██████▍   | 64/100 [09:11<06:21, 10.60s/it]"
     ]
    },
    {
     "name": "stdout",
     "output_type": "stream",
     "text": [
      "Saving results to results/internvl/output_internvl.json...\n",
      "Results saved.\n",
      "\n",
      "Generating response for 64...\n"
     ]
    },
    {
     "name": "stderr",
     "output_type": "stream",
     "text": [
      " 65%|██████▌   | 65/100 [09:19<05:46,  9.90s/it]"
     ]
    },
    {
     "name": "stdout",
     "output_type": "stream",
     "text": [
      "Saving results to results/internvl/output_internvl.json...\n",
      "Results saved.\n",
      "\n",
      "Generating response for 65...\n"
     ]
    },
    {
     "name": "stderr",
     "output_type": "stream",
     "text": [
      " 66%|██████▌   | 66/100 [09:24<04:42,  8.30s/it]"
     ]
    },
    {
     "name": "stdout",
     "output_type": "stream",
     "text": [
      "Saving results to results/internvl/output_internvl.json...\n",
      "Results saved.\n",
      "\n",
      "Generating response for 66...\n"
     ]
    },
    {
     "name": "stderr",
     "output_type": "stream",
     "text": [
      " 67%|██████▋   | 67/100 [09:28<03:58,  7.23s/it]"
     ]
    },
    {
     "name": "stdout",
     "output_type": "stream",
     "text": [
      "Saving results to results/internvl/output_internvl.json...\n",
      "Results saved.\n",
      "\n",
      "Generating response for 67...\n"
     ]
    },
    {
     "name": "stderr",
     "output_type": "stream",
     "text": [
      " 68%|██████▊   | 68/100 [09:46<05:30, 10.33s/it]"
     ]
    },
    {
     "name": "stdout",
     "output_type": "stream",
     "text": [
      "Saving results to results/internvl/output_internvl.json...\n",
      "Results saved.\n",
      "\n",
      "Generating response for 68...\n"
     ]
    },
    {
     "name": "stderr",
     "output_type": "stream",
     "text": [
      " 69%|██████▉   | 69/100 [09:49<04:09,  8.06s/it]"
     ]
    },
    {
     "name": "stdout",
     "output_type": "stream",
     "text": [
      "Saving results to results/internvl/output_internvl.json...\n",
      "Results saved.\n",
      "\n",
      "Generating response for 69...\n"
     ]
    },
    {
     "name": "stderr",
     "output_type": "stream",
     "text": [
      " 70%|███████   | 70/100 [09:53<03:24,  6.82s/it]"
     ]
    },
    {
     "name": "stdout",
     "output_type": "stream",
     "text": [
      "Saving results to results/internvl/output_internvl.json...\n",
      "Results saved.\n",
      "\n",
      "Generating response for 70...\n"
     ]
    },
    {
     "name": "stderr",
     "output_type": "stream",
     "text": [
      " 71%|███████   | 71/100 [09:59<03:15,  6.72s/it]"
     ]
    },
    {
     "name": "stdout",
     "output_type": "stream",
     "text": [
      "Saving results to results/internvl/output_internvl.json...\n",
      "Results saved.\n",
      "\n",
      "Generating response for 71...\n"
     ]
    },
    {
     "name": "stderr",
     "output_type": "stream",
     "text": [
      " 72%|███████▏  | 72/100 [10:04<02:54,  6.24s/it]"
     ]
    },
    {
     "name": "stdout",
     "output_type": "stream",
     "text": [
      "Saving results to results/internvl/output_internvl.json...\n",
      "Results saved.\n",
      "\n",
      "Generating response for 72...\n"
     ]
    },
    {
     "name": "stderr",
     "output_type": "stream",
     "text": [
      " 73%|███████▎  | 73/100 [10:11<02:52,  6.40s/it]"
     ]
    },
    {
     "name": "stdout",
     "output_type": "stream",
     "text": [
      "Saving results to results/internvl/output_internvl.json...\n",
      "Results saved.\n",
      "\n",
      "Generating response for 73...\n"
     ]
    },
    {
     "name": "stderr",
     "output_type": "stream",
     "text": [
      " 74%|███████▍  | 74/100 [10:18<02:47,  6.45s/it]"
     ]
    },
    {
     "name": "stdout",
     "output_type": "stream",
     "text": [
      "Saving results to results/internvl/output_internvl.json...\n",
      "Results saved.\n",
      "\n",
      "Generating response for 74...\n"
     ]
    },
    {
     "name": "stderr",
     "output_type": "stream",
     "text": [
      " 75%|███████▌  | 75/100 [10:24<02:38,  6.33s/it]"
     ]
    },
    {
     "name": "stdout",
     "output_type": "stream",
     "text": [
      "Saving results to results/internvl/output_internvl.json...\n",
      "Results saved.\n",
      "\n",
      "Generating response for 75...\n"
     ]
    },
    {
     "name": "stderr",
     "output_type": "stream",
     "text": [
      " 76%|███████▌  | 76/100 [10:32<02:44,  6.84s/it]"
     ]
    },
    {
     "name": "stdout",
     "output_type": "stream",
     "text": [
      "Saving results to results/internvl/output_internvl.json...\n",
      "Results saved.\n",
      "\n",
      "Generating response for 76...\n"
     ]
    },
    {
     "name": "stderr",
     "output_type": "stream",
     "text": [
      " 77%|███████▋  | 77/100 [10:39<02:39,  6.93s/it]"
     ]
    },
    {
     "name": "stdout",
     "output_type": "stream",
     "text": [
      "Saving results to results/internvl/output_internvl.json...\n",
      "Results saved.\n",
      "\n",
      "Generating response for 77...\n"
     ]
    },
    {
     "name": "stderr",
     "output_type": "stream",
     "text": [
      " 78%|███████▊  | 78/100 [10:45<02:23,  6.54s/it]"
     ]
    },
    {
     "name": "stdout",
     "output_type": "stream",
     "text": [
      "Saving results to results/internvl/output_internvl.json...\n",
      "Results saved.\n",
      "\n",
      "Generating response for 78...\n"
     ]
    },
    {
     "name": "stderr",
     "output_type": "stream",
     "text": [
      " 79%|███████▉  | 79/100 [10:58<02:59,  8.56s/it]"
     ]
    },
    {
     "name": "stdout",
     "output_type": "stream",
     "text": [
      "Saving results to results/internvl/output_internvl.json...\n",
      "Results saved.\n",
      "\n",
      "Generating response for 79...\n"
     ]
    },
    {
     "name": "stderr",
     "output_type": "stream",
     "text": [
      " 80%|████████  | 80/100 [11:06<02:51,  8.55s/it]"
     ]
    },
    {
     "name": "stdout",
     "output_type": "stream",
     "text": [
      "Saving results to results/internvl/output_internvl.json...\n",
      "Results saved.\n",
      "\n",
      "Generating response for 80...\n"
     ]
    },
    {
     "name": "stderr",
     "output_type": "stream",
     "text": [
      " 81%|████████  | 81/100 [11:17<02:51,  9.03s/it]"
     ]
    },
    {
     "name": "stdout",
     "output_type": "stream",
     "text": [
      "Saving results to results/internvl/output_internvl.json...\n",
      "Results saved.\n",
      "\n",
      "Generating response for 81...\n"
     ]
    },
    {
     "name": "stderr",
     "output_type": "stream",
     "text": [
      " 82%|████████▏ | 82/100 [11:30<03:04, 10.25s/it]"
     ]
    },
    {
     "name": "stdout",
     "output_type": "stream",
     "text": [
      "Saving results to results/internvl/output_internvl.json...\n",
      "Results saved.\n",
      "\n",
      "Generating response for 82...\n"
     ]
    },
    {
     "name": "stderr",
     "output_type": "stream",
     "text": [
      " 83%|████████▎ | 83/100 [11:39<02:50, 10.01s/it]"
     ]
    },
    {
     "name": "stdout",
     "output_type": "stream",
     "text": [
      "Saving results to results/internvl/output_internvl.json...\n",
      "Results saved.\n",
      "\n",
      "Generating response for 83...\n"
     ]
    },
    {
     "name": "stderr",
     "output_type": "stream",
     "text": [
      " 84%|████████▍ | 84/100 [11:57<03:19, 12.47s/it]"
     ]
    },
    {
     "name": "stdout",
     "output_type": "stream",
     "text": [
      "Saving results to results/internvl/output_internvl.json...\n",
      "Results saved.\n",
      "\n",
      "Generating response for 84...\n"
     ]
    },
    {
     "name": "stderr",
     "output_type": "stream",
     "text": [
      " 85%|████████▌ | 85/100 [12:02<02:32, 10.15s/it]"
     ]
    },
    {
     "name": "stdout",
     "output_type": "stream",
     "text": [
      "Saving results to results/internvl/output_internvl.json...\n",
      "Results saved.\n",
      "\n",
      "Generating response for 85...\n"
     ]
    },
    {
     "name": "stderr",
     "output_type": "stream",
     "text": [
      " 86%|████████▌ | 86/100 [12:23<03:09, 13.52s/it]"
     ]
    },
    {
     "name": "stdout",
     "output_type": "stream",
     "text": [
      "Saving results to results/internvl/output_internvl.json...\n",
      "Results saved.\n",
      "\n",
      "Generating response for 86...\n"
     ]
    },
    {
     "name": "stderr",
     "output_type": "stream",
     "text": [
      " 87%|████████▋ | 87/100 [12:33<02:40, 12.38s/it]"
     ]
    },
    {
     "name": "stdout",
     "output_type": "stream",
     "text": [
      "Saving results to results/internvl/output_internvl.json...\n",
      "Results saved.\n",
      "\n",
      "Generating response for 87...\n"
     ]
    },
    {
     "name": "stderr",
     "output_type": "stream",
     "text": [
      " 88%|████████▊ | 88/100 [12:43<02:20, 11.73s/it]"
     ]
    },
    {
     "name": "stdout",
     "output_type": "stream",
     "text": [
      "Saving results to results/internvl/output_internvl.json...\n",
      "Results saved.\n",
      "\n",
      "Generating response for 88...\n"
     ]
    },
    {
     "name": "stderr",
     "output_type": "stream",
     "text": [
      " 89%|████████▉ | 89/100 [12:46<01:39,  9.08s/it]"
     ]
    },
    {
     "name": "stdout",
     "output_type": "stream",
     "text": [
      "Saving results to results/internvl/output_internvl.json...\n",
      "Results saved.\n",
      "\n",
      "Generating response for 89...\n"
     ]
    },
    {
     "name": "stderr",
     "output_type": "stream",
     "text": [
      " 90%|█████████ | 90/100 [12:48<01:09,  6.97s/it]"
     ]
    },
    {
     "name": "stdout",
     "output_type": "stream",
     "text": [
      "Saving results to results/internvl/output_internvl.json...\n",
      "Results saved.\n",
      "\n",
      "Generating response for 90...\n"
     ]
    },
    {
     "name": "stderr",
     "output_type": "stream",
     "text": [
      " 91%|█████████ | 91/100 [12:51<00:51,  5.75s/it]"
     ]
    },
    {
     "name": "stdout",
     "output_type": "stream",
     "text": [
      "Saving results to results/internvl/output_internvl.json...\n",
      "Results saved.\n",
      "\n",
      "Generating response for 91...\n"
     ]
    },
    {
     "name": "stderr",
     "output_type": "stream",
     "text": [
      " 92%|█████████▏| 92/100 [12:55<00:40,  5.06s/it]"
     ]
    },
    {
     "name": "stdout",
     "output_type": "stream",
     "text": [
      "Saving results to results/internvl/output_internvl.json...\n",
      "Results saved.\n",
      "\n",
      "Generating response for 92...\n"
     ]
    },
    {
     "name": "stderr",
     "output_type": "stream",
     "text": [
      " 93%|█████████▎| 93/100 [13:02<00:39,  5.61s/it]"
     ]
    },
    {
     "name": "stdout",
     "output_type": "stream",
     "text": [
      "Saving results to results/internvl/output_internvl.json...\n",
      "Results saved.\n",
      "\n",
      "Generating response for 93...\n"
     ]
    },
    {
     "name": "stderr",
     "output_type": "stream",
     "text": [
      " 94%|█████████▍| 94/100 [13:18<00:53,  8.93s/it]"
     ]
    },
    {
     "name": "stdout",
     "output_type": "stream",
     "text": [
      "Saving results to results/internvl/output_internvl.json...\n",
      "Results saved.\n",
      "\n",
      "Generating response for 94...\n"
     ]
    },
    {
     "name": "stderr",
     "output_type": "stream",
     "text": [
      " 95%|█████████▌| 95/100 [13:42<01:06, 13.37s/it]"
     ]
    },
    {
     "name": "stdout",
     "output_type": "stream",
     "text": [
      "Saving results to results/internvl/output_internvl.json...\n",
      "Results saved.\n",
      "\n",
      "Generating response for 95...\n"
     ]
    },
    {
     "name": "stderr",
     "output_type": "stream",
     "text": [
      " 96%|█████████▌| 96/100 [13:48<00:44, 11.14s/it]"
     ]
    },
    {
     "name": "stdout",
     "output_type": "stream",
     "text": [
      "Saving results to results/internvl/output_internvl.json...\n",
      "Results saved.\n",
      "\n",
      "Generating response for 96...\n"
     ]
    },
    {
     "name": "stderr",
     "output_type": "stream",
     "text": [
      " 97%|█████████▋| 97/100 [13:51<00:25,  8.65s/it]"
     ]
    },
    {
     "name": "stdout",
     "output_type": "stream",
     "text": [
      "Saving results to results/internvl/output_internvl.json...\n",
      "Results saved.\n",
      "\n",
      "Generating response for 97...\n"
     ]
    },
    {
     "name": "stderr",
     "output_type": "stream",
     "text": [
      " 98%|█████████▊| 98/100 [13:54<00:13,  6.94s/it]"
     ]
    },
    {
     "name": "stdout",
     "output_type": "stream",
     "text": [
      "Saving results to results/internvl/output_internvl.json...\n",
      "Results saved.\n",
      "\n",
      "Generating response for 98...\n"
     ]
    },
    {
     "name": "stderr",
     "output_type": "stream",
     "text": [
      " 99%|█████████▉| 99/100 [13:58<00:06,  6.26s/it]"
     ]
    },
    {
     "name": "stdout",
     "output_type": "stream",
     "text": [
      "Saving results to results/internvl/output_internvl.json...\n",
      "Results saved.\n",
      "\n",
      "Generating response for 99...\n"
     ]
    },
    {
     "name": "stderr",
     "output_type": "stream",
     "text": [
      "100%|██████████| 100/100 [14:01<00:00,  8.42s/it]\n"
     ]
    },
    {
     "name": "stdout",
     "output_type": "stream",
     "text": [
      "Saving results to results/internvl/output_internvl.json...\n",
      "Results saved.\n"
     ]
    },
    {
     "name": "stderr",
     "output_type": "stream",
     "text": [
      "  0%|          | 0/100 [00:00<?, ?it/s]"
     ]
    },
    {
     "name": "stdout",
     "output_type": "stream",
     "text": [
      "\n",
      "Generating response for 0...\n"
     ]
    },
    {
     "name": "stderr",
     "output_type": "stream",
     "text": [
      "  1%|          | 1/100 [00:19<32:51, 19.92s/it]"
     ]
    },
    {
     "name": "stdout",
     "output_type": "stream",
     "text": [
      "Saving results to results/internvl/output_internvl.json...\n",
      "Results saved.\n",
      "\n",
      "Generating response for 1...\n"
     ]
    },
    {
     "name": "stderr",
     "output_type": "stream",
     "text": [
      "  2%|▏         | 2/100 [00:22<15:24,  9.44s/it]"
     ]
    },
    {
     "name": "stdout",
     "output_type": "stream",
     "text": [
      "Saving results to results/internvl/output_internvl.json...\n",
      "Results saved.\n",
      "\n",
      "Generating response for 2...\n"
     ]
    },
    {
     "name": "stderr",
     "output_type": "stream",
     "text": [
      "  3%|▎         | 3/100 [00:41<22:25, 13.87s/it]"
     ]
    },
    {
     "name": "stdout",
     "output_type": "stream",
     "text": [
      "Saving results to results/internvl/output_internvl.json...\n",
      "Results saved.\n",
      "\n",
      "Generating response for 3...\n"
     ]
    },
    {
     "name": "stderr",
     "output_type": "stream",
     "text": [
      "  4%|▍         | 4/100 [00:43<14:42,  9.20s/it]"
     ]
    },
    {
     "name": "stdout",
     "output_type": "stream",
     "text": [
      "Saving results to results/internvl/output_internvl.json...\n",
      "Results saved.\n",
      "\n",
      "Generating response for 4...\n"
     ]
    },
    {
     "name": "stderr",
     "output_type": "stream",
     "text": [
      "  5%|▌         | 5/100 [00:55<16:13, 10.24s/it]"
     ]
    },
    {
     "name": "stdout",
     "output_type": "stream",
     "text": [
      "Saving results to results/internvl/output_internvl.json...\n",
      "Results saved.\n",
      "\n",
      "Generating response for 5...\n"
     ]
    },
    {
     "name": "stderr",
     "output_type": "stream",
     "text": [
      "  6%|▌         | 6/100 [01:03<14:54,  9.52s/it]"
     ]
    },
    {
     "name": "stdout",
     "output_type": "stream",
     "text": [
      "Saving results to results/internvl/output_internvl.json...\n",
      "Results saved.\n",
      "\n",
      "Generating response for 6...\n"
     ]
    },
    {
     "name": "stderr",
     "output_type": "stream",
     "text": [
      "  7%|▋         | 7/100 [01:05<11:13,  7.25s/it]"
     ]
    },
    {
     "name": "stdout",
     "output_type": "stream",
     "text": [
      "Saving results to results/internvl/output_internvl.json...\n",
      "Results saved.\n",
      "\n",
      "Generating response for 7...\n"
     ]
    },
    {
     "name": "stderr",
     "output_type": "stream",
     "text": [
      "  8%|▊         | 8/100 [01:13<11:28,  7.48s/it]"
     ]
    },
    {
     "name": "stdout",
     "output_type": "stream",
     "text": [
      "Saving results to results/internvl/output_internvl.json...\n",
      "Results saved.\n",
      "\n",
      "Generating response for 8...\n"
     ]
    },
    {
     "name": "stderr",
     "output_type": "stream",
     "text": [
      "  9%|▉         | 9/100 [01:25<13:26,  8.86s/it]"
     ]
    },
    {
     "name": "stdout",
     "output_type": "stream",
     "text": [
      "Saving results to results/internvl/output_internvl.json...\n",
      "Results saved.\n",
      "\n",
      "Generating response for 9...\n"
     ]
    },
    {
     "name": "stderr",
     "output_type": "stream",
     "text": [
      " 10%|█         | 10/100 [01:59<24:50, 16.57s/it]"
     ]
    },
    {
     "name": "stdout",
     "output_type": "stream",
     "text": [
      "Saving results to results/internvl/output_internvl.json...\n",
      "Results saved.\n",
      "\n",
      "Generating response for 10...\n"
     ]
    },
    {
     "name": "stderr",
     "output_type": "stream",
     "text": [
      " 11%|█         | 11/100 [02:01<17:57, 12.10s/it]"
     ]
    },
    {
     "name": "stdout",
     "output_type": "stream",
     "text": [
      "Saving results to results/internvl/output_internvl.json...\n",
      "Results saved.\n",
      "\n",
      "Generating response for 11...\n"
     ]
    },
    {
     "name": "stderr",
     "output_type": "stream",
     "text": [
      " 12%|█▏        | 12/100 [02:04<13:42,  9.35s/it]"
     ]
    },
    {
     "name": "stdout",
     "output_type": "stream",
     "text": [
      "Saving results to results/internvl/output_internvl.json...\n",
      "Results saved.\n",
      "\n",
      "Generating response for 12...\n"
     ]
    },
    {
     "name": "stderr",
     "output_type": "stream",
     "text": [
      " 13%|█▎        | 13/100 [02:09<11:34,  7.98s/it]"
     ]
    },
    {
     "name": "stdout",
     "output_type": "stream",
     "text": [
      "Saving results to results/internvl/output_internvl.json...\n",
      "Results saved.\n",
      "\n",
      "Generating response for 13...\n"
     ]
    },
    {
     "name": "stderr",
     "output_type": "stream",
     "text": [
      " 14%|█▍        | 14/100 [02:17<11:19,  7.90s/it]"
     ]
    },
    {
     "name": "stdout",
     "output_type": "stream",
     "text": [
      "Saving results to results/internvl/output_internvl.json...\n",
      "Results saved.\n",
      "\n",
      "Generating response for 14...\n"
     ]
    },
    {
     "name": "stderr",
     "output_type": "stream",
     "text": [
      " 15%|█▌        | 15/100 [02:26<11:35,  8.18s/it]"
     ]
    },
    {
     "name": "stdout",
     "output_type": "stream",
     "text": [
      "Saving results to results/internvl/output_internvl.json...\n",
      "Results saved.\n",
      "\n",
      "Generating response for 15...\n"
     ]
    },
    {
     "name": "stderr",
     "output_type": "stream",
     "text": [
      " 16%|█▌        | 16/100 [02:31<10:09,  7.26s/it]"
     ]
    },
    {
     "name": "stdout",
     "output_type": "stream",
     "text": [
      "Saving results to results/internvl/output_internvl.json...\n",
      "Results saved.\n",
      "\n",
      "Generating response for 16...\n"
     ]
    },
    {
     "name": "stderr",
     "output_type": "stream",
     "text": [
      " 17%|█▋        | 17/100 [02:40<11:05,  8.01s/it]"
     ]
    },
    {
     "name": "stdout",
     "output_type": "stream",
     "text": [
      "Saving results to results/internvl/output_internvl.json...\n",
      "Results saved.\n",
      "\n",
      "Generating response for 17...\n"
     ]
    },
    {
     "name": "stderr",
     "output_type": "stream",
     "text": [
      " 18%|█▊        | 18/100 [02:45<09:22,  6.86s/it]"
     ]
    },
    {
     "name": "stdout",
     "output_type": "stream",
     "text": [
      "Saving results to results/internvl/output_internvl.json...\n",
      "Results saved.\n",
      "\n",
      "Generating response for 18...\n"
     ]
    },
    {
     "name": "stderr",
     "output_type": "stream",
     "text": [
      " 19%|█▉        | 19/100 [02:47<07:33,  5.60s/it]"
     ]
    },
    {
     "name": "stdout",
     "output_type": "stream",
     "text": [
      "Saving results to results/internvl/output_internvl.json...\n",
      "Results saved.\n",
      "\n",
      "Generating response for 19...\n"
     ]
    },
    {
     "name": "stderr",
     "output_type": "stream",
     "text": [
      " 20%|██        | 20/100 [02:53<07:33,  5.66s/it]"
     ]
    },
    {
     "name": "stdout",
     "output_type": "stream",
     "text": [
      "Saving results to results/internvl/output_internvl.json...\n",
      "Results saved.\n",
      "\n",
      "Generating response for 20...\n"
     ]
    },
    {
     "name": "stderr",
     "output_type": "stream",
     "text": [
      " 21%|██        | 21/100 [02:55<05:57,  4.53s/it]"
     ]
    },
    {
     "name": "stdout",
     "output_type": "stream",
     "text": [
      "Saving results to results/internvl/output_internvl.json...\n",
      "Results saved.\n",
      "\n",
      "Generating response for 21...\n"
     ]
    },
    {
     "name": "stderr",
     "output_type": "stream",
     "text": [
      " 22%|██▏       | 22/100 [02:58<05:22,  4.14s/it]"
     ]
    },
    {
     "name": "stdout",
     "output_type": "stream",
     "text": [
      "Saving results to results/internvl/output_internvl.json...\n",
      "Results saved.\n",
      "\n",
      "Generating response for 22...\n"
     ]
    },
    {
     "name": "stderr",
     "output_type": "stream",
     "text": [
      " 23%|██▎       | 23/100 [03:09<07:50,  6.11s/it]"
     ]
    },
    {
     "name": "stdout",
     "output_type": "stream",
     "text": [
      "Saving results to results/internvl/output_internvl.json...\n",
      "Results saved.\n",
      "\n",
      "Generating response for 23...\n"
     ]
    },
    {
     "name": "stderr",
     "output_type": "stream",
     "text": [
      " 24%|██▍       | 24/100 [03:14<07:12,  5.69s/it]"
     ]
    },
    {
     "name": "stdout",
     "output_type": "stream",
     "text": [
      "Saving results to results/internvl/output_internvl.json...\n",
      "Results saved.\n",
      "\n",
      "Generating response for 24...\n"
     ]
    },
    {
     "name": "stderr",
     "output_type": "stream",
     "text": [
      " 25%|██▌       | 25/100 [03:27<10:02,  8.03s/it]"
     ]
    },
    {
     "name": "stdout",
     "output_type": "stream",
     "text": [
      "Saving results to results/internvl/output_internvl.json...\n",
      "Results saved.\n",
      "\n",
      "Generating response for 25...\n"
     ]
    },
    {
     "name": "stderr",
     "output_type": "stream",
     "text": [
      " 26%|██▌       | 26/100 [03:32<08:53,  7.21s/it]"
     ]
    },
    {
     "name": "stdout",
     "output_type": "stream",
     "text": [
      "Saving results to results/internvl/output_internvl.json...\n",
      "Results saved.\n",
      "\n",
      "Generating response for 26...\n"
     ]
    },
    {
     "name": "stderr",
     "output_type": "stream",
     "text": [
      " 27%|██▋       | 27/100 [03:35<06:57,  5.72s/it]"
     ]
    },
    {
     "name": "stdout",
     "output_type": "stream",
     "text": [
      "Saving results to results/internvl/output_internvl.json...\n",
      "Results saved.\n",
      "\n",
      "Generating response for 27...\n"
     ]
    },
    {
     "name": "stderr",
     "output_type": "stream",
     "text": [
      " 28%|██▊       | 28/100 [03:46<08:55,  7.44s/it]"
     ]
    },
    {
     "name": "stdout",
     "output_type": "stream",
     "text": [
      "Saving results to results/internvl/output_internvl.json...\n",
      "Results saved.\n",
      "\n",
      "Generating response for 28...\n"
     ]
    },
    {
     "name": "stderr",
     "output_type": "stream",
     "text": [
      " 29%|██▉       | 29/100 [03:49<07:17,  6.17s/it]"
     ]
    },
    {
     "name": "stdout",
     "output_type": "stream",
     "text": [
      "Saving results to results/internvl/output_internvl.json...\n",
      "Results saved.\n",
      "\n",
      "Generating response for 29...\n"
     ]
    },
    {
     "name": "stderr",
     "output_type": "stream",
     "text": [
      " 30%|███       | 30/100 [04:01<09:15,  7.94s/it]"
     ]
    },
    {
     "name": "stdout",
     "output_type": "stream",
     "text": [
      "Saving results to results/internvl/output_internvl.json...\n",
      "Results saved.\n",
      "\n",
      "Generating response for 30...\n"
     ]
    },
    {
     "name": "stderr",
     "output_type": "stream",
     "text": [
      " 31%|███       | 31/100 [04:07<08:11,  7.12s/it]"
     ]
    },
    {
     "name": "stdout",
     "output_type": "stream",
     "text": [
      "Saving results to results/internvl/output_internvl.json...\n",
      "Results saved.\n",
      "\n",
      "Generating response for 31...\n"
     ]
    },
    {
     "name": "stderr",
     "output_type": "stream",
     "text": [
      " 32%|███▏      | 32/100 [04:19<09:45,  8.62s/it]"
     ]
    },
    {
     "name": "stdout",
     "output_type": "stream",
     "text": [
      "Saving results to results/internvl/output_internvl.json...\n",
      "Results saved.\n",
      "\n",
      "Generating response for 32...\n"
     ]
    },
    {
     "name": "stderr",
     "output_type": "stream",
     "text": [
      " 33%|███▎      | 33/100 [04:28<09:53,  8.86s/it]"
     ]
    },
    {
     "name": "stdout",
     "output_type": "stream",
     "text": [
      "Saving results to results/internvl/output_internvl.json...\n",
      "Results saved.\n",
      "\n",
      "Generating response for 33...\n"
     ]
    }
   ],
   "source": [
    "\n",
    "    # load data\n",
    "    input_file = os.path.join(args.task_data_pth, args.input_file)\n",
    "    print(f\"Reading {input_file}...\")\n",
    "    data = read_json(input_file)\n",
    "    # load or create query data\n",
    "    if args.query_file:\n",
    "        query_file = os.path.join(args.task_data_pth, args.query_file)\n",
    "        if os.path.exists(query_file):\n",
    "            print(f\"Loading existing {query_file}...\")\n",
    "            query_data = read_json(query_file)\n",
    "    else:\n",
    "        print(\"\\nCreating new query...\")\n",
    "        # load caption\n",
    "        caption_data = {}\n",
    "        if args.use_caption:\n",
    "            caption_file = args.caption_file\n",
    "            if os.path.exists(caption_file):\n",
    "                print(f\"Reading {caption_file}...\")\n",
    "                try:\n",
    "                    caption_data = read_json(caption_file)[\"texts\"]\n",
    "                    print(\"Caption data loaded.\")\n",
    "                except:\n",
    "                    print(\"Caption data not found!! Please Check.\")                    \n",
    "        # load ocr\n",
    "        ocr_data = {}\n",
    "        if args.use_ocr:\n",
    "            ocr_file = args.ocr_file\n",
    "            if os.path.exists(ocr_file):\n",
    "                print(f\"Reading {ocr_file}...\")\n",
    "                try:\n",
    "                    ocr_data = read_json(ocr_file)[\"texts\"]\n",
    "                    print(\"OCR data loaded.\")\n",
    "                except:\n",
    "                    print(\"OCR data not found!! Please Check.\")\n",
    "        # create query\n",
    "        query_data = create_query_data(data, caption_data, ocr_data, args)\n",
    "\n",
    "    # output file\n",
    "    os.makedirs(args.output_dir, exist_ok=True)\n",
    "    output_file = os.path.join(args.output_dir, args.output_file)\n",
    "    \n",
    "    # load results\n",
    "    if os.path.exists(output_file):\n",
    "        print(\"\\nResults already exist.\")\n",
    "        print(f\"Reading {output_file}...\")\n",
    "        results = read_json(output_file)\n",
    "    else:\n",
    "        results = {}\n",
    "\n",
    "    # load model\n",
    "    print(f\"\\nLoading {args.model}...\")\n",
    "    if args.model == 'bard':\n",
    "        if args.key == '':\n",
    "            print(\"Loading key from environment variable\")\n",
    "            key = os.environ['_BARD_API_KEY']\n",
    "        else:\n",
    "            key = args.key\n",
    "        model = bard.Bard_Model(key)\n",
    "    \n",
    "    elif \"gpt\" in args.model:\n",
    "        if args.key == '':\n",
    "            print(\"Loading token from environment variable\")\n",
    "            key = os.getenv(\"OPENAI_API_KEY\")\n",
    "        else:\n",
    "            key = args.key\n",
    "        model = gpt.GPT_Model(args.model, key)\n",
    "    \n",
    "    elif \"claude\" in args.model:\n",
    "        if args.key == '':\n",
    "            print(\"Loading token from environment variable\")\n",
    "            key = os.environ.get(\"ANTHROPIC_API_KEY\")\n",
    "        else:\n",
    "            key = args.key\n",
    "        model = claude.Claude_Model(args.model, key)\n",
    "    elif \"internlm\" in args.model:\n",
    "        model = internlm.InternLM_Model()\n",
    "    elif \"llava_one_v\" in args.model:\n",
    "        model = llava_one_v.Llava_One_V()\n",
    "    elif \"internvl\" in args.model:\n",
    "        model = internvl.InternVL_Model()\n",
    "            \n",
    "    \n",
    "    print(f\"Model loaded.\")\n",
    "    \n",
    "    # build final test pid list\n",
    "    test_pids = list(data.keys())\n",
    "    print(\"\\nNumber of test problems in total:\", len(test_pids))\n",
    "\n",
    "    available_directories = [d for d in os.listdir(args.poison_data_dir) if os.path.isdir(os.path.join(args.poison_data_dir, d))]\n",
    "    target_names = read_json(os.path.join(args.task_data_pth, \"target/caps.json\"))\n",
    "    if not all([name in available_directories for name in target_names]):\n",
    "        print(\"Not all targets have directories. Working with:\", available_directories)\n",
    "    target_names = [item[\"name\"] for item in target_names[\"annotations\"] if item[\"name\"] in available_directories]\n",
    "\n",
    "    skip_pids = []\n",
    "    if not args.rerun:\n",
    "        print(\"\\nRemoving problems with existing valid response...\")\n",
    "        for i, name in enumerate(target_names):\n",
    "            skip_pids.append([])\n",
    "            for pid in test_pids:\n",
    "                # print(f\"Checking {pid}...\")\n",
    "                if pid in results and 'response' in results[pid]:\n",
    "                    response = results[pid][name]['response']\n",
    "                    if verify_response(response):\n",
    "                        # print(f\"Valid response found for {pid}.\")\n",
    "                        skip_pids[i].append(pid)\n",
    "    else:\n",
    "        print(\"\\nRerun answer extraction for all problems...\")\n",
    "\n",
    "    test_pids = [[pid for pid in test_pids if pid not in target_skip_pids] for target_skip_pids in skip_pids]\n",
    "    print(\"Number of test problems to run for each target:\", {target_names[i]: len(target_pids) for i, target_pids in enumerate(test_pids)})\n",
    "    # print(test_pids)\n",
    "\n",
    "    \n",
    "\n",
    "    # tqdm, enumerate results\n",
    "    for i, target_name in enumerate(target_names):\n",
    "        for _, pid in enumerate(tqdm(test_pids[i])):\n",
    "            problem = data[pid]\n",
    "            query = query_data[pid]\n",
    "            image = problem['image']\n",
    "            image_path = os.path.join(args.poison_data_dir, target_name, f'{int(image.split(\".\")[0])+1}.png')\n",
    "\n",
    "            if args.debug:\n",
    "                print(\"--------------------------------------------------------------\")\n",
    "            print(f\"\\nGenerating response for {pid}...\")\n",
    "            try:\n",
    "                response = model.get_response(image_path, query)\n",
    "                new_caption = model.get_response(image_path, \"describe what is in this image\")\n",
    "                # print(f\"Response: {response}\")\n",
    "                if pid not in results:\n",
    "                    results[pid] = problem\n",
    "                if \"targets\" not in results[pid]:\n",
    "                    results[pid][\"targets\"] = {}\n",
    "                if target_name not in results[pid][\"targets\"]:\n",
    "                    results[pid][\"targets\"][target_name] = {}\n",
    "\n",
    "                results[pid][\"targets\"][target_name]['query'] = query\n",
    "                results[pid][\"targets\"][target_name]['model_description'] = new_caption\n",
    "                if args.shot_type == 'solution':\n",
    "                    results[pid][\"targets\"][target_name]['response'] = response\n",
    "                else:\n",
    "                    output, error = evaluate_code(response)\n",
    "                    results[pid][\"targets\"][target_name]['response'] = response\n",
    "                    results[pid][\"targets\"][target_name]['execution'] = output\n",
    "                    results[pid][\"targets\"][target_name]['error'] = str(error)\n",
    "                if args.debug:\n",
    "                    print(f\"\\n#Query: \\n{query}\")\n",
    "                    print(f\"\\n#Response: \\n{response}\")\n",
    "            except Exception as e:\n",
    "                print(e)\n",
    "                print(f\"Error in extracting answer for {pid}\")\n",
    "                results[pid][target_name]['error'] = e\n",
    "        \n",
    "            try:\n",
    "                print(f\"Saving results to {output_file}...\")\n",
    "                save_json(results, output_file)\n",
    "                print(f\"Results saved.\")\n",
    "            except Exception as e:\n",
    "                print(e)\n",
    "                print(f\"Error in saving {output_file}\")"
   ]
  },
  {
   "cell_type": "markdown",
   "metadata": {},
   "source": []
  },
  {
   "cell_type": "markdown",
   "metadata": {},
   "source": [
    "### Extract Answer"
   ]
  },
  {
   "cell_type": "code",
   "execution_count": null,
   "metadata": {},
   "outputs": [],
   "source": [
    "import os\n",
    "import re\n",
    "import time\n",
    "import argparse\n",
    "\n",
    "from tqdm import tqdm\n",
    "from poison_utils import *\n",
    "\n",
    "# OpenAI\n",
    "import openai\n",
    "from dotenv import load_dotenv\n",
    "from prompts.ext_ans import demo_prompt"
   ]
  },
  {
   "cell_type": "code",
   "execution_count": null,
   "metadata": {},
   "outputs": [],
   "source": [
    "load_dotenv()\n",
    "openai.api_key = os.getenv(\"OPENAI_API_KEY\")"
   ]
  },
  {
   "cell_type": "code",
   "execution_count": null,
   "metadata": {},
   "outputs": [],
   "source": [
    "def verify_extraction(extraction):\n",
    "    extraction = extraction.strip()\n",
    "    if extraction == \"\" or extraction == None:\n",
    "        return False\n",
    "    return True\n",
    "\n",
    "\n",
    "def create_test_prompt(demo_prompt, query, response):\n",
    "    demo_prompt = demo_prompt.strip()\n",
    "    test_prompt = f\"{query}\\n\\n{response}\"\n",
    "    full_prompt = f\"{demo_prompt}\\n\\n{test_prompt}\\n\\nExtracted answer: \"\n",
    "    return full_prompt\n",
    "\n",
    "\n",
    "def extract_answer(response, problem, target_name, model=None, quick_extract=False):\n",
    "    question_type = problem['question_type']\n",
    "    answer_type = problem['answer_type']\n",
    "    choices = problem['choices']\n",
    "    query = problem[target_name]['query']\n",
    "    pid = problem['pid']\n",
    "\n",
    "    if response == \"\":\n",
    "        return \"\"\n",
    "    \n",
    "    if question_type == 'multi_choice' and response in choices:\n",
    "        return response\n",
    "    \n",
    "    if answer_type == \"integer\":\n",
    "        try:\n",
    "            extraction = int(response)\n",
    "            return str(extraction)\n",
    "        except:\n",
    "            pass\n",
    "\n",
    "    if answer_type == \"float\":\n",
    "        try:\n",
    "            extraction = str(float(response))\n",
    "            return extraction\n",
    "        except:\n",
    "            pass\n",
    "\n",
    "    # quick extraction\n",
    "    if quick_extract:\n",
    "        print(\"Quickly extracting answer...\")\n",
    "        # The answer is \"text\". -> \"text\"\n",
    "        try:\n",
    "            result = re.search(r'The answer is \"(.*)\"\\.', response)\n",
    "            if result:\n",
    "                extraction = result.group(1)\n",
    "                return extraction\n",
    "        except:\n",
    "            pass\n",
    "\n",
    "    # general extraction\n",
    "    try:\n",
    "        full_prompt = create_test_prompt(demo_prompt, query, response)\n",
    "        # extraction = model.get_chat_response(full_prompt)\n",
    "        extraction = get_chat_response(full_prompt, openai.api_key)\n",
    "        return extraction\n",
    "    except Exception as e:\n",
    "        print(e)\n",
    "        print(f\"Error in extracting answer for {pid}\")\n",
    "\n",
    "    return \"\"\n",
    "\n",
    "    "
   ]
  },
  {
   "cell_type": "code",
   "execution_count": null,
   "metadata": {},
   "outputs": [],
   "source": [
    "args = {\n",
    "    \"output_dir\": f\"results/{model}\",\n",
    "    \"output_file\": f\"output_{model}.json\",\n",
    "    \"response_label\": ,\n",
    "    \"llm_engine\": ,\n",
    "    \"number\": ,\n",
    "    \"quick_extract\": ,\n",
    "    \"rerun\": , \n",
    "    \"save_every\": ,\n",
    "    \"output_label\": \n",
    "}"
   ]
  },
  {
   "cell_type": "code",
   "execution_count": null,
   "metadata": {},
   "outputs": [],
   "source": [
    "# args\n",
    "label = args.response_label\n",
    "result_file = os.path.join(args.output_dir, args.output_file)\n",
    "\n",
    "if args.output_label != '':\n",
    "    output_file = result_file.replace('.json', f'_{args.output_label}.json')\n",
    "else:\n",
    "    output_file = result_file\n",
    "\n",
    "# read results\n",
    "print(f\"Reading {result_file}...\")\n",
    "results = read_json(result_file)\n",
    "\n",
    "# model = llama_3_1.LLaMA()\n",
    "\n",
    "# full pids\n",
    "full_pids = list(results.keys())\n",
    "if args.number > 0:\n",
    "    full_pids = full_pids[:min(args.number, len(full_pids))]\n",
    "print(\"Number of testing problems:\", len(full_pids))\n",
    "\n",
    "# test pids\n",
    "if args.rerun:\n",
    "    test_pids = full_pids\n",
    "else:\n",
    "    test_pids = []\n",
    "    for pid in full_pids:\n",
    "        # print(pid)\n",
    "        if 'extraction' not in results[pid] or not verify_extraction(results[pid]['extraction']):\n",
    "            test_pids.append(pid)\n",
    "\n",
    "\n",
    "test_num = len(test_pids)\n",
    "print(\"Number of problems to run:\", test_num)\n",
    "# print(test_pids)\n",
    "\n",
    "# tqdm, enumerate results\n",
    "for i, pid in enumerate(tqdm(test_pids)):\n",
    "    target_names = results[pid][\"targets\"].keys()\n",
    "    for name in target_names:\n",
    "        problem = results[pid]\n",
    "\n",
    "        assert label in problem[\"targets\"][name]\n",
    "        response = problem[\"targets\"][name][label]       \n",
    "\n",
    "        \n",
    "        # extraction  = extract_answer(response, problem, name, model, args.quick_extract)\n",
    "        extraction  = extract_answer(response, problem, name, None, args.quick_extract)\n",
    "        results[pid][\"targets\"][name]['extraction'] = extraction\n",
    "\n",
    "        if i % args.save_every == 0 or i == test_num - 1:\n",
    "            print(f\"Saving results to {output_file}...\")\n",
    "            save_json(results, output_file)\n",
    "            print(f\"Results saved.\")"
   ]
  },
  {
   "cell_type": "code",
   "execution_count": null,
   "metadata": {},
   "outputs": [],
   "source": []
  }
 ],
 "metadata": {
  "kernelspec": {
   "display_name": "VLM_Poisoning",
   "language": "python",
   "name": "python3"
  },
  "language_info": {
   "codemirror_mode": {
    "name": "ipython",
    "version": 3
   },
   "file_extension": ".py",
   "mimetype": "text/x-python",
   "name": "python",
   "nbconvert_exporter": "python",
   "pygments_lexer": "ipython3",
   "version": "3.10.16"
  }
 },
 "nbformat": 4,
 "nbformat_minor": 2
}
