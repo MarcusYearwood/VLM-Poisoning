{
 "cells": [
  {
   "cell_type": "code",
   "execution_count": 1,
   "metadata": {},
   "outputs": [],
   "source": [
    "import os\n",
    "import torch\n",
    "import json\n",
    "import argparse\n",
    "from tqdm import tqdm\n",
    "import torch.optim as optim\n",
    "from torchvision.utils import save_image\n",
    "from PIL import Image\n",
    "\n",
    "# from training_models import MyClipEnsemble, MyInternEnsemble\n",
    "\n",
    "from datasets import collate_fn_image, ImageDataset, EnsembleImageDataset, AdvDiffVLMImageDataset\n",
    "# from poison_utils import L2_norm\n",
    "\n",
    "from torchvision import transforms"
   ]
  },
  {
   "cell_type": "markdown",
   "metadata": {},
   "source": [
    "# Image Training"
   ]
  },
  {
   "cell_type": "code",
   "execution_count": 2,
   "metadata": {},
   "outputs": [],
   "source": [
    "dataset_name = \"mini_MathVista_grid\"\n",
    "method = \"i2i_AdvDiffVLMAttack\"\n",
    "args = {\n",
    "    \"model\": \"clip\",\n",
    "    \"poison_save_pth\": f\"./data/poisons/{dataset_name}+{method}\",\n",
    "    \"iter_attack\": 200,\n",
    "    \"lr_attack\": 1,\n",
    "    # \"base_data_pth\": f\"data/{dataset_name}/base\",\n",
    "    \"base_data_pth\": f\"data/{dataset_name}/base_512\",\n",
    "    \"target_data_pth\": f\"data/{dataset_name}/target\",\n",
    "    \"questions_pth\": f\"data/{dataset_name}/questions.json\",\n",
    "    \"temperature\": 0,\n",
    "    \"max_new_tokens\": 200,\n",
    "    \"eps\": 16,\n",
    "}\n",
    "\n",
    "\n",
    "def read_json(path):\n",
    "    with open(path, 'r', encoding='utf-8') as f:\n",
    "        return json.load(f)\n"
   ]
  },
  {
   "cell_type": "code",
   "execution_count": 3,
   "metadata": {},
   "outputs": [],
   "source": [
    "# encoder_model = MyClip()\n",
    "# encoder_model = MyClipEnsemble()\n",
    "# encoder_model = MyInternEnsemble()\n",
    "# device = encoder_model.device\n",
    "device = \"cuda\"\n",
    "\n",
    "question_json = read_json(args[\"questions_pth\"])\n",
    "pids = question_json.keys()\n",
    "\n",
    "\n",
    "\n",
    "base_caps = read_json(os.path.join(args[\"base_data_pth\"], \"caps.json\"))\n",
    "target_caps = read_json(os.path.join(args[\"target_data_pth\"], \"caps.json\"))"
   ]
  },
  {
   "cell_type": "code",
   "execution_count": 4,
   "metadata": {},
   "outputs": [],
   "source": [
    "# base_dataset = ImageDataset(base_caps[\"annotations\"])\n",
    "# target_dataset = ImageDataset(target_caps[\"annotations\"])\n",
    "# base_dataset = EnsembleImageDataset(base_caps[\"annotations\"])\n",
    "# target_dataset = EnsembleImageDataset(target_caps[\"annotations\"])\n",
    "base_dataset = AdvDiffVLMImageDataset(base_caps[\"annotations\"])\n",
    "target_dataset = AdvDiffVLMImageDataset(target_caps[\"annotations\"])\n",
    "\n",
    "base_dataloader = torch.utils.data.DataLoader(\n",
    "    base_dataset, batch_size=1, \n",
    "    shuffle=False, collate_fn=collate_fn_image\n",
    ")\n",
    "\n",
    "target_dataloader = torch.utils.data.DataLoader(\n",
    "    target_dataset, batch_size=1, \n",
    "    shuffle=False, collate_fn=collate_fn_image\n",
    ")"
   ]
  },
  {
   "cell_type": "code",
   "execution_count": 5,
   "metadata": {},
   "outputs": [],
   "source": [
    "import matplotlib.pyplot as plt\n",
    "def show_img(img, caption):\n",
    "    print(caption)\n",
    "    plt.imshow(img.squeeze(0).permute(1,2,0))\n",
    "    plt.axis(\"off\")\n",
    "    plt.show()"
   ]
  },
  {
   "cell_type": "code",
   "execution_count": 6,
   "metadata": {},
   "outputs": [],
   "source": [
    "def i2i_attack(model, image_base, image_target, iters=100, lr=1/255, eps=8):\n",
    "      '''\n",
    "      optimizing x_adv to minimize emb_dist( img_embed of x_adv, img_embed of image_target ) within Lp constraint using PGD\n",
    "\n",
    "      model: model class with image embedding functionality (e.g. CLIP, EVA)\n",
    "      image_base, image_target: images between [0,1] \n",
    "      emb_dist: the distance metrics for vision embedding (such as L2): take a batch of bs image pairs as input, \\\n",
    "            and output EACH of pair-wise distances of the whole batch (size = [bs])\n",
    "\n",
    "      eps: for Lp constraint\n",
    "      lr: the step size. The update is grad.sign * lr\n",
    "      diff_aug: using differentiable augmentation, e.g. RandomResizeCrop\n",
    "\n",
    "      return: X_adv between [0,1]\n",
    "      '''\n",
    "\n",
    "      bs = image_base.size(0)\n",
    "      device = image_base.device\n",
    "\n",
    "      with torch.no_grad():\n",
    "            embedding_targets = model.encode_image(image_target)\n",
    "            embedding_targets = embedding_targets / embedding_targets.norm(dim=-1, keepdim=True)\n",
    "\n",
    "      X_adv = image_base.clone().detach()\n",
    "      X_adv.requires_grad_(True) \n",
    "\n",
    "      loss_best = 1e8\n",
    "      X_adv_best = X_adv.clone().detach()\n",
    "\n",
    "      # for i in tqdm(range(iters), leave=False):\n",
    "      for i in range(iters):\n",
    "            embs = model.encode_image(X_adv)\n",
    "            embs = embs / embs.norm(dim=-1, keepdim=True)  # Normalize embeddings\n",
    "\n",
    "            loss = L2_norm(embs, embedding_targets)\n",
    "            # loss = torch.mean(torch.sum(embs * embedding_targets, dim=1))\n",
    "\n",
    "            if loss < loss_best:\n",
    "                  loss_best = loss.clone().detach()\n",
    "                  X_adv_best = X_adv.clone().detach()\n",
    "\n",
    "            # optimizer.zero_grad()\n",
    "            loss.backward()\n",
    "\n",
    "            # print losses at increments\n",
    "            if i% max(int(iters/20),1) == 0:\n",
    "                  # print('Iter :{} loss:{:.4f}, lr * 255:{:.4f}'.format(i,loss.item()/bs, scheduler.get_last_lr()[0]*255))\n",
    "                  print('Iter :{} loss:{:.4f}, lr * 255:{:.4f}'.format(i,loss.item()/bs, lr*255))\n",
    "\n",
    "            grad = X_adv.grad\n",
    "            assert grad != None\n",
    "            grad = grad / torch.mean(torch.abs(grad), dim=(1,2,3), keepdim=True)           \n",
    "            \n",
    "            perturbation = lr * grad.sign()\n",
    "            # print(perturbation.shape)\n",
    "            X_adv.data = X_adv.data.detach() + perturbation\n",
    "            X_adv.data = torch.minimum(torch.maximum(X_adv, image_base - eps), image_base + eps) \n",
    "            X_adv.data = X_adv.data.clamp(0,255)\n",
    "            X_adv.grad = None  \n",
    "\n",
    "            if torch.isnan(loss):\n",
    "                  print('Encounter nan loss at iteration {}'.format(i))\n",
    "                  break                 \n",
    "\n",
    "      print('Best Total loss:{:.4f}'.format(loss.item()))\n",
    "\n",
    "      return X_adv_best, loss_best\n",
    "\n",
    "\n"
   ]
  },
  {
   "cell_type": "code",
   "execution_count": 7,
   "metadata": {},
   "outputs": [],
   "source": [
    "def SGAImageAttack(model, image, cap, iters=100, lr=1/255, eps=8):\n",
    "      '''\n",
    "      optimizing x_adv to maximize emb_dist( img_embed of x_adv, text_embed of captions ) within Lp constraint using PGD\n",
    "\n",
    "      model: model class with image and text embedding functionality (e.g. CLIP, EVA)\n",
    "      image, cap: image between [0,255] (float) caption dict for that image\n",
    "      emb_dist: the distance metrics for vision embedding (such as L2): take a batch of bs image pairs as input, \\\n",
    "            and output EACH of pair-wise distances of the whole batch (size = [bs])\n",
    "\n",
    "      eps: for Lp constraint\n",
    "      lr: the step size. The update is grad.sign * lr\n",
    "\n",
    "      return: X_adv between [0,255]\n",
    "      '''\n",
    "\n",
    "      bs = image.size(0)\n",
    "      device = image.device\n",
    "\n",
    "      with torch.no_grad():\n",
    "            embedding_targets = model.encode_text(cap['caption'])\n",
    "            embedding_targets = embedding_targets / embedding_targets.norm(dim=-1, keepdim=True)\n",
    "\n",
    "      X_adv = image.clone().detach()\n",
    "      X_adv.requires_grad_(True) \n",
    "\n",
    "      loss_best = 1e8\n",
    "      X_adv_best = X_adv.clone().detach()\n",
    "\n",
    "      # for i in tqdm(range(iters), leave=False):\n",
    "      for i in range(iters):\n",
    "            embs = model.encode_image(X_adv)\n",
    "            embs = embs / embs.norm(dim=-1, keepdim=True)  # Normalize embeddings\n",
    "\n",
    "            loss = -L2_norm(embs, embedding_targets)\n",
    "\n",
    "            if loss < loss_best:\n",
    "                  loss_best = loss.clone().detach()\n",
    "                  X_adv_best = X_adv.clone().detach()\n",
    "\n",
    "            loss.backward()\n",
    "\n",
    "            # print losses at increments\n",
    "            if i% max(int(iters/20),1) == 0:\n",
    "                  print('Iter :{} loss:{:.4f}, lr * 255:{:.4f}'.format(i,loss.item()/bs, lr*255))\n",
    "\n",
    "            grad = X_adv.grad\n",
    "            assert grad != None\n",
    "            grad = grad / torch.mean(torch.abs(grad), dim=(1,2,3), keepdim=True)           \n",
    "            \n",
    "            perturbation = lr * grad.sign()\n",
    "            # print(perturbation.shape)\n",
    "            X_adv.data = X_adv.data.detach() - perturbation\n",
    "            X_adv.data = torch.minimum(torch.maximum(X_adv, image_base - eps), image_base + eps) \n",
    "            X_adv.data = X_adv.data.clamp(0,255)\n",
    "            X_adv.grad = None  \n",
    "\n",
    "            if torch.isnan(loss):\n",
    "                  print('Encounter nan loss at iteration {}'.format(i))\n",
    "                  break                 \n",
    "\n",
    "      print('Best Total loss:{:.4f}'.format(loss.item()))\n",
    "\n",
    "      return X_adv_best, loss_best"
   ]
  },
  {
   "cell_type": "code",
   "execution_count": 8,
   "metadata": {},
   "outputs": [],
   "source": [
    "def i2i_EnsembleAttack(model, image, target, iters=100, lr=1/255, eps=8):\n",
    "      '''\n",
    "      optimizing x_adv to maximize emb_dist( img_embed of x_adv, text_embed of captions ) within Lp constraint using PGD\n",
    "\n",
    "      model: model class with image and text embedding functionality (e.g. CLIP, EVA)\n",
    "      image, cap: image between [0,255] (float) caption dict for that image\n",
    "      emb_dist: the distance metrics for vision embedding (such as L2): take a batch of bs image pairs as input, \\\n",
    "            and output EACH of pair-wise distances of the whole batch (size = [bs])\n",
    "\n",
    "      eps: for Lp constraint\n",
    "      lr: the step size. The update is grad.sign * lr\n",
    "\n",
    "      return: X_adv between [0,255]\n",
    "      '''\n",
    "\n",
    "      bs = image.size(0)\n",
    "      device = image.device\n",
    "\n",
    "      with torch.no_grad():\n",
    "            embedding_targets = model.encode_image(target)\n",
    "\n",
    "      X_adv = image.clone().detach()\n",
    "      X_adv.requires_grad_(True) \n",
    "\n",
    "      loss_best = -1e8\n",
    "      X_adv_best = X_adv.clone().detach()\n",
    "\n",
    "      # for i in tqdm(range(iters), leave=False):\n",
    "      for i in range(iters):\n",
    "            embs = model.encode_image(X_adv, use_grad=True)\n",
    "\n",
    "            # loss = L2_norm(embs, embedding_targets)\n",
    "            grad, loss = model.get_gradients(embs, embedding_targets, X_adv) \n",
    "\n",
    "            torch.cuda.empty_cache()\n",
    "            if loss > loss_best:\n",
    "                  loss_best = loss.clone().detach()\n",
    "                  X_adv_best = X_adv.clone().detach()\n",
    "\n",
    "            # print losses at increments\n",
    "            if i% max(int(iters/20),1) == 0:\n",
    "                  print('Iter :{} loss:{:.4f}, lr:{:.4f}'.format(i,loss.item()/bs, lr))\n",
    "\n",
    "            \n",
    "            perturbation = lr * grad.sign()\n",
    "            # print(perturbation.shape)\n",
    "            with torch.no_grad():\n",
    "                  X_adv = X_adv + perturbation\n",
    "                  X_adv = torch.min(torch.max(X_adv, image_base - eps), image_base + eps)\n",
    "                  X_adv = torch.clamp(X_adv, 0, 255)\n",
    "            X_adv.requires_grad_(True)\n",
    "\n",
    "            if torch.isnan(loss):\n",
    "                  print('Encounter nan loss at iteration {}'.format(i))\n",
    "                  break                 \n",
    "\n",
    "      print('Best Total loss:{:.4f}'.format(loss.item()))\n",
    "\n",
    "      # return X_adv.clone().detach(), loss_best\n",
    "      return X_adv_best, loss_best"
   ]
  },
  {
   "cell_type": "code",
   "execution_count": 9,
   "metadata": {},
   "outputs": [],
   "source": [
    "# loss gets logits and maximizes entropy of each generated word for image caption\n",
    "\n",
    "# def MaximizeInformationEntropyAttack(model, image, cap, iters=100, lr=1/255, eps=8):\n"
   ]
  },
  {
   "cell_type": "markdown",
   "metadata": {},
   "source": [
    "### SGA Image Attack"
   ]
  },
  {
   "cell_type": "code",
   "execution_count": 10,
   "metadata": {},
   "outputs": [],
   "source": [
    "# import matplotlib.pyplot as plt\n",
    "\n",
    "# ###### Running SGA Image Attack ######\n",
    "# original_sizes_list = []\n",
    "# X_adv_list = []\n",
    "# all_losses = []\n",
    "# loss_attack_list = []\n",
    "\n",
    "# target_path = os.path.join(args['poison_save_pth'], \"SGA\")\n",
    "\n",
    "# if not os.path.exists(target_path):\n",
    "#     os.makedirs(target_path)\n",
    "# saved_images = set(os.listdir(target_path))\n",
    "# saved_image_ids = {int(fname.split('.')[0]) for fname in saved_images if fname.endswith(('.png', '.jpg', '.jpeg'))}\n",
    "\n",
    "\n",
    "# for i, (image_base, base_cap) in  tqdm(enumerate(base_dataloader), desc=f\"Processing all images\", total=len(base_dataloader)):\n",
    "#     if base_cap['name'] in saved_image_ids:\n",
    "#             print(f\"{base_cap['name']} already processed for {target_cap['name']}, skipping...\")\n",
    "#             continue\n",
    "\n",
    "#     print('image name = ', base_cap['name'])\n",
    "#     image_base = image_base.to(device)\n",
    "\n",
    "#     X_adv, loss_attack = SGAImageAttack(\n",
    "#             model=encoder_model,\n",
    "#             image=image_base,\n",
    "#             cap=base_cap,\n",
    "#             iters=args['iter_attack'],\n",
    "#             lr=args['lr_attack'],\n",
    "#             eps=args['eps']\n",
    "#     )\n",
    "\n",
    "\n",
    "#     ###### Save poisoned images after each batch ######\n",
    "#     img_pth = os.path.join(target_path, f\"{base_cap['name']}.png\")\n",
    "#     image_to_save = X_adv/255.0\n",
    "#     print()\n",
    "#     if base_cap['name'] not in saved_image_ids:  # Only save if it doesn't already exist\n",
    "#         print(\"Max Pixel Difference between Adversarial Image and Base *255:\", round(torch.max(torch.abs(X_adv-image_base)).item(), 4))\n",
    "#         save_image(image_to_save.cpu(), img_pth)\n",
    "#         print(f\"Saved poisoned image {base_cap['name']} to {img_pth}\") # mathvista\n",
    "\n",
    "#     # show_img(((X_adv-image_base).to(torch.uint8).cpu()*10), (\"Adversarial Noise\", img_pth))\n",
    "#     # show_img(image_to_save.cpu(), (\"Adversarial Image\", img_pth))\n",
    "\n",
    "        \n",
    "\n",
    "# print(\"Done.\")"
   ]
  },
  {
   "cell_type": "markdown",
   "metadata": {},
   "source": [
    "### i2i attack"
   ]
  },
  {
   "cell_type": "code",
   "execution_count": 11,
   "metadata": {},
   "outputs": [],
   "source": [
    "# ##### Running i2i attack ######\n",
    "# original_sizes_list = []\n",
    "# X_adv_list = []\n",
    "# all_losses = []\n",
    "# loss_attack_list = []\n",
    "# start_idx = 0\n",
    "# end_idx = 0\n",
    "# # for j, (image_target, target_cap) in  tqdm(enumerate(target_dataloader)):\n",
    "# for j, (image_target, target_cap) in  tqdm(enumerate(target_dataloader), desc=\"Target Dataloader\", position=0, leave=True):\n",
    "#     target_name = target_cap[\"name\"]\n",
    "#     target_path = os.path.join(args[\"poison_save_pth\"], target_cap[\"name\"])\n",
    "#     if not os.path.exists(target_path):\n",
    "#         os.makedirs(target_path)\n",
    "\n",
    "#     ###### Resume by checking already saved images ######\n",
    "#     saved_images = set(os.listdir(target_path))\n",
    "#     saved_image_ids = {int(fname.split('.')[0]) for fname in saved_images if fname.endswith(('.png', '.jpg', '.jpeg'))}\n",
    "\n",
    "#     # show_img(image_target, (\"Working on target:\", target_name))\n",
    "\n",
    "#     for i, (image_base, base_cap) in  tqdm(enumerate(base_dataloader), desc=f\"Processing {target_name}\", total=len(base_dataloader), position=1, leave=False):\n",
    "#         if base_cap['name'] in saved_image_ids:\n",
    "#                 print(f\"{base_cap['name']} already processed for {target_cap['name']}, skipping...\")\n",
    "#                 continue\n",
    "\n",
    "#         print('image name = ', base_cap['name'])\n",
    "#         image_base, image_target = image_base.to(device), image_target.to(device)\n",
    "\n",
    "#         X_adv, loss_attack = i2i_attack(\n",
    "#                 model=encoder_model,\n",
    "#                 image_base=image_base,\n",
    "#                 image_target=image_target,\n",
    "#                 iters=args['iter_attack'],\n",
    "#                 lr=args['lr_attack'],\n",
    "#                 eps=args['eps']\n",
    "#         )\n",
    "\n",
    "\n",
    "#         ###### Save poisoned images after each batch ######\n",
    "#         img_pth = os.path.join(target_path, f\"{base_cap['name']}.png\")\n",
    "#         image_to_save = X_adv/255.0\n",
    "#         print()\n",
    "#         if base_cap['name'] not in saved_image_ids:  # Only save if it doesn't already exist\n",
    "#             print(\"Max Pixel Difference between Adversarial Image and Base *255:\", round(torch.max(torch.abs(X_adv-image_base)).item(), 4))\n",
    "#             save_image(image_to_save.cpu(), img_pth)\n",
    "#             print(f\"Saved poisoned image {base_cap['name']} to {img_pth}\") # mathvista\n",
    "\n",
    "#         # show_img(((X_adv-image_base).to(torch.uint8).cpu()*10), (\"Adversarial Noise\", img_pth))\n",
    "#         # show_img(image_to_save.cpu(), (\"Adversarial Image\", img_pth))\n",
    "\n",
    "        \n",
    "\n",
    "# print(\"Done.\")"
   ]
  },
  {
   "cell_type": "markdown",
   "metadata": {},
   "source": [
    "## i2i Ensemble attack"
   ]
  },
  {
   "cell_type": "code",
   "execution_count": 12,
   "metadata": {},
   "outputs": [],
   "source": [
    "# ##### Running i2i attack ######\n",
    "# original_sizes_list = []\n",
    "# X_adv_list = []\n",
    "# all_losses = []\n",
    "# loss_attack_list = []\n",
    "# start_idx = 0\n",
    "# end_idx = 0\n",
    "# # for j, (image_target, target_cap) in  tqdm(enumerate(target_dataloader)):\n",
    "# for j, (image_target, target_cap) in  tqdm(enumerate(target_dataloader), desc=\"Target Dataloader\", position=0, leave=True):\n",
    "#     target_name = target_cap[\"name\"]\n",
    "#     target_path = os.path.join(args[\"poison_save_pth\"], target_cap[\"name\"])\n",
    "#     if not os.path.exists(target_path):\n",
    "#         os.makedirs(target_path)\n",
    "\n",
    "#     ###### Resume by checking already saved images ######\n",
    "#     saved_images = set(os.listdir(target_path))\n",
    "#     saved_image_ids = {fname.split('.')[0] for fname in saved_images if fname.endswith(('.png', '.jpg', '.jpeg'))}\n",
    "#     if all(name in saved_image_ids for name in [base_cap['name'] for (_, base_cap) in base_dataloader]):\n",
    "#         print(f\"{target_cap['name']} entirely complete\")\n",
    "#         continue\n",
    "\n",
    "#     # show_img(image_target, (\"Working on target:\", target_name))\n",
    "\n",
    "#     for i, (image_base, base_cap) in  tqdm(enumerate(base_dataloader), desc=f\"Processing {target_name}\", total=len(base_dataloader), position=1, leave=False):\n",
    "#         if base_cap['name'] in saved_image_ids:\n",
    "#                 print(f\"{base_cap['name']} already processed for {target_cap['name']}, skipping...\")\n",
    "#                 continue\n",
    "\n",
    "#         print('image name = ', base_cap['name'])\n",
    "#         image_base, image_target = image_base.to(device), image_target.to(device)\n",
    "\n",
    "#         X_adv, loss_attack = i2i_EnsembleAttack(\n",
    "#                 model=encoder_model,\n",
    "#                 image=image_base,\n",
    "#                 target=image_target,\n",
    "#                 iters=args['iter_attack'],\n",
    "#                 lr=args['lr_attack'],\n",
    "#                 eps=args['eps']\n",
    "#         )\n",
    "\n",
    "\n",
    "#         ###### Save poisoned images after each batch ######\n",
    "#         img_pth = os.path.join(target_path, f\"{base_cap['name']}.png\")\n",
    "#         image_to_save = X_adv / 255.0\n",
    "#         print()\n",
    "#         if base_cap['name'] not in saved_image_ids:  # Only save if it doesn't already exist\n",
    "#             print(\"Max Pixel Difference between Adversarial Image and Base *255:\", torch.max(torch.abs(X_adv-image_base)).item())\n",
    "#             save_image(image_to_save.cpu(), img_pth)\n",
    "#             print(f\"Saved poisoned image {base_cap['name']} to {img_pth}\") # mathvista\n",
    "\n",
    "#         # show_img(((X_adv-image_base).to(torch.uint8).cpu()*10), (\"Adversarial Noise\", img_pth))\n",
    "#         # show_img(image_to_save.cpu(), (\"Adversarial Image\", img_pth))\n",
    "\n",
    "        \n",
    "\n",
    "# print(\"Done.\")"
   ]
  },
  {
   "cell_type": "code",
   "execution_count": 13,
   "metadata": {},
   "outputs": [
    {
     "name": "stderr",
     "output_type": "stream",
     "text": [
      "/home/users/mxy/.local/lib/python3.10/site-packages/torchvision/models/_utils.py:208: UserWarning: The parameter 'pretrained' is deprecated since 0.13 and may be removed in the future, please use 'weights' instead.\n",
      "  warnings.warn(\n",
      "/home/users/mxy/.local/lib/python3.10/site-packages/torchvision/models/_utils.py:223: UserWarning: Arguments other than a weight enum or `None` for 'weights' are deprecated since 0.13 and may be removed in the future. The current behavior is equivalent to passing `weights=ResNet50_Weights.IMAGENET1K_V1`. You can also use `weights=ResNet50_Weights.DEFAULT` to get the most up-to-date weights.\n",
      "  warnings.warn(msg)\n"
     ]
    },
    {
     "name": "stderr",
     "output_type": "stream",
     "text": [
      "/home/users/mxy/.local/lib/python3.10/site-packages/torch/nn/modules/module.py:1830: FutureWarning: Using a non-full backward hook when the forward contains multiple autograd Nodes is deprecated and will be removed in future versions. This hook will be missing some grad_input. Please use register_full_backward_hook to get the documented behavior.\n",
      "  self._maybe_warn_non_full_backward_hook(args, result, grad_fn)\n"
     ]
    },
    {
     "name": "stdout",
     "output_type": "stream",
     "text": [
      "Saved binary mask for data/mini_MathVista_grid/base_512/1.jpg to data/mini_MathVista_grid/base_512_masked/1_mask.png\n",
      "Saved binary mask for data/mini_MathVista_grid/base_512/10.jpg to data/mini_MathVista_grid/base_512_masked/10_mask.png\n",
      "Saved binary mask for data/mini_MathVista_grid/base_512/100.jpg to data/mini_MathVista_grid/base_512_masked/100_mask.png\n",
      "Saved binary mask for data/mini_MathVista_grid/base_512/11.jpg to data/mini_MathVista_grid/base_512_masked/11_mask.png\n",
      "Saved binary mask for data/mini_MathVista_grid/base_512/12.jpg to data/mini_MathVista_grid/base_512_masked/12_mask.png\n",
      "Saved binary mask for data/mini_MathVista_grid/base_512/13.jpg to data/mini_MathVista_grid/base_512_masked/13_mask.png\n",
      "Saved binary mask for data/mini_MathVista_grid/base_512/14.jpg to data/mini_MathVista_grid/base_512_masked/14_mask.png\n",
      "Saved binary mask for data/mini_MathVista_grid/base_512/15.jpg to data/mini_MathVista_grid/base_512_masked/15_mask.png\n",
      "Saved binary mask for data/mini_MathVista_grid/base_512/16.jpg to data/mini_MathVista_grid/base_512_masked/16_mask.png\n",
      "Saved binary mask for data/mini_MathVista_grid/base_512/17.jpg to data/mini_MathVista_grid/base_512_masked/17_mask.png\n",
      "Saved binary mask for data/mini_MathVista_grid/base_512/18.jpg to data/mini_MathVista_grid/base_512_masked/18_mask.png\n",
      "Saved binary mask for data/mini_MathVista_grid/base_512/19.jpg to data/mini_MathVista_grid/base_512_masked/19_mask.png\n",
      "Saved binary mask for data/mini_MathVista_grid/base_512/2.jpg to data/mini_MathVista_grid/base_512_masked/2_mask.png\n",
      "Saved binary mask for data/mini_MathVista_grid/base_512/20.jpg to data/mini_MathVista_grid/base_512_masked/20_mask.png\n",
      "Saved binary mask for data/mini_MathVista_grid/base_512/21.jpg to data/mini_MathVista_grid/base_512_masked/21_mask.png\n",
      "Saved binary mask for data/mini_MathVista_grid/base_512/22.jpg to data/mini_MathVista_grid/base_512_masked/22_mask.png\n",
      "Saved binary mask for data/mini_MathVista_grid/base_512/23.jpg to data/mini_MathVista_grid/base_512_masked/23_mask.png\n",
      "Saved binary mask for data/mini_MathVista_grid/base_512/24.jpg to data/mini_MathVista_grid/base_512_masked/24_mask.png\n",
      "Saved binary mask for data/mini_MathVista_grid/base_512/25.jpg to data/mini_MathVista_grid/base_512_masked/25_mask.png\n",
      "Saved binary mask for data/mini_MathVista_grid/base_512/26.jpg to data/mini_MathVista_grid/base_512_masked/26_mask.png\n",
      "Saved binary mask for data/mini_MathVista_grid/base_512/27.jpg to data/mini_MathVista_grid/base_512_masked/27_mask.png\n",
      "Saved binary mask for data/mini_MathVista_grid/base_512/28.jpg to data/mini_MathVista_grid/base_512_masked/28_mask.png\n",
      "Saved binary mask for data/mini_MathVista_grid/base_512/29.jpg to data/mini_MathVista_grid/base_512_masked/29_mask.png\n",
      "Saved binary mask for data/mini_MathVista_grid/base_512/3.jpg to data/mini_MathVista_grid/base_512_masked/3_mask.png\n",
      "Saved binary mask for data/mini_MathVista_grid/base_512/30.jpg to data/mini_MathVista_grid/base_512_masked/30_mask.png\n",
      "Saved binary mask for data/mini_MathVista_grid/base_512/31.jpg to data/mini_MathVista_grid/base_512_masked/31_mask.png\n",
      "Saved binary mask for data/mini_MathVista_grid/base_512/32.jpg to data/mini_MathVista_grid/base_512_masked/32_mask.png\n",
      "Saved binary mask for data/mini_MathVista_grid/base_512/33.jpg to data/mini_MathVista_grid/base_512_masked/33_mask.png\n",
      "Saved binary mask for data/mini_MathVista_grid/base_512/34.jpg to data/mini_MathVista_grid/base_512_masked/34_mask.png\n",
      "Saved binary mask for data/mini_MathVista_grid/base_512/35.jpg to data/mini_MathVista_grid/base_512_masked/35_mask.png\n",
      "Saved binary mask for data/mini_MathVista_grid/base_512/36.jpg to data/mini_MathVista_grid/base_512_masked/36_mask.png\n",
      "Saved binary mask for data/mini_MathVista_grid/base_512/37.jpg to data/mini_MathVista_grid/base_512_masked/37_mask.png\n",
      "Saved binary mask for data/mini_MathVista_grid/base_512/38.jpg to data/mini_MathVista_grid/base_512_masked/38_mask.png\n",
      "Saved binary mask for data/mini_MathVista_grid/base_512/39.jpg to data/mini_MathVista_grid/base_512_masked/39_mask.png\n",
      "Saved binary mask for data/mini_MathVista_grid/base_512/4.jpg to data/mini_MathVista_grid/base_512_masked/4_mask.png\n",
      "Saved binary mask for data/mini_MathVista_grid/base_512/40.jpg to data/mini_MathVista_grid/base_512_masked/40_mask.png\n",
      "Saved binary mask for data/mini_MathVista_grid/base_512/41.jpg to data/mini_MathVista_grid/base_512_masked/41_mask.png\n",
      "Saved binary mask for data/mini_MathVista_grid/base_512/42.jpg to data/mini_MathVista_grid/base_512_masked/42_mask.png\n",
      "Saved binary mask for data/mini_MathVista_grid/base_512/43.jpg to data/mini_MathVista_grid/base_512_masked/43_mask.png\n",
      "Saved binary mask for data/mini_MathVista_grid/base_512/44.jpg to data/mini_MathVista_grid/base_512_masked/44_mask.png\n",
      "Saved binary mask for data/mini_MathVista_grid/base_512/45.jpg to data/mini_MathVista_grid/base_512_masked/45_mask.png\n",
      "Saved binary mask for data/mini_MathVista_grid/base_512/46.jpg to data/mini_MathVista_grid/base_512_masked/46_mask.png\n",
      "Saved binary mask for data/mini_MathVista_grid/base_512/47.jpg to data/mini_MathVista_grid/base_512_masked/47_mask.png\n",
      "Saved binary mask for data/mini_MathVista_grid/base_512/48.jpg to data/mini_MathVista_grid/base_512_masked/48_mask.png\n",
      "Saved binary mask for data/mini_MathVista_grid/base_512/49.jpg to data/mini_MathVista_grid/base_512_masked/49_mask.png\n",
      "Saved binary mask for data/mini_MathVista_grid/base_512/5.jpg to data/mini_MathVista_grid/base_512_masked/5_mask.png\n",
      "Saved binary mask for data/mini_MathVista_grid/base_512/50.jpg to data/mini_MathVista_grid/base_512_masked/50_mask.png\n",
      "Saved binary mask for data/mini_MathVista_grid/base_512/51.jpg to data/mini_MathVista_grid/base_512_masked/51_mask.png\n",
      "Saved binary mask for data/mini_MathVista_grid/base_512/52.jpg to data/mini_MathVista_grid/base_512_masked/52_mask.png\n",
      "Saved binary mask for data/mini_MathVista_grid/base_512/53.jpg to data/mini_MathVista_grid/base_512_masked/53_mask.png\n",
      "Saved binary mask for data/mini_MathVista_grid/base_512/54.jpg to data/mini_MathVista_grid/base_512_masked/54_mask.png\n",
      "Saved binary mask for data/mini_MathVista_grid/base_512/55.jpg to data/mini_MathVista_grid/base_512_masked/55_mask.png\n",
      "Saved binary mask for data/mini_MathVista_grid/base_512/56.jpg to data/mini_MathVista_grid/base_512_masked/56_mask.png\n",
      "Saved binary mask for data/mini_MathVista_grid/base_512/57.jpg to data/mini_MathVista_grid/base_512_masked/57_mask.png\n",
      "Saved binary mask for data/mini_MathVista_grid/base_512/58.jpg to data/mini_MathVista_grid/base_512_masked/58_mask.png\n",
      "Saved binary mask for data/mini_MathVista_grid/base_512/59.jpg to data/mini_MathVista_grid/base_512_masked/59_mask.png\n",
      "Saved binary mask for data/mini_MathVista_grid/base_512/6.jpg to data/mini_MathVista_grid/base_512_masked/6_mask.png\n",
      "Saved binary mask for data/mini_MathVista_grid/base_512/60.jpg to data/mini_MathVista_grid/base_512_masked/60_mask.png\n",
      "Saved binary mask for data/mini_MathVista_grid/base_512/61.jpg to data/mini_MathVista_grid/base_512_masked/61_mask.png\n",
      "Saved binary mask for data/mini_MathVista_grid/base_512/62.jpg to data/mini_MathVista_grid/base_512_masked/62_mask.png\n",
      "Saved binary mask for data/mini_MathVista_grid/base_512/63.jpg to data/mini_MathVista_grid/base_512_masked/63_mask.png\n",
      "Saved binary mask for data/mini_MathVista_grid/base_512/64.jpg to data/mini_MathVista_grid/base_512_masked/64_mask.png\n",
      "Saved binary mask for data/mini_MathVista_grid/base_512/65.jpg to data/mini_MathVista_grid/base_512_masked/65_mask.png\n",
      "Saved binary mask for data/mini_MathVista_grid/base_512/66.jpg to data/mini_MathVista_grid/base_512_masked/66_mask.png\n",
      "Saved binary mask for data/mini_MathVista_grid/base_512/67.jpg to data/mini_MathVista_grid/base_512_masked/67_mask.png\n",
      "Saved binary mask for data/mini_MathVista_grid/base_512/68.jpg to data/mini_MathVista_grid/base_512_masked/68_mask.png\n",
      "Saved binary mask for data/mini_MathVista_grid/base_512/69.jpg to data/mini_MathVista_grid/base_512_masked/69_mask.png\n",
      "Saved binary mask for data/mini_MathVista_grid/base_512/7.jpg to data/mini_MathVista_grid/base_512_masked/7_mask.png\n",
      "Saved binary mask for data/mini_MathVista_grid/base_512/70.jpg to data/mini_MathVista_grid/base_512_masked/70_mask.png\n",
      "Saved binary mask for data/mini_MathVista_grid/base_512/71.jpg to data/mini_MathVista_grid/base_512_masked/71_mask.png\n",
      "Saved binary mask for data/mini_MathVista_grid/base_512/72.jpg to data/mini_MathVista_grid/base_512_masked/72_mask.png\n",
      "Saved binary mask for data/mini_MathVista_grid/base_512/73.jpg to data/mini_MathVista_grid/base_512_masked/73_mask.png\n",
      "Saved binary mask for data/mini_MathVista_grid/base_512/74.jpg to data/mini_MathVista_grid/base_512_masked/74_mask.png\n",
      "Saved binary mask for data/mini_MathVista_grid/base_512/75.jpg to data/mini_MathVista_grid/base_512_masked/75_mask.png\n",
      "Saved binary mask for data/mini_MathVista_grid/base_512/76.jpg to data/mini_MathVista_grid/base_512_masked/76_mask.png\n",
      "Saved binary mask for data/mini_MathVista_grid/base_512/77.jpg to data/mini_MathVista_grid/base_512_masked/77_mask.png\n",
      "Saved binary mask for data/mini_MathVista_grid/base_512/78.jpg to data/mini_MathVista_grid/base_512_masked/78_mask.png\n",
      "Saved binary mask for data/mini_MathVista_grid/base_512/79.jpg to data/mini_MathVista_grid/base_512_masked/79_mask.png\n",
      "Saved binary mask for data/mini_MathVista_grid/base_512/8.jpg to data/mini_MathVista_grid/base_512_masked/8_mask.png\n",
      "Saved binary mask for data/mini_MathVista_grid/base_512/80.jpg to data/mini_MathVista_grid/base_512_masked/80_mask.png\n",
      "Saved binary mask for data/mini_MathVista_grid/base_512/81.jpg to data/mini_MathVista_grid/base_512_masked/81_mask.png\n",
      "Saved binary mask for data/mini_MathVista_grid/base_512/82.jpg to data/mini_MathVista_grid/base_512_masked/82_mask.png\n",
      "Saved binary mask for data/mini_MathVista_grid/base_512/83.jpg to data/mini_MathVista_grid/base_512_masked/83_mask.png\n",
      "Saved binary mask for data/mini_MathVista_grid/base_512/84.jpg to data/mini_MathVista_grid/base_512_masked/84_mask.png\n",
      "Saved binary mask for data/mini_MathVista_grid/base_512/85.jpg to data/mini_MathVista_grid/base_512_masked/85_mask.png\n",
      "Saved binary mask for data/mini_MathVista_grid/base_512/86.jpg to data/mini_MathVista_grid/base_512_masked/86_mask.png\n",
      "Saved binary mask for data/mini_MathVista_grid/base_512/87.jpg to data/mini_MathVista_grid/base_512_masked/87_mask.png\n",
      "Saved binary mask for data/mini_MathVista_grid/base_512/88.jpg to data/mini_MathVista_grid/base_512_masked/88_mask.png\n",
      "Saved binary mask for data/mini_MathVista_grid/base_512/89.jpg to data/mini_MathVista_grid/base_512_masked/89_mask.png\n",
      "Saved binary mask for data/mini_MathVista_grid/base_512/9.jpg to data/mini_MathVista_grid/base_512_masked/9_mask.png\n",
      "Saved binary mask for data/mini_MathVista_grid/base_512/90.jpg to data/mini_MathVista_grid/base_512_masked/90_mask.png\n",
      "Saved binary mask for data/mini_MathVista_grid/base_512/91.jpg to data/mini_MathVista_grid/base_512_masked/91_mask.png\n",
      "Saved binary mask for data/mini_MathVista_grid/base_512/92.jpg to data/mini_MathVista_grid/base_512_masked/92_mask.png\n",
      "Saved binary mask for data/mini_MathVista_grid/base_512/93.jpg to data/mini_MathVista_grid/base_512_masked/93_mask.png\n",
      "Saved binary mask for data/mini_MathVista_grid/base_512/94.jpg to data/mini_MathVista_grid/base_512_masked/94_mask.png\n",
      "Saved binary mask for data/mini_MathVista_grid/base_512/95.jpg to data/mini_MathVista_grid/base_512_masked/95_mask.png\n",
      "Saved binary mask for data/mini_MathVista_grid/base_512/96.jpg to data/mini_MathVista_grid/base_512_masked/96_mask.png\n",
      "Saved binary mask for data/mini_MathVista_grid/base_512/97.jpg to data/mini_MathVista_grid/base_512_masked/97_mask.png\n",
      "Saved binary mask for data/mini_MathVista_grid/base_512/98.jpg to data/mini_MathVista_grid/base_512_masked/98_mask.png\n",
      "Saved binary mask for data/mini_MathVista_grid/base_512/99.jpg to data/mini_MathVista_grid/base_512_masked/99_mask.png\n"
     ]
    }
   ],
   "source": [
    "import os\n",
    "import torch\n",
    "import torch.nn.functional as F\n",
    "import numpy as np\n",
    "import cv2\n",
    "from torchvision import models, transforms\n",
    "from PIL import Image\n",
    "\n",
    "# ----------------- GradCAM++ Implementation -----------------\n",
    "class GradCAMPlusPlus:\n",
    "    def __init__(self, model, target_layer):\n",
    "        self.model = model\n",
    "        self.model.eval()\n",
    "        self.target_layer = target_layer\n",
    "        self.gradients = None\n",
    "        self.activations = None\n",
    "\n",
    "        # Register hooks to save gradients and activations\n",
    "        target_layer.register_forward_hook(self.save_activation)\n",
    "        target_layer.register_backward_hook(self.save_gradient)\n",
    "\n",
    "    def save_activation(self, module, input, output):\n",
    "        self.activations = output\n",
    "\n",
    "    def save_gradient(self, module, grad_in, grad_out):\n",
    "        self.gradients = grad_out[0]\n",
    "\n",
    "    def forward(self, x):\n",
    "        return self.model(x)\n",
    "\n",
    "    def generate_cam(self, target_class):\n",
    "        # Compute weights based on Grad-CAM++ formulation\n",
    "        gradients = self.gradients[0].cpu().data.numpy()\n",
    "        activations = self.activations[0].cpu().data.numpy()\n",
    "        \n",
    "        alpha_num = gradients ** 2\n",
    "        alpha_denom = gradients ** 2 * 2 + np.sum(activations * (gradients ** 3), axis=(1, 2), keepdims=True)\n",
    "        # Avoid division by zero\n",
    "        alpha_denom = np.where(alpha_denom != 0, alpha_denom, np.ones(alpha_denom.shape))\n",
    "        alphas = alpha_num / alpha_denom\n",
    "        weights = np.maximum(gradients, 0) * alphas\n",
    "        weights = np.sum(weights, axis=(1, 2))\n",
    "        cam = np.sum(weights[:, np.newaxis, np.newaxis] * activations, axis=0)\n",
    "        cam = np.maximum(cam, 0)  # ReLU\n",
    "        # Resize CAM to 224x224 (same as input image size)\n",
    "        cam = cv2.resize(cam, (224, 224))\n",
    "        # Normalize CAM to [0, 1]\n",
    "        cam = cam - np.min(cam)\n",
    "        if np.max(cam) != 0:\n",
    "            cam = cam / np.max(cam)\n",
    "        return cam\n",
    "\n",
    "    def __call__(self, input_tensor, target_class):\n",
    "        # Forward pass\n",
    "        output = self.forward(input_tensor)\n",
    "        # Zero gradients and backward pass with respect to target class\n",
    "        self.model.zero_grad()\n",
    "        class_loss = output[0, target_class]\n",
    "        class_loss.backward()\n",
    "        # Generate CAM\n",
    "        cam = self.generate_cam(target_class)\n",
    "        return cam\n",
    "\n",
    "# ----------------- Preprocessing function -----------------\n",
    "def preprocess_image(img_path):\n",
    "    preprocess = transforms.Compose([\n",
    "        transforms.Resize((224, 224)),\n",
    "        transforms.ToTensor(),\n",
    "        transforms.Normalize(mean=[0.485, 0.456, 0.406],\n",
    "                             std=[0.229, 0.224, 0.225]),\n",
    "    ])\n",
    "    img = Image.open(img_path).convert(\"RGB\")\n",
    "    img_tensor = preprocess(img).unsqueeze(0)\n",
    "    return img, img_tensor\n",
    "\n",
    "# ----------------- Main Script -----------------\n",
    "\n",
    "# Define paths\n",
    "cle_data_dir = os.path.join(args['base_data_pth'])       # directory containing subdirectories {num} ahhhhh\n",
    "mask_output_dir = os.path.join(args['base_data_pth']+\"_masked\")    # directory where binary masks will be saved\n",
    "\n",
    "# Create output directory if it doesn't exist\n",
    "if not os.path.exists(mask_output_dir):\n",
    "    os.makedirs(mask_output_dir)\n",
    "\n",
    "# Load pretrained model (ResNet50) and specify the target convolutional layer\n",
    "model = models.resnet50(pretrained=True)\n",
    "target_layer = model.layer4[-1]  # last conv layer of ResNet50\n",
    "grad_cam_pp = GradCAMPlusPlus(model, target_layer)\n",
    "\n",
    "# Process each image file in this subdirectory (assume common image extensions)\n",
    "for filename in os.listdir(cle_data_dir):\n",
    "    if not filename.lower().endswith(('.png', '.jpg', '.jpeg', '.bmp')):\n",
    "        continue  # skip non-image files\n",
    "    \n",
    "    img_path = os.path.join(cle_data_dir, filename)\n",
    "    try:\n",
    "        original_img, input_tensor = preprocess_image(img_path)\n",
    "    except Exception as e:\n",
    "        print(f\"Error loading image {img_path}: {e}\")\n",
    "        continue\n",
    "    \n",
    "    # Forward pass through the model to get prediction\n",
    "    with torch.no_grad():\n",
    "        output = model(input_tensor)\n",
    "    target_class = output.argmax().item()  # or you can specify a target class if needed\n",
    "    \n",
    "    # Generate GradCAM++ heatmap for the target class\n",
    "    cam = grad_cam_pp(input_tensor, target_class)\n",
    "    \n",
    "    # Convert heatmap to binary mask using thresholding (e.g., threshold at 0.5)\n",
    "    binary_mask = (cam > 0.5).astype(np.uint8) * 255  # 255 for white regions\n",
    "    \n",
    "    # Optionally, convert to PIL Image (if you want to save in common formats)\n",
    "    mask_img = Image.fromarray(binary_mask)\n",
    "    \n",
    "    # Save binary mask image with a modified filename\n",
    "    base_name, _ = os.path.splitext(filename)\n",
    "    mask_filename = f\"{base_name}_mask.png\"\n",
    "    mask_save_path = os.path.join(mask_output_dir, mask_filename)\n",
    "    mask_img.save(mask_save_path)\n",
    "    print(f\"Saved binary mask for {img_path} to {mask_save_path}\")\n"
   ]
  },
  {
   "cell_type": "code",
   "execution_count": 14,
   "metadata": {},
   "outputs": [
    {
     "name": "stdout",
     "output_type": "stream",
     "text": [
      "Loading model from models/ldm/cin256-v2/model.ckpt\n"
     ]
    },
    {
     "name": "stderr",
     "output_type": "stream",
     "text": [
      "/home/users/mxy/.local/lib/python3.10/site-packages/pytorch_lightning/core/lightning.py:2058: DeprecationWarning: `torch.distributed._sharded_tensor` will be deprecated, use `torch.distributed._shard.sharded_tensor` instead\n",
      "  from torch.distributed._sharded_tensor import pre_load_state_dict_hook, state_dict_hook\n"
     ]
    },
    {
     "name": "stdout",
     "output_type": "stream",
     "text": [
      "LatentDiffusion: Running in eps-prediction mode\n",
      "DiffusionWrapper has 400.92 M params.\n",
      "making attention of type 'vanilla' with 512 in_channels\n",
      "Working with z of shape (1, 3, 64, 64) = 12288 dimensions.\n",
      "making attention of type 'vanilla' with 512 in_channels\n"
     ]
    },
    {
     "name": "stderr",
     "output_type": "stream",
     "text": [
      "Target Dataloader: 1it [00:00,  2.81it/s]"
     ]
    },
    {
     "name": "stdout",
     "output_type": "stream",
     "text": [
      "bar entirely complete\n"
     ]
    },
    {
     "name": "stderr",
     "output_type": "stream",
     "text": []
    },
    {
     "name": "stdout",
     "output_type": "stream",
     "text": [
      "85 already processed for docs, skipping...\n",
      "54 already processed for docs, skipping...\n",
      "28 already processed for docs, skipping...\n",
      "82 already processed for docs, skipping...\n",
      "53 already processed for docs, skipping...\n",
      "21 already processed for docs, skipping...\n",
      "26 already processed for docs, skipping...\n",
      "5 already processed for docs, skipping...\n",
      "13 already processed for docs, skipping...\n",
      "14 already processed for docs, skipping...\n",
      "68 already processed for docs, skipping...\n",
      "2 already processed for docs, skipping...\n",
      "66 already processed for docs, skipping...\n",
      "61 already processed for docs, skipping...\n",
      "70 already processed for docs, skipping...\n",
      "77 already processed for docs, skipping...\n",
      "79 already processed for docs, skipping...\n",
      "37 already processed for docs, skipping...\n",
      "30 already processed for docs, skipping...\n",
      "42 already processed for docs, skipping...\n",
      "93 already processed for docs, skipping...\n",
      "45 already processed for docs, skipping...\n",
      "94 already processed for docs, skipping...\n",
      "39 already processed for docs, skipping...\n",
      "60 already processed for docs, skipping...\n",
      "67 already processed for docs, skipping...\n",
      "15 already processed for docs, skipping...\n",
      "69 already processed for docs, skipping...\n",
      "3 already processed for docs, skipping...\n",
      "4 already processed for docs, skipping...\n",
      "12 already processed for docs, skipping...\n",
      "27 already processed for docs, skipping...\n",
      "20 already processed for docs, skipping...\n",
      "83 already processed for docs, skipping...\n",
      "52 already processed for docs, skipping...\n",
      "84 already processed for docs, skipping...\n",
      "55 already processed for docs, skipping...\n",
      "29 already processed for docs, skipping...\n",
      "44 already processed for docs, skipping...\n",
      "95 already processed for docs, skipping...\n",
      "38 already processed for docs, skipping...\n",
      "43 already processed for docs, skipping...\n",
      "92 already processed for docs, skipping...\n",
      "31 already processed for docs, skipping...\n",
      "36 already processed for docs, skipping...\n",
      "78 already processed for docs, skipping...\n",
      "76 already processed for docs, skipping...\n",
      "71 already processed for docs, skipping...\n",
      "40 already processed for docs, skipping...\n",
      "91 already processed for docs, skipping...\n",
      "47 already processed for docs, skipping...\n",
      "96 already processed for docs, skipping...\n",
      "49 already processed for docs, skipping...\n",
      "100 already processed for docs, skipping...\n",
      "98 already processed for docs, skipping...\n",
      "35 already processed for docs, skipping...\n",
      "32 already processed for docs, skipping...\n",
      "72 already processed for docs, skipping...\n",
      "75 already processed for docs, skipping...\n",
      "18 already processed for docs, skipping...\n"
     ]
    },
    {
     "name": "stderr",
     "output_type": "stream",
     "text": []
    },
    {
     "name": "stdout",
     "output_type": "stream",
     "text": [
      "64 already processed for docs, skipping...\n",
      "63 already processed for docs, skipping...\n",
      "9 already processed for docs, skipping...\n",
      "7 already processed for docs, skipping...\n",
      "11 already processed for docs, skipping...\n",
      "16 already processed for docs, skipping...\n",
      "23 already processed for docs, skipping...\n",
      "89 already processed for docs, skipping...\n",
      "58 already processed for docs, skipping...\n",
      "24 already processed for docs, skipping...\n",
      "87 already processed for docs, skipping...\n",
      "56 already processed for docs, skipping...\n",
      "80 already processed for docs, skipping...\n",
      "51 already processed for docs, skipping...\n",
      "74 already processed for docs, skipping...\n",
      "73 already processed for docs, skipping...\n",
      "33 already processed for docs, skipping...\n",
      "48 already processed for docs, skipping...\n",
      "99 already processed for docs, skipping...\n",
      "34 already processed for docs, skipping...\n",
      "46 already processed for docs, skipping...\n",
      "97 already processed for docs, skipping...\n",
      "41 already processed for docs, skipping...\n",
      "90 already processed for docs, skipping...\n",
      "81 already processed for docs, skipping...\n",
      "50 already processed for docs, skipping...\n",
      "86 already processed for docs, skipping...\n",
      "57 already processed for docs, skipping...\n",
      "88 already processed for docs, skipping...\n",
      "59 already processed for docs, skipping...\n",
      "25 already processed for docs, skipping...\n",
      "22 already processed for docs, skipping...\n",
      "image name =  17\n",
      "Data shape for DDIM sampling is (1, 3, 64, 64), eta 0.0\n",
      "Running Adversarial Sampling at 0 step\n",
      "Running DDIM Sampling with 200 timesteps\n"
     ]
    },
    {
     "name": "stderr",
     "output_type": "stream",
     "text": [
      "\n",
      "\u001b[A\n",
      "\u001b[A\n",
      "\u001b[A\n",
      "DDIM Sampler: 100%|██████████| 200/200 [00:22<00:00,  8.77it/s]\n"
     ]
    },
    {
     "name": "stdout",
     "output_type": "stream",
     "text": [
      "Data shape for DDIM sampling is (1, 3, 64, 64), eta 0.0\n",
      "Running Adversarial Sampling at 0 step\n",
      "Running DDIM Sampling with 200 timesteps\n"
     ]
    },
    {
     "name": "stderr",
     "output_type": "stream",
     "text": [
      "\n",
      "\u001b[A\n",
      "\u001b[A\n",
      "\u001b[A\n",
      "\u001b[A\n",
      "DDIM Sampler: 100%|██████████| 200/200 [00:23<00:00,  8.54it/s]\n"
     ]
    },
    {
     "name": "stdout",
     "output_type": "stream",
     "text": [
      "loss: [array(0.8125, dtype=float16), array(0.8696, dtype=float16), array(0.8726, dtype=float16), array(0.854, dtype=float16)]\n",
      "Saved poisoned image 17 to ./data/poisons/mini_MathVista_grid+i2i_AdvDiffVLMAttack/docs/17.png\n",
      "Time: 47.26156425476074\n",
      "image name =  1\n",
      "Data shape for DDIM sampling is (1, 3, 64, 64), eta 0.0\n",
      "Running Adversarial Sampling at 0 step\n",
      "Running DDIM Sampling with 200 timesteps\n"
     ]
    },
    {
     "name": "stderr",
     "output_type": "stream",
     "text": [
      "\n",
      "\u001b[A\n",
      "\u001b[A\n",
      "\u001b[A\n",
      "\u001b[A\n",
      "\u001b[A\n",
      "DDIM Sampler: 100%|██████████| 200/200 [00:23<00:00,  8.59it/s]\n"
     ]
    },
    {
     "name": "stdout",
     "output_type": "stream",
     "text": [
      "Data shape for DDIM sampling is (1, 3, 64, 64), eta 0.0\n",
      "Running Adversarial Sampling at 0 step\n",
      "Running DDIM Sampling with 200 timesteps\n"
     ]
    },
    {
     "name": "stderr",
     "output_type": "stream",
     "text": [
      "\n",
      "\u001b[A\n",
      "\u001b[A\n",
      "\u001b[A\n",
      "\u001b[A\n",
      "DDIM Sampler: 100%|██████████| 200/200 [00:23<00:00,  8.52it/s]\n"
     ]
    },
    {
     "name": "stdout",
     "output_type": "stream",
     "text": [
      "loss: [array(0.8086, dtype=float16), array(0.878, dtype=float16), array(0.8716, dtype=float16), array(0.892, dtype=float16)]\n",
      "Saved poisoned image 1 to ./data/poisons/mini_MathVista_grid+i2i_AdvDiffVLMAttack/docs/1.png\n",
      "Time: 47.5124249458313\n",
      "image name =  6\n",
      "Data shape for DDIM sampling is (1, 3, 64, 64), eta 0.0\n",
      "Running Adversarial Sampling at 0 step\n",
      "Running DDIM Sampling with 200 timesteps\n"
     ]
    },
    {
     "name": "stderr",
     "output_type": "stream",
     "text": [
      "\n",
      "\u001b[A\n",
      "\u001b[A\n",
      "\u001b[A\n",
      "\u001b[A\n",
      "DDIM Sampler: 100%|██████████| 200/200 [00:23<00:00,  8.57it/s]\n"
     ]
    },
    {
     "name": "stdout",
     "output_type": "stream",
     "text": [
      "Data shape for DDIM sampling is (1, 3, 64, 64), eta 0.0\n",
      "Running Adversarial Sampling at 0 step\n",
      "Running DDIM Sampling with 200 timesteps\n"
     ]
    },
    {
     "name": "stderr",
     "output_type": "stream",
     "text": [
      "\n",
      "\u001b[A\n",
      "\u001b[A\n",
      "\u001b[A\n",
      "\u001b[A\n",
      "\u001b[A\n",
      "\u001b[A\n",
      "DDIM Sampler: 100%|██████████| 200/200 [00:23<00:00,  8.55it/s]\n"
     ]
    },
    {
     "name": "stdout",
     "output_type": "stream",
     "text": [
      "loss: [array(0.8164, dtype=float16), array(0.8716, dtype=float16), array(0.8433, dtype=float16), array(0.7617, dtype=float16)]\n",
      "Saved poisoned image 6 to ./data/poisons/mini_MathVista_grid+i2i_AdvDiffVLMAttack/docs/6.png\n",
      "Time: 47.459625482559204\n",
      "image name =  10\n",
      "Data shape for DDIM sampling is (1, 3, 64, 64), eta 0.0\n",
      "Running Adversarial Sampling at 0 step\n",
      "Running DDIM Sampling with 200 timesteps\n"
     ]
    },
    {
     "name": "stderr",
     "output_type": "stream",
     "text": [
      "\n",
      "\u001b[A\n",
      "\u001b[A\n",
      "\u001b[A\n",
      "\u001b[A\n",
      "DDIM Sampler: 100%|██████████| 200/200 [00:23<00:00,  8.57it/s]\n"
     ]
    },
    {
     "name": "stdout",
     "output_type": "stream",
     "text": [
      "Data shape for DDIM sampling is (1, 3, 64, 64), eta 0.0\n",
      "Running Adversarial Sampling at 0 step\n",
      "Running DDIM Sampling with 200 timesteps\n"
     ]
    },
    {
     "name": "stderr",
     "output_type": "stream",
     "text": [
      "\n",
      "\u001b[A\n",
      "\u001b[A\n",
      "\u001b[A\n",
      "\u001b[A\n",
      "DDIM Sampler: 100%|██████████| 200/200 [00:23<00:00,  8.59it/s]\n"
     ]
    },
    {
     "name": "stdout",
     "output_type": "stream",
     "text": [
      "loss: [array(0.7144, dtype=float16), array(0.783, dtype=float16), array(0.782, dtype=float16), array(0.7437, dtype=float16)]\n",
      "Saved poisoned image 10 to ./data/poisons/mini_MathVista_grid+i2i_AdvDiffVLMAttack/docs/10.png\n",
      "Time: 47.360817670822144\n",
      "image name =  62\n",
      "Data shape for DDIM sampling is (1, 3, 64, 64), eta 0.0\n",
      "Running Adversarial Sampling at 0 step\n",
      "Running DDIM Sampling with 200 timesteps\n"
     ]
    },
    {
     "name": "stderr",
     "output_type": "stream",
     "text": [
      "\n",
      "\u001b[A\n",
      "\u001b[A\n",
      "\u001b[A\n",
      "\u001b[A\n",
      "DDIM Sampler: 100%|██████████| 200/200 [00:23<00:00,  8.62it/s]\n"
     ]
    },
    {
     "name": "stdout",
     "output_type": "stream",
     "text": [
      "Data shape for DDIM sampling is (1, 3, 64, 64), eta 0.0\n",
      "Running Adversarial Sampling at 0 step\n",
      "Running DDIM Sampling with 200 timesteps\n"
     ]
    },
    {
     "name": "stderr",
     "output_type": "stream",
     "text": [
      "\n",
      "\u001b[A\n",
      "\u001b[A\n",
      "\u001b[A\n",
      "\u001b[A\n",
      "DDIM Sampler: 100%|██████████| 200/200 [00:23<00:00,  8.54it/s]\n"
     ]
    },
    {
     "name": "stdout",
     "output_type": "stream",
     "text": [
      "loss: [array(0.8203, dtype=float16), array(0.8647, dtype=float16), array(0.8574, dtype=float16), array(0.8315, dtype=float16)]\n",
      "Saved poisoned image 62 to ./data/poisons/mini_MathVista_grid+i2i_AdvDiffVLMAttack/docs/62.png\n",
      "Time: 47.33671522140503\n",
      "image name =  8\n",
      "Data shape for DDIM sampling is (1, 3, 64, 64), eta 0.0\n",
      "Running Adversarial Sampling at 0 step\n",
      "Running DDIM Sampling with 200 timesteps\n"
     ]
    },
    {
     "name": "stderr",
     "output_type": "stream",
     "text": [
      "\n",
      "\u001b[A\n",
      "\u001b[A\n",
      "\u001b[A\n",
      "\u001b[A\n",
      "DDIM Sampler: 100%|██████████| 200/200 [00:23<00:00,  8.54it/s]\n"
     ]
    },
    {
     "name": "stdout",
     "output_type": "stream",
     "text": [
      "Data shape for DDIM sampling is (1, 3, 64, 64), eta 0.0\n",
      "Running Adversarial Sampling at 0 step\n",
      "Running DDIM Sampling with 200 timesteps\n"
     ]
    },
    {
     "name": "stderr",
     "output_type": "stream",
     "text": [
      "\n",
      "\u001b[A\n",
      "\u001b[A\n",
      "\u001b[A\n",
      "\u001b[A\n",
      "DDIM Sampler: 100%|██████████| 200/200 [00:23<00:00,  8.59it/s]\n"
     ]
    },
    {
     "name": "stdout",
     "output_type": "stream",
     "text": [
      "loss: [array(0.704, dtype=float16), array(0.782, dtype=float16), array(0.758, dtype=float16), array(0.721, dtype=float16)]\n",
      "Saved poisoned image 8 to ./data/poisons/mini_MathVista_grid+i2i_AdvDiffVLMAttack/docs/8.png\n",
      "Time: 47.421562910079956\n",
      "image name =  19\n",
      "Data shape for DDIM sampling is (1, 3, 64, 64), eta 0.0\n",
      "Running Adversarial Sampling at 0 step\n",
      "Running DDIM Sampling with 200 timesteps\n"
     ]
    },
    {
     "name": "stderr",
     "output_type": "stream",
     "text": [
      "\n",
      "\u001b[A\n",
      "\u001b[A\n",
      "\u001b[A\n",
      "\u001b[A\n",
      "DDIM Sampler: 100%|██████████| 200/200 [00:22<00:00,  8.71it/s]\n"
     ]
    },
    {
     "name": "stdout",
     "output_type": "stream",
     "text": [
      "Data shape for DDIM sampling is (1, 3, 64, 64), eta 0.0\n",
      "Running Adversarial Sampling at 0 step\n",
      "Running DDIM Sampling with 200 timesteps\n"
     ]
    },
    {
     "name": "stderr",
     "output_type": "stream",
     "text": [
      "\n",
      "\u001b[A\n",
      "\u001b[A\n",
      "\u001b[A\n",
      "\u001b[A\n",
      "\u001b[A\n",
      "DDIM Sampler: 100%|██████████| 200/200 [00:23<00:00,  8.54it/s]\n"
     ]
    },
    {
     "name": "stdout",
     "output_type": "stream",
     "text": [
      "loss: [array(0.6714, dtype=float16), array(0.8174, dtype=float16), array(0.729, dtype=float16), array(0.6797, dtype=float16)]\n",
      "Saved poisoned image 19 to ./data/poisons/mini_MathVista_grid+i2i_AdvDiffVLMAttack/docs/19.png\n",
      "Time: 47.16022825241089\n",
      "image name =  65\n",
      "Data shape for DDIM sampling is (1, 3, 64, 64), eta 0.0\n",
      "Running Adversarial Sampling at 0 step\n",
      "Running DDIM Sampling with 200 timesteps\n"
     ]
    },
    {
     "name": "stderr",
     "output_type": "stream",
     "text": [
      "\n",
      "\u001b[A\n",
      "\u001b[A\n",
      "\u001b[A\n",
      "\u001b[A\n",
      "DDIM Sampler: 100%|██████████| 200/200 [00:23<00:00,  8.49it/s]\n"
     ]
    },
    {
     "name": "stdout",
     "output_type": "stream",
     "text": [
      "Data shape for DDIM sampling is (1, 3, 64, 64), eta 0.0\n",
      "Running Adversarial Sampling at 0 step\n",
      "Running DDIM Sampling with 200 timesteps\n"
     ]
    },
    {
     "name": "stderr",
     "output_type": "stream",
     "text": [
      "\n",
      "\u001b[A\n",
      "\u001b[A\n",
      "\u001b[A\n",
      "\u001b[A\n",
      "DDIM Sampler: 100%|██████████| 200/200 [00:23<00:00,  8.58it/s]\n",
      "Target Dataloader: 2it [06:20, 223.62s/it]"
     ]
    },
    {
     "name": "stdout",
     "output_type": "stream",
     "text": [
      "loss: [array(0.748, dtype=float16), array(0.857, dtype=float16), array(0.84, dtype=float16), array(0.884, dtype=float16)]\n",
      "Saved poisoned image 65 to ./data/poisons/mini_MathVista_grid+i2i_AdvDiffVLMAttack/docs/65.png\n",
      "Time: 47.60268831253052\n"
     ]
    },
    {
     "name": "stderr",
     "output_type": "stream",
     "text": []
    },
    {
     "name": "stdout",
     "output_type": "stream",
     "text": [
      "image name =  85\n",
      "Data shape for DDIM sampling is (1, 3, 64, 64), eta 0.0\n",
      "Running Adversarial Sampling at 0 step\n",
      "Running DDIM Sampling with 200 timesteps\n"
     ]
    },
    {
     "name": "stderr",
     "output_type": "stream",
     "text": [
      "\n",
      "\u001b[A\n",
      "\u001b[A\n",
      "\u001b[A\n",
      "\u001b[A\n",
      "DDIM Sampler: 100%|██████████| 200/200 [00:23<00:00,  8.55it/s]\n"
     ]
    },
    {
     "name": "stdout",
     "output_type": "stream",
     "text": [
      "Data shape for DDIM sampling is (1, 3, 64, 64), eta 0.0\n",
      "Running Adversarial Sampling at 0 step\n",
      "Running DDIM Sampling with 200 timesteps\n"
     ]
    },
    {
     "name": "stderr",
     "output_type": "stream",
     "text": [
      "\n",
      "\u001b[A\n",
      "\u001b[A\n",
      "\u001b[A\n",
      "\u001b[A\n",
      "DDIM Sampler: 100%|██████████| 200/200 [00:23<00:00,  8.53it/s]\n"
     ]
    },
    {
     "name": "stdout",
     "output_type": "stream",
     "text": [
      "loss: [array(0.829, dtype=float16), array(0.862, dtype=float16), array(0.8135, dtype=float16), array(0.775, dtype=float16)]\n",
      "Saved poisoned image 85 to ./data/poisons/mini_MathVista_grid+i2i_AdvDiffVLMAttack/tbl/85.png\n",
      "Time: 47.56317162513733\n",
      "image name =  54\n",
      "Data shape for DDIM sampling is (1, 3, 64, 64), eta 0.0\n",
      "Running Adversarial Sampling at 0 step\n",
      "Running DDIM Sampling with 200 timesteps\n"
     ]
    },
    {
     "name": "stderr",
     "output_type": "stream",
     "text": [
      "\n",
      "\u001b[A\n",
      "\u001b[A\n",
      "\u001b[A\n",
      "\u001b[A\n",
      "DDIM Sampler: 100%|██████████| 200/200 [00:23<00:00,  8.58it/s]\n"
     ]
    },
    {
     "name": "stdout",
     "output_type": "stream",
     "text": [
      "Data shape for DDIM sampling is (1, 3, 64, 64), eta 0.0\n",
      "Running Adversarial Sampling at 0 step\n",
      "Running DDIM Sampling with 200 timesteps\n"
     ]
    },
    {
     "name": "stderr",
     "output_type": "stream",
     "text": [
      "\n",
      "\u001b[A\n",
      "\u001b[A\n",
      "\u001b[A\n",
      "\u001b[A\n",
      "DDIM Sampler: 100%|██████████| 200/200 [00:23<00:00,  8.52it/s]\n"
     ]
    },
    {
     "name": "stdout",
     "output_type": "stream",
     "text": [
      "loss: [array(0.7104, dtype=float16), array(0.806, dtype=float16), array(0.766, dtype=float16), array(0.717, dtype=float16)]\n",
      "Saved poisoned image 54 to ./data/poisons/mini_MathVista_grid+i2i_AdvDiffVLMAttack/tbl/54.png\n",
      "Time: 47.49951910972595\n",
      "image name =  28\n",
      "Data shape for DDIM sampling is (1, 3, 64, 64), eta 0.0\n",
      "Running Adversarial Sampling at 0 step\n",
      "Running DDIM Sampling with 200 timesteps\n"
     ]
    },
    {
     "name": "stderr",
     "output_type": "stream",
     "text": [
      "\n",
      "\u001b[A\n",
      "\u001b[A\n",
      "\u001b[A\n",
      "\u001b[A\n",
      "DDIM Sampler: 100%|██████████| 200/200 [00:23<00:00,  8.42it/s]\n"
     ]
    },
    {
     "name": "stdout",
     "output_type": "stream",
     "text": [
      "Data shape for DDIM sampling is (1, 3, 64, 64), eta 0.0\n",
      "Running Adversarial Sampling at 0 step\n",
      "Running DDIM Sampling with 200 timesteps\n"
     ]
    },
    {
     "name": "stderr",
     "output_type": "stream",
     "text": [
      "\n",
      "\u001b[A\n",
      "\u001b[A\n",
      "\u001b[A\n",
      "\u001b[A\n",
      "\u001b[A\n",
      "\u001b[A\n",
      "DDIM Sampler: 100%|██████████| 200/200 [00:23<00:00,  8.57it/s]\n"
     ]
    },
    {
     "name": "stdout",
     "output_type": "stream",
     "text": [
      "loss: [array(0.703, dtype=float16), array(0.811, dtype=float16), array(0.7666, dtype=float16), array(0.712, dtype=float16)]\n",
      "Saved poisoned image 28 to ./data/poisons/mini_MathVista_grid+i2i_AdvDiffVLMAttack/tbl/28.png\n",
      "Time: 47.80138278007507\n",
      "image name =  82\n",
      "Data shape for DDIM sampling is (1, 3, 64, 64), eta 0.0\n",
      "Running Adversarial Sampling at 0 step\n",
      "Running DDIM Sampling with 200 timesteps\n"
     ]
    },
    {
     "name": "stderr",
     "output_type": "stream",
     "text": [
      "\n",
      "\u001b[A\n",
      "\u001b[A\n",
      "\u001b[A\n",
      "\u001b[A\n",
      "DDIM Sampler: 100%|██████████| 200/200 [00:23<00:00,  8.52it/s]\n"
     ]
    },
    {
     "name": "stdout",
     "output_type": "stream",
     "text": [
      "Data shape for DDIM sampling is (1, 3, 64, 64), eta 0.0\n",
      "Running Adversarial Sampling at 0 step\n",
      "Running DDIM Sampling with 200 timesteps\n"
     ]
    },
    {
     "name": "stderr",
     "output_type": "stream",
     "text": [
      "\n",
      "\u001b[A\n",
      "\u001b[A\n",
      "\u001b[A\n",
      "\u001b[A\n",
      "DDIM Sampler: 100%|██████████| 200/200 [00:23<00:00,  8.49it/s]\n"
     ]
    },
    {
     "name": "stdout",
     "output_type": "stream",
     "text": [
      "loss: [array(0.683, dtype=float16), array(0.804, dtype=float16), array(0.756, dtype=float16), array(0.6665, dtype=float16)]\n",
      "Saved poisoned image 82 to ./data/poisons/mini_MathVista_grid+i2i_AdvDiffVLMAttack/tbl/82.png\n",
      "Time: 47.77436351776123\n",
      "image name =  53\n",
      "Data shape for DDIM sampling is (1, 3, 64, 64), eta 0.0\n",
      "Running Adversarial Sampling at 0 step\n",
      "Running DDIM Sampling with 200 timesteps\n"
     ]
    },
    {
     "name": "stderr",
     "output_type": "stream",
     "text": [
      "\n",
      "\u001b[A\n",
      "\u001b[A\n",
      "\u001b[A\n",
      "\u001b[A\n",
      "DDIM Sampler: 100%|██████████| 200/200 [00:22<00:00,  8.71it/s]\n"
     ]
    },
    {
     "name": "stdout",
     "output_type": "stream",
     "text": [
      "Data shape for DDIM sampling is (1, 3, 64, 64), eta 0.0\n",
      "Running Adversarial Sampling at 0 step\n",
      "Running DDIM Sampling with 200 timesteps\n"
     ]
    },
    {
     "name": "stderr",
     "output_type": "stream",
     "text": [
      "\n",
      "\u001b[A\n",
      "\u001b[A\n",
      "\u001b[A\n",
      "\u001b[A\n",
      "DDIM Sampler: 100%|██████████| 200/200 [00:23<00:00,  8.65it/s]\n"
     ]
    },
    {
     "name": "stdout",
     "output_type": "stream",
     "text": [
      "loss: [array(0.6553, dtype=float16), array(0.798, dtype=float16), array(0.7603, dtype=float16), array(0.659, dtype=float16)]\n",
      "Saved poisoned image 53 to ./data/poisons/mini_MathVista_grid+i2i_AdvDiffVLMAttack/tbl/53.png\n",
      "Time: 46.8873507976532\n",
      "image name =  21\n",
      "Data shape for DDIM sampling is (1, 3, 64, 64), eta 0.0\n",
      "Running Adversarial Sampling at 0 step\n",
      "Running DDIM Sampling with 200 timesteps\n"
     ]
    },
    {
     "name": "stderr",
     "output_type": "stream",
     "text": [
      "\n",
      "\u001b[A\n",
      "\u001b[A\n",
      "\u001b[A\n",
      "\u001b[A\n",
      "\u001b[A\n",
      "DDIM Sampler: 100%|██████████| 200/200 [00:23<00:00,  8.54it/s]\n"
     ]
    },
    {
     "name": "stdout",
     "output_type": "stream",
     "text": [
      "Data shape for DDIM sampling is (1, 3, 64, 64), eta 0.0\n",
      "Running Adversarial Sampling at 0 step\n",
      "Running DDIM Sampling with 200 timesteps\n"
     ]
    },
    {
     "name": "stderr",
     "output_type": "stream",
     "text": [
      "\n",
      "\u001b[A\n",
      "\u001b[A\n",
      "\u001b[A\n",
      "\u001b[A\n",
      "DDIM Sampler: 100%|██████████| 200/200 [00:23<00:00,  8.55it/s]\n"
     ]
    },
    {
     "name": "stdout",
     "output_type": "stream",
     "text": [
      "loss: [array(0.6216, dtype=float16), array(0.767, dtype=float16), array(0.767, dtype=float16), array(0.666, dtype=float16)]\n",
      "Saved poisoned image 21 to ./data/poisons/mini_MathVista_grid+i2i_AdvDiffVLMAttack/tbl/21.png\n",
      "Time: 47.53862118721008\n",
      "image name =  26\n",
      "Data shape for DDIM sampling is (1, 3, 64, 64), eta 0.0\n",
      "Running Adversarial Sampling at 0 step\n",
      "Running DDIM Sampling with 200 timesteps\n"
     ]
    },
    {
     "name": "stderr",
     "output_type": "stream",
     "text": [
      "\n",
      "\u001b[A\n",
      "\u001b[A\n",
      "\u001b[A\n",
      "\u001b[A\n",
      "DDIM Sampler: 100%|██████████| 200/200 [00:23<00:00,  8.56it/s]\n"
     ]
    },
    {
     "name": "stdout",
     "output_type": "stream",
     "text": [
      "Data shape for DDIM sampling is (1, 3, 64, 64), eta 0.0\n",
      "Running Adversarial Sampling at 0 step\n",
      "Running DDIM Sampling with 200 timesteps\n"
     ]
    },
    {
     "name": "stderr",
     "output_type": "stream",
     "text": [
      "\n",
      "\u001b[A\n",
      "\u001b[A\n",
      "\u001b[A\n",
      "\u001b[A\n",
      "\u001b[A\n",
      "\u001b[A\n",
      "DDIM Sampler: 100%|██████████| 200/200 [00:23<00:00,  8.47it/s]\n"
     ]
    },
    {
     "name": "stdout",
     "output_type": "stream",
     "text": [
      "loss: [array(0.7056, dtype=float16), array(0.781, dtype=float16), array(0.7666, dtype=float16), array(0.735, dtype=float16)]\n",
      "Saved poisoned image 26 to ./data/poisons/mini_MathVista_grid+i2i_AdvDiffVLMAttack/tbl/26.png\n",
      "Time: 47.7419548034668\n",
      "image name =  5\n",
      "Data shape for DDIM sampling is (1, 3, 64, 64), eta 0.0\n",
      "Running Adversarial Sampling at 0 step\n",
      "Running DDIM Sampling with 200 timesteps\n"
     ]
    },
    {
     "name": "stderr",
     "output_type": "stream",
     "text": [
      "\n",
      "\u001b[A\n",
      "\u001b[A\n",
      "\u001b[A\n",
      "\u001b[A\n",
      "DDIM Sampler: 100%|██████████| 200/200 [00:23<00:00,  8.50it/s]\n"
     ]
    },
    {
     "name": "stdout",
     "output_type": "stream",
     "text": [
      "Data shape for DDIM sampling is (1, 3, 64, 64), eta 0.0\n",
      "Running Adversarial Sampling at 0 step\n",
      "Running DDIM Sampling with 200 timesteps\n"
     ]
    },
    {
     "name": "stderr",
     "output_type": "stream",
     "text": [
      "\n",
      "\u001b[A\n",
      "\u001b[A\n",
      "\u001b[A\n",
      "\u001b[A\n",
      "DDIM Sampler: 100%|██████████| 200/200 [00:23<00:00,  8.56it/s]\n"
     ]
    },
    {
     "name": "stdout",
     "output_type": "stream",
     "text": [
      "loss: [array(0.6987, dtype=float16), array(0.793, dtype=float16), array(0.7583, dtype=float16), array(0.7065, dtype=float16)]\n",
      "Saved poisoned image 5 to ./data/poisons/mini_MathVista_grid+i2i_AdvDiffVLMAttack/tbl/5.png\n",
      "Time: 47.61501979827881\n",
      "image name =  13\n",
      "Data shape for DDIM sampling is (1, 3, 64, 64), eta 0.0\n",
      "Running Adversarial Sampling at 0 step\n",
      "Running DDIM Sampling with 200 timesteps\n"
     ]
    },
    {
     "name": "stderr",
     "output_type": "stream",
     "text": [
      "\n",
      "\u001b[A\n",
      "\u001b[A\n",
      "\u001b[A\n",
      "\u001b[A\n",
      "DDIM Sampler: 100%|██████████| 200/200 [00:23<00:00,  8.50it/s]\n"
     ]
    },
    {
     "name": "stdout",
     "output_type": "stream",
     "text": [
      "Data shape for DDIM sampling is (1, 3, 64, 64), eta 0.0\n",
      "Running Adversarial Sampling at 0 step\n",
      "Running DDIM Sampling with 200 timesteps\n"
     ]
    },
    {
     "name": "stderr",
     "output_type": "stream",
     "text": [
      "\n",
      "\u001b[A\n",
      "\u001b[A\n",
      "\u001b[A\n",
      "\u001b[A\n",
      "DDIM Sampler: 100%|██████████| 200/200 [00:23<00:00,  8.55it/s]\n"
     ]
    },
    {
     "name": "stdout",
     "output_type": "stream",
     "text": [
      "loss: [array(0.813, dtype=float16), array(0.851, dtype=float16), array(0.856, dtype=float16), array(0.8257, dtype=float16)]\n",
      "Saved poisoned image 13 to ./data/poisons/mini_MathVista_grid+i2i_AdvDiffVLMAttack/tbl/13.png\n",
      "Time: 47.685593128204346\n",
      "image name =  14\n",
      "Data shape for DDIM sampling is (1, 3, 64, 64), eta 0.0\n",
      "Running Adversarial Sampling at 0 step\n",
      "Running DDIM Sampling with 200 timesteps\n"
     ]
    },
    {
     "name": "stderr",
     "output_type": "stream",
     "text": [
      "\n",
      "\u001b[A\n",
      "\u001b[A\n",
      "\u001b[A\n",
      "\u001b[A\n",
      "\u001b[A\n",
      "\u001b[A\n",
      "DDIM Sampler: 100%|██████████| 200/200 [00:23<00:00,  8.64it/s]\n"
     ]
    },
    {
     "name": "stdout",
     "output_type": "stream",
     "text": [
      "Data shape for DDIM sampling is (1, 3, 64, 64), eta 0.0\n",
      "Running Adversarial Sampling at 0 step\n",
      "Running DDIM Sampling with 200 timesteps\n"
     ]
    },
    {
     "name": "stderr",
     "output_type": "stream",
     "text": [
      "\n",
      "\u001b[A\n",
      "\u001b[A\n",
      "\u001b[A\n",
      "\u001b[A\n",
      "DDIM Sampler: 100%|██████████| 200/200 [00:23<00:00,  8.47it/s]\n"
     ]
    },
    {
     "name": "stdout",
     "output_type": "stream",
     "text": [
      "loss: [array(0.6553, dtype=float16), array(0.7427, dtype=float16), array(0.7407, dtype=float16), array(0.7085, dtype=float16)]\n",
      "Saved poisoned image 14 to ./data/poisons/mini_MathVista_grid+i2i_AdvDiffVLMAttack/tbl/14.png\n",
      "Time: 47.51704382896423\n",
      "image name =  68\n",
      "Data shape for DDIM sampling is (1, 3, 64, 64), eta 0.0\n",
      "Running Adversarial Sampling at 0 step\n",
      "Running DDIM Sampling with 200 timesteps\n"
     ]
    },
    {
     "name": "stderr",
     "output_type": "stream",
     "text": [
      "\n",
      "\u001b[A\n",
      "\u001b[A\n",
      "\u001b[A\n",
      "\u001b[A\n",
      "DDIM Sampler: 100%|██████████| 200/200 [00:23<00:00,  8.51it/s]\n"
     ]
    },
    {
     "name": "stdout",
     "output_type": "stream",
     "text": [
      "Data shape for DDIM sampling is (1, 3, 64, 64), eta 0.0\n",
      "Running Adversarial Sampling at 0 step\n",
      "Running DDIM Sampling with 200 timesteps\n"
     ]
    },
    {
     "name": "stderr",
     "output_type": "stream",
     "text": [
      "\n",
      "\u001b[A\n",
      "\u001b[A\n",
      "\u001b[A\n",
      "\u001b[A\n",
      "\u001b[A\n",
      "\u001b[A\n",
      "DDIM Sampler: 100%|██████████| 200/200 [00:23<00:00,  8.49it/s]\n"
     ]
    },
    {
     "name": "stdout",
     "output_type": "stream",
     "text": [
      "loss: [array(0.7188, dtype=float16), array(0.838, dtype=float16), array(0.773, dtype=float16), array(0.6826, dtype=float16)]\n",
      "Saved poisoned image 68 to ./data/poisons/mini_MathVista_grid+i2i_AdvDiffVLMAttack/tbl/68.png\n",
      "Time: 47.79407525062561\n",
      "image name =  2\n",
      "Data shape for DDIM sampling is (1, 3, 64, 64), eta 0.0\n",
      "Running Adversarial Sampling at 0 step\n",
      "Running DDIM Sampling with 200 timesteps\n"
     ]
    },
    {
     "name": "stderr",
     "output_type": "stream",
     "text": [
      "\n",
      "\u001b[A\n",
      "\u001b[A\n",
      "\u001b[A\n",
      "\u001b[A\n",
      "DDIM Sampler: 100%|██████████| 200/200 [00:23<00:00,  8.49it/s]\n"
     ]
    },
    {
     "name": "stdout",
     "output_type": "stream",
     "text": [
      "Data shape for DDIM sampling is (1, 3, 64, 64), eta 0.0\n",
      "Running Adversarial Sampling at 0 step\n",
      "Running DDIM Sampling with 200 timesteps\n"
     ]
    },
    {
     "name": "stderr",
     "output_type": "stream",
     "text": [
      "\n",
      "\u001b[A\n",
      "\u001b[A\n",
      "\u001b[A\n",
      "\u001b[A\n",
      "DDIM Sampler: 100%|██████████| 200/200 [00:23<00:00,  8.61it/s]\n"
     ]
    },
    {
     "name": "stdout",
     "output_type": "stream",
     "text": [
      "loss: [array(0.739, dtype=float16), array(0.7944, dtype=float16), array(0.764, dtype=float16), array(0.7275, dtype=float16)]\n",
      "Saved poisoned image 2 to ./data/poisons/mini_MathVista_grid+i2i_AdvDiffVLMAttack/tbl/2.png\n",
      "Time: 47.59565043449402\n",
      "image name =  66\n",
      "Data shape for DDIM sampling is (1, 3, 64, 64), eta 0.0\n",
      "Running Adversarial Sampling at 0 step\n",
      "Running DDIM Sampling with 200 timesteps\n"
     ]
    },
    {
     "name": "stderr",
     "output_type": "stream",
     "text": [
      "\n",
      "\u001b[A\n",
      "\u001b[A\n",
      "\u001b[A\n",
      "\u001b[A\n",
      "DDIM Sampler: 100%|██████████| 200/200 [00:23<00:00,  8.48it/s]\n"
     ]
    },
    {
     "name": "stdout",
     "output_type": "stream",
     "text": [
      "Data shape for DDIM sampling is (1, 3, 64, 64), eta 0.0\n",
      "Running Adversarial Sampling at 0 step\n",
      "Running DDIM Sampling with 200 timesteps\n"
     ]
    },
    {
     "name": "stderr",
     "output_type": "stream",
     "text": [
      "\n",
      "\u001b[A\n",
      "\u001b[A\n",
      "\u001b[A\n",
      "\u001b[A\n",
      "DDIM Sampler: 100%|██████████| 200/200 [00:23<00:00,  8.50it/s]\n"
     ]
    },
    {
     "name": "stdout",
     "output_type": "stream",
     "text": [
      "loss: [array(0.579, dtype=float16), array(0.7227, dtype=float16), array(0.705, dtype=float16), array(0.6997, dtype=float16)]\n",
      "Saved poisoned image 66 to ./data/poisons/mini_MathVista_grid+i2i_AdvDiffVLMAttack/tbl/66.png\n",
      "Time: 47.86325287818909\n",
      "image name =  61\n",
      "Data shape for DDIM sampling is (1, 3, 64, 64), eta 0.0\n",
      "Running Adversarial Sampling at 0 step\n",
      "Running DDIM Sampling with 200 timesteps\n"
     ]
    },
    {
     "name": "stderr",
     "output_type": "stream",
     "text": [
      "\n",
      "\u001b[A\n",
      "\u001b[A\n",
      "\u001b[A\n",
      "\u001b[A\n",
      "\u001b[A\n",
      "\u001b[A\n",
      "DDIM Sampler: 100%|██████████| 200/200 [00:23<00:00,  8.49it/s]\n"
     ]
    },
    {
     "name": "stdout",
     "output_type": "stream",
     "text": [
      "Data shape for DDIM sampling is (1, 3, 64, 64), eta 0.0\n",
      "Running Adversarial Sampling at 0 step\n",
      "Running DDIM Sampling with 200 timesteps\n"
     ]
    },
    {
     "name": "stderr",
     "output_type": "stream",
     "text": [
      "\n",
      "\u001b[A\n",
      "\u001b[A\n",
      "\u001b[A\n",
      "\u001b[A\n",
      "DDIM Sampler: 100%|██████████| 200/200 [00:23<00:00,  8.58it/s]\n"
     ]
    },
    {
     "name": "stdout",
     "output_type": "stream",
     "text": [
      "loss: [array(0.6934, dtype=float16), array(0.7856, dtype=float16), array(0.705, dtype=float16), array(0.6836, dtype=float16)]\n",
      "Saved poisoned image 61 to ./data/poisons/mini_MathVista_grid+i2i_AdvDiffVLMAttack/tbl/61.png\n",
      "Time: 47.58344078063965\n",
      "image name =  70\n",
      "Data shape for DDIM sampling is (1, 3, 64, 64), eta 0.0\n",
      "Running Adversarial Sampling at 0 step\n",
      "Running DDIM Sampling with 200 timesteps\n"
     ]
    },
    {
     "name": "stderr",
     "output_type": "stream",
     "text": [
      "\n",
      "\u001b[A\n",
      "\u001b[A\n",
      "\u001b[A\n",
      "\u001b[A\n",
      "DDIM Sampler: 100%|██████████| 200/200 [00:23<00:00,  8.59it/s]\n"
     ]
    },
    {
     "name": "stdout",
     "output_type": "stream",
     "text": [
      "Data shape for DDIM sampling is (1, 3, 64, 64), eta 0.0\n",
      "Running Adversarial Sampling at 0 step\n",
      "Running DDIM Sampling with 200 timesteps\n"
     ]
    },
    {
     "name": "stderr",
     "output_type": "stream",
     "text": [
      "\n",
      "\u001b[A\n",
      "\u001b[A\n",
      "\u001b[A\n",
      "\u001b[A\n",
      "DDIM Sampler: 100%|██████████| 200/200 [00:23<00:00,  8.65it/s]\n"
     ]
    },
    {
     "name": "stdout",
     "output_type": "stream",
     "text": [
      "loss: [array(0.77, dtype=float16), array(0.814, dtype=float16), array(0.8174, dtype=float16), array(0.7036, dtype=float16)]\n",
      "Saved poisoned image 70 to ./data/poisons/mini_MathVista_grid+i2i_AdvDiffVLMAttack/tbl/70.png\n",
      "Time: 47.18426990509033\n",
      "image name =  77\n",
      "Data shape for DDIM sampling is (1, 3, 64, 64), eta 0.0\n",
      "Running Adversarial Sampling at 0 step\n",
      "Running DDIM Sampling with 200 timesteps\n"
     ]
    },
    {
     "name": "stderr",
     "output_type": "stream",
     "text": [
      "\n",
      "\u001b[A\n",
      "\u001b[A\n",
      "\u001b[A\n",
      "\u001b[A\n",
      "DDIM Sampler: 100%|██████████| 200/200 [00:23<00:00,  8.49it/s]\n"
     ]
    },
    {
     "name": "stdout",
     "output_type": "stream",
     "text": [
      "Data shape for DDIM sampling is (1, 3, 64, 64), eta 0.0\n",
      "Running Adversarial Sampling at 0 step\n",
      "Running DDIM Sampling with 200 timesteps\n"
     ]
    },
    {
     "name": "stderr",
     "output_type": "stream",
     "text": [
      "\n",
      "\u001b[A\n",
      "\u001b[A\n",
      "\u001b[A\n",
      "\u001b[A\n",
      "DDIM Sampler: 100%|██████████| 200/200 [00:23<00:00,  8.49it/s]\n"
     ]
    },
    {
     "name": "stdout",
     "output_type": "stream",
     "text": [
      "loss: [array(0.7695, dtype=float16), array(0.844, dtype=float16), array(0.809, dtype=float16), array(0.7324, dtype=float16)]\n",
      "Saved poisoned image 77 to ./data/poisons/mini_MathVista_grid+i2i_AdvDiffVLMAttack/tbl/77.png\n",
      "Time: 47.85653877258301\n",
      "image name =  79\n",
      "Data shape for DDIM sampling is (1, 3, 64, 64), eta 0.0\n",
      "Running Adversarial Sampling at 0 step\n",
      "Running DDIM Sampling with 200 timesteps\n"
     ]
    },
    {
     "name": "stderr",
     "output_type": "stream",
     "text": [
      "\n",
      "\u001b[A\n",
      "\u001b[A\n",
      "\u001b[A\n",
      "\u001b[A\n",
      "DDIM Sampler: 100%|██████████| 200/200 [00:23<00:00,  8.57it/s]\n"
     ]
    },
    {
     "name": "stdout",
     "output_type": "stream",
     "text": [
      "Data shape for DDIM sampling is (1, 3, 64, 64), eta 0.0\n",
      "Running Adversarial Sampling at 0 step\n",
      "Running DDIM Sampling with 200 timesteps\n"
     ]
    },
    {
     "name": "stderr",
     "output_type": "stream",
     "text": [
      "\n",
      "\u001b[A\n",
      "\u001b[A\n",
      "\u001b[A\n",
      "\u001b[A\n",
      "DDIM Sampler: 100%|██████████| 200/200 [00:23<00:00,  8.59it/s]\n"
     ]
    },
    {
     "name": "stdout",
     "output_type": "stream",
     "text": [
      "loss: [array(0.7065, dtype=float16), array(0.8237, dtype=float16), array(0.7646, dtype=float16), array(0.679, dtype=float16)]\n",
      "Saved poisoned image 79 to ./data/poisons/mini_MathVista_grid+i2i_AdvDiffVLMAttack/tbl/79.png\n",
      "Time: 47.37274122238159\n",
      "image name =  37\n",
      "Data shape for DDIM sampling is (1, 3, 64, 64), eta 0.0\n",
      "Running Adversarial Sampling at 0 step\n",
      "Running DDIM Sampling with 200 timesteps\n"
     ]
    },
    {
     "name": "stderr",
     "output_type": "stream",
     "text": [
      "\n",
      "\u001b[A\n",
      "\u001b[A\n",
      "\u001b[A\n",
      "\u001b[A\n",
      "\u001b[A\n",
      "\u001b[A\n",
      "DDIM Sampler: 100%|██████████| 200/200 [00:23<00:00,  8.56it/s]\n"
     ]
    },
    {
     "name": "stdout",
     "output_type": "stream",
     "text": [
      "Data shape for DDIM sampling is (1, 3, 64, 64), eta 0.0\n",
      "Running Adversarial Sampling at 0 step\n",
      "Running DDIM Sampling with 200 timesteps\n"
     ]
    },
    {
     "name": "stderr",
     "output_type": "stream",
     "text": [
      "\n",
      "\u001b[A\n",
      "\u001b[A\n",
      "\u001b[A\n",
      "\u001b[A\n",
      "DDIM Sampler: 100%|██████████| 200/200 [00:23<00:00,  8.58it/s]\n"
     ]
    },
    {
     "name": "stdout",
     "output_type": "stream",
     "text": [
      "loss: [array(0.708, dtype=float16), array(0.802, dtype=float16), array(0.7515, dtype=float16), array(0.695, dtype=float16)]\n",
      "Saved poisoned image 37 to ./data/poisons/mini_MathVista_grid+i2i_AdvDiffVLMAttack/tbl/37.png\n",
      "Time: 47.37493348121643\n",
      "image name =  30\n",
      "Data shape for DDIM sampling is (1, 3, 64, 64), eta 0.0\n",
      "Running Adversarial Sampling at 0 step\n",
      "Running DDIM Sampling with 200 timesteps\n"
     ]
    },
    {
     "name": "stderr",
     "output_type": "stream",
     "text": [
      "\n",
      "\u001b[A\n",
      "\u001b[A\n",
      "\u001b[A\n",
      "\u001b[A\n",
      "DDIM Sampler: 100%|██████████| 200/200 [00:23<00:00,  8.60it/s]\n"
     ]
    },
    {
     "name": "stdout",
     "output_type": "stream",
     "text": [
      "Data shape for DDIM sampling is (1, 3, 64, 64), eta 0.0\n",
      "Running Adversarial Sampling at 0 step\n",
      "Running DDIM Sampling with 200 timesteps\n"
     ]
    },
    {
     "name": "stderr",
     "output_type": "stream",
     "text": [
      "\n",
      "\u001b[A\n",
      "\u001b[A\n",
      "\u001b[A\n",
      "\u001b[A\n",
      "\u001b[A\n",
      "\u001b[A\n",
      "DDIM Sampler: 100%|██████████| 200/200 [00:23<00:00,  8.56it/s]\n"
     ]
    },
    {
     "name": "stdout",
     "output_type": "stream",
     "text": [
      "loss: [array(0.711, dtype=float16), array(0.8174, dtype=float16), array(0.784, dtype=float16), array(0.7295, dtype=float16)]\n",
      "Saved poisoned image 30 to ./data/poisons/mini_MathVista_grid+i2i_AdvDiffVLMAttack/tbl/30.png\n",
      "Time: 47.340922117233276\n",
      "image name =  42\n",
      "Data shape for DDIM sampling is (1, 3, 64, 64), eta 0.0\n",
      "Running Adversarial Sampling at 0 step\n",
      "Running DDIM Sampling with 200 timesteps\n"
     ]
    },
    {
     "name": "stderr",
     "output_type": "stream",
     "text": [
      "\n",
      "\u001b[A\n",
      "\u001b[A\n",
      "\u001b[A\n",
      "\u001b[A\n",
      "DDIM Sampler: 100%|██████████| 200/200 [00:23<00:00,  8.49it/s]\n"
     ]
    },
    {
     "name": "stdout",
     "output_type": "stream",
     "text": [
      "Data shape for DDIM sampling is (1, 3, 64, 64), eta 0.0\n",
      "Running Adversarial Sampling at 0 step\n",
      "Running DDIM Sampling with 200 timesteps\n"
     ]
    },
    {
     "name": "stderr",
     "output_type": "stream",
     "text": [
      "\n",
      "\u001b[A\n",
      "\u001b[A\n",
      "\u001b[A\n",
      "\u001b[A\n",
      "DDIM Sampler: 100%|██████████| 200/200 [00:23<00:00,  8.47it/s]\n"
     ]
    },
    {
     "name": "stdout",
     "output_type": "stream",
     "text": [
      "loss: [array(0.666, dtype=float16), array(0.7563, dtype=float16), array(0.674, dtype=float16), array(0.624, dtype=float16)]\n",
      "Saved poisoned image 42 to ./data/poisons/mini_MathVista_grid+i2i_AdvDiffVLMAttack/tbl/42.png\n",
      "Time: 47.96131467819214\n",
      "image name =  93\n",
      "Data shape for DDIM sampling is (1, 3, 64, 64), eta 0.0\n",
      "Running Adversarial Sampling at 0 step\n",
      "Running DDIM Sampling with 200 timesteps\n"
     ]
    },
    {
     "name": "stderr",
     "output_type": "stream",
     "text": [
      "\n",
      "\u001b[A\n",
      "\u001b[A\n",
      "\u001b[A\n",
      "\u001b[A\n",
      "DDIM Sampler: 100%|██████████| 200/200 [00:23<00:00,  8.50it/s]\n"
     ]
    },
    {
     "name": "stdout",
     "output_type": "stream",
     "text": [
      "Data shape for DDIM sampling is (1, 3, 64, 64), eta 0.0\n",
      "Running Adversarial Sampling at 0 step\n",
      "Running DDIM Sampling with 200 timesteps\n"
     ]
    },
    {
     "name": "stderr",
     "output_type": "stream",
     "text": [
      "\n",
      "\u001b[A\n",
      "\u001b[A\n",
      "\u001b[A\n",
      "\u001b[A\n",
      "DDIM Sampler: 100%|██████████| 200/200 [00:23<00:00,  8.52it/s]\n"
     ]
    },
    {
     "name": "stdout",
     "output_type": "stream",
     "text": [
      "loss: [array(0.732, dtype=float16), array(0.7915, dtype=float16), array(0.749, dtype=float16), array(0.723, dtype=float16)]\n",
      "Saved poisoned image 93 to ./data/poisons/mini_MathVista_grid+i2i_AdvDiffVLMAttack/tbl/93.png\n",
      "Time: 47.76681399345398\n",
      "image name =  45\n",
      "Data shape for DDIM sampling is (1, 3, 64, 64), eta 0.0\n",
      "Running Adversarial Sampling at 0 step\n",
      "Running DDIM Sampling with 200 timesteps\n"
     ]
    },
    {
     "name": "stderr",
     "output_type": "stream",
     "text": [
      "\n",
      "\u001b[A\n",
      "\u001b[A\n",
      "\u001b[A\n",
      "\u001b[A\n",
      "\u001b[A\n",
      "\u001b[A\n",
      "DDIM Sampler: 100%|██████████| 200/200 [00:23<00:00,  8.51it/s]\n"
     ]
    },
    {
     "name": "stdout",
     "output_type": "stream",
     "text": [
      "Data shape for DDIM sampling is (1, 3, 64, 64), eta 0.0\n",
      "Running Adversarial Sampling at 0 step\n",
      "Running DDIM Sampling with 200 timesteps\n"
     ]
    },
    {
     "name": "stderr",
     "output_type": "stream",
     "text": [
      "\n",
      "\u001b[A\n",
      "\u001b[A\n",
      "\u001b[A\n",
      "\u001b[A\n",
      "DDIM Sampler: 100%|██████████| 200/200 [00:23<00:00,  8.52it/s]\n"
     ]
    },
    {
     "name": "stdout",
     "output_type": "stream",
     "text": [
      "loss: [array(0.4656, dtype=float16), array(0.6836, dtype=float16), array(0.544, dtype=float16), array(0.5337, dtype=float16)]\n",
      "Saved poisoned image 45 to ./data/poisons/mini_MathVista_grid+i2i_AdvDiffVLMAttack/tbl/45.png\n",
      "Time: 47.717753410339355\n",
      "image name =  94\n",
      "Data shape for DDIM sampling is (1, 3, 64, 64), eta 0.0\n",
      "Running Adversarial Sampling at 0 step\n",
      "Running DDIM Sampling with 200 timesteps\n"
     ]
    },
    {
     "name": "stderr",
     "output_type": "stream",
     "text": [
      "\n",
      "\u001b[A\n",
      "\u001b[A\n",
      "\u001b[A\n",
      "\u001b[A\n",
      "DDIM Sampler: 100%|██████████| 200/200 [00:23<00:00,  8.59it/s]\n"
     ]
    },
    {
     "name": "stdout",
     "output_type": "stream",
     "text": [
      "Data shape for DDIM sampling is (1, 3, 64, 64), eta 0.0\n",
      "Running Adversarial Sampling at 0 step\n",
      "Running DDIM Sampling with 200 timesteps\n"
     ]
    },
    {
     "name": "stderr",
     "output_type": "stream",
     "text": [
      "\n",
      "\u001b[A\n",
      "\u001b[A\n",
      "\u001b[A\n",
      "\u001b[A\n",
      "DDIM Sampler: 100%|██████████| 200/200 [00:23<00:00,  8.66it/s]\n"
     ]
    },
    {
     "name": "stdout",
     "output_type": "stream",
     "text": [
      "loss: [array(0.738, dtype=float16), array(0.8486, dtype=float16), array(0.791, dtype=float16), array(0.703, dtype=float16)]\n",
      "Saved poisoned image 94 to ./data/poisons/mini_MathVista_grid+i2i_AdvDiffVLMAttack/tbl/94.png\n",
      "Time: 47.12450909614563\n",
      "image name =  39\n",
      "Data shape for DDIM sampling is (1, 3, 64, 64), eta 0.0\n",
      "Running Adversarial Sampling at 0 step\n",
      "Running DDIM Sampling with 200 timesteps\n"
     ]
    },
    {
     "name": "stderr",
     "output_type": "stream",
     "text": [
      "\n",
      "\u001b[A\n",
      "\u001b[A\n",
      "\u001b[A\n",
      "\u001b[A\n",
      "DDIM Sampler: 100%|██████████| 200/200 [00:22<00:00,  8.70it/s]\n"
     ]
    },
    {
     "name": "stdout",
     "output_type": "stream",
     "text": [
      "Data shape for DDIM sampling is (1, 3, 64, 64), eta 0.0\n",
      "Running Adversarial Sampling at 0 step\n",
      "Running DDIM Sampling with 200 timesteps\n"
     ]
    },
    {
     "name": "stderr",
     "output_type": "stream",
     "text": [
      "\n",
      "\u001b[A\n",
      "\u001b[A\n",
      "\u001b[A\n",
      "\u001b[A\n",
      "DDIM Sampler: 100%|██████████| 200/200 [00:23<00:00,  8.59it/s]\n"
     ]
    },
    {
     "name": "stdout",
     "output_type": "stream",
     "text": [
      "loss: [array(0.728, dtype=float16), array(0.79, dtype=float16), array(0.752, dtype=float16), array(0.697, dtype=float16)]\n",
      "Saved poisoned image 39 to ./data/poisons/mini_MathVista_grid+i2i_AdvDiffVLMAttack/tbl/39.png\n",
      "Time: 47.0505530834198\n",
      "image name =  60\n",
      "Data shape for DDIM sampling is (1, 3, 64, 64), eta 0.0\n",
      "Running Adversarial Sampling at 0 step\n",
      "Running DDIM Sampling with 200 timesteps\n"
     ]
    },
    {
     "name": "stderr",
     "output_type": "stream",
     "text": [
      "\n",
      "\u001b[A\n",
      "\u001b[A\n",
      "\u001b[A\n",
      "\u001b[A\n",
      "DDIM Sampler: 100%|██████████| 200/200 [00:23<00:00,  8.59it/s]\n"
     ]
    },
    {
     "name": "stdout",
     "output_type": "stream",
     "text": [
      "Data shape for DDIM sampling is (1, 3, 64, 64), eta 0.0\n",
      "Running Adversarial Sampling at 0 step\n",
      "Running DDIM Sampling with 200 timesteps\n"
     ]
    },
    {
     "name": "stderr",
     "output_type": "stream",
     "text": [
      "\n",
      "\u001b[A\n",
      "\u001b[A\n",
      "\u001b[A\n",
      "\u001b[A\n",
      "DDIM Sampler: 100%|██████████| 200/200 [00:23<00:00,  8.52it/s]\n"
     ]
    },
    {
     "name": "stdout",
     "output_type": "stream",
     "text": [
      "loss: [array(0.737, dtype=float16), array(0.813, dtype=float16), array(0.81, dtype=float16), array(0.7056, dtype=float16)]\n",
      "Saved poisoned image 60 to ./data/poisons/mini_MathVista_grid+i2i_AdvDiffVLMAttack/tbl/60.png\n",
      "Time: 47.583497524261475\n",
      "image name =  67\n",
      "Data shape for DDIM sampling is (1, 3, 64, 64), eta 0.0\n",
      "Running Adversarial Sampling at 0 step\n",
      "Running DDIM Sampling with 200 timesteps\n"
     ]
    },
    {
     "name": "stderr",
     "output_type": "stream",
     "text": [
      "\n",
      "\u001b[A\n",
      "\u001b[A\n",
      "\u001b[A\n",
      "\u001b[A\n",
      "\u001b[A\n",
      "\u001b[A\n",
      "DDIM Sampler: 100%|██████████| 200/200 [00:23<00:00,  8.50it/s]\n"
     ]
    },
    {
     "name": "stdout",
     "output_type": "stream",
     "text": [
      "Data shape for DDIM sampling is (1, 3, 64, 64), eta 0.0\n",
      "Running Adversarial Sampling at 0 step\n",
      "Running DDIM Sampling with 200 timesteps\n"
     ]
    },
    {
     "name": "stderr",
     "output_type": "stream",
     "text": [
      "\n",
      "\u001b[A\n",
      "\u001b[A\n",
      "\u001b[A\n",
      "\u001b[A\n",
      "DDIM Sampler: 100%|██████████| 200/200 [00:23<00:00,  8.59it/s]\n"
     ]
    },
    {
     "name": "stdout",
     "output_type": "stream",
     "text": [
      "loss: [array(0.7515, dtype=float16), array(0.825, dtype=float16), array(0.7715, dtype=float16), array(0.71, dtype=float16)]\n",
      "Saved poisoned image 67 to ./data/poisons/mini_MathVista_grid+i2i_AdvDiffVLMAttack/tbl/67.png\n",
      "Time: 47.51889443397522\n",
      "image name =  15\n",
      "Data shape for DDIM sampling is (1, 3, 64, 64), eta 0.0\n",
      "Running Adversarial Sampling at 0 step\n",
      "Running DDIM Sampling with 200 timesteps\n"
     ]
    },
    {
     "name": "stderr",
     "output_type": "stream",
     "text": [
      "\n",
      "\u001b[A\n",
      "\u001b[A\n",
      "\u001b[A\n",
      "\u001b[A\n",
      "DDIM Sampler: 100%|██████████| 200/200 [00:23<00:00,  8.50it/s]\n"
     ]
    },
    {
     "name": "stdout",
     "output_type": "stream",
     "text": [
      "Data shape for DDIM sampling is (1, 3, 64, 64), eta 0.0\n",
      "Running Adversarial Sampling at 0 step\n",
      "Running DDIM Sampling with 200 timesteps\n"
     ]
    },
    {
     "name": "stderr",
     "output_type": "stream",
     "text": [
      "\n",
      "\u001b[A\n",
      "\u001b[A\n",
      "\u001b[A\n",
      "\u001b[A\n",
      "DDIM Sampler: 100%|██████████| 200/200 [00:23<00:00,  8.52it/s]\n"
     ]
    },
    {
     "name": "stdout",
     "output_type": "stream",
     "text": [
      "loss: [array(0.6978, dtype=float16), array(0.794, dtype=float16), array(0.7544, dtype=float16), array(0.7676, dtype=float16)]\n",
      "Saved poisoned image 15 to ./data/poisons/mini_MathVista_grid+i2i_AdvDiffVLMAttack/tbl/15.png\n",
      "Time: 47.74109888076782\n",
      "image name =  69\n",
      "Data shape for DDIM sampling is (1, 3, 64, 64), eta 0.0\n",
      "Running Adversarial Sampling at 0 step\n",
      "Running DDIM Sampling with 200 timesteps\n"
     ]
    },
    {
     "name": "stderr",
     "output_type": "stream",
     "text": [
      "\n",
      "\u001b[A\n",
      "\u001b[A\n",
      "\u001b[A\n",
      "\u001b[A\n",
      "DDIM Sampler: 100%|██████████| 200/200 [00:23<00:00,  8.61it/s]\n"
     ]
    },
    {
     "name": "stdout",
     "output_type": "stream",
     "text": [
      "Data shape for DDIM sampling is (1, 3, 64, 64), eta 0.0\n",
      "Running Adversarial Sampling at 0 step\n",
      "Running DDIM Sampling with 200 timesteps\n"
     ]
    },
    {
     "name": "stderr",
     "output_type": "stream",
     "text": [
      "\n",
      "\u001b[A\n",
      "\u001b[A\n",
      "\u001b[A\n",
      "\u001b[A\n",
      "DDIM Sampler: 100%|██████████| 200/200 [00:23<00:00,  8.67it/s]\n"
     ]
    },
    {
     "name": "stdout",
     "output_type": "stream",
     "text": [
      "loss: [array(0.6714, dtype=float16), array(0.7793, dtype=float16), array(0.7505, dtype=float16), array(0.6836, dtype=float16)]\n",
      "Saved poisoned image 69 to ./data/poisons/mini_MathVista_grid+i2i_AdvDiffVLMAttack/tbl/69.png\n",
      "Time: 47.056119203567505\n",
      "image name =  3\n",
      "Data shape for DDIM sampling is (1, 3, 64, 64), eta 0.0\n",
      "Running Adversarial Sampling at 0 step\n",
      "Running DDIM Sampling with 200 timesteps\n"
     ]
    },
    {
     "name": "stderr",
     "output_type": "stream",
     "text": [
      "\n",
      "\u001b[A\n",
      "\u001b[A\n",
      "\u001b[A\n",
      "\u001b[A\n",
      "DDIM Sampler: 100%|██████████| 200/200 [00:23<00:00,  8.56it/s]\n"
     ]
    },
    {
     "name": "stdout",
     "output_type": "stream",
     "text": [
      "Data shape for DDIM sampling is (1, 3, 64, 64), eta 0.0\n",
      "Running Adversarial Sampling at 0 step\n",
      "Running DDIM Sampling with 200 timesteps\n"
     ]
    },
    {
     "name": "stderr",
     "output_type": "stream",
     "text": [
      "\n",
      "\u001b[A\n",
      "\u001b[A\n",
      "\u001b[A\n",
      "\u001b[A\n",
      "DDIM Sampler: 100%|██████████| 200/200 [00:23<00:00,  8.69it/s]\n"
     ]
    },
    {
     "name": "stdout",
     "output_type": "stream",
     "text": [
      "loss: [array(0.6606, dtype=float16), array(0.795, dtype=float16), array(0.716, dtype=float16), array(0.661, dtype=float16)]\n",
      "Saved poisoned image 3 to ./data/poisons/mini_MathVista_grid+i2i_AdvDiffVLMAttack/tbl/3.png\n",
      "Time: 47.12509250640869\n",
      "image name =  4\n",
      "Data shape for DDIM sampling is (1, 3, 64, 64), eta 0.0\n",
      "Running Adversarial Sampling at 0 step\n",
      "Running DDIM Sampling with 200 timesteps\n"
     ]
    },
    {
     "name": "stderr",
     "output_type": "stream",
     "text": [
      "\n",
      "\u001b[A\n",
      "\u001b[A\n",
      "\u001b[A\n",
      "\u001b[A\n",
      "DDIM Sampler: 100%|██████████| 200/200 [00:23<00:00,  8.68it/s]\n"
     ]
    },
    {
     "name": "stdout",
     "output_type": "stream",
     "text": [
      "Data shape for DDIM sampling is (1, 3, 64, 64), eta 0.0\n",
      "Running Adversarial Sampling at 0 step\n",
      "Running DDIM Sampling with 200 timesteps\n"
     ]
    },
    {
     "name": "stderr",
     "output_type": "stream",
     "text": [
      "\n",
      "\u001b[A\n",
      "\u001b[A\n",
      "\u001b[A\n",
      "\u001b[A\n",
      "DDIM Sampler: 100%|██████████| 200/200 [00:23<00:00,  8.52it/s]\n"
     ]
    },
    {
     "name": "stdout",
     "output_type": "stream",
     "text": [
      "loss: [array(0.715, dtype=float16), array(0.825, dtype=float16), array(0.792, dtype=float16), array(0.718, dtype=float16)]\n",
      "Saved poisoned image 4 to ./data/poisons/mini_MathVista_grid+i2i_AdvDiffVLMAttack/tbl/4.png\n",
      "Time: 47.24872970581055\n",
      "image name =  12\n",
      "Data shape for DDIM sampling is (1, 3, 64, 64), eta 0.0\n",
      "Running Adversarial Sampling at 0 step\n",
      "Running DDIM Sampling with 200 timesteps\n"
     ]
    },
    {
     "name": "stderr",
     "output_type": "stream",
     "text": [
      "\n",
      "\u001b[A\n",
      "\u001b[A\n",
      "\u001b[A\n",
      "\u001b[A\n",
      "DDIM Sampler: 100%|██████████| 200/200 [00:23<00:00,  8.60it/s]\n"
     ]
    },
    {
     "name": "stdout",
     "output_type": "stream",
     "text": [
      "Data shape for DDIM sampling is (1, 3, 64, 64), eta 0.0\n",
      "Running Adversarial Sampling at 0 step\n",
      "Running DDIM Sampling with 200 timesteps\n"
     ]
    },
    {
     "name": "stderr",
     "output_type": "stream",
     "text": [
      "\n",
      "\u001b[A\n",
      "\u001b[A\n",
      "\u001b[A\n",
      "\u001b[A\n",
      "\u001b[A\n",
      "\u001b[A\n",
      "DDIM Sampler: 100%|██████████| 200/200 [00:23<00:00,  8.50it/s]\n"
     ]
    },
    {
     "name": "stdout",
     "output_type": "stream",
     "text": [
      "loss: [array(0.7188, dtype=float16), array(0.8135, dtype=float16), array(0.7866, dtype=float16), array(0.714, dtype=float16)]\n",
      "Saved poisoned image 12 to ./data/poisons/mini_MathVista_grid+i2i_AdvDiffVLMAttack/tbl/12.png\n",
      "Time: 47.49557399749756\n",
      "image name =  27\n",
      "Data shape for DDIM sampling is (1, 3, 64, 64), eta 0.0\n",
      "Running Adversarial Sampling at 0 step\n",
      "Running DDIM Sampling with 200 timesteps\n"
     ]
    },
    {
     "name": "stderr",
     "output_type": "stream",
     "text": [
      "\n",
      "\u001b[A\n",
      "\u001b[A\n",
      "\u001b[A\n",
      "\u001b[A\n",
      "DDIM Sampler: 100%|██████████| 200/200 [00:23<00:00,  8.50it/s]\n"
     ]
    },
    {
     "name": "stdout",
     "output_type": "stream",
     "text": [
      "Data shape for DDIM sampling is (1, 3, 64, 64), eta 0.0\n",
      "Running Adversarial Sampling at 0 step\n",
      "Running DDIM Sampling with 200 timesteps\n"
     ]
    },
    {
     "name": "stderr",
     "output_type": "stream",
     "text": [
      "\n",
      "\u001b[A\n",
      "\u001b[A\n",
      "\u001b[A\n",
      "\u001b[A\n",
      "DDIM Sampler: 100%|██████████| 200/200 [00:23<00:00,  8.50it/s]\n"
     ]
    },
    {
     "name": "stdout",
     "output_type": "stream",
     "text": [
      "loss: [array(0.667, dtype=float16), array(0.7754, dtype=float16), array(0.704, dtype=float16), array(0.6353, dtype=float16)]\n",
      "Saved poisoned image 27 to ./data/poisons/mini_MathVista_grid+i2i_AdvDiffVLMAttack/tbl/27.png\n",
      "Time: 47.84098744392395\n",
      "image name =  20\n",
      "Data shape for DDIM sampling is (1, 3, 64, 64), eta 0.0\n",
      "Running Adversarial Sampling at 0 step\n",
      "Running DDIM Sampling with 200 timesteps\n"
     ]
    },
    {
     "name": "stderr",
     "output_type": "stream",
     "text": [
      "\n",
      "\u001b[A\n",
      "\u001b[A\n",
      "\u001b[A\n",
      "\u001b[A\n",
      "DDIM Sampler: 100%|██████████| 200/200 [00:23<00:00,  8.53it/s]\n"
     ]
    },
    {
     "name": "stdout",
     "output_type": "stream",
     "text": [
      "Data shape for DDIM sampling is (1, 3, 64, 64), eta 0.0\n",
      "Running Adversarial Sampling at 0 step\n",
      "Running DDIM Sampling with 200 timesteps\n"
     ]
    },
    {
     "name": "stderr",
     "output_type": "stream",
     "text": [
      "\n",
      "\u001b[A\n",
      "\u001b[A\n",
      "\u001b[A\n",
      "\u001b[A\n",
      "DDIM Sampler: 100%|██████████| 200/200 [00:23<00:00,  8.58it/s]\n"
     ]
    },
    {
     "name": "stdout",
     "output_type": "stream",
     "text": [
      "loss: [array(0.4705, dtype=float16), array(0.667, dtype=float16), array(0.5737, dtype=float16), array(0.5405, dtype=float16)]\n",
      "Saved poisoned image 20 to ./data/poisons/mini_MathVista_grid+i2i_AdvDiffVLMAttack/tbl/20.png\n",
      "Time: 47.47119736671448\n",
      "image name =  83\n",
      "Data shape for DDIM sampling is (1, 3, 64, 64), eta 0.0\n",
      "Running Adversarial Sampling at 0 step\n",
      "Running DDIM Sampling with 200 timesteps\n"
     ]
    },
    {
     "name": "stderr",
     "output_type": "stream",
     "text": [
      "\n",
      "\u001b[A\n",
      "\u001b[A\n",
      "\u001b[A\n",
      "\u001b[A\n",
      "\u001b[A\n",
      "DDIM Sampler: 100%|██████████| 200/200 [00:23<00:00,  8.59it/s]\n"
     ]
    },
    {
     "name": "stdout",
     "output_type": "stream",
     "text": [
      "Data shape for DDIM sampling is (1, 3, 64, 64), eta 0.0\n",
      "Running Adversarial Sampling at 0 step\n",
      "Running DDIM Sampling with 200 timesteps\n"
     ]
    },
    {
     "name": "stderr",
     "output_type": "stream",
     "text": [
      "\n",
      "\u001b[A\n",
      "\u001b[A\n",
      "\u001b[A\n",
      "\u001b[A\n",
      "DDIM Sampler: 100%|██████████| 200/200 [00:23<00:00,  8.49it/s]\n"
     ]
    },
    {
     "name": "stdout",
     "output_type": "stream",
     "text": [
      "loss: [array(0.685, dtype=float16), array(0.785, dtype=float16), array(0.7446, dtype=float16), array(0.7026, dtype=float16)]\n",
      "Saved poisoned image 83 to ./data/poisons/mini_MathVista_grid+i2i_AdvDiffVLMAttack/tbl/83.png\n",
      "Time: 47.551655769348145\n",
      "image name =  52\n",
      "Data shape for DDIM sampling is (1, 3, 64, 64), eta 0.0\n",
      "Running Adversarial Sampling at 0 step\n",
      "Running DDIM Sampling with 200 timesteps\n"
     ]
    },
    {
     "name": "stderr",
     "output_type": "stream",
     "text": [
      "\n",
      "\u001b[A\n",
      "\u001b[A\n",
      "\u001b[A\n",
      "\u001b[A\n",
      "DDIM Sampler: 100%|██████████| 200/200 [00:23<00:00,  8.60it/s]\n"
     ]
    },
    {
     "name": "stdout",
     "output_type": "stream",
     "text": [
      "Data shape for DDIM sampling is (1, 3, 64, 64), eta 0.0\n",
      "Running Adversarial Sampling at 0 step\n",
      "Running DDIM Sampling with 200 timesteps\n"
     ]
    },
    {
     "name": "stderr",
     "output_type": "stream",
     "text": [
      "\n",
      "\u001b[A\n",
      "\u001b[A\n",
      "\u001b[A\n",
      "\u001b[A\n",
      "\u001b[A\n",
      "\u001b[A\n",
      "DDIM Sampler: 100%|██████████| 200/200 [00:23<00:00,  8.51it/s]\n"
     ]
    },
    {
     "name": "stdout",
     "output_type": "stream",
     "text": [
      "loss: [array(0.6704, dtype=float16), array(0.7637, dtype=float16), array(0.7324, dtype=float16), array(0.7026, dtype=float16)]\n",
      "Saved poisoned image 52 to ./data/poisons/mini_MathVista_grid+i2i_AdvDiffVLMAttack/tbl/52.png\n",
      "Time: 47.51267051696777\n",
      "image name =  84\n",
      "Data shape for DDIM sampling is (1, 3, 64, 64), eta 0.0\n",
      "Running Adversarial Sampling at 0 step\n",
      "Running DDIM Sampling with 200 timesteps\n"
     ]
    },
    {
     "name": "stderr",
     "output_type": "stream",
     "text": [
      "\n",
      "\u001b[A\n",
      "\u001b[A\n",
      "\u001b[A\n",
      "\u001b[A\n",
      "DDIM Sampler: 100%|██████████| 200/200 [00:23<00:00,  8.52it/s]\n"
     ]
    },
    {
     "name": "stdout",
     "output_type": "stream",
     "text": [
      "Data shape for DDIM sampling is (1, 3, 64, 64), eta 0.0\n",
      "Running Adversarial Sampling at 0 step\n",
      "Running DDIM Sampling with 200 timesteps\n"
     ]
    },
    {
     "name": "stderr",
     "output_type": "stream",
     "text": [
      "\n",
      "\u001b[A\n",
      "\u001b[A\n",
      "\u001b[A\n",
      "\u001b[A\n",
      "\u001b[A\n",
      "DDIM Sampler: 100%|██████████| 200/200 [00:23<00:00,  8.47it/s]\n"
     ]
    },
    {
     "name": "stdout",
     "output_type": "stream",
     "text": [
      "loss: [array(0.7373, dtype=float16), array(0.8066, dtype=float16), array(0.7637, dtype=float16), array(0.686, dtype=float16)]\n",
      "Saved poisoned image 84 to ./data/poisons/mini_MathVista_grid+i2i_AdvDiffVLMAttack/tbl/84.png\n",
      "Time: 47.805309534072876\n",
      "image name =  55\n",
      "Data shape for DDIM sampling is (1, 3, 64, 64), eta 0.0\n",
      "Running Adversarial Sampling at 0 step\n",
      "Running DDIM Sampling with 200 timesteps\n"
     ]
    },
    {
     "name": "stderr",
     "output_type": "stream",
     "text": [
      "\n",
      "\u001b[A\n",
      "\u001b[A\n",
      "\u001b[A\n",
      "\u001b[A\n",
      "DDIM Sampler: 100%|██████████| 200/200 [00:22<00:00,  8.71it/s]\n"
     ]
    },
    {
     "name": "stdout",
     "output_type": "stream",
     "text": [
      "Data shape for DDIM sampling is (1, 3, 64, 64), eta 0.0\n",
      "Running Adversarial Sampling at 0 step\n",
      "Running DDIM Sampling with 200 timesteps\n"
     ]
    },
    {
     "name": "stderr",
     "output_type": "stream",
     "text": [
      "\n",
      "\u001b[A\n",
      "\u001b[A\n",
      "\u001b[A\n",
      "\u001b[A\n",
      "DDIM Sampler: 100%|██████████| 200/200 [00:23<00:00,  8.51it/s]\n"
     ]
    },
    {
     "name": "stdout",
     "output_type": "stream",
     "text": [
      "loss: [array(0.6655, dtype=float16), array(0.789, dtype=float16), array(0.7563, dtype=float16), array(0.6772, dtype=float16)]\n",
      "Saved poisoned image 55 to ./data/poisons/mini_MathVista_grid+i2i_AdvDiffVLMAttack/tbl/55.png\n",
      "Time: 47.15388584136963\n",
      "image name =  29\n",
      "Data shape for DDIM sampling is (1, 3, 64, 64), eta 0.0\n",
      "Running Adversarial Sampling at 0 step\n",
      "Running DDIM Sampling with 200 timesteps\n"
     ]
    },
    {
     "name": "stderr",
     "output_type": "stream",
     "text": [
      "\n",
      "\u001b[A\n",
      "\u001b[A\n",
      "\u001b[A\n",
      "\u001b[A\n",
      "\u001b[A\n",
      "DDIM Sampler: 100%|██████████| 200/200 [00:23<00:00,  8.54it/s]\n"
     ]
    },
    {
     "name": "stdout",
     "output_type": "stream",
     "text": [
      "Data shape for DDIM sampling is (1, 3, 64, 64), eta 0.0\n",
      "Running Adversarial Sampling at 0 step\n",
      "Running DDIM Sampling with 200 timesteps\n"
     ]
    },
    {
     "name": "stderr",
     "output_type": "stream",
     "text": [
      "\n",
      "\u001b[A\n",
      "\u001b[A\n",
      "\u001b[A\n",
      "\u001b[A\n",
      "DDIM Sampler: 100%|██████████| 200/200 [00:23<00:00,  8.46it/s]\n"
     ]
    },
    {
     "name": "stdout",
     "output_type": "stream",
     "text": [
      "loss: [array(0.7686, dtype=float16), array(0.814, dtype=float16), array(0.843, dtype=float16), array(0.736, dtype=float16)]\n",
      "Saved poisoned image 29 to ./data/poisons/mini_MathVista_grid+i2i_AdvDiffVLMAttack/tbl/29.png\n",
      "Time: 47.84809756278992\n",
      "image name =  44\n",
      "Data shape for DDIM sampling is (1, 3, 64, 64), eta 0.0\n",
      "Running Adversarial Sampling at 0 step\n",
      "Running DDIM Sampling with 200 timesteps\n"
     ]
    },
    {
     "name": "stderr",
     "output_type": "stream",
     "text": [
      "\n",
      "\u001b[A\n",
      "\u001b[A\n",
      "\u001b[A\n",
      "\u001b[A\n",
      "DDIM Sampler: 100%|██████████| 200/200 [00:23<00:00,  8.59it/s]\n"
     ]
    },
    {
     "name": "stdout",
     "output_type": "stream",
     "text": [
      "Data shape for DDIM sampling is (1, 3, 64, 64), eta 0.0\n",
      "Running Adversarial Sampling at 0 step\n",
      "Running DDIM Sampling with 200 timesteps\n"
     ]
    },
    {
     "name": "stderr",
     "output_type": "stream",
     "text": [
      "\n",
      "\u001b[A\n",
      "\u001b[A\n",
      "\u001b[A\n",
      "\u001b[A\n",
      "\u001b[A\n",
      "\u001b[A\n",
      "DDIM Sampler: 100%|██████████| 200/200 [00:23<00:00,  8.64it/s]\n"
     ]
    },
    {
     "name": "stdout",
     "output_type": "stream",
     "text": [
      "loss: [array(0.6313, dtype=float16), array(0.776, dtype=float16), array(0.72, dtype=float16), array(0.8003, dtype=float16)]\n",
      "Saved poisoned image 44 to ./data/poisons/mini_MathVista_grid+i2i_AdvDiffVLMAttack/tbl/44.png\n",
      "Time: 47.14692306518555\n",
      "image name =  95\n",
      "Data shape for DDIM sampling is (1, 3, 64, 64), eta 0.0\n",
      "Running Adversarial Sampling at 0 step\n",
      "Running DDIM Sampling with 200 timesteps\n"
     ]
    },
    {
     "name": "stderr",
     "output_type": "stream",
     "text": [
      "\n",
      "\u001b[A\n",
      "\u001b[A\n",
      "\u001b[A\n",
      "\u001b[A\n",
      "DDIM Sampler: 100%|██████████| 200/200 [00:23<00:00,  8.49it/s]\n"
     ]
    },
    {
     "name": "stdout",
     "output_type": "stream",
     "text": [
      "Data shape for DDIM sampling is (1, 3, 64, 64), eta 0.0\n",
      "Running Adversarial Sampling at 0 step\n",
      "Running DDIM Sampling with 200 timesteps\n"
     ]
    },
    {
     "name": "stderr",
     "output_type": "stream",
     "text": [
      "\n",
      "\u001b[A\n",
      "\u001b[A\n",
      "\u001b[A\n",
      "\u001b[A\n",
      "DDIM Sampler: 100%|██████████| 200/200 [00:23<00:00,  8.62it/s]\n"
     ]
    },
    {
     "name": "stdout",
     "output_type": "stream",
     "text": [
      "loss: [array(0.7285, dtype=float16), array(0.816, dtype=float16), array(0.7812, dtype=float16), array(0.69, dtype=float16)]\n",
      "Saved poisoned image 95 to ./data/poisons/mini_MathVista_grid+i2i_AdvDiffVLMAttack/tbl/95.png\n",
      "Time: 47.46769189834595\n",
      "image name =  38\n",
      "Data shape for DDIM sampling is (1, 3, 64, 64), eta 0.0\n",
      "Running Adversarial Sampling at 0 step\n",
      "Running DDIM Sampling with 200 timesteps\n"
     ]
    },
    {
     "name": "stderr",
     "output_type": "stream",
     "text": [
      "\n",
      "\u001b[A\n",
      "\u001b[A\n",
      "\u001b[A\n",
      "\u001b[A\n",
      "DDIM Sampler: 100%|██████████| 200/200 [00:23<00:00,  8.50it/s]\n"
     ]
    },
    {
     "name": "stdout",
     "output_type": "stream",
     "text": [
      "Data shape for DDIM sampling is (1, 3, 64, 64), eta 0.0\n",
      "Running Adversarial Sampling at 0 step\n",
      "Running DDIM Sampling with 200 timesteps\n"
     ]
    },
    {
     "name": "stderr",
     "output_type": "stream",
     "text": [
      "\n",
      "\u001b[A\n",
      "\u001b[A\n",
      "\u001b[A\n",
      "\u001b[A\n",
      "DDIM Sampler: 100%|██████████| 200/200 [00:23<00:00,  8.54it/s]\n"
     ]
    },
    {
     "name": "stdout",
     "output_type": "stream",
     "text": [
      "loss: [array(0.736, dtype=float16), array(0.794, dtype=float16), array(0.7974, dtype=float16), array(0.7275, dtype=float16)]\n",
      "Saved poisoned image 38 to ./data/poisons/mini_MathVista_grid+i2i_AdvDiffVLMAttack/tbl/38.png\n",
      "Time: 47.68021774291992\n",
      "image name =  43\n",
      "Data shape for DDIM sampling is (1, 3, 64, 64), eta 0.0\n",
      "Running Adversarial Sampling at 0 step\n",
      "Running DDIM Sampling with 200 timesteps\n"
     ]
    },
    {
     "name": "stderr",
     "output_type": "stream",
     "text": [
      "\n",
      "\u001b[A\n",
      "\u001b[A\n",
      "\u001b[A\n",
      "\u001b[A\n",
      "\u001b[A\n",
      "\u001b[A\n",
      "DDIM Sampler: 100%|██████████| 200/200 [00:23<00:00,  8.54it/s]\n"
     ]
    },
    {
     "name": "stdout",
     "output_type": "stream",
     "text": [
      "Data shape for DDIM sampling is (1, 3, 64, 64), eta 0.0\n",
      "Running Adversarial Sampling at 0 step\n",
      "Running DDIM Sampling with 200 timesteps\n"
     ]
    },
    {
     "name": "stderr",
     "output_type": "stream",
     "text": [
      "\n",
      "\u001b[A\n",
      "\u001b[A\n",
      "\u001b[A\n",
      "\u001b[A\n",
      "DDIM Sampler: 100%|██████████| 200/200 [00:23<00:00,  8.58it/s]\n"
     ]
    },
    {
     "name": "stdout",
     "output_type": "stream",
     "text": [
      "loss: [array(0.823, dtype=float16), array(0.844, dtype=float16), array(0.83, dtype=float16), array(0.8413, dtype=float16)]\n",
      "Saved poisoned image 43 to ./data/poisons/mini_MathVista_grid+i2i_AdvDiffVLMAttack/tbl/43.png\n",
      "Time: 47.48332405090332\n",
      "image name =  92\n",
      "Data shape for DDIM sampling is (1, 3, 64, 64), eta 0.0\n",
      "Running Adversarial Sampling at 0 step\n",
      "Running DDIM Sampling with 200 timesteps\n"
     ]
    },
    {
     "name": "stderr",
     "output_type": "stream",
     "text": [
      "\n",
      "\u001b[A\n",
      "\u001b[A\n",
      "\u001b[A\n",
      "\u001b[A\n",
      "DDIM Sampler: 100%|██████████| 200/200 [00:23<00:00,  8.51it/s]\n"
     ]
    },
    {
     "name": "stdout",
     "output_type": "stream",
     "text": [
      "Data shape for DDIM sampling is (1, 3, 64, 64), eta 0.0\n",
      "Running Adversarial Sampling at 0 step\n",
      "Running DDIM Sampling with 200 timesteps\n"
     ]
    },
    {
     "name": "stderr",
     "output_type": "stream",
     "text": [
      "\n",
      "\u001b[A\n",
      "\u001b[A\n",
      "\u001b[A\n",
      "\u001b[A\n",
      "\u001b[A\n",
      "\u001b[A\n",
      "DDIM Sampler: 100%|██████████| 200/200 [00:23<00:00,  8.50it/s]\n"
     ]
    },
    {
     "name": "stdout",
     "output_type": "stream",
     "text": [
      "loss: [array(0.7715, dtype=float16), array(0.8125, dtype=float16), array(0.7847, dtype=float16), array(0.7065, dtype=float16)]\n",
      "Saved poisoned image 92 to ./data/poisons/mini_MathVista_grid+i2i_AdvDiffVLMAttack/tbl/92.png\n",
      "Time: 47.82120490074158\n",
      "image name =  31\n",
      "Data shape for DDIM sampling is (1, 3, 64, 64), eta 0.0\n",
      "Running Adversarial Sampling at 0 step\n",
      "Running DDIM Sampling with 200 timesteps\n"
     ]
    },
    {
     "name": "stderr",
     "output_type": "stream",
     "text": [
      "\n",
      "\u001b[A\n",
      "\u001b[A\n",
      "\u001b[A\n",
      "\u001b[A\n",
      "DDIM Sampler: 100%|██████████| 200/200 [00:23<00:00,  8.67it/s]\n"
     ]
    },
    {
     "name": "stdout",
     "output_type": "stream",
     "text": [
      "Data shape for DDIM sampling is (1, 3, 64, 64), eta 0.0\n",
      "Running Adversarial Sampling at 0 step\n",
      "Running DDIM Sampling with 200 timesteps\n"
     ]
    },
    {
     "name": "stderr",
     "output_type": "stream",
     "text": [
      "\n",
      "\u001b[A\n",
      "\u001b[A\n",
      "\u001b[A\n",
      "\u001b[A\n",
      "DDIM Sampler: 100%|██████████| 200/200 [00:23<00:00,  8.57it/s]\n"
     ]
    },
    {
     "name": "stdout",
     "output_type": "stream",
     "text": [
      "loss: [array(0.649, dtype=float16), array(0.749, dtype=float16), array(0.7188, dtype=float16), array(0.7095, dtype=float16)]\n",
      "Saved poisoned image 31 to ./data/poisons/mini_MathVista_grid+i2i_AdvDiffVLMAttack/tbl/31.png\n",
      "Time: 47.12091851234436\n",
      "image name =  36\n",
      "Data shape for DDIM sampling is (1, 3, 64, 64), eta 0.0\n",
      "Running Adversarial Sampling at 0 step\n",
      "Running DDIM Sampling with 200 timesteps\n"
     ]
    },
    {
     "name": "stderr",
     "output_type": "stream",
     "text": [
      "\n",
      "\u001b[A\n",
      "\u001b[A\n",
      "\u001b[A\n",
      "\u001b[A\n",
      "DDIM Sampler: 100%|██████████| 200/200 [00:23<00:00,  8.46it/s]\n"
     ]
    },
    {
     "name": "stdout",
     "output_type": "stream",
     "text": [
      "Data shape for DDIM sampling is (1, 3, 64, 64), eta 0.0\n",
      "Running Adversarial Sampling at 0 step\n",
      "Running DDIM Sampling with 200 timesteps\n"
     ]
    },
    {
     "name": "stderr",
     "output_type": "stream",
     "text": [
      "\n",
      "\u001b[A\n",
      "\u001b[A\n",
      "\u001b[A\n",
      "\u001b[A\n",
      "DDIM Sampler: 100%|██████████| 200/200 [00:23<00:00,  8.59it/s]\n"
     ]
    },
    {
     "name": "stdout",
     "output_type": "stream",
     "text": [
      "loss: [array(0.647, dtype=float16), array(0.708, dtype=float16), array(0.695, dtype=float16), array(0.632, dtype=float16)]\n",
      "Saved poisoned image 36 to ./data/poisons/mini_MathVista_grid+i2i_AdvDiffVLMAttack/tbl/36.png\n",
      "Time: 47.732709884643555\n",
      "image name =  78\n",
      "Data shape for DDIM sampling is (1, 3, 64, 64), eta 0.0\n",
      "Running Adversarial Sampling at 0 step\n",
      "Running DDIM Sampling with 200 timesteps\n"
     ]
    },
    {
     "name": "stderr",
     "output_type": "stream",
     "text": [
      "\n",
      "\u001b[A\n",
      "\u001b[A\n",
      "\u001b[A\n",
      "\u001b[A\n",
      "\u001b[A\n",
      "DDIM Sampler: 100%|██████████| 200/200 [00:23<00:00,  8.60it/s]\n"
     ]
    },
    {
     "name": "stdout",
     "output_type": "stream",
     "text": [
      "Data shape for DDIM sampling is (1, 3, 64, 64), eta 0.0\n",
      "Running Adversarial Sampling at 0 step\n",
      "Running DDIM Sampling with 200 timesteps\n"
     ]
    },
    {
     "name": "stderr",
     "output_type": "stream",
     "text": [
      "\n",
      "\u001b[A\n",
      "\u001b[A\n",
      "\u001b[A\n",
      "\u001b[A\n",
      "DDIM Sampler: 100%|██████████| 200/200 [00:22<00:00,  8.72it/s]\n"
     ]
    },
    {
     "name": "stdout",
     "output_type": "stream",
     "text": [
      "loss: [array(0.672, dtype=float16), array(0.7974, dtype=float16), array(0.731, dtype=float16), array(0.6797, dtype=float16)]\n",
      "Saved poisoned image 78 to ./data/poisons/mini_MathVista_grid+i2i_AdvDiffVLMAttack/tbl/78.png\n",
      "Time: 46.93815875053406\n",
      "image name =  76\n",
      "Data shape for DDIM sampling is (1, 3, 64, 64), eta 0.0\n",
      "Running Adversarial Sampling at 0 step\n",
      "Running DDIM Sampling with 200 timesteps\n"
     ]
    },
    {
     "name": "stderr",
     "output_type": "stream",
     "text": [
      "\n",
      "\u001b[A\n",
      "\u001b[A\n",
      "\u001b[A\n",
      "\u001b[A\n",
      "DDIM Sampler: 100%|██████████| 200/200 [00:23<00:00,  8.55it/s]\n"
     ]
    },
    {
     "name": "stdout",
     "output_type": "stream",
     "text": [
      "Data shape for DDIM sampling is (1, 3, 64, 64), eta 0.0\n",
      "Running Adversarial Sampling at 0 step\n",
      "Running DDIM Sampling with 200 timesteps\n"
     ]
    },
    {
     "name": "stderr",
     "output_type": "stream",
     "text": [
      "\n",
      "\u001b[A\n",
      "\u001b[A\n",
      "\u001b[A\n",
      "\u001b[A\n",
      "\u001b[A\n",
      "DDIM Sampler: 100%|██████████| 200/200 [00:23<00:00,  8.61it/s]\n"
     ]
    },
    {
     "name": "stdout",
     "output_type": "stream",
     "text": [
      "loss: [array(0.7075, dtype=float16), array(0.8, dtype=float16), array(0.7754, dtype=float16), array(0.72, dtype=float16)]\n",
      "Saved poisoned image 76 to ./data/poisons/mini_MathVista_grid+i2i_AdvDiffVLMAttack/tbl/76.png\n",
      "Time: 47.36738610267639\n",
      "image name =  71\n",
      "Data shape for DDIM sampling is (1, 3, 64, 64), eta 0.0\n",
      "Running Adversarial Sampling at 0 step\n",
      "Running DDIM Sampling with 200 timesteps\n"
     ]
    },
    {
     "name": "stderr",
     "output_type": "stream",
     "text": [
      "\n",
      "\u001b[A\n",
      "\u001b[A\n",
      "\u001b[A\n",
      "\u001b[A\n",
      "DDIM Sampler: 100%|██████████| 200/200 [00:23<00:00,  8.65it/s]\n"
     ]
    },
    {
     "name": "stdout",
     "output_type": "stream",
     "text": [
      "Data shape for DDIM sampling is (1, 3, 64, 64), eta 0.0\n",
      "Running Adversarial Sampling at 0 step\n",
      "Running DDIM Sampling with 200 timesteps\n"
     ]
    },
    {
     "name": "stderr",
     "output_type": "stream",
     "text": [
      "\n",
      "\u001b[A\n",
      "\u001b[A\n",
      "\u001b[A\n",
      "\u001b[A\n",
      "DDIM Sampler: 100%|██████████| 200/200 [00:23<00:00,  8.59it/s]\n"
     ]
    },
    {
     "name": "stdout",
     "output_type": "stream",
     "text": [
      "loss: [array(0.6665, dtype=float16), array(0.766, dtype=float16), array(0.744, dtype=float16), array(0.7007, dtype=float16)]\n",
      "Saved poisoned image 71 to ./data/poisons/mini_MathVista_grid+i2i_AdvDiffVLMAttack/tbl/71.png\n",
      "Time: 47.10340213775635\n",
      "image name =  40\n",
      "Data shape for DDIM sampling is (1, 3, 64, 64), eta 0.0\n",
      "Running Adversarial Sampling at 0 step\n",
      "Running DDIM Sampling with 200 timesteps\n"
     ]
    },
    {
     "name": "stderr",
     "output_type": "stream",
     "text": [
      "\n",
      "\u001b[A\n",
      "\u001b[A\n",
      "\u001b[A\n",
      "\u001b[A\n",
      "\u001b[A\n",
      "\u001b[A\n",
      "DDIM Sampler: 100%|██████████| 200/200 [00:23<00:00,  8.50it/s]\n"
     ]
    },
    {
     "name": "stdout",
     "output_type": "stream",
     "text": [
      "Data shape for DDIM sampling is (1, 3, 64, 64), eta 0.0\n",
      "Running Adversarial Sampling at 0 step\n",
      "Running DDIM Sampling with 200 timesteps\n"
     ]
    },
    {
     "name": "stderr",
     "output_type": "stream",
     "text": [
      "\n",
      "\u001b[A\n",
      "\u001b[A\n",
      "\u001b[A\n",
      "\u001b[A\n",
      "DDIM Sampler: 100%|██████████| 200/200 [00:23<00:00,  8.62it/s]\n"
     ]
    },
    {
     "name": "stdout",
     "output_type": "stream",
     "text": [
      "loss: [array(0.6567, dtype=float16), array(0.7944, dtype=float16), array(0.745, dtype=float16), array(0.717, dtype=float16)]\n",
      "Saved poisoned image 40 to ./data/poisons/mini_MathVista_grid+i2i_AdvDiffVLMAttack/tbl/40.png\n",
      "Time: 47.49295949935913\n",
      "image name =  91\n",
      "Data shape for DDIM sampling is (1, 3, 64, 64), eta 0.0\n",
      "Running Adversarial Sampling at 0 step\n",
      "Running DDIM Sampling with 200 timesteps\n"
     ]
    },
    {
     "name": "stderr",
     "output_type": "stream",
     "text": [
      "\n",
      "\u001b[A\n",
      "\u001b[A\n",
      "\u001b[A\n",
      "\u001b[A\n",
      "\u001b[A\n",
      "DDIM Sampler: 100%|██████████| 200/200 [00:23<00:00,  8.50it/s]\n"
     ]
    },
    {
     "name": "stdout",
     "output_type": "stream",
     "text": [
      "Data shape for DDIM sampling is (1, 3, 64, 64), eta 0.0\n",
      "Running Adversarial Sampling at 0 step\n",
      "Running DDIM Sampling with 200 timesteps\n"
     ]
    },
    {
     "name": "stderr",
     "output_type": "stream",
     "text": [
      "\n",
      "\u001b[A\n",
      "\u001b[A\n",
      "\u001b[A\n",
      "\u001b[A\n",
      "DDIM Sampler: 100%|██████████| 200/200 [00:23<00:00,  8.52it/s]\n"
     ]
    },
    {
     "name": "stdout",
     "output_type": "stream",
     "text": [
      "loss: [array(0.7275, dtype=float16), array(0.8203, dtype=float16), array(0.79, dtype=float16), array(0.7275, dtype=float16)]\n",
      "Saved poisoned image 91 to ./data/poisons/mini_MathVista_grid+i2i_AdvDiffVLMAttack/tbl/91.png\n",
      "Time: 47.721177101135254\n",
      "image name =  47\n",
      "Data shape for DDIM sampling is (1, 3, 64, 64), eta 0.0\n",
      "Running Adversarial Sampling at 0 step\n",
      "Running DDIM Sampling with 200 timesteps\n"
     ]
    },
    {
     "name": "stderr",
     "output_type": "stream",
     "text": [
      "\n",
      "\u001b[A\n",
      "\u001b[A\n",
      "\u001b[A\n",
      "\u001b[A\n",
      "DDIM Sampler: 100%|██████████| 200/200 [00:23<00:00,  8.48it/s]\n"
     ]
    },
    {
     "name": "stdout",
     "output_type": "stream",
     "text": [
      "Data shape for DDIM sampling is (1, 3, 64, 64), eta 0.0\n",
      "Running Adversarial Sampling at 0 step\n",
      "Running DDIM Sampling with 200 timesteps\n"
     ]
    },
    {
     "name": "stderr",
     "output_type": "stream",
     "text": [
      "\n",
      "\u001b[A\n",
      "\u001b[A\n",
      "\u001b[A\n",
      "\u001b[A\n",
      "\u001b[A\n",
      "\u001b[A\n",
      "DDIM Sampler: 100%|██████████| 200/200 [00:23<00:00,  8.67it/s]\n"
     ]
    },
    {
     "name": "stdout",
     "output_type": "stream",
     "text": [
      "loss: [array(0.6777, dtype=float16), array(0.7783, dtype=float16), array(0.747, dtype=float16), array(0.6694, dtype=float16)]\n",
      "Saved poisoned image 47 to ./data/poisons/mini_MathVista_grid+i2i_AdvDiffVLMAttack/tbl/47.png\n",
      "Time: 47.41796159744263\n",
      "image name =  96\n",
      "Data shape for DDIM sampling is (1, 3, 64, 64), eta 0.0\n",
      "Running Adversarial Sampling at 0 step\n",
      "Running DDIM Sampling with 200 timesteps\n"
     ]
    },
    {
     "name": "stderr",
     "output_type": "stream",
     "text": [
      "\n",
      "\u001b[A\n",
      "\u001b[A\n",
      "\u001b[A\n",
      "\u001b[A\n",
      "DDIM Sampler: 100%|██████████| 200/200 [00:23<00:00,  8.68it/s]\n"
     ]
    },
    {
     "name": "stdout",
     "output_type": "stream",
     "text": [
      "Data shape for DDIM sampling is (1, 3, 64, 64), eta 0.0\n",
      "Running Adversarial Sampling at 0 step\n",
      "Running DDIM Sampling with 200 timesteps\n"
     ]
    },
    {
     "name": "stderr",
     "output_type": "stream",
     "text": [
      "\n",
      "\u001b[A\n",
      "\u001b[A\n",
      "\u001b[A\n",
      "\u001b[A\n",
      "DDIM Sampler: 100%|██████████| 200/200 [00:23<00:00,  8.50it/s]\n"
     ]
    },
    {
     "name": "stdout",
     "output_type": "stream",
     "text": [
      "loss: [array(0.592, dtype=float16), array(0.6855, dtype=float16), array(0.593, dtype=float16), array(0.6006, dtype=float16)]\n",
      "Saved poisoned image 96 to ./data/poisons/mini_MathVista_grid+i2i_AdvDiffVLMAttack/tbl/96.png\n",
      "Time: 47.32704544067383\n",
      "image name =  49\n",
      "Data shape for DDIM sampling is (1, 3, 64, 64), eta 0.0\n",
      "Running Adversarial Sampling at 0 step\n",
      "Running DDIM Sampling with 200 timesteps\n"
     ]
    },
    {
     "name": "stderr",
     "output_type": "stream",
     "text": [
      "\n",
      "\u001b[A\n",
      "\u001b[A\n",
      "\u001b[A\n",
      "\u001b[A\n",
      "\u001b[A\n",
      "\u001b[A\n",
      "DDIM Sampler: 100%|██████████| 200/200 [00:23<00:00,  8.54it/s]\n"
     ]
    },
    {
     "name": "stdout",
     "output_type": "stream",
     "text": [
      "Data shape for DDIM sampling is (1, 3, 64, 64), eta 0.0\n",
      "Running Adversarial Sampling at 0 step\n",
      "Running DDIM Sampling with 200 timesteps\n"
     ]
    },
    {
     "name": "stderr",
     "output_type": "stream",
     "text": [
      "\n",
      "\u001b[A\n",
      "\u001b[A\n",
      "\u001b[A\n",
      "\u001b[A\n",
      "DDIM Sampler: 100%|██████████| 200/200 [00:23<00:00,  8.59it/s]\n"
     ]
    },
    {
     "name": "stdout",
     "output_type": "stream",
     "text": [
      "loss: [array(0.758, dtype=float16), array(0.8164, dtype=float16), array(0.7734, dtype=float16), array(0.7197, dtype=float16)]\n",
      "Saved poisoned image 49 to ./data/poisons/mini_MathVista_grid+i2i_AdvDiffVLMAttack/tbl/49.png\n",
      "Time: 47.44993853569031\n",
      "image name =  100\n",
      "Data shape for DDIM sampling is (1, 3, 64, 64), eta 0.0\n",
      "Running Adversarial Sampling at 0 step\n",
      "Running DDIM Sampling with 200 timesteps\n"
     ]
    },
    {
     "name": "stderr",
     "output_type": "stream",
     "text": [
      "\n",
      "\u001b[A\n",
      "\u001b[A\n",
      "\u001b[A\n",
      "\u001b[A\n",
      "DDIM Sampler: 100%|██████████| 200/200 [00:23<00:00,  8.52it/s]\n"
     ]
    },
    {
     "name": "stdout",
     "output_type": "stream",
     "text": [
      "Data shape for DDIM sampling is (1, 3, 64, 64), eta 0.0\n",
      "Running Adversarial Sampling at 0 step\n",
      "Running DDIM Sampling with 200 timesteps\n"
     ]
    },
    {
     "name": "stderr",
     "output_type": "stream",
     "text": [
      "\n",
      "\u001b[A\n",
      "\u001b[A\n",
      "\u001b[A\n",
      "\u001b[A\n",
      "DDIM Sampler: 100%|██████████| 200/200 [00:23<00:00,  8.59it/s]\n"
     ]
    },
    {
     "name": "stdout",
     "output_type": "stream",
     "text": [
      "loss: [array(0.741, dtype=float16), array(0.7705, dtype=float16), array(0.783, dtype=float16), array(0.7515, dtype=float16)]\n",
      "Saved poisoned image 100 to ./data/poisons/mini_MathVista_grid+i2i_AdvDiffVLMAttack/tbl/100.png\n",
      "Time: 47.48974370956421\n",
      "image name =  98\n",
      "Data shape for DDIM sampling is (1, 3, 64, 64), eta 0.0\n",
      "Running Adversarial Sampling at 0 step\n",
      "Running DDIM Sampling with 200 timesteps\n"
     ]
    },
    {
     "name": "stderr",
     "output_type": "stream",
     "text": [
      "\n",
      "\u001b[A\n",
      "\u001b[A\n",
      "\u001b[A\n",
      "\u001b[A\n",
      "DDIM Sampler: 100%|██████████| 200/200 [00:23<00:00,  8.48it/s]\n"
     ]
    },
    {
     "name": "stdout",
     "output_type": "stream",
     "text": [
      "Data shape for DDIM sampling is (1, 3, 64, 64), eta 0.0\n",
      "Running Adversarial Sampling at 0 step\n",
      "Running DDIM Sampling with 200 timesteps\n"
     ]
    },
    {
     "name": "stderr",
     "output_type": "stream",
     "text": [
      "\n",
      "\u001b[A\n",
      "\u001b[A\n",
      "\u001b[A\n",
      "\u001b[A\n",
      "DDIM Sampler: 100%|██████████| 200/200 [00:23<00:00,  8.56it/s]\n"
     ]
    },
    {
     "name": "stdout",
     "output_type": "stream",
     "text": [
      "loss: [array(0.758, dtype=float16), array(0.8203, dtype=float16), array(0.7896, dtype=float16), array(0.794, dtype=float16)]\n",
      "Saved poisoned image 98 to ./data/poisons/mini_MathVista_grid+i2i_AdvDiffVLMAttack/tbl/98.png\n",
      "Time: 47.74000358581543\n",
      "image name =  35\n",
      "Data shape for DDIM sampling is (1, 3, 64, 64), eta 0.0\n",
      "Running Adversarial Sampling at 0 step\n",
      "Running DDIM Sampling with 200 timesteps\n"
     ]
    },
    {
     "name": "stderr",
     "output_type": "stream",
     "text": [
      "\n",
      "\u001b[A\n",
      "\u001b[A\n",
      "\u001b[A\n",
      "\u001b[A\n",
      "DDIM Sampler: 100%|██████████| 200/200 [00:23<00:00,  8.49it/s]\n"
     ]
    },
    {
     "name": "stdout",
     "output_type": "stream",
     "text": [
      "Data shape for DDIM sampling is (1, 3, 64, 64), eta 0.0\n",
      "Running Adversarial Sampling at 0 step\n",
      "Running DDIM Sampling with 200 timesteps\n"
     ]
    },
    {
     "name": "stderr",
     "output_type": "stream",
     "text": [
      "\n",
      "\u001b[A\n",
      "\u001b[A\n",
      "\u001b[A\n",
      "\u001b[A\n",
      "DDIM Sampler: 100%|██████████| 200/200 [00:23<00:00,  8.49it/s]\n"
     ]
    },
    {
     "name": "stdout",
     "output_type": "stream",
     "text": [
      "loss: [array(0.685, dtype=float16), array(0.8003, dtype=float16), array(0.7417, dtype=float16), array(0.6704, dtype=float16)]\n",
      "Saved poisoned image 35 to ./data/poisons/mini_MathVista_grid+i2i_AdvDiffVLMAttack/tbl/35.png\n",
      "Time: 47.844712018966675\n",
      "image name =  32\n",
      "Data shape for DDIM sampling is (1, 3, 64, 64), eta 0.0\n",
      "Running Adversarial Sampling at 0 step\n",
      "Running DDIM Sampling with 200 timesteps\n"
     ]
    },
    {
     "name": "stderr",
     "output_type": "stream",
     "text": [
      "\n",
      "\u001b[A\n",
      "\u001b[A\n",
      "\u001b[A\n",
      "\u001b[A\n",
      "DDIM Sampler: 100%|██████████| 200/200 [00:23<00:00,  8.50it/s]\n"
     ]
    },
    {
     "name": "stdout",
     "output_type": "stream",
     "text": [
      "Data shape for DDIM sampling is (1, 3, 64, 64), eta 0.0\n",
      "Running Adversarial Sampling at 0 step\n",
      "Running DDIM Sampling with 200 timesteps\n"
     ]
    },
    {
     "name": "stderr",
     "output_type": "stream",
     "text": [
      "\n",
      "\u001b[A\n",
      "\u001b[A\n",
      "\u001b[A\n",
      "\u001b[A\n",
      "DDIM Sampler: 100%|██████████| 200/200 [00:23<00:00,  8.50it/s]\n"
     ]
    },
    {
     "name": "stdout",
     "output_type": "stream",
     "text": [
      "loss: [array(0.7236, dtype=float16), array(0.822, dtype=float16), array(0.7803, dtype=float16), array(0.685, dtype=float16)]\n",
      "Saved poisoned image 32 to ./data/poisons/mini_MathVista_grid+i2i_AdvDiffVLMAttack/tbl/32.png\n",
      "Time: 47.76444125175476\n",
      "image name =  72\n",
      "Data shape for DDIM sampling is (1, 3, 64, 64), eta 0.0\n",
      "Running Adversarial Sampling at 0 step\n",
      "Running DDIM Sampling with 200 timesteps\n"
     ]
    },
    {
     "name": "stderr",
     "output_type": "stream",
     "text": [
      "\n",
      "\u001b[A\n",
      "\u001b[A\n",
      "\u001b[A\n",
      "\u001b[A\n",
      "DDIM Sampler: 100%|██████████| 200/200 [00:23<00:00,  8.59it/s]\n"
     ]
    },
    {
     "name": "stdout",
     "output_type": "stream",
     "text": [
      "Data shape for DDIM sampling is (1, 3, 64, 64), eta 0.0\n",
      "Running Adversarial Sampling at 0 step\n",
      "Running DDIM Sampling with 200 timesteps\n"
     ]
    },
    {
     "name": "stderr",
     "output_type": "stream",
     "text": [
      "\n",
      "\u001b[A\n",
      "\u001b[A\n",
      "\u001b[A\n",
      "\u001b[A\n",
      "DDIM Sampler: 100%|██████████| 200/200 [00:23<00:00,  8.49it/s]\n"
     ]
    },
    {
     "name": "stdout",
     "output_type": "stream",
     "text": [
      "loss: [array(0.6826, dtype=float16), array(0.7676, dtype=float16), array(0.6865, dtype=float16), array(0.644, dtype=float16)]\n",
      "Saved poisoned image 72 to ./data/poisons/mini_MathVista_grid+i2i_AdvDiffVLMAttack/tbl/72.png\n",
      "Time: 47.57903170585632\n",
      "image name =  75\n",
      "Data shape for DDIM sampling is (1, 3, 64, 64), eta 0.0\n",
      "Running Adversarial Sampling at 0 step\n",
      "Running DDIM Sampling with 200 timesteps\n"
     ]
    },
    {
     "name": "stderr",
     "output_type": "stream",
     "text": [
      "\n",
      "\u001b[A\n",
      "\u001b[A\n",
      "\u001b[A\n",
      "\u001b[A\n",
      "DDIM Sampler: 100%|██████████| 200/200 [00:23<00:00,  8.53it/s]\n"
     ]
    },
    {
     "name": "stdout",
     "output_type": "stream",
     "text": [
      "Data shape for DDIM sampling is (1, 3, 64, 64), eta 0.0\n",
      "Running Adversarial Sampling at 0 step\n",
      "Running DDIM Sampling with 200 timesteps\n"
     ]
    },
    {
     "name": "stderr",
     "output_type": "stream",
     "text": [
      "\n",
      "\u001b[A\n",
      "\u001b[A\n",
      "\u001b[A\n",
      "\u001b[A\n",
      "\u001b[A\n",
      "\u001b[A\n",
      "DDIM Sampler: 100%|██████████| 200/200 [00:22<00:00,  8.71it/s]\n"
     ]
    },
    {
     "name": "stdout",
     "output_type": "stream",
     "text": [
      "loss: [array(0.6562, dtype=float16), array(0.7524, dtype=float16), array(0.65, dtype=float16), array(0.633, dtype=float16)]\n",
      "Saved poisoned image 75 to ./data/poisons/mini_MathVista_grid+i2i_AdvDiffVLMAttack/tbl/75.png\n",
      "Time: 47.13636565208435\n",
      "image name =  18\n",
      "Data shape for DDIM sampling is (1, 3, 64, 64), eta 0.0\n",
      "Running Adversarial Sampling at 0 step\n",
      "Running DDIM Sampling with 200 timesteps\n"
     ]
    },
    {
     "name": "stderr",
     "output_type": "stream",
     "text": [
      "\n",
      "\u001b[A\n",
      "\u001b[A\n",
      "\u001b[A\n",
      "\u001b[A\n",
      "DDIM Sampler: 100%|██████████| 200/200 [00:23<00:00,  8.58it/s]\n"
     ]
    },
    {
     "name": "stdout",
     "output_type": "stream",
     "text": [
      "Data shape for DDIM sampling is (1, 3, 64, 64), eta 0.0\n",
      "Running Adversarial Sampling at 0 step\n",
      "Running DDIM Sampling with 200 timesteps\n"
     ]
    },
    {
     "name": "stderr",
     "output_type": "stream",
     "text": [
      "\n",
      "\u001b[A\n",
      "\u001b[A\n",
      "\u001b[A\n",
      "\u001b[A\n",
      "DDIM Sampler: 100%|██████████| 200/200 [00:23<00:00,  8.57it/s]\n"
     ]
    },
    {
     "name": "stdout",
     "output_type": "stream",
     "text": [
      "loss: [array(0.7373, dtype=float16), array(0.7993, dtype=float16), array(0.7427, dtype=float16), array(0.6616, dtype=float16)]\n",
      "Saved poisoned image 18 to ./data/poisons/mini_MathVista_grid+i2i_AdvDiffVLMAttack/tbl/18.png\n",
      "Time: 47.43565487861633\n",
      "image name =  64\n",
      "Data shape for DDIM sampling is (1, 3, 64, 64), eta 0.0\n",
      "Running Adversarial Sampling at 0 step\n",
      "Running DDIM Sampling with 200 timesteps\n"
     ]
    },
    {
     "name": "stderr",
     "output_type": "stream",
     "text": [
      "\n",
      "\u001b[A\n",
      "\u001b[A\n",
      "\u001b[A\n",
      "\u001b[A\n",
      "DDIM Sampler: 100%|██████████| 200/200 [00:23<00:00,  8.51it/s]\n"
     ]
    },
    {
     "name": "stdout",
     "output_type": "stream",
     "text": [
      "Data shape for DDIM sampling is (1, 3, 64, 64), eta 0.0\n",
      "Running Adversarial Sampling at 0 step\n",
      "Running DDIM Sampling with 200 timesteps\n"
     ]
    },
    {
     "name": "stderr",
     "output_type": "stream",
     "text": [
      "\n",
      "\u001b[A\n",
      "\u001b[A\n",
      "\u001b[A\n",
      "\u001b[A\n",
      "DDIM Sampler: 100%|██████████| 200/200 [00:23<00:00,  8.49it/s]\n"
     ]
    },
    {
     "name": "stdout",
     "output_type": "stream",
     "text": [
      "loss: [array(0.824, dtype=float16), array(0.8677, dtype=float16), array(0.8433, dtype=float16), array(0.7866, dtype=float16)]\n",
      "Saved poisoned image 64 to ./data/poisons/mini_MathVista_grid+i2i_AdvDiffVLMAttack/tbl/64.png\n",
      "Time: 47.78721499443054\n",
      "image name =  63\n",
      "Data shape for DDIM sampling is (1, 3, 64, 64), eta 0.0\n",
      "Running Adversarial Sampling at 0 step\n",
      "Running DDIM Sampling with 200 timesteps\n"
     ]
    },
    {
     "name": "stderr",
     "output_type": "stream",
     "text": [
      "\n",
      "\u001b[A\n",
      "\u001b[A\n",
      "\u001b[A\n",
      "\u001b[A\n",
      "DDIM Sampler: 100%|██████████| 200/200 [00:23<00:00,  8.59it/s]\n"
     ]
    },
    {
     "name": "stdout",
     "output_type": "stream",
     "text": [
      "Data shape for DDIM sampling is (1, 3, 64, 64), eta 0.0\n",
      "Running Adversarial Sampling at 0 step\n",
      "Running DDIM Sampling with 200 timesteps\n"
     ]
    },
    {
     "name": "stderr",
     "output_type": "stream",
     "text": [
      "\n",
      "\u001b[A\n",
      "\u001b[A\n",
      "\u001b[A\n",
      "\u001b[A\n",
      "DDIM Sampler: 100%|██████████| 200/200 [00:23<00:00,  8.61it/s]\n"
     ]
    },
    {
     "name": "stdout",
     "output_type": "stream",
     "text": [
      "loss: [array(0.646, dtype=float16), array(0.7817, dtype=float16), array(0.692, dtype=float16), array(0.653, dtype=float16)]\n",
      "Saved poisoned image 63 to ./data/poisons/mini_MathVista_grid+i2i_AdvDiffVLMAttack/tbl/63.png\n",
      "Time: 47.280370235443115\n",
      "image name =  9\n",
      "Data shape for DDIM sampling is (1, 3, 64, 64), eta 0.0\n",
      "Running Adversarial Sampling at 0 step\n",
      "Running DDIM Sampling with 200 timesteps\n"
     ]
    },
    {
     "name": "stderr",
     "output_type": "stream",
     "text": [
      "\n",
      "\u001b[A\n",
      "\u001b[A\n",
      "\u001b[A\n",
      "\u001b[A\n",
      "DDIM Sampler: 100%|██████████| 200/200 [00:22<00:00,  8.73it/s]\n"
     ]
    },
    {
     "name": "stdout",
     "output_type": "stream",
     "text": [
      "Data shape for DDIM sampling is (1, 3, 64, 64), eta 0.0\n",
      "Running Adversarial Sampling at 0 step\n",
      "Running DDIM Sampling with 200 timesteps\n"
     ]
    },
    {
     "name": "stderr",
     "output_type": "stream",
     "text": [
      "\n",
      "\u001b[A\n",
      "\u001b[A\n",
      "\u001b[A\n",
      "\u001b[A\n",
      "\u001b[A\n",
      "DDIM Sampler: 100%|██████████| 200/200 [00:23<00:00,  8.52it/s]\n"
     ]
    },
    {
     "name": "stdout",
     "output_type": "stream",
     "text": [
      "loss: [array(0.643, dtype=float16), array(0.779, dtype=float16), array(0.751, dtype=float16), array(0.6763, dtype=float16)]\n",
      "Saved poisoned image 9 to ./data/poisons/mini_MathVista_grid+i2i_AdvDiffVLMAttack/tbl/9.png\n",
      "Time: 47.09266948699951\n",
      "image name =  7\n",
      "Data shape for DDIM sampling is (1, 3, 64, 64), eta 0.0\n",
      "Running Adversarial Sampling at 0 step\n",
      "Running DDIM Sampling with 200 timesteps\n"
     ]
    },
    {
     "name": "stderr",
     "output_type": "stream",
     "text": [
      "\n",
      "\u001b[A\n",
      "\u001b[A\n",
      "\u001b[A\n",
      "\u001b[A\n",
      "DDIM Sampler: 100%|██████████| 200/200 [00:23<00:00,  8.51it/s]\n"
     ]
    },
    {
     "name": "stdout",
     "output_type": "stream",
     "text": [
      "Data shape for DDIM sampling is (1, 3, 64, 64), eta 0.0\n",
      "Running Adversarial Sampling at 0 step\n",
      "Running DDIM Sampling with 200 timesteps\n"
     ]
    },
    {
     "name": "stderr",
     "output_type": "stream",
     "text": [
      "\n",
      "\u001b[A\n",
      "\u001b[A\n",
      "\u001b[A\n",
      "\u001b[A\n",
      "DDIM Sampler: 100%|██████████| 200/200 [00:23<00:00,  8.48it/s]\n"
     ]
    },
    {
     "name": "stdout",
     "output_type": "stream",
     "text": [
      "loss: [array(0.5806, dtype=float16), array(0.7266, dtype=float16), array(0.6494, dtype=float16), array(0.5317, dtype=float16)]\n",
      "Saved poisoned image 7 to ./data/poisons/mini_MathVista_grid+i2i_AdvDiffVLMAttack/tbl/7.png\n",
      "Time: 47.847267150878906\n",
      "image name =  11\n",
      "Data shape for DDIM sampling is (1, 3, 64, 64), eta 0.0\n",
      "Running Adversarial Sampling at 0 step\n",
      "Running DDIM Sampling with 200 timesteps\n"
     ]
    },
    {
     "name": "stderr",
     "output_type": "stream",
     "text": [
      "\n",
      "\u001b[A\n",
      "\u001b[A\n",
      "\u001b[A\n",
      "\u001b[A\n",
      "DDIM Sampler: 100%|██████████| 200/200 [00:23<00:00,  8.57it/s]\n"
     ]
    },
    {
     "name": "stdout",
     "output_type": "stream",
     "text": [
      "Data shape for DDIM sampling is (1, 3, 64, 64), eta 0.0\n",
      "Running Adversarial Sampling at 0 step\n",
      "Running DDIM Sampling with 200 timesteps\n"
     ]
    },
    {
     "name": "stderr",
     "output_type": "stream",
     "text": [
      "\n",
      "\u001b[A\n",
      "\u001b[A\n",
      "\u001b[A\n",
      "\u001b[A\n",
      "DDIM Sampler: 100%|██████████| 200/200 [00:22<00:00,  8.72it/s]\n"
     ]
    },
    {
     "name": "stdout",
     "output_type": "stream",
     "text": [
      "loss: [array(0.692, dtype=float16), array(0.777, dtype=float16), array(0.7583, dtype=float16), array(0.7046, dtype=float16)]\n",
      "Saved poisoned image 11 to ./data/poisons/mini_MathVista_grid+i2i_AdvDiffVLMAttack/tbl/11.png\n",
      "Time: 47.01472091674805\n",
      "image name =  16\n",
      "Data shape for DDIM sampling is (1, 3, 64, 64), eta 0.0\n",
      "Running Adversarial Sampling at 0 step\n",
      "Running DDIM Sampling with 200 timesteps\n"
     ]
    },
    {
     "name": "stderr",
     "output_type": "stream",
     "text": [
      "\n",
      "\u001b[A\n",
      "\u001b[A\n",
      "\u001b[A\n",
      "\u001b[A\n",
      "DDIM Sampler: 100%|██████████| 200/200 [00:23<00:00,  8.57it/s]\n"
     ]
    },
    {
     "name": "stdout",
     "output_type": "stream",
     "text": [
      "Data shape for DDIM sampling is (1, 3, 64, 64), eta 0.0\n",
      "Running Adversarial Sampling at 0 step\n",
      "Running DDIM Sampling with 200 timesteps\n"
     ]
    },
    {
     "name": "stderr",
     "output_type": "stream",
     "text": [
      "\n",
      "\u001b[A\n",
      "\u001b[A\n",
      "\u001b[A\n",
      "\u001b[A\n",
      "DDIM Sampler: 100%|██████████| 200/200 [00:23<00:00,  8.49it/s]\n"
     ]
    },
    {
     "name": "stdout",
     "output_type": "stream",
     "text": [
      "loss: [array(0.738, dtype=float16), array(0.8174, dtype=float16), array(0.822, dtype=float16), array(0.812, dtype=float16)]\n",
      "Saved poisoned image 16 to ./data/poisons/mini_MathVista_grid+i2i_AdvDiffVLMAttack/tbl/16.png\n",
      "Time: 47.651724338531494\n",
      "image name =  23\n",
      "Data shape for DDIM sampling is (1, 3, 64, 64), eta 0.0\n",
      "Running Adversarial Sampling at 0 step\n",
      "Running DDIM Sampling with 200 timesteps\n"
     ]
    },
    {
     "name": "stderr",
     "output_type": "stream",
     "text": [
      "\n",
      "\u001b[A\n",
      "\u001b[A\n",
      "\u001b[A\n",
      "\u001b[A\n",
      "DDIM Sampler: 100%|██████████| 200/200 [00:23<00:00,  8.48it/s]\n"
     ]
    },
    {
     "name": "stdout",
     "output_type": "stream",
     "text": [
      "Data shape for DDIM sampling is (1, 3, 64, 64), eta 0.0\n",
      "Running Adversarial Sampling at 0 step\n",
      "Running DDIM Sampling with 200 timesteps\n"
     ]
    },
    {
     "name": "stderr",
     "output_type": "stream",
     "text": [
      "\n",
      "\u001b[A\n",
      "\u001b[A\n",
      "\u001b[A\n",
      "\u001b[A\n",
      "\u001b[A\n",
      "DDIM Sampler: 100%|██████████| 200/200 [00:23<00:00,  8.49it/s]\n"
     ]
    },
    {
     "name": "stdout",
     "output_type": "stream",
     "text": [
      "loss: [array(0.5913, dtype=float16), array(0.761, dtype=float16), array(0.7017, dtype=float16), array(0.691, dtype=float16)]\n",
      "Saved poisoned image 23 to ./data/poisons/mini_MathVista_grid+i2i_AdvDiffVLMAttack/tbl/23.png\n",
      "Time: 47.90542984008789\n",
      "image name =  89\n",
      "Data shape for DDIM sampling is (1, 3, 64, 64), eta 0.0\n",
      "Running Adversarial Sampling at 0 step\n",
      "Running DDIM Sampling with 200 timesteps\n"
     ]
    },
    {
     "name": "stderr",
     "output_type": "stream",
     "text": [
      "\n",
      "\u001b[A\n",
      "\u001b[A\n",
      "\u001b[A\n",
      "\u001b[A\n",
      "DDIM Sampler: 100%|██████████| 200/200 [00:23<00:00,  8.48it/s]\n"
     ]
    },
    {
     "name": "stdout",
     "output_type": "stream",
     "text": [
      "Data shape for DDIM sampling is (1, 3, 64, 64), eta 0.0\n",
      "Running Adversarial Sampling at 0 step\n",
      "Running DDIM Sampling with 200 timesteps\n"
     ]
    },
    {
     "name": "stderr",
     "output_type": "stream",
     "text": [
      "\n",
      "\u001b[A\n",
      "\u001b[A\n",
      "\u001b[A\n",
      "\u001b[A\n",
      "DDIM Sampler: 100%|██████████| 200/200 [00:23<00:00,  8.55it/s]\n"
     ]
    },
    {
     "name": "stdout",
     "output_type": "stream",
     "text": [
      "loss: [array(0.758, dtype=float16), array(0.813, dtype=float16), array(0.764, dtype=float16), array(0.736, dtype=float16)]\n",
      "Saved poisoned image 89 to ./data/poisons/mini_MathVista_grid+i2i_AdvDiffVLMAttack/tbl/89.png\n",
      "Time: 47.755778312683105\n",
      "image name =  58\n",
      "Data shape for DDIM sampling is (1, 3, 64, 64), eta 0.0\n",
      "Running Adversarial Sampling at 0 step\n",
      "Running DDIM Sampling with 200 timesteps\n"
     ]
    },
    {
     "name": "stderr",
     "output_type": "stream",
     "text": [
      "\n",
      "\u001b[A\n",
      "\u001b[A\n",
      "\u001b[A\n",
      "\u001b[A\n",
      "DDIM Sampler: 100%|██████████| 200/200 [00:23<00:00,  8.56it/s]\n"
     ]
    },
    {
     "name": "stdout",
     "output_type": "stream",
     "text": [
      "Data shape for DDIM sampling is (1, 3, 64, 64), eta 0.0\n",
      "Running Adversarial Sampling at 0 step\n",
      "Running DDIM Sampling with 200 timesteps\n"
     ]
    },
    {
     "name": "stderr",
     "output_type": "stream",
     "text": [
      "\n",
      "\u001b[A\n",
      "\u001b[A\n",
      "\u001b[A\n",
      "\u001b[A\n",
      "DDIM Sampler: 100%|██████████| 200/200 [00:23<00:00,  8.49it/s]\n"
     ]
    },
    {
     "name": "stdout",
     "output_type": "stream",
     "text": [
      "loss: [array(0.6704, dtype=float16), array(0.784, dtype=float16), array(0.708, dtype=float16), array(0.6675, dtype=float16)]\n",
      "Saved poisoned image 58 to ./data/poisons/mini_MathVista_grid+i2i_AdvDiffVLMAttack/tbl/58.png\n",
      "Time: 47.66173195838928\n",
      "image name =  24\n",
      "Data shape for DDIM sampling is (1, 3, 64, 64), eta 0.0\n",
      "Running Adversarial Sampling at 0 step\n",
      "Running DDIM Sampling with 200 timesteps\n"
     ]
    },
    {
     "name": "stderr",
     "output_type": "stream",
     "text": [
      "\n",
      "\u001b[A\n",
      "\u001b[A\n",
      "\u001b[A\n",
      "\u001b[A\n",
      "\u001b[A\n",
      "DDIM Sampler: 100%|██████████| 200/200 [00:23<00:00,  8.47it/s]\n"
     ]
    },
    {
     "name": "stdout",
     "output_type": "stream",
     "text": [
      "Data shape for DDIM sampling is (1, 3, 64, 64), eta 0.0\n",
      "Running Adversarial Sampling at 0 step\n",
      "Running DDIM Sampling with 200 timesteps\n"
     ]
    },
    {
     "name": "stderr",
     "output_type": "stream",
     "text": [
      "\n",
      "\u001b[A\n",
      "\u001b[A\n",
      "\u001b[A\n",
      "\u001b[A\n",
      "DDIM Sampler: 100%|██████████| 200/200 [00:23<00:00,  8.53it/s]\n"
     ]
    },
    {
     "name": "stdout",
     "output_type": "stream",
     "text": [
      "loss: [array(0.725, dtype=float16), array(0.8115, dtype=float16), array(0.797, dtype=float16), array(0.7217, dtype=float16)]\n",
      "Saved poisoned image 24 to ./data/poisons/mini_MathVista_grid+i2i_AdvDiffVLMAttack/tbl/24.png\n",
      "Time: 47.801151752471924\n",
      "image name =  87\n",
      "Data shape for DDIM sampling is (1, 3, 64, 64), eta 0.0\n",
      "Running Adversarial Sampling at 0 step\n",
      "Running DDIM Sampling with 200 timesteps\n"
     ]
    },
    {
     "name": "stderr",
     "output_type": "stream",
     "text": [
      "\n",
      "\u001b[A\n",
      "\u001b[A\n",
      "\u001b[A\n",
      "\u001b[A\n",
      "DDIM Sampler: 100%|██████████| 200/200 [00:23<00:00,  8.59it/s]\n"
     ]
    },
    {
     "name": "stdout",
     "output_type": "stream",
     "text": [
      "Data shape for DDIM sampling is (1, 3, 64, 64), eta 0.0\n",
      "Running Adversarial Sampling at 0 step\n",
      "Running DDIM Sampling with 200 timesteps\n"
     ]
    },
    {
     "name": "stderr",
     "output_type": "stream",
     "text": [
      "\n",
      "\u001b[A\n",
      "\u001b[A\n",
      "\u001b[A\n",
      "\u001b[A\n",
      "\u001b[A\n",
      "\u001b[A\n",
      "DDIM Sampler: 100%|██████████| 200/200 [00:23<00:00,  8.64it/s]\n"
     ]
    },
    {
     "name": "stdout",
     "output_type": "stream",
     "text": [
      "loss: [array(0.677, dtype=float16), array(0.8057, dtype=float16), array(0.7617, dtype=float16), array(0.7676, dtype=float16)]\n",
      "Saved poisoned image 87 to ./data/poisons/mini_MathVista_grid+i2i_AdvDiffVLMAttack/tbl/87.png\n",
      "Time: 47.158103227615356\n",
      "image name =  56\n",
      "Data shape for DDIM sampling is (1, 3, 64, 64), eta 0.0\n",
      "Running Adversarial Sampling at 0 step\n",
      "Running DDIM Sampling with 200 timesteps\n"
     ]
    },
    {
     "name": "stderr",
     "output_type": "stream",
     "text": [
      "\n",
      "\u001b[A\n",
      "\u001b[A\n",
      "\u001b[A\n",
      "\u001b[A\n",
      "DDIM Sampler: 100%|██████████| 200/200 [00:23<00:00,  8.47it/s]\n"
     ]
    },
    {
     "name": "stdout",
     "output_type": "stream",
     "text": [
      "Data shape for DDIM sampling is (1, 3, 64, 64), eta 0.0\n",
      "Running Adversarial Sampling at 0 step\n",
      "Running DDIM Sampling with 200 timesteps\n"
     ]
    },
    {
     "name": "stderr",
     "output_type": "stream",
     "text": [
      "\n",
      "\u001b[A\n",
      "\u001b[A\n",
      "\u001b[A\n",
      "\u001b[A\n",
      "DDIM Sampler: 100%|██████████| 200/200 [00:23<00:00,  8.53it/s]\n"
     ]
    },
    {
     "name": "stdout",
     "output_type": "stream",
     "text": [
      "loss: [array(0.64, dtype=float16), array(0.7266, dtype=float16), array(0.7344, dtype=float16), array(0.702, dtype=float16)]\n",
      "Saved poisoned image 56 to ./data/poisons/mini_MathVista_grid+i2i_AdvDiffVLMAttack/tbl/56.png\n",
      "Time: 47.76561784744263\n",
      "image name =  80\n",
      "Data shape for DDIM sampling is (1, 3, 64, 64), eta 0.0\n",
      "Running Adversarial Sampling at 0 step\n",
      "Running DDIM Sampling with 200 timesteps\n"
     ]
    },
    {
     "name": "stderr",
     "output_type": "stream",
     "text": [
      "\n",
      "\u001b[A\n",
      "\u001b[A\n",
      "\u001b[A\n",
      "\u001b[A\n",
      "DDIM Sampler: 100%|██████████| 200/200 [00:23<00:00,  8.51it/s]\n"
     ]
    },
    {
     "name": "stdout",
     "output_type": "stream",
     "text": [
      "Data shape for DDIM sampling is (1, 3, 64, 64), eta 0.0\n",
      "Running Adversarial Sampling at 0 step\n",
      "Running DDIM Sampling with 200 timesteps\n"
     ]
    },
    {
     "name": "stderr",
     "output_type": "stream",
     "text": [
      "\n",
      "\u001b[A\n",
      "\u001b[A\n",
      "\u001b[A\n",
      "\u001b[A\n",
      "DDIM Sampler: 100%|██████████| 200/200 [00:23<00:00,  8.48it/s]\n"
     ]
    },
    {
     "name": "stdout",
     "output_type": "stream",
     "text": [
      "loss: [array(0.8457, dtype=float16), array(0.853, dtype=float16), array(0.8003, dtype=float16), array(0.801, dtype=float16)]\n",
      "Saved poisoned image 80 to ./data/poisons/mini_MathVista_grid+i2i_AdvDiffVLMAttack/tbl/80.png\n",
      "Time: 47.822922468185425\n",
      "image name =  51\n",
      "Data shape for DDIM sampling is (1, 3, 64, 64), eta 0.0\n",
      "Running Adversarial Sampling at 0 step\n",
      "Running DDIM Sampling with 200 timesteps\n"
     ]
    },
    {
     "name": "stderr",
     "output_type": "stream",
     "text": [
      "\n",
      "\u001b[A\n",
      "\u001b[A\n",
      "\u001b[A\n",
      "\u001b[A\n",
      "\u001b[A\n",
      "DDIM Sampler: 100%|██████████| 200/200 [00:23<00:00,  8.66it/s]\n"
     ]
    },
    {
     "name": "stdout",
     "output_type": "stream",
     "text": [
      "Data shape for DDIM sampling is (1, 3, 64, 64), eta 0.0\n",
      "Running Adversarial Sampling at 0 step\n",
      "Running DDIM Sampling with 200 timesteps\n"
     ]
    },
    {
     "name": "stderr",
     "output_type": "stream",
     "text": [
      "\n",
      "\u001b[A\n",
      "\u001b[A\n",
      "\u001b[A\n",
      "\u001b[A\n",
      "DDIM Sampler: 100%|██████████| 200/200 [00:23<00:00,  8.46it/s]\n"
     ]
    },
    {
     "name": "stdout",
     "output_type": "stream",
     "text": [
      "loss: [array(0.6274, dtype=float16), array(0.7183, dtype=float16), array(0.658, dtype=float16), array(0.64, dtype=float16)]\n",
      "Saved poisoned image 51 to ./data/poisons/mini_MathVista_grid+i2i_AdvDiffVLMAttack/tbl/51.png\n",
      "Time: 47.48413324356079\n",
      "image name =  74\n",
      "Data shape for DDIM sampling is (1, 3, 64, 64), eta 0.0\n",
      "Running Adversarial Sampling at 0 step\n",
      "Running DDIM Sampling with 200 timesteps\n"
     ]
    },
    {
     "name": "stderr",
     "output_type": "stream",
     "text": [
      "\n",
      "\u001b[A\n",
      "\u001b[A\n",
      "\u001b[A\n",
      "\u001b[A\n",
      "DDIM Sampler: 100%|██████████| 200/200 [00:23<00:00,  8.52it/s]\n"
     ]
    },
    {
     "name": "stdout",
     "output_type": "stream",
     "text": [
      "Data shape for DDIM sampling is (1, 3, 64, 64), eta 0.0\n",
      "Running Adversarial Sampling at 0 step\n",
      "Running DDIM Sampling with 200 timesteps\n"
     ]
    },
    {
     "name": "stderr",
     "output_type": "stream",
     "text": [
      "\n",
      "\u001b[A\n",
      "\u001b[A\n",
      "\u001b[A\n",
      "\u001b[A\n",
      "\u001b[A\n",
      "\u001b[A\n",
      "DDIM Sampler: 100%|██████████| 200/200 [00:23<00:00,  8.56it/s]\n"
     ]
    },
    {
     "name": "stdout",
     "output_type": "stream",
     "text": [
      "loss: [array(0.7485, dtype=float16), array(0.838, dtype=float16), array(0.776, dtype=float16), array(0.7617, dtype=float16)]\n",
      "Saved poisoned image 74 to ./data/poisons/mini_MathVista_grid+i2i_AdvDiffVLMAttack/tbl/74.png\n",
      "Time: 47.570162296295166\n",
      "image name =  73\n",
      "Data shape for DDIM sampling is (1, 3, 64, 64), eta 0.0\n",
      "Running Adversarial Sampling at 0 step\n",
      "Running DDIM Sampling with 200 timesteps\n"
     ]
    },
    {
     "name": "stderr",
     "output_type": "stream",
     "text": [
      "\n",
      "\u001b[A\n",
      "\u001b[A\n",
      "\u001b[A\n",
      "\u001b[A\n",
      "DDIM Sampler: 100%|██████████| 200/200 [00:23<00:00,  8.51it/s]\n"
     ]
    },
    {
     "name": "stdout",
     "output_type": "stream",
     "text": [
      "Data shape for DDIM sampling is (1, 3, 64, 64), eta 0.0\n",
      "Running Adversarial Sampling at 0 step\n",
      "Running DDIM Sampling with 200 timesteps\n"
     ]
    },
    {
     "name": "stderr",
     "output_type": "stream",
     "text": [
      "\n",
      "\u001b[A\n",
      "\u001b[A\n",
      "\u001b[A\n",
      "\u001b[A\n",
      "DDIM Sampler: 100%|██████████| 200/200 [00:23<00:00,  8.50it/s]\n"
     ]
    },
    {
     "name": "stdout",
     "output_type": "stream",
     "text": [
      "loss: [array(0.686, dtype=float16), array(0.769, dtype=float16), array(0.7573, dtype=float16), array(0.6543, dtype=float16)]\n",
      "Saved poisoned image 73 to ./data/poisons/mini_MathVista_grid+i2i_AdvDiffVLMAttack/tbl/73.png\n",
      "Time: 47.79260873794556\n",
      "image name =  33\n",
      "Data shape for DDIM sampling is (1, 3, 64, 64), eta 0.0\n",
      "Running Adversarial Sampling at 0 step\n",
      "Running DDIM Sampling with 200 timesteps\n"
     ]
    },
    {
     "name": "stderr",
     "output_type": "stream",
     "text": [
      "\n",
      "\u001b[A\n",
      "\u001b[A\n",
      "\u001b[A\n",
      "\u001b[A\n",
      "DDIM Sampler: 100%|██████████| 200/200 [00:23<00:00,  8.52it/s]\n"
     ]
    },
    {
     "name": "stdout",
     "output_type": "stream",
     "text": [
      "Data shape for DDIM sampling is (1, 3, 64, 64), eta 0.0\n",
      "Running Adversarial Sampling at 0 step\n",
      "Running DDIM Sampling with 200 timesteps\n"
     ]
    },
    {
     "name": "stderr",
     "output_type": "stream",
     "text": [
      "\n",
      "\u001b[A\n",
      "\u001b[A\n",
      "\u001b[A\n",
      "\u001b[A\n",
      "DDIM Sampler: 100%|██████████| 200/200 [00:23<00:00,  8.60it/s]\n"
     ]
    },
    {
     "name": "stdout",
     "output_type": "stream",
     "text": [
      "loss: [array(0.7207, dtype=float16), array(0.8164, dtype=float16), array(0.7925, dtype=float16), array(0.691, dtype=float16)]\n",
      "Saved poisoned image 33 to ./data/poisons/mini_MathVista_grid+i2i_AdvDiffVLMAttack/tbl/33.png\n",
      "Time: 47.43228888511658\n",
      "image name =  48\n",
      "Data shape for DDIM sampling is (1, 3, 64, 64), eta 0.0\n",
      "Running Adversarial Sampling at 0 step\n",
      "Running DDIM Sampling with 200 timesteps\n"
     ]
    },
    {
     "name": "stderr",
     "output_type": "stream",
     "text": [
      "\n",
      "\u001b[A\n",
      "\u001b[A\n",
      "\u001b[A\n",
      "\u001b[A\n",
      "\u001b[A\n",
      "\u001b[A\n",
      "DDIM Sampler: 100%|██████████| 200/200 [00:23<00:00,  8.58it/s]\n"
     ]
    },
    {
     "name": "stdout",
     "output_type": "stream",
     "text": [
      "Data shape for DDIM sampling is (1, 3, 64, 64), eta 0.0\n",
      "Running Adversarial Sampling at 0 step\n",
      "Running DDIM Sampling with 200 timesteps\n"
     ]
    },
    {
     "name": "stderr",
     "output_type": "stream",
     "text": [
      "\n",
      "\u001b[A\n",
      "\u001b[A\n",
      "\u001b[A\n",
      "\u001b[A\n",
      "DDIM Sampler: 100%|██████████| 200/200 [00:23<00:00,  8.62it/s]\n"
     ]
    },
    {
     "name": "stdout",
     "output_type": "stream",
     "text": [
      "loss: [array(0.677, dtype=float16), array(0.785, dtype=float16), array(0.743, dtype=float16), array(0.687, dtype=float16)]\n",
      "Saved poisoned image 48 to ./data/poisons/mini_MathVista_grid+i2i_AdvDiffVLMAttack/tbl/48.png\n",
      "Time: 47.20775842666626\n",
      "image name =  99\n",
      "Data shape for DDIM sampling is (1, 3, 64, 64), eta 0.0\n",
      "Running Adversarial Sampling at 0 step\n",
      "Running DDIM Sampling with 200 timesteps\n"
     ]
    },
    {
     "name": "stderr",
     "output_type": "stream",
     "text": [
      "\n",
      "\u001b[A\n",
      "\u001b[A\n",
      "\u001b[A\n",
      "\u001b[A\n",
      "DDIM Sampler: 100%|██████████| 200/200 [00:23<00:00,  8.49it/s]\n"
     ]
    },
    {
     "name": "stdout",
     "output_type": "stream",
     "text": [
      "Data shape for DDIM sampling is (1, 3, 64, 64), eta 0.0\n",
      "Running Adversarial Sampling at 0 step\n",
      "Running DDIM Sampling with 200 timesteps\n"
     ]
    },
    {
     "name": "stderr",
     "output_type": "stream",
     "text": [
      "\n",
      "\u001b[A\n",
      "\u001b[A\n",
      "\u001b[A\n",
      "\u001b[A\n",
      "\u001b[A\n",
      "\u001b[A\n",
      "DDIM Sampler: 100%|██████████| 200/200 [00:23<00:00,  8.65it/s]\n"
     ]
    },
    {
     "name": "stdout",
     "output_type": "stream",
     "text": [
      "loss: [array(0.674, dtype=float16), array(0.7627, dtype=float16), array(0.756, dtype=float16), array(0.6636, dtype=float16)]\n",
      "Saved poisoned image 99 to ./data/poisons/mini_MathVista_grid+i2i_AdvDiffVLMAttack/tbl/99.png\n",
      "Time: 47.40281367301941\n",
      "image name =  34\n",
      "Data shape for DDIM sampling is (1, 3, 64, 64), eta 0.0\n",
      "Running Adversarial Sampling at 0 step\n",
      "Running DDIM Sampling with 200 timesteps\n"
     ]
    },
    {
     "name": "stderr",
     "output_type": "stream",
     "text": [
      "\n",
      "\u001b[A\n",
      "\u001b[A\n",
      "\u001b[A\n",
      "\u001b[A\n",
      "DDIM Sampler: 100%|██████████| 200/200 [00:23<00:00,  8.50it/s]\n"
     ]
    },
    {
     "name": "stdout",
     "output_type": "stream",
     "text": [
      "Data shape for DDIM sampling is (1, 3, 64, 64), eta 0.0\n",
      "Running Adversarial Sampling at 0 step\n",
      "Running DDIM Sampling with 200 timesteps\n"
     ]
    },
    {
     "name": "stderr",
     "output_type": "stream",
     "text": [
      "\n",
      "\u001b[A\n",
      "\u001b[A\n",
      "\u001b[A\n",
      "\u001b[A\n",
      "DDIM Sampler: 100%|██████████| 200/200 [00:23<00:00,  8.51it/s]\n"
     ]
    },
    {
     "name": "stdout",
     "output_type": "stream",
     "text": [
      "loss: [array(0.7144, dtype=float16), array(0.8022, dtype=float16), array(0.8164, dtype=float16), array(0.7676, dtype=float16)]\n",
      "Saved poisoned image 34 to ./data/poisons/mini_MathVista_grid+i2i_AdvDiffVLMAttack/tbl/34.png\n",
      "Time: 47.775851249694824\n",
      "image name =  46\n",
      "Data shape for DDIM sampling is (1, 3, 64, 64), eta 0.0\n",
      "Running Adversarial Sampling at 0 step\n",
      "Running DDIM Sampling with 200 timesteps\n"
     ]
    },
    {
     "name": "stderr",
     "output_type": "stream",
     "text": [
      "\n",
      "\u001b[A\n",
      "\u001b[A\n",
      "\u001b[A\n",
      "\u001b[A\n",
      "DDIM Sampler: 100%|██████████| 200/200 [00:23<00:00,  8.59it/s]\n"
     ]
    },
    {
     "name": "stdout",
     "output_type": "stream",
     "text": [
      "Data shape for DDIM sampling is (1, 3, 64, 64), eta 0.0\n",
      "Running Adversarial Sampling at 0 step\n",
      "Running DDIM Sampling with 200 timesteps\n"
     ]
    },
    {
     "name": "stderr",
     "output_type": "stream",
     "text": [
      "\n",
      "\u001b[A\n",
      "\u001b[A\n",
      "\u001b[A\n",
      "\u001b[A\n",
      "DDIM Sampler: 100%|██████████| 200/200 [00:23<00:00,  8.48it/s]\n"
     ]
    },
    {
     "name": "stdout",
     "output_type": "stream",
     "text": [
      "loss: [array(0.7666, dtype=float16), array(0.803, dtype=float16), array(0.8184, dtype=float16), array(0.8086, dtype=float16)]\n",
      "Saved poisoned image 46 to ./data/poisons/mini_MathVista_grid+i2i_AdvDiffVLMAttack/tbl/46.png\n",
      "Time: 47.57703471183777\n",
      "image name =  97\n",
      "Data shape for DDIM sampling is (1, 3, 64, 64), eta 0.0\n",
      "Running Adversarial Sampling at 0 step\n",
      "Running DDIM Sampling with 200 timesteps\n"
     ]
    },
    {
     "name": "stderr",
     "output_type": "stream",
     "text": [
      "\n",
      "\u001b[A\n",
      "\u001b[A\n",
      "\u001b[A\n",
      "\u001b[A\n",
      "\u001b[A\n",
      "\u001b[A\n",
      "DDIM Sampler: 100%|██████████| 200/200 [00:23<00:00,  8.57it/s]\n"
     ]
    },
    {
     "name": "stdout",
     "output_type": "stream",
     "text": [
      "Data shape for DDIM sampling is (1, 3, 64, 64), eta 0.0\n",
      "Running Adversarial Sampling at 0 step\n",
      "Running DDIM Sampling with 200 timesteps\n"
     ]
    },
    {
     "name": "stderr",
     "output_type": "stream",
     "text": [
      "\n",
      "\u001b[A\n",
      "\u001b[A\n",
      "\u001b[A\n",
      "\u001b[A\n",
      "DDIM Sampler: 100%|██████████| 200/200 [00:23<00:00,  8.60it/s]\n"
     ]
    },
    {
     "name": "stdout",
     "output_type": "stream",
     "text": [
      "loss: [array(0.7886, dtype=float16), array(0.8394, dtype=float16), array(0.8286, dtype=float16), array(0.839, dtype=float16)]\n",
      "Saved poisoned image 97 to ./data/poisons/mini_MathVista_grid+i2i_AdvDiffVLMAttack/tbl/97.png\n",
      "Time: 47.33273386955261\n",
      "image name =  41\n",
      "Data shape for DDIM sampling is (1, 3, 64, 64), eta 0.0\n",
      "Running Adversarial Sampling at 0 step\n",
      "Running DDIM Sampling with 200 timesteps\n"
     ]
    },
    {
     "name": "stderr",
     "output_type": "stream",
     "text": [
      "\n",
      "\u001b[A\n",
      "\u001b[A\n",
      "\u001b[A\n",
      "\u001b[A\n",
      "DDIM Sampler: 100%|██████████| 200/200 [00:23<00:00,  8.58it/s]\n"
     ]
    },
    {
     "name": "stdout",
     "output_type": "stream",
     "text": [
      "Data shape for DDIM sampling is (1, 3, 64, 64), eta 0.0\n",
      "Running Adversarial Sampling at 0 step\n",
      "Running DDIM Sampling with 200 timesteps\n"
     ]
    },
    {
     "name": "stderr",
     "output_type": "stream",
     "text": [
      "\n",
      "\u001b[A\n",
      "\u001b[A\n",
      "\u001b[A\n",
      "\u001b[A\n",
      "\u001b[A\n",
      "\u001b[A\n",
      "DDIM Sampler: 100%|██████████| 200/200 [00:23<00:00,  8.61it/s]\n"
     ]
    },
    {
     "name": "stdout",
     "output_type": "stream",
     "text": [
      "loss: [array(0.7134, dtype=float16), array(0.755, dtype=float16), array(0.693, dtype=float16), array(0.6104, dtype=float16)]\n",
      "Saved poisoned image 41 to ./data/poisons/mini_MathVista_grid+i2i_AdvDiffVLMAttack/tbl/41.png\n",
      "Time: 47.31558918952942\n",
      "image name =  90\n",
      "Data shape for DDIM sampling is (1, 3, 64, 64), eta 0.0\n",
      "Running Adversarial Sampling at 0 step\n",
      "Running DDIM Sampling with 200 timesteps\n"
     ]
    },
    {
     "name": "stderr",
     "output_type": "stream",
     "text": [
      "\n",
      "\u001b[A\n",
      "\u001b[A\n",
      "\u001b[A\n",
      "\u001b[A\n",
      "DDIM Sampler: 100%|██████████| 200/200 [00:23<00:00,  8.49it/s]\n"
     ]
    },
    {
     "name": "stdout",
     "output_type": "stream",
     "text": [
      "Data shape for DDIM sampling is (1, 3, 64, 64), eta 0.0\n",
      "Running Adversarial Sampling at 0 step\n",
      "Running DDIM Sampling with 200 timesteps\n"
     ]
    },
    {
     "name": "stderr",
     "output_type": "stream",
     "text": [
      "\n",
      "\u001b[A\n",
      "\u001b[A\n",
      "\u001b[A\n",
      "\u001b[A\n",
      "DDIM Sampler: 100%|██████████| 200/200 [00:23<00:00,  8.52it/s]\n"
     ]
    },
    {
     "name": "stdout",
     "output_type": "stream",
     "text": [
      "loss: [array(0.672, dtype=float16), array(0.784, dtype=float16), array(0.7583, dtype=float16), array(0.705, dtype=float16)]\n",
      "Saved poisoned image 90 to ./data/poisons/mini_MathVista_grid+i2i_AdvDiffVLMAttack/tbl/90.png\n",
      "Time: 47.77159142494202\n",
      "image name =  81\n",
      "Data shape for DDIM sampling is (1, 3, 64, 64), eta 0.0\n",
      "Running Adversarial Sampling at 0 step\n",
      "Running DDIM Sampling with 200 timesteps\n"
     ]
    },
    {
     "name": "stderr",
     "output_type": "stream",
     "text": [
      "\n",
      "\u001b[A\n",
      "\u001b[A\n",
      "\u001b[A\n",
      "\u001b[A\n",
      "DDIM Sampler: 100%|██████████| 200/200 [00:23<00:00,  8.60it/s]\n"
     ]
    },
    {
     "name": "stdout",
     "output_type": "stream",
     "text": [
      "Data shape for DDIM sampling is (1, 3, 64, 64), eta 0.0\n",
      "Running Adversarial Sampling at 0 step\n",
      "Running DDIM Sampling with 200 timesteps\n"
     ]
    },
    {
     "name": "stderr",
     "output_type": "stream",
     "text": [
      "\n",
      "\u001b[A\n",
      "\u001b[A\n",
      "\u001b[A\n",
      "\u001b[A\n",
      "DDIM Sampler: 100%|██████████| 200/200 [00:23<00:00,  8.65it/s]\n"
     ]
    },
    {
     "name": "stdout",
     "output_type": "stream",
     "text": [
      "loss: [array(0.6587, dtype=float16), array(0.7803, dtype=float16), array(0.765, dtype=float16), array(0.712, dtype=float16)]\n",
      "Saved poisoned image 81 to ./data/poisons/mini_MathVista_grid+i2i_AdvDiffVLMAttack/tbl/81.png\n",
      "Time: 47.13935899734497\n",
      "image name =  50\n",
      "Data shape for DDIM sampling is (1, 3, 64, 64), eta 0.0\n",
      "Running Adversarial Sampling at 0 step\n",
      "Running DDIM Sampling with 200 timesteps\n"
     ]
    },
    {
     "name": "stderr",
     "output_type": "stream",
     "text": [
      "\n",
      "\u001b[A\n",
      "\u001b[A\n",
      "\u001b[A\n",
      "\u001b[A\n",
      "\u001b[A\n",
      "DDIM Sampler: 100%|██████████| 200/200 [00:23<00:00,  8.52it/s]\n"
     ]
    },
    {
     "name": "stdout",
     "output_type": "stream",
     "text": [
      "Data shape for DDIM sampling is (1, 3, 64, 64), eta 0.0\n",
      "Running Adversarial Sampling at 0 step\n",
      "Running DDIM Sampling with 200 timesteps\n"
     ]
    },
    {
     "name": "stderr",
     "output_type": "stream",
     "text": [
      "\n",
      "\u001b[A\n",
      "\u001b[A\n",
      "\u001b[A\n",
      "\u001b[A\n",
      "DDIM Sampler: 100%|██████████| 200/200 [00:23<00:00,  8.51it/s]\n"
     ]
    },
    {
     "name": "stdout",
     "output_type": "stream",
     "text": [
      "loss: [array(0.7793, dtype=float16), array(0.8574, dtype=float16), array(0.799, dtype=float16), array(0.7373, dtype=float16)]\n",
      "Saved poisoned image 50 to ./data/poisons/mini_MathVista_grid+i2i_AdvDiffVLMAttack/tbl/50.png\n",
      "Time: 47.70680570602417\n",
      "image name =  86\n",
      "Data shape for DDIM sampling is (1, 3, 64, 64), eta 0.0\n",
      "Running Adversarial Sampling at 0 step\n",
      "Running DDIM Sampling with 200 timesteps\n"
     ]
    },
    {
     "name": "stderr",
     "output_type": "stream",
     "text": [
      "\n",
      "\u001b[A\n",
      "\u001b[A\n",
      "\u001b[A\n",
      "\u001b[A\n",
      "DDIM Sampler: 100%|██████████| 200/200 [00:23<00:00,  8.52it/s]\n"
     ]
    },
    {
     "name": "stdout",
     "output_type": "stream",
     "text": [
      "Data shape for DDIM sampling is (1, 3, 64, 64), eta 0.0\n",
      "Running Adversarial Sampling at 0 step\n",
      "Running DDIM Sampling with 200 timesteps\n"
     ]
    },
    {
     "name": "stderr",
     "output_type": "stream",
     "text": [
      "\n",
      "\u001b[A\n",
      "\u001b[A\n",
      "\u001b[A\n",
      "\u001b[A\n",
      "\u001b[A\n",
      "\u001b[A\n",
      "DDIM Sampler: 100%|██████████| 200/200 [00:23<00:00,  8.49it/s]\n"
     ]
    },
    {
     "name": "stdout",
     "output_type": "stream",
     "text": [
      "loss: [array(0.8374, dtype=float16), array(0.891, dtype=float16), array(0.8745, dtype=float16), array(0.8296, dtype=float16)]\n",
      "Saved poisoned image 86 to ./data/poisons/mini_MathVista_grid+i2i_AdvDiffVLMAttack/tbl/86.png\n",
      "Time: 47.77792239189148\n",
      "image name =  57\n",
      "Data shape for DDIM sampling is (1, 3, 64, 64), eta 0.0\n",
      "Running Adversarial Sampling at 0 step\n",
      "Running DDIM Sampling with 200 timesteps\n"
     ]
    },
    {
     "name": "stderr",
     "output_type": "stream",
     "text": [
      "\n",
      "\u001b[A\n",
      "\u001b[A\n",
      "\u001b[A\n",
      "\u001b[A\n",
      "DDIM Sampler: 100%|██████████| 200/200 [00:23<00:00,  8.49it/s]\n"
     ]
    },
    {
     "name": "stdout",
     "output_type": "stream",
     "text": [
      "Data shape for DDIM sampling is (1, 3, 64, 64), eta 0.0\n",
      "Running Adversarial Sampling at 0 step\n",
      "Running DDIM Sampling with 200 timesteps\n"
     ]
    },
    {
     "name": "stderr",
     "output_type": "stream",
     "text": [
      "\n",
      "\u001b[A\n",
      "\u001b[A\n",
      "\u001b[A\n",
      "\u001b[A\n",
      "DDIM Sampler: 100%|██████████| 200/200 [00:23<00:00,  8.49it/s]\n"
     ]
    },
    {
     "name": "stdout",
     "output_type": "stream",
     "text": [
      "loss: [array(0.7153, dtype=float16), array(0.811, dtype=float16), array(0.772, dtype=float16), array(0.7393, dtype=float16)]\n",
      "Saved poisoned image 57 to ./data/poisons/mini_MathVista_grid+i2i_AdvDiffVLMAttack/tbl/57.png\n",
      "Time: 47.831355571746826\n",
      "image name =  88\n",
      "Data shape for DDIM sampling is (1, 3, 64, 64), eta 0.0\n",
      "Running Adversarial Sampling at 0 step\n",
      "Running DDIM Sampling with 200 timesteps\n"
     ]
    },
    {
     "name": "stderr",
     "output_type": "stream",
     "text": [
      "\n",
      "\u001b[A\n",
      "\u001b[A\n",
      "\u001b[A\n",
      "\u001b[A\n",
      "DDIM Sampler: 100%|██████████| 200/200 [00:23<00:00,  8.53it/s]\n"
     ]
    },
    {
     "name": "stdout",
     "output_type": "stream",
     "text": [
      "Data shape for DDIM sampling is (1, 3, 64, 64), eta 0.0\n",
      "Running Adversarial Sampling at 0 step\n",
      "Running DDIM Sampling with 200 timesteps\n"
     ]
    },
    {
     "name": "stderr",
     "output_type": "stream",
     "text": [
      "\n",
      "\u001b[A\n",
      "\u001b[A\n",
      "\u001b[A\n",
      "\u001b[A\n",
      "DDIM Sampler: 100%|██████████| 200/200 [00:23<00:00,  8.56it/s]\n"
     ]
    },
    {
     "name": "stdout",
     "output_type": "stream",
     "text": [
      "loss: [array(0.7627, dtype=float16), array(0.8584, dtype=float16), array(0.7847, dtype=float16), array(0.7837, dtype=float16)]\n",
      "Saved poisoned image 88 to ./data/poisons/mini_MathVista_grid+i2i_AdvDiffVLMAttack/tbl/88.png\n",
      "Time: 47.51277732849121\n",
      "image name =  59\n",
      "Data shape for DDIM sampling is (1, 3, 64, 64), eta 0.0\n",
      "Running Adversarial Sampling at 0 step\n",
      "Running DDIM Sampling with 200 timesteps\n"
     ]
    },
    {
     "name": "stderr",
     "output_type": "stream",
     "text": [
      "\n",
      "\u001b[A\n",
      "\u001b[A\n",
      "\u001b[A\n",
      "\u001b[A\n",
      "\u001b[A\n",
      "\u001b[A\n",
      "DDIM Sampler: 100%|██████████| 200/200 [00:23<00:00,  8.49it/s]\n"
     ]
    },
    {
     "name": "stdout",
     "output_type": "stream",
     "text": [
      "Data shape for DDIM sampling is (1, 3, 64, 64), eta 0.0\n",
      "Running Adversarial Sampling at 0 step\n",
      "Running DDIM Sampling with 200 timesteps\n"
     ]
    },
    {
     "name": "stderr",
     "output_type": "stream",
     "text": [
      "\n",
      "\u001b[A\n",
      "\u001b[A\n",
      "\u001b[A\n",
      "\u001b[A\n",
      "DDIM Sampler: 100%|██████████| 200/200 [00:23<00:00,  8.53it/s]\n"
     ]
    },
    {
     "name": "stdout",
     "output_type": "stream",
     "text": [
      "loss: [array(0.7246, dtype=float16), array(0.818, dtype=float16), array(0.79, dtype=float16), array(0.7124, dtype=float16)]\n",
      "Saved poisoned image 59 to ./data/poisons/mini_MathVista_grid+i2i_AdvDiffVLMAttack/tbl/59.png\n",
      "Time: 47.73013186454773\n",
      "image name =  25\n",
      "Data shape for DDIM sampling is (1, 3, 64, 64), eta 0.0\n",
      "Running Adversarial Sampling at 0 step\n",
      "Running DDIM Sampling with 200 timesteps\n"
     ]
    },
    {
     "name": "stderr",
     "output_type": "stream",
     "text": [
      "\n",
      "\u001b[A\n",
      "\u001b[A\n",
      "\u001b[A\n",
      "\u001b[A\n",
      "DDIM Sampler: 100%|██████████| 200/200 [00:22<00:00,  8.70it/s]\n"
     ]
    },
    {
     "name": "stdout",
     "output_type": "stream",
     "text": [
      "Data shape for DDIM sampling is (1, 3, 64, 64), eta 0.0\n",
      "Running Adversarial Sampling at 0 step\n",
      "Running DDIM Sampling with 200 timesteps\n"
     ]
    },
    {
     "name": "stderr",
     "output_type": "stream",
     "text": [
      "\n",
      "\u001b[A\n",
      "\u001b[A\n",
      "\u001b[A\n",
      "\u001b[A\n",
      "\u001b[A\n",
      "\u001b[A\n",
      "DDIM Sampler: 100%|██████████| 200/200 [00:23<00:00,  8.63it/s]\n"
     ]
    },
    {
     "name": "stdout",
     "output_type": "stream",
     "text": [
      "loss: [array(0.816, dtype=float16), array(0.8613, dtype=float16), array(0.828, dtype=float16), array(0.766, dtype=float16)]\n",
      "Saved poisoned image 25 to ./data/poisons/mini_MathVista_grid+i2i_AdvDiffVLMAttack/tbl/25.png\n",
      "Time: 46.9109833240509\n",
      "image name =  22\n",
      "Data shape for DDIM sampling is (1, 3, 64, 64), eta 0.0\n",
      "Running Adversarial Sampling at 0 step\n",
      "Running DDIM Sampling with 200 timesteps\n"
     ]
    },
    {
     "name": "stderr",
     "output_type": "stream",
     "text": [
      "\n",
      "\u001b[A\n",
      "\u001b[A\n",
      "\u001b[A\n",
      "\u001b[A\n",
      "DDIM Sampler: 100%|██████████| 200/200 [00:23<00:00,  8.50it/s]\n"
     ]
    },
    {
     "name": "stdout",
     "output_type": "stream",
     "text": [
      "Data shape for DDIM sampling is (1, 3, 64, 64), eta 0.0\n",
      "Running Adversarial Sampling at 0 step\n",
      "Running DDIM Sampling with 200 timesteps\n"
     ]
    },
    {
     "name": "stderr",
     "output_type": "stream",
     "text": [
      "\n",
      "\u001b[A\n",
      "\u001b[A\n",
      "\u001b[A\n",
      "\u001b[A\n",
      "DDIM Sampler: 100%|██████████| 200/200 [00:23<00:00,  8.54it/s]\n"
     ]
    },
    {
     "name": "stdout",
     "output_type": "stream",
     "text": [
      "loss: [array(0.707, dtype=float16), array(0.7925, dtype=float16), array(0.7676, dtype=float16), array(0.679, dtype=float16)]\n",
      "Saved poisoned image 22 to ./data/poisons/mini_MathVista_grid+i2i_AdvDiffVLMAttack/tbl/22.png\n",
      "Time: 47.73434925079346\n",
      "image name =  17\n",
      "Data shape for DDIM sampling is (1, 3, 64, 64), eta 0.0\n",
      "Running Adversarial Sampling at 0 step\n",
      "Running DDIM Sampling with 200 timesteps\n"
     ]
    },
    {
     "name": "stderr",
     "output_type": "stream",
     "text": [
      "\n",
      "\u001b[A\n",
      "\u001b[A\n",
      "\u001b[A\n",
      "\u001b[A\n",
      "DDIM Sampler: 100%|██████████| 200/200 [00:23<00:00,  8.55it/s]\n"
     ]
    },
    {
     "name": "stdout",
     "output_type": "stream",
     "text": [
      "Data shape for DDIM sampling is (1, 3, 64, 64), eta 0.0\n",
      "Running Adversarial Sampling at 0 step\n",
      "Running DDIM Sampling with 200 timesteps\n"
     ]
    },
    {
     "name": "stderr",
     "output_type": "stream",
     "text": [
      "\n",
      "\u001b[A\n",
      "\u001b[A\n",
      "\u001b[A\n",
      "\u001b[A\n",
      "DDIM Sampler: 100%|██████████| 200/200 [00:23<00:00,  8.49it/s]\n"
     ]
    },
    {
     "name": "stdout",
     "output_type": "stream",
     "text": [
      "loss: [array(0.7266, dtype=float16), array(0.8276, dtype=float16), array(0.7803, dtype=float16), array(0.7036, dtype=float16)]\n",
      "Saved poisoned image 17 to ./data/poisons/mini_MathVista_grid+i2i_AdvDiffVLMAttack/tbl/17.png\n",
      "Time: 47.63971185684204\n",
      "image name =  1\n",
      "Data shape for DDIM sampling is (1, 3, 64, 64), eta 0.0\n",
      "Running Adversarial Sampling at 0 step\n",
      "Running DDIM Sampling with 200 timesteps\n"
     ]
    },
    {
     "name": "stderr",
     "output_type": "stream",
     "text": [
      "\n",
      "\u001b[A\n",
      "\u001b[A\n",
      "\u001b[A\n",
      "\u001b[A\n",
      "\u001b[A\n",
      "DDIM Sampler: 100%|██████████| 200/200 [00:23<00:00,  8.63it/s]\n"
     ]
    },
    {
     "name": "stdout",
     "output_type": "stream",
     "text": [
      "Data shape for DDIM sampling is (1, 3, 64, 64), eta 0.0\n",
      "Running Adversarial Sampling at 0 step\n",
      "Running DDIM Sampling with 200 timesteps\n"
     ]
    },
    {
     "name": "stderr",
     "output_type": "stream",
     "text": [
      "\n",
      "\u001b[A\n",
      "\u001b[A\n",
      "\u001b[A\n",
      "\u001b[A\n",
      "DDIM Sampler: 100%|██████████| 200/200 [00:23<00:00,  8.49it/s]\n"
     ]
    },
    {
     "name": "stdout",
     "output_type": "stream",
     "text": [
      "loss: [array(0.8228, dtype=float16), array(0.8774, dtype=float16), array(0.8384, dtype=float16), array(0.813, dtype=float16)]\n",
      "Saved poisoned image 1 to ./data/poisons/mini_MathVista_grid+i2i_AdvDiffVLMAttack/tbl/1.png\n",
      "Time: 47.455599784851074\n",
      "image name =  6\n",
      "Data shape for DDIM sampling is (1, 3, 64, 64), eta 0.0\n",
      "Running Adversarial Sampling at 0 step\n",
      "Running DDIM Sampling with 200 timesteps\n"
     ]
    },
    {
     "name": "stderr",
     "output_type": "stream",
     "text": [
      "\n",
      "\u001b[A\n",
      "\u001b[A\n",
      "\u001b[A\n",
      "\u001b[A\n",
      "DDIM Sampler: 100%|██████████| 200/200 [00:23<00:00,  8.62it/s]\n"
     ]
    },
    {
     "name": "stdout",
     "output_type": "stream",
     "text": [
      "Data shape for DDIM sampling is (1, 3, 64, 64), eta 0.0\n",
      "Running Adversarial Sampling at 0 step\n",
      "Running DDIM Sampling with 200 timesteps\n"
     ]
    },
    {
     "name": "stderr",
     "output_type": "stream",
     "text": [
      "\n",
      "\u001b[A\n",
      "\u001b[A\n",
      "\u001b[A\n",
      "\u001b[A\n",
      "\u001b[A\n",
      "\u001b[A\n",
      "DDIM Sampler: 100%|██████████| 200/200 [00:23<00:00,  8.64it/s]\n"
     ]
    },
    {
     "name": "stdout",
     "output_type": "stream",
     "text": [
      "loss: [array(0.7583, dtype=float16), array(0.8325, dtype=float16), array(0.814, dtype=float16), array(0.7217, dtype=float16)]\n",
      "Saved poisoned image 6 to ./data/poisons/mini_MathVista_grid+i2i_AdvDiffVLMAttack/tbl/6.png\n",
      "Time: 47.08297276496887\n",
      "image name =  10\n",
      "Data shape for DDIM sampling is (1, 3, 64, 64), eta 0.0\n",
      "Running Adversarial Sampling at 0 step\n",
      "Running DDIM Sampling with 200 timesteps\n"
     ]
    },
    {
     "name": "stderr",
     "output_type": "stream",
     "text": [
      "\n",
      "\u001b[A\n",
      "\u001b[A\n",
      "\u001b[A\n",
      "\u001b[A\n",
      "DDIM Sampler: 100%|██████████| 200/200 [00:23<00:00,  8.50it/s]\n"
     ]
    },
    {
     "name": "stdout",
     "output_type": "stream",
     "text": [
      "Data shape for DDIM sampling is (1, 3, 64, 64), eta 0.0\n",
      "Running Adversarial Sampling at 0 step\n",
      "Running DDIM Sampling with 200 timesteps\n"
     ]
    },
    {
     "name": "stderr",
     "output_type": "stream",
     "text": [
      "\n",
      "\u001b[A\n",
      "\u001b[A\n",
      "\u001b[A\n",
      "\u001b[A\n",
      "DDIM Sampler: 100%|██████████| 200/200 [00:23<00:00,  8.44it/s]\n"
     ]
    },
    {
     "name": "stdout",
     "output_type": "stream",
     "text": [
      "loss: [array(0.644, dtype=float16), array(0.736, dtype=float16), array(0.698, dtype=float16), array(0.6436, dtype=float16)]\n",
      "Saved poisoned image 10 to ./data/poisons/mini_MathVista_grid+i2i_AdvDiffVLMAttack/tbl/10.png\n",
      "Time: 47.97715497016907\n",
      "image name =  62\n",
      "Data shape for DDIM sampling is (1, 3, 64, 64), eta 0.0\n",
      "Running Adversarial Sampling at 0 step\n",
      "Running DDIM Sampling with 200 timesteps\n"
     ]
    },
    {
     "name": "stderr",
     "output_type": "stream",
     "text": [
      "\n",
      "\u001b[A\n",
      "\u001b[A\n",
      "\u001b[A\n",
      "\u001b[A\n",
      "DDIM Sampler: 100%|██████████| 200/200 [00:23<00:00,  8.57it/s]\n"
     ]
    },
    {
     "name": "stdout",
     "output_type": "stream",
     "text": [
      "Data shape for DDIM sampling is (1, 3, 64, 64), eta 0.0\n",
      "Running Adversarial Sampling at 0 step\n",
      "Running DDIM Sampling with 200 timesteps\n"
     ]
    },
    {
     "name": "stderr",
     "output_type": "stream",
     "text": [
      "\n",
      "\u001b[A\n",
      "\u001b[A\n",
      "\u001b[A\n",
      "\u001b[A\n",
      "DDIM Sampler: 100%|██████████| 200/200 [00:23<00:00,  8.61it/s]\n"
     ]
    },
    {
     "name": "stdout",
     "output_type": "stream",
     "text": [
      "loss: [array(0.7285, dtype=float16), array(0.82, dtype=float16), array(0.7905, dtype=float16), array(0.6978, dtype=float16)]\n",
      "Saved poisoned image 62 to ./data/poisons/mini_MathVista_grid+i2i_AdvDiffVLMAttack/tbl/62.png\n",
      "Time: 47.26644706726074\n",
      "image name =  8\n",
      "Data shape for DDIM sampling is (1, 3, 64, 64), eta 0.0\n",
      "Running Adversarial Sampling at 0 step\n",
      "Running DDIM Sampling with 200 timesteps\n"
     ]
    },
    {
     "name": "stderr",
     "output_type": "stream",
     "text": [
      "\n",
      "\u001b[A\n",
      "\u001b[A\n",
      "\u001b[A\n",
      "\u001b[A\n",
      "\u001b[A\n",
      "DDIM Sampler: 100%|██████████| 200/200 [00:23<00:00,  8.49it/s]\n"
     ]
    },
    {
     "name": "stdout",
     "output_type": "stream",
     "text": [
      "Data shape for DDIM sampling is (1, 3, 64, 64), eta 0.0\n",
      "Running Adversarial Sampling at 0 step\n",
      "Running DDIM Sampling with 200 timesteps\n"
     ]
    },
    {
     "name": "stderr",
     "output_type": "stream",
     "text": [
      "\n",
      "\u001b[A\n",
      "\u001b[A\n",
      "\u001b[A\n",
      "\u001b[A\n",
      "DDIM Sampler: 100%|██████████| 200/200 [00:23<00:00,  8.52it/s]\n"
     ]
    },
    {
     "name": "stdout",
     "output_type": "stream",
     "text": [
      "loss: [array(0.6475, dtype=float16), array(0.758, dtype=float16), array(0.709, dtype=float16), array(0.6533, dtype=float16)]\n",
      "Saved poisoned image 8 to ./data/poisons/mini_MathVista_grid+i2i_AdvDiffVLMAttack/tbl/8.png\n",
      "Time: 47.743441581726074\n",
      "image name =  19\n",
      "Data shape for DDIM sampling is (1, 3, 64, 64), eta 0.0\n",
      "Running Adversarial Sampling at 0 step\n",
      "Running DDIM Sampling with 200 timesteps\n"
     ]
    },
    {
     "name": "stderr",
     "output_type": "stream",
     "text": [
      "\n",
      "\u001b[A\n",
      "\u001b[A\n",
      "\u001b[A\n",
      "\u001b[A\n",
      "DDIM Sampler: 100%|██████████| 200/200 [00:23<00:00,  8.53it/s]\n"
     ]
    },
    {
     "name": "stdout",
     "output_type": "stream",
     "text": [
      "Data shape for DDIM sampling is (1, 3, 64, 64), eta 0.0\n",
      "Running Adversarial Sampling at 0 step\n",
      "Running DDIM Sampling with 200 timesteps\n"
     ]
    },
    {
     "name": "stderr",
     "output_type": "stream",
     "text": [
      "\n",
      "\u001b[A\n",
      "\u001b[A\n",
      "\u001b[A\n",
      "\u001b[A\n",
      "\u001b[A\n",
      "\u001b[A\n",
      "DDIM Sampler: 100%|██████████| 200/200 [00:23<00:00,  8.51it/s]\n"
     ]
    },
    {
     "name": "stdout",
     "output_type": "stream",
     "text": [
      "loss: [array(0.7017, dtype=float16), array(0.796, dtype=float16), array(0.7227, dtype=float16), array(0.623, dtype=float16)]\n",
      "Saved poisoned image 19 to ./data/poisons/mini_MathVista_grid+i2i_AdvDiffVLMAttack/tbl/19.png\n",
      "Time: 47.73573637008667\n",
      "image name =  65\n",
      "Data shape for DDIM sampling is (1, 3, 64, 64), eta 0.0\n",
      "Running Adversarial Sampling at 0 step\n",
      "Running DDIM Sampling with 200 timesteps\n"
     ]
    },
    {
     "name": "stderr",
     "output_type": "stream",
     "text": [
      "\n",
      "\u001b[A\n",
      "\u001b[A\n",
      "\u001b[A\n",
      "\u001b[A\n",
      "DDIM Sampler: 100%|██████████| 200/200 [00:23<00:00,  8.50it/s]\n"
     ]
    },
    {
     "name": "stdout",
     "output_type": "stream",
     "text": [
      "Data shape for DDIM sampling is (1, 3, 64, 64), eta 0.0\n",
      "Running Adversarial Sampling at 0 step\n",
      "Running DDIM Sampling with 200 timesteps\n"
     ]
    },
    {
     "name": "stderr",
     "output_type": "stream",
     "text": [
      "\n",
      "\u001b[A\n",
      "\u001b[A\n",
      "\u001b[A\n",
      "\u001b[A\n",
      "DDIM Sampler: 100%|██████████| 200/200 [00:23<00:00,  8.51it/s]\n",
      "Target Dataloader: 3it [1:25:34, 2292.50s/it]"
     ]
    },
    {
     "name": "stdout",
     "output_type": "stream",
     "text": [
      "loss: [array(0.69, dtype=float16), array(0.7993, dtype=float16), array(0.789, dtype=float16), array(0.7017, dtype=float16)]\n",
      "Saved poisoned image 65 to ./data/poisons/mini_MathVista_grid+i2i_AdvDiffVLMAttack/tbl/65.png\n",
      "Time: 47.80392646789551\n"
     ]
    },
    {
     "name": "stderr",
     "output_type": "stream",
     "text": []
    },
    {
     "name": "stdout",
     "output_type": "stream",
     "text": [
      "image name =  85\n",
      "Data shape for DDIM sampling is (1, 3, 64, 64), eta 0.0\n",
      "Running Adversarial Sampling at 0 step\n",
      "Running DDIM Sampling with 200 timesteps\n"
     ]
    },
    {
     "name": "stderr",
     "output_type": "stream",
     "text": [
      "\n",
      "\u001b[A\n",
      "\u001b[A\n",
      "\u001b[A\n",
      "\u001b[A\n",
      "DDIM Sampler: 100%|██████████| 200/200 [00:22<00:00,  8.71it/s]\n"
     ]
    },
    {
     "name": "stdout",
     "output_type": "stream",
     "text": [
      "Data shape for DDIM sampling is (1, 3, 64, 64), eta 0.0\n",
      "Running Adversarial Sampling at 0 step\n",
      "Running DDIM Sampling with 200 timesteps\n"
     ]
    },
    {
     "name": "stderr",
     "output_type": "stream",
     "text": [
      "\n",
      "\u001b[A\n",
      "\u001b[A\n",
      "\u001b[A\n",
      "\u001b[A\n",
      "DDIM Sampler: 100%|██████████| 200/200 [00:22<00:00,  8.71it/s]\n"
     ]
    },
    {
     "name": "stdout",
     "output_type": "stream",
     "text": [
      "loss: [array(0.8315, dtype=float16), array(0.8423, dtype=float16), array(0.8223, dtype=float16), array(0.848, dtype=float16)]\n",
      "Saved poisoned image 85 to ./data/poisons/mini_MathVista_grid+i2i_AdvDiffVLMAttack/synth/85.png\n",
      "Time: 46.69028830528259\n",
      "image name =  54\n",
      "Data shape for DDIM sampling is (1, 3, 64, 64), eta 0.0\n",
      "Running Adversarial Sampling at 0 step\n",
      "Running DDIM Sampling with 200 timesteps\n"
     ]
    },
    {
     "name": "stderr",
     "output_type": "stream",
     "text": [
      "\n",
      "\u001b[A\n",
      "\u001b[A\n",
      "\u001b[A\n",
      "\u001b[A\n",
      "\u001b[A\n",
      "\u001b[A\n",
      "DDIM Sampler: 100%|██████████| 200/200 [00:23<00:00,  8.58it/s]\n"
     ]
    },
    {
     "name": "stdout",
     "output_type": "stream",
     "text": [
      "Data shape for DDIM sampling is (1, 3, 64, 64), eta 0.0\n",
      "Running Adversarial Sampling at 0 step\n",
      "Running DDIM Sampling with 200 timesteps\n"
     ]
    },
    {
     "name": "stderr",
     "output_type": "stream",
     "text": [
      "\n",
      "\u001b[A\n",
      "\u001b[A\n",
      "\u001b[A\n",
      "\u001b[A\n",
      "DDIM Sampler: 100%|██████████| 200/200 [00:23<00:00,  8.49it/s]\n"
     ]
    },
    {
     "name": "stdout",
     "output_type": "stream",
     "text": [
      "loss: [array(0.754, dtype=float16), array(0.8164, dtype=float16), array(0.8076, dtype=float16), array(0.8125, dtype=float16)]\n",
      "Saved poisoned image 54 to ./data/poisons/mini_MathVista_grid+i2i_AdvDiffVLMAttack/synth/54.png\n",
      "Time: 47.579477071762085\n",
      "image name =  28\n",
      "Data shape for DDIM sampling is (1, 3, 64, 64), eta 0.0\n",
      "Running Adversarial Sampling at 0 step\n",
      "Running DDIM Sampling with 200 timesteps\n"
     ]
    },
    {
     "name": "stderr",
     "output_type": "stream",
     "text": [
      "\n",
      "\u001b[A\n",
      "\u001b[A\n",
      "\u001b[A\n",
      "\u001b[A\n",
      "DDIM Sampler: 100%|██████████| 200/200 [00:23<00:00,  8.50it/s]\n"
     ]
    },
    {
     "name": "stdout",
     "output_type": "stream",
     "text": [
      "Data shape for DDIM sampling is (1, 3, 64, 64), eta 0.0\n",
      "Running Adversarial Sampling at 0 step\n",
      "Running DDIM Sampling with 200 timesteps\n"
     ]
    },
    {
     "name": "stderr",
     "output_type": "stream",
     "text": [
      "\n",
      "\u001b[A\n",
      "\u001b[A\n",
      "\u001b[A\n",
      "\u001b[A\n",
      "\u001b[A\n",
      "\u001b[A\n",
      "DDIM Sampler: 100%|██████████| 200/200 [00:23<00:00,  8.50it/s]\n"
     ]
    },
    {
     "name": "stdout",
     "output_type": "stream",
     "text": [
      "loss: [array(0.882, dtype=float16), array(0.8994, dtype=float16), array(0.901, dtype=float16), array(0.892, dtype=float16)]\n",
      "Saved poisoned image 28 to ./data/poisons/mini_MathVista_grid+i2i_AdvDiffVLMAttack/synth/28.png\n",
      "Time: 47.769585847854614\n",
      "image name =  82\n",
      "Data shape for DDIM sampling is (1, 3, 64, 64), eta 0.0\n",
      "Running Adversarial Sampling at 0 step\n",
      "Running DDIM Sampling with 200 timesteps\n"
     ]
    },
    {
     "name": "stderr",
     "output_type": "stream",
     "text": [
      "\n",
      "\u001b[A\n",
      "\u001b[A\n",
      "\u001b[A\n",
      "\u001b[A\n",
      "DDIM Sampler: 100%|██████████| 200/200 [00:23<00:00,  8.67it/s]\n"
     ]
    },
    {
     "name": "stdout",
     "output_type": "stream",
     "text": [
      "Data shape for DDIM sampling is (1, 3, 64, 64), eta 0.0\n",
      "Running Adversarial Sampling at 0 step\n",
      "Running DDIM Sampling with 200 timesteps\n"
     ]
    },
    {
     "name": "stderr",
     "output_type": "stream",
     "text": [
      "\n",
      "\u001b[A\n",
      "\u001b[A\n",
      "\u001b[A\n",
      "\u001b[A\n",
      "DDIM Sampler: 100%|██████████| 200/200 [00:23<00:00,  8.50it/s]\n"
     ]
    },
    {
     "name": "stdout",
     "output_type": "stream",
     "text": [
      "loss: [array(0.8745, dtype=float16), array(0.902, dtype=float16), array(0.9204, dtype=float16), array(0.905, dtype=float16)]\n",
      "Saved poisoned image 82 to ./data/poisons/mini_MathVista_grid+i2i_AdvDiffVLMAttack/synth/82.png\n",
      "Time: 47.337666749954224\n",
      "image name =  53\n",
      "Data shape for DDIM sampling is (1, 3, 64, 64), eta 0.0\n",
      "Running Adversarial Sampling at 0 step\n",
      "Running DDIM Sampling with 200 timesteps\n"
     ]
    },
    {
     "name": "stderr",
     "output_type": "stream",
     "text": [
      "\n",
      "\u001b[A\n",
      "\u001b[A\n",
      "\u001b[A\n",
      "\u001b[A\n",
      "DDIM Sampler: 100%|██████████| 200/200 [00:23<00:00,  8.51it/s]\n"
     ]
    },
    {
     "name": "stdout",
     "output_type": "stream",
     "text": [
      "Data shape for DDIM sampling is (1, 3, 64, 64), eta 0.0\n",
      "Running Adversarial Sampling at 0 step\n",
      "Running DDIM Sampling with 200 timesteps\n"
     ]
    },
    {
     "name": "stderr",
     "output_type": "stream",
     "text": [
      "\n",
      "\u001b[A\n",
      "\u001b[A\n",
      "\u001b[A\n",
      "\u001b[A\n",
      "DDIM Sampler: 100%|██████████| 200/200 [00:23<00:00,  8.61it/s]\n"
     ]
    },
    {
     "name": "stdout",
     "output_type": "stream",
     "text": [
      "loss: [array(0.826, dtype=float16), array(0.8555, dtype=float16), array(0.8496, dtype=float16), array(0.857, dtype=float16)]\n",
      "Saved poisoned image 53 to ./data/poisons/mini_MathVista_grid+i2i_AdvDiffVLMAttack/synth/53.png\n",
      "Time: 47.53648829460144\n",
      "image name =  21\n",
      "Data shape for DDIM sampling is (1, 3, 64, 64), eta 0.0\n",
      "Running Adversarial Sampling at 0 step\n",
      "Running DDIM Sampling with 200 timesteps\n"
     ]
    },
    {
     "name": "stderr",
     "output_type": "stream",
     "text": [
      "\n",
      "\u001b[A\n",
      "\u001b[A\n",
      "\u001b[A\n",
      "\u001b[A\n",
      "\u001b[A\n",
      "DDIM Sampler: 100%|██████████| 200/200 [00:23<00:00,  8.50it/s]\n"
     ]
    },
    {
     "name": "stdout",
     "output_type": "stream",
     "text": [
      "Data shape for DDIM sampling is (1, 3, 64, 64), eta 0.0\n",
      "Running Adversarial Sampling at 0 step\n",
      "Running DDIM Sampling with 200 timesteps\n"
     ]
    },
    {
     "name": "stderr",
     "output_type": "stream",
     "text": [
      "\n",
      "\u001b[A\n",
      "\u001b[A\n",
      "\u001b[A\n",
      "\u001b[A\n",
      "DDIM Sampler: 100%|██████████| 200/200 [00:23<00:00,  8.64it/s]\n"
     ]
    },
    {
     "name": "stdout",
     "output_type": "stream",
     "text": [
      "loss: [array(0.8193, dtype=float16), array(0.8726, dtype=float16), array(0.8447, dtype=float16), array(0.831, dtype=float16)]\n",
      "Saved poisoned image 21 to ./data/poisons/mini_MathVista_grid+i2i_AdvDiffVLMAttack/synth/21.png\n",
      "Time: 47.40039372444153\n",
      "image name =  26\n",
      "Data shape for DDIM sampling is (1, 3, 64, 64), eta 0.0\n",
      "Running Adversarial Sampling at 0 step\n",
      "Running DDIM Sampling with 200 timesteps\n"
     ]
    },
    {
     "name": "stderr",
     "output_type": "stream",
     "text": [
      "\n",
      "\u001b[A\n",
      "\u001b[A\n",
      "\u001b[A\n",
      "\u001b[A\n",
      "DDIM Sampler: 100%|██████████| 200/200 [00:23<00:00,  8.48it/s]\n"
     ]
    },
    {
     "name": "stdout",
     "output_type": "stream",
     "text": [
      "Data shape for DDIM sampling is (1, 3, 64, 64), eta 0.0\n",
      "Running Adversarial Sampling at 0 step\n",
      "Running DDIM Sampling with 200 timesteps\n"
     ]
    },
    {
     "name": "stderr",
     "output_type": "stream",
     "text": [
      "\n",
      "\u001b[A\n",
      "\u001b[A\n",
      "\u001b[A\n",
      "\u001b[A\n",
      "\u001b[A\n",
      "\u001b[A\n",
      "DDIM Sampler: 100%|██████████| 200/200 [00:23<00:00,  8.63it/s]\n"
     ]
    },
    {
     "name": "stdout",
     "output_type": "stream",
     "text": [
      "loss: [array(0.7705, dtype=float16), array(0.818, dtype=float16), array(0.7944, dtype=float16), array(0.7695, dtype=float16)]\n",
      "Saved poisoned image 26 to ./data/poisons/mini_MathVista_grid+i2i_AdvDiffVLMAttack/synth/26.png\n",
      "Time: 47.483861446380615\n",
      "image name =  5\n",
      "Data shape for DDIM sampling is (1, 3, 64, 64), eta 0.0\n",
      "Running Adversarial Sampling at 0 step\n",
      "Running DDIM Sampling with 200 timesteps\n"
     ]
    },
    {
     "name": "stderr",
     "output_type": "stream",
     "text": [
      "\n",
      "\u001b[A\n",
      "\u001b[A\n",
      "\u001b[A\n",
      "\u001b[A\n",
      "DDIM Sampler: 100%|██████████| 200/200 [00:23<00:00,  8.54it/s]\n"
     ]
    },
    {
     "name": "stdout",
     "output_type": "stream",
     "text": [
      "Data shape for DDIM sampling is (1, 3, 64, 64), eta 0.0\n",
      "Running Adversarial Sampling at 0 step\n",
      "Running DDIM Sampling with 200 timesteps\n"
     ]
    },
    {
     "name": "stderr",
     "output_type": "stream",
     "text": [
      "\n",
      "\u001b[A\n",
      "\u001b[A\n",
      "\u001b[A\n",
      "\u001b[A\n",
      "DDIM Sampler: 100%|██████████| 200/200 [00:23<00:00,  8.59it/s]\n"
     ]
    },
    {
     "name": "stdout",
     "output_type": "stream",
     "text": [
      "loss: [array(0.8203, dtype=float16), array(0.849, dtype=float16), array(0.817, dtype=float16), array(0.887, dtype=float16)]\n",
      "Saved poisoned image 5 to ./data/poisons/mini_MathVista_grid+i2i_AdvDiffVLMAttack/synth/5.png\n",
      "Time: 47.421483755111694\n",
      "image name =  13\n",
      "Data shape for DDIM sampling is (1, 3, 64, 64), eta 0.0\n",
      "Running Adversarial Sampling at 0 step\n",
      "Running DDIM Sampling with 200 timesteps\n"
     ]
    },
    {
     "name": "stderr",
     "output_type": "stream",
     "text": [
      "\n",
      "\u001b[A\n",
      "\u001b[A\n",
      "\u001b[A\n",
      "\u001b[A\n",
      "DDIM Sampler: 100%|██████████| 200/200 [00:23<00:00,  8.50it/s]\n"
     ]
    },
    {
     "name": "stdout",
     "output_type": "stream",
     "text": [
      "Data shape for DDIM sampling is (1, 3, 64, 64), eta 0.0\n",
      "Running Adversarial Sampling at 0 step\n",
      "Running DDIM Sampling with 200 timesteps\n"
     ]
    },
    {
     "name": "stderr",
     "output_type": "stream",
     "text": [
      "\n",
      "\u001b[A\n",
      "\u001b[A\n",
      "\u001b[A\n",
      "\u001b[A\n",
      "DDIM Sampler: 100%|██████████| 200/200 [00:23<00:00,  8.51it/s]\n"
     ]
    },
    {
     "name": "stdout",
     "output_type": "stream",
     "text": [
      "loss: [array(0.836, dtype=float16), array(0.842, dtype=float16), array(0.833, dtype=float16), array(0.8613, dtype=float16)]\n",
      "Saved poisoned image 13 to ./data/poisons/mini_MathVista_grid+i2i_AdvDiffVLMAttack/synth/13.png\n",
      "Time: 47.811506032943726\n",
      "image name =  14\n",
      "Data shape for DDIM sampling is (1, 3, 64, 64), eta 0.0\n",
      "Running Adversarial Sampling at 0 step\n",
      "Running DDIM Sampling with 200 timesteps\n"
     ]
    },
    {
     "name": "stderr",
     "output_type": "stream",
     "text": [
      "\n",
      "\u001b[A\n",
      "\u001b[A\n",
      "\u001b[A\n",
      "\u001b[A\n",
      "\u001b[A\n",
      "DDIM Sampler: 100%|██████████| 200/200 [00:23<00:00,  8.63it/s]\n"
     ]
    },
    {
     "name": "stdout",
     "output_type": "stream",
     "text": [
      "Data shape for DDIM sampling is (1, 3, 64, 64), eta 0.0\n",
      "Running Adversarial Sampling at 0 step\n",
      "Running DDIM Sampling with 200 timesteps\n"
     ]
    },
    {
     "name": "stderr",
     "output_type": "stream",
     "text": [
      "\n",
      "\u001b[A\n",
      "\u001b[A\n",
      "\u001b[A\n",
      "\u001b[A\n",
      "DDIM Sampler: 100%|██████████| 200/200 [00:23<00:00,  8.63it/s]\n"
     ]
    },
    {
     "name": "stdout",
     "output_type": "stream",
     "text": [
      "loss: [array(0.8657, dtype=float16), array(0.883, dtype=float16), array(0.9014, dtype=float16), array(0.9346, dtype=float16)]\n",
      "Saved poisoned image 14 to ./data/poisons/mini_MathVista_grid+i2i_AdvDiffVLMAttack/synth/14.png\n",
      "Time: 47.09881281852722\n",
      "image name =  68\n",
      "Data shape for DDIM sampling is (1, 3, 64, 64), eta 0.0\n",
      "Running Adversarial Sampling at 0 step\n",
      "Running DDIM Sampling with 200 timesteps\n"
     ]
    },
    {
     "name": "stderr",
     "output_type": "stream",
     "text": [
      "\n",
      "\u001b[A\n",
      "\u001b[A\n",
      "\u001b[A\n",
      "\u001b[A\n",
      "DDIM Sampler: 100%|██████████| 200/200 [00:23<00:00,  8.46it/s]\n"
     ]
    },
    {
     "name": "stdout",
     "output_type": "stream",
     "text": [
      "Data shape for DDIM sampling is (1, 3, 64, 64), eta 0.0\n",
      "Running Adversarial Sampling at 0 step\n",
      "Running DDIM Sampling with 200 timesteps\n"
     ]
    },
    {
     "name": "stderr",
     "output_type": "stream",
     "text": [
      "\n",
      "\u001b[A\n",
      "\u001b[A\n",
      "\u001b[A\n",
      "\u001b[A\n",
      "\u001b[A\n",
      "\u001b[A\n",
      "DDIM Sampler: 100%|██████████| 200/200 [00:23<00:00,  8.47it/s]\n"
     ]
    },
    {
     "name": "stdout",
     "output_type": "stream",
     "text": [
      "loss: [array(0.8716, dtype=float16), array(0.876, dtype=float16), array(0.8647, dtype=float16), array(0.8604, dtype=float16)]\n",
      "Saved poisoned image 68 to ./data/poisons/mini_MathVista_grid+i2i_AdvDiffVLMAttack/synth/68.png\n",
      "Time: 47.97442698478699\n",
      "image name =  2\n",
      "Data shape for DDIM sampling is (1, 3, 64, 64), eta 0.0\n",
      "Running Adversarial Sampling at 0 step\n",
      "Running DDIM Sampling with 200 timesteps\n"
     ]
    },
    {
     "name": "stderr",
     "output_type": "stream",
     "text": [
      "\n",
      "\u001b[A\n",
      "\u001b[A\n",
      "\u001b[A\n",
      "\u001b[A\n",
      "DDIM Sampler: 100%|██████████| 200/200 [00:23<00:00,  8.50it/s]\n"
     ]
    },
    {
     "name": "stdout",
     "output_type": "stream",
     "text": [
      "Data shape for DDIM sampling is (1, 3, 64, 64), eta 0.0\n",
      "Running Adversarial Sampling at 0 step\n",
      "Running DDIM Sampling with 200 timesteps\n"
     ]
    },
    {
     "name": "stderr",
     "output_type": "stream",
     "text": [
      "\n",
      "\u001b[A\n",
      "\u001b[A\n",
      "\u001b[A\n",
      "\u001b[A\n",
      "DDIM Sampler: 100%|██████████| 200/200 [00:23<00:00,  8.48it/s]\n"
     ]
    },
    {
     "name": "stdout",
     "output_type": "stream",
     "text": [
      "loss: [array(0.9106, dtype=float16), array(0.934, dtype=float16), array(0.933, dtype=float16), array(0.917, dtype=float16)]\n",
      "Saved poisoned image 2 to ./data/poisons/mini_MathVista_grid+i2i_AdvDiffVLMAttack/synth/2.png\n",
      "Time: 47.9113712310791\n",
      "image name =  66\n",
      "Data shape for DDIM sampling is (1, 3, 64, 64), eta 0.0\n",
      "Running Adversarial Sampling at 0 step\n",
      "Running DDIM Sampling with 200 timesteps\n"
     ]
    },
    {
     "name": "stderr",
     "output_type": "stream",
     "text": [
      "\n",
      "\u001b[A\n",
      "\u001b[A\n",
      "\u001b[A\n",
      "\u001b[A\n",
      "DDIM Sampler: 100%|██████████| 200/200 [00:23<00:00,  8.49it/s]\n"
     ]
    },
    {
     "name": "stdout",
     "output_type": "stream",
     "text": [
      "Data shape for DDIM sampling is (1, 3, 64, 64), eta 0.0\n",
      "Running Adversarial Sampling at 0 step\n",
      "Running DDIM Sampling with 200 timesteps\n"
     ]
    },
    {
     "name": "stderr",
     "output_type": "stream",
     "text": [
      "\n",
      "\u001b[A\n",
      "\u001b[A\n",
      "\u001b[A\n",
      "\u001b[A\n",
      "DDIM Sampler: 100%|██████████| 200/200 [00:23<00:00,  8.51it/s]\n"
     ]
    },
    {
     "name": "stdout",
     "output_type": "stream",
     "text": [
      "loss: [array(0.8013, dtype=float16), array(0.824, dtype=float16), array(0.826, dtype=float16), array(0.837, dtype=float16)]\n",
      "Saved poisoned image 66 to ./data/poisons/mini_MathVista_grid+i2i_AdvDiffVLMAttack/synth/66.png\n",
      "Time: 47.80784010887146\n",
      "image name =  61\n",
      "Data shape for DDIM sampling is (1, 3, 64, 64), eta 0.0\n",
      "Running Adversarial Sampling at 0 step\n",
      "Running DDIM Sampling with 200 timesteps\n"
     ]
    },
    {
     "name": "stderr",
     "output_type": "stream",
     "text": [
      "\n",
      "\u001b[A\n",
      "\u001b[A\n",
      "\u001b[A\n",
      "\u001b[A\n",
      "\u001b[A\n",
      "\u001b[A\n",
      "DDIM Sampler: 100%|██████████| 200/200 [00:23<00:00,  8.49it/s]\n"
     ]
    },
    {
     "name": "stdout",
     "output_type": "stream",
     "text": [
      "Data shape for DDIM sampling is (1, 3, 64, 64), eta 0.0\n",
      "Running Adversarial Sampling at 0 step\n",
      "Running DDIM Sampling with 200 timesteps\n"
     ]
    },
    {
     "name": "stderr",
     "output_type": "stream",
     "text": [
      "\n",
      "\u001b[A\n",
      "\u001b[A\n",
      "\u001b[A\n",
      "\u001b[A\n",
      "DDIM Sampler: 100%|██████████| 200/200 [00:23<00:00,  8.49it/s]\n"
     ]
    },
    {
     "name": "stdout",
     "output_type": "stream",
     "text": [
      "loss: [array(0.745, dtype=float16), array(0.768, dtype=float16), array(0.757, dtype=float16), array(0.7466, dtype=float16)]\n",
      "Saved poisoned image 61 to ./data/poisons/mini_MathVista_grid+i2i_AdvDiffVLMAttack/synth/61.png\n",
      "Time: 47.84213209152222\n",
      "image name =  70\n",
      "Data shape for DDIM sampling is (1, 3, 64, 64), eta 0.0\n",
      "Running Adversarial Sampling at 0 step\n",
      "Running DDIM Sampling with 200 timesteps\n"
     ]
    },
    {
     "name": "stderr",
     "output_type": "stream",
     "text": [
      "\n",
      "\u001b[A\n",
      "\u001b[A\n",
      "\u001b[A\n",
      "\u001b[A\n",
      "DDIM Sampler: 100%|██████████| 200/200 [00:23<00:00,  8.49it/s]\n"
     ]
    },
    {
     "name": "stdout",
     "output_type": "stream",
     "text": [
      "Data shape for DDIM sampling is (1, 3, 64, 64), eta 0.0\n",
      "Running Adversarial Sampling at 0 step\n",
      "Running DDIM Sampling with 200 timesteps\n"
     ]
    },
    {
     "name": "stderr",
     "output_type": "stream",
     "text": [
      "\n",
      "\u001b[A\n",
      "\u001b[A\n",
      "\u001b[A\n",
      "\u001b[A\n",
      "DDIM Sampler: 100%|██████████| 200/200 [00:23<00:00,  8.49it/s]\n"
     ]
    },
    {
     "name": "stdout",
     "output_type": "stream",
     "text": [
      "loss: [array(0.9126, dtype=float16), array(0.9214, dtype=float16), array(0.9272, dtype=float16), array(0.933, dtype=float16)]\n",
      "Saved poisoned image 70 to ./data/poisons/mini_MathVista_grid+i2i_AdvDiffVLMAttack/synth/70.png\n",
      "Time: 47.915544271469116\n",
      "image name =  77\n",
      "Data shape for DDIM sampling is (1, 3, 64, 64), eta 0.0\n",
      "Running Adversarial Sampling at 0 step\n",
      "Running DDIM Sampling with 200 timesteps\n"
     ]
    },
    {
     "name": "stderr",
     "output_type": "stream",
     "text": [
      "\n",
      "\u001b[A\n",
      "\u001b[A\n",
      "\u001b[A\n",
      "\u001b[A\n",
      "DDIM Sampler: 100%|██████████| 200/200 [00:23<00:00,  8.51it/s]\n"
     ]
    },
    {
     "name": "stdout",
     "output_type": "stream",
     "text": [
      "Data shape for DDIM sampling is (1, 3, 64, 64), eta 0.0\n",
      "Running Adversarial Sampling at 0 step\n",
      "Running DDIM Sampling with 200 timesteps\n"
     ]
    },
    {
     "name": "stderr",
     "output_type": "stream",
     "text": [
      "\n",
      "\u001b[A\n",
      "\u001b[A\n",
      "\u001b[A\n",
      "\u001b[A\n",
      "\u001b[A\n",
      "\u001b[A\n",
      "DDIM Sampler: 100%|██████████| 200/200 [00:22<00:00,  8.71it/s]\n"
     ]
    },
    {
     "name": "stdout",
     "output_type": "stream",
     "text": [
      "loss: [array(0.815, dtype=float16), array(0.851, dtype=float16), array(0.804, dtype=float16), array(0.831, dtype=float16)]\n",
      "Saved poisoned image 77 to ./data/poisons/mini_MathVista_grid+i2i_AdvDiffVLMAttack/synth/77.png\n",
      "Time: 47.21450662612915\n",
      "image name =  79\n",
      "Data shape for DDIM sampling is (1, 3, 64, 64), eta 0.0\n",
      "Running Adversarial Sampling at 0 step\n",
      "Running DDIM Sampling with 200 timesteps\n"
     ]
    },
    {
     "name": "stderr",
     "output_type": "stream",
     "text": [
      "\n",
      "\u001b[A\n",
      "\u001b[A\n",
      "\u001b[A\n",
      "\u001b[A\n",
      "DDIM Sampler: 100%|██████████| 200/200 [00:22<00:00,  8.71it/s]\n"
     ]
    },
    {
     "name": "stdout",
     "output_type": "stream",
     "text": [
      "Data shape for DDIM sampling is (1, 3, 64, 64), eta 0.0\n",
      "Running Adversarial Sampling at 0 step\n",
      "Running DDIM Sampling with 200 timesteps\n"
     ]
    },
    {
     "name": "stderr",
     "output_type": "stream",
     "text": [
      "\n",
      "\u001b[A\n",
      "\u001b[A\n",
      "\u001b[A\n",
      "\u001b[A\n",
      "DDIM Sampler: 100%|██████████| 200/200 [00:23<00:00,  8.49it/s]\n"
     ]
    },
    {
     "name": "stdout",
     "output_type": "stream",
     "text": [
      "loss: [array(0.8457, dtype=float16), array(0.868, dtype=float16), array(0.861, dtype=float16), array(0.8716, dtype=float16)]\n",
      "Saved poisoned image 79 to ./data/poisons/mini_MathVista_grid+i2i_AdvDiffVLMAttack/synth/79.png\n",
      "Time: 47.25102090835571\n",
      "image name =  37\n",
      "Data shape for DDIM sampling is (1, 3, 64, 64), eta 0.0\n",
      "Running Adversarial Sampling at 0 step\n",
      "Running DDIM Sampling with 200 timesteps\n"
     ]
    },
    {
     "name": "stderr",
     "output_type": "stream",
     "text": [
      "\n",
      "\u001b[A\n",
      "\u001b[A\n",
      "\u001b[A\n",
      "\u001b[A\n",
      "\u001b[A\n",
      "\u001b[A\n",
      "DDIM Sampler: 100%|██████████| 200/200 [00:23<00:00,  8.50it/s]\n"
     ]
    },
    {
     "name": "stdout",
     "output_type": "stream",
     "text": [
      "Data shape for DDIM sampling is (1, 3, 64, 64), eta 0.0\n",
      "Running Adversarial Sampling at 0 step\n",
      "Running DDIM Sampling with 200 timesteps\n"
     ]
    },
    {
     "name": "stderr",
     "output_type": "stream",
     "text": [
      "\n",
      "\u001b[A\n",
      "\u001b[A\n",
      "\u001b[A\n",
      "\u001b[A\n",
      "DDIM Sampler: 100%|██████████| 200/200 [00:23<00:00,  8.63it/s]\n"
     ]
    },
    {
     "name": "stdout",
     "output_type": "stream",
     "text": [
      "loss: [array(0.865, dtype=float16), array(0.883, dtype=float16), array(0.8647, dtype=float16), array(0.888, dtype=float16)]\n",
      "Saved poisoned image 37 to ./data/poisons/mini_MathVista_grid+i2i_AdvDiffVLMAttack/synth/37.png\n",
      "Time: 47.412999868392944\n",
      "image name =  30\n",
      "Data shape for DDIM sampling is (1, 3, 64, 64), eta 0.0\n",
      "Running Adversarial Sampling at 0 step\n",
      "Running DDIM Sampling with 200 timesteps\n"
     ]
    },
    {
     "name": "stderr",
     "output_type": "stream",
     "text": [
      "\n",
      "\u001b[A\n",
      "\u001b[A\n",
      "\u001b[A\n",
      "\u001b[A\n",
      "DDIM Sampler: 100%|██████████| 200/200 [00:23<00:00,  8.49it/s]\n"
     ]
    },
    {
     "name": "stdout",
     "output_type": "stream",
     "text": [
      "Data shape for DDIM sampling is (1, 3, 64, 64), eta 0.0\n",
      "Running Adversarial Sampling at 0 step\n",
      "Running DDIM Sampling with 200 timesteps\n"
     ]
    },
    {
     "name": "stderr",
     "output_type": "stream",
     "text": [
      "\n",
      "\u001b[A\n",
      "\u001b[A\n",
      "\u001b[A\n",
      "\u001b[A\n",
      "DDIM Sampler: 100%|██████████| 200/200 [00:23<00:00,  8.43it/s]\n"
     ]
    },
    {
     "name": "stdout",
     "output_type": "stream",
     "text": [
      "loss: [array(0.868, dtype=float16), array(0.872, dtype=float16), array(0.887, dtype=float16), array(0.8857, dtype=float16)]\n",
      "Saved poisoned image 30 to ./data/poisons/mini_MathVista_grid+i2i_AdvDiffVLMAttack/synth/30.png\n",
      "Time: 48.01701354980469\n",
      "image name =  42\n",
      "Data shape for DDIM sampling is (1, 3, 64, 64), eta 0.0\n",
      "Running Adversarial Sampling at 0 step\n",
      "Running DDIM Sampling with 200 timesteps\n"
     ]
    },
    {
     "name": "stderr",
     "output_type": "stream",
     "text": [
      "\n",
      "\u001b[A\n",
      "\u001b[A\n",
      "\u001b[A\n",
      "\u001b[A\n",
      "DDIM Sampler: 100%|██████████| 200/200 [00:23<00:00,  8.49it/s]\n"
     ]
    },
    {
     "name": "stdout",
     "output_type": "stream",
     "text": [
      "Data shape for DDIM sampling is (1, 3, 64, 64), eta 0.0\n",
      "Running Adversarial Sampling at 0 step\n",
      "Running DDIM Sampling with 200 timesteps\n"
     ]
    },
    {
     "name": "stderr",
     "output_type": "stream",
     "text": [
      "\n",
      "\u001b[A\n",
      "\u001b[A\n",
      "\u001b[A\n",
      "\u001b[A\n",
      "\u001b[A\n",
      "\u001b[A\n",
      "DDIM Sampler: 100%|██████████| 200/200 [00:23<00:00,  8.57it/s]\n"
     ]
    },
    {
     "name": "stdout",
     "output_type": "stream",
     "text": [
      "loss: [array(0.811, dtype=float16), array(0.8335, dtype=float16), array(0.7993, dtype=float16), array(0.763, dtype=float16)]\n",
      "Saved poisoned image 42 to ./data/poisons/mini_MathVista_grid+i2i_AdvDiffVLMAttack/synth/42.png\n",
      "Time: 47.70741558074951\n",
      "image name =  93\n",
      "Data shape for DDIM sampling is (1, 3, 64, 64), eta 0.0\n",
      "Running Adversarial Sampling at 0 step\n",
      "Running DDIM Sampling with 200 timesteps\n"
     ]
    },
    {
     "name": "stderr",
     "output_type": "stream",
     "text": [
      "\n",
      "\u001b[A\n",
      "\u001b[A\n",
      "\u001b[A\n",
      "\u001b[A\n",
      "DDIM Sampler: 100%|██████████| 200/200 [00:23<00:00,  8.50it/s]\n"
     ]
    },
    {
     "name": "stdout",
     "output_type": "stream",
     "text": [
      "Data shape for DDIM sampling is (1, 3, 64, 64), eta 0.0\n",
      "Running Adversarial Sampling at 0 step\n",
      "Running DDIM Sampling with 200 timesteps\n"
     ]
    },
    {
     "name": "stderr",
     "output_type": "stream",
     "text": [
      "\n",
      "\u001b[A\n",
      "\u001b[A\n",
      "\u001b[A\n",
      "\u001b[A\n",
      "DDIM Sampler: 100%|██████████| 200/200 [00:23<00:00,  8.49it/s]\n"
     ]
    },
    {
     "name": "stdout",
     "output_type": "stream",
     "text": [
      "loss: [array(0.7656, dtype=float16), array(0.8184, dtype=float16), array(0.7266, dtype=float16), array(0.785, dtype=float16)]\n",
      "Saved poisoned image 93 to ./data/poisons/mini_MathVista_grid+i2i_AdvDiffVLMAttack/synth/93.png\n",
      "Time: 47.841315269470215\n",
      "image name =  45\n",
      "Data shape for DDIM sampling is (1, 3, 64, 64), eta 0.0\n",
      "Running Adversarial Sampling at 0 step\n",
      "Running DDIM Sampling with 200 timesteps\n"
     ]
    },
    {
     "name": "stderr",
     "output_type": "stream",
     "text": [
      "\n",
      "\u001b[A\n",
      "\u001b[A\n",
      "\u001b[A\n",
      "\u001b[A\n",
      "DDIM Sampler: 100%|██████████| 200/200 [00:23<00:00,  8.58it/s]\n"
     ]
    },
    {
     "name": "stdout",
     "output_type": "stream",
     "text": [
      "Data shape for DDIM sampling is (1, 3, 64, 64), eta 0.0\n",
      "Running Adversarial Sampling at 0 step\n",
      "Running DDIM Sampling with 200 timesteps\n"
     ]
    },
    {
     "name": "stderr",
     "output_type": "stream",
     "text": [
      "\n",
      "\u001b[A\n",
      "\u001b[A\n",
      "\u001b[A\n",
      "\u001b[A\n",
      "DDIM Sampler: 100%|██████████| 200/200 [00:23<00:00,  8.51it/s]\n"
     ]
    },
    {
     "name": "stdout",
     "output_type": "stream",
     "text": [
      "loss: [array(0.581, dtype=float16), array(0.6636, dtype=float16), array(0.536, dtype=float16), array(0.5513, dtype=float16)]\n",
      "Saved poisoned image 45 to ./data/poisons/mini_MathVista_grid+i2i_AdvDiffVLMAttack/synth/45.png\n",
      "Time: 47.56287717819214\n",
      "image name =  94\n",
      "Data shape for DDIM sampling is (1, 3, 64, 64), eta 0.0\n",
      "Running Adversarial Sampling at 0 step\n",
      "Running DDIM Sampling with 200 timesteps\n"
     ]
    },
    {
     "name": "stderr",
     "output_type": "stream",
     "text": [
      "\n",
      "\u001b[A\n",
      "\u001b[A\n",
      "\u001b[A\n",
      "\u001b[A\n",
      "\u001b[A\n",
      "DDIM Sampler: 100%|██████████| 200/200 [00:23<00:00,  8.56it/s]\n"
     ]
    },
    {
     "name": "stdout",
     "output_type": "stream",
     "text": [
      "Data shape for DDIM sampling is (1, 3, 64, 64), eta 0.0\n",
      "Running Adversarial Sampling at 0 step\n",
      "Running DDIM Sampling with 200 timesteps\n"
     ]
    },
    {
     "name": "stderr",
     "output_type": "stream",
     "text": [
      "\n",
      "\u001b[A\n",
      "\u001b[A\n",
      "\u001b[A\n",
      "\u001b[A\n",
      "DDIM Sampler: 100%|██████████| 200/200 [00:23<00:00,  8.64it/s]\n"
     ]
    },
    {
     "name": "stdout",
     "output_type": "stream",
     "text": [
      "loss: [array(0.845, dtype=float16), array(0.881, dtype=float16), array(0.8784, dtype=float16), array(0.8916, dtype=float16)]\n",
      "Saved poisoned image 94 to ./data/poisons/mini_MathVista_grid+i2i_AdvDiffVLMAttack/synth/94.png\n",
      "Time: 47.23894929885864\n",
      "image name =  39\n",
      "Data shape for DDIM sampling is (1, 3, 64, 64), eta 0.0\n",
      "Running Adversarial Sampling at 0 step\n",
      "Running DDIM Sampling with 200 timesteps\n"
     ]
    },
    {
     "name": "stderr",
     "output_type": "stream",
     "text": [
      "\n",
      "\u001b[A\n",
      "\u001b[A\n",
      "\u001b[A\n",
      "\u001b[A\n",
      "DDIM Sampler: 100%|██████████| 200/200 [00:23<00:00,  8.53it/s]\n"
     ]
    },
    {
     "name": "stdout",
     "output_type": "stream",
     "text": [
      "Data shape for DDIM sampling is (1, 3, 64, 64), eta 0.0\n",
      "Running Adversarial Sampling at 0 step\n",
      "Running DDIM Sampling with 200 timesteps\n"
     ]
    },
    {
     "name": "stderr",
     "output_type": "stream",
     "text": [
      "\n",
      "\u001b[A\n",
      "\u001b[A\n",
      "\u001b[A\n",
      "\u001b[A\n",
      "\u001b[A\n",
      "DDIM Sampler: 100%|██████████| 200/200 [00:23<00:00,  8.54it/s]\n"
     ]
    },
    {
     "name": "stdout",
     "output_type": "stream",
     "text": [
      "loss: [array(0.854, dtype=float16), array(0.861, dtype=float16), array(0.8047, dtype=float16), array(0.8384, dtype=float16)]\n",
      "Saved poisoned image 39 to ./data/poisons/mini_MathVista_grid+i2i_AdvDiffVLMAttack/synth/39.png\n",
      "Time: 47.66751194000244\n",
      "image name =  60\n",
      "Data shape for DDIM sampling is (1, 3, 64, 64), eta 0.0\n",
      "Running Adversarial Sampling at 0 step\n",
      "Running DDIM Sampling with 200 timesteps\n"
     ]
    },
    {
     "name": "stderr",
     "output_type": "stream",
     "text": [
      "\n",
      "\u001b[A\n",
      "\u001b[A\n",
      "\u001b[A\n",
      "\u001b[A\n",
      "DDIM Sampler: 100%|██████████| 200/200 [00:23<00:00,  8.48it/s]\n"
     ]
    },
    {
     "name": "stdout",
     "output_type": "stream",
     "text": [
      "Data shape for DDIM sampling is (1, 3, 64, 64), eta 0.0\n",
      "Running Adversarial Sampling at 0 step\n",
      "Running DDIM Sampling with 200 timesteps\n"
     ]
    },
    {
     "name": "stderr",
     "output_type": "stream",
     "text": [
      "\n",
      "\u001b[A\n",
      "\u001b[A\n",
      "\u001b[A\n",
      "\u001b[A\n",
      "DDIM Sampler: 100%|██████████| 200/200 [00:23<00:00,  8.49it/s]\n"
     ]
    },
    {
     "name": "stdout",
     "output_type": "stream",
     "text": [
      "loss: [array(0.9336, dtype=float16), array(0.951, dtype=float16), array(0.944, dtype=float16), array(0.939, dtype=float16)]\n",
      "Saved poisoned image 60 to ./data/poisons/mini_MathVista_grid+i2i_AdvDiffVLMAttack/synth/60.png\n",
      "Time: 47.94393610954285\n",
      "image name =  67\n",
      "Data shape for DDIM sampling is (1, 3, 64, 64), eta 0.0\n",
      "Running Adversarial Sampling at 0 step\n",
      "Running DDIM Sampling with 200 timesteps\n"
     ]
    },
    {
     "name": "stderr",
     "output_type": "stream",
     "text": [
      "\n",
      "\u001b[A\n",
      "\u001b[A\n",
      "\u001b[A\n",
      "\u001b[A\n",
      "DDIM Sampler: 100%|██████████| 200/200 [00:22<00:00,  8.70it/s]\n"
     ]
    },
    {
     "name": "stdout",
     "output_type": "stream",
     "text": [
      "Data shape for DDIM sampling is (1, 3, 64, 64), eta 0.0\n",
      "Running Adversarial Sampling at 0 step\n",
      "Running DDIM Sampling with 200 timesteps\n"
     ]
    },
    {
     "name": "stderr",
     "output_type": "stream",
     "text": [
      "\n",
      "\u001b[A\n",
      "\u001b[A\n",
      "\u001b[A\n",
      "\u001b[A\n",
      "DDIM Sampler: 100%|██████████| 200/200 [00:23<00:00,  8.50it/s]\n"
     ]
    },
    {
     "name": "stdout",
     "output_type": "stream",
     "text": [
      "loss: [array(0.8335, dtype=float16), array(0.8696, dtype=float16), array(0.856, dtype=float16), array(0.892, dtype=float16)]\n",
      "Saved poisoned image 67 to ./data/poisons/mini_MathVista_grid+i2i_AdvDiffVLMAttack/synth/67.png\n",
      "Time: 47.23791551589966\n",
      "image name =  15\n",
      "Data shape for DDIM sampling is (1, 3, 64, 64), eta 0.0\n",
      "Running Adversarial Sampling at 0 step\n",
      "Running DDIM Sampling with 200 timesteps\n"
     ]
    },
    {
     "name": "stderr",
     "output_type": "stream",
     "text": [
      "\n",
      "\u001b[A\n",
      "\u001b[A\n",
      "\u001b[A\n",
      "\u001b[A\n",
      "\u001b[A\n",
      "DDIM Sampler: 100%|██████████| 200/200 [00:23<00:00,  8.48it/s]\n"
     ]
    },
    {
     "name": "stdout",
     "output_type": "stream",
     "text": [
      "Data shape for DDIM sampling is (1, 3, 64, 64), eta 0.0\n",
      "Running Adversarial Sampling at 0 step\n",
      "Running DDIM Sampling with 200 timesteps\n"
     ]
    },
    {
     "name": "stderr",
     "output_type": "stream",
     "text": [
      "\n",
      "\u001b[A\n",
      "\u001b[A\n",
      "\u001b[A\n",
      "\u001b[A\n",
      "DDIM Sampler: 100%|██████████| 200/200 [00:23<00:00,  8.50it/s]\n"
     ]
    },
    {
     "name": "stdout",
     "output_type": "stream",
     "text": [
      "loss: [array(0.7266, dtype=float16), array(0.759, dtype=float16), array(0.7593, dtype=float16), array(0.823, dtype=float16)]\n",
      "Saved poisoned image 15 to ./data/poisons/mini_MathVista_grid+i2i_AdvDiffVLMAttack/synth/15.png\n",
      "Time: 47.83056688308716\n",
      "image name =  69\n",
      "Data shape for DDIM sampling is (1, 3, 64, 64), eta 0.0\n",
      "Running Adversarial Sampling at 0 step\n",
      "Running DDIM Sampling with 200 timesteps\n"
     ]
    },
    {
     "name": "stderr",
     "output_type": "stream",
     "text": [
      "\n",
      "\u001b[A\n",
      "\u001b[A\n",
      "\u001b[A\n",
      "\u001b[A\n",
      "DDIM Sampler: 100%|██████████| 200/200 [00:23<00:00,  8.52it/s]\n"
     ]
    },
    {
     "name": "stdout",
     "output_type": "stream",
     "text": [
      "Data shape for DDIM sampling is (1, 3, 64, 64), eta 0.0\n",
      "Running Adversarial Sampling at 0 step\n",
      "Running DDIM Sampling with 200 timesteps\n"
     ]
    },
    {
     "name": "stderr",
     "output_type": "stream",
     "text": [
      "\n",
      "\u001b[A\n",
      "\u001b[A\n",
      "\u001b[A\n",
      "\u001b[A\n",
      "\u001b[A\n",
      "\u001b[A\n",
      "DDIM Sampler: 100%|██████████| 200/200 [00:23<00:00,  8.50it/s]\n"
     ]
    },
    {
     "name": "stdout",
     "output_type": "stream",
     "text": [
      "loss: [array(0.9126, dtype=float16), array(0.959, dtype=float16), array(0.954, dtype=float16), array(0.959, dtype=float16)]\n",
      "Saved poisoned image 69 to ./data/poisons/mini_MathVista_grid+i2i_AdvDiffVLMAttack/synth/69.png\n",
      "Time: 47.737709283828735\n",
      "image name =  3\n",
      "Data shape for DDIM sampling is (1, 3, 64, 64), eta 0.0\n",
      "Running Adversarial Sampling at 0 step\n",
      "Running DDIM Sampling with 200 timesteps\n"
     ]
    },
    {
     "name": "stderr",
     "output_type": "stream",
     "text": [
      "\n",
      "\u001b[A\n",
      "\u001b[A\n",
      "\u001b[A\n",
      "\u001b[A\n",
      "DDIM Sampler: 100%|██████████| 200/200 [00:23<00:00,  8.53it/s]\n"
     ]
    },
    {
     "name": "stdout",
     "output_type": "stream",
     "text": [
      "Data shape for DDIM sampling is (1, 3, 64, 64), eta 0.0\n",
      "Running Adversarial Sampling at 0 step\n",
      "Running DDIM Sampling with 200 timesteps\n"
     ]
    },
    {
     "name": "stderr",
     "output_type": "stream",
     "text": [
      "\n",
      "\u001b[A\n",
      "\u001b[A\n",
      "\u001b[A\n",
      "\u001b[A\n",
      "DDIM Sampler: 100%|██████████| 200/200 [00:23<00:00,  8.57it/s]\n"
     ]
    },
    {
     "name": "stdout",
     "output_type": "stream",
     "text": [
      "loss: [array(0.806, dtype=float16), array(0.8296, dtype=float16), array(0.866, dtype=float16), array(0.873, dtype=float16)]\n",
      "Saved poisoned image 3 to ./data/poisons/mini_MathVista_grid+i2i_AdvDiffVLMAttack/synth/3.png\n",
      "Time: 47.50240445137024\n",
      "image name =  4\n",
      "Data shape for DDIM sampling is (1, 3, 64, 64), eta 0.0\n",
      "Running Adversarial Sampling at 0 step\n",
      "Running DDIM Sampling with 200 timesteps\n"
     ]
    },
    {
     "name": "stderr",
     "output_type": "stream",
     "text": [
      "\n",
      "\u001b[A\n",
      "\u001b[A\n",
      "\u001b[A\n",
      "\u001b[A\n",
      "DDIM Sampler: 100%|██████████| 200/200 [00:23<00:00,  8.49it/s]\n"
     ]
    },
    {
     "name": "stdout",
     "output_type": "stream",
     "text": [
      "Data shape for DDIM sampling is (1, 3, 64, 64), eta 0.0\n",
      "Running Adversarial Sampling at 0 step\n",
      "Running DDIM Sampling with 200 timesteps\n"
     ]
    },
    {
     "name": "stderr",
     "output_type": "stream",
     "text": [
      "\n",
      "\u001b[A\n",
      "\u001b[A\n",
      "\u001b[A\n",
      "\u001b[A\n",
      "DDIM Sampler: 100%|██████████| 200/200 [00:22<00:00,  8.70it/s]\n"
     ]
    },
    {
     "name": "stdout",
     "output_type": "stream",
     "text": [
      "loss: [array(0.9395, dtype=float16), array(0.972, dtype=float16), array(0.963, dtype=float16), array(0.9683, dtype=float16)]\n",
      "Saved poisoned image 4 to ./data/poisons/mini_MathVista_grid+i2i_AdvDiffVLMAttack/synth/4.png\n",
      "Time: 47.2521333694458\n",
      "image name =  12\n",
      "Data shape for DDIM sampling is (1, 3, 64, 64), eta 0.0\n",
      "Running Adversarial Sampling at 0 step\n",
      "Running DDIM Sampling with 200 timesteps\n"
     ]
    },
    {
     "name": "stderr",
     "output_type": "stream",
     "text": [
      "\n",
      "\u001b[A\n",
      "\u001b[A\n",
      "\u001b[A\n",
      "\u001b[A\n",
      "DDIM Sampler: 100%|██████████| 200/200 [00:23<00:00,  8.55it/s]\n"
     ]
    },
    {
     "name": "stdout",
     "output_type": "stream",
     "text": [
      "Data shape for DDIM sampling is (1, 3, 64, 64), eta 0.0\n",
      "Running Adversarial Sampling at 0 step\n",
      "Running DDIM Sampling with 200 timesteps\n"
     ]
    },
    {
     "name": "stderr",
     "output_type": "stream",
     "text": [
      "\n",
      "\u001b[A\n",
      "\u001b[A\n",
      "\u001b[A\n",
      "\u001b[A\n",
      "DDIM Sampler: 100%|██████████| 200/200 [00:23<00:00,  8.46it/s]\n"
     ]
    },
    {
     "name": "stdout",
     "output_type": "stream",
     "text": [
      "loss: [array(0.9194, dtype=float16), array(0.945, dtype=float16), array(0.937, dtype=float16), array(0.9385, dtype=float16)]\n",
      "Saved poisoned image 12 to ./data/poisons/mini_MathVista_grid+i2i_AdvDiffVLMAttack/synth/12.png\n",
      "Time: 47.758310079574585\n",
      "image name =  27\n",
      "Data shape for DDIM sampling is (1, 3, 64, 64), eta 0.0\n",
      "Running Adversarial Sampling at 0 step\n",
      "Running DDIM Sampling with 200 timesteps\n"
     ]
    },
    {
     "name": "stderr",
     "output_type": "stream",
     "text": [
      "\n",
      "\u001b[A\n",
      "\u001b[A\n",
      "\u001b[A\n",
      "\u001b[A\n",
      "DDIM Sampler: 100%|██████████| 200/200 [00:23<00:00,  8.58it/s]\n"
     ]
    },
    {
     "name": "stdout",
     "output_type": "stream",
     "text": [
      "Data shape for DDIM sampling is (1, 3, 64, 64), eta 0.0\n",
      "Running Adversarial Sampling at 0 step\n",
      "Running DDIM Sampling with 200 timesteps\n"
     ]
    },
    {
     "name": "stderr",
     "output_type": "stream",
     "text": [
      "\n",
      "\u001b[A\n",
      "\u001b[A\n",
      "\u001b[A\n",
      "\u001b[A\n",
      "\u001b[A\n",
      "\u001b[A\n",
      "DDIM Sampler: 100%|██████████| 200/200 [00:23<00:00,  8.54it/s]\n"
     ]
    },
    {
     "name": "stdout",
     "output_type": "stream",
     "text": [
      "loss: [array(0.8506, dtype=float16), array(0.834, dtype=float16), array(0.792, dtype=float16), array(0.7827, dtype=float16)]\n",
      "Saved poisoned image 27 to ./data/poisons/mini_MathVista_grid+i2i_AdvDiffVLMAttack/synth/27.png\n",
      "Time: 47.508034229278564\n",
      "image name =  20\n",
      "Data shape for DDIM sampling is (1, 3, 64, 64), eta 0.0\n",
      "Running Adversarial Sampling at 0 step\n",
      "Running DDIM Sampling with 200 timesteps\n"
     ]
    },
    {
     "name": "stderr",
     "output_type": "stream",
     "text": [
      "\n",
      "\u001b[A\n",
      "\u001b[A\n",
      "\u001b[A\n",
      "\u001b[A\n",
      "DDIM Sampler: 100%|██████████| 200/200 [00:23<00:00,  8.53it/s]\n"
     ]
    },
    {
     "name": "stdout",
     "output_type": "stream",
     "text": [
      "Data shape for DDIM sampling is (1, 3, 64, 64), eta 0.0\n",
      "Running Adversarial Sampling at 0 step\n",
      "Running DDIM Sampling with 200 timesteps\n"
     ]
    },
    {
     "name": "stderr",
     "output_type": "stream",
     "text": [
      "\n",
      "\u001b[A\n",
      "\u001b[A\n",
      "\u001b[A\n",
      "\u001b[A\n",
      "DDIM Sampler: 100%|██████████| 200/200 [00:23<00:00,  8.49it/s]\n"
     ]
    },
    {
     "name": "stdout",
     "output_type": "stream",
     "text": [
      "loss: [array(0.63, dtype=float16), array(0.718, dtype=float16), array(0.6533, dtype=float16), array(0.6064, dtype=float16)]\n",
      "Saved poisoned image 20 to ./data/poisons/mini_MathVista_grid+i2i_AdvDiffVLMAttack/synth/20.png\n",
      "Time: 47.7414231300354\n",
      "image name =  83\n",
      "Data shape for DDIM sampling is (1, 3, 64, 64), eta 0.0\n",
      "Running Adversarial Sampling at 0 step\n",
      "Running DDIM Sampling with 200 timesteps\n"
     ]
    },
    {
     "name": "stderr",
     "output_type": "stream",
     "text": [
      "\n",
      "\u001b[A\n",
      "\u001b[A\n",
      "\u001b[A\n",
      "\u001b[A\n",
      "DDIM Sampler: 100%|██████████| 200/200 [00:23<00:00,  8.58it/s]\n"
     ]
    },
    {
     "name": "stdout",
     "output_type": "stream",
     "text": [
      "Data shape for DDIM sampling is (1, 3, 64, 64), eta 0.0\n",
      "Running Adversarial Sampling at 0 step\n",
      "Running DDIM Sampling with 200 timesteps\n"
     ]
    },
    {
     "name": "stderr",
     "output_type": "stream",
     "text": [
      "\n",
      "\u001b[A\n",
      "\u001b[A\n",
      "\u001b[A\n",
      "\u001b[A\n",
      "DDIM Sampler: 100%|██████████| 200/200 [00:23<00:00,  8.64it/s]\n"
     ]
    },
    {
     "name": "stdout",
     "output_type": "stream",
     "text": [
      "loss: [array(0.902, dtype=float16), array(0.913, dtype=float16), array(0.908, dtype=float16), array(0.928, dtype=float16)]\n",
      "Saved poisoned image 83 to ./data/poisons/mini_MathVista_grid+i2i_AdvDiffVLMAttack/synth/83.png\n",
      "Time: 47.16661047935486\n",
      "image name =  52\n",
      "Data shape for DDIM sampling is (1, 3, 64, 64), eta 0.0\n",
      "Running Adversarial Sampling at 0 step\n",
      "Running DDIM Sampling with 200 timesteps\n"
     ]
    },
    {
     "name": "stderr",
     "output_type": "stream",
     "text": [
      "\n",
      "\u001b[A\n",
      "\u001b[A\n",
      "\u001b[A\n",
      "\u001b[A\n",
      "\u001b[A\n",
      "DDIM Sampler: 100%|██████████| 200/200 [00:23<00:00,  8.59it/s]\n"
     ]
    },
    {
     "name": "stdout",
     "output_type": "stream",
     "text": [
      "Data shape for DDIM sampling is (1, 3, 64, 64), eta 0.0\n",
      "Running Adversarial Sampling at 0 step\n",
      "Running DDIM Sampling with 200 timesteps\n"
     ]
    },
    {
     "name": "stderr",
     "output_type": "stream",
     "text": [
      "\n",
      "\u001b[A\n",
      "\u001b[A\n",
      "\u001b[A\n",
      "\u001b[A\n",
      "DDIM Sampler: 100%|██████████| 200/200 [00:23<00:00,  8.56it/s]\n"
     ]
    },
    {
     "name": "stdout",
     "output_type": "stream",
     "text": [
      "loss: [array(0.934, dtype=float16), array(0.9663, dtype=float16), array(0.956, dtype=float16), array(0.9663, dtype=float16)]\n",
      "Saved poisoned image 52 to ./data/poisons/mini_MathVista_grid+i2i_AdvDiffVLMAttack/synth/52.png\n",
      "Time: 47.362931966781616\n",
      "image name =  84\n",
      "Data shape for DDIM sampling is (1, 3, 64, 64), eta 0.0\n",
      "Running Adversarial Sampling at 0 step\n",
      "Running DDIM Sampling with 200 timesteps\n"
     ]
    },
    {
     "name": "stderr",
     "output_type": "stream",
     "text": [
      "\n",
      "\u001b[A\n",
      "\u001b[A\n",
      "\u001b[A\n",
      "\u001b[A\n",
      "DDIM Sampler: 100%|██████████| 200/200 [00:23<00:00,  8.49it/s]\n"
     ]
    },
    {
     "name": "stdout",
     "output_type": "stream",
     "text": [
      "Data shape for DDIM sampling is (1, 3, 64, 64), eta 0.0\n",
      "Running Adversarial Sampling at 0 step\n",
      "Running DDIM Sampling with 200 timesteps\n"
     ]
    },
    {
     "name": "stderr",
     "output_type": "stream",
     "text": [
      "\n",
      "\u001b[A\n",
      "\u001b[A\n",
      "\u001b[A\n",
      "\u001b[A\n",
      "\u001b[A\n",
      "\u001b[A\n",
      "DDIM Sampler: 100%|██████████| 200/200 [00:23<00:00,  8.54it/s]\n"
     ]
    },
    {
     "name": "stdout",
     "output_type": "stream",
     "text": [
      "loss: [array(0.857, dtype=float16), array(0.8555, dtype=float16), array(0.861, dtype=float16), array(0.849, dtype=float16)]\n",
      "Saved poisoned image 84 to ./data/poisons/mini_MathVista_grid+i2i_AdvDiffVLMAttack/synth/84.png\n",
      "Time: 47.68942165374756\n",
      "image name =  55\n",
      "Data shape for DDIM sampling is (1, 3, 64, 64), eta 0.0\n",
      "Running Adversarial Sampling at 0 step\n",
      "Running DDIM Sampling with 200 timesteps\n"
     ]
    },
    {
     "name": "stderr",
     "output_type": "stream",
     "text": [
      "\n",
      "\u001b[A\n",
      "\u001b[A\n",
      "\u001b[A\n",
      "\u001b[A\n",
      "DDIM Sampler: 100%|██████████| 200/200 [00:23<00:00,  8.55it/s]\n"
     ]
    },
    {
     "name": "stdout",
     "output_type": "stream",
     "text": [
      "Data shape for DDIM sampling is (1, 3, 64, 64), eta 0.0\n",
      "Running Adversarial Sampling at 0 step\n",
      "Running DDIM Sampling with 200 timesteps\n"
     ]
    },
    {
     "name": "stderr",
     "output_type": "stream",
     "text": [
      "\n",
      "\u001b[A\n",
      "\u001b[A\n",
      "\u001b[A\n",
      "\u001b[A\n",
      "DDIM Sampler: 100%|██████████| 200/200 [00:23<00:00,  8.63it/s]\n"
     ]
    },
    {
     "name": "stdout",
     "output_type": "stream",
     "text": [
      "loss: [array(0.828, dtype=float16), array(0.833, dtype=float16), array(0.8237, dtype=float16), array(0.8335, dtype=float16)]\n",
      "Saved poisoned image 55 to ./data/poisons/mini_MathVista_grid+i2i_AdvDiffVLMAttack/synth/55.png\n",
      "Time: 47.297852754592896\n",
      "image name =  29\n",
      "Data shape for DDIM sampling is (1, 3, 64, 64), eta 0.0\n",
      "Running Adversarial Sampling at 0 step\n",
      "Running DDIM Sampling with 200 timesteps\n"
     ]
    },
    {
     "name": "stderr",
     "output_type": "stream",
     "text": [
      "\n",
      "\u001b[A\n",
      "\u001b[A\n",
      "\u001b[A\n",
      "\u001b[A\n",
      "DDIM Sampler: 100%|██████████| 200/200 [00:23<00:00,  8.55it/s]\n"
     ]
    },
    {
     "name": "stdout",
     "output_type": "stream",
     "text": [
      "Data shape for DDIM sampling is (1, 3, 64, 64), eta 0.0\n",
      "Running Adversarial Sampling at 0 step\n",
      "Running DDIM Sampling with 200 timesteps\n"
     ]
    },
    {
     "name": "stderr",
     "output_type": "stream",
     "text": [
      "\n",
      "\u001b[A\n",
      "\u001b[A\n",
      "\u001b[A\n",
      "\u001b[A\n",
      "DDIM Sampler: 100%|██████████| 200/200 [00:23<00:00,  8.48it/s]\n"
     ]
    },
    {
     "name": "stdout",
     "output_type": "stream",
     "text": [
      "loss: [array(0.8843, dtype=float16), array(0.8926, dtype=float16), array(0.907, dtype=float16), array(0.881, dtype=float16)]\n",
      "Saved poisoned image 29 to ./data/poisons/mini_MathVista_grid+i2i_AdvDiffVLMAttack/synth/29.png\n",
      "Time: 47.75741672515869\n",
      "image name =  44\n",
      "Data shape for DDIM sampling is (1, 3, 64, 64), eta 0.0\n",
      "Running Adversarial Sampling at 0 step\n",
      "Running DDIM Sampling with 200 timesteps\n"
     ]
    },
    {
     "name": "stderr",
     "output_type": "stream",
     "text": [
      "\n",
      "\u001b[A\n",
      "\u001b[A\n",
      "\u001b[A\n",
      "\u001b[A\n",
      "\u001b[A\n",
      "DDIM Sampler: 100%|██████████| 200/200 [00:23<00:00,  8.50it/s]\n"
     ]
    },
    {
     "name": "stdout",
     "output_type": "stream",
     "text": [
      "Data shape for DDIM sampling is (1, 3, 64, 64), eta 0.0\n",
      "Running Adversarial Sampling at 0 step\n",
      "Running DDIM Sampling with 200 timesteps\n"
     ]
    },
    {
     "name": "stderr",
     "output_type": "stream",
     "text": [
      "\n",
      "\u001b[A\n",
      "\u001b[A\n",
      "\u001b[A\n",
      "\u001b[A\n",
      "DDIM Sampler: 100%|██████████| 200/200 [00:23<00:00,  8.49it/s]\n"
     ]
    },
    {
     "name": "stdout",
     "output_type": "stream",
     "text": [
      "loss: [array(0.7007, dtype=float16), array(0.7217, dtype=float16), array(0.719, dtype=float16), array(0.7563, dtype=float16)]\n",
      "Saved poisoned image 44 to ./data/poisons/mini_MathVista_grid+i2i_AdvDiffVLMAttack/synth/44.png\n",
      "Time: 47.815043687820435\n",
      "image name =  95\n",
      "Data shape for DDIM sampling is (1, 3, 64, 64), eta 0.0\n",
      "Running Adversarial Sampling at 0 step\n",
      "Running DDIM Sampling with 200 timesteps\n"
     ]
    },
    {
     "name": "stderr",
     "output_type": "stream",
     "text": [
      "\n",
      "\u001b[A\n",
      "\u001b[A\n",
      "\u001b[A\n",
      "\u001b[A\n",
      "DDIM Sampler: 100%|██████████| 200/200 [00:23<00:00,  8.50it/s]\n"
     ]
    },
    {
     "name": "stdout",
     "output_type": "stream",
     "text": [
      "Data shape for DDIM sampling is (1, 3, 64, 64), eta 0.0\n",
      "Running Adversarial Sampling at 0 step\n",
      "Running DDIM Sampling with 200 timesteps\n"
     ]
    },
    {
     "name": "stderr",
     "output_type": "stream",
     "text": [
      "\n",
      "\u001b[A\n",
      "\u001b[A\n",
      "\u001b[A\n",
      "\u001b[A\n",
      "\u001b[A\n",
      "\u001b[A\n",
      "DDIM Sampler: 100%|██████████| 200/200 [00:23<00:00,  8.50it/s]\n"
     ]
    },
    {
     "name": "stdout",
     "output_type": "stream",
     "text": [
      "loss: [array(0.8657, dtype=float16), array(0.886, dtype=float16), array(0.8467, dtype=float16), array(0.8867, dtype=float16)]\n",
      "Saved poisoned image 95 to ./data/poisons/mini_MathVista_grid+i2i_AdvDiffVLMAttack/synth/95.png\n",
      "Time: 47.79008674621582\n",
      "image name =  38\n",
      "Data shape for DDIM sampling is (1, 3, 64, 64), eta 0.0\n",
      "Running Adversarial Sampling at 0 step\n",
      "Running DDIM Sampling with 200 timesteps\n"
     ]
    },
    {
     "name": "stderr",
     "output_type": "stream",
     "text": [
      "\n",
      "\u001b[A\n",
      "\u001b[A\n",
      "\u001b[A\n",
      "\u001b[A\n",
      "DDIM Sampler: 100%|██████████| 200/200 [00:23<00:00,  8.54it/s]\n"
     ]
    },
    {
     "name": "stdout",
     "output_type": "stream",
     "text": [
      "Data shape for DDIM sampling is (1, 3, 64, 64), eta 0.0\n",
      "Running Adversarial Sampling at 0 step\n",
      "Running DDIM Sampling with 200 timesteps\n"
     ]
    },
    {
     "name": "stderr",
     "output_type": "stream",
     "text": [
      "\n",
      "\u001b[A\n",
      "\u001b[A\n",
      "\u001b[A\n",
      "\u001b[A\n",
      "DDIM Sampler: 100%|██████████| 200/200 [00:23<00:00,  8.59it/s]\n"
     ]
    },
    {
     "name": "stdout",
     "output_type": "stream",
     "text": [
      "loss: [array(0.845, dtype=float16), array(0.8726, dtype=float16), array(0.8374, dtype=float16), array(0.8535, dtype=float16)]\n",
      "Saved poisoned image 38 to ./data/poisons/mini_MathVista_grid+i2i_AdvDiffVLMAttack/synth/38.png\n",
      "Time: 47.450968503952026\n",
      "image name =  43\n",
      "Data shape for DDIM sampling is (1, 3, 64, 64), eta 0.0\n",
      "Running Adversarial Sampling at 0 step\n",
      "Running DDIM Sampling with 200 timesteps\n"
     ]
    },
    {
     "name": "stderr",
     "output_type": "stream",
     "text": [
      "\n",
      "\u001b[A\n",
      "\u001b[A\n",
      "\u001b[A\n",
      "\u001b[A\n",
      "DDIM Sampler: 100%|██████████| 200/200 [00:23<00:00,  8.48it/s]\n"
     ]
    },
    {
     "name": "stdout",
     "output_type": "stream",
     "text": [
      "Data shape for DDIM sampling is (1, 3, 64, 64), eta 0.0\n",
      "Running Adversarial Sampling at 0 step\n",
      "Running DDIM Sampling with 200 timesteps\n"
     ]
    },
    {
     "name": "stderr",
     "output_type": "stream",
     "text": [
      "\n",
      "\u001b[A\n",
      "\u001b[A\n",
      "\u001b[A\n",
      "\u001b[A\n",
      "DDIM Sampler: 100%|██████████| 200/200 [00:23<00:00,  8.54it/s]\n"
     ]
    },
    {
     "name": "stdout",
     "output_type": "stream",
     "text": [
      "loss: [array(0.8374, dtype=float16), array(0.8257, dtype=float16), array(0.835, dtype=float16), array(0.8228, dtype=float16)]\n",
      "Saved poisoned image 43 to ./data/poisons/mini_MathVista_grid+i2i_AdvDiffVLMAttack/synth/43.png\n",
      "Time: 47.744258403778076\n",
      "image name =  92\n",
      "Data shape for DDIM sampling is (1, 3, 64, 64), eta 0.0\n",
      "Running Adversarial Sampling at 0 step\n",
      "Running DDIM Sampling with 200 timesteps\n"
     ]
    },
    {
     "name": "stderr",
     "output_type": "stream",
     "text": [
      "\n",
      "\u001b[A\n",
      "\u001b[A\n",
      "\u001b[A\n",
      "\u001b[A\n",
      "\u001b[A\n",
      "\u001b[A\n",
      "DDIM Sampler: 100%|██████████| 200/200 [00:23<00:00,  8.60it/s]\n"
     ]
    },
    {
     "name": "stdout",
     "output_type": "stream",
     "text": [
      "Data shape for DDIM sampling is (1, 3, 64, 64), eta 0.0\n",
      "Running Adversarial Sampling at 0 step\n",
      "Running DDIM Sampling with 200 timesteps\n"
     ]
    },
    {
     "name": "stderr",
     "output_type": "stream",
     "text": [
      "\n",
      "\u001b[A\n",
      "\u001b[A\n",
      "\u001b[A\n",
      "\u001b[A\n",
      "DDIM Sampler: 100%|██████████| 200/200 [00:23<00:00,  8.40it/s]\n"
     ]
    },
    {
     "name": "stdout",
     "output_type": "stream",
     "text": [
      "loss: [array(0.9326, dtype=float16), array(0.95, dtype=float16), array(0.9453, dtype=float16), array(0.933, dtype=float16)]\n",
      "Saved poisoned image 92 to ./data/poisons/mini_MathVista_grid+i2i_AdvDiffVLMAttack/synth/92.png\n",
      "Time: 47.85984539985657\n",
      "image name =  31\n",
      "Data shape for DDIM sampling is (1, 3, 64, 64), eta 0.0\n",
      "Running Adversarial Sampling at 0 step\n",
      "Running DDIM Sampling with 200 timesteps\n"
     ]
    },
    {
     "name": "stderr",
     "output_type": "stream",
     "text": [
      "\n",
      "\u001b[A\n",
      "\u001b[A\n",
      "\u001b[A\n",
      "\u001b[A\n",
      "DDIM Sampler: 100%|██████████| 200/200 [00:23<00:00,  8.58it/s]\n"
     ]
    },
    {
     "name": "stdout",
     "output_type": "stream",
     "text": [
      "Data shape for DDIM sampling is (1, 3, 64, 64), eta 0.0\n",
      "Running Adversarial Sampling at 0 step\n",
      "Running DDIM Sampling with 200 timesteps\n"
     ]
    },
    {
     "name": "stderr",
     "output_type": "stream",
     "text": [
      "\n",
      "\u001b[A\n",
      "\u001b[A\n",
      "\u001b[A\n",
      "\u001b[A\n",
      "\u001b[A\n",
      "\u001b[A\n",
      "DDIM Sampler: 100%|██████████| 200/200 [00:23<00:00,  8.68it/s]\n"
     ]
    },
    {
     "name": "stdout",
     "output_type": "stream",
     "text": [
      "loss: [array(0.865, dtype=float16), array(0.905, dtype=float16), array(0.8955, dtype=float16), array(0.8965, dtype=float16)]\n",
      "Saved poisoned image 31 to ./data/poisons/mini_MathVista_grid+i2i_AdvDiffVLMAttack/synth/31.png\n",
      "Time: 47.09956431388855\n",
      "image name =  36\n",
      "Data shape for DDIM sampling is (1, 3, 64, 64), eta 0.0\n",
      "Running Adversarial Sampling at 0 step\n",
      "Running DDIM Sampling with 200 timesteps\n"
     ]
    },
    {
     "name": "stderr",
     "output_type": "stream",
     "text": [
      "\n",
      "\u001b[A\n",
      "\u001b[A\n",
      "\u001b[A\n",
      "\u001b[A\n",
      "DDIM Sampler: 100%|██████████| 200/200 [00:23<00:00,  8.58it/s]\n"
     ]
    },
    {
     "name": "stdout",
     "output_type": "stream",
     "text": [
      "Data shape for DDIM sampling is (1, 3, 64, 64), eta 0.0\n",
      "Running Adversarial Sampling at 0 step\n",
      "Running DDIM Sampling with 200 timesteps\n"
     ]
    },
    {
     "name": "stderr",
     "output_type": "stream",
     "text": [
      "\n",
      "\u001b[A\n",
      "\u001b[A\n",
      "\u001b[A\n",
      "\u001b[A\n",
      "DDIM Sampler: 100%|██████████| 200/200 [00:23<00:00,  8.51it/s]\n"
     ]
    },
    {
     "name": "stdout",
     "output_type": "stream",
     "text": [
      "loss: [array(0.722, dtype=float16), array(0.796, dtype=float16), array(0.8765, dtype=float16), array(0.776, dtype=float16)]\n",
      "Saved poisoned image 36 to ./data/poisons/mini_MathVista_grid+i2i_AdvDiffVLMAttack/synth/36.png\n",
      "Time: 47.6231906414032\n",
      "image name =  78\n",
      "Data shape for DDIM sampling is (1, 3, 64, 64), eta 0.0\n",
      "Running Adversarial Sampling at 0 step\n",
      "Running DDIM Sampling with 200 timesteps\n"
     ]
    },
    {
     "name": "stderr",
     "output_type": "stream",
     "text": [
      "\n",
      "\u001b[A\n",
      "\u001b[A\n",
      "\u001b[A\n",
      "\u001b[A\n",
      "DDIM Sampler: 100%|██████████| 200/200 [00:23<00:00,  8.56it/s]\n"
     ]
    },
    {
     "name": "stdout",
     "output_type": "stream",
     "text": [
      "Data shape for DDIM sampling is (1, 3, 64, 64), eta 0.0\n",
      "Running Adversarial Sampling at 0 step\n",
      "Running DDIM Sampling with 200 timesteps\n"
     ]
    },
    {
     "name": "stderr",
     "output_type": "stream",
     "text": [
      "\n",
      "\u001b[A\n",
      "\u001b[A\n",
      "\u001b[A\n",
      "\u001b[A\n",
      "DDIM Sampler: 100%|██████████| 200/200 [00:23<00:00,  8.65it/s]\n"
     ]
    },
    {
     "name": "stdout",
     "output_type": "stream",
     "text": [
      "loss: [array(0.7964, dtype=float16), array(0.839, dtype=float16), array(0.8413, dtype=float16), array(0.785, dtype=float16)]\n",
      "Saved poisoned image 78 to ./data/poisons/mini_MathVista_grid+i2i_AdvDiffVLMAttack/synth/78.png\n",
      "Time: 47.22391700744629\n",
      "image name =  76\n",
      "Data shape for DDIM sampling is (1, 3, 64, 64), eta 0.0\n",
      "Running Adversarial Sampling at 0 step\n",
      "Running DDIM Sampling with 200 timesteps\n"
     ]
    },
    {
     "name": "stderr",
     "output_type": "stream",
     "text": [
      "\n",
      "\u001b[A\n",
      "\u001b[A\n",
      "\u001b[A\n",
      "\u001b[A\n",
      "\u001b[A\n",
      "DDIM Sampler: 100%|██████████| 200/200 [00:23<00:00,  8.45it/s]\n"
     ]
    },
    {
     "name": "stdout",
     "output_type": "stream",
     "text": [
      "Data shape for DDIM sampling is (1, 3, 64, 64), eta 0.0\n",
      "Running Adversarial Sampling at 0 step\n",
      "Running DDIM Sampling with 200 timesteps\n"
     ]
    },
    {
     "name": "stderr",
     "output_type": "stream",
     "text": [
      "\n",
      "\u001b[A\n",
      "\u001b[A\n",
      "\u001b[A\n",
      "\u001b[A\n",
      "DDIM Sampler: 100%|██████████| 200/200 [00:23<00:00,  8.54it/s]\n"
     ]
    },
    {
     "name": "stdout",
     "output_type": "stream",
     "text": [
      "loss: [array(0.8057, dtype=float16), array(0.841, dtype=float16), array(0.796, dtype=float16), array(0.8286, dtype=float16)]\n",
      "Saved poisoned image 76 to ./data/poisons/mini_MathVista_grid+i2i_AdvDiffVLMAttack/synth/76.png\n",
      "Time: 47.83151817321777\n",
      "image name =  71\n",
      "Data shape for DDIM sampling is (1, 3, 64, 64), eta 0.0\n",
      "Running Adversarial Sampling at 0 step\n",
      "Running DDIM Sampling with 200 timesteps\n"
     ]
    },
    {
     "name": "stderr",
     "output_type": "stream",
     "text": [
      "\n",
      "\u001b[A\n",
      "\u001b[A\n",
      "\u001b[A\n",
      "\u001b[A\n",
      "DDIM Sampler: 100%|██████████| 200/200 [00:23<00:00,  8.50it/s]\n"
     ]
    },
    {
     "name": "stdout",
     "output_type": "stream",
     "text": [
      "Data shape for DDIM sampling is (1, 3, 64, 64), eta 0.0\n",
      "Running Adversarial Sampling at 0 step\n",
      "Running DDIM Sampling with 200 timesteps\n"
     ]
    },
    {
     "name": "stderr",
     "output_type": "stream",
     "text": [
      "\n",
      "\u001b[A\n",
      "\u001b[A\n",
      "\u001b[A\n",
      "\u001b[A\n",
      "\u001b[A\n",
      "\u001b[A\n",
      "DDIM Sampler: 100%|██████████| 200/200 [00:22<00:00,  8.72it/s]\n"
     ]
    },
    {
     "name": "stdout",
     "output_type": "stream",
     "text": [
      "loss: [array(0.809, dtype=float16), array(0.8228, dtype=float16), array(0.8784, dtype=float16), array(0.883, dtype=float16)]\n",
      "Saved poisoned image 71 to ./data/poisons/mini_MathVista_grid+i2i_AdvDiffVLMAttack/synth/71.png\n",
      "Time: 47.18556094169617\n",
      "image name =  40\n",
      "Data shape for DDIM sampling is (1, 3, 64, 64), eta 0.0\n",
      "Running Adversarial Sampling at 0 step\n",
      "Running DDIM Sampling with 200 timesteps\n"
     ]
    },
    {
     "name": "stderr",
     "output_type": "stream",
     "text": [
      "\n",
      "\u001b[A\n",
      "\u001b[A\n",
      "\u001b[A\n",
      "\u001b[A\n",
      "DDIM Sampler: 100%|██████████| 200/200 [00:23<00:00,  8.55it/s]\n"
     ]
    },
    {
     "name": "stdout",
     "output_type": "stream",
     "text": [
      "Data shape for DDIM sampling is (1, 3, 64, 64), eta 0.0\n",
      "Running Adversarial Sampling at 0 step\n",
      "Running DDIM Sampling with 200 timesteps\n"
     ]
    },
    {
     "name": "stderr",
     "output_type": "stream",
     "text": [
      "\n",
      "\u001b[A\n",
      "\u001b[A\n",
      "\u001b[A\n",
      "\u001b[A\n",
      "DDIM Sampler: 100%|██████████| 200/200 [00:23<00:00,  8.46it/s]\n"
     ]
    },
    {
     "name": "stdout",
     "output_type": "stream",
     "text": [
      "loss: [array(0.9414, dtype=float16), array(0.956, dtype=float16), array(0.957, dtype=float16), array(0.96, dtype=float16)]\n",
      "Saved poisoned image 40 to ./data/poisons/mini_MathVista_grid+i2i_AdvDiffVLMAttack/synth/40.png\n",
      "Time: 47.77580976486206\n",
      "image name =  91\n",
      "Data shape for DDIM sampling is (1, 3, 64, 64), eta 0.0\n",
      "Running Adversarial Sampling at 0 step\n",
      "Running DDIM Sampling with 200 timesteps\n"
     ]
    },
    {
     "name": "stderr",
     "output_type": "stream",
     "text": [
      "\n",
      "\u001b[A\n",
      "\u001b[A\n",
      "\u001b[A\n",
      "\u001b[A\n",
      "DDIM Sampler: 100%|██████████| 200/200 [00:23<00:00,  8.49it/s]\n"
     ]
    },
    {
     "name": "stdout",
     "output_type": "stream",
     "text": [
      "Data shape for DDIM sampling is (1, 3, 64, 64), eta 0.0\n",
      "Running Adversarial Sampling at 0 step\n",
      "Running DDIM Sampling with 200 timesteps\n"
     ]
    },
    {
     "name": "stderr",
     "output_type": "stream",
     "text": [
      "\n",
      "\u001b[A\n",
      "\u001b[A\n",
      "\u001b[A\n",
      "\u001b[A\n",
      "DDIM Sampler: 100%|██████████| 200/200 [00:23<00:00,  8.50it/s]\n"
     ]
    },
    {
     "name": "stdout",
     "output_type": "stream",
     "text": [
      "loss: [array(0.9355, dtype=float16), array(0.948, dtype=float16), array(0.945, dtype=float16), array(0.953, dtype=float16)]\n",
      "Saved poisoned image 91 to ./data/poisons/mini_MathVista_grid+i2i_AdvDiffVLMAttack/synth/91.png\n",
      "Time: 47.813400745391846\n",
      "image name =  47\n",
      "Data shape for DDIM sampling is (1, 3, 64, 64), eta 0.0\n",
      "Running Adversarial Sampling at 0 step\n",
      "Running DDIM Sampling with 200 timesteps\n"
     ]
    },
    {
     "name": "stderr",
     "output_type": "stream",
     "text": [
      "\n",
      "\u001b[A\n",
      "\u001b[A\n",
      "\u001b[A\n",
      "\u001b[A\n",
      "\u001b[A\n",
      "\u001b[A\n",
      "DDIM Sampler: 100%|██████████| 200/200 [00:23<00:00,  8.48it/s]\n"
     ]
    },
    {
     "name": "stdout",
     "output_type": "stream",
     "text": [
      "Data shape for DDIM sampling is (1, 3, 64, 64), eta 0.0\n",
      "Running Adversarial Sampling at 0 step\n",
      "Running DDIM Sampling with 200 timesteps\n"
     ]
    },
    {
     "name": "stderr",
     "output_type": "stream",
     "text": [
      "\n",
      "\u001b[A\n",
      "\u001b[A\n",
      "\u001b[A\n",
      "\u001b[A\n",
      "DDIM Sampler: 100%|██████████| 200/200 [00:23<00:00,  8.55it/s]\n"
     ]
    },
    {
     "name": "stdout",
     "output_type": "stream",
     "text": [
      "loss: [array(0.926, dtype=float16), array(0.9624, dtype=float16), array(0.953, dtype=float16), array(0.961, dtype=float16)]\n",
      "Saved poisoned image 47 to ./data/poisons/mini_MathVista_grid+i2i_AdvDiffVLMAttack/synth/47.png\n",
      "Time: 47.69573640823364\n",
      "image name =  96\n",
      "Data shape for DDIM sampling is (1, 3, 64, 64), eta 0.0\n",
      "Running Adversarial Sampling at 0 step\n",
      "Running DDIM Sampling with 200 timesteps\n"
     ]
    },
    {
     "name": "stderr",
     "output_type": "stream",
     "text": [
      "\n",
      "\u001b[A\n",
      "\u001b[A\n",
      "\u001b[A\n",
      "\u001b[A\n",
      "DDIM Sampler: 100%|██████████| 200/200 [00:23<00:00,  8.55it/s]\n"
     ]
    },
    {
     "name": "stdout",
     "output_type": "stream",
     "text": [
      "Data shape for DDIM sampling is (1, 3, 64, 64), eta 0.0\n",
      "Running Adversarial Sampling at 0 step\n",
      "Running DDIM Sampling with 200 timesteps\n"
     ]
    },
    {
     "name": "stderr",
     "output_type": "stream",
     "text": [
      "\n",
      "\u001b[A\n",
      "\u001b[A\n",
      "\u001b[A\n",
      "\u001b[A\n",
      "\u001b[A\n",
      "\u001b[A\n",
      "DDIM Sampler: 100%|██████████| 200/200 [00:23<00:00,  8.54it/s]\n"
     ]
    },
    {
     "name": "stdout",
     "output_type": "stream",
     "text": [
      "loss: [array(0.687, dtype=float16), array(0.7114, dtype=float16), array(0.696, dtype=float16), array(0.7886, dtype=float16)]\n",
      "Saved poisoned image 96 to ./data/poisons/mini_MathVista_grid+i2i_AdvDiffVLMAttack/synth/96.png\n",
      "Time: 47.551289558410645\n",
      "image name =  49\n",
      "Data shape for DDIM sampling is (1, 3, 64, 64), eta 0.0\n",
      "Running Adversarial Sampling at 0 step\n",
      "Running DDIM Sampling with 200 timesteps\n"
     ]
    },
    {
     "name": "stderr",
     "output_type": "stream",
     "text": [
      "\n",
      "\u001b[A\n",
      "\u001b[A\n",
      "\u001b[A\n",
      "\u001b[A\n",
      "DDIM Sampler: 100%|██████████| 200/200 [00:23<00:00,  8.67it/s]\n"
     ]
    },
    {
     "name": "stdout",
     "output_type": "stream",
     "text": [
      "Data shape for DDIM sampling is (1, 3, 64, 64), eta 0.0\n",
      "Running Adversarial Sampling at 0 step\n",
      "Running DDIM Sampling with 200 timesteps\n"
     ]
    },
    {
     "name": "stderr",
     "output_type": "stream",
     "text": [
      "\n",
      "\u001b[A\n",
      "\u001b[A\n",
      "\u001b[A\n",
      "\u001b[A\n",
      "DDIM Sampler: 100%|██████████| 200/200 [00:23<00:00,  8.55it/s]\n"
     ]
    },
    {
     "name": "stdout",
     "output_type": "stream",
     "text": [
      "loss: [array(0.876, dtype=float16), array(0.8823, dtype=float16), array(0.8877, dtype=float16), array(0.874, dtype=float16)]\n",
      "Saved poisoned image 49 to ./data/poisons/mini_MathVista_grid+i2i_AdvDiffVLMAttack/synth/49.png\n",
      "Time: 47.21983599662781\n",
      "image name =  100\n",
      "Data shape for DDIM sampling is (1, 3, 64, 64), eta 0.0\n",
      "Running Adversarial Sampling at 0 step\n",
      "Running DDIM Sampling with 200 timesteps\n"
     ]
    },
    {
     "name": "stderr",
     "output_type": "stream",
     "text": [
      "\n",
      "\u001b[A\n",
      "\u001b[A\n",
      "\u001b[A\n",
      "\u001b[A\n",
      "DDIM Sampler: 100%|██████████| 200/200 [00:23<00:00,  8.59it/s]\n"
     ]
    },
    {
     "name": "stdout",
     "output_type": "stream",
     "text": [
      "Data shape for DDIM sampling is (1, 3, 64, 64), eta 0.0\n",
      "Running Adversarial Sampling at 0 step\n",
      "Running DDIM Sampling with 200 timesteps\n"
     ]
    },
    {
     "name": "stderr",
     "output_type": "stream",
     "text": [
      "\n",
      "\u001b[A\n",
      "\u001b[A\n",
      "\u001b[A\n",
      "\u001b[A\n",
      "DDIM Sampler: 100%|██████████| 200/200 [00:23<00:00,  8.50it/s]\n"
     ]
    },
    {
     "name": "stdout",
     "output_type": "stream",
     "text": [
      "loss: [array(0.8247, dtype=float16), array(0.833, dtype=float16), array(0.819, dtype=float16), array(0.8525, dtype=float16)]\n",
      "Saved poisoned image 100 to ./data/poisons/mini_MathVista_grid+i2i_AdvDiffVLMAttack/synth/100.png\n",
      "Time: 47.560171127319336\n",
      "image name =  98\n",
      "Data shape for DDIM sampling is (1, 3, 64, 64), eta 0.0\n",
      "Running Adversarial Sampling at 0 step\n",
      "Running DDIM Sampling with 200 timesteps\n"
     ]
    },
    {
     "name": "stderr",
     "output_type": "stream",
     "text": [
      "\n",
      "\u001b[A\n",
      "\u001b[A\n",
      "\u001b[A\n",
      "\u001b[A\n",
      "\u001b[A\n",
      "\u001b[A\n",
      "DDIM Sampler: 100%|██████████| 200/200 [00:23<00:00,  8.48it/s]\n"
     ]
    },
    {
     "name": "stdout",
     "output_type": "stream",
     "text": [
      "Data shape for DDIM sampling is (1, 3, 64, 64), eta 0.0\n",
      "Running Adversarial Sampling at 0 step\n",
      "Running DDIM Sampling with 200 timesteps\n"
     ]
    },
    {
     "name": "stderr",
     "output_type": "stream",
     "text": [
      "\n",
      "\u001b[A\n",
      "\u001b[A\n",
      "\u001b[A\n",
      "\u001b[A\n",
      "DDIM Sampler: 100%|██████████| 200/200 [00:23<00:00,  8.52it/s]\n"
     ]
    },
    {
     "name": "stdout",
     "output_type": "stream",
     "text": [
      "loss: [array(0.8696, dtype=float16), array(0.8716, dtype=float16), array(0.8374, dtype=float16), array(0.838, dtype=float16)]\n",
      "Saved poisoned image 98 to ./data/poisons/mini_MathVista_grid+i2i_AdvDiffVLMAttack/synth/98.png\n",
      "Time: 47.83729314804077\n",
      "image name =  35\n",
      "Data shape for DDIM sampling is (1, 3, 64, 64), eta 0.0\n",
      "Running Adversarial Sampling at 0 step\n",
      "Running DDIM Sampling with 200 timesteps\n"
     ]
    },
    {
     "name": "stderr",
     "output_type": "stream",
     "text": [
      "\n",
      "\u001b[A\n",
      "\u001b[A\n",
      "\u001b[A\n",
      "\u001b[A\n",
      "DDIM Sampler: 100%|██████████| 200/200 [00:23<00:00,  8.52it/s]\n"
     ]
    },
    {
     "name": "stdout",
     "output_type": "stream",
     "text": [
      "Data shape for DDIM sampling is (1, 3, 64, 64), eta 0.0\n",
      "Running Adversarial Sampling at 0 step\n",
      "Running DDIM Sampling with 200 timesteps\n"
     ]
    },
    {
     "name": "stderr",
     "output_type": "stream",
     "text": [
      "\n",
      "\u001b[A\n",
      "\u001b[A\n",
      "\u001b[A\n",
      "\u001b[A\n",
      "\u001b[A\n",
      "\u001b[A\n",
      "DDIM Sampler: 100%|██████████| 200/200 [00:23<00:00,  8.55it/s]\n"
     ]
    },
    {
     "name": "stdout",
     "output_type": "stream",
     "text": [
      "loss: [array(0.826, dtype=float16), array(0.8457, dtype=float16), array(0.8354, dtype=float16), array(0.834, dtype=float16)]\n",
      "Saved poisoned image 35 to ./data/poisons/mini_MathVista_grid+i2i_AdvDiffVLMAttack/synth/35.png\n",
      "Time: 47.60131359100342\n",
      "image name =  32\n",
      "Data shape for DDIM sampling is (1, 3, 64, 64), eta 0.0\n",
      "Running Adversarial Sampling at 0 step\n",
      "Running DDIM Sampling with 200 timesteps\n"
     ]
    },
    {
     "name": "stderr",
     "output_type": "stream",
     "text": [
      "\n",
      "\u001b[A\n",
      "\u001b[A\n",
      "\u001b[A\n",
      "\u001b[A\n",
      "DDIM Sampler: 100%|██████████| 200/200 [00:23<00:00,  8.51it/s]\n"
     ]
    },
    {
     "name": "stdout",
     "output_type": "stream",
     "text": [
      "Data shape for DDIM sampling is (1, 3, 64, 64), eta 0.0\n",
      "Running Adversarial Sampling at 0 step\n",
      "Running DDIM Sampling with 200 timesteps\n"
     ]
    },
    {
     "name": "stderr",
     "output_type": "stream",
     "text": [
      "\n",
      "\u001b[A\n",
      "\u001b[A\n",
      "\u001b[A\n",
      "\u001b[A\n",
      "DDIM Sampler: 100%|██████████| 200/200 [00:23<00:00,  8.51it/s]\n"
     ]
    },
    {
     "name": "stdout",
     "output_type": "stream",
     "text": [
      "loss: [array(0.8447, dtype=float16), array(0.861, dtype=float16), array(0.822, dtype=float16), array(0.869, dtype=float16)]\n",
      "Saved poisoned image 32 to ./data/poisons/mini_MathVista_grid+i2i_AdvDiffVLMAttack/synth/32.png\n",
      "Time: 47.709107875823975\n",
      "image name =  72\n",
      "Data shape for DDIM sampling is (1, 3, 64, 64), eta 0.0\n",
      "Running Adversarial Sampling at 0 step\n",
      "Running DDIM Sampling with 200 timesteps\n"
     ]
    },
    {
     "name": "stderr",
     "output_type": "stream",
     "text": [
      "\n",
      "\u001b[A\n",
      "\u001b[A\n",
      "\u001b[A\n",
      "\u001b[A\n",
      "DDIM Sampler: 100%|██████████| 200/200 [00:23<00:00,  8.53it/s]\n"
     ]
    },
    {
     "name": "stdout",
     "output_type": "stream",
     "text": [
      "Data shape for DDIM sampling is (1, 3, 64, 64), eta 0.0\n",
      "Running Adversarial Sampling at 0 step\n",
      "Running DDIM Sampling with 200 timesteps\n"
     ]
    },
    {
     "name": "stderr",
     "output_type": "stream",
     "text": [
      "\n",
      "\u001b[A\n",
      "\u001b[A\n",
      "\u001b[A\n",
      "\u001b[A\n",
      "DDIM Sampler: 100%|██████████| 200/200 [00:23<00:00,  8.53it/s]\n"
     ]
    },
    {
     "name": "stdout",
     "output_type": "stream",
     "text": [
      "loss: [array(0.7007, dtype=float16), array(0.7837, dtype=float16), array(0.7026, dtype=float16), array(0.6953, dtype=float16)]\n",
      "Saved poisoned image 72 to ./data/poisons/mini_MathVista_grid+i2i_AdvDiffVLMAttack/synth/72.png\n",
      "Time: 47.62712597846985\n",
      "image name =  75\n",
      "Data shape for DDIM sampling is (1, 3, 64, 64), eta 0.0\n",
      "Running Adversarial Sampling at 0 step\n",
      "Running DDIM Sampling with 200 timesteps\n"
     ]
    },
    {
     "name": "stderr",
     "output_type": "stream",
     "text": [
      "\n",
      "\u001b[A\n",
      "\u001b[A\n",
      "\u001b[A\n",
      "\u001b[A\n",
      "\u001b[A\n",
      "\u001b[A\n",
      "DDIM Sampler: 100%|██████████| 200/200 [00:23<00:00,  8.55it/s]\n"
     ]
    },
    {
     "name": "stdout",
     "output_type": "stream",
     "text": [
      "Data shape for DDIM sampling is (1, 3, 64, 64), eta 0.0\n",
      "Running Adversarial Sampling at 0 step\n",
      "Running DDIM Sampling with 200 timesteps\n"
     ]
    },
    {
     "name": "stderr",
     "output_type": "stream",
     "text": [
      "\n",
      "\u001b[A\n",
      "\u001b[A\n",
      "\u001b[A\n",
      "\u001b[A\n",
      "DDIM Sampler: 100%|██████████| 200/200 [00:23<00:00,  8.65it/s]\n"
     ]
    },
    {
     "name": "stdout",
     "output_type": "stream",
     "text": [
      "loss: [array(0.8105, dtype=float16), array(0.845, dtype=float16), array(0.8374, dtype=float16), array(0.8413, dtype=float16)]\n",
      "Saved poisoned image 75 to ./data/poisons/mini_MathVista_grid+i2i_AdvDiffVLMAttack/synth/75.png\n",
      "Time: 47.217262983322144\n",
      "image name =  18\n",
      "Data shape for DDIM sampling is (1, 3, 64, 64), eta 0.0\n",
      "Running Adversarial Sampling at 0 step\n",
      "Running DDIM Sampling with 200 timesteps\n"
     ]
    },
    {
     "name": "stderr",
     "output_type": "stream",
     "text": [
      "\n",
      "\u001b[A\n",
      "\u001b[A\n",
      "\u001b[A\n",
      "\u001b[A\n",
      "DDIM Sampler: 100%|██████████| 200/200 [00:23<00:00,  8.63it/s]\n"
     ]
    },
    {
     "name": "stdout",
     "output_type": "stream",
     "text": [
      "Data shape for DDIM sampling is (1, 3, 64, 64), eta 0.0\n",
      "Running Adversarial Sampling at 0 step\n",
      "Running DDIM Sampling with 200 timesteps\n"
     ]
    },
    {
     "name": "stderr",
     "output_type": "stream",
     "text": [
      "\n",
      "\u001b[A\n",
      "\u001b[A\n",
      "\u001b[A\n",
      "\u001b[A\n",
      "\u001b[A\n",
      "\u001b[A\n",
      "DDIM Sampler: 100%|██████████| 200/200 [00:23<00:00,  8.50it/s]\n"
     ]
    },
    {
     "name": "stdout",
     "output_type": "stream",
     "text": [
      "loss: [array(0.909, dtype=float16), array(0.9185, dtype=float16), array(0.9062, dtype=float16), array(0.9033, dtype=float16)]\n",
      "Saved poisoned image 18 to ./data/poisons/mini_MathVista_grid+i2i_AdvDiffVLMAttack/synth/18.png\n",
      "Time: 47.49792551994324\n",
      "image name =  64\n",
      "Data shape for DDIM sampling is (1, 3, 64, 64), eta 0.0\n",
      "Running Adversarial Sampling at 0 step\n",
      "Running DDIM Sampling with 200 timesteps\n"
     ]
    },
    {
     "name": "stderr",
     "output_type": "stream",
     "text": [
      "\n",
      "\u001b[A\n",
      "\u001b[A\n",
      "\u001b[A\n",
      "\u001b[A\n",
      "DDIM Sampler: 100%|██████████| 200/200 [00:23<00:00,  8.53it/s]\n"
     ]
    },
    {
     "name": "stdout",
     "output_type": "stream",
     "text": [
      "Data shape for DDIM sampling is (1, 3, 64, 64), eta 0.0\n",
      "Running Adversarial Sampling at 0 step\n",
      "Running DDIM Sampling with 200 timesteps\n"
     ]
    },
    {
     "name": "stderr",
     "output_type": "stream",
     "text": [
      "\n",
      "\u001b[A\n",
      "\u001b[A\n",
      "\u001b[A\n",
      "\u001b[A\n",
      "DDIM Sampler: 100%|██████████| 200/200 [00:23<00:00,  8.53it/s]\n"
     ]
    },
    {
     "name": "stdout",
     "output_type": "stream",
     "text": [
      "loss: [array(0.875, dtype=float16), array(0.8877, dtype=float16), array(0.888, dtype=float16), array(0.9062, dtype=float16)]\n",
      "Saved poisoned image 64 to ./data/poisons/mini_MathVista_grid+i2i_AdvDiffVLMAttack/synth/64.png\n",
      "Time: 47.627344369888306\n",
      "image name =  63\n",
      "Data shape for DDIM sampling is (1, 3, 64, 64), eta 0.0\n",
      "Running Adversarial Sampling at 0 step\n",
      "Running DDIM Sampling with 200 timesteps\n"
     ]
    },
    {
     "name": "stderr",
     "output_type": "stream",
     "text": [
      "\n",
      "\u001b[A\n",
      "\u001b[A\n",
      "\u001b[A\n",
      "\u001b[A\n",
      "DDIM Sampler: 100%|██████████| 200/200 [00:23<00:00,  8.50it/s]\n"
     ]
    },
    {
     "name": "stdout",
     "output_type": "stream",
     "text": [
      "Data shape for DDIM sampling is (1, 3, 64, 64), eta 0.0\n",
      "Running Adversarial Sampling at 0 step\n",
      "Running DDIM Sampling with 200 timesteps\n"
     ]
    },
    {
     "name": "stderr",
     "output_type": "stream",
     "text": [
      "\n",
      "\u001b[A\n",
      "\u001b[A\n",
      "\u001b[A\n",
      "\u001b[A\n",
      "DDIM Sampler: 100%|██████████| 200/200 [00:23<00:00,  8.50it/s]\n"
     ]
    },
    {
     "name": "stdout",
     "output_type": "stream",
     "text": [
      "loss: [array(0.92, dtype=float16), array(0.96, dtype=float16), array(0.948, dtype=float16), array(0.958, dtype=float16)]\n",
      "Saved poisoned image 63 to ./data/poisons/mini_MathVista_grid+i2i_AdvDiffVLMAttack/synth/63.png\n",
      "Time: 47.78281378746033\n",
      "image name =  9\n",
      "Data shape for DDIM sampling is (1, 3, 64, 64), eta 0.0\n",
      "Running Adversarial Sampling at 0 step\n",
      "Running DDIM Sampling with 200 timesteps\n"
     ]
    },
    {
     "name": "stderr",
     "output_type": "stream",
     "text": [
      "\n",
      "\u001b[A\n",
      "\u001b[A\n",
      "\u001b[A\n",
      "\u001b[A\n",
      "\u001b[A\n",
      "\u001b[A\n",
      "DDIM Sampler: 100%|██████████| 200/200 [00:23<00:00,  8.52it/s]\n"
     ]
    },
    {
     "name": "stdout",
     "output_type": "stream",
     "text": [
      "Data shape for DDIM sampling is (1, 3, 64, 64), eta 0.0\n",
      "Running Adversarial Sampling at 0 step\n",
      "Running DDIM Sampling with 200 timesteps\n"
     ]
    },
    {
     "name": "stderr",
     "output_type": "stream",
     "text": [
      "\n",
      "\u001b[A\n",
      "\u001b[A\n",
      "\u001b[A\n",
      "\u001b[A\n",
      "DDIM Sampler: 100%|██████████| 200/200 [00:23<00:00,  8.52it/s]\n"
     ]
    },
    {
     "name": "stdout",
     "output_type": "stream",
     "text": [
      "loss: [array(0.8496, dtype=float16), array(0.8623, dtype=float16), array(0.859, dtype=float16), array(0.871, dtype=float16)]\n",
      "Saved poisoned image 9 to ./data/poisons/mini_MathVista_grid+i2i_AdvDiffVLMAttack/synth/9.png\n",
      "Time: 47.6737105846405\n",
      "image name =  7\n",
      "Data shape for DDIM sampling is (1, 3, 64, 64), eta 0.0\n",
      "Running Adversarial Sampling at 0 step\n",
      "Running DDIM Sampling with 200 timesteps\n"
     ]
    },
    {
     "name": "stderr",
     "output_type": "stream",
     "text": [
      "\n",
      "\u001b[A\n",
      "\u001b[A\n",
      "\u001b[A\n",
      "\u001b[A\n",
      "DDIM Sampler: 100%|██████████| 200/200 [00:23<00:00,  8.48it/s]\n"
     ]
    },
    {
     "name": "stdout",
     "output_type": "stream",
     "text": [
      "Data shape for DDIM sampling is (1, 3, 64, 64), eta 0.0\n",
      "Running Adversarial Sampling at 0 step\n",
      "Running DDIM Sampling with 200 timesteps\n"
     ]
    },
    {
     "name": "stderr",
     "output_type": "stream",
     "text": [
      "\n",
      "\u001b[A\n",
      "\u001b[A\n",
      "\u001b[A\n",
      "\u001b[A\n",
      "DDIM Sampler: 100%|██████████| 200/200 [00:23<00:00,  8.49it/s]\n"
     ]
    },
    {
     "name": "stdout",
     "output_type": "stream",
     "text": [
      "loss: [array(0.7227, dtype=float16), array(0.7705, dtype=float16), array(0.7515, dtype=float16), array(0.694, dtype=float16)]\n",
      "Saved poisoned image 7 to ./data/poisons/mini_MathVista_grid+i2i_AdvDiffVLMAttack/synth/7.png\n",
      "Time: 47.863415241241455\n",
      "image name =  11\n",
      "Data shape for DDIM sampling is (1, 3, 64, 64), eta 0.0\n",
      "Running Adversarial Sampling at 0 step\n",
      "Running DDIM Sampling with 200 timesteps\n"
     ]
    },
    {
     "name": "stderr",
     "output_type": "stream",
     "text": [
      "\n",
      "\u001b[A\n",
      "\u001b[A\n",
      "\u001b[A\n",
      "\u001b[A\n",
      "DDIM Sampler: 100%|██████████| 200/200 [00:23<00:00,  8.54it/s]\n"
     ]
    },
    {
     "name": "stdout",
     "output_type": "stream",
     "text": [
      "Data shape for DDIM sampling is (1, 3, 64, 64), eta 0.0\n",
      "Running Adversarial Sampling at 0 step\n",
      "Running DDIM Sampling with 200 timesteps\n"
     ]
    },
    {
     "name": "stderr",
     "output_type": "stream",
     "text": [
      "\n",
      "\u001b[A\n",
      "\u001b[A\n",
      "\u001b[A\n",
      "\u001b[A\n",
      "\u001b[A\n",
      "DDIM Sampler: 100%|██████████| 200/200 [00:23<00:00,  8.61it/s]\n"
     ]
    },
    {
     "name": "stdout",
     "output_type": "stream",
     "text": [
      "loss: [array(0.9287, dtype=float16), array(0.9404, dtype=float16), array(0.937, dtype=float16), array(0.9443, dtype=float16)]\n",
      "Saved poisoned image 11 to ./data/poisons/mini_MathVista_grid+i2i_AdvDiffVLMAttack/synth/11.png\n",
      "Time: 47.37206482887268\n",
      "image name =  16\n",
      "Data shape for DDIM sampling is (1, 3, 64, 64), eta 0.0\n",
      "Running Adversarial Sampling at 0 step\n",
      "Running DDIM Sampling with 200 timesteps\n"
     ]
    },
    {
     "name": "stderr",
     "output_type": "stream",
     "text": [
      "\n",
      "\u001b[A\n",
      "\u001b[A\n",
      "\u001b[A\n",
      "\u001b[A\n",
      "DDIM Sampler: 100%|██████████| 200/200 [00:23<00:00,  8.52it/s]\n"
     ]
    },
    {
     "name": "stdout",
     "output_type": "stream",
     "text": [
      "Data shape for DDIM sampling is (1, 3, 64, 64), eta 0.0\n",
      "Running Adversarial Sampling at 0 step\n",
      "Running DDIM Sampling with 200 timesteps\n"
     ]
    },
    {
     "name": "stderr",
     "output_type": "stream",
     "text": [
      "\n",
      "\u001b[A\n",
      "\u001b[A\n",
      "\u001b[A\n",
      "\u001b[A\n",
      "DDIM Sampler: 100%|██████████| 200/200 [00:23<00:00,  8.63it/s]\n"
     ]
    },
    {
     "name": "stdout",
     "output_type": "stream",
     "text": [
      "loss: [array(0.772, dtype=float16), array(0.783, dtype=float16), array(0.7686, dtype=float16), array(0.8022, dtype=float16)]\n",
      "Saved poisoned image 16 to ./data/poisons/mini_MathVista_grid+i2i_AdvDiffVLMAttack/synth/16.png\n",
      "Time: 47.41174507141113\n",
      "image name =  23\n",
      "Data shape for DDIM sampling is (1, 3, 64, 64), eta 0.0\n",
      "Running Adversarial Sampling at 0 step\n",
      "Running DDIM Sampling with 200 timesteps\n"
     ]
    },
    {
     "name": "stderr",
     "output_type": "stream",
     "text": [
      "\n",
      "\u001b[A\n",
      "\u001b[A\n",
      "\u001b[A\n",
      "\u001b[A\n",
      "\u001b[A\n",
      "\u001b[A\n",
      "DDIM Sampler: 100%|██████████| 200/200 [00:23<00:00,  8.50it/s]\n"
     ]
    },
    {
     "name": "stdout",
     "output_type": "stream",
     "text": [
      "Data shape for DDIM sampling is (1, 3, 64, 64), eta 0.0\n",
      "Running Adversarial Sampling at 0 step\n",
      "Running DDIM Sampling with 200 timesteps\n"
     ]
    },
    {
     "name": "stderr",
     "output_type": "stream",
     "text": [
      "\n",
      "\u001b[A\n",
      "\u001b[A\n",
      "\u001b[A\n",
      "\u001b[A\n",
      "DDIM Sampler: 100%|██████████| 200/200 [00:23<00:00,  8.49it/s]\n"
     ]
    },
    {
     "name": "stdout",
     "output_type": "stream",
     "text": [
      "loss: [array(0.814, dtype=float16), array(0.839, dtype=float16), array(0.795, dtype=float16), array(0.8096, dtype=float16)]\n",
      "Saved poisoned image 23 to ./data/poisons/mini_MathVista_grid+i2i_AdvDiffVLMAttack/synth/23.png\n",
      "Time: 47.835293769836426\n",
      "image name =  89\n",
      "Data shape for DDIM sampling is (1, 3, 64, 64), eta 0.0\n",
      "Running Adversarial Sampling at 0 step\n",
      "Running DDIM Sampling with 200 timesteps\n"
     ]
    },
    {
     "name": "stderr",
     "output_type": "stream",
     "text": [
      "\n",
      "\u001b[A\n",
      "\u001b[A\n",
      "\u001b[A\n",
      "\u001b[A\n",
      "DDIM Sampler: 100%|██████████| 200/200 [00:23<00:00,  8.51it/s]\n"
     ]
    },
    {
     "name": "stdout",
     "output_type": "stream",
     "text": [
      "Data shape for DDIM sampling is (1, 3, 64, 64), eta 0.0\n",
      "Running Adversarial Sampling at 0 step\n",
      "Running DDIM Sampling with 200 timesteps\n"
     ]
    },
    {
     "name": "stderr",
     "output_type": "stream",
     "text": [
      "\n",
      "\u001b[A\n",
      "\u001b[A\n",
      "\u001b[A\n",
      "\u001b[A\n",
      "DDIM Sampler: 100%|██████████| 200/200 [00:23<00:00,  8.49it/s]\n"
     ]
    },
    {
     "name": "stdout",
     "output_type": "stream",
     "text": [
      "loss: [array(0.9097, dtype=float16), array(0.924, dtype=float16), array(0.9355, dtype=float16), array(0.9224, dtype=float16)]\n",
      "Saved poisoned image 89 to ./data/poisons/mini_MathVista_grid+i2i_AdvDiffVLMAttack/synth/89.png\n",
      "Time: 47.830347299575806\n",
      "image name =  58\n",
      "Data shape for DDIM sampling is (1, 3, 64, 64), eta 0.0\n",
      "Running Adversarial Sampling at 0 step\n",
      "Running DDIM Sampling with 200 timesteps\n"
     ]
    },
    {
     "name": "stderr",
     "output_type": "stream",
     "text": [
      "\n",
      "\u001b[A\n",
      "\u001b[A\n",
      "\u001b[A\n",
      "\u001b[A\n",
      "DDIM Sampler: 100%|██████████| 200/200 [00:23<00:00,  8.65it/s]\n"
     ]
    },
    {
     "name": "stdout",
     "output_type": "stream",
     "text": [
      "Data shape for DDIM sampling is (1, 3, 64, 64), eta 0.0\n",
      "Running Adversarial Sampling at 0 step\n",
      "Running DDIM Sampling with 200 timesteps\n"
     ]
    },
    {
     "name": "stderr",
     "output_type": "stream",
     "text": [
      "\n",
      "\u001b[A\n",
      "\u001b[A\n",
      "\u001b[A\n",
      "\u001b[A\n",
      "\u001b[A\n",
      "DDIM Sampler: 100%|██████████| 200/200 [00:23<00:00,  8.54it/s]\n"
     ]
    },
    {
     "name": "stdout",
     "output_type": "stream",
     "text": [
      "loss: [array(0.7793, dtype=float16), array(0.776, dtype=float16), array(0.7773, dtype=float16), array(0.765, dtype=float16)]\n",
      "Saved poisoned image 58 to ./data/poisons/mini_MathVista_grid+i2i_AdvDiffVLMAttack/synth/58.png\n",
      "Time: 47.2625994682312\n",
      "image name =  24\n",
      "Data shape for DDIM sampling is (1, 3, 64, 64), eta 0.0\n",
      "Running Adversarial Sampling at 0 step\n",
      "Running DDIM Sampling with 200 timesteps\n"
     ]
    },
    {
     "name": "stderr",
     "output_type": "stream",
     "text": [
      "\n",
      "\u001b[A\n",
      "\u001b[A\n",
      "\u001b[A\n",
      "\u001b[A\n",
      "DDIM Sampler: 100%|██████████| 200/200 [00:23<00:00,  8.48it/s]\n"
     ]
    },
    {
     "name": "stdout",
     "output_type": "stream",
     "text": [
      "Data shape for DDIM sampling is (1, 3, 64, 64), eta 0.0\n",
      "Running Adversarial Sampling at 0 step\n",
      "Running DDIM Sampling with 200 timesteps\n"
     ]
    },
    {
     "name": "stderr",
     "output_type": "stream",
     "text": [
      "\n",
      "\u001b[A\n",
      "\u001b[A\n",
      "\u001b[A\n",
      "\u001b[A\n",
      "DDIM Sampler: 100%|██████████| 200/200 [00:23<00:00,  8.49it/s]\n"
     ]
    },
    {
     "name": "stdout",
     "output_type": "stream",
     "text": [
      "loss: [array(0.82, dtype=float16), array(0.8613, dtype=float16), array(0.8394, dtype=float16), array(0.8306, dtype=float16)]\n",
      "Saved poisoned image 24 to ./data/poisons/mini_MathVista_grid+i2i_AdvDiffVLMAttack/synth/24.png\n",
      "Time: 47.88960838317871\n",
      "image name =  87\n",
      "Data shape for DDIM sampling is (1, 3, 64, 64), eta 0.0\n",
      "Running Adversarial Sampling at 0 step\n",
      "Running DDIM Sampling with 200 timesteps\n"
     ]
    },
    {
     "name": "stderr",
     "output_type": "stream",
     "text": [
      "\n",
      "\u001b[A\n",
      "\u001b[A\n",
      "\u001b[A\n",
      "\u001b[A\n",
      "\u001b[A\n",
      "\u001b[A\n",
      "DDIM Sampler: 100%|██████████| 200/200 [00:23<00:00,  8.61it/s]\n"
     ]
    },
    {
     "name": "stdout",
     "output_type": "stream",
     "text": [
      "Data shape for DDIM sampling is (1, 3, 64, 64), eta 0.0\n",
      "Running Adversarial Sampling at 0 step\n",
      "Running DDIM Sampling with 200 timesteps\n"
     ]
    },
    {
     "name": "stderr",
     "output_type": "stream",
     "text": [
      "\n",
      "\u001b[A\n",
      "\u001b[A\n",
      "\u001b[A\n",
      "\u001b[A\n",
      "DDIM Sampler: 100%|██████████| 200/200 [00:23<00:00,  8.67it/s]\n"
     ]
    },
    {
     "name": "stdout",
     "output_type": "stream",
     "text": [
      "loss: [array(0.6646, dtype=float16), array(0.756, dtype=float16), array(0.7134, dtype=float16), array(0.748, dtype=float16)]\n",
      "Saved poisoned image 87 to ./data/poisons/mini_MathVista_grid+i2i_AdvDiffVLMAttack/synth/87.png\n",
      "Time: 47.039466857910156\n",
      "image name =  56\n",
      "Data shape for DDIM sampling is (1, 3, 64, 64), eta 0.0\n",
      "Running Adversarial Sampling at 0 step\n",
      "Running DDIM Sampling with 200 timesteps\n"
     ]
    },
    {
     "name": "stderr",
     "output_type": "stream",
     "text": [
      "\n",
      "\u001b[A\n",
      "\u001b[A\n",
      "\u001b[A\n",
      "\u001b[A\n",
      "DDIM Sampler: 100%|██████████| 200/200 [00:23<00:00,  8.62it/s]\n"
     ]
    },
    {
     "name": "stdout",
     "output_type": "stream",
     "text": [
      "Data shape for DDIM sampling is (1, 3, 64, 64), eta 0.0\n",
      "Running Adversarial Sampling at 0 step\n",
      "Running DDIM Sampling with 200 timesteps\n"
     ]
    },
    {
     "name": "stderr",
     "output_type": "stream",
     "text": [
      "\n",
      "\u001b[A\n",
      "\u001b[A\n",
      "\u001b[A\n",
      "\u001b[A\n",
      "DDIM Sampler: 100%|██████████| 200/200 [00:23<00:00,  8.49it/s]\n"
     ]
    },
    {
     "name": "stdout",
     "output_type": "stream",
     "text": [
      "loss: [array(0.7183, dtype=float16), array(0.7944, dtype=float16), array(0.866, dtype=float16), array(0.866, dtype=float16)]\n",
      "Saved poisoned image 56 to ./data/poisons/mini_MathVista_grid+i2i_AdvDiffVLMAttack/synth/56.png\n",
      "Time: 47.49982476234436\n",
      "image name =  80\n",
      "Data shape for DDIM sampling is (1, 3, 64, 64), eta 0.0\n",
      "Running Adversarial Sampling at 0 step\n",
      "Running DDIM Sampling with 200 timesteps\n"
     ]
    },
    {
     "name": "stderr",
     "output_type": "stream",
     "text": [
      "\n",
      "\u001b[A\n",
      "\u001b[A\n",
      "\u001b[A\n",
      "\u001b[A\n",
      "DDIM Sampler: 100%|██████████| 200/200 [00:23<00:00,  8.54it/s]\n"
     ]
    },
    {
     "name": "stdout",
     "output_type": "stream",
     "text": [
      "Data shape for DDIM sampling is (1, 3, 64, 64), eta 0.0\n",
      "Running Adversarial Sampling at 0 step\n",
      "Running DDIM Sampling with 200 timesteps\n"
     ]
    },
    {
     "name": "stderr",
     "output_type": "stream",
     "text": [
      "\n",
      "\u001b[A\n",
      "\u001b[A\n",
      "\u001b[A\n",
      "\u001b[A\n",
      "\u001b[A\n",
      "DDIM Sampler: 100%|██████████| 200/200 [00:23<00:00,  8.49it/s]\n"
     ]
    },
    {
     "name": "stdout",
     "output_type": "stream",
     "text": [
      "loss: [array(0.8716, dtype=float16), array(0.876, dtype=float16), array(0.883, dtype=float16), array(0.88, dtype=float16)]\n",
      "Saved poisoned image 80 to ./data/poisons/mini_MathVista_grid+i2i_AdvDiffVLMAttack/synth/80.png\n",
      "Time: 47.74468755722046\n",
      "image name =  51\n",
      "Data shape for DDIM sampling is (1, 3, 64, 64), eta 0.0\n",
      "Running Adversarial Sampling at 0 step\n",
      "Running DDIM Sampling with 200 timesteps\n"
     ]
    },
    {
     "name": "stderr",
     "output_type": "stream",
     "text": [
      "\n",
      "\u001b[A\n",
      "\u001b[A\n",
      "\u001b[A\n",
      "\u001b[A\n",
      "DDIM Sampler: 100%|██████████| 200/200 [00:23<00:00,  8.57it/s]\n"
     ]
    },
    {
     "name": "stdout",
     "output_type": "stream",
     "text": [
      "Data shape for DDIM sampling is (1, 3, 64, 64), eta 0.0\n",
      "Running Adversarial Sampling at 0 step\n",
      "Running DDIM Sampling with 200 timesteps\n"
     ]
    },
    {
     "name": "stderr",
     "output_type": "stream",
     "text": [
      "\n",
      "\u001b[A\n",
      "\u001b[A\n",
      "\u001b[A\n",
      "\u001b[A\n",
      "DDIM Sampler: 100%|██████████| 200/200 [00:23<00:00,  8.54it/s]\n"
     ]
    },
    {
     "name": "stdout",
     "output_type": "stream",
     "text": [
      "loss: [array(0.8013, dtype=float16), array(0.8623, dtype=float16), array(0.8022, dtype=float16), array(0.8335, dtype=float16)]\n",
      "Saved poisoned image 51 to ./data/poisons/mini_MathVista_grid+i2i_AdvDiffVLMAttack/synth/51.png\n",
      "Time: 47.484206438064575\n",
      "image name =  74\n",
      "Data shape for DDIM sampling is (1, 3, 64, 64), eta 0.0\n",
      "Running Adversarial Sampling at 0 step\n",
      "Running DDIM Sampling with 200 timesteps\n"
     ]
    },
    {
     "name": "stderr",
     "output_type": "stream",
     "text": [
      "\n",
      "\u001b[A\n",
      "\u001b[A\n",
      "\u001b[A\n",
      "\u001b[A\n",
      "\u001b[A\n",
      "\u001b[A\n",
      "DDIM Sampler: 100%|██████████| 200/200 [00:23<00:00,  8.56it/s]\n"
     ]
    },
    {
     "name": "stdout",
     "output_type": "stream",
     "text": [
      "Data shape for DDIM sampling is (1, 3, 64, 64), eta 0.0\n",
      "Running Adversarial Sampling at 0 step\n",
      "Running DDIM Sampling with 200 timesteps\n"
     ]
    },
    {
     "name": "stderr",
     "output_type": "stream",
     "text": [
      "\n",
      "\u001b[A\n",
      "\u001b[A\n",
      "\u001b[A\n",
      "\u001b[A\n",
      "DDIM Sampler: 100%|██████████| 200/200 [00:23<00:00,  8.45it/s]\n"
     ]
    },
    {
     "name": "stdout",
     "output_type": "stream",
     "text": [
      "loss: [array(0.85, dtype=float16), array(0.8857, dtype=float16), array(0.877, dtype=float16), array(0.909, dtype=float16)]\n",
      "Saved poisoned image 74 to ./data/poisons/mini_MathVista_grid+i2i_AdvDiffVLMAttack/synth/74.png\n",
      "Time: 47.77861499786377\n",
      "image name =  73\n",
      "Data shape for DDIM sampling is (1, 3, 64, 64), eta 0.0\n",
      "Running Adversarial Sampling at 0 step\n",
      "Running DDIM Sampling with 200 timesteps\n"
     ]
    },
    {
     "name": "stderr",
     "output_type": "stream",
     "text": [
      "\n",
      "\u001b[A\n",
      "\u001b[A\n",
      "\u001b[A\n",
      "\u001b[A\n",
      "DDIM Sampler: 100%|██████████| 200/200 [00:23<00:00,  8.52it/s]\n"
     ]
    },
    {
     "name": "stdout",
     "output_type": "stream",
     "text": [
      "Data shape for DDIM sampling is (1, 3, 64, 64), eta 0.0\n",
      "Running Adversarial Sampling at 0 step\n",
      "Running DDIM Sampling with 200 timesteps\n"
     ]
    },
    {
     "name": "stderr",
     "output_type": "stream",
     "text": [
      "\n",
      "\u001b[A\n",
      "\u001b[A\n",
      "\u001b[A\n",
      "\u001b[A\n",
      "DDIM Sampler: 100%|██████████| 200/200 [00:23<00:00,  8.69it/s]\n"
     ]
    },
    {
     "name": "stdout",
     "output_type": "stream",
     "text": [
      "loss: [array(0.873, dtype=float16), array(0.8726, dtype=float16), array(0.875, dtype=float16), array(0.807, dtype=float16)]\n",
      "Saved poisoned image 73 to ./data/poisons/mini_MathVista_grid+i2i_AdvDiffVLMAttack/synth/73.png\n",
      "Time: 47.23669624328613\n",
      "image name =  33\n",
      "Data shape for DDIM sampling is (1, 3, 64, 64), eta 0.0\n",
      "Running Adversarial Sampling at 0 step\n",
      "Running DDIM Sampling with 200 timesteps\n"
     ]
    },
    {
     "name": "stderr",
     "output_type": "stream",
     "text": [
      "\n",
      "\u001b[A\n",
      "\u001b[A\n",
      "\u001b[A\n",
      "\u001b[A\n",
      "DDIM Sampler: 100%|██████████| 200/200 [00:23<00:00,  8.50it/s]\n"
     ]
    },
    {
     "name": "stdout",
     "output_type": "stream",
     "text": [
      "Data shape for DDIM sampling is (1, 3, 64, 64), eta 0.0\n",
      "Running Adversarial Sampling at 0 step\n",
      "Running DDIM Sampling with 200 timesteps\n"
     ]
    },
    {
     "name": "stderr",
     "output_type": "stream",
     "text": [
      "\n",
      "\u001b[A\n",
      "\u001b[A\n",
      "\u001b[A\n",
      "\u001b[A\n",
      "DDIM Sampler: 100%|██████████| 200/200 [00:23<00:00,  8.67it/s]\n"
     ]
    },
    {
     "name": "stdout",
     "output_type": "stream",
     "text": [
      "loss: [array(0.8755, dtype=float16), array(0.889, dtype=float16), array(0.905, dtype=float16), array(0.8784, dtype=float16)]\n",
      "Saved poisoned image 33 to ./data/poisons/mini_MathVista_grid+i2i_AdvDiffVLMAttack/synth/33.png\n",
      "Time: 47.30153465270996\n",
      "image name =  48\n",
      "Data shape for DDIM sampling is (1, 3, 64, 64), eta 0.0\n",
      "Running Adversarial Sampling at 0 step\n",
      "Running DDIM Sampling with 200 timesteps\n"
     ]
    },
    {
     "name": "stderr",
     "output_type": "stream",
     "text": [
      "\n",
      "\u001b[A\n",
      "\u001b[A\n",
      "\u001b[A\n",
      "\u001b[A\n",
      "DDIM Sampler: 100%|██████████| 200/200 [00:23<00:00,  8.56it/s]\n"
     ]
    },
    {
     "name": "stdout",
     "output_type": "stream",
     "text": [
      "Data shape for DDIM sampling is (1, 3, 64, 64), eta 0.0\n",
      "Running Adversarial Sampling at 0 step\n",
      "Running DDIM Sampling with 200 timesteps\n"
     ]
    },
    {
     "name": "stderr",
     "output_type": "stream",
     "text": [
      "\n",
      "\u001b[A\n",
      "\u001b[A\n",
      "\u001b[A\n",
      "\u001b[A\n",
      "DDIM Sampler: 100%|██████████| 200/200 [00:23<00:00,  8.49it/s]\n"
     ]
    },
    {
     "name": "stdout",
     "output_type": "stream",
     "text": [
      "loss: [array(0.825, dtype=float16), array(0.8447, dtype=float16), array(0.8423, dtype=float16), array(0.859, dtype=float16)]\n",
      "Saved poisoned image 48 to ./data/poisons/mini_MathVista_grid+i2i_AdvDiffVLMAttack/synth/48.png\n",
      "Time: 47.65087032318115\n",
      "image name =  99\n",
      "Data shape for DDIM sampling is (1, 3, 64, 64), eta 0.0\n",
      "Running Adversarial Sampling at 0 step\n",
      "Running DDIM Sampling with 200 timesteps\n"
     ]
    },
    {
     "name": "stderr",
     "output_type": "stream",
     "text": [
      "\n",
      "\u001b[A\n",
      "\u001b[A\n",
      "\u001b[A\n",
      "\u001b[A\n",
      "\u001b[A\n",
      "\u001b[A\n",
      "DDIM Sampler: 100%|██████████| 200/200 [00:23<00:00,  8.67it/s]\n"
     ]
    },
    {
     "name": "stdout",
     "output_type": "stream",
     "text": [
      "Data shape for DDIM sampling is (1, 3, 64, 64), eta 0.0\n",
      "Running Adversarial Sampling at 0 step\n",
      "Running DDIM Sampling with 200 timesteps\n"
     ]
    },
    {
     "name": "stderr",
     "output_type": "stream",
     "text": [
      "\n",
      "\u001b[A\n",
      "\u001b[A\n",
      "\u001b[A\n",
      "\u001b[A\n",
      "DDIM Sampler: 100%|██████████| 200/200 [00:23<00:00,  8.69it/s]\n"
     ]
    },
    {
     "name": "stdout",
     "output_type": "stream",
     "text": [
      "loss: [array(0.8286, dtype=float16), array(0.848, dtype=float16), array(0.8745, dtype=float16), array(0.85, dtype=float16)]\n",
      "Saved poisoned image 99 to ./data/poisons/mini_MathVista_grid+i2i_AdvDiffVLMAttack/synth/99.png\n",
      "Time: 46.826109409332275\n",
      "image name =  34\n",
      "Data shape for DDIM sampling is (1, 3, 64, 64), eta 0.0\n",
      "Running Adversarial Sampling at 0 step\n",
      "Running DDIM Sampling with 200 timesteps\n"
     ]
    },
    {
     "name": "stderr",
     "output_type": "stream",
     "text": [
      "\n",
      "\u001b[A\n",
      "\u001b[A\n",
      "\u001b[A\n",
      "\u001b[A\n",
      "DDIM Sampler: 100%|██████████| 200/200 [00:23<00:00,  8.48it/s]\n"
     ]
    },
    {
     "name": "stdout",
     "output_type": "stream",
     "text": [
      "Data shape for DDIM sampling is (1, 3, 64, 64), eta 0.0\n",
      "Running Adversarial Sampling at 0 step\n",
      "Running DDIM Sampling with 200 timesteps\n"
     ]
    },
    {
     "name": "stderr",
     "output_type": "stream",
     "text": [
      "\n",
      "\u001b[A\n",
      "\u001b[A\n",
      "\u001b[A\n",
      "\u001b[A\n",
      "\u001b[A\n",
      "\u001b[A\n",
      "DDIM Sampler: 100%|██████████| 200/200 [00:23<00:00,  8.68it/s]\n"
     ]
    },
    {
     "name": "stdout",
     "output_type": "stream",
     "text": [
      "loss: [array(0.835, dtype=float16), array(0.8794, dtype=float16), array(0.879, dtype=float16), array(0.866, dtype=float16)]\n",
      "Saved poisoned image 34 to ./data/poisons/mini_MathVista_grid+i2i_AdvDiffVLMAttack/synth/34.png\n",
      "Time: 47.36584496498108\n",
      "image name =  46\n",
      "Data shape for DDIM sampling is (1, 3, 64, 64), eta 0.0\n",
      "Running Adversarial Sampling at 0 step\n",
      "Running DDIM Sampling with 200 timesteps\n"
     ]
    },
    {
     "name": "stderr",
     "output_type": "stream",
     "text": [
      "\n",
      "\u001b[A\n",
      "\u001b[A\n",
      "\u001b[A\n",
      "\u001b[A\n",
      "DDIM Sampler: 100%|██████████| 200/200 [00:23<00:00,  8.62it/s]\n"
     ]
    },
    {
     "name": "stdout",
     "output_type": "stream",
     "text": [
      "Data shape for DDIM sampling is (1, 3, 64, 64), eta 0.0\n",
      "Running Adversarial Sampling at 0 step\n",
      "Running DDIM Sampling with 200 timesteps\n"
     ]
    },
    {
     "name": "stderr",
     "output_type": "stream",
     "text": [
      "\n",
      "\u001b[A\n",
      "\u001b[A\n",
      "\u001b[A\n",
      "\u001b[A\n",
      "DDIM Sampler: 100%|██████████| 200/200 [00:22<00:00,  8.72it/s]\n"
     ]
    },
    {
     "name": "stdout",
     "output_type": "stream",
     "text": [
      "loss: [array(0.8193, dtype=float16), array(0.8374, dtype=float16), array(0.8496, dtype=float16), array(0.888, dtype=float16)]\n",
      "Saved poisoned image 46 to ./data/poisons/mini_MathVista_grid+i2i_AdvDiffVLMAttack/synth/46.png\n",
      "Time: 46.8544716835022\n",
      "image name =  97\n",
      "Data shape for DDIM sampling is (1, 3, 64, 64), eta 0.0\n",
      "Running Adversarial Sampling at 0 step\n",
      "Running DDIM Sampling with 200 timesteps\n"
     ]
    },
    {
     "name": "stderr",
     "output_type": "stream",
     "text": [
      "\n",
      "\u001b[A\n",
      "\u001b[A\n",
      "\u001b[A\n",
      "\u001b[A\n",
      "DDIM Sampler: 100%|██████████| 200/200 [00:22<00:00,  8.71it/s]\n"
     ]
    },
    {
     "name": "stdout",
     "output_type": "stream",
     "text": [
      "Data shape for DDIM sampling is (1, 3, 64, 64), eta 0.0\n",
      "Running Adversarial Sampling at 0 step\n",
      "Running DDIM Sampling with 200 timesteps\n"
     ]
    },
    {
     "name": "stderr",
     "output_type": "stream",
     "text": [
      "\n",
      "\u001b[A\n",
      "\u001b[A\n",
      "\u001b[A\n",
      "\u001b[A\n",
      "DDIM Sampler: 100%|██████████| 200/200 [00:23<00:00,  8.56it/s]\n"
     ]
    },
    {
     "name": "stdout",
     "output_type": "stream",
     "text": [
      "loss: [array(0.742, dtype=float16), array(0.763, dtype=float16), array(0.781, dtype=float16), array(0.779, dtype=float16)]\n",
      "Saved poisoned image 97 to ./data/poisons/mini_MathVista_grid+i2i_AdvDiffVLMAttack/synth/97.png\n",
      "Time: 47.05250954627991\n",
      "image name =  41\n",
      "Data shape for DDIM sampling is (1, 3, 64, 64), eta 0.0\n",
      "Running Adversarial Sampling at 0 step\n",
      "Running DDIM Sampling with 200 timesteps\n"
     ]
    },
    {
     "name": "stderr",
     "output_type": "stream",
     "text": [
      "\n",
      "\u001b[A\n",
      "\u001b[A\n",
      "\u001b[A\n",
      "\u001b[A\n",
      "DDIM Sampler: 100%|██████████| 200/200 [00:23<00:00,  8.53it/s]\n"
     ]
    },
    {
     "name": "stdout",
     "output_type": "stream",
     "text": [
      "Data shape for DDIM sampling is (1, 3, 64, 64), eta 0.0\n",
      "Running Adversarial Sampling at 0 step\n",
      "Running DDIM Sampling with 200 timesteps\n"
     ]
    },
    {
     "name": "stderr",
     "output_type": "stream",
     "text": [
      "\n",
      "\u001b[A\n",
      "\u001b[A\n",
      "\u001b[A\n",
      "\u001b[A\n",
      "DDIM Sampler: 100%|██████████| 200/200 [00:23<00:00,  8.59it/s]\n"
     ]
    },
    {
     "name": "stdout",
     "output_type": "stream",
     "text": [
      "loss: [array(0.8335, dtype=float16), array(0.8633, dtype=float16), array(0.8413, dtype=float16), array(0.8394, dtype=float16)]\n",
      "Saved poisoned image 41 to ./data/poisons/mini_MathVista_grid+i2i_AdvDiffVLMAttack/synth/41.png\n",
      "Time: 47.550721168518066\n",
      "image name =  90\n",
      "Data shape for DDIM sampling is (1, 3, 64, 64), eta 0.0\n",
      "Running Adversarial Sampling at 0 step\n",
      "Running DDIM Sampling with 200 timesteps\n"
     ]
    },
    {
     "name": "stderr",
     "output_type": "stream",
     "text": [
      "\n",
      "\u001b[A\n",
      "\u001b[A\n",
      "\u001b[A\n",
      "\u001b[A\n",
      "DDIM Sampler: 100%|██████████| 200/200 [00:23<00:00,  8.58it/s]\n"
     ]
    },
    {
     "name": "stdout",
     "output_type": "stream",
     "text": [
      "Data shape for DDIM sampling is (1, 3, 64, 64), eta 0.0\n",
      "Running Adversarial Sampling at 0 step\n",
      "Running DDIM Sampling with 200 timesteps\n"
     ]
    },
    {
     "name": "stderr",
     "output_type": "stream",
     "text": [
      "\n",
      "\u001b[A\n",
      "\u001b[A\n",
      "\u001b[A\n",
      "\u001b[A\n",
      "\u001b[A\n",
      "DDIM Sampler: 100%|██████████| 200/200 [00:23<00:00,  8.51it/s]\n"
     ]
    },
    {
     "name": "stdout",
     "output_type": "stream",
     "text": [
      "loss: [array(0.9297, dtype=float16), array(0.9634, dtype=float16), array(0.9487, dtype=float16), array(0.955, dtype=float16)]\n",
      "Saved poisoned image 90 to ./data/poisons/mini_MathVista_grid+i2i_AdvDiffVLMAttack/synth/90.png\n",
      "Time: 47.54872369766235\n",
      "image name =  81\n",
      "Data shape for DDIM sampling is (1, 3, 64, 64), eta 0.0\n",
      "Running Adversarial Sampling at 0 step\n",
      "Running DDIM Sampling with 200 timesteps\n"
     ]
    },
    {
     "name": "stderr",
     "output_type": "stream",
     "text": [
      "\n",
      "\u001b[A\n",
      "\u001b[A\n",
      "\u001b[A\n",
      "\u001b[A\n",
      "DDIM Sampler: 100%|██████████| 200/200 [00:23<00:00,  8.52it/s]\n"
     ]
    },
    {
     "name": "stdout",
     "output_type": "stream",
     "text": [
      "Data shape for DDIM sampling is (1, 3, 64, 64), eta 0.0\n",
      "Running Adversarial Sampling at 0 step\n",
      "Running DDIM Sampling with 200 timesteps\n"
     ]
    },
    {
     "name": "stderr",
     "output_type": "stream",
     "text": [
      "\n",
      "\u001b[A\n",
      "\u001b[A\n",
      "\u001b[A\n",
      "\u001b[A\n",
      "DDIM Sampler: 100%|██████████| 200/200 [00:23<00:00,  8.53it/s]\n"
     ]
    },
    {
     "name": "stdout",
     "output_type": "stream",
     "text": [
      "loss: [array(0.8394, dtype=float16), array(0.849, dtype=float16), array(0.844, dtype=float16), array(0.8735, dtype=float16)]\n",
      "Saved poisoned image 81 to ./data/poisons/mini_MathVista_grid+i2i_AdvDiffVLMAttack/synth/81.png\n",
      "Time: 47.664183378219604\n",
      "image name =  50\n",
      "Data shape for DDIM sampling is (1, 3, 64, 64), eta 0.0\n",
      "Running Adversarial Sampling at 0 step\n",
      "Running DDIM Sampling with 200 timesteps\n"
     ]
    },
    {
     "name": "stderr",
     "output_type": "stream",
     "text": [
      "\n",
      "\u001b[A\n",
      "\u001b[A\n",
      "\u001b[A\n",
      "\u001b[A\n",
      "\u001b[A\n",
      "\u001b[A\n",
      "DDIM Sampler: 100%|██████████| 200/200 [00:23<00:00,  8.54it/s]\n"
     ]
    },
    {
     "name": "stdout",
     "output_type": "stream",
     "text": [
      "Data shape for DDIM sampling is (1, 3, 64, 64), eta 0.0\n",
      "Running Adversarial Sampling at 0 step\n",
      "Running DDIM Sampling with 200 timesteps\n"
     ]
    },
    {
     "name": "stderr",
     "output_type": "stream",
     "text": [
      "\n",
      "\u001b[A\n",
      "\u001b[A\n",
      "\u001b[A\n",
      "\u001b[A\n",
      "DDIM Sampler: 100%|██████████| 200/200 [00:23<00:00,  8.52it/s]\n"
     ]
    },
    {
     "name": "stdout",
     "output_type": "stream",
     "text": [
      "loss: [array(0.854, dtype=float16), array(0.8687, dtype=float16), array(0.8833, dtype=float16), array(0.877, dtype=float16)]\n",
      "Saved poisoned image 50 to ./data/poisons/mini_MathVista_grid+i2i_AdvDiffVLMAttack/synth/50.png\n",
      "Time: 47.62422180175781\n",
      "image name =  86\n",
      "Data shape for DDIM sampling is (1, 3, 64, 64), eta 0.0\n",
      "Running Adversarial Sampling at 0 step\n",
      "Running DDIM Sampling with 200 timesteps\n"
     ]
    },
    {
     "name": "stderr",
     "output_type": "stream",
     "text": [
      "\n",
      "\u001b[A\n",
      "\u001b[A\n",
      "\u001b[A\n",
      "\u001b[A\n",
      "DDIM Sampler: 100%|██████████| 200/200 [00:23<00:00,  8.58it/s]\n"
     ]
    },
    {
     "name": "stdout",
     "output_type": "stream",
     "text": [
      "Data shape for DDIM sampling is (1, 3, 64, 64), eta 0.0\n",
      "Running Adversarial Sampling at 0 step\n",
      "Running DDIM Sampling with 200 timesteps\n"
     ]
    },
    {
     "name": "stderr",
     "output_type": "stream",
     "text": [
      "\n",
      "\u001b[A\n",
      "\u001b[A\n",
      "\u001b[A\n",
      "\u001b[A\n",
      "DDIM Sampler: 100%|██████████| 200/200 [00:23<00:00,  8.55it/s]\n"
     ]
    },
    {
     "name": "stdout",
     "output_type": "stream",
     "text": [
      "loss: [array(0.874, dtype=float16), array(0.881, dtype=float16), array(0.844, dtype=float16), array(0.869, dtype=float16)]\n",
      "Saved poisoned image 86 to ./data/poisons/mini_MathVista_grid+i2i_AdvDiffVLMAttack/synth/86.png\n",
      "Time: 47.4405837059021\n",
      "image name =  57\n",
      "Data shape for DDIM sampling is (1, 3, 64, 64), eta 0.0\n",
      "Running Adversarial Sampling at 0 step\n",
      "Running DDIM Sampling with 200 timesteps\n"
     ]
    },
    {
     "name": "stderr",
     "output_type": "stream",
     "text": [
      "\n",
      "\u001b[A\n",
      "\u001b[A\n",
      "\u001b[A\n",
      "\u001b[A\n",
      "DDIM Sampler: 100%|██████████| 200/200 [00:23<00:00,  8.53it/s]\n"
     ]
    },
    {
     "name": "stdout",
     "output_type": "stream",
     "text": [
      "Data shape for DDIM sampling is (1, 3, 64, 64), eta 0.0\n",
      "Running Adversarial Sampling at 0 step\n",
      "Running DDIM Sampling with 200 timesteps\n"
     ]
    },
    {
     "name": "stderr",
     "output_type": "stream",
     "text": [
      "\n",
      "\u001b[A\n",
      "\u001b[A\n",
      "\u001b[A\n",
      "\u001b[A\n",
      "\u001b[A\n",
      "DDIM Sampler: 100%|██████████| 200/200 [00:23<00:00,  8.60it/s]\n"
     ]
    },
    {
     "name": "stdout",
     "output_type": "stream",
     "text": [
      "loss: [array(0.9453, dtype=float16), array(0.967, dtype=float16), array(0.96, dtype=float16), array(0.9688, dtype=float16)]\n",
      "Saved poisoned image 57 to ./data/poisons/mini_MathVista_grid+i2i_AdvDiffVLMAttack/synth/57.png\n",
      "Time: 47.43376016616821\n",
      "image name =  88\n",
      "Data shape for DDIM sampling is (1, 3, 64, 64), eta 0.0\n",
      "Running Adversarial Sampling at 0 step\n",
      "Running DDIM Sampling with 200 timesteps\n"
     ]
    },
    {
     "name": "stderr",
     "output_type": "stream",
     "text": [
      "\n",
      "\u001b[A\n",
      "\u001b[A\n",
      "\u001b[A\n",
      "\u001b[A\n",
      "DDIM Sampler: 100%|██████████| 200/200 [00:23<00:00,  8.50it/s]\n"
     ]
    },
    {
     "name": "stdout",
     "output_type": "stream",
     "text": [
      "Data shape for DDIM sampling is (1, 3, 64, 64), eta 0.0\n",
      "Running Adversarial Sampling at 0 step\n",
      "Running DDIM Sampling with 200 timesteps\n"
     ]
    },
    {
     "name": "stderr",
     "output_type": "stream",
     "text": [
      "\n",
      "\u001b[A\n",
      "\u001b[A\n",
      "\u001b[A\n",
      "\u001b[A\n",
      "DDIM Sampler: 100%|██████████| 200/200 [00:23<00:00,  8.49it/s]\n"
     ]
    },
    {
     "name": "stdout",
     "output_type": "stream",
     "text": [
      "loss: [array(0.836, dtype=float16), array(0.8745, dtype=float16), array(0.87, dtype=float16), array(0.8955, dtype=float16)]\n",
      "Saved poisoned image 88 to ./data/poisons/mini_MathVista_grid+i2i_AdvDiffVLMAttack/synth/88.png\n",
      "Time: 47.78331923484802\n",
      "image name =  59\n",
      "Data shape for DDIM sampling is (1, 3, 64, 64), eta 0.0\n",
      "Running Adversarial Sampling at 0 step\n",
      "Running DDIM Sampling with 200 timesteps\n"
     ]
    },
    {
     "name": "stderr",
     "output_type": "stream",
     "text": [
      "\n",
      "\u001b[A\n",
      "\u001b[A\n",
      "\u001b[A\n",
      "\u001b[A\n",
      "DDIM Sampler: 100%|██████████| 200/200 [00:23<00:00,  8.43it/s]\n"
     ]
    },
    {
     "name": "stdout",
     "output_type": "stream",
     "text": [
      "Data shape for DDIM sampling is (1, 3, 64, 64), eta 0.0\n",
      "Running Adversarial Sampling at 0 step\n",
      "Running DDIM Sampling with 200 timesteps\n"
     ]
    },
    {
     "name": "stderr",
     "output_type": "stream",
     "text": [
      "\n",
      "\u001b[A\n",
      "\u001b[A\n",
      "\u001b[A\n",
      "\u001b[A\n",
      "DDIM Sampler: 100%|██████████| 200/200 [00:23<00:00,  8.48it/s]\n"
     ]
    },
    {
     "name": "stdout",
     "output_type": "stream",
     "text": [
      "loss: [array(0.8774, dtype=float16), array(0.8877, dtype=float16), array(0.891, dtype=float16), array(0.8896, dtype=float16)]\n",
      "Saved poisoned image 59 to ./data/poisons/mini_MathVista_grid+i2i_AdvDiffVLMAttack/synth/59.png\n",
      "Time: 48.03663992881775\n",
      "image name =  25\n",
      "Data shape for DDIM sampling is (1, 3, 64, 64), eta 0.0\n",
      "Running Adversarial Sampling at 0 step\n",
      "Running DDIM Sampling with 200 timesteps\n"
     ]
    },
    {
     "name": "stderr",
     "output_type": "stream",
     "text": [
      "\n",
      "\u001b[A\n",
      "\u001b[A\n",
      "\u001b[A\n",
      "\u001b[A\n",
      "DDIM Sampler: 100%|██████████| 200/200 [00:23<00:00,  8.68it/s]\n"
     ]
    },
    {
     "name": "stdout",
     "output_type": "stream",
     "text": [
      "Data shape for DDIM sampling is (1, 3, 64, 64), eta 0.0\n",
      "Running Adversarial Sampling at 0 step\n",
      "Running DDIM Sampling with 200 timesteps\n"
     ]
    },
    {
     "name": "stderr",
     "output_type": "stream",
     "text": [
      "\n",
      "\u001b[A\n",
      "\u001b[A\n",
      "\u001b[A\n",
      "\u001b[A\n",
      "DDIM Sampler: 100%|██████████| 200/200 [00:22<00:00,  8.70it/s]\n"
     ]
    },
    {
     "name": "stdout",
     "output_type": "stream",
     "text": [
      "loss: [array(0.859, dtype=float16), array(0.87, dtype=float16), array(0.878, dtype=float16), array(0.8647, dtype=float16)]\n",
      "Saved poisoned image 25 to ./data/poisons/mini_MathVista_grid+i2i_AdvDiffVLMAttack/synth/25.png\n",
      "Time: 46.79074740409851\n",
      "image name =  22\n",
      "Data shape for DDIM sampling is (1, 3, 64, 64), eta 0.0\n",
      "Running Adversarial Sampling at 0 step\n",
      "Running DDIM Sampling with 200 timesteps\n"
     ]
    },
    {
     "name": "stderr",
     "output_type": "stream",
     "text": [
      "\n",
      "\u001b[A\n",
      "\u001b[A\n",
      "\u001b[A\n",
      "\u001b[A\n",
      "DDIM Sampler: 100%|██████████| 200/200 [00:23<00:00,  8.60it/s]\n"
     ]
    },
    {
     "name": "stdout",
     "output_type": "stream",
     "text": [
      "Data shape for DDIM sampling is (1, 3, 64, 64), eta 0.0\n",
      "Running Adversarial Sampling at 0 step\n",
      "Running DDIM Sampling with 200 timesteps\n"
     ]
    },
    {
     "name": "stderr",
     "output_type": "stream",
     "text": [
      "\n",
      "\u001b[A\n",
      "\u001b[A\n",
      "\u001b[A\n",
      "\u001b[A\n",
      "\u001b[A\n",
      "\u001b[A\n",
      "DDIM Sampler: 100%|██████████| 200/200 [00:23<00:00,  8.49it/s]\n"
     ]
    },
    {
     "name": "stdout",
     "output_type": "stream",
     "text": [
      "loss: [array(0.884, dtype=float16), array(0.888, dtype=float16), array(0.916, dtype=float16), array(0.891, dtype=float16)]\n",
      "Saved poisoned image 22 to ./data/poisons/mini_MathVista_grid+i2i_AdvDiffVLMAttack/synth/22.png\n",
      "Time: 47.60218334197998\n",
      "image name =  17\n",
      "Data shape for DDIM sampling is (1, 3, 64, 64), eta 0.0\n",
      "Running Adversarial Sampling at 0 step\n",
      "Running DDIM Sampling with 200 timesteps\n"
     ]
    },
    {
     "name": "stderr",
     "output_type": "stream",
     "text": [
      "\n",
      "\u001b[A\n",
      "\u001b[A\n",
      "\u001b[A\n",
      "\u001b[A\n",
      "DDIM Sampler: 100%|██████████| 200/200 [00:23<00:00,  8.54it/s]\n"
     ]
    },
    {
     "name": "stdout",
     "output_type": "stream",
     "text": [
      "Data shape for DDIM sampling is (1, 3, 64, 64), eta 0.0\n",
      "Running Adversarial Sampling at 0 step\n",
      "Running DDIM Sampling with 200 timesteps\n"
     ]
    },
    {
     "name": "stderr",
     "output_type": "stream",
     "text": [
      "\n",
      "\u001b[A\n",
      "\u001b[A\n",
      "\u001b[A\n",
      "\u001b[A\n",
      "DDIM Sampler: 100%|██████████| 200/200 [00:23<00:00,  8.56it/s]\n"
     ]
    },
    {
     "name": "stdout",
     "output_type": "stream",
     "text": [
      "loss: [array(0.889, dtype=float16), array(0.8745, dtype=float16), array(0.8853, dtype=float16), array(0.876, dtype=float16)]\n",
      "Saved poisoned image 17 to ./data/poisons/mini_MathVista_grid+i2i_AdvDiffVLMAttack/synth/17.png\n",
      "Time: 47.475980281829834\n",
      "image name =  1\n",
      "Data shape for DDIM sampling is (1, 3, 64, 64), eta 0.0\n",
      "Running Adversarial Sampling at 0 step\n",
      "Running DDIM Sampling with 200 timesteps\n"
     ]
    },
    {
     "name": "stderr",
     "output_type": "stream",
     "text": [
      "\n",
      "\u001b[A\n",
      "\u001b[A\n",
      "\u001b[A\n",
      "\u001b[A\n",
      "DDIM Sampler: 100%|██████████| 200/200 [00:23<00:00,  8.50it/s]\n"
     ]
    },
    {
     "name": "stdout",
     "output_type": "stream",
     "text": [
      "Data shape for DDIM sampling is (1, 3, 64, 64), eta 0.0\n",
      "Running Adversarial Sampling at 0 step\n",
      "Running DDIM Sampling with 200 timesteps\n"
     ]
    },
    {
     "name": "stderr",
     "output_type": "stream",
     "text": [
      "\n",
      "\u001b[A\n",
      "\u001b[A\n",
      "\u001b[A\n",
      "\u001b[A\n",
      "DDIM Sampler: 100%|██████████| 200/200 [00:23<00:00,  8.54it/s]\n"
     ]
    },
    {
     "name": "stdout",
     "output_type": "stream",
     "text": [
      "loss: [array(0.8325, dtype=float16), array(0.853, dtype=float16), array(0.843, dtype=float16), array(0.8726, dtype=float16)]\n",
      "Saved poisoned image 1 to ./data/poisons/mini_MathVista_grid+i2i_AdvDiffVLMAttack/synth/1.png\n",
      "Time: 47.68492007255554\n",
      "image name =  6\n",
      "Data shape for DDIM sampling is (1, 3, 64, 64), eta 0.0\n",
      "Running Adversarial Sampling at 0 step\n",
      "Running DDIM Sampling with 200 timesteps\n"
     ]
    },
    {
     "name": "stderr",
     "output_type": "stream",
     "text": [
      "\n",
      "\u001b[A\n",
      "\u001b[A\n",
      "\u001b[A\n",
      "\u001b[A\n",
      "DDIM Sampler: 100%|██████████| 200/200 [00:23<00:00,  8.63it/s]\n"
     ]
    },
    {
     "name": "stdout",
     "output_type": "stream",
     "text": [
      "Data shape for DDIM sampling is (1, 3, 64, 64), eta 0.0\n",
      "Running Adversarial Sampling at 0 step\n",
      "Running DDIM Sampling with 200 timesteps\n"
     ]
    },
    {
     "name": "stderr",
     "output_type": "stream",
     "text": [
      "\n",
      "\u001b[A\n",
      "\u001b[A\n",
      "\u001b[A\n",
      "\u001b[A\n",
      "DDIM Sampler: 100%|██████████| 200/200 [00:23<00:00,  8.67it/s]\n"
     ]
    },
    {
     "name": "stdout",
     "output_type": "stream",
     "text": [
      "loss: [array(0.8623, dtype=float16), array(0.8726, dtype=float16), array(0.9023, dtype=float16), array(0.889, dtype=float16)]\n",
      "Saved poisoned image 6 to ./data/poisons/mini_MathVista_grid+i2i_AdvDiffVLMAttack/synth/6.png\n",
      "Time: 46.96945667266846\n",
      "image name =  10\n",
      "Data shape for DDIM sampling is (1, 3, 64, 64), eta 0.0\n",
      "Running Adversarial Sampling at 0 step\n",
      "Running DDIM Sampling with 200 timesteps\n"
     ]
    },
    {
     "name": "stderr",
     "output_type": "stream",
     "text": [
      "\n",
      "\u001b[A\n",
      "\u001b[A\n",
      "\u001b[A\n",
      "\u001b[A\n",
      "DDIM Sampler: 100%|██████████| 200/200 [00:23<00:00,  8.46it/s]\n"
     ]
    },
    {
     "name": "stdout",
     "output_type": "stream",
     "text": [
      "Data shape for DDIM sampling is (1, 3, 64, 64), eta 0.0\n",
      "Running Adversarial Sampling at 0 step\n",
      "Running DDIM Sampling with 200 timesteps\n"
     ]
    },
    {
     "name": "stderr",
     "output_type": "stream",
     "text": [
      "\n",
      "\u001b[A\n",
      "\u001b[A\n",
      "\u001b[A\n",
      "\u001b[A\n",
      "\u001b[A\n",
      "DDIM Sampler: 100%|██████████| 200/200 [00:23<00:00,  8.65it/s]\n"
     ]
    },
    {
     "name": "stdout",
     "output_type": "stream",
     "text": [
      "loss: [array(0.7944, dtype=float16), array(0.833, dtype=float16), array(0.8184, dtype=float16), array(0.8022, dtype=float16)]\n",
      "Saved poisoned image 10 to ./data/poisons/mini_MathVista_grid+i2i_AdvDiffVLMAttack/synth/10.png\n",
      "Time: 47.52139234542847\n",
      "image name =  62\n",
      "Data shape for DDIM sampling is (1, 3, 64, 64), eta 0.0\n",
      "Running Adversarial Sampling at 0 step\n",
      "Running DDIM Sampling with 200 timesteps\n"
     ]
    },
    {
     "name": "stderr",
     "output_type": "stream",
     "text": [
      "\n",
      "\u001b[A\n",
      "\u001b[A\n",
      "\u001b[A\n",
      "\u001b[A\n",
      "DDIM Sampler: 100%|██████████| 200/200 [00:23<00:00,  8.65it/s]\n"
     ]
    },
    {
     "name": "stdout",
     "output_type": "stream",
     "text": [
      "Data shape for DDIM sampling is (1, 3, 64, 64), eta 0.0\n",
      "Running Adversarial Sampling at 0 step\n",
      "Running DDIM Sampling with 200 timesteps\n"
     ]
    },
    {
     "name": "stderr",
     "output_type": "stream",
     "text": [
      "\n",
      "\u001b[A\n",
      "\u001b[A\n",
      "\u001b[A\n",
      "\u001b[A\n",
      "DDIM Sampler: 100%|██████████| 200/200 [00:22<00:00,  8.73it/s]\n"
     ]
    },
    {
     "name": "stdout",
     "output_type": "stream",
     "text": [
      "loss: [array(0.854, dtype=float16), array(0.8594, dtype=float16), array(0.879, dtype=float16), array(0.884, dtype=float16)]\n",
      "Saved poisoned image 62 to ./data/poisons/mini_MathVista_grid+i2i_AdvDiffVLMAttack/synth/62.png\n",
      "Time: 46.780383586883545\n",
      "image name =  8\n",
      "Data shape for DDIM sampling is (1, 3, 64, 64), eta 0.0\n",
      "Running Adversarial Sampling at 0 step\n",
      "Running DDIM Sampling with 200 timesteps\n"
     ]
    },
    {
     "name": "stderr",
     "output_type": "stream",
     "text": [
      "\n",
      "\u001b[A\n",
      "\u001b[A\n",
      "\u001b[A\n",
      "\u001b[A\n",
      "\u001b[A\n",
      "DDIM Sampler: 100%|██████████| 200/200 [00:23<00:00,  8.62it/s]\n"
     ]
    },
    {
     "name": "stdout",
     "output_type": "stream",
     "text": [
      "Data shape for DDIM sampling is (1, 3, 64, 64), eta 0.0\n",
      "Running Adversarial Sampling at 0 step\n",
      "Running DDIM Sampling with 200 timesteps\n"
     ]
    },
    {
     "name": "stderr",
     "output_type": "stream",
     "text": [
      "\n",
      "\u001b[A\n",
      "\u001b[A\n",
      "\u001b[A\n",
      "\u001b[A\n",
      "DDIM Sampler: 100%|██████████| 200/200 [00:23<00:00,  8.62it/s]\n"
     ]
    },
    {
     "name": "stdout",
     "output_type": "stream",
     "text": [
      "loss: [array(0.8594, dtype=float16), array(0.8984, dtype=float16), array(0.8804, dtype=float16), array(0.9297, dtype=float16)]\n",
      "Saved poisoned image 8 to ./data/poisons/mini_MathVista_grid+i2i_AdvDiffVLMAttack/synth/8.png\n",
      "Time: 47.124820947647095\n",
      "image name =  19\n",
      "Data shape for DDIM sampling is (1, 3, 64, 64), eta 0.0\n",
      "Running Adversarial Sampling at 0 step\n",
      "Running DDIM Sampling with 200 timesteps\n"
     ]
    },
    {
     "name": "stderr",
     "output_type": "stream",
     "text": [
      "\n",
      "\u001b[A\n",
      "\u001b[A\n",
      "\u001b[A\n",
      "\u001b[A\n",
      "DDIM Sampler: 100%|██████████| 200/200 [00:23<00:00,  8.48it/s]\n"
     ]
    },
    {
     "name": "stdout",
     "output_type": "stream",
     "text": [
      "Data shape for DDIM sampling is (1, 3, 64, 64), eta 0.0\n",
      "Running Adversarial Sampling at 0 step\n",
      "Running DDIM Sampling with 200 timesteps\n"
     ]
    },
    {
     "name": "stderr",
     "output_type": "stream",
     "text": [
      "\n",
      "\u001b[A\n",
      "\u001b[A\n",
      "\u001b[A\n",
      "\u001b[A\n",
      "\u001b[A\n",
      "\u001b[A\n",
      "DDIM Sampler: 100%|██████████| 200/200 [00:23<00:00,  8.47it/s]\n"
     ]
    },
    {
     "name": "stdout",
     "output_type": "stream",
     "text": [
      "loss: [array(0.877, dtype=float16), array(0.905, dtype=float16), array(0.89, dtype=float16), array(0.905, dtype=float16)]\n",
      "Saved poisoned image 19 to ./data/poisons/mini_MathVista_grid+i2i_AdvDiffVLMAttack/synth/19.png\n",
      "Time: 47.97074246406555\n",
      "image name =  65\n",
      "Data shape for DDIM sampling is (1, 3, 64, 64), eta 0.0\n",
      "Running Adversarial Sampling at 0 step\n",
      "Running DDIM Sampling with 200 timesteps\n"
     ]
    },
    {
     "name": "stderr",
     "output_type": "stream",
     "text": [
      "\n",
      "\u001b[A\n",
      "\u001b[A\n",
      "\u001b[A\n",
      "\u001b[A\n",
      "DDIM Sampler: 100%|██████████| 200/200 [00:23<00:00,  8.64it/s]\n"
     ]
    },
    {
     "name": "stdout",
     "output_type": "stream",
     "text": [
      "Data shape for DDIM sampling is (1, 3, 64, 64), eta 0.0\n",
      "Running Adversarial Sampling at 0 step\n",
      "Running DDIM Sampling with 200 timesteps\n"
     ]
    },
    {
     "name": "stderr",
     "output_type": "stream",
     "text": [
      "\n",
      "\u001b[A\n",
      "\u001b[A\n",
      "\u001b[A\n",
      "\u001b[A\n",
      "DDIM Sampler: 100%|██████████| 200/200 [00:23<00:00,  8.50it/s]\n",
      "Target Dataloader: 4it [2:44:49, 3264.48s/it]"
     ]
    },
    {
     "name": "stdout",
     "output_type": "stream",
     "text": [
      "loss: [array(0.8315, dtype=float16), array(0.8594, dtype=float16), array(0.8613, dtype=float16), array(0.82, dtype=float16)]\n",
      "Saved poisoned image 65 to ./data/poisons/mini_MathVista_grid+i2i_AdvDiffVLMAttack/synth/65.png\n",
      "Time: 47.42673850059509\n"
     ]
    },
    {
     "name": "stderr",
     "output_type": "stream",
     "text": []
    },
    {
     "name": "stdout",
     "output_type": "stream",
     "text": [
      "image name =  85\n",
      "Data shape for DDIM sampling is (1, 3, 64, 64), eta 0.0\n",
      "Running Adversarial Sampling at 0 step\n",
      "Running DDIM Sampling with 200 timesteps\n"
     ]
    },
    {
     "name": "stderr",
     "output_type": "stream",
     "text": [
      "\n",
      "\u001b[A\n",
      "\u001b[A\n",
      "\u001b[A\n",
      "\u001b[A\n",
      "DDIM Sampler: 100%|██████████| 200/200 [00:23<00:00,  8.48it/s]\n"
     ]
    },
    {
     "name": "stdout",
     "output_type": "stream",
     "text": [
      "Data shape for DDIM sampling is (1, 3, 64, 64), eta 0.0\n",
      "Running Adversarial Sampling at 0 step\n",
      "Running DDIM Sampling with 200 timesteps\n"
     ]
    },
    {
     "name": "stderr",
     "output_type": "stream",
     "text": [
      "\n",
      "\u001b[A\n",
      "\u001b[A\n",
      "\u001b[A\n",
      "\u001b[A\n",
      "DDIM Sampler: 100%|██████████| 200/200 [00:23<00:00,  8.58it/s]\n"
     ]
    },
    {
     "name": "stdout",
     "output_type": "stream",
     "text": [
      "loss: [array(0.8237, dtype=float16), array(0.8384, dtype=float16), array(0.8164, dtype=float16), array(0.7812, dtype=float16)]\n",
      "Saved poisoned image 85 to ./data/poisons/mini_MathVista_grid+i2i_AdvDiffVLMAttack/nat/85.png\n",
      "Time: 47.62432837486267\n",
      "image name =  54\n",
      "Data shape for DDIM sampling is (1, 3, 64, 64), eta 0.0\n",
      "Running Adversarial Sampling at 0 step\n",
      "Running DDIM Sampling with 200 timesteps\n"
     ]
    },
    {
     "name": "stderr",
     "output_type": "stream",
     "text": [
      "\n",
      "\u001b[A\n",
      "\u001b[A\n",
      "\u001b[A\n",
      "\u001b[A\n",
      "\u001b[A\n",
      "DDIM Sampler: 100%|██████████| 200/200 [00:23<00:00,  8.57it/s]\n"
     ]
    },
    {
     "name": "stdout",
     "output_type": "stream",
     "text": [
      "Data shape for DDIM sampling is (1, 3, 64, 64), eta 0.0\n",
      "Running Adversarial Sampling at 0 step\n",
      "Running DDIM Sampling with 200 timesteps\n"
     ]
    },
    {
     "name": "stderr",
     "output_type": "stream",
     "text": [
      "\n",
      "\u001b[A\n",
      "\u001b[A\n",
      "\u001b[A\n",
      "\u001b[A\n",
      "DDIM Sampler: 100%|██████████| 200/200 [00:23<00:00,  8.60it/s]\n"
     ]
    },
    {
     "name": "stdout",
     "output_type": "stream",
     "text": [
      "loss: [array(0.7266, dtype=float16), array(0.771, dtype=float16), array(0.712, dtype=float16), array(0.7583, dtype=float16)]\n",
      "Saved poisoned image 54 to ./data/poisons/mini_MathVista_grid+i2i_AdvDiffVLMAttack/nat/54.png\n",
      "Time: 47.29453372955322\n",
      "image name =  28\n",
      "Data shape for DDIM sampling is (1, 3, 64, 64), eta 0.0\n",
      "Running Adversarial Sampling at 0 step\n",
      "Running DDIM Sampling with 200 timesteps\n"
     ]
    },
    {
     "name": "stderr",
     "output_type": "stream",
     "text": [
      "\n",
      "\u001b[A\n",
      "\u001b[A\n",
      "\u001b[A\n",
      "\u001b[A\n",
      "DDIM Sampler: 100%|██████████| 200/200 [00:23<00:00,  8.56it/s]\n"
     ]
    },
    {
     "name": "stdout",
     "output_type": "stream",
     "text": [
      "Data shape for DDIM sampling is (1, 3, 64, 64), eta 0.0\n",
      "Running Adversarial Sampling at 0 step\n",
      "Running DDIM Sampling with 200 timesteps\n"
     ]
    },
    {
     "name": "stderr",
     "output_type": "stream",
     "text": [
      "\n",
      "\u001b[A\n",
      "\u001b[A\n",
      "\u001b[A\n",
      "\u001b[A\n",
      "DDIM Sampler: 100%|██████████| 200/200 [00:23<00:00,  8.67it/s]\n"
     ]
    },
    {
     "name": "stdout",
     "output_type": "stream",
     "text": [
      "loss: [array(0.7847, dtype=float16), array(0.8325, dtype=float16), array(0.803, dtype=float16), array(0.7466, dtype=float16)]\n",
      "Saved poisoned image 28 to ./data/poisons/mini_MathVista_grid+i2i_AdvDiffVLMAttack/nat/28.png\n",
      "Time: 47.15754842758179\n",
      "image name =  82\n",
      "Data shape for DDIM sampling is (1, 3, 64, 64), eta 0.0\n",
      "Running Adversarial Sampling at 0 step\n",
      "Running DDIM Sampling with 200 timesteps\n"
     ]
    },
    {
     "name": "stderr",
     "output_type": "stream",
     "text": [
      "\n",
      "\u001b[A\n",
      "\u001b[A\n",
      "\u001b[A\n",
      "\u001b[A\n",
      "DDIM Sampler: 100%|██████████| 200/200 [00:23<00:00,  8.51it/s]\n"
     ]
    },
    {
     "name": "stdout",
     "output_type": "stream",
     "text": [
      "Data shape for DDIM sampling is (1, 3, 64, 64), eta 0.0\n",
      "Running Adversarial Sampling at 0 step\n",
      "Running DDIM Sampling with 200 timesteps\n"
     ]
    },
    {
     "name": "stderr",
     "output_type": "stream",
     "text": [
      "\n",
      "\u001b[A\n",
      "\u001b[A\n",
      "\u001b[A\n",
      "\u001b[A\n",
      "DDIM Sampler: 100%|██████████| 200/200 [00:23<00:00,  8.48it/s]\n"
     ]
    },
    {
     "name": "stdout",
     "output_type": "stream",
     "text": [
      "loss: [array(0.6543, dtype=float16), array(0.744, dtype=float16), array(0.7666, dtype=float16), array(0.616, dtype=float16)]\n",
      "Saved poisoned image 82 to ./data/poisons/mini_MathVista_grid+i2i_AdvDiffVLMAttack/nat/82.png\n",
      "Time: 47.81457281112671\n",
      "image name =  53\n",
      "Data shape for DDIM sampling is (1, 3, 64, 64), eta 0.0\n",
      "Running Adversarial Sampling at 0 step\n",
      "Running DDIM Sampling with 200 timesteps\n"
     ]
    },
    {
     "name": "stderr",
     "output_type": "stream",
     "text": [
      "\n",
      "\u001b[A\n",
      "\u001b[A\n",
      "\u001b[A\n",
      "\u001b[A\n",
      "DDIM Sampler: 100%|██████████| 200/200 [00:23<00:00,  8.54it/s]\n"
     ]
    },
    {
     "name": "stdout",
     "output_type": "stream",
     "text": [
      "Data shape for DDIM sampling is (1, 3, 64, 64), eta 0.0\n",
      "Running Adversarial Sampling at 0 step\n",
      "Running DDIM Sampling with 200 timesteps\n"
     ]
    },
    {
     "name": "stderr",
     "output_type": "stream",
     "text": [
      "\n",
      "\u001b[A\n",
      "\u001b[A\n",
      "\u001b[A\n",
      "\u001b[A\n",
      "DDIM Sampler: 100%|██████████| 200/200 [00:23<00:00,  8.64it/s]\n"
     ]
    },
    {
     "name": "stdout",
     "output_type": "stream",
     "text": [
      "loss: [array(0.8066, dtype=float16), array(0.8975, dtype=float16), array(0.8706, dtype=float16), array(0.849, dtype=float16)]\n",
      "Saved poisoned image 53 to ./data/poisons/mini_MathVista_grid+i2i_AdvDiffVLMAttack/nat/53.png\n",
      "Time: 47.343631744384766\n",
      "image name =  21\n",
      "Data shape for DDIM sampling is (1, 3, 64, 64), eta 0.0\n",
      "Running Adversarial Sampling at 0 step\n",
      "Running DDIM Sampling with 200 timesteps\n"
     ]
    },
    {
     "name": "stderr",
     "output_type": "stream",
     "text": [
      "\n",
      "\u001b[A\n",
      "\u001b[A\n",
      "\u001b[A\n",
      "\u001b[A\n",
      "\u001b[A\n",
      "\u001b[A\n",
      "DDIM Sampler: 100%|██████████| 200/200 [00:23<00:00,  8.49it/s]\n"
     ]
    },
    {
     "name": "stdout",
     "output_type": "stream",
     "text": [
      "Data shape for DDIM sampling is (1, 3, 64, 64), eta 0.0\n",
      "Running Adversarial Sampling at 0 step\n",
      "Running DDIM Sampling with 200 timesteps\n"
     ]
    },
    {
     "name": "stderr",
     "output_type": "stream",
     "text": [
      "\n",
      "\u001b[A\n",
      "\u001b[A\n",
      "\u001b[A\n",
      "\u001b[A\n",
      "DDIM Sampler: 100%|██████████| 200/200 [00:23<00:00,  8.56it/s]\n"
     ]
    },
    {
     "name": "stdout",
     "output_type": "stream",
     "text": [
      "loss: [array(0.6436, dtype=float16), array(0.7114, dtype=float16), array(0.795, dtype=float16), array(0.7627, dtype=float16)]\n",
      "Saved poisoned image 21 to ./data/poisons/mini_MathVista_grid+i2i_AdvDiffVLMAttack/nat/21.png\n",
      "Time: 47.647109508514404\n",
      "image name =  26\n",
      "Data shape for DDIM sampling is (1, 3, 64, 64), eta 0.0\n",
      "Running Adversarial Sampling at 0 step\n",
      "Running DDIM Sampling with 200 timesteps\n"
     ]
    },
    {
     "name": "stderr",
     "output_type": "stream",
     "text": [
      "\n",
      "\u001b[A\n",
      "\u001b[A\n",
      "\u001b[A\n",
      "\u001b[A\n",
      "DDIM Sampler: 100%|██████████| 200/200 [00:23<00:00,  8.59it/s]\n"
     ]
    },
    {
     "name": "stdout",
     "output_type": "stream",
     "text": [
      "Data shape for DDIM sampling is (1, 3, 64, 64), eta 0.0\n",
      "Running Adversarial Sampling at 0 step\n",
      "Running DDIM Sampling with 200 timesteps\n"
     ]
    },
    {
     "name": "stderr",
     "output_type": "stream",
     "text": [
      "\n",
      "\u001b[A\n",
      "\u001b[A\n",
      "\u001b[A\n",
      "\u001b[A\n",
      "\u001b[A\n",
      "\u001b[A\n",
      "DDIM Sampler: 100%|██████████| 200/200 [00:22<00:00,  8.72it/s]\n"
     ]
    },
    {
     "name": "stdout",
     "output_type": "stream",
     "text": [
      "loss: [array(0.6797, dtype=float16), array(0.743, dtype=float16), array(0.674, dtype=float16), array(0.652, dtype=float16)]\n",
      "Saved poisoned image 26 to ./data/poisons/mini_MathVista_grid+i2i_AdvDiffVLMAttack/nat/26.png\n",
      "Time: 46.97778081893921\n",
      "image name =  5\n",
      "Data shape for DDIM sampling is (1, 3, 64, 64), eta 0.0\n",
      "Running Adversarial Sampling at 0 step\n",
      "Running DDIM Sampling with 200 timesteps\n"
     ]
    },
    {
     "name": "stderr",
     "output_type": "stream",
     "text": [
      "\n",
      "\u001b[A\n",
      "\u001b[A\n",
      "\u001b[A\n",
      "\u001b[A\n",
      "DDIM Sampler: 100%|██████████| 200/200 [00:23<00:00,  8.50it/s]\n"
     ]
    },
    {
     "name": "stdout",
     "output_type": "stream",
     "text": [
      "Data shape for DDIM sampling is (1, 3, 64, 64), eta 0.0\n",
      "Running Adversarial Sampling at 0 step\n",
      "Running DDIM Sampling with 200 timesteps\n"
     ]
    },
    {
     "name": "stderr",
     "output_type": "stream",
     "text": [
      "\n",
      "\u001b[A\n",
      "\u001b[A\n",
      "\u001b[A\n",
      "\u001b[A\n",
      "DDIM Sampler: 100%|██████████| 200/200 [00:23<00:00,  8.50it/s]\n"
     ]
    },
    {
     "name": "stdout",
     "output_type": "stream",
     "text": [
      "loss: [array(0.6846, dtype=float16), array(0.732, dtype=float16), array(0.733, dtype=float16), array(0.7114, dtype=float16)]\n",
      "Saved poisoned image 5 to ./data/poisons/mini_MathVista_grid+i2i_AdvDiffVLMAttack/nat/5.png\n",
      "Time: 47.804197549819946\n",
      "image name =  13\n",
      "Data shape for DDIM sampling is (1, 3, 64, 64), eta 0.0\n",
      "Running Adversarial Sampling at 0 step\n",
      "Running DDIM Sampling with 200 timesteps\n"
     ]
    },
    {
     "name": "stderr",
     "output_type": "stream",
     "text": [
      "\n",
      "\u001b[A\n",
      "\u001b[A\n",
      "\u001b[A\n",
      "\u001b[A\n",
      "DDIM Sampler: 100%|██████████| 200/200 [00:23<00:00,  8.50it/s]\n"
     ]
    },
    {
     "name": "stdout",
     "output_type": "stream",
     "text": [
      "Data shape for DDIM sampling is (1, 3, 64, 64), eta 0.0\n",
      "Running Adversarial Sampling at 0 step\n",
      "Running DDIM Sampling with 200 timesteps\n"
     ]
    },
    {
     "name": "stderr",
     "output_type": "stream",
     "text": [
      "\n",
      "\u001b[A\n",
      "\u001b[A\n",
      "\u001b[A\n",
      "\u001b[A\n",
      "DDIM Sampler: 100%|██████████| 200/200 [00:23<00:00,  8.49it/s]\n"
     ]
    },
    {
     "name": "stdout",
     "output_type": "stream",
     "text": [
      "loss: [array(0.7407, dtype=float16), array(0.7363, dtype=float16), array(0.7847, dtype=float16), array(0.7466, dtype=float16)]\n",
      "Saved poisoned image 13 to ./data/poisons/mini_MathVista_grid+i2i_AdvDiffVLMAttack/nat/13.png\n",
      "Time: 47.83943510055542\n",
      "image name =  14\n",
      "Data shape for DDIM sampling is (1, 3, 64, 64), eta 0.0\n",
      "Running Adversarial Sampling at 0 step\n",
      "Running DDIM Sampling with 200 timesteps\n"
     ]
    },
    {
     "name": "stderr",
     "output_type": "stream",
     "text": [
      "\n",
      "\u001b[A\n",
      "\u001b[A\n",
      "\u001b[A\n",
      "\u001b[A\n",
      "\u001b[A\n",
      "\u001b[A\n",
      "DDIM Sampler: 100%|██████████| 200/200 [00:23<00:00,  8.50it/s]\n"
     ]
    },
    {
     "name": "stdout",
     "output_type": "stream",
     "text": [
      "Data shape for DDIM sampling is (1, 3, 64, 64), eta 0.0\n",
      "Running Adversarial Sampling at 0 step\n",
      "Running DDIM Sampling with 200 timesteps\n"
     ]
    },
    {
     "name": "stderr",
     "output_type": "stream",
     "text": [
      "\n",
      "\u001b[A\n",
      "\u001b[A\n",
      "\u001b[A\n",
      "\u001b[A\n",
      "DDIM Sampler: 100%|██████████| 200/200 [00:23<00:00,  8.68it/s]\n"
     ]
    },
    {
     "name": "stdout",
     "output_type": "stream",
     "text": [
      "loss: [array(0.7817, dtype=float16), array(0.816, dtype=float16), array(0.7944, dtype=float16), array(0.78, dtype=float16)]\n",
      "Saved poisoned image 14 to ./data/poisons/mini_MathVista_grid+i2i_AdvDiffVLMAttack/nat/14.png\n",
      "Time: 47.297645568847656\n",
      "image name =  68\n",
      "Data shape for DDIM sampling is (1, 3, 64, 64), eta 0.0\n",
      "Running Adversarial Sampling at 0 step\n",
      "Running DDIM Sampling with 200 timesteps\n"
     ]
    },
    {
     "name": "stderr",
     "output_type": "stream",
     "text": [
      "\n",
      "\u001b[A\n",
      "\u001b[A\n",
      "\u001b[A\n",
      "\u001b[A\n",
      "DDIM Sampler: 100%|██████████| 200/200 [00:23<00:00,  8.47it/s]\n"
     ]
    },
    {
     "name": "stdout",
     "output_type": "stream",
     "text": [
      "Data shape for DDIM sampling is (1, 3, 64, 64), eta 0.0\n",
      "Running Adversarial Sampling at 0 step\n",
      "Running DDIM Sampling with 200 timesteps\n"
     ]
    },
    {
     "name": "stderr",
     "output_type": "stream",
     "text": [
      "\n",
      "\u001b[A\n",
      "\u001b[A\n",
      "\u001b[A\n",
      "\u001b[A\n",
      "\u001b[A\n",
      "\u001b[A\n",
      "DDIM Sampler: 100%|██████████| 200/200 [00:23<00:00,  8.50it/s]\n"
     ]
    },
    {
     "name": "stdout",
     "output_type": "stream",
     "text": [
      "loss: [array(0.7354, dtype=float16), array(0.8486, dtype=float16), array(0.8154, dtype=float16), array(0.8037, dtype=float16)]\n",
      "Saved poisoned image 68 to ./data/poisons/mini_MathVista_grid+i2i_AdvDiffVLMAttack/nat/68.png\n",
      "Time: 47.87750029563904\n",
      "image name =  2\n",
      "Data shape for DDIM sampling is (1, 3, 64, 64), eta 0.0\n",
      "Running Adversarial Sampling at 0 step\n",
      "Running DDIM Sampling with 200 timesteps\n"
     ]
    },
    {
     "name": "stderr",
     "output_type": "stream",
     "text": [
      "\n",
      "\u001b[A\n",
      "\u001b[A\n",
      "\u001b[A\n",
      "\u001b[A\n",
      "DDIM Sampler: 100%|██████████| 200/200 [00:23<00:00,  8.51it/s]\n"
     ]
    },
    {
     "name": "stdout",
     "output_type": "stream",
     "text": [
      "Data shape for DDIM sampling is (1, 3, 64, 64), eta 0.0\n",
      "Running Adversarial Sampling at 0 step\n",
      "Running DDIM Sampling with 200 timesteps\n"
     ]
    },
    {
     "name": "stderr",
     "output_type": "stream",
     "text": [
      "\n",
      "\u001b[A\n",
      "\u001b[A\n",
      "\u001b[A\n",
      "\u001b[A\n",
      "DDIM Sampler: 100%|██████████| 200/200 [00:23<00:00,  8.49it/s]\n"
     ]
    },
    {
     "name": "stdout",
     "output_type": "stream",
     "text": [
      "loss: [array(0.8613, dtype=float16), array(0.8247, dtype=float16), array(0.863, dtype=float16), array(0.8447, dtype=float16)]\n",
      "Saved poisoned image 2 to ./data/poisons/mini_MathVista_grid+i2i_AdvDiffVLMAttack/nat/2.png\n",
      "Time: 47.88170027732849\n",
      "image name =  66\n",
      "Data shape for DDIM sampling is (1, 3, 64, 64), eta 0.0\n",
      "Running Adversarial Sampling at 0 step\n",
      "Running DDIM Sampling with 200 timesteps\n"
     ]
    },
    {
     "name": "stderr",
     "output_type": "stream",
     "text": [
      "\n",
      "\u001b[A\n",
      "\u001b[A\n",
      "\u001b[A\n",
      "\u001b[A\n",
      "DDIM Sampler: 100%|██████████| 200/200 [00:23<00:00,  8.57it/s]\n"
     ]
    },
    {
     "name": "stdout",
     "output_type": "stream",
     "text": [
      "Data shape for DDIM sampling is (1, 3, 64, 64), eta 0.0\n",
      "Running Adversarial Sampling at 0 step\n",
      "Running DDIM Sampling with 200 timesteps\n"
     ]
    },
    {
     "name": "stderr",
     "output_type": "stream",
     "text": [
      "\n",
      "\u001b[A\n",
      "\u001b[A\n",
      "\u001b[A\n",
      "\u001b[A\n",
      "DDIM Sampler: 100%|██████████| 200/200 [00:23<00:00,  8.45it/s]\n"
     ]
    },
    {
     "name": "stdout",
     "output_type": "stream",
     "text": [
      "loss: [array(0.6055, dtype=float16), array(0.6455, dtype=float16), array(0.561, dtype=float16), array(0.708, dtype=float16)]\n",
      "Saved poisoned image 66 to ./data/poisons/mini_MathVista_grid+i2i_AdvDiffVLMAttack/nat/66.png\n",
      "Time: 47.775636434555054\n",
      "image name =  61\n",
      "Data shape for DDIM sampling is (1, 3, 64, 64), eta 0.0\n",
      "Running Adversarial Sampling at 0 step\n",
      "Running DDIM Sampling with 200 timesteps\n"
     ]
    },
    {
     "name": "stderr",
     "output_type": "stream",
     "text": [
      "\n",
      "\u001b[A\n",
      "\u001b[A\n",
      "\u001b[A\n",
      "\u001b[A\n",
      "\u001b[A\n",
      "\u001b[A\n",
      "DDIM Sampler: 100%|██████████| 200/200 [00:23<00:00,  8.49it/s]\n"
     ]
    },
    {
     "name": "stdout",
     "output_type": "stream",
     "text": [
      "Data shape for DDIM sampling is (1, 3, 64, 64), eta 0.0\n",
      "Running Adversarial Sampling at 0 step\n",
      "Running DDIM Sampling with 200 timesteps\n"
     ]
    },
    {
     "name": "stderr",
     "output_type": "stream",
     "text": [
      "\n",
      "\u001b[A\n",
      "\u001b[A\n",
      "\u001b[A\n",
      "\u001b[A\n",
      "DDIM Sampler: 100%|██████████| 200/200 [00:23<00:00,  8.56it/s]\n"
     ]
    },
    {
     "name": "stdout",
     "output_type": "stream",
     "text": [
      "loss: [array(0.614, dtype=float16), array(0.6685, dtype=float16), array(0.623, dtype=float16), array(0.6484, dtype=float16)]\n",
      "Saved poisoned image 61 to ./data/poisons/mini_MathVista_grid+i2i_AdvDiffVLMAttack/nat/61.png\n",
      "Time: 47.62902116775513\n",
      "image name =  70\n",
      "Data shape for DDIM sampling is (1, 3, 64, 64), eta 0.0\n",
      "Running Adversarial Sampling at 0 step\n",
      "Running DDIM Sampling with 200 timesteps\n"
     ]
    },
    {
     "name": "stderr",
     "output_type": "stream",
     "text": [
      "\n",
      "\u001b[A\n",
      "\u001b[A\n",
      "\u001b[A\n",
      "\u001b[A\n",
      "DDIM Sampler: 100%|██████████| 200/200 [00:23<00:00,  8.56it/s]\n"
     ]
    },
    {
     "name": "stdout",
     "output_type": "stream",
     "text": [
      "Data shape for DDIM sampling is (1, 3, 64, 64), eta 0.0\n",
      "Running Adversarial Sampling at 0 step\n",
      "Running DDIM Sampling with 200 timesteps\n"
     ]
    },
    {
     "name": "stderr",
     "output_type": "stream",
     "text": [
      "\n",
      "\u001b[A\n",
      "\u001b[A\n",
      "\u001b[A\n",
      "\u001b[A\n",
      "DDIM Sampler: 100%|██████████| 200/200 [00:23<00:00,  8.64it/s]\n"
     ]
    },
    {
     "name": "stdout",
     "output_type": "stream",
     "text": [
      "loss: [array(0.9097, dtype=float16), array(0.9243, dtype=float16), array(0.935, dtype=float16), array(0.9253, dtype=float16)]\n",
      "Saved poisoned image 70 to ./data/poisons/mini_MathVista_grid+i2i_AdvDiffVLMAttack/nat/70.png\n",
      "Time: 47.306944847106934\n",
      "image name =  77\n",
      "Data shape for DDIM sampling is (1, 3, 64, 64), eta 0.0\n",
      "Running Adversarial Sampling at 0 step\n",
      "Running DDIM Sampling with 200 timesteps\n"
     ]
    },
    {
     "name": "stderr",
     "output_type": "stream",
     "text": [
      "\n",
      "\u001b[A\n",
      "\u001b[A\n",
      "\u001b[A\n",
      "\u001b[A\n",
      "DDIM Sampler: 100%|██████████| 200/200 [00:23<00:00,  8.53it/s]\n"
     ]
    },
    {
     "name": "stdout",
     "output_type": "stream",
     "text": [
      "Data shape for DDIM sampling is (1, 3, 64, 64), eta 0.0\n",
      "Running Adversarial Sampling at 0 step\n",
      "Running DDIM Sampling with 200 timesteps\n"
     ]
    },
    {
     "name": "stderr",
     "output_type": "stream",
     "text": [
      "\n",
      "\u001b[A\n",
      "\u001b[A\n",
      "\u001b[A\n",
      "\u001b[A\n",
      "\u001b[A\n",
      "DDIM Sampler: 100%|██████████| 200/200 [00:23<00:00,  8.52it/s]\n"
     ]
    },
    {
     "name": "stdout",
     "output_type": "stream",
     "text": [
      "loss: [array(0.7197, dtype=float16), array(0.8047, dtype=float16), array(0.73, dtype=float16), array(0.659, dtype=float16)]\n",
      "Saved poisoned image 77 to ./data/poisons/mini_MathVista_grid+i2i_AdvDiffVLMAttack/nat/77.png\n",
      "Time: 47.63477277755737\n",
      "image name =  79\n",
      "Data shape for DDIM sampling is (1, 3, 64, 64), eta 0.0\n",
      "Running Adversarial Sampling at 0 step\n",
      "Running DDIM Sampling with 200 timesteps\n"
     ]
    },
    {
     "name": "stderr",
     "output_type": "stream",
     "text": [
      "\n",
      "\u001b[A\n",
      "\u001b[A\n",
      "\u001b[A\n",
      "\u001b[A\n",
      "DDIM Sampler: 100%|██████████| 200/200 [00:23<00:00,  8.52it/s]\n"
     ]
    },
    {
     "name": "stdout",
     "output_type": "stream",
     "text": [
      "Data shape for DDIM sampling is (1, 3, 64, 64), eta 0.0\n",
      "Running Adversarial Sampling at 0 step\n",
      "Running DDIM Sampling with 200 timesteps\n"
     ]
    },
    {
     "name": "stderr",
     "output_type": "stream",
     "text": [
      "\n",
      "\u001b[A\n",
      "\u001b[A\n",
      "\u001b[A\n",
      "\u001b[A\n",
      "DDIM Sampler: 100%|██████████| 200/200 [00:23<00:00,  8.64it/s]\n"
     ]
    },
    {
     "name": "stdout",
     "output_type": "stream",
     "text": [
      "loss: [array(0.741, dtype=float16), array(0.734, dtype=float16), array(0.5933, dtype=float16), array(0.6543, dtype=float16)]\n",
      "Saved poisoned image 79 to ./data/poisons/mini_MathVista_grid+i2i_AdvDiffVLMAttack/nat/79.png\n",
      "Time: 47.37116193771362\n",
      "image name =  37\n",
      "Data shape for DDIM sampling is (1, 3, 64, 64), eta 0.0\n",
      "Running Adversarial Sampling at 0 step\n",
      "Running DDIM Sampling with 200 timesteps\n"
     ]
    },
    {
     "name": "stderr",
     "output_type": "stream",
     "text": [
      "\n",
      "\u001b[A\n",
      "\u001b[A\n",
      "\u001b[A\n",
      "\u001b[A\n",
      "\u001b[A\n",
      "\u001b[A\n",
      "DDIM Sampler: 100%|██████████| 200/200 [00:23<00:00,  8.49it/s]\n"
     ]
    },
    {
     "name": "stdout",
     "output_type": "stream",
     "text": [
      "Data shape for DDIM sampling is (1, 3, 64, 64), eta 0.0\n",
      "Running Adversarial Sampling at 0 step\n",
      "Running DDIM Sampling with 200 timesteps\n"
     ]
    },
    {
     "name": "stderr",
     "output_type": "stream",
     "text": [
      "\n",
      "\u001b[A\n",
      "\u001b[A\n",
      "\u001b[A\n",
      "\u001b[A\n",
      "DDIM Sampler: 100%|██████████| 200/200 [00:23<00:00,  8.50it/s]\n"
     ]
    },
    {
     "name": "stdout",
     "output_type": "stream",
     "text": [
      "loss: [array(0.8228, dtype=float16), array(0.8027, dtype=float16), array(0.632, dtype=float16), array(0.644, dtype=float16)]\n",
      "Saved poisoned image 37 to ./data/poisons/mini_MathVista_grid+i2i_AdvDiffVLMAttack/nat/37.png\n",
      "Time: 47.80864763259888\n",
      "image name =  30\n",
      "Data shape for DDIM sampling is (1, 3, 64, 64), eta 0.0\n",
      "Running Adversarial Sampling at 0 step\n",
      "Running DDIM Sampling with 200 timesteps\n"
     ]
    },
    {
     "name": "stderr",
     "output_type": "stream",
     "text": [
      "\n",
      "\u001b[A\n",
      "\u001b[A\n",
      "\u001b[A\n",
      "\u001b[A\n",
      "DDIM Sampler: 100%|██████████| 200/200 [00:23<00:00,  8.53it/s]\n"
     ]
    },
    {
     "name": "stdout",
     "output_type": "stream",
     "text": [
      "Data shape for DDIM sampling is (1, 3, 64, 64), eta 0.0\n",
      "Running Adversarial Sampling at 0 step\n",
      "Running DDIM Sampling with 200 timesteps\n"
     ]
    },
    {
     "name": "stderr",
     "output_type": "stream",
     "text": [
      "\n",
      "\u001b[A\n",
      "\u001b[A\n",
      "\u001b[A\n",
      "\u001b[A\n",
      "DDIM Sampler: 100%|██████████| 200/200 [00:23<00:00,  8.51it/s]\n"
     ]
    },
    {
     "name": "stdout",
     "output_type": "stream",
     "text": [
      "loss: [array(0.6904, dtype=float16), array(0.7104, dtype=float16), array(0.8184, dtype=float16), array(0.6826, dtype=float16)]\n",
      "Saved poisoned image 30 to ./data/poisons/mini_MathVista_grid+i2i_AdvDiffVLMAttack/nat/30.png\n",
      "Time: 47.70678377151489\n",
      "image name =  42\n",
      "Data shape for DDIM sampling is (1, 3, 64, 64), eta 0.0\n",
      "Running Adversarial Sampling at 0 step\n",
      "Running DDIM Sampling with 200 timesteps\n"
     ]
    },
    {
     "name": "stderr",
     "output_type": "stream",
     "text": [
      "\n",
      "\u001b[A\n",
      "\u001b[A\n",
      "\u001b[A\n",
      "\u001b[A\n",
      "DDIM Sampler: 100%|██████████| 200/200 [00:23<00:00,  8.53it/s]\n"
     ]
    },
    {
     "name": "stdout",
     "output_type": "stream",
     "text": [
      "Data shape for DDIM sampling is (1, 3, 64, 64), eta 0.0\n",
      "Running Adversarial Sampling at 0 step\n",
      "Running DDIM Sampling with 200 timesteps\n"
     ]
    },
    {
     "name": "stderr",
     "output_type": "stream",
     "text": [
      "\n",
      "\u001b[A\n",
      "\u001b[A\n",
      "\u001b[A\n",
      "\u001b[A\n",
      "\u001b[A\n",
      "\u001b[A\n",
      "DDIM Sampler: 100%|██████████| 200/200 [00:23<00:00,  8.49it/s]\n"
     ]
    },
    {
     "name": "stdout",
     "output_type": "stream",
     "text": [
      "loss: [array(0.8804, dtype=float16), array(0.8745, dtype=float16), array(0.859, dtype=float16), array(0.859, dtype=float16)]\n",
      "Saved poisoned image 42 to ./data/poisons/mini_MathVista_grid+i2i_AdvDiffVLMAttack/nat/42.png\n",
      "Time: 47.81310820579529\n",
      "image name =  93\n",
      "Data shape for DDIM sampling is (1, 3, 64, 64), eta 0.0\n",
      "Running Adversarial Sampling at 0 step\n",
      "Running DDIM Sampling with 200 timesteps\n"
     ]
    },
    {
     "name": "stderr",
     "output_type": "stream",
     "text": [
      "\n",
      "\u001b[A\n",
      "\u001b[A\n",
      "\u001b[A\n",
      "\u001b[A\n",
      "DDIM Sampler: 100%|██████████| 200/200 [00:23<00:00,  8.47it/s]\n"
     ]
    },
    {
     "name": "stdout",
     "output_type": "stream",
     "text": [
      "Data shape for DDIM sampling is (1, 3, 64, 64), eta 0.0\n",
      "Running Adversarial Sampling at 0 step\n",
      "Running DDIM Sampling with 200 timesteps\n"
     ]
    },
    {
     "name": "stderr",
     "output_type": "stream",
     "text": [
      "\n",
      "\u001b[A\n",
      "\u001b[A\n",
      "\u001b[A\n",
      "\u001b[A\n",
      "DDIM Sampler: 100%|██████████| 200/200 [00:23<00:00,  8.49it/s]\n"
     ]
    },
    {
     "name": "stdout",
     "output_type": "stream",
     "text": [
      "loss: [array(0.5684, dtype=float16), array(0.717, dtype=float16), array(0.5723, dtype=float16), array(0.5767, dtype=float16)]\n",
      "Saved poisoned image 93 to ./data/poisons/mini_MathVista_grid+i2i_AdvDiffVLMAttack/nat/93.png\n",
      "Time: 47.91666007041931\n",
      "image name =  45\n",
      "Data shape for DDIM sampling is (1, 3, 64, 64), eta 0.0\n",
      "Running Adversarial Sampling at 0 step\n",
      "Running DDIM Sampling with 200 timesteps\n"
     ]
    },
    {
     "name": "stderr",
     "output_type": "stream",
     "text": [
      "\n",
      "\u001b[A\n",
      "\u001b[A\n",
      "\u001b[A\n",
      "\u001b[A\n",
      "DDIM Sampler: 100%|██████████| 200/200 [00:23<00:00,  8.49it/s]\n"
     ]
    },
    {
     "name": "stdout",
     "output_type": "stream",
     "text": [
      "Data shape for DDIM sampling is (1, 3, 64, 64), eta 0.0\n",
      "Running Adversarial Sampling at 0 step\n",
      "Running DDIM Sampling with 200 timesteps\n"
     ]
    },
    {
     "name": "stderr",
     "output_type": "stream",
     "text": [
      "\n",
      "\u001b[A\n",
      "\u001b[A\n",
      "\u001b[A\n",
      "\u001b[A\n",
      "DDIM Sampler: 100%|██████████| 200/200 [00:23<00:00,  8.55it/s]\n"
     ]
    },
    {
     "name": "stdout",
     "output_type": "stream",
     "text": [
      "loss: [array(0.5195, dtype=float16), array(0.6294, dtype=float16), array(0.534, dtype=float16), array(0.5015, dtype=float16)]\n",
      "Saved poisoned image 45 to ./data/poisons/mini_MathVista_grid+i2i_AdvDiffVLMAttack/nat/45.png\n",
      "Time: 47.696009397506714\n",
      "image name =  94\n",
      "Data shape for DDIM sampling is (1, 3, 64, 64), eta 0.0\n",
      "Running Adversarial Sampling at 0 step\n",
      "Running DDIM Sampling with 200 timesteps\n"
     ]
    },
    {
     "name": "stderr",
     "output_type": "stream",
     "text": [
      "\n",
      "\u001b[A\n",
      "\u001b[A\n",
      "\u001b[A\n",
      "\u001b[A\n",
      "\u001b[A\n",
      "\u001b[A\n",
      "DDIM Sampler: 100%|██████████| 200/200 [00:23<00:00,  8.50it/s]\n"
     ]
    },
    {
     "name": "stdout",
     "output_type": "stream",
     "text": [
      "Data shape for DDIM sampling is (1, 3, 64, 64), eta 0.0\n",
      "Running Adversarial Sampling at 0 step\n",
      "Running DDIM Sampling with 200 timesteps\n"
     ]
    },
    {
     "name": "stderr",
     "output_type": "stream",
     "text": [
      "\n",
      "\u001b[A\n",
      "\u001b[A\n",
      "\u001b[A\n",
      "\u001b[A\n",
      "DDIM Sampler: 100%|██████████| 200/200 [00:23<00:00,  8.57it/s]\n"
     ]
    },
    {
     "name": "stdout",
     "output_type": "stream",
     "text": [
      "loss: [array(0.713, dtype=float16), array(0.8384, dtype=float16), array(0.782, dtype=float16), array(0.8164, dtype=float16)]\n",
      "Saved poisoned image 94 to ./data/poisons/mini_MathVista_grid+i2i_AdvDiffVLMAttack/nat/94.png\n",
      "Time: 47.60981726646423\n",
      "image name =  39\n",
      "Data shape for DDIM sampling is (1, 3, 64, 64), eta 0.0\n",
      "Running Adversarial Sampling at 0 step\n",
      "Running DDIM Sampling with 200 timesteps\n"
     ]
    },
    {
     "name": "stderr",
     "output_type": "stream",
     "text": [
      "\n",
      "\u001b[A\n",
      "\u001b[A\n",
      "\u001b[A\n",
      "\u001b[A\n",
      "DDIM Sampler: 100%|██████████| 200/200 [00:22<00:00,  8.72it/s]\n"
     ]
    },
    {
     "name": "stdout",
     "output_type": "stream",
     "text": [
      "Data shape for DDIM sampling is (1, 3, 64, 64), eta 0.0\n",
      "Running Adversarial Sampling at 0 step\n",
      "Running DDIM Sampling with 200 timesteps\n"
     ]
    },
    {
     "name": "stderr",
     "output_type": "stream",
     "text": [
      "\n",
      "\u001b[A\n",
      "\u001b[A\n",
      "\u001b[A\n",
      "\u001b[A\n",
      "\u001b[A\n",
      "\u001b[A\n",
      "DDIM Sampler: 100%|██████████| 200/200 [00:23<00:00,  8.67it/s]\n"
     ]
    },
    {
     "name": "stdout",
     "output_type": "stream",
     "text": [
      "loss: [array(0.6865, dtype=float16), array(0.725, dtype=float16), array(0.6484, dtype=float16), array(0.635, dtype=float16)]\n",
      "Saved poisoned image 39 to ./data/poisons/mini_MathVista_grid+i2i_AdvDiffVLMAttack/nat/39.png\n",
      "Time: 46.81403422355652\n",
      "image name =  60\n",
      "Data shape for DDIM sampling is (1, 3, 64, 64), eta 0.0\n",
      "Running Adversarial Sampling at 0 step\n",
      "Running DDIM Sampling with 200 timesteps\n"
     ]
    },
    {
     "name": "stderr",
     "output_type": "stream",
     "text": [
      "\n",
      "\u001b[A\n",
      "\u001b[A\n",
      "\u001b[A\n",
      "\u001b[A\n",
      "DDIM Sampler: 100%|██████████| 200/200 [00:23<00:00,  8.48it/s]\n"
     ]
    },
    {
     "name": "stdout",
     "output_type": "stream",
     "text": [
      "Data shape for DDIM sampling is (1, 3, 64, 64), eta 0.0\n",
      "Running Adversarial Sampling at 0 step\n",
      "Running DDIM Sampling with 200 timesteps\n"
     ]
    },
    {
     "name": "stderr",
     "output_type": "stream",
     "text": [
      "\n",
      "\u001b[A\n",
      "\u001b[A\n",
      "\u001b[A\n",
      "\u001b[A\n",
      "DDIM Sampler: 100%|██████████| 200/200 [00:23<00:00,  8.60it/s]\n"
     ]
    },
    {
     "name": "stdout",
     "output_type": "stream",
     "text": [
      "loss: [array(0.8867, dtype=float16), array(0.9478, dtype=float16), array(0.9253, dtype=float16), array(0.9287, dtype=float16)]\n",
      "Saved poisoned image 60 to ./data/poisons/mini_MathVista_grid+i2i_AdvDiffVLMAttack/nat/60.png\n",
      "Time: 47.64034914970398\n",
      "image name =  67\n",
      "Data shape for DDIM sampling is (1, 3, 64, 64), eta 0.0\n",
      "Running Adversarial Sampling at 0 step\n",
      "Running DDIM Sampling with 200 timesteps\n"
     ]
    },
    {
     "name": "stderr",
     "output_type": "stream",
     "text": [
      "\n",
      "\u001b[A\n",
      "\u001b[A\n",
      "\u001b[A\n",
      "\u001b[A\n",
      "DDIM Sampler: 100%|██████████| 200/200 [00:23<00:00,  8.59it/s]\n"
     ]
    },
    {
     "name": "stdout",
     "output_type": "stream",
     "text": [
      "Data shape for DDIM sampling is (1, 3, 64, 64), eta 0.0\n",
      "Running Adversarial Sampling at 0 step\n",
      "Running DDIM Sampling with 200 timesteps\n"
     ]
    },
    {
     "name": "stderr",
     "output_type": "stream",
     "text": [
      "\n",
      "\u001b[A\n",
      "\u001b[A\n",
      "\u001b[A\n",
      "\u001b[A\n",
      "DDIM Sampler: 100%|██████████| 200/200 [00:23<00:00,  8.52it/s]\n"
     ]
    },
    {
     "name": "stdout",
     "output_type": "stream",
     "text": [
      "loss: [array(0.6367, dtype=float16), array(0.6626, dtype=float16), array(0.598, dtype=float16), array(0.5615, dtype=float16)]\n",
      "Saved poisoned image 67 to ./data/poisons/mini_MathVista_grid+i2i_AdvDiffVLMAttack/nat/67.png\n",
      "Time: 47.48464488983154\n",
      "image name =  15\n",
      "Data shape for DDIM sampling is (1, 3, 64, 64), eta 0.0\n",
      "Running Adversarial Sampling at 0 step\n",
      "Running DDIM Sampling with 200 timesteps\n"
     ]
    },
    {
     "name": "stderr",
     "output_type": "stream",
     "text": [
      "\n",
      "\u001b[A\n",
      "\u001b[A\n",
      "\u001b[A\n",
      "\u001b[A\n",
      "DDIM Sampler: 100%|██████████| 200/200 [00:23<00:00,  8.59it/s]\n"
     ]
    },
    {
     "name": "stdout",
     "output_type": "stream",
     "text": [
      "Data shape for DDIM sampling is (1, 3, 64, 64), eta 0.0\n",
      "Running Adversarial Sampling at 0 step\n",
      "Running DDIM Sampling with 200 timesteps\n"
     ]
    },
    {
     "name": "stderr",
     "output_type": "stream",
     "text": [
      "\n",
      "\u001b[A\n",
      "\u001b[A\n",
      "\u001b[A\n",
      "\u001b[A\n",
      "DDIM Sampler: 100%|██████████| 200/200 [00:23<00:00,  8.60it/s]\n"
     ]
    },
    {
     "name": "stdout",
     "output_type": "stream",
     "text": [
      "loss: [array(0.6484, dtype=float16), array(0.6914, dtype=float16), array(0.727, dtype=float16), array(0.7896, dtype=float16)]\n",
      "Saved poisoned image 15 to ./data/poisons/mini_MathVista_grid+i2i_AdvDiffVLMAttack/nat/15.png\n",
      "Time: 47.25028610229492\n",
      "image name =  69\n",
      "Data shape for DDIM sampling is (1, 3, 64, 64), eta 0.0\n",
      "Running Adversarial Sampling at 0 step\n",
      "Running DDIM Sampling with 200 timesteps\n"
     ]
    },
    {
     "name": "stderr",
     "output_type": "stream",
     "text": [
      "\n",
      "\u001b[A\n",
      "\u001b[A\n",
      "\u001b[A\n",
      "\u001b[A\n",
      "DDIM Sampler: 100%|██████████| 200/200 [00:23<00:00,  8.50it/s]\n"
     ]
    },
    {
     "name": "stdout",
     "output_type": "stream",
     "text": [
      "Data shape for DDIM sampling is (1, 3, 64, 64), eta 0.0\n",
      "Running Adversarial Sampling at 0 step\n",
      "Running DDIM Sampling with 200 timesteps\n"
     ]
    },
    {
     "name": "stderr",
     "output_type": "stream",
     "text": [
      "\n",
      "\u001b[A\n",
      "\u001b[A\n",
      "\u001b[A\n",
      "\u001b[A\n",
      "\u001b[A\n",
      "\u001b[A\n",
      "DDIM Sampler: 100%|██████████| 200/200 [00:23<00:00,  8.51it/s]\n"
     ]
    },
    {
     "name": "stdout",
     "output_type": "stream",
     "text": [
      "loss: [array(0.7573, dtype=float16), array(0.775, dtype=float16), array(0.7925, dtype=float16), array(0.765, dtype=float16)]\n",
      "Saved poisoned image 69 to ./data/poisons/mini_MathVista_grid+i2i_AdvDiffVLMAttack/nat/69.png\n",
      "Time: 47.80672097206116\n",
      "image name =  3\n",
      "Data shape for DDIM sampling is (1, 3, 64, 64), eta 0.0\n",
      "Running Adversarial Sampling at 0 step\n",
      "Running DDIM Sampling with 200 timesteps\n"
     ]
    },
    {
     "name": "stderr",
     "output_type": "stream",
     "text": [
      "\n",
      "\u001b[A\n",
      "\u001b[A\n",
      "\u001b[A\n",
      "\u001b[A\n",
      "DDIM Sampler: 100%|██████████| 200/200 [00:23<00:00,  8.51it/s]\n"
     ]
    },
    {
     "name": "stdout",
     "output_type": "stream",
     "text": [
      "Data shape for DDIM sampling is (1, 3, 64, 64), eta 0.0\n",
      "Running Adversarial Sampling at 0 step\n",
      "Running DDIM Sampling with 200 timesteps\n"
     ]
    },
    {
     "name": "stderr",
     "output_type": "stream",
     "text": [
      "\n",
      "\u001b[A\n",
      "\u001b[A\n",
      "\u001b[A\n",
      "\u001b[A\n",
      "DDIM Sampler: 100%|██████████| 200/200 [00:23<00:00,  8.51it/s]\n"
     ]
    },
    {
     "name": "stdout",
     "output_type": "stream",
     "text": [
      "loss: [array(0.717, dtype=float16), array(0.7837, dtype=float16), array(0.7397, dtype=float16), array(0.7637, dtype=float16)]\n",
      "Saved poisoned image 3 to ./data/poisons/mini_MathVista_grid+i2i_AdvDiffVLMAttack/nat/3.png\n",
      "Time: 47.73778295516968\n",
      "image name =  4\n",
      "Data shape for DDIM sampling is (1, 3, 64, 64), eta 0.0\n",
      "Running Adversarial Sampling at 0 step\n",
      "Running DDIM Sampling with 200 timesteps\n"
     ]
    },
    {
     "name": "stderr",
     "output_type": "stream",
     "text": [
      "\n",
      "\u001b[A\n",
      "\u001b[A\n",
      "\u001b[A\n",
      "\u001b[A\n",
      "DDIM Sampler: 100%|██████████| 200/200 [00:23<00:00,  8.65it/s]\n"
     ]
    },
    {
     "name": "stdout",
     "output_type": "stream",
     "text": [
      "Data shape for DDIM sampling is (1, 3, 64, 64), eta 0.0\n",
      "Running Adversarial Sampling at 0 step\n",
      "Running DDIM Sampling with 200 timesteps\n"
     ]
    },
    {
     "name": "stderr",
     "output_type": "stream",
     "text": [
      "\n",
      "\u001b[A\n",
      "\u001b[A\n",
      "\u001b[A\n",
      "\u001b[A\n",
      "DDIM Sampler: 100%|██████████| 200/200 [00:23<00:00,  8.57it/s]\n"
     ]
    },
    {
     "name": "stdout",
     "output_type": "stream",
     "text": [
      "loss: [array(0.8315, dtype=float16), array(0.8613, dtype=float16), array(0.858, dtype=float16), array(0.8516, dtype=float16)]\n",
      "Saved poisoned image 4 to ./data/poisons/mini_MathVista_grid+i2i_AdvDiffVLMAttack/nat/4.png\n",
      "Time: 47.23532485961914\n",
      "image name =  12\n",
      "Data shape for DDIM sampling is (1, 3, 64, 64), eta 0.0\n",
      "Running Adversarial Sampling at 0 step\n",
      "Running DDIM Sampling with 200 timesteps\n"
     ]
    },
    {
     "name": "stderr",
     "output_type": "stream",
     "text": [
      "\n",
      "\u001b[A\n",
      "\u001b[A\n",
      "\u001b[A\n",
      "\u001b[A\n",
      "DDIM Sampler: 100%|██████████| 200/200 [00:23<00:00,  8.64it/s]\n"
     ]
    },
    {
     "name": "stdout",
     "output_type": "stream",
     "text": [
      "Data shape for DDIM sampling is (1, 3, 64, 64), eta 0.0\n",
      "Running Adversarial Sampling at 0 step\n",
      "Running DDIM Sampling with 200 timesteps\n"
     ]
    },
    {
     "name": "stderr",
     "output_type": "stream",
     "text": [
      "\n",
      "\u001b[A\n",
      "\u001b[A\n",
      "\u001b[A\n",
      "\u001b[A\n",
      "DDIM Sampler: 100%|██████████| 200/200 [00:23<00:00,  8.61it/s]\n"
     ]
    },
    {
     "name": "stdout",
     "output_type": "stream",
     "text": [
      "loss: [array(0.8257, dtype=float16), array(0.888, dtype=float16), array(0.8906, dtype=float16), array(0.888, dtype=float16)]\n",
      "Saved poisoned image 12 to ./data/poisons/mini_MathVista_grid+i2i_AdvDiffVLMAttack/nat/12.png\n",
      "Time: 47.11239218711853\n",
      "image name =  27\n",
      "Data shape for DDIM sampling is (1, 3, 64, 64), eta 0.0\n",
      "Running Adversarial Sampling at 0 step\n",
      "Running DDIM Sampling with 200 timesteps\n"
     ]
    },
    {
     "name": "stderr",
     "output_type": "stream",
     "text": [
      "\n",
      "\u001b[A\n",
      "\u001b[A\n",
      "\u001b[A\n",
      "\u001b[A\n",
      "DDIM Sampler: 100%|██████████| 200/200 [00:23<00:00,  8.68it/s]\n"
     ]
    },
    {
     "name": "stdout",
     "output_type": "stream",
     "text": [
      "Data shape for DDIM sampling is (1, 3, 64, 64), eta 0.0\n",
      "Running Adversarial Sampling at 0 step\n",
      "Running DDIM Sampling with 200 timesteps\n"
     ]
    },
    {
     "name": "stderr",
     "output_type": "stream",
     "text": [
      "\n",
      "\u001b[A\n",
      "\u001b[A\n",
      "\u001b[A\n",
      "\u001b[A\n",
      "\u001b[A\n",
      "DDIM Sampler: 100%|██████████| 200/200 [00:23<00:00,  8.49it/s]\n"
     ]
    },
    {
     "name": "stdout",
     "output_type": "stream",
     "text": [
      "loss: [array(0.9424, dtype=float16), array(0.9443, dtype=float16), array(0.9414, dtype=float16), array(0.9463, dtype=float16)]\n",
      "Saved poisoned image 27 to ./data/poisons/mini_MathVista_grid+i2i_AdvDiffVLMAttack/nat/27.png\n",
      "Time: 47.373852252960205\n",
      "image name =  20\n",
      "Data shape for DDIM sampling is (1, 3, 64, 64), eta 0.0\n",
      "Running Adversarial Sampling at 0 step\n",
      "Running DDIM Sampling with 200 timesteps\n"
     ]
    },
    {
     "name": "stderr",
     "output_type": "stream",
     "text": [
      "\n",
      "\u001b[A\n",
      "\u001b[A\n",
      "\u001b[A\n",
      "\u001b[A\n",
      "DDIM Sampler: 100%|██████████| 200/200 [00:23<00:00,  8.62it/s]\n"
     ]
    },
    {
     "name": "stdout",
     "output_type": "stream",
     "text": [
      "Data shape for DDIM sampling is (1, 3, 64, 64), eta 0.0\n",
      "Running Adversarial Sampling at 0 step\n",
      "Running DDIM Sampling with 200 timesteps\n"
     ]
    },
    {
     "name": "stderr",
     "output_type": "stream",
     "text": [
      "\n",
      "\u001b[A\n",
      "\u001b[A\n",
      "\u001b[A\n",
      "\u001b[A\n",
      "DDIM Sampler: 100%|██████████| 200/200 [00:23<00:00,  8.55it/s]\n"
     ]
    },
    {
     "name": "stdout",
     "output_type": "stream",
     "text": [
      "loss: [array(0.5425, dtype=float16), array(0.652, dtype=float16), array(0.6035, dtype=float16), array(0.6055, dtype=float16)]\n",
      "Saved poisoned image 20 to ./data/poisons/mini_MathVista_grid+i2i_AdvDiffVLMAttack/nat/20.png\n",
      "Time: 47.31851077079773\n",
      "image name =  83\n",
      "Data shape for DDIM sampling is (1, 3, 64, 64), eta 0.0\n",
      "Running Adversarial Sampling at 0 step\n",
      "Running DDIM Sampling with 200 timesteps\n"
     ]
    },
    {
     "name": "stderr",
     "output_type": "stream",
     "text": [
      "\n",
      "\u001b[A\n",
      "\u001b[A\n",
      "\u001b[A\n",
      "\u001b[A\n",
      "\u001b[A\n",
      "\u001b[A\n",
      "DDIM Sampler: 100%|██████████| 200/200 [00:23<00:00,  8.57it/s]\n"
     ]
    },
    {
     "name": "stdout",
     "output_type": "stream",
     "text": [
      "Data shape for DDIM sampling is (1, 3, 64, 64), eta 0.0\n",
      "Running Adversarial Sampling at 0 step\n",
      "Running DDIM Sampling with 200 timesteps\n"
     ]
    },
    {
     "name": "stderr",
     "output_type": "stream",
     "text": [
      "\n",
      "\u001b[A\n",
      "\u001b[A\n",
      "\u001b[A\n",
      "\u001b[A\n",
      "DDIM Sampler: 100%|██████████| 200/200 [00:23<00:00,  8.49it/s]\n"
     ]
    },
    {
     "name": "stdout",
     "output_type": "stream",
     "text": [
      "loss: [array(0.7905, dtype=float16), array(0.8486, dtype=float16), array(0.8286, dtype=float16), array(0.8164, dtype=float16)]\n",
      "Saved poisoned image 83 to ./data/poisons/mini_MathVista_grid+i2i_AdvDiffVLMAttack/nat/83.png\n",
      "Time: 47.65087342262268\n",
      "image name =  52\n",
      "Data shape for DDIM sampling is (1, 3, 64, 64), eta 0.0\n",
      "Running Adversarial Sampling at 0 step\n",
      "Running DDIM Sampling with 200 timesteps\n"
     ]
    },
    {
     "name": "stderr",
     "output_type": "stream",
     "text": [
      "\n",
      "\u001b[A\n",
      "\u001b[A\n",
      "\u001b[A\n",
      "\u001b[A\n",
      "DDIM Sampler: 100%|██████████| 200/200 [00:23<00:00,  8.49it/s]\n"
     ]
    },
    {
     "name": "stdout",
     "output_type": "stream",
     "text": [
      "Data shape for DDIM sampling is (1, 3, 64, 64), eta 0.0\n",
      "Running Adversarial Sampling at 0 step\n",
      "Running DDIM Sampling with 200 timesteps\n"
     ]
    },
    {
     "name": "stderr",
     "output_type": "stream",
     "text": [
      "\n",
      "\u001b[A\n",
      "\u001b[A\n",
      "\u001b[A\n",
      "\u001b[A\n",
      "DDIM Sampler: 100%|██████████| 200/200 [00:22<00:00,  8.71it/s]\n"
     ]
    },
    {
     "name": "stdout",
     "output_type": "stream",
     "text": [
      "loss: [array(0.73, dtype=float16), array(0.7676, dtype=float16), array(0.755, dtype=float16), array(0.747, dtype=float16)]\n",
      "Saved poisoned image 52 to ./data/poisons/mini_MathVista_grid+i2i_AdvDiffVLMAttack/nat/52.png\n",
      "Time: 47.289430379867554\n",
      "image name =  84\n",
      "Data shape for DDIM sampling is (1, 3, 64, 64), eta 0.0\n",
      "Running Adversarial Sampling at 0 step\n",
      "Running DDIM Sampling with 200 timesteps\n"
     ]
    },
    {
     "name": "stderr",
     "output_type": "stream",
     "text": [
      "\n",
      "\u001b[A\n",
      "\u001b[A\n",
      "\u001b[A\n",
      "\u001b[A\n",
      "DDIM Sampler: 100%|██████████| 200/200 [00:23<00:00,  8.55it/s]\n"
     ]
    },
    {
     "name": "stdout",
     "output_type": "stream",
     "text": [
      "Data shape for DDIM sampling is (1, 3, 64, 64), eta 0.0\n",
      "Running Adversarial Sampling at 0 step\n",
      "Running DDIM Sampling with 200 timesteps\n"
     ]
    },
    {
     "name": "stderr",
     "output_type": "stream",
     "text": [
      "\n",
      "\u001b[A\n",
      "\u001b[A\n",
      "\u001b[A\n",
      "\u001b[A\n",
      "DDIM Sampler: 100%|██████████| 200/200 [00:23<00:00,  8.64it/s]\n"
     ]
    },
    {
     "name": "stdout",
     "output_type": "stream",
     "text": [
      "loss: [array(0.627, dtype=float16), array(0.741, dtype=float16), array(0.562, dtype=float16), array(0.572, dtype=float16)]\n",
      "Saved poisoned image 84 to ./data/poisons/mini_MathVista_grid+i2i_AdvDiffVLMAttack/nat/84.png\n",
      "Time: 47.30176544189453\n",
      "image name =  55\n",
      "Data shape for DDIM sampling is (1, 3, 64, 64), eta 0.0\n",
      "Running Adversarial Sampling at 0 step\n",
      "Running DDIM Sampling with 200 timesteps\n"
     ]
    },
    {
     "name": "stderr",
     "output_type": "stream",
     "text": [
      "\n",
      "\u001b[A\n",
      "\u001b[A\n",
      "\u001b[A\n",
      "\u001b[A\n",
      "DDIM Sampler: 100%|██████████| 200/200 [00:23<00:00,  8.49it/s]\n"
     ]
    },
    {
     "name": "stdout",
     "output_type": "stream",
     "text": [
      "Data shape for DDIM sampling is (1, 3, 64, 64), eta 0.0\n",
      "Running Adversarial Sampling at 0 step\n",
      "Running DDIM Sampling with 200 timesteps\n"
     ]
    },
    {
     "name": "stderr",
     "output_type": "stream",
     "text": [
      "\n",
      "\u001b[A\n",
      "\u001b[A\n",
      "\u001b[A\n",
      "\u001b[A\n",
      "DDIM Sampler: 100%|██████████| 200/200 [00:23<00:00,  8.52it/s]\n"
     ]
    },
    {
     "name": "stdout",
     "output_type": "stream",
     "text": [
      "loss: [array(0.6416, dtype=float16), array(0.7197, dtype=float16), array(0.589, dtype=float16), array(0.6606, dtype=float16)]\n",
      "Saved poisoned image 55 to ./data/poisons/mini_MathVista_grid+i2i_AdvDiffVLMAttack/nat/55.png\n",
      "Time: 47.760491132736206\n",
      "image name =  29\n",
      "Data shape for DDIM sampling is (1, 3, 64, 64), eta 0.0\n",
      "Running Adversarial Sampling at 0 step\n",
      "Running DDIM Sampling with 200 timesteps\n"
     ]
    },
    {
     "name": "stderr",
     "output_type": "stream",
     "text": [
      "\n",
      "\u001b[A\n",
      "\u001b[A\n",
      "\u001b[A\n",
      "\u001b[A\n",
      "\u001b[A\n",
      "\u001b[A\n",
      "DDIM Sampler: 100%|██████████| 200/200 [00:23<00:00,  8.53it/s]\n"
     ]
    },
    {
     "name": "stdout",
     "output_type": "stream",
     "text": [
      "Data shape for DDIM sampling is (1, 3, 64, 64), eta 0.0\n",
      "Running Adversarial Sampling at 0 step\n",
      "Running DDIM Sampling with 200 timesteps\n"
     ]
    },
    {
     "name": "stderr",
     "output_type": "stream",
     "text": [
      "\n",
      "\u001b[A\n",
      "\u001b[A\n",
      "\u001b[A\n",
      "\u001b[A\n",
      "DDIM Sampler: 100%|██████████| 200/200 [00:23<00:00,  8.67it/s]\n"
     ]
    },
    {
     "name": "stdout",
     "output_type": "stream",
     "text": [
      "loss: [array(0.8823, dtype=float16), array(0.898, dtype=float16), array(0.9, dtype=float16), array(0.845, dtype=float16)]\n",
      "Saved poisoned image 29 to ./data/poisons/mini_MathVista_grid+i2i_AdvDiffVLMAttack/nat/29.png\n",
      "Time: 47.292277097702026\n",
      "image name =  44\n",
      "Data shape for DDIM sampling is (1, 3, 64, 64), eta 0.0\n",
      "Running Adversarial Sampling at 0 step\n",
      "Running DDIM Sampling with 200 timesteps\n"
     ]
    },
    {
     "name": "stderr",
     "output_type": "stream",
     "text": [
      "\n",
      "\u001b[A\n",
      "\u001b[A\n",
      "\u001b[A\n",
      "\u001b[A\n",
      "DDIM Sampler: 100%|██████████| 200/200 [00:23<00:00,  8.50it/s]\n"
     ]
    },
    {
     "name": "stdout",
     "output_type": "stream",
     "text": [
      "Data shape for DDIM sampling is (1, 3, 64, 64), eta 0.0\n",
      "Running Adversarial Sampling at 0 step\n",
      "Running DDIM Sampling with 200 timesteps\n"
     ]
    },
    {
     "name": "stderr",
     "output_type": "stream",
     "text": [
      "\n",
      "\u001b[A\n",
      "\u001b[A\n",
      "\u001b[A\n",
      "\u001b[A\n",
      "DDIM Sampler: 100%|██████████| 200/200 [00:23<00:00,  8.58it/s]\n"
     ]
    },
    {
     "name": "stdout",
     "output_type": "stream",
     "text": [
      "loss: [array(0.4395, dtype=float16), array(0.6396, dtype=float16), array(0.633, dtype=float16), array(0.664, dtype=float16)]\n",
      "Saved poisoned image 44 to ./data/poisons/mini_MathVista_grid+i2i_AdvDiffVLMAttack/nat/44.png\n",
      "Time: 47.560734272003174\n",
      "image name =  95\n",
      "Data shape for DDIM sampling is (1, 3, 64, 64), eta 0.0\n",
      "Running Adversarial Sampling at 0 step\n",
      "Running DDIM Sampling with 200 timesteps\n"
     ]
    },
    {
     "name": "stderr",
     "output_type": "stream",
     "text": [
      "\n",
      "\u001b[A\n",
      "\u001b[A\n",
      "\u001b[A\n",
      "\u001b[A\n",
      "DDIM Sampler: 100%|██████████| 200/200 [00:23<00:00,  8.55it/s]\n"
     ]
    },
    {
     "name": "stdout",
     "output_type": "stream",
     "text": [
      "Data shape for DDIM sampling is (1, 3, 64, 64), eta 0.0\n",
      "Running Adversarial Sampling at 0 step\n",
      "Running DDIM Sampling with 200 timesteps\n"
     ]
    },
    {
     "name": "stderr",
     "output_type": "stream",
     "text": [
      "\n",
      "\u001b[A\n",
      "\u001b[A\n",
      "\u001b[A\n",
      "\u001b[A\n",
      "DDIM Sampler: 100%|██████████| 200/200 [00:23<00:00,  8.65it/s]\n"
     ]
    },
    {
     "name": "stdout",
     "output_type": "stream",
     "text": [
      "loss: [array(0.731, dtype=float16), array(0.8384, dtype=float16), array(0.813, dtype=float16), array(0.7944, dtype=float16)]\n",
      "Saved poisoned image 95 to ./data/poisons/mini_MathVista_grid+i2i_AdvDiffVLMAttack/nat/95.png\n",
      "Time: 47.22797918319702\n",
      "image name =  38\n",
      "Data shape for DDIM sampling is (1, 3, 64, 64), eta 0.0\n",
      "Running Adversarial Sampling at 0 step\n",
      "Running DDIM Sampling with 200 timesteps\n"
     ]
    },
    {
     "name": "stderr",
     "output_type": "stream",
     "text": [
      "\n",
      "\u001b[A\n",
      "\u001b[A\n",
      "\u001b[A\n",
      "\u001b[A\n",
      "DDIM Sampler: 100%|██████████| 200/200 [00:23<00:00,  8.45it/s]\n"
     ]
    },
    {
     "name": "stdout",
     "output_type": "stream",
     "text": [
      "Data shape for DDIM sampling is (1, 3, 64, 64), eta 0.0\n",
      "Running Adversarial Sampling at 0 step\n",
      "Running DDIM Sampling with 200 timesteps\n"
     ]
    },
    {
     "name": "stderr",
     "output_type": "stream",
     "text": [
      "\n",
      "\u001b[A\n",
      "\u001b[A\n",
      "\u001b[A\n",
      "\u001b[A\n",
      "DDIM Sampler: 100%|██████████| 200/200 [00:23<00:00,  8.50it/s]\n"
     ]
    },
    {
     "name": "stdout",
     "output_type": "stream",
     "text": [
      "loss: [array(0.628, dtype=float16), array(0.659, dtype=float16), array(0.582, dtype=float16), array(0.6343, dtype=float16)]\n",
      "Saved poisoned image 38 to ./data/poisons/mini_MathVista_grid+i2i_AdvDiffVLMAttack/nat/38.png\n",
      "Time: 47.97116732597351\n",
      "image name =  43\n",
      "Data shape for DDIM sampling is (1, 3, 64, 64), eta 0.0\n",
      "Running Adversarial Sampling at 0 step\n",
      "Running DDIM Sampling with 200 timesteps\n"
     ]
    },
    {
     "name": "stderr",
     "output_type": "stream",
     "text": [
      "\n",
      "\u001b[A\n",
      "\u001b[A\n",
      "\u001b[A\n",
      "\u001b[A\n",
      "\u001b[A\n",
      "\u001b[A\n",
      "DDIM Sampler: 100%|██████████| 200/200 [00:23<00:00,  8.49it/s]\n"
     ]
    },
    {
     "name": "stdout",
     "output_type": "stream",
     "text": [
      "Data shape for DDIM sampling is (1, 3, 64, 64), eta 0.0\n",
      "Running Adversarial Sampling at 0 step\n",
      "Running DDIM Sampling with 200 timesteps\n"
     ]
    },
    {
     "name": "stderr",
     "output_type": "stream",
     "text": [
      "\n",
      "\u001b[A\n",
      "\u001b[A\n",
      "\u001b[A\n",
      "\u001b[A\n",
      "DDIM Sampler: 100%|██████████| 200/200 [00:23<00:00,  8.65it/s]\n"
     ]
    },
    {
     "name": "stdout",
     "output_type": "stream",
     "text": [
      "loss: [array(0.677, dtype=float16), array(0.771, dtype=float16), array(0.778, dtype=float16), array(0.744, dtype=float16)]\n",
      "Saved poisoned image 43 to ./data/poisons/mini_MathVista_grid+i2i_AdvDiffVLMAttack/nat/43.png\n",
      "Time: 47.42696261405945\n",
      "image name =  92\n",
      "Data shape for DDIM sampling is (1, 3, 64, 64), eta 0.0\n",
      "Running Adversarial Sampling at 0 step\n",
      "Running DDIM Sampling with 200 timesteps\n"
     ]
    },
    {
     "name": "stderr",
     "output_type": "stream",
     "text": [
      "\n",
      "\u001b[A\n",
      "\u001b[A\n",
      "\u001b[A\n",
      "\u001b[A\n",
      "DDIM Sampler: 100%|██████████| 200/200 [00:23<00:00,  8.56it/s]\n"
     ]
    },
    {
     "name": "stdout",
     "output_type": "stream",
     "text": [
      "Data shape for DDIM sampling is (1, 3, 64, 64), eta 0.0\n",
      "Running Adversarial Sampling at 0 step\n",
      "Running DDIM Sampling with 200 timesteps\n"
     ]
    },
    {
     "name": "stderr",
     "output_type": "stream",
     "text": [
      "\n",
      "\u001b[A\n",
      "\u001b[A\n",
      "\u001b[A\n",
      "\u001b[A\n",
      "\u001b[A\n",
      "\u001b[A\n",
      "DDIM Sampler: 100%|██████████| 200/200 [00:23<00:00,  8.52it/s]\n"
     ]
    },
    {
     "name": "stdout",
     "output_type": "stream",
     "text": [
      "loss: [array(0.901, dtype=float16), array(0.9155, dtype=float16), array(0.8994, dtype=float16), array(0.868, dtype=float16)]\n",
      "Saved poisoned image 92 to ./data/poisons/mini_MathVista_grid+i2i_AdvDiffVLMAttack/nat/92.png\n",
      "Time: 47.63576912879944\n",
      "image name =  31\n",
      "Data shape for DDIM sampling is (1, 3, 64, 64), eta 0.0\n",
      "Running Adversarial Sampling at 0 step\n",
      "Running DDIM Sampling with 200 timesteps\n"
     ]
    },
    {
     "name": "stderr",
     "output_type": "stream",
     "text": [
      "\n",
      "\u001b[A\n",
      "\u001b[A\n",
      "\u001b[A\n",
      "\u001b[A\n",
      "DDIM Sampler: 100%|██████████| 200/200 [00:23<00:00,  8.53it/s]\n"
     ]
    },
    {
     "name": "stdout",
     "output_type": "stream",
     "text": [
      "Data shape for DDIM sampling is (1, 3, 64, 64), eta 0.0\n",
      "Running Adversarial Sampling at 0 step\n",
      "Running DDIM Sampling with 200 timesteps\n"
     ]
    },
    {
     "name": "stderr",
     "output_type": "stream",
     "text": [
      "\n",
      "\u001b[A\n",
      "\u001b[A\n",
      "\u001b[A\n",
      "\u001b[A\n",
      "DDIM Sampler: 100%|██████████| 200/200 [00:23<00:00,  8.58it/s]\n"
     ]
    },
    {
     "name": "stdout",
     "output_type": "stream",
     "text": [
      "loss: [array(0.7944, dtype=float16), array(0.822, dtype=float16), array(0.7754, dtype=float16), array(0.788, dtype=float16)]\n",
      "Saved poisoned image 31 to ./data/poisons/mini_MathVista_grid+i2i_AdvDiffVLMAttack/nat/31.png\n",
      "Time: 47.49989342689514\n",
      "image name =  36\n",
      "Data shape for DDIM sampling is (1, 3, 64, 64), eta 0.0\n",
      "Running Adversarial Sampling at 0 step\n",
      "Running DDIM Sampling with 200 timesteps\n"
     ]
    },
    {
     "name": "stderr",
     "output_type": "stream",
     "text": [
      "\n",
      "\u001b[A\n",
      "\u001b[A\n",
      "\u001b[A\n",
      "\u001b[A\n",
      "DDIM Sampler: 100%|██████████| 200/200 [00:23<00:00,  8.48it/s]\n"
     ]
    },
    {
     "name": "stdout",
     "output_type": "stream",
     "text": [
      "Data shape for DDIM sampling is (1, 3, 64, 64), eta 0.0\n",
      "Running Adversarial Sampling at 0 step\n",
      "Running DDIM Sampling with 200 timesteps\n"
     ]
    },
    {
     "name": "stderr",
     "output_type": "stream",
     "text": [
      "\n",
      "\u001b[A\n",
      "\u001b[A\n",
      "\u001b[A\n",
      "\u001b[A\n",
      "DDIM Sampler: 100%|██████████| 200/200 [00:23<00:00,  8.59it/s]\n"
     ]
    },
    {
     "name": "stdout",
     "output_type": "stream",
     "text": [
      "loss: [array(0.845, dtype=float16), array(0.904, dtype=float16), array(0.869, dtype=float16), array(0.848, dtype=float16)]\n",
      "Saved poisoned image 36 to ./data/poisons/mini_MathVista_grid+i2i_AdvDiffVLMAttack/nat/36.png\n",
      "Time: 47.641907691955566\n",
      "image name =  78\n",
      "Data shape for DDIM sampling is (1, 3, 64, 64), eta 0.0\n",
      "Running Adversarial Sampling at 0 step\n",
      "Running DDIM Sampling with 200 timesteps\n"
     ]
    },
    {
     "name": "stderr",
     "output_type": "stream",
     "text": [
      "\n",
      "\u001b[A\n",
      "\u001b[A\n",
      "\u001b[A\n",
      "\u001b[A\n",
      "\u001b[A\n",
      "\u001b[A\n",
      "DDIM Sampler: 100%|██████████| 200/200 [00:23<00:00,  8.53it/s]\n"
     ]
    },
    {
     "name": "stdout",
     "output_type": "stream",
     "text": [
      "Data shape for DDIM sampling is (1, 3, 64, 64), eta 0.0\n",
      "Running Adversarial Sampling at 0 step\n",
      "Running DDIM Sampling with 200 timesteps\n"
     ]
    },
    {
     "name": "stderr",
     "output_type": "stream",
     "text": [
      "\n",
      "\u001b[A\n",
      "\u001b[A\n",
      "\u001b[A\n",
      "\u001b[A\n",
      "DDIM Sampler: 100%|██████████| 200/200 [00:23<00:00,  8.62it/s]\n"
     ]
    },
    {
     "name": "stdout",
     "output_type": "stream",
     "text": [
      "loss: [array(0.5474, dtype=float16), array(0.7344, dtype=float16), array(0.6235, dtype=float16), array(0.6045, dtype=float16)]\n",
      "Saved poisoned image 78 to ./data/poisons/mini_MathVista_grid+i2i_AdvDiffVLMAttack/nat/78.png\n",
      "Time: 47.37915825843811\n",
      "image name =  76\n",
      "Data shape for DDIM sampling is (1, 3, 64, 64), eta 0.0\n",
      "Running Adversarial Sampling at 0 step\n",
      "Running DDIM Sampling with 200 timesteps\n"
     ]
    },
    {
     "name": "stderr",
     "output_type": "stream",
     "text": [
      "\n",
      "\u001b[A\n",
      "\u001b[A\n",
      "\u001b[A\n",
      "\u001b[A\n",
      "DDIM Sampler: 100%|██████████| 200/200 [00:23<00:00,  8.56it/s]\n"
     ]
    },
    {
     "name": "stdout",
     "output_type": "stream",
     "text": [
      "Data shape for DDIM sampling is (1, 3, 64, 64), eta 0.0\n",
      "Running Adversarial Sampling at 0 step\n",
      "Running DDIM Sampling with 200 timesteps\n"
     ]
    },
    {
     "name": "stderr",
     "output_type": "stream",
     "text": [
      "\n",
      "\u001b[A\n",
      "\u001b[A\n",
      "\u001b[A\n",
      "\u001b[A\n",
      "\u001b[A\n",
      "\u001b[A\n",
      "DDIM Sampler: 100%|██████████| 200/200 [00:23<00:00,  8.55it/s]\n"
     ]
    },
    {
     "name": "stdout",
     "output_type": "stream",
     "text": [
      "loss: [array(0.7886, dtype=float16), array(0.804, dtype=float16), array(0.728, dtype=float16), array(0.7075, dtype=float16)]\n",
      "Saved poisoned image 76 to ./data/poisons/mini_MathVista_grid+i2i_AdvDiffVLMAttack/nat/76.png\n",
      "Time: 47.512272357940674\n",
      "image name =  71\n",
      "Data shape for DDIM sampling is (1, 3, 64, 64), eta 0.0\n",
      "Running Adversarial Sampling at 0 step\n",
      "Running DDIM Sampling with 200 timesteps\n"
     ]
    },
    {
     "name": "stderr",
     "output_type": "stream",
     "text": [
      "\n",
      "\u001b[A\n",
      "\u001b[A\n",
      "\u001b[A\n",
      "\u001b[A\n",
      "DDIM Sampler: 100%|██████████| 200/200 [00:23<00:00,  8.48it/s]\n"
     ]
    },
    {
     "name": "stdout",
     "output_type": "stream",
     "text": [
      "Data shape for DDIM sampling is (1, 3, 64, 64), eta 0.0\n",
      "Running Adversarial Sampling at 0 step\n",
      "Running DDIM Sampling with 200 timesteps\n"
     ]
    },
    {
     "name": "stderr",
     "output_type": "stream",
     "text": [
      "\n",
      "\u001b[A\n",
      "\u001b[A\n",
      "\u001b[A\n",
      "\u001b[A\n",
      "DDIM Sampler: 100%|██████████| 200/200 [00:23<00:00,  8.63it/s]\n"
     ]
    },
    {
     "name": "stdout",
     "output_type": "stream",
     "text": [
      "loss: [array(0.624, dtype=float16), array(0.6724, dtype=float16), array(0.6016, dtype=float16), array(0.6147, dtype=float16)]\n",
      "Saved poisoned image 71 to ./data/poisons/mini_MathVista_grid+i2i_AdvDiffVLMAttack/nat/71.png\n",
      "Time: 47.48003792762756\n",
      "image name =  40\n",
      "Data shape for DDIM sampling is (1, 3, 64, 64), eta 0.0\n",
      "Running Adversarial Sampling at 0 step\n",
      "Running DDIM Sampling with 200 timesteps\n"
     ]
    },
    {
     "name": "stderr",
     "output_type": "stream",
     "text": [
      "\n",
      "\u001b[A\n",
      "\u001b[A\n",
      "\u001b[A\n",
      "\u001b[A\n",
      "DDIM Sampler: 100%|██████████| 200/200 [00:23<00:00,  8.58it/s]\n"
     ]
    },
    {
     "name": "stdout",
     "output_type": "stream",
     "text": [
      "Data shape for DDIM sampling is (1, 3, 64, 64), eta 0.0\n",
      "Running Adversarial Sampling at 0 step\n",
      "Running DDIM Sampling with 200 timesteps\n"
     ]
    },
    {
     "name": "stderr",
     "output_type": "stream",
     "text": [
      "\n",
      "\u001b[A\n",
      "\u001b[A\n",
      "\u001b[A\n",
      "\u001b[A\n",
      "DDIM Sampler: 100%|██████████| 200/200 [00:23<00:00,  8.66it/s]\n"
     ]
    },
    {
     "name": "stdout",
     "output_type": "stream",
     "text": [
      "loss: [array(0.8003, dtype=float16), array(0.8486, dtype=float16), array(0.7637, dtype=float16), array(0.7983, dtype=float16)]\n",
      "Saved poisoned image 40 to ./data/poisons/mini_MathVista_grid+i2i_AdvDiffVLMAttack/nat/40.png\n",
      "Time: 47.19140839576721\n",
      "image name =  91\n",
      "Data shape for DDIM sampling is (1, 3, 64, 64), eta 0.0\n",
      "Running Adversarial Sampling at 0 step\n",
      "Running DDIM Sampling with 200 timesteps\n"
     ]
    },
    {
     "name": "stderr",
     "output_type": "stream",
     "text": [
      "\n",
      "\u001b[A\n",
      "\u001b[A\n",
      "\u001b[A\n",
      "\u001b[A\n",
      "\u001b[A\n",
      "DDIM Sampler: 100%|██████████| 200/200 [00:23<00:00,  8.55it/s]\n"
     ]
    },
    {
     "name": "stdout",
     "output_type": "stream",
     "text": [
      "Data shape for DDIM sampling is (1, 3, 64, 64), eta 0.0\n",
      "Running Adversarial Sampling at 0 step\n",
      "Running DDIM Sampling with 200 timesteps\n"
     ]
    },
    {
     "name": "stderr",
     "output_type": "stream",
     "text": [
      "\n",
      "\u001b[A\n",
      "\u001b[A\n",
      "\u001b[A\n",
      "\u001b[A\n",
      "DDIM Sampler: 100%|██████████| 200/200 [00:23<00:00,  8.61it/s]\n"
     ]
    },
    {
     "name": "stdout",
     "output_type": "stream",
     "text": [
      "loss: [array(0.889, dtype=float16), array(0.905, dtype=float16), array(0.8813, dtype=float16), array(0.89, dtype=float16)]\n",
      "Saved poisoned image 91 to ./data/poisons/mini_MathVista_grid+i2i_AdvDiffVLMAttack/nat/91.png\n",
      "Time: 47.35654616355896\n",
      "image name =  47\n",
      "Data shape for DDIM sampling is (1, 3, 64, 64), eta 0.0\n",
      "Running Adversarial Sampling at 0 step\n",
      "Running DDIM Sampling with 200 timesteps\n"
     ]
    },
    {
     "name": "stderr",
     "output_type": "stream",
     "text": [
      "\n",
      "\u001b[A\n",
      "\u001b[A\n",
      "\u001b[A\n",
      "\u001b[A\n",
      "DDIM Sampler: 100%|██████████| 200/200 [00:23<00:00,  8.51it/s]\n"
     ]
    },
    {
     "name": "stdout",
     "output_type": "stream",
     "text": [
      "Data shape for DDIM sampling is (1, 3, 64, 64), eta 0.0\n",
      "Running Adversarial Sampling at 0 step\n",
      "Running DDIM Sampling with 200 timesteps\n"
     ]
    },
    {
     "name": "stderr",
     "output_type": "stream",
     "text": [
      "\n",
      "\u001b[A\n",
      "\u001b[A\n",
      "\u001b[A\n",
      "\u001b[A\n",
      "\u001b[A\n",
      "\u001b[A\n",
      "DDIM Sampler: 100%|██████████| 200/200 [00:23<00:00,  8.49it/s]\n"
     ]
    },
    {
     "name": "stdout",
     "output_type": "stream",
     "text": [
      "loss: [array(0.8594, dtype=float16), array(0.8853, dtype=float16), array(0.8433, dtype=float16), array(0.826, dtype=float16)]\n",
      "Saved poisoned image 47 to ./data/poisons/mini_MathVista_grid+i2i_AdvDiffVLMAttack/nat/47.png\n",
      "Time: 47.830477476119995\n",
      "image name =  96\n",
      "Data shape for DDIM sampling is (1, 3, 64, 64), eta 0.0\n",
      "Running Adversarial Sampling at 0 step\n",
      "Running DDIM Sampling with 200 timesteps\n"
     ]
    },
    {
     "name": "stderr",
     "output_type": "stream",
     "text": [
      "\n",
      "\u001b[A\n",
      "\u001b[A\n",
      "\u001b[A\n",
      "\u001b[A\n",
      "DDIM Sampler: 100%|██████████| 200/200 [00:23<00:00,  8.47it/s]\n"
     ]
    },
    {
     "name": "stdout",
     "output_type": "stream",
     "text": [
      "Data shape for DDIM sampling is (1, 3, 64, 64), eta 0.0\n",
      "Running Adversarial Sampling at 0 step\n",
      "Running DDIM Sampling with 200 timesteps\n"
     ]
    },
    {
     "name": "stderr",
     "output_type": "stream",
     "text": [
      "\n",
      "\u001b[A\n",
      "\u001b[A\n",
      "\u001b[A\n",
      "\u001b[A\n",
      "DDIM Sampler: 100%|██████████| 200/200 [00:23<00:00,  8.49it/s]\n"
     ]
    },
    {
     "name": "stdout",
     "output_type": "stream",
     "text": [
      "loss: [array(0.615, dtype=float16), array(0.6665, dtype=float16), array(0.6074, dtype=float16), array(0.5654, dtype=float16)]\n",
      "Saved poisoned image 96 to ./data/poisons/mini_MathVista_grid+i2i_AdvDiffVLMAttack/nat/96.png\n",
      "Time: 47.90698957443237\n",
      "image name =  49\n",
      "Data shape for DDIM sampling is (1, 3, 64, 64), eta 0.0\n",
      "Running Adversarial Sampling at 0 step\n",
      "Running DDIM Sampling with 200 timesteps\n"
     ]
    },
    {
     "name": "stderr",
     "output_type": "stream",
     "text": [
      "\n",
      "\u001b[A\n",
      "\u001b[A\n",
      "\u001b[A\n",
      "\u001b[A\n",
      "DDIM Sampler: 100%|██████████| 200/200 [00:23<00:00,  8.69it/s]\n"
     ]
    },
    {
     "name": "stdout",
     "output_type": "stream",
     "text": [
      "Data shape for DDIM sampling is (1, 3, 64, 64), eta 0.0\n",
      "Running Adversarial Sampling at 0 step\n",
      "Running DDIM Sampling with 200 timesteps\n"
     ]
    },
    {
     "name": "stderr",
     "output_type": "stream",
     "text": [
      "\n",
      "\u001b[A\n",
      "\u001b[A\n",
      "\u001b[A\n",
      "\u001b[A\n",
      "DDIM Sampler: 100%|██████████| 200/200 [00:22<00:00,  8.73it/s]\n"
     ]
    },
    {
     "name": "stdout",
     "output_type": "stream",
     "text": [
      "loss: [array(0.937, dtype=float16), array(0.9463, dtype=float16), array(0.9346, dtype=float16), array(0.9243, dtype=float16)]\n",
      "Saved poisoned image 49 to ./data/poisons/mini_MathVista_grid+i2i_AdvDiffVLMAttack/nat/49.png\n",
      "Time: 46.7095046043396\n",
      "image name =  100\n",
      "Data shape for DDIM sampling is (1, 3, 64, 64), eta 0.0\n",
      "Running Adversarial Sampling at 0 step\n",
      "Running DDIM Sampling with 200 timesteps\n"
     ]
    },
    {
     "name": "stderr",
     "output_type": "stream",
     "text": [
      "\n",
      "\u001b[A\n",
      "\u001b[A\n",
      "\u001b[A\n",
      "\u001b[A\n",
      "DDIM Sampler: 100%|██████████| 200/200 [00:23<00:00,  8.48it/s]\n"
     ]
    },
    {
     "name": "stdout",
     "output_type": "stream",
     "text": [
      "Data shape for DDIM sampling is (1, 3, 64, 64), eta 0.0\n",
      "Running Adversarial Sampling at 0 step\n",
      "Running DDIM Sampling with 200 timesteps\n"
     ]
    },
    {
     "name": "stderr",
     "output_type": "stream",
     "text": [
      "\n",
      "\u001b[A\n",
      "\u001b[A\n",
      "\u001b[A\n",
      "\u001b[A\n",
      "DDIM Sampler: 100%|██████████| 200/200 [00:23<00:00,  8.54it/s]\n"
     ]
    },
    {
     "name": "stdout",
     "output_type": "stream",
     "text": [
      "loss: [array(0.6895, dtype=float16), array(0.7056, dtype=float16), array(0.639, dtype=float16), array(0.7256, dtype=float16)]\n",
      "Saved poisoned image 100 to ./data/poisons/mini_MathVista_grid+i2i_AdvDiffVLMAttack/nat/100.png\n",
      "Time: 47.74559807777405\n",
      "image name =  98\n",
      "Data shape for DDIM sampling is (1, 3, 64, 64), eta 0.0\n",
      "Running Adversarial Sampling at 0 step\n",
      "Running DDIM Sampling with 200 timesteps\n"
     ]
    },
    {
     "name": "stderr",
     "output_type": "stream",
     "text": [
      "\n",
      "\u001b[A\n",
      "\u001b[A\n",
      "\u001b[A\n",
      "\u001b[A\n",
      "DDIM Sampler: 100%|██████████| 200/200 [00:23<00:00,  8.49it/s]\n"
     ]
    },
    {
     "name": "stdout",
     "output_type": "stream",
     "text": [
      "Data shape for DDIM sampling is (1, 3, 64, 64), eta 0.0\n",
      "Running Adversarial Sampling at 0 step\n",
      "Running DDIM Sampling with 200 timesteps\n"
     ]
    },
    {
     "name": "stderr",
     "output_type": "stream",
     "text": [
      "\n",
      "\u001b[A\n",
      "\u001b[A\n",
      "\u001b[A\n",
      "\u001b[A\n",
      "\u001b[A\n",
      "\u001b[A\n",
      "DDIM Sampler: 100%|██████████| 200/200 [00:23<00:00,  8.49it/s]\n"
     ]
    },
    {
     "name": "stdout",
     "output_type": "stream",
     "text": [
      "loss: [array(0.777, dtype=float16), array(0.8047, dtype=float16), array(0.743, dtype=float16), array(0.746, dtype=float16)]\n",
      "Saved poisoned image 98 to ./data/poisons/mini_MathVista_grid+i2i_AdvDiffVLMAttack/nat/98.png\n",
      "Time: 47.88146710395813\n",
      "image name =  35\n",
      "Data shape for DDIM sampling is (1, 3, 64, 64), eta 0.0\n",
      "Running Adversarial Sampling at 0 step\n",
      "Running DDIM Sampling with 200 timesteps\n"
     ]
    },
    {
     "name": "stderr",
     "output_type": "stream",
     "text": [
      "\n",
      "\u001b[A\n",
      "\u001b[A\n",
      "\u001b[A\n",
      "\u001b[A\n",
      "DDIM Sampler: 100%|██████████| 200/200 [00:23<00:00,  8.50it/s]\n"
     ]
    },
    {
     "name": "stdout",
     "output_type": "stream",
     "text": [
      "Data shape for DDIM sampling is (1, 3, 64, 64), eta 0.0\n",
      "Running Adversarial Sampling at 0 step\n",
      "Running DDIM Sampling with 200 timesteps\n"
     ]
    },
    {
     "name": "stderr",
     "output_type": "stream",
     "text": [
      "\n",
      "\u001b[A\n",
      "\u001b[A\n",
      "\u001b[A\n",
      "\u001b[A\n",
      "DDIM Sampler: 100%|██████████| 200/200 [00:23<00:00,  8.50it/s]\n"
     ]
    },
    {
     "name": "stdout",
     "output_type": "stream",
     "text": [
      "loss: [array(0.6626, dtype=float16), array(0.781, dtype=float16), array(0.657, dtype=float16), array(0.5737, dtype=float16)]\n",
      "Saved poisoned image 35 to ./data/poisons/mini_MathVista_grid+i2i_AdvDiffVLMAttack/nat/35.png\n",
      "Time: 47.800867319107056\n",
      "image name =  32\n",
      "Data shape for DDIM sampling is (1, 3, 64, 64), eta 0.0\n",
      "Running Adversarial Sampling at 0 step\n",
      "Running DDIM Sampling with 200 timesteps\n"
     ]
    },
    {
     "name": "stderr",
     "output_type": "stream",
     "text": [
      "\n",
      "\u001b[A\n",
      "\u001b[A\n",
      "\u001b[A\n",
      "\u001b[A\n",
      "DDIM Sampler: 100%|██████████| 200/200 [00:23<00:00,  8.44it/s]\n"
     ]
    },
    {
     "name": "stdout",
     "output_type": "stream",
     "text": [
      "Data shape for DDIM sampling is (1, 3, 64, 64), eta 0.0\n",
      "Running Adversarial Sampling at 0 step\n",
      "Running DDIM Sampling with 200 timesteps\n"
     ]
    },
    {
     "name": "stderr",
     "output_type": "stream",
     "text": [
      "\n",
      "\u001b[A\n",
      "\u001b[A\n",
      "\u001b[A\n",
      "\u001b[A\n",
      "DDIM Sampler: 100%|██████████| 200/200 [00:23<00:00,  8.65it/s]\n"
     ]
    },
    {
     "name": "stdout",
     "output_type": "stream",
     "text": [
      "loss: [array(0.7407, dtype=float16), array(0.7725, dtype=float16), array(0.738, dtype=float16), array(0.7817, dtype=float16)]\n",
      "Saved poisoned image 32 to ./data/poisons/mini_MathVista_grid+i2i_AdvDiffVLMAttack/nat/32.png\n",
      "Time: 47.548545598983765\n",
      "image name =  72\n",
      "Data shape for DDIM sampling is (1, 3, 64, 64), eta 0.0\n",
      "Running Adversarial Sampling at 0 step\n",
      "Running DDIM Sampling with 200 timesteps\n"
     ]
    },
    {
     "name": "stderr",
     "output_type": "stream",
     "text": [
      "\n",
      "\u001b[A\n",
      "\u001b[A\n",
      "\u001b[A\n",
      "\u001b[A\n",
      "\u001b[A\n",
      "\u001b[A\n",
      "DDIM Sampler: 100%|██████████| 200/200 [00:23<00:00,  8.61it/s]\n"
     ]
    },
    {
     "name": "stdout",
     "output_type": "stream",
     "text": [
      "Data shape for DDIM sampling is (1, 3, 64, 64), eta 0.0\n",
      "Running Adversarial Sampling at 0 step\n",
      "Running DDIM Sampling with 200 timesteps\n"
     ]
    },
    {
     "name": "stderr",
     "output_type": "stream",
     "text": [
      "\n",
      "\u001b[A\n",
      "\u001b[A\n",
      "\u001b[A\n",
      "\u001b[A\n",
      "DDIM Sampler: 100%|██████████| 200/200 [00:23<00:00,  8.55it/s]\n"
     ]
    },
    {
     "name": "stdout",
     "output_type": "stream",
     "text": [
      "loss: [array(0.683, dtype=float16), array(0.6685, dtype=float16), array(0.6587, dtype=float16), array(0.635, dtype=float16)]\n",
      "Saved poisoned image 72 to ./data/poisons/mini_MathVista_grid+i2i_AdvDiffVLMAttack/nat/72.png\n",
      "Time: 47.32921099662781\n",
      "image name =  75\n",
      "Data shape for DDIM sampling is (1, 3, 64, 64), eta 0.0\n",
      "Running Adversarial Sampling at 0 step\n",
      "Running DDIM Sampling with 200 timesteps\n"
     ]
    },
    {
     "name": "stderr",
     "output_type": "stream",
     "text": [
      "\n",
      "\u001b[A\n",
      "\u001b[A\n",
      "\u001b[A\n",
      "\u001b[A\n",
      "DDIM Sampler: 100%|██████████| 200/200 [00:23<00:00,  8.61it/s]\n"
     ]
    },
    {
     "name": "stdout",
     "output_type": "stream",
     "text": [
      "Data shape for DDIM sampling is (1, 3, 64, 64), eta 0.0\n",
      "Running Adversarial Sampling at 0 step\n",
      "Running DDIM Sampling with 200 timesteps\n"
     ]
    },
    {
     "name": "stderr",
     "output_type": "stream",
     "text": [
      "\n",
      "\u001b[A\n",
      "\u001b[A\n",
      "\u001b[A\n",
      "\u001b[A\n",
      "\u001b[A\n",
      "\u001b[A\n",
      "DDIM Sampler: 100%|██████████| 200/200 [00:23<00:00,  8.57it/s]\n"
     ]
    },
    {
     "name": "stdout",
     "output_type": "stream",
     "text": [
      "loss: [array(0.5576, dtype=float16), array(0.646, dtype=float16), array(0.6807, dtype=float16), array(0.5996, dtype=float16)]\n",
      "Saved poisoned image 75 to ./data/poisons/mini_MathVista_grid+i2i_AdvDiffVLMAttack/nat/75.png\n",
      "Time: 47.29490423202515\n",
      "image name =  18\n",
      "Data shape for DDIM sampling is (1, 3, 64, 64), eta 0.0\n",
      "Running Adversarial Sampling at 0 step\n",
      "Running DDIM Sampling with 200 timesteps\n"
     ]
    },
    {
     "name": "stderr",
     "output_type": "stream",
     "text": [
      "\n",
      "\u001b[A\n",
      "\u001b[A\n",
      "\u001b[A\n",
      "\u001b[A\n",
      "DDIM Sampler: 100%|██████████| 200/200 [00:23<00:00,  8.44it/s]\n"
     ]
    },
    {
     "name": "stdout",
     "output_type": "stream",
     "text": [
      "Data shape for DDIM sampling is (1, 3, 64, 64), eta 0.0\n",
      "Running Adversarial Sampling at 0 step\n",
      "Running DDIM Sampling with 200 timesteps\n"
     ]
    },
    {
     "name": "stderr",
     "output_type": "stream",
     "text": [
      "\n",
      "\u001b[A\n",
      "\u001b[A\n",
      "\u001b[A\n",
      "\u001b[A\n",
      "DDIM Sampler: 100%|██████████| 200/200 [00:23<00:00,  8.52it/s]\n"
     ]
    },
    {
     "name": "stdout",
     "output_type": "stream",
     "text": [
      "loss: [array(0.8594, dtype=float16), array(0.909, dtype=float16), array(0.8325, dtype=float16), array(0.8447, dtype=float16)]\n",
      "Saved poisoned image 18 to ./data/poisons/mini_MathVista_grid+i2i_AdvDiffVLMAttack/nat/18.png\n",
      "Time: 47.99172830581665\n",
      "image name =  64\n",
      "Data shape for DDIM sampling is (1, 3, 64, 64), eta 0.0\n",
      "Running Adversarial Sampling at 0 step\n",
      "Running DDIM Sampling with 200 timesteps\n"
     ]
    },
    {
     "name": "stderr",
     "output_type": "stream",
     "text": [
      "\n",
      "\u001b[A\n",
      "\u001b[A\n",
      "\u001b[A\n",
      "\u001b[A\n",
      "DDIM Sampler: 100%|██████████| 200/200 [00:23<00:00,  8.52it/s]\n"
     ]
    },
    {
     "name": "stdout",
     "output_type": "stream",
     "text": [
      "Data shape for DDIM sampling is (1, 3, 64, 64), eta 0.0\n",
      "Running Adversarial Sampling at 0 step\n",
      "Running DDIM Sampling with 200 timesteps\n"
     ]
    },
    {
     "name": "stderr",
     "output_type": "stream",
     "text": [
      "\n",
      "\u001b[A\n",
      "\u001b[A\n",
      "\u001b[A\n",
      "\u001b[A\n",
      "DDIM Sampler: 100%|██████████| 200/200 [00:23<00:00,  8.62it/s]\n"
     ]
    },
    {
     "name": "stdout",
     "output_type": "stream",
     "text": [
      "loss: [array(0.7275, dtype=float16), array(0.754, dtype=float16), array(0.7466, dtype=float16), array(0.7617, dtype=float16)]\n",
      "Saved poisoned image 64 to ./data/poisons/mini_MathVista_grid+i2i_AdvDiffVLMAttack/nat/64.png\n",
      "Time: 47.40639400482178\n",
      "image name =  63\n",
      "Data shape for DDIM sampling is (1, 3, 64, 64), eta 0.0\n",
      "Running Adversarial Sampling at 0 step\n",
      "Running DDIM Sampling with 200 timesteps\n"
     ]
    },
    {
     "name": "stderr",
     "output_type": "stream",
     "text": [
      "\n",
      "\u001b[A\n",
      "\u001b[A\n",
      "\u001b[A\n",
      "\u001b[A\n",
      "\u001b[A\n",
      "DDIM Sampler: 100%|██████████| 200/200 [00:23<00:00,  8.70it/s]\n"
     ]
    },
    {
     "name": "stdout",
     "output_type": "stream",
     "text": [
      "Data shape for DDIM sampling is (1, 3, 64, 64), eta 0.0\n",
      "Running Adversarial Sampling at 0 step\n",
      "Running DDIM Sampling with 200 timesteps\n"
     ]
    },
    {
     "name": "stderr",
     "output_type": "stream",
     "text": [
      "\n",
      "\u001b[A\n",
      "\u001b[A\n",
      "\u001b[A\n",
      "\u001b[A\n",
      "DDIM Sampler: 100%|██████████| 200/200 [00:23<00:00,  8.52it/s]\n"
     ]
    },
    {
     "name": "stdout",
     "output_type": "stream",
     "text": [
      "loss: [array(0.8394, dtype=float16), array(0.853, dtype=float16), array(0.818, dtype=float16), array(0.8164, dtype=float16)]\n",
      "Saved poisoned image 63 to ./data/poisons/mini_MathVista_grid+i2i_AdvDiffVLMAttack/nat/63.png\n",
      "Time: 47.25574326515198\n",
      "image name =  9\n",
      "Data shape for DDIM sampling is (1, 3, 64, 64), eta 0.0\n",
      "Running Adversarial Sampling at 0 step\n",
      "Running DDIM Sampling with 200 timesteps\n"
     ]
    },
    {
     "name": "stderr",
     "output_type": "stream",
     "text": [
      "\n",
      "\u001b[A\n",
      "\u001b[A\n",
      "\u001b[A\n",
      "\u001b[A\n",
      "DDIM Sampler: 100%|██████████| 200/200 [00:23<00:00,  8.60it/s]\n"
     ]
    },
    {
     "name": "stdout",
     "output_type": "stream",
     "text": [
      "Data shape for DDIM sampling is (1, 3, 64, 64), eta 0.0\n",
      "Running Adversarial Sampling at 0 step\n",
      "Running DDIM Sampling with 200 timesteps\n"
     ]
    },
    {
     "name": "stderr",
     "output_type": "stream",
     "text": [
      "\n",
      "\u001b[A\n",
      "\u001b[A\n",
      "\u001b[A\n",
      "\u001b[A\n",
      "\u001b[A\n",
      "\u001b[A\n",
      "DDIM Sampler: 100%|██████████| 200/200 [00:23<00:00,  8.52it/s]\n"
     ]
    },
    {
     "name": "stdout",
     "output_type": "stream",
     "text": [
      "loss: [array(0.606, dtype=float16), array(0.7383, dtype=float16), array(0.6055, dtype=float16), array(0.6187, dtype=float16)]\n",
      "Saved poisoned image 9 to ./data/poisons/mini_MathVista_grid+i2i_AdvDiffVLMAttack/nat/9.png\n",
      "Time: 47.462238788604736\n",
      "image name =  7\n",
      "Data shape for DDIM sampling is (1, 3, 64, 64), eta 0.0\n",
      "Running Adversarial Sampling at 0 step\n",
      "Running DDIM Sampling with 200 timesteps\n"
     ]
    },
    {
     "name": "stderr",
     "output_type": "stream",
     "text": [
      "\n",
      "\u001b[A\n",
      "\u001b[A\n",
      "\u001b[A\n",
      "\u001b[A\n",
      "DDIM Sampler: 100%|██████████| 200/200 [00:23<00:00,  8.51it/s]\n"
     ]
    },
    {
     "name": "stdout",
     "output_type": "stream",
     "text": [
      "Data shape for DDIM sampling is (1, 3, 64, 64), eta 0.0\n",
      "Running Adversarial Sampling at 0 step\n",
      "Running DDIM Sampling with 200 timesteps\n"
     ]
    },
    {
     "name": "stderr",
     "output_type": "stream",
     "text": [
      "\n",
      "\u001b[A\n",
      "\u001b[A\n",
      "\u001b[A\n",
      "\u001b[A\n",
      "DDIM Sampler: 100%|██████████| 200/200 [00:23<00:00,  8.49it/s]\n"
     ]
    },
    {
     "name": "stdout",
     "output_type": "stream",
     "text": [
      "loss: [array(0.518, dtype=float16), array(0.736, dtype=float16), array(0.56, dtype=float16), array(0.4866, dtype=float16)]\n",
      "Saved poisoned image 7 to ./data/poisons/mini_MathVista_grid+i2i_AdvDiffVLMAttack/nat/7.png\n",
      "Time: 47.83541965484619\n",
      "image name =  11\n",
      "Data shape for DDIM sampling is (1, 3, 64, 64), eta 0.0\n",
      "Running Adversarial Sampling at 0 step\n",
      "Running DDIM Sampling with 200 timesteps\n"
     ]
    },
    {
     "name": "stderr",
     "output_type": "stream",
     "text": [
      "\n",
      "\u001b[A\n",
      "\u001b[A\n",
      "\u001b[A\n",
      "\u001b[A\n",
      "DDIM Sampler: 100%|██████████| 200/200 [00:23<00:00,  8.50it/s]\n"
     ]
    },
    {
     "name": "stdout",
     "output_type": "stream",
     "text": [
      "Data shape for DDIM sampling is (1, 3, 64, 64), eta 0.0\n",
      "Running Adversarial Sampling at 0 step\n",
      "Running DDIM Sampling with 200 timesteps\n"
     ]
    },
    {
     "name": "stderr",
     "output_type": "stream",
     "text": [
      "\n",
      "\u001b[A\n",
      "\u001b[A\n",
      "\u001b[A\n",
      "\u001b[A\n",
      "DDIM Sampler: 100%|██████████| 200/200 [00:23<00:00,  8.45it/s]\n"
     ]
    },
    {
     "name": "stdout",
     "output_type": "stream",
     "text": [
      "loss: [array(0.7344, dtype=float16), array(0.841, dtype=float16), array(0.785, dtype=float16), array(0.765, dtype=float16)]\n",
      "Saved poisoned image 11 to ./data/poisons/mini_MathVista_grid+i2i_AdvDiffVLMAttack/nat/11.png\n",
      "Time: 47.97676491737366\n",
      "image name =  16\n",
      "Data shape for DDIM sampling is (1, 3, 64, 64), eta 0.0\n",
      "Running Adversarial Sampling at 0 step\n",
      "Running DDIM Sampling with 200 timesteps\n"
     ]
    },
    {
     "name": "stderr",
     "output_type": "stream",
     "text": [
      "\n",
      "\u001b[A\n",
      "\u001b[A\n",
      "\u001b[A\n",
      "\u001b[A\n",
      "\u001b[A\n",
      "\u001b[A\n",
      "DDIM Sampler: 100%|██████████| 200/200 [00:23<00:00,  8.62it/s]\n"
     ]
    },
    {
     "name": "stdout",
     "output_type": "stream",
     "text": [
      "Data shape for DDIM sampling is (1, 3, 64, 64), eta 0.0\n",
      "Running Adversarial Sampling at 0 step\n",
      "Running DDIM Sampling with 200 timesteps\n"
     ]
    },
    {
     "name": "stderr",
     "output_type": "stream",
     "text": [
      "\n",
      "\u001b[A\n",
      "\u001b[A\n",
      "\u001b[A\n",
      "\u001b[A\n",
      "DDIM Sampler: 100%|██████████| 200/200 [00:23<00:00,  8.54it/s]\n"
     ]
    },
    {
     "name": "stdout",
     "output_type": "stream",
     "text": [
      "loss: [array(0.5903, dtype=float16), array(0.7295, dtype=float16), array(0.7246, dtype=float16), array(0.6953, dtype=float16)]\n",
      "Saved poisoned image 16 to ./data/poisons/mini_MathVista_grid+i2i_AdvDiffVLMAttack/nat/16.png\n",
      "Time: 47.36949825286865\n",
      "image name =  23\n",
      "Data shape for DDIM sampling is (1, 3, 64, 64), eta 0.0\n",
      "Running Adversarial Sampling at 0 step\n",
      "Running DDIM Sampling with 200 timesteps\n"
     ]
    },
    {
     "name": "stderr",
     "output_type": "stream",
     "text": [
      "\n",
      "\u001b[A\n",
      "\u001b[A\n",
      "\u001b[A\n",
      "\u001b[A\n",
      "DDIM Sampler: 100%|██████████| 200/200 [00:23<00:00,  8.62it/s]\n"
     ]
    },
    {
     "name": "stdout",
     "output_type": "stream",
     "text": [
      "Data shape for DDIM sampling is (1, 3, 64, 64), eta 0.0\n",
      "Running Adversarial Sampling at 0 step\n",
      "Running DDIM Sampling with 200 timesteps\n"
     ]
    },
    {
     "name": "stderr",
     "output_type": "stream",
     "text": [
      "\n",
      "\u001b[A\n",
      "\u001b[A\n",
      "\u001b[A\n",
      "\u001b[A\n",
      "DDIM Sampler: 100%|██████████| 200/200 [00:23<00:00,  8.49it/s]\n"
     ]
    },
    {
     "name": "stdout",
     "output_type": "stream",
     "text": [
      "loss: [array(0.717, dtype=float16), array(0.771, dtype=float16), array(0.672, dtype=float16), array(0.735, dtype=float16)]\n",
      "Saved poisoned image 23 to ./data/poisons/mini_MathVista_grid+i2i_AdvDiffVLMAttack/nat/23.png\n",
      "Time: 47.51761269569397\n",
      "image name =  89\n",
      "Data shape for DDIM sampling is (1, 3, 64, 64), eta 0.0\n",
      "Running Adversarial Sampling at 0 step\n",
      "Running DDIM Sampling with 200 timesteps\n"
     ]
    },
    {
     "name": "stderr",
     "output_type": "stream",
     "text": [
      "\n",
      "\u001b[A\n",
      "\u001b[A\n",
      "\u001b[A\n",
      "\u001b[A\n",
      "DDIM Sampler: 100%|██████████| 200/200 [00:23<00:00,  8.48it/s]\n"
     ]
    },
    {
     "name": "stdout",
     "output_type": "stream",
     "text": [
      "Data shape for DDIM sampling is (1, 3, 64, 64), eta 0.0\n",
      "Running Adversarial Sampling at 0 step\n",
      "Running DDIM Sampling with 200 timesteps\n"
     ]
    },
    {
     "name": "stderr",
     "output_type": "stream",
     "text": [
      "\n",
      "\u001b[A\n",
      "\u001b[A\n",
      "\u001b[A\n",
      "\u001b[A\n",
      "\u001b[A\n",
      "DDIM Sampler: 100%|██████████| 200/200 [00:23<00:00,  8.52it/s]\n"
     ]
    },
    {
     "name": "stdout",
     "output_type": "stream",
     "text": [
      "loss: [array(0.879, dtype=float16), array(0.922, dtype=float16), array(0.887, dtype=float16), array(0.9033, dtype=float16)]\n",
      "Saved poisoned image 89 to ./data/poisons/mini_MathVista_grid+i2i_AdvDiffVLMAttack/nat/89.png\n",
      "Time: 47.82665300369263\n",
      "image name =  58\n",
      "Data shape for DDIM sampling is (1, 3, 64, 64), eta 0.0\n",
      "Running Adversarial Sampling at 0 step\n",
      "Running DDIM Sampling with 200 timesteps\n"
     ]
    },
    {
     "name": "stderr",
     "output_type": "stream",
     "text": [
      "\n",
      "\u001b[A\n",
      "\u001b[A\n",
      "\u001b[A\n",
      "\u001b[A\n",
      "DDIM Sampler: 100%|██████████| 200/200 [00:23<00:00,  8.54it/s]\n"
     ]
    },
    {
     "name": "stdout",
     "output_type": "stream",
     "text": [
      "Data shape for DDIM sampling is (1, 3, 64, 64), eta 0.0\n",
      "Running Adversarial Sampling at 0 step\n",
      "Running DDIM Sampling with 200 timesteps\n"
     ]
    },
    {
     "name": "stderr",
     "output_type": "stream",
     "text": [
      "\n",
      "\u001b[A\n",
      "\u001b[A\n",
      "\u001b[A\n",
      "\u001b[A\n",
      "DDIM Sampler: 100%|██████████| 200/200 [00:23<00:00,  8.61it/s]\n"
     ]
    },
    {
     "name": "stdout",
     "output_type": "stream",
     "text": [
      "loss: [array(0.671, dtype=float16), array(0.7197, dtype=float16), array(0.686, dtype=float16), array(0.662, dtype=float16)]\n",
      "Saved poisoned image 58 to ./data/poisons/mini_MathVista_grid+i2i_AdvDiffVLMAttack/nat/58.png\n",
      "Time: 47.380820751190186\n",
      "image name =  24\n",
      "Data shape for DDIM sampling is (1, 3, 64, 64), eta 0.0\n",
      "Running Adversarial Sampling at 0 step\n",
      "Running DDIM Sampling with 200 timesteps\n"
     ]
    },
    {
     "name": "stderr",
     "output_type": "stream",
     "text": [
      "\n",
      "\u001b[A\n",
      "\u001b[A\n",
      "\u001b[A\n",
      "\u001b[A\n",
      "\u001b[A\n",
      "\u001b[A\n",
      "DDIM Sampler: 100%|██████████| 200/200 [00:23<00:00,  8.49it/s]\n"
     ]
    },
    {
     "name": "stdout",
     "output_type": "stream",
     "text": [
      "Data shape for DDIM sampling is (1, 3, 64, 64), eta 0.0\n",
      "Running Adversarial Sampling at 0 step\n",
      "Running DDIM Sampling with 200 timesteps\n"
     ]
    },
    {
     "name": "stderr",
     "output_type": "stream",
     "text": [
      "\n",
      "\u001b[A\n",
      "\u001b[A\n",
      "\u001b[A\n",
      "\u001b[A\n",
      "DDIM Sampler: 100%|██████████| 200/200 [00:23<00:00,  8.50it/s]\n"
     ]
    },
    {
     "name": "stdout",
     "output_type": "stream",
     "text": [
      "loss: [array(0.731, dtype=float16), array(0.7944, dtype=float16), array(0.7544, dtype=float16), array(0.721, dtype=float16)]\n",
      "Saved poisoned image 24 to ./data/poisons/mini_MathVista_grid+i2i_AdvDiffVLMAttack/nat/24.png\n",
      "Time: 47.80896830558777\n",
      "image name =  87\n",
      "Data shape for DDIM sampling is (1, 3, 64, 64), eta 0.0\n",
      "Running Adversarial Sampling at 0 step\n",
      "Running DDIM Sampling with 200 timesteps\n"
     ]
    },
    {
     "name": "stderr",
     "output_type": "stream",
     "text": [
      "\n",
      "\u001b[A\n",
      "\u001b[A\n",
      "\u001b[A\n",
      "\u001b[A\n",
      "DDIM Sampler: 100%|██████████| 200/200 [00:23<00:00,  8.62it/s]\n"
     ]
    },
    {
     "name": "stdout",
     "output_type": "stream",
     "text": [
      "Data shape for DDIM sampling is (1, 3, 64, 64), eta 0.0\n",
      "Running Adversarial Sampling at 0 step\n",
      "Running DDIM Sampling with 200 timesteps\n"
     ]
    },
    {
     "name": "stderr",
     "output_type": "stream",
     "text": [
      "\n",
      "\u001b[A\n",
      "\u001b[A\n",
      "\u001b[A\n",
      "\u001b[A\n",
      "DDIM Sampler: 100%|██████████| 200/200 [00:22<00:00,  8.72it/s]\n"
     ]
    },
    {
     "name": "stdout",
     "output_type": "stream",
     "text": [
      "loss: [array(0.5166, dtype=float16), array(0.6616, dtype=float16), array(0.715, dtype=float16), array(0.727, dtype=float16)]\n",
      "Saved poisoned image 87 to ./data/poisons/mini_MathVista_grid+i2i_AdvDiffVLMAttack/nat/87.png\n",
      "Time: 46.88580060005188\n",
      "image name =  56\n",
      "Data shape for DDIM sampling is (1, 3, 64, 64), eta 0.0\n",
      "Running Adversarial Sampling at 0 step\n",
      "Running DDIM Sampling with 200 timesteps\n"
     ]
    },
    {
     "name": "stderr",
     "output_type": "stream",
     "text": [
      "\n",
      "\u001b[A\n",
      "\u001b[A\n",
      "\u001b[A\n",
      "\u001b[A\n",
      "DDIM Sampler: 100%|██████████| 200/200 [00:23<00:00,  8.49it/s]\n"
     ]
    },
    {
     "name": "stdout",
     "output_type": "stream",
     "text": [
      "Data shape for DDIM sampling is (1, 3, 64, 64), eta 0.0\n",
      "Running Adversarial Sampling at 0 step\n",
      "Running DDIM Sampling with 200 timesteps\n"
     ]
    },
    {
     "name": "stderr",
     "output_type": "stream",
     "text": [
      "\n",
      "\u001b[A\n",
      "\u001b[A\n",
      "\u001b[A\n",
      "\u001b[A\n",
      "\u001b[A\n",
      "DDIM Sampler: 100%|██████████| 200/200 [00:23<00:00,  8.56it/s]\n"
     ]
    },
    {
     "name": "stdout",
     "output_type": "stream",
     "text": [
      "loss: [array(0.5493, dtype=float16), array(0.66, dtype=float16), array(0.5786, dtype=float16), array(0.575, dtype=float16)]\n",
      "Saved poisoned image 56 to ./data/poisons/mini_MathVista_grid+i2i_AdvDiffVLMAttack/nat/56.png\n",
      "Time: 47.65972638130188\n",
      "image name =  80\n",
      "Data shape for DDIM sampling is (1, 3, 64, 64), eta 0.0\n",
      "Running Adversarial Sampling at 0 step\n",
      "Running DDIM Sampling with 200 timesteps\n"
     ]
    },
    {
     "name": "stderr",
     "output_type": "stream",
     "text": [
      "\n",
      "\u001b[A\n",
      "\u001b[A\n",
      "\u001b[A\n",
      "\u001b[A\n",
      "DDIM Sampler: 100%|██████████| 200/200 [00:23<00:00,  8.51it/s]\n"
     ]
    },
    {
     "name": "stdout",
     "output_type": "stream",
     "text": [
      "Data shape for DDIM sampling is (1, 3, 64, 64), eta 0.0\n",
      "Running Adversarial Sampling at 0 step\n",
      "Running DDIM Sampling with 200 timesteps\n"
     ]
    },
    {
     "name": "stderr",
     "output_type": "stream",
     "text": [
      "\n",
      "\u001b[A\n",
      "\u001b[A\n",
      "\u001b[A\n",
      "\u001b[A\n",
      "DDIM Sampler: 100%|██████████| 200/200 [00:23<00:00,  8.66it/s]\n"
     ]
    },
    {
     "name": "stdout",
     "output_type": "stream",
     "text": [
      "loss: [array(0.842, dtype=float16), array(0.883, dtype=float16), array(0.82, dtype=float16), array(0.7993, dtype=float16)]\n",
      "Saved poisoned image 80 to ./data/poisons/mini_MathVista_grid+i2i_AdvDiffVLMAttack/nat/80.png\n",
      "Time: 47.34158706665039\n",
      "image name =  51\n",
      "Data shape for DDIM sampling is (1, 3, 64, 64), eta 0.0\n",
      "Running Adversarial Sampling at 0 step\n",
      "Running DDIM Sampling with 200 timesteps\n"
     ]
    },
    {
     "name": "stderr",
     "output_type": "stream",
     "text": [
      "\n",
      "\u001b[A\n",
      "\u001b[A\n",
      "\u001b[A\n",
      "\u001b[A\n",
      "\u001b[A\n",
      "\u001b[A\n",
      "DDIM Sampler: 100%|██████████| 200/200 [00:23<00:00,  8.50it/s]\n"
     ]
    },
    {
     "name": "stdout",
     "output_type": "stream",
     "text": [
      "Data shape for DDIM sampling is (1, 3, 64, 64), eta 0.0\n",
      "Running Adversarial Sampling at 0 step\n",
      "Running DDIM Sampling with 200 timesteps\n"
     ]
    },
    {
     "name": "stderr",
     "output_type": "stream",
     "text": [
      "\n",
      "\u001b[A\n",
      "\u001b[A\n",
      "\u001b[A\n",
      "\u001b[A\n",
      "DDIM Sampler: 100%|██████████| 200/200 [00:23<00:00,  8.49it/s]\n"
     ]
    },
    {
     "name": "stdout",
     "output_type": "stream",
     "text": [
      "loss: [array(0.7944, dtype=float16), array(0.833, dtype=float16), array(0.7764, dtype=float16), array(0.787, dtype=float16)]\n",
      "Saved poisoned image 51 to ./data/poisons/mini_MathVista_grid+i2i_AdvDiffVLMAttack/nat/51.png\n",
      "Time: 47.803991079330444\n",
      "image name =  74\n",
      "Data shape for DDIM sampling is (1, 3, 64, 64), eta 0.0\n",
      "Running Adversarial Sampling at 0 step\n",
      "Running DDIM Sampling with 200 timesteps\n"
     ]
    },
    {
     "name": "stderr",
     "output_type": "stream",
     "text": [
      "\n",
      "\u001b[A\n",
      "\u001b[A\n",
      "\u001b[A\n",
      "\u001b[A\n",
      "DDIM Sampler: 100%|██████████| 200/200 [00:23<00:00,  8.59it/s]\n"
     ]
    },
    {
     "name": "stdout",
     "output_type": "stream",
     "text": [
      "Data shape for DDIM sampling is (1, 3, 64, 64), eta 0.0\n",
      "Running Adversarial Sampling at 0 step\n",
      "Running DDIM Sampling with 200 timesteps\n"
     ]
    },
    {
     "name": "stderr",
     "output_type": "stream",
     "text": [
      "\n",
      "\u001b[A\n",
      "\u001b[A\n",
      "\u001b[A\n",
      "\u001b[A\n",
      "DDIM Sampler: 100%|██████████| 200/200 [00:23<00:00,  8.50it/s]\n"
     ]
    },
    {
     "name": "stdout",
     "output_type": "stream",
     "text": [
      "loss: [array(0.688, dtype=float16), array(0.815, dtype=float16), array(0.7383, dtype=float16), array(0.748, dtype=float16)]\n",
      "Saved poisoned image 74 to ./data/poisons/mini_MathVista_grid+i2i_AdvDiffVLMAttack/nat/74.png\n",
      "Time: 47.54888296127319\n",
      "image name =  73\n",
      "Data shape for DDIM sampling is (1, 3, 64, 64), eta 0.0\n",
      "Running Adversarial Sampling at 0 step\n",
      "Running DDIM Sampling with 200 timesteps\n"
     ]
    },
    {
     "name": "stderr",
     "output_type": "stream",
     "text": [
      "\n",
      "\u001b[A\n",
      "\u001b[A\n",
      "\u001b[A\n",
      "\u001b[A\n",
      "DDIM Sampler: 100%|██████████| 200/200 [00:23<00:00,  8.49it/s]\n"
     ]
    },
    {
     "name": "stdout",
     "output_type": "stream",
     "text": [
      "Data shape for DDIM sampling is (1, 3, 64, 64), eta 0.0\n",
      "Running Adversarial Sampling at 0 step\n",
      "Running DDIM Sampling with 200 timesteps\n"
     ]
    },
    {
     "name": "stderr",
     "output_type": "stream",
     "text": [
      "\n",
      "\u001b[A\n",
      "\u001b[A\n",
      "\u001b[A\n",
      "\u001b[A\n",
      "\u001b[A\n",
      "DDIM Sampler: 100%|██████████| 200/200 [00:23<00:00,  8.49it/s]\n"
     ]
    },
    {
     "name": "stdout",
     "output_type": "stream",
     "text": [
      "loss: [array(0.787, dtype=float16), array(0.811, dtype=float16), array(0.656, dtype=float16), array(0.6533, dtype=float16)]\n",
      "Saved poisoned image 73 to ./data/poisons/mini_MathVista_grid+i2i_AdvDiffVLMAttack/nat/73.png\n",
      "Time: 47.871060848236084\n",
      "image name =  33\n",
      "Data shape for DDIM sampling is (1, 3, 64, 64), eta 0.0\n",
      "Running Adversarial Sampling at 0 step\n",
      "Running DDIM Sampling with 200 timesteps\n"
     ]
    },
    {
     "name": "stderr",
     "output_type": "stream",
     "text": [
      "\n",
      "\u001b[A\n",
      "\u001b[A\n",
      "\u001b[A\n",
      "\u001b[A\n",
      "DDIM Sampler: 100%|██████████| 200/200 [00:23<00:00,  8.49it/s]\n"
     ]
    },
    {
     "name": "stdout",
     "output_type": "stream",
     "text": [
      "Data shape for DDIM sampling is (1, 3, 64, 64), eta 0.0\n",
      "Running Adversarial Sampling at 0 step\n",
      "Running DDIM Sampling with 200 timesteps\n"
     ]
    },
    {
     "name": "stderr",
     "output_type": "stream",
     "text": [
      "\n",
      "\u001b[A\n",
      "\u001b[A\n",
      "\u001b[A\n",
      "\u001b[A\n",
      "DDIM Sampler: 100%|██████████| 200/200 [00:23<00:00,  8.49it/s]\n"
     ]
    },
    {
     "name": "stdout",
     "output_type": "stream",
     "text": [
      "loss: [array(0.7476, dtype=float16), array(0.719, dtype=float16), array(0.7695, dtype=float16), array(0.719, dtype=float16)]\n",
      "Saved poisoned image 33 to ./data/poisons/mini_MathVista_grid+i2i_AdvDiffVLMAttack/nat/33.png\n",
      "Time: 47.83362054824829\n",
      "image name =  48\n",
      "Data shape for DDIM sampling is (1, 3, 64, 64), eta 0.0\n",
      "Running Adversarial Sampling at 0 step\n",
      "Running DDIM Sampling with 200 timesteps\n"
     ]
    },
    {
     "name": "stderr",
     "output_type": "stream",
     "text": [
      "\n",
      "\u001b[A\n",
      "\u001b[A\n",
      "\u001b[A\n",
      "\u001b[A\n",
      "\u001b[A\n",
      "\u001b[A\n",
      "DDIM Sampler: 100%|██████████| 200/200 [00:23<00:00,  8.59it/s]\n"
     ]
    },
    {
     "name": "stdout",
     "output_type": "stream",
     "text": [
      "Data shape for DDIM sampling is (1, 3, 64, 64), eta 0.0\n",
      "Running Adversarial Sampling at 0 step\n",
      "Running DDIM Sampling with 200 timesteps\n"
     ]
    },
    {
     "name": "stderr",
     "output_type": "stream",
     "text": [
      "\n",
      "\u001b[A\n",
      "\u001b[A\n",
      "\u001b[A\n",
      "\u001b[A\n",
      "DDIM Sampler: 100%|██████████| 200/200 [00:23<00:00,  8.55it/s]\n"
     ]
    },
    {
     "name": "stdout",
     "output_type": "stream",
     "text": [
      "loss: [array(0.676, dtype=float16), array(0.737, dtype=float16), array(0.606, dtype=float16), array(0.6636, dtype=float16)]\n",
      "Saved poisoned image 48 to ./data/poisons/mini_MathVista_grid+i2i_AdvDiffVLMAttack/nat/48.png\n",
      "Time: 47.39856290817261\n",
      "image name =  99\n",
      "Data shape for DDIM sampling is (1, 3, 64, 64), eta 0.0\n",
      "Running Adversarial Sampling at 0 step\n",
      "Running DDIM Sampling with 200 timesteps\n"
     ]
    },
    {
     "name": "stderr",
     "output_type": "stream",
     "text": [
      "\n",
      "\u001b[A\n",
      "\u001b[A\n",
      "\u001b[A\n",
      "\u001b[A\n",
      "DDIM Sampler: 100%|██████████| 200/200 [00:23<00:00,  8.53it/s]\n"
     ]
    },
    {
     "name": "stdout",
     "output_type": "stream",
     "text": [
      "Data shape for DDIM sampling is (1, 3, 64, 64), eta 0.0\n",
      "Running Adversarial Sampling at 0 step\n",
      "Running DDIM Sampling with 200 timesteps\n"
     ]
    },
    {
     "name": "stderr",
     "output_type": "stream",
     "text": [
      "\n",
      "\u001b[A\n",
      "\u001b[A\n",
      "\u001b[A\n",
      "\u001b[A\n",
      "DDIM Sampler: 100%|██████████| 200/200 [00:23<00:00,  8.51it/s]\n"
     ]
    },
    {
     "name": "stdout",
     "output_type": "stream",
     "text": [
      "loss: [array(0.723, dtype=float16), array(0.809, dtype=float16), array(0.7446, dtype=float16), array(0.7397, dtype=float16)]\n",
      "Saved poisoned image 99 to ./data/poisons/mini_MathVista_grid+i2i_AdvDiffVLMAttack/nat/99.png\n",
      "Time: 47.67900514602661\n",
      "image name =  34\n",
      "Data shape for DDIM sampling is (1, 3, 64, 64), eta 0.0\n",
      "Running Adversarial Sampling at 0 step\n",
      "Running DDIM Sampling with 200 timesteps\n"
     ]
    },
    {
     "name": "stderr",
     "output_type": "stream",
     "text": [
      "\n",
      "\u001b[A\n",
      "\u001b[A\n",
      "\u001b[A\n",
      "\u001b[A\n",
      "DDIM Sampler: 100%|██████████| 200/200 [00:23<00:00,  8.52it/s]\n"
     ]
    },
    {
     "name": "stdout",
     "output_type": "stream",
     "text": [
      "Data shape for DDIM sampling is (1, 3, 64, 64), eta 0.0\n",
      "Running Adversarial Sampling at 0 step\n",
      "Running DDIM Sampling with 200 timesteps\n"
     ]
    },
    {
     "name": "stderr",
     "output_type": "stream",
     "text": [
      "\n",
      "\u001b[A\n",
      "\u001b[A\n",
      "\u001b[A\n",
      "\u001b[A\n",
      "\u001b[A\n",
      "\u001b[A\n",
      "DDIM Sampler: 100%|██████████| 200/200 [00:23<00:00,  8.49it/s]\n"
     ]
    },
    {
     "name": "stdout",
     "output_type": "stream",
     "text": [
      "loss: [array(0.7925, dtype=float16), array(0.882, dtype=float16), array(0.836, dtype=float16), array(0.801, dtype=float16)]\n",
      "Saved poisoned image 34 to ./data/poisons/mini_MathVista_grid+i2i_AdvDiffVLMAttack/nat/34.png\n",
      "Time: 47.81135106086731\n",
      "image name =  46\n",
      "Data shape for DDIM sampling is (1, 3, 64, 64), eta 0.0\n",
      "Running Adversarial Sampling at 0 step\n",
      "Running DDIM Sampling with 200 timesteps\n"
     ]
    },
    {
     "name": "stderr",
     "output_type": "stream",
     "text": [
      "\n",
      "\u001b[A\n",
      "\u001b[A\n",
      "\u001b[A\n",
      "\u001b[A\n",
      "DDIM Sampler: 100%|██████████| 200/200 [00:23<00:00,  8.49it/s]\n"
     ]
    },
    {
     "name": "stdout",
     "output_type": "stream",
     "text": [
      "Data shape for DDIM sampling is (1, 3, 64, 64), eta 0.0\n",
      "Running Adversarial Sampling at 0 step\n",
      "Running DDIM Sampling with 200 timesteps\n"
     ]
    },
    {
     "name": "stderr",
     "output_type": "stream",
     "text": [
      "\n",
      "\u001b[A\n",
      "\u001b[A\n",
      "\u001b[A\n",
      "\u001b[A\n",
      "DDIM Sampler: 100%|██████████| 200/200 [00:23<00:00,  8.55it/s]\n"
     ]
    },
    {
     "name": "stdout",
     "output_type": "stream",
     "text": [
      "loss: [array(0.8145, dtype=float16), array(0.814, dtype=float16), array(0.7754, dtype=float16), array(0.825, dtype=float16)]\n",
      "Saved poisoned image 46 to ./data/poisons/mini_MathVista_grid+i2i_AdvDiffVLMAttack/nat/46.png\n",
      "Time: 47.70008158683777\n",
      "image name =  97\n",
      "Data shape for DDIM sampling is (1, 3, 64, 64), eta 0.0\n",
      "Running Adversarial Sampling at 0 step\n",
      "Running DDIM Sampling with 200 timesteps\n"
     ]
    },
    {
     "name": "stderr",
     "output_type": "stream",
     "text": [
      "\n",
      "\u001b[A\n",
      "\u001b[A\n",
      "\u001b[A\n",
      "\u001b[A\n",
      "DDIM Sampler: 100%|██████████| 200/200 [00:23<00:00,  8.48it/s]\n"
     ]
    },
    {
     "name": "stdout",
     "output_type": "stream",
     "text": [
      "Data shape for DDIM sampling is (1, 3, 64, 64), eta 0.0\n",
      "Running Adversarial Sampling at 0 step\n",
      "Running DDIM Sampling with 200 timesteps\n"
     ]
    },
    {
     "name": "stderr",
     "output_type": "stream",
     "text": [
      "\n",
      "\u001b[A\n",
      "\u001b[A\n",
      "\u001b[A\n",
      "\u001b[A\n",
      "DDIM Sampler: 100%|██████████| 200/200 [00:23<00:00,  8.50it/s]\n"
     ]
    },
    {
     "name": "stdout",
     "output_type": "stream",
     "text": [
      "loss: [array(0.677, dtype=float16), array(0.683, dtype=float16), array(0.7085, dtype=float16), array(0.727, dtype=float16)]\n",
      "Saved poisoned image 97 to ./data/poisons/mini_MathVista_grid+i2i_AdvDiffVLMAttack/nat/97.png\n",
      "Time: 47.84324526786804\n",
      "image name =  41\n",
      "Data shape for DDIM sampling is (1, 3, 64, 64), eta 0.0\n",
      "Running Adversarial Sampling at 0 step\n",
      "Running DDIM Sampling with 200 timesteps\n"
     ]
    },
    {
     "name": "stderr",
     "output_type": "stream",
     "text": [
      "\n",
      "\u001b[A\n",
      "\u001b[A\n",
      "\u001b[A\n",
      "\u001b[A\n",
      "\u001b[A\n",
      "DDIM Sampler: 100%|██████████| 200/200 [00:23<00:00,  8.49it/s]\n"
     ]
    },
    {
     "name": "stdout",
     "output_type": "stream",
     "text": [
      "Data shape for DDIM sampling is (1, 3, 64, 64), eta 0.0\n",
      "Running Adversarial Sampling at 0 step\n",
      "Running DDIM Sampling with 200 timesteps\n"
     ]
    },
    {
     "name": "stderr",
     "output_type": "stream",
     "text": [
      "\n",
      "\u001b[A\n",
      "\u001b[A\n",
      "\u001b[A\n",
      "\u001b[A\n",
      "DDIM Sampler: 100%|██████████| 200/200 [00:23<00:00,  8.45it/s]\n"
     ]
    },
    {
     "name": "stdout",
     "output_type": "stream",
     "text": [
      "loss: [array(0.938, dtype=float16), array(0.951, dtype=float16), array(0.945, dtype=float16), array(0.935, dtype=float16)]\n",
      "Saved poisoned image 41 to ./data/poisons/mini_MathVista_grid+i2i_AdvDiffVLMAttack/nat/41.png\n",
      "Time: 48.00802564620972\n",
      "image name =  90\n",
      "Data shape for DDIM sampling is (1, 3, 64, 64), eta 0.0\n",
      "Running Adversarial Sampling at 0 step\n",
      "Running DDIM Sampling with 200 timesteps\n"
     ]
    },
    {
     "name": "stderr",
     "output_type": "stream",
     "text": [
      "\n",
      "\u001b[A\n",
      "\u001b[A\n",
      "\u001b[A\n",
      "\u001b[A\n",
      "DDIM Sampler: 100%|██████████| 200/200 [00:23<00:00,  8.42it/s]\n"
     ]
    },
    {
     "name": "stdout",
     "output_type": "stream",
     "text": [
      "Data shape for DDIM sampling is (1, 3, 64, 64), eta 0.0\n",
      "Running Adversarial Sampling at 0 step\n",
      "Running DDIM Sampling with 200 timesteps\n"
     ]
    },
    {
     "name": "stderr",
     "output_type": "stream",
     "text": [
      "\n",
      "\u001b[A\n",
      "\u001b[A\n",
      "\u001b[A\n",
      "\u001b[A\n",
      "DDIM Sampler: 100%|██████████| 200/200 [00:23<00:00,  8.58it/s]\n"
     ]
    },
    {
     "name": "stdout",
     "output_type": "stream",
     "text": [
      "loss: [array(0.8354, dtype=float16), array(0.823, dtype=float16), array(0.8394, dtype=float16), array(0.818, dtype=float16)]\n",
      "Saved poisoned image 90 to ./data/poisons/mini_MathVista_grid+i2i_AdvDiffVLMAttack/nat/90.png\n",
      "Time: 47.86570978164673\n",
      "image name =  81\n",
      "Data shape for DDIM sampling is (1, 3, 64, 64), eta 0.0\n",
      "Running Adversarial Sampling at 0 step\n",
      "Running DDIM Sampling with 200 timesteps\n"
     ]
    },
    {
     "name": "stderr",
     "output_type": "stream",
     "text": [
      "\n",
      "\u001b[A\n",
      "\u001b[A\n",
      "\u001b[A\n",
      "\u001b[A\n",
      "DDIM Sampler: 100%|██████████| 200/200 [00:23<00:00,  8.49it/s]\n"
     ]
    },
    {
     "name": "stdout",
     "output_type": "stream",
     "text": [
      "Data shape for DDIM sampling is (1, 3, 64, 64), eta 0.0\n",
      "Running Adversarial Sampling at 0 step\n",
      "Running DDIM Sampling with 200 timesteps\n"
     ]
    },
    {
     "name": "stderr",
     "output_type": "stream",
     "text": [
      "\n",
      "\u001b[A\n",
      "\u001b[A\n",
      "\u001b[A\n",
      "\u001b[A\n",
      "\u001b[A\n",
      "DDIM Sampler: 100%|██████████| 200/200 [00:23<00:00,  8.48it/s]\n"
     ]
    },
    {
     "name": "stdout",
     "output_type": "stream",
     "text": [
      "loss: [array(0.7153, dtype=float16), array(0.8022, dtype=float16), array(0.761, dtype=float16), array(0.7173, dtype=float16)]\n",
      "Saved poisoned image 81 to ./data/poisons/mini_MathVista_grid+i2i_AdvDiffVLMAttack/nat/81.png\n",
      "Time: 47.87752938270569\n",
      "image name =  50\n",
      "Data shape for DDIM sampling is (1, 3, 64, 64), eta 0.0\n",
      "Running Adversarial Sampling at 0 step\n",
      "Running DDIM Sampling with 200 timesteps\n"
     ]
    },
    {
     "name": "stderr",
     "output_type": "stream",
     "text": [
      "\n",
      "\u001b[A\n",
      "\u001b[A\n",
      "\u001b[A\n",
      "\u001b[A\n",
      "DDIM Sampler: 100%|██████████| 200/200 [00:23<00:00,  8.51it/s]\n"
     ]
    },
    {
     "name": "stdout",
     "output_type": "stream",
     "text": [
      "Data shape for DDIM sampling is (1, 3, 64, 64), eta 0.0\n",
      "Running Adversarial Sampling at 0 step\n",
      "Running DDIM Sampling with 200 timesteps\n"
     ]
    },
    {
     "name": "stderr",
     "output_type": "stream",
     "text": [
      "\n",
      "\u001b[A\n",
      "\u001b[A\n",
      "\u001b[A\n",
      "\u001b[A\n",
      "DDIM Sampler: 100%|██████████| 200/200 [00:23<00:00,  8.49it/s]\n"
     ]
    },
    {
     "name": "stdout",
     "output_type": "stream",
     "text": [
      "loss: [array(0.784, dtype=float16), array(0.785, dtype=float16), array(0.777, dtype=float16), array(0.8125, dtype=float16)]\n",
      "Saved poisoned image 50 to ./data/poisons/mini_MathVista_grid+i2i_AdvDiffVLMAttack/nat/50.png\n",
      "Time: 47.78429412841797\n",
      "image name =  86\n",
      "Data shape for DDIM sampling is (1, 3, 64, 64), eta 0.0\n",
      "Running Adversarial Sampling at 0 step\n",
      "Running DDIM Sampling with 200 timesteps\n"
     ]
    },
    {
     "name": "stderr",
     "output_type": "stream",
     "text": [
      "\n",
      "\u001b[A\n",
      "\u001b[A\n",
      "\u001b[A\n",
      "\u001b[A\n",
      "\u001b[A\n",
      "\u001b[A\n",
      "DDIM Sampler: 100%|██████████| 200/200 [00:23<00:00,  8.49it/s]\n"
     ]
    },
    {
     "name": "stdout",
     "output_type": "stream",
     "text": [
      "Data shape for DDIM sampling is (1, 3, 64, 64), eta 0.0\n",
      "Running Adversarial Sampling at 0 step\n",
      "Running DDIM Sampling with 200 timesteps\n"
     ]
    },
    {
     "name": "stderr",
     "output_type": "stream",
     "text": [
      "\n",
      "\u001b[A\n",
      "\u001b[A\n",
      "\u001b[A\n",
      "\u001b[A\n",
      "DDIM Sampler: 100%|██████████| 200/200 [00:23<00:00,  8.50it/s]\n"
     ]
    },
    {
     "name": "stdout",
     "output_type": "stream",
     "text": [
      "loss: [array(0.73, dtype=float16), array(0.7993, dtype=float16), array(0.7915, dtype=float16), array(0.736, dtype=float16)]\n",
      "Saved poisoned image 86 to ./data/poisons/mini_MathVista_grid+i2i_AdvDiffVLMAttack/nat/86.png\n",
      "Time: 47.827895164489746\n",
      "image name =  57\n",
      "Data shape for DDIM sampling is (1, 3, 64, 64), eta 0.0\n",
      "Running Adversarial Sampling at 0 step\n",
      "Running DDIM Sampling with 200 timesteps\n"
     ]
    },
    {
     "name": "stderr",
     "output_type": "stream",
     "text": [
      "\n",
      "\u001b[A\n",
      "\u001b[A\n",
      "\u001b[A\n",
      "\u001b[A\n",
      "\u001b[A\n",
      "DDIM Sampler: 100%|██████████| 200/200 [00:23<00:00,  8.46it/s]\n"
     ]
    },
    {
     "name": "stdout",
     "output_type": "stream",
     "text": [
      "Data shape for DDIM sampling is (1, 3, 64, 64), eta 0.0\n",
      "Running Adversarial Sampling at 0 step\n",
      "Running DDIM Sampling with 200 timesteps\n"
     ]
    },
    {
     "name": "stderr",
     "output_type": "stream",
     "text": [
      "\n",
      "\u001b[A\n",
      "\u001b[A\n",
      "\u001b[A\n",
      "\u001b[A\n",
      "DDIM Sampler: 100%|██████████| 200/200 [00:23<00:00,  8.70it/s]\n"
     ]
    },
    {
     "name": "stdout",
     "output_type": "stream",
     "text": [
      "loss: [array(0.8555, dtype=float16), array(0.8623, dtype=float16), array(0.8354, dtype=float16), array(0.8335, dtype=float16)]\n",
      "Saved poisoned image 57 to ./data/poisons/mini_MathVista_grid+i2i_AdvDiffVLMAttack/nat/57.png\n",
      "Time: 47.390352964401245\n",
      "image name =  88\n",
      "Data shape for DDIM sampling is (1, 3, 64, 64), eta 0.0\n",
      "Running Adversarial Sampling at 0 step\n",
      "Running DDIM Sampling with 200 timesteps\n"
     ]
    },
    {
     "name": "stderr",
     "output_type": "stream",
     "text": [
      "\n",
      "\u001b[A\n",
      "\u001b[A\n",
      "\u001b[A\n",
      "\u001b[A\n",
      "DDIM Sampler: 100%|██████████| 200/200 [00:23<00:00,  8.50it/s]\n"
     ]
    },
    {
     "name": "stdout",
     "output_type": "stream",
     "text": [
      "Data shape for DDIM sampling is (1, 3, 64, 64), eta 0.0\n",
      "Running Adversarial Sampling at 0 step\n",
      "Running DDIM Sampling with 200 timesteps\n"
     ]
    },
    {
     "name": "stderr",
     "output_type": "stream",
     "text": [
      "\n",
      "\u001b[A\n",
      "\u001b[A\n",
      "\u001b[A\n",
      "\u001b[A\n",
      "\u001b[A\n",
      "DDIM Sampler: 100%|██████████| 200/200 [00:23<00:00,  8.52it/s]\n"
     ]
    },
    {
     "name": "stdout",
     "output_type": "stream",
     "text": [
      "loss: [array(0.773, dtype=float16), array(0.798, dtype=float16), array(0.78, dtype=float16), array(0.8286, dtype=float16)]\n",
      "Saved poisoned image 88 to ./data/poisons/mini_MathVista_grid+i2i_AdvDiffVLMAttack/nat/88.png\n",
      "Time: 47.73015117645264\n",
      "image name =  59\n",
      "Data shape for DDIM sampling is (1, 3, 64, 64), eta 0.0\n",
      "Running Adversarial Sampling at 0 step\n",
      "Running DDIM Sampling with 200 timesteps\n"
     ]
    },
    {
     "name": "stderr",
     "output_type": "stream",
     "text": [
      "\n",
      "\u001b[A\n",
      "\u001b[A\n",
      "\u001b[A\n",
      "\u001b[A\n",
      "DDIM Sampler: 100%|██████████| 200/200 [00:23<00:00,  8.55it/s]\n"
     ]
    },
    {
     "name": "stdout",
     "output_type": "stream",
     "text": [
      "Data shape for DDIM sampling is (1, 3, 64, 64), eta 0.0\n",
      "Running Adversarial Sampling at 0 step\n",
      "Running DDIM Sampling with 200 timesteps\n"
     ]
    },
    {
     "name": "stderr",
     "output_type": "stream",
     "text": [
      "\n",
      "\u001b[A\n",
      "\u001b[A\n",
      "\u001b[A\n",
      "\u001b[A\n",
      "DDIM Sampler: 100%|██████████| 200/200 [00:23<00:00,  8.45it/s]\n"
     ]
    },
    {
     "name": "stdout",
     "output_type": "stream",
     "text": [
      "loss: [array(0.815, dtype=float16), array(0.852, dtype=float16), array(0.7646, dtype=float16), array(0.6196, dtype=float16)]\n",
      "Saved poisoned image 59 to ./data/poisons/mini_MathVista_grid+i2i_AdvDiffVLMAttack/nat/59.png\n",
      "Time: 47.79623222351074\n",
      "image name =  25\n",
      "Data shape for DDIM sampling is (1, 3, 64, 64), eta 0.0\n",
      "Running Adversarial Sampling at 0 step\n",
      "Running DDIM Sampling with 200 timesteps\n"
     ]
    },
    {
     "name": "stderr",
     "output_type": "stream",
     "text": [
      "\n",
      "\u001b[A\n",
      "\u001b[A\n",
      "\u001b[A\n",
      "\u001b[A\n",
      "DDIM Sampler: 100%|██████████| 200/200 [00:23<00:00,  8.68it/s]\n"
     ]
    },
    {
     "name": "stdout",
     "output_type": "stream",
     "text": [
      "Data shape for DDIM sampling is (1, 3, 64, 64), eta 0.0\n",
      "Running Adversarial Sampling at 0 step\n",
      "Running DDIM Sampling with 200 timesteps\n"
     ]
    },
    {
     "name": "stderr",
     "output_type": "stream",
     "text": [
      "\n",
      "\u001b[A\n",
      "\u001b[A\n",
      "\u001b[A\n",
      "\u001b[A\n",
      "DDIM Sampler: 100%|██████████| 200/200 [00:23<00:00,  8.50it/s]\n"
     ]
    },
    {
     "name": "stdout",
     "output_type": "stream",
     "text": [
      "loss: [array(0.71, dtype=float16), array(0.8022, dtype=float16), array(0.784, dtype=float16), array(0.7573, dtype=float16)]\n",
      "Saved poisoned image 25 to ./data/poisons/mini_MathVista_grid+i2i_AdvDiffVLMAttack/nat/25.png\n",
      "Time: 47.31072020530701\n",
      "image name =  22\n",
      "Data shape for DDIM sampling is (1, 3, 64, 64), eta 0.0\n",
      "Running Adversarial Sampling at 0 step\n",
      "Running DDIM Sampling with 200 timesteps\n"
     ]
    },
    {
     "name": "stderr",
     "output_type": "stream",
     "text": [
      "\n",
      "\u001b[A\n",
      "\u001b[A\n",
      "\u001b[A\n",
      "\u001b[A\n",
      "DDIM Sampler: 100%|██████████| 200/200 [00:23<00:00,  8.49it/s]\n"
     ]
    },
    {
     "name": "stdout",
     "output_type": "stream",
     "text": [
      "Data shape for DDIM sampling is (1, 3, 64, 64), eta 0.0\n",
      "Running Adversarial Sampling at 0 step\n",
      "Running DDIM Sampling with 200 timesteps\n"
     ]
    },
    {
     "name": "stderr",
     "output_type": "stream",
     "text": [
      "\n",
      "\u001b[A\n",
      "\u001b[A\n",
      "\u001b[A\n",
      "\u001b[A\n",
      "DDIM Sampler: 100%|██████████| 200/200 [00:23<00:00,  8.64it/s]\n"
     ]
    },
    {
     "name": "stdout",
     "output_type": "stream",
     "text": [
      "loss: [array(0.824, dtype=float16), array(0.8545, dtype=float16), array(0.864, dtype=float16), array(0.841, dtype=float16)]\n",
      "Saved poisoned image 22 to ./data/poisons/mini_MathVista_grid+i2i_AdvDiffVLMAttack/nat/22.png\n",
      "Time: 47.50180172920227\n",
      "image name =  17\n",
      "Data shape for DDIM sampling is (1, 3, 64, 64), eta 0.0\n",
      "Running Adversarial Sampling at 0 step\n",
      "Running DDIM Sampling with 200 timesteps\n"
     ]
    },
    {
     "name": "stderr",
     "output_type": "stream",
     "text": [
      "\n",
      "\u001b[A\n",
      "\u001b[A\n",
      "\u001b[A\n",
      "\u001b[A\n",
      "DDIM Sampler: 100%|██████████| 200/200 [00:23<00:00,  8.49it/s]\n"
     ]
    },
    {
     "name": "stdout",
     "output_type": "stream",
     "text": [
      "Data shape for DDIM sampling is (1, 3, 64, 64), eta 0.0\n",
      "Running Adversarial Sampling at 0 step\n",
      "Running DDIM Sampling with 200 timesteps\n"
     ]
    },
    {
     "name": "stderr",
     "output_type": "stream",
     "text": [
      "\n",
      "\u001b[A\n",
      "\u001b[A\n",
      "\u001b[A\n",
      "\u001b[A\n",
      "\u001b[A\n",
      "\u001b[A\n",
      "DDIM Sampler: 100%|██████████| 200/200 [00:23<00:00,  8.69it/s]\n"
     ]
    },
    {
     "name": "stdout",
     "output_type": "stream",
     "text": [
      "loss: [array(0.841, dtype=float16), array(0.8936, dtype=float16), array(0.8247, dtype=float16), array(0.813, dtype=float16)]\n",
      "Saved poisoned image 17 to ./data/poisons/mini_MathVista_grid+i2i_AdvDiffVLMAttack/nat/17.png\n",
      "Time: 47.29310989379883\n",
      "image name =  1\n",
      "Data shape for DDIM sampling is (1, 3, 64, 64), eta 0.0\n",
      "Running Adversarial Sampling at 0 step\n",
      "Running DDIM Sampling with 200 timesteps\n"
     ]
    },
    {
     "name": "stderr",
     "output_type": "stream",
     "text": [
      "\n",
      "\u001b[A\n",
      "\u001b[A\n",
      "\u001b[A\n",
      "\u001b[A\n",
      "DDIM Sampler: 100%|██████████| 200/200 [00:23<00:00,  8.49it/s]\n"
     ]
    },
    {
     "name": "stdout",
     "output_type": "stream",
     "text": [
      "Data shape for DDIM sampling is (1, 3, 64, 64), eta 0.0\n",
      "Running Adversarial Sampling at 0 step\n",
      "Running DDIM Sampling with 200 timesteps\n"
     ]
    },
    {
     "name": "stderr",
     "output_type": "stream",
     "text": [
      "\n",
      "\u001b[A\n",
      "\u001b[A\n",
      "\u001b[A\n",
      "\u001b[A\n",
      "DDIM Sampler: 100%|██████████| 200/200 [00:23<00:00,  8.47it/s]\n"
     ]
    },
    {
     "name": "stdout",
     "output_type": "stream",
     "text": [
      "loss: [array(0.747, dtype=float16), array(0.8364, dtype=float16), array(0.8413, dtype=float16), array(0.8433, dtype=float16)]\n",
      "Saved poisoned image 1 to ./data/poisons/mini_MathVista_grid+i2i_AdvDiffVLMAttack/nat/1.png\n",
      "Time: 47.91129207611084\n",
      "image name =  6\n",
      "Data shape for DDIM sampling is (1, 3, 64, 64), eta 0.0\n",
      "Running Adversarial Sampling at 0 step\n",
      "Running DDIM Sampling with 200 timesteps\n"
     ]
    },
    {
     "name": "stderr",
     "output_type": "stream",
     "text": [
      "\n",
      "\u001b[A\n",
      "\u001b[A\n",
      "\u001b[A\n",
      "\u001b[A\n",
      "DDIM Sampler: 100%|██████████| 200/200 [00:23<00:00,  8.64it/s]\n"
     ]
    },
    {
     "name": "stdout",
     "output_type": "stream",
     "text": [
      "Data shape for DDIM sampling is (1, 3, 64, 64), eta 0.0\n",
      "Running Adversarial Sampling at 0 step\n",
      "Running DDIM Sampling with 200 timesteps\n"
     ]
    },
    {
     "name": "stderr",
     "output_type": "stream",
     "text": [
      "\n",
      "\u001b[A\n",
      "\u001b[A\n",
      "\u001b[A\n",
      "\u001b[A\n",
      "DDIM Sampler: 100%|██████████| 200/200 [00:22<00:00,  8.70it/s]\n"
     ]
    },
    {
     "name": "stdout",
     "output_type": "stream",
     "text": [
      "loss: [array(0.7803, dtype=float16), array(0.8926, dtype=float16), array(0.8564, dtype=float16), array(0.8306, dtype=float16)]\n",
      "Saved poisoned image 6 to ./data/poisons/mini_MathVista_grid+i2i_AdvDiffVLMAttack/nat/6.png\n",
      "Time: 46.87995982170105\n",
      "image name =  10\n",
      "Data shape for DDIM sampling is (1, 3, 64, 64), eta 0.0\n",
      "Running Adversarial Sampling at 0 step\n",
      "Running DDIM Sampling with 200 timesteps\n"
     ]
    },
    {
     "name": "stderr",
     "output_type": "stream",
     "text": [
      "\n",
      "\u001b[A\n",
      "\u001b[A\n",
      "\u001b[A\n",
      "\u001b[A\n",
      "DDIM Sampler: 100%|██████████| 200/200 [00:23<00:00,  8.55it/s]\n"
     ]
    },
    {
     "name": "stdout",
     "output_type": "stream",
     "text": [
      "Data shape for DDIM sampling is (1, 3, 64, 64), eta 0.0\n",
      "Running Adversarial Sampling at 0 step\n",
      "Running DDIM Sampling with 200 timesteps\n"
     ]
    },
    {
     "name": "stderr",
     "output_type": "stream",
     "text": [
      "\n",
      "\u001b[A\n",
      "\u001b[A\n",
      "\u001b[A\n",
      "\u001b[A\n",
      "DDIM Sampler: 100%|██████████| 200/200 [00:23<00:00,  8.45it/s]\n"
     ]
    },
    {
     "name": "stdout",
     "output_type": "stream",
     "text": [
      "loss: [array(0.6875, dtype=float16), array(0.7056, dtype=float16), array(0.709, dtype=float16), array(0.7314, dtype=float16)]\n",
      "Saved poisoned image 10 to ./data/poisons/mini_MathVista_grid+i2i_AdvDiffVLMAttack/nat/10.png\n",
      "Time: 47.818806886672974\n",
      "image name =  62\n",
      "Data shape for DDIM sampling is (1, 3, 64, 64), eta 0.0\n",
      "Running Adversarial Sampling at 0 step\n",
      "Running DDIM Sampling with 200 timesteps\n"
     ]
    },
    {
     "name": "stderr",
     "output_type": "stream",
     "text": [
      "\n",
      "\u001b[A\n",
      "\u001b[A\n",
      "\u001b[A\n",
      "\u001b[A\n",
      "DDIM Sampler: 100%|██████████| 200/200 [00:23<00:00,  8.69it/s]\n"
     ]
    },
    {
     "name": "stdout",
     "output_type": "stream",
     "text": [
      "Data shape for DDIM sampling is (1, 3, 64, 64), eta 0.0\n",
      "Running Adversarial Sampling at 0 step\n",
      "Running DDIM Sampling with 200 timesteps\n"
     ]
    },
    {
     "name": "stderr",
     "output_type": "stream",
     "text": [
      "\n",
      "\u001b[A\n",
      "\u001b[A\n",
      "\u001b[A\n",
      "\u001b[A\n",
      "DDIM Sampler: 100%|██████████| 200/200 [00:23<00:00,  8.53it/s]\n"
     ]
    },
    {
     "name": "stdout",
     "output_type": "stream",
     "text": [
      "loss: [array(0.8364, dtype=float16), array(0.8765, dtype=float16), array(0.8154, dtype=float16), array(0.746, dtype=float16)]\n",
      "Saved poisoned image 62 to ./data/poisons/mini_MathVista_grid+i2i_AdvDiffVLMAttack/nat/62.png\n",
      "Time: 47.18356680870056\n",
      "image name =  8\n",
      "Data shape for DDIM sampling is (1, 3, 64, 64), eta 0.0\n",
      "Running Adversarial Sampling at 0 step\n",
      "Running DDIM Sampling with 200 timesteps\n"
     ]
    },
    {
     "name": "stderr",
     "output_type": "stream",
     "text": [
      "\n",
      "\u001b[A\n",
      "\u001b[A\n",
      "\u001b[A\n",
      "\u001b[A\n",
      "DDIM Sampler: 100%|██████████| 200/200 [00:23<00:00,  8.69it/s]\n"
     ]
    },
    {
     "name": "stdout",
     "output_type": "stream",
     "text": [
      "Data shape for DDIM sampling is (1, 3, 64, 64), eta 0.0\n",
      "Running Adversarial Sampling at 0 step\n",
      "Running DDIM Sampling with 200 timesteps\n"
     ]
    },
    {
     "name": "stderr",
     "output_type": "stream",
     "text": [
      "\n",
      "\u001b[A\n",
      "\u001b[A\n",
      "\u001b[A\n",
      "\u001b[A\n",
      "DDIM Sampler: 100%|██████████| 200/200 [00:23<00:00,  8.64it/s]\n"
     ]
    },
    {
     "name": "stdout",
     "output_type": "stream",
     "text": [
      "loss: [array(0.672, dtype=float16), array(0.6606, dtype=float16), array(0.7363, dtype=float16), array(0.6553, dtype=float16)]\n",
      "Saved poisoned image 8 to ./data/poisons/mini_MathVista_grid+i2i_AdvDiffVLMAttack/nat/8.png\n",
      "Time: 46.88923668861389\n",
      "image name =  19\n",
      "Data shape for DDIM sampling is (1, 3, 64, 64), eta 0.0\n",
      "Running Adversarial Sampling at 0 step\n",
      "Running DDIM Sampling with 200 timesteps\n"
     ]
    },
    {
     "name": "stderr",
     "output_type": "stream",
     "text": [
      "\n",
      "\u001b[A\n",
      "\u001b[A\n",
      "\u001b[A\n",
      "\u001b[A\n",
      "\u001b[A\n",
      "\u001b[A\n",
      "DDIM Sampler: 100%|██████████| 200/200 [00:23<00:00,  8.56it/s]\n"
     ]
    },
    {
     "name": "stdout",
     "output_type": "stream",
     "text": [
      "Data shape for DDIM sampling is (1, 3, 64, 64), eta 0.0\n",
      "Running Adversarial Sampling at 0 step\n",
      "Running DDIM Sampling with 200 timesteps\n"
     ]
    },
    {
     "name": "stderr",
     "output_type": "stream",
     "text": [
      "\n",
      "\u001b[A\n",
      "\u001b[A\n",
      "\u001b[A\n",
      "\u001b[A\n",
      "DDIM Sampler: 100%|██████████| 200/200 [00:23<00:00,  8.52it/s]\n"
     ]
    },
    {
     "name": "stdout",
     "output_type": "stream",
     "text": [
      "loss: [array(0.7573, dtype=float16), array(0.711, dtype=float16), array(0.812, dtype=float16), array(0.761, dtype=float16)]\n",
      "Saved poisoned image 19 to ./data/poisons/mini_MathVista_grid+i2i_AdvDiffVLMAttack/nat/19.png\n",
      "Time: 47.66679358482361\n",
      "image name =  65\n",
      "Data shape for DDIM sampling is (1, 3, 64, 64), eta 0.0\n",
      "Running Adversarial Sampling at 0 step\n",
      "Running DDIM Sampling with 200 timesteps\n"
     ]
    },
    {
     "name": "stderr",
     "output_type": "stream",
     "text": [
      "\n",
      "\u001b[A\n",
      "\u001b[A\n",
      "\u001b[A\n",
      "\u001b[A\n",
      "DDIM Sampler: 100%|██████████| 200/200 [00:23<00:00,  8.54it/s]\n"
     ]
    },
    {
     "name": "stdout",
     "output_type": "stream",
     "text": [
      "Data shape for DDIM sampling is (1, 3, 64, 64), eta 0.0\n",
      "Running Adversarial Sampling at 0 step\n",
      "Running DDIM Sampling with 200 timesteps\n"
     ]
    },
    {
     "name": "stderr",
     "output_type": "stream",
     "text": [
      "\n",
      "\u001b[A\n",
      "\u001b[A\n",
      "\u001b[A\n",
      "\u001b[A\n",
      "DDIM Sampler: 100%|██████████| 200/200 [00:23<00:00,  8.64it/s]\n",
      "Target Dataloader: 5it [4:04:06, 3802.77s/it]"
     ]
    },
    {
     "name": "stdout",
     "output_type": "stream",
     "text": [
      "loss: [array(0.705, dtype=float16), array(0.7847, dtype=float16), array(0.782, dtype=float16), array(0.6997, dtype=float16)]\n",
      "Saved poisoned image 65 to ./data/poisons/mini_MathVista_grid+i2i_AdvDiffVLMAttack/nat/65.png\n",
      "Time: 47.34071612358093\n"
     ]
    },
    {
     "name": "stderr",
     "output_type": "stream",
     "text": []
    },
    {
     "name": "stdout",
     "output_type": "stream",
     "text": [
      "image name =  85\n",
      "Data shape for DDIM sampling is (1, 3, 64, 64), eta 0.0\n",
      "Running Adversarial Sampling at 0 step\n",
      "Running DDIM Sampling with 200 timesteps\n"
     ]
    },
    {
     "name": "stderr",
     "output_type": "stream",
     "text": [
      "\n",
      "\u001b[A\n",
      "\u001b[A\n",
      "\u001b[A\n",
      "\u001b[A\n",
      "DDIM Sampler: 100%|██████████| 200/200 [00:23<00:00,  8.50it/s]\n"
     ]
    },
    {
     "name": "stdout",
     "output_type": "stream",
     "text": [
      "Data shape for DDIM sampling is (1, 3, 64, 64), eta 0.0\n",
      "Running Adversarial Sampling at 0 step\n",
      "Running DDIM Sampling with 200 timesteps\n"
     ]
    },
    {
     "name": "stderr",
     "output_type": "stream",
     "text": [
      "\n",
      "\u001b[A\n",
      "\u001b[A\n",
      "\u001b[A\n",
      "\u001b[A\n",
      "\u001b[A\n",
      "DDIM Sampler: 100%|██████████| 200/200 [00:23<00:00,  8.60it/s]\n"
     ]
    },
    {
     "name": "stdout",
     "output_type": "stream",
     "text": [
      "loss: [array(0.7275, dtype=float16), array(0.845, dtype=float16), array(0.8193, dtype=float16), array(0.7505, dtype=float16)]\n",
      "Saved poisoned image 85 to ./data/poisons/mini_MathVista_grid+i2i_AdvDiffVLMAttack/pie/85.png\n",
      "Time: 47.51581168174744\n",
      "image name =  54\n",
      "Data shape for DDIM sampling is (1, 3, 64, 64), eta 0.0\n",
      "Running Adversarial Sampling at 0 step\n",
      "Running DDIM Sampling with 200 timesteps\n"
     ]
    },
    {
     "name": "stderr",
     "output_type": "stream",
     "text": [
      "\n",
      "\u001b[A\n",
      "\u001b[A\n",
      "\u001b[A\n",
      "\u001b[A\n",
      "DDIM Sampler: 100%|██████████| 200/200 [00:23<00:00,  8.64it/s]\n"
     ]
    },
    {
     "name": "stdout",
     "output_type": "stream",
     "text": [
      "Data shape for DDIM sampling is (1, 3, 64, 64), eta 0.0\n",
      "Running Adversarial Sampling at 0 step\n",
      "Running DDIM Sampling with 200 timesteps\n"
     ]
    },
    {
     "name": "stderr",
     "output_type": "stream",
     "text": [
      "\n",
      "\u001b[A\n",
      "\u001b[A\n",
      "\u001b[A\n",
      "\u001b[A\n",
      "DDIM Sampler: 100%|██████████| 200/200 [00:23<00:00,  8.53it/s]\n"
     ]
    },
    {
     "name": "stdout",
     "output_type": "stream",
     "text": [
      "loss: [array(0.6323, dtype=float16), array(0.7827, dtype=float16), array(0.7295, dtype=float16), array(0.6465, dtype=float16)]\n",
      "Saved poisoned image 54 to ./data/poisons/mini_MathVista_grid+i2i_AdvDiffVLMAttack/pie/54.png\n",
      "Time: 47.28971028327942\n",
      "image name =  28\n",
      "Data shape for DDIM sampling is (1, 3, 64, 64), eta 0.0\n",
      "Running Adversarial Sampling at 0 step\n",
      "Running DDIM Sampling with 200 timesteps\n"
     ]
    },
    {
     "name": "stderr",
     "output_type": "stream",
     "text": [
      "\n",
      "\u001b[A\n",
      "\u001b[A\n",
      "\u001b[A\n",
      "\u001b[A\n",
      "\u001b[A\n",
      "\u001b[A\n",
      "DDIM Sampler: 100%|██████████| 200/200 [00:23<00:00,  8.47it/s]\n"
     ]
    },
    {
     "name": "stdout",
     "output_type": "stream",
     "text": [
      "Data shape for DDIM sampling is (1, 3, 64, 64), eta 0.0\n",
      "Running Adversarial Sampling at 0 step\n",
      "Running DDIM Sampling with 200 timesteps\n"
     ]
    },
    {
     "name": "stderr",
     "output_type": "stream",
     "text": [
      "\n",
      "\u001b[A\n",
      "\u001b[A"
     ]
    }
   ],
   "source": [
    "import sys\n",
    "import os \n",
    "import random\n",
    "\n",
    "os.environ[\"CUDA_VISIBLE_DEVICES\"]=\"0\"\n",
    "\n",
    "sys.path.append(\".\")\n",
    "sys.path.append('./taming-transformers')\n",
    "from taming.models import vqgan \n",
    "\n",
    "import torch\n",
    "from omegaconf import OmegaConf\n",
    "\n",
    "from ldm.util import instantiate_from_config\n",
    "\n",
    "from ldm.models.diffusion.ddim_main import DDIMSampler\n",
    "from torchvision.models import resnet50, ResNet50_Weights\n",
    "\n",
    "from torchvision.utils import save_image\n",
    "from torch.backends import cudnn\n",
    "import numpy as np\n",
    "import time\n",
    "\n",
    "\n",
    "\n",
    "def to_tensor(pic):\n",
    "    mode_to_nptype = {\"I\": np.int32, \"I;16\": np.int16, \"F\": np.float32}\n",
    "    img = torch.from_numpy(np.array(pic, mode_to_nptype.get(pic.mode, np.uint8), copy=True))\n",
    "    img = img.view(pic.size[1], pic.size[0], len(pic.getbands()))\n",
    "    img = img.permute((2, 0, 1)).contiguous()\n",
    "    return img.to(dtype=torch.get_default_dtype())\n",
    "\n",
    "def load_model_from_config(config, ckpt):\n",
    "    print(f\"Loading model from {ckpt}\")\n",
    "    pl_sd = torch.load(ckpt)#, map_location=\"cpu\")\n",
    "    sd = pl_sd[\"state_dict\"]\n",
    "    model = instantiate_from_config(config.model)\n",
    "    m, u = model.load_state_dict(sd, strict=False)\n",
    "    model.cuda()\n",
    "    model.eval()\n",
    "    return model\n",
    "\n",
    "# def get_model(): \n",
    "#     config = OmegaConf.load(\"ldm.yaml\")  # configs/latent-diffusion/cin256-v2.yaml\n",
    "#     model = load_model_from_config(config, \"model.ckpt\")  # https://ommer-lab.com/files/latent-diffusion/nitro/cin/model.ckpt\n",
    "def get_model():  # 下载地址\n",
    "    config = OmegaConf.load(\"configs/latent-diffusion/cin256-v2.yaml\")  \n",
    "    model = load_model_from_config(config, \"models/ldm/cin256-v2/model.ckpt\")\n",
    "    return model\n",
    "\n",
    "## 设置随机种子\n",
    "\n",
    "seed = 0\n",
    "cudnn.benchmark = False\n",
    "cudnn.deterministic = True\n",
    "torch.manual_seed(seed)\n",
    "torch.cuda.manual_seed(seed)\n",
    "np.random.seed(seed)\n",
    "random.seed(seed)\n",
    "# seed for everything\n",
    "# credit: https://www.kaggle.com/code/rhythmcam/random-seed-everything\n",
    "DEFAULT_RANDOM_SEED = 0\n",
    "device = \"cuda\" if torch.cuda.is_available() else \"cpu\"\n",
    "\n",
    "# basic random seed\n",
    "def seedBasic(seed=DEFAULT_RANDOM_SEED):\n",
    "    random.seed(seed)\n",
    "    os.environ['PYTHONHASHSEED'] = str(seed)\n",
    "    np.random.seed(seed)\n",
    "\n",
    "# torch random seed\n",
    "def seedTorch(seed=DEFAULT_RANDOM_SEED):\n",
    "    torch.manual_seed(seed)\n",
    "    torch.cuda.manual_seed(seed)\n",
    "    torch.backends.cudnn.deterministic = True\n",
    "    torch.backends.cudnn.benchmark = False\n",
    "\n",
    "# combine\n",
    "def seedEverything(seed=DEFAULT_RANDOM_SEED):\n",
    "    seedBasic(seed)\n",
    "    seedTorch(seed)\n",
    "\n",
    "seedEverything()\n",
    "#------------------------------------------------------------------ #  \n",
    "\n",
    "model = get_model()  # 扩散模型\n",
    "\n",
    "### CLIP模型\n",
    "import clip \n",
    "import torchvision\n",
    "device = model.device\n",
    "\n",
    "clip_rn_50,_ = clip.load('RN50', device=device)\n",
    "clip_rn_101,_ = clip.load('RN101', device=device)\n",
    "clip_vit_b_16,_ = clip.load('ViT-B/16', device=device)\n",
    "clip_vit_b_32,_ = clip.load('ViT-B/32', device=device)\n",
    "clip_vit_l_14,_ = clip.load('ViT-L/14', device=device)\n",
    "models = [clip_rn_50, clip_rn_101, clip_vit_b_16, clip_vit_b_32]\n",
    "# models = [clip_vit_b_32]\n",
    "clip_preprocess = torchvision.transforms.Compose(\n",
    "    [\n",
    "        torchvision.transforms.Resize(clip_vit_b_32.visual.input_resolution, interpolation=torchvision.transforms.InterpolationMode.BICUBIC, antialias=True),\n",
    "        # torchvision.transforms.Lambda(lambda img: torch.clamp(img, 0.0, 255.0) / 255.0),\n",
    "        torchvision.transforms.CenterCrop(clip_vit_b_32.visual.input_resolution),\n",
    "        torchvision.transforms.Normalize((0.48145466, 0.4578275, 0.40821073), (0.26862954, 0.26130258, 0.27577711)), # CLIP imgs mean and std.\n",
    "    ]\n",
    ")\n",
    "final_preprocess = torchvision.transforms.Compose(\n",
    "    [\n",
    "        torchvision.transforms.Resize(clip_vit_b_32.visual.input_resolution, interpolation=torchvision.transforms.InterpolationMode.BICUBIC, antialias=True),\n",
    "        # torchvision.transforms.Lambda(lambda img: torch.clamp(img, 0.0, 255.0) / 255.0),\n",
    "        torchvision.transforms.CenterCrop(clip_vit_b_32.visual.input_resolution),\n",
    "    ]\n",
    ")\n",
    "\n",
    "\n",
    "class ImageFolderWithPaths(torchvision.datasets.ImageFolder):\n",
    "    def __getitem__(self, index: int):\n",
    "        original_tuple = super().__getitem__(index)\n",
    "        path, _ = self.samples[index]\n",
    "        return original_tuple + (path,)\n",
    "\n",
    " # 读取数据\n",
    "input_res = 224\n",
    "# 建立映射关系\n",
    "\n",
    "\n",
    "batch_size = 1\n",
    "num_samples = 100\n",
    "transform_fn = torchvision.transforms.Compose(\n",
    "        [\n",
    "            torchvision.transforms.Resize(224, interpolation=torchvision.transforms.InterpolationMode.BICUBIC),\n",
    "            torchvision.transforms.CenterCrop(224),\n",
    "            torchvision.transforms.Lambda(lambda img: img.convert(\"RGB\")),\n",
    "            torchvision.transforms.Lambda(lambda img: to_tensor(img)),\n",
    "            torchvision.transforms.Lambda(lambda img: torch.clamp(img, 0.0, 255.0) / 255.0),\n",
    "        ]\n",
    "    )\n",
    "transform_fn_org = torchvision.transforms.Compose(\n",
    "    [\n",
    "        torchvision.transforms.Resize(256, interpolation=torchvision.transforms.InterpolationMode.BICUBIC),\n",
    "        torchvision.transforms.CenterCrop(256),\n",
    "        torchvision.transforms.ToTensor(), # [0, 1]\n",
    "        torchvision.transforms.Lambda(lambda img: (img * 2 - 1)),\n",
    "        # torchvision.transforms.Lambda(lambda img: img.convert(\"RGB\")),\n",
    "        # torchvision.transforms.Lambda(lambda img: to_tensor(img)),\n",
    "    ]\n",
    ")\n",
    "\n",
    "sampler = DDIMSampler(model, models=models, preprocess=clip_preprocess)  # 使用ddim采样器\n",
    "\n",
    "\n",
    "import numpy as np \n",
    "from PIL import Image\n",
    "from einops import rearrange  # 用于重新排列Tensor的维度\n",
    "import cv2\n",
    "\n",
    "classes = [2]  # 定义要生成的类\n",
    "n_samples_per_class = 1\n",
    "# 读取类别\n",
    "import pandas as pd\n",
    "\n",
    "ddim_steps = 200 # 200\n",
    "ddim_eta = 0.0\n",
    "scale = 5.0   # for unconditional guidance\n",
    "\n",
    "img_transformed_list = []\n",
    "cam_root = args['base_data_pth']+\"_masked\"\n",
    "\n",
    "for j, (image_target, target_cap) in  tqdm(enumerate(target_dataloader), desc=\"Target Dataloader\", position=0, leave=True):\n",
    "    target_name = target_cap[\"name\"]\n",
    "    target_path = os.path.join(args[\"poison_save_pth\"], target_cap[\"name\"])\n",
    "    if not os.path.exists(target_path):\n",
    "        os.makedirs(target_path)\n",
    "\n",
    "    ###### Resume by checking already saved images ######\n",
    "    saved_images = set(os.listdir(target_path))\n",
    "    saved_image_ids = {fname.split('.')[0] for fname in saved_images if fname.endswith(('.png', '.jpg', '.jpeg'))}\n",
    "    if all(name in saved_image_ids for name in [base_cap['name'] for (_, base_cap) in base_dataloader]):\n",
    "        print(f\"{target_cap['name']} entirely complete\")\n",
    "        continue\n",
    "    for i, (image_base, base_cap) in  tqdm(enumerate(base_dataloader), desc=f\"Processing {target_name}\", total=len(base_dataloader), position=1, leave=False):\n",
    "        if base_cap['name'] in saved_image_ids:\n",
    "                print(f\"{base_cap['name']} already processed for {target_cap['name']}, skipping...\")\n",
    "                continue\n",
    "\n",
    "        print('image name = ', base_cap['name'])\n",
    "        image_org, image_tgt = image_base.to(device), image_target.to(device)\n",
    "\n",
    "        start = time.time()\n",
    "\n",
    "        # # get tgt featutres\n",
    "        with torch.no_grad():\n",
    "            tgt_image_features_list=[]\n",
    "            image_tgt = clip_preprocess(image_tgt)\n",
    "            for clip_model in models:\n",
    "                tgt_image_features = clip_model.encode_image(image_tgt)  # [bs, 512]\n",
    "                tgt_image_features = tgt_image_features / tgt_image_features.norm(dim=1, keepdim=True)\n",
    "                tgt_image_features_list.append(tgt_image_features)\n",
    "        \n",
    "        with torch.no_grad():\n",
    "            with model.ema_scope():  # 指数平滑\n",
    "                uc = model.get_learned_conditioning(\n",
    "                    {model.cond_stage_key: torch.tensor(n_samples_per_class*[1000]).to(model.device)}\n",
    "                    ) # 类别为0-999，因此无条件用1000表示\n",
    "                # label_id = path[0].split('/')[-2]\n",
    "                # label_id = name_key[label_id] # 用于映射\n",
    "                # class_label = labeles[label_id]\n",
    "                # print(\"class_label:\", class_label)\n",
    "                # for class_label in classes:\n",
    "                all_samples = list()\n",
    "                all_labels = list() \n",
    "                # print(f\"rendering {n_samples_per_class} examples of class '{class_label}' in {ddim_steps} steps and using s={scale:.2f}.\")\n",
    "                xc = torch.tensor(n_samples_per_class*[0]) #### IDK WHAT THIS DOES BE WARNED AND PROBABLY EDIT LATER AHHHHHH\n",
    "                c = model.get_learned_conditioning({model.cond_stage_key: xc.to(model.device)})\n",
    "                encoder_posterior = model.encode_first_stage(image_org)\n",
    "                z = model.get_first_stage_encoding(encoder_posterior).detach()\n",
    "                cam = cv2.imread(os.path.join(cam_root, base_cap['name']+'_mask.png'), 0) / 255.\n",
    "                cam = cv2.resize(cam, (128, 128)) # CHANGED TO 128,128 FROM 64,64. WORKS NOT SURE WHY. NOT SURE HOW IT TRANSFORMS IT\n",
    "                cam = torch.tensor(cam).float()\n",
    "\n",
    "                # print(\"size of mask:\", cam.size())\n",
    "                # print(\"size of tgt image feats:\", tgt_image_features_list[0].size())\n",
    "                \n",
    "                samples_ddim, _ = sampler.sample(S=ddim_steps,\n",
    "                                                conditioning=c,\n",
    "                                                # conditioning=None,\n",
    "                                                x_T=z,\n",
    "                                                batch_size=n_samples_per_class,\n",
    "                                                shape=[3, 64, 64],\n",
    "                                                verbose=False,\n",
    "                                                unconditional_guidance_scale=scale,\n",
    "                                                unconditional_conditioning=uc, \n",
    "                                                eta=ddim_eta,\n",
    "                                                label=xc.to(model.device),\n",
    "                                                # label=None,\n",
    "                                                tgt_image_features_list=tgt_image_features_list,\n",
    "                                                org_image_features_list=None,\n",
    "                                                cam=cam,\n",
    "                                                K=1,s=35,a=5)\n",
    "                \n",
    "                for _ in range(1):\n",
    "                    samples_ddim, _ = sampler.sample(S=ddim_steps,\n",
    "                                                conditioning=c,\n",
    "                                                x_T=samples_ddim,\n",
    "                                                batch_size=n_samples_per_class,\n",
    "                                                shape=[3, 64, 64],\n",
    "                                                verbose=False,\n",
    "                                                unconditional_guidance_scale=scale,\n",
    "                                                unconditional_conditioning=uc, \n",
    "                                                eta=ddim_eta,\n",
    "                                                label=xc.to(model.device),\n",
    "                                                tgt_image_features_list=tgt_image_features_list,\n",
    "                                                org_image_features_list=None,\n",
    "                                                cam=cam,\n",
    "                                                K=1,s=35,a=5)\n",
    "                \n",
    "                x_samples_ddim = model.decode_first_stage(samples_ddim)\n",
    "                x_samples_ddim = torch.clamp((x_samples_ddim+1.0)/2.0, \n",
    "                                            min=0.0, max=1.0)\n",
    "\n",
    "\n",
    "        img_transformed = clip_preprocess(x_samples_ddim).to(device) # image transformation to model input\n",
    "        img_transformed_list.append(x_samples_ddim)\n",
    "        adv_image_feature_list = []\n",
    "        for clip_model in models:\n",
    "            adv_image_features = clip_model.encode_image(img_transformed)\n",
    "            adv_image_features = adv_image_features / adv_image_features.norm(dim=1, keepdim=True)\n",
    "            adv_image_feature_list.append(adv_image_features)\n",
    "        crit_list = []\n",
    "        for pred_i, target_i in zip(adv_image_feature_list, tgt_image_features_list):\n",
    "            crit =  torch.mean(torch.sum(pred_i * target_i, dim=1))  # 有目标攻击\n",
    "            crit_list.append(crit.data.detach().cpu().numpy())\n",
    "        print(\"loss:\", crit_list)\n",
    "\n",
    "        ###### Save poisoned images after each batch ######\n",
    "        img_pth = os.path.join(target_path, f\"{base_cap['name']}.png\")\n",
    "        # image_to_save = X_adv / 255.0\n",
    "        # print()\n",
    "        if base_cap['name'] not in saved_image_ids:  # Only save if it doesn't already exist\n",
    "            # print(\"Max Pixel Difference between Adversarial Image and Base *255:\", torch.max(torch.abs(X_adv-image_base)).item())\n",
    "            save_image(x_samples_ddim, img_pth)\n",
    "            print(f\"Saved poisoned image {base_cap['name']} to {img_pth}\") # mathvista\n",
    "\n",
    "        end = time.time()\n",
    "        print(\"Time:\", end-start)\n",
    "        \n",
    "        # for path_idx in range(len(path)):\n",
    "        #     folder, name = path[path_idx].split(\"/\")[-2], path[path_idx].split(\"/\")[-1]\n",
    "        #     # folder_to_save = os.path.join('../_output_img', , folder)\n",
    "        #     folder_to_save = \"/data/gq/result/adversarial_attack/dda/result/second_paper/samples\"\n",
    "        #     if not os.path.exists(folder_to_save):\n",
    "        #         os.makedirs(folder_to_save, exist_ok=True)\n",
    "        #     if 'JPEG' in name:\n",
    "        #         torchvision.utils.save_image(final_preprocess(x_samples_ddim)[path_idx], os.path.join(folder_to_save, name[:-4]) + 'png')\n",
    "        #     elif 'png' in name:\n",
    "        #         torchvision.utils.save_image(final_preprocess(x_samples_ddim)[path_idx], os.path.join(folder_to_save, name))"
   ]
  },
  {
   "cell_type": "code",
   "execution_count": null,
   "metadata": {},
   "outputs": [],
   "source": [
    "raise Exception(\"Here to stop execution for this section\")"
   ]
  },
  {
   "cell_type": "markdown",
   "metadata": {},
   "source": [
    "# Mathvista Evaluation Pipeline"
   ]
  },
  {
   "cell_type": "markdown",
   "metadata": {},
   "source": [
    "### Generate Response"
   ]
  },
  {
   "cell_type": "code",
   "execution_count": null,
   "metadata": {},
   "outputs": [],
   "source": [
    "attacking_model=\"internvl\"\n",
    "captioning_model = \"gpt-3.5-turbo\"\n",
    "method = \"i2i_EnsembleAttack\""
   ]
  },
  {
   "cell_type": "code",
   "execution_count": null,
   "metadata": {},
   "outputs": [],
   "source": [
    "import os\n",
    "import io\n",
    "import time\n",
    "import argparse\n",
    "\n",
    "from tqdm import tqdm\n",
    "\n",
    "import sys\n",
    "from poison_utils import *\n",
    "\n",
    "from eval_models import internlm, internvl\n",
    "from eval_models import gpt\n",
    "\n",
    "from build_query import create_query_data\n",
    "\n"
   ]
  },
  {
   "cell_type": "code",
   "execution_count": null,
   "metadata": {},
   "outputs": [],
   "source": [
    "\n",
    "\n",
    "def verify_response(response):\n",
    "    if isinstance(response, str):\n",
    "        response = response.strip() \n",
    "    if response == \"\" or response == None:\n",
    "        return False\n",
    "    if \"Response Error\" in response:\n",
    "        return False\n",
    "    return True\n",
    "\n",
    "\n",
    "def evaluate_code(code_string):\n",
    "    # execute_code_and_capture_output\n",
    "    # Backup the original stdout\n",
    "    old_stdout = sys.stdout\n",
    "    \n",
    "    # Redirect stdout to capture the output\n",
    "    new_stdout = io.StringIO()\n",
    "    sys.stdout = new_stdout\n",
    "    \n",
    "    # Try executing the code and capture any exception\n",
    "    error = None\n",
    "    try:\n",
    "        exec(code_string)\n",
    "    except Exception as e:\n",
    "        error = e\n",
    "    \n",
    "    # Restore the original stdout\n",
    "    sys.stdout = old_stdout\n",
    "    \n",
    "    # Get the captured output\n",
    "    captured_output = new_stdout.getvalue()\n",
    "    if isinstance(captured_output, str):\n",
    "        captured_output = captured_output.strip()\n",
    "    \n",
    "    # Return the captured output or error\n",
    "    return captured_output, error\n"
   ]
  },
  {
   "cell_type": "code",
   "execution_count": null,
   "metadata": {},
   "outputs": [],
   "source": [
    "task_name = \"mini_MathVista_grid\"\n",
    "class Args:\n",
    "    def __init__(self, task_name, attacking_model, captioning_model):\n",
    "        # Input\n",
    "        self.poison_data_dir = f'data/poisons/{task_name}+{method}'\n",
    "        self.input_file = 'questions.json'\n",
    "        self.task_data_pth = f'data/{task_name}'\n",
    "\n",
    "        # Output\n",
    "        self.output_dir = f'results/{attacking_model}'\n",
    "        self.output_file = f'output_{attacking_model}.json'\n",
    "\n",
    "        # Model\n",
    "        self.model = attacking_model\n",
    "        self.key = \"\"\n",
    "\n",
    "        # Query\n",
    "        self.query_file = None\n",
    "        # self.caption_file = '../data/texts/captions_bard.json'\n",
    "        # self.ocr_file = '../data/texts/ocrs_easyocr.json'\n",
    "        self.shot_type = 'solution'\n",
    "        self.shot_num = 0\n",
    "        self.use_caption = False\n",
    "        self.use_ocr = False\n",
    "\n",
    "        # Other settings\n",
    "        self.rerun = False\n",
    "        self.debug = False\n",
    "\n",
    "    def __repr__(self):\n",
    "        return f\"Args({self.__dict__})\"\n",
    "\n",
    "args = Args(task_name, attacking_model, captioning_model)"
   ]
  },
  {
   "cell_type": "code",
   "execution_count": null,
   "metadata": {},
   "outputs": [
    {
     "name": "stdout",
     "output_type": "stream",
     "text": [
      "Reading data/mini_MathVista_grid/questions.json...\n",
      "\n",
      "Creating new query...\n",
      "\n",
      "Results already exist.\n",
      "Reading results/internvl/output_internvl.json...\n",
      "\n",
      "Loading internvl...\n",
      "FlashAttention2 is not installed.\n",
      "Warning: Flash attention is not available, using eager attention instead.\n"
     ]
    },
    {
     "data": {
      "application/vnd.jupyter.widget-view+json": {
       "model_id": "8dc3acb952324020850b02c7c6437e55",
       "version_major": 2,
       "version_minor": 0
      },
      "text/plain": [
       "Loading checkpoint shards:   0%|          | 0/4 [00:00<?, ?it/s]"
      ]
     },
     "metadata": {},
     "output_type": "display_data"
    },
    {
     "name": "stderr",
     "output_type": "stream",
     "text": [
      "Special tokens have been added in the vocabulary, make sure the associated word embeddings are fine-tuned or trained.\n"
     ]
    },
    {
     "name": "stdout",
     "output_type": "stream",
     "text": [
      "Model loaded.\n",
      "\n",
      "Number of test problems in total: 100\n",
      "Not all targets have directories. Working with: ['bar', 'docs', 'tbl', 'synth', 'nat', 'pie', 'sci', 'vlin', 'rdar', 'pzle', 'med', 'sctr', 'func', 'line', 'map', 'abst', 'heat']\n",
      "\n",
      "Removing problems with existing valid response...\n",
      "Number of test problems to run for each target: {'bar': 100, 'docs': 100, 'tbl': 100, 'synth': 100, 'nat': 100, 'pie': 100, 'sci': 100, 'vlin': 100, 'rdar': 100, 'pzle': 100, 'med': 100, 'sctr': 100, 'func': 100, 'line': 100, 'map': 100, 'abst': 100, 'heat': 100}\n"
     ]
    },
    {
     "name": "stderr",
     "output_type": "stream",
     "text": [
      "  0%|          | 0/100 [00:00<?, ?it/s]"
     ]
    },
    {
     "name": "stdout",
     "output_type": "stream",
     "text": [
      "\n",
      "Generating response for 0...\n"
     ]
    },
    {
     "name": "stderr",
     "output_type": "stream",
     "text": [
      "  1%|          | 1/100 [00:20<34:07, 20.68s/it]"
     ]
    },
    {
     "name": "stdout",
     "output_type": "stream",
     "text": [
      "Saving results to results/internvl/output_internvl.json...\n",
      "Results saved.\n",
      "\n",
      "Generating response for 1...\n"
     ]
    },
    {
     "name": "stderr",
     "output_type": "stream",
     "text": [
      "  2%|▏         | 2/100 [00:22<15:53,  9.73s/it]"
     ]
    },
    {
     "name": "stdout",
     "output_type": "stream",
     "text": [
      "Saving results to results/internvl/output_internvl.json...\n",
      "Results saved.\n",
      "\n",
      "Generating response for 2...\n"
     ]
    },
    {
     "name": "stderr",
     "output_type": "stream",
     "text": [
      "  3%|▎         | 3/100 [00:45<25:39, 15.87s/it]"
     ]
    },
    {
     "name": "stdout",
     "output_type": "stream",
     "text": [
      "Saving results to results/internvl/output_internvl.json...\n",
      "Results saved.\n",
      "\n",
      "Generating response for 3...\n"
     ]
    },
    {
     "name": "stderr",
     "output_type": "stream",
     "text": [
      "  4%|▍         | 4/100 [00:47<16:37, 10.39s/it]"
     ]
    },
    {
     "name": "stdout",
     "output_type": "stream",
     "text": [
      "Saving results to results/internvl/output_internvl.json...\n",
      "Results saved.\n",
      "\n",
      "Generating response for 4...\n"
     ]
    },
    {
     "name": "stderr",
     "output_type": "stream",
     "text": [
      "  5%|▌         | 5/100 [01:02<18:48, 11.88s/it]"
     ]
    },
    {
     "name": "stdout",
     "output_type": "stream",
     "text": [
      "Saving results to results/internvl/output_internvl.json...\n",
      "Results saved.\n",
      "\n",
      "Generating response for 5...\n"
     ]
    },
    {
     "name": "stderr",
     "output_type": "stream",
     "text": [
      "  6%|▌         | 6/100 [01:10<16:48, 10.73s/it]"
     ]
    },
    {
     "name": "stdout",
     "output_type": "stream",
     "text": [
      "Saving results to results/internvl/output_internvl.json...\n",
      "Results saved.\n",
      "\n",
      "Generating response for 6...\n"
     ]
    },
    {
     "name": "stderr",
     "output_type": "stream",
     "text": [
      "  7%|▋         | 7/100 [01:13<12:43,  8.21s/it]"
     ]
    },
    {
     "name": "stdout",
     "output_type": "stream",
     "text": [
      "Saving results to results/internvl/output_internvl.json...\n",
      "Results saved.\n",
      "\n",
      "Generating response for 7...\n"
     ]
    },
    {
     "name": "stderr",
     "output_type": "stream",
     "text": [
      "  8%|▊         | 8/100 [01:20<11:52,  7.74s/it]"
     ]
    },
    {
     "name": "stdout",
     "output_type": "stream",
     "text": [
      "Saving results to results/internvl/output_internvl.json...\n",
      "Results saved.\n",
      "\n",
      "Generating response for 8...\n"
     ]
    },
    {
     "name": "stderr",
     "output_type": "stream",
     "text": [
      "  9%|▉         | 9/100 [01:30<12:46,  8.42s/it]"
     ]
    },
    {
     "name": "stdout",
     "output_type": "stream",
     "text": [
      "Saving results to results/internvl/output_internvl.json...\n",
      "Results saved.\n",
      "\n",
      "Generating response for 9...\n"
     ]
    },
    {
     "name": "stderr",
     "output_type": "stream",
     "text": [
      " 10%|█         | 10/100 [01:37<11:43,  7.82s/it]"
     ]
    },
    {
     "name": "stdout",
     "output_type": "stream",
     "text": [
      "Saving results to results/internvl/output_internvl.json...\n",
      "Results saved.\n",
      "\n",
      "Generating response for 10...\n"
     ]
    },
    {
     "name": "stderr",
     "output_type": "stream",
     "text": [
      " 11%|█         | 11/100 [01:39<08:56,  6.03s/it]"
     ]
    },
    {
     "name": "stdout",
     "output_type": "stream",
     "text": [
      "Saving results to results/internvl/output_internvl.json...\n",
      "Results saved.\n",
      "\n",
      "Generating response for 11...\n"
     ]
    },
    {
     "name": "stderr",
     "output_type": "stream",
     "text": [
      " 12%|█▏        | 12/100 [01:42<07:40,  5.23s/it]"
     ]
    },
    {
     "name": "stdout",
     "output_type": "stream",
     "text": [
      "Saving results to results/internvl/output_internvl.json...\n",
      "Results saved.\n",
      "\n",
      "Generating response for 12...\n"
     ]
    },
    {
     "name": "stderr",
     "output_type": "stream",
     "text": [
      " 13%|█▎        | 13/100 [01:50<08:51,  6.11s/it]"
     ]
    },
    {
     "name": "stdout",
     "output_type": "stream",
     "text": [
      "Saving results to results/internvl/output_internvl.json...\n",
      "Results saved.\n",
      "\n",
      "Generating response for 13...\n"
     ]
    },
    {
     "name": "stderr",
     "output_type": "stream",
     "text": [
      " 14%|█▍        | 14/100 [01:59<09:48,  6.84s/it]"
     ]
    },
    {
     "name": "stdout",
     "output_type": "stream",
     "text": [
      "Saving results to results/internvl/output_internvl.json...\n",
      "Results saved.\n",
      "\n",
      "Generating response for 14...\n"
     ]
    },
    {
     "name": "stderr",
     "output_type": "stream",
     "text": [
      " 15%|█▌        | 15/100 [02:07<10:12,  7.20s/it]"
     ]
    },
    {
     "name": "stdout",
     "output_type": "stream",
     "text": [
      "Saving results to results/internvl/output_internvl.json...\n",
      "Results saved.\n",
      "\n",
      "Generating response for 15...\n"
     ]
    },
    {
     "name": "stderr",
     "output_type": "stream",
     "text": [
      " 16%|█▌        | 16/100 [02:12<09:15,  6.62s/it]"
     ]
    },
    {
     "name": "stdout",
     "output_type": "stream",
     "text": [
      "Saving results to results/internvl/output_internvl.json...\n",
      "Results saved.\n",
      "\n",
      "Generating response for 16...\n"
     ]
    },
    {
     "name": "stderr",
     "output_type": "stream",
     "text": [
      " 17%|█▋        | 17/100 [02:22<10:33,  7.64s/it]"
     ]
    },
    {
     "name": "stdout",
     "output_type": "stream",
     "text": [
      "Saving results to results/internvl/output_internvl.json...\n",
      "Results saved.\n",
      "\n",
      "Generating response for 17...\n"
     ]
    },
    {
     "name": "stderr",
     "output_type": "stream",
     "text": [
      " 18%|█▊        | 18/100 [02:26<09:02,  6.62s/it]"
     ]
    },
    {
     "name": "stdout",
     "output_type": "stream",
     "text": [
      "Saving results to results/internvl/output_internvl.json...\n",
      "Results saved.\n",
      "\n",
      "Generating response for 18...\n"
     ]
    },
    {
     "name": "stderr",
     "output_type": "stream",
     "text": [
      " 19%|█▉        | 19/100 [02:29<07:28,  5.54s/it]"
     ]
    },
    {
     "name": "stdout",
     "output_type": "stream",
     "text": [
      "Saving results to results/internvl/output_internvl.json...\n",
      "Results saved.\n",
      "\n",
      "Generating response for 19...\n"
     ]
    },
    {
     "name": "stderr",
     "output_type": "stream",
     "text": [
      " 20%|██        | 20/100 [02:35<07:28,  5.61s/it]"
     ]
    },
    {
     "name": "stdout",
     "output_type": "stream",
     "text": [
      "Saving results to results/internvl/output_internvl.json...\n",
      "Results saved.\n",
      "\n",
      "Generating response for 20...\n"
     ]
    },
    {
     "name": "stderr",
     "output_type": "stream",
     "text": [
      " 21%|██        | 21/100 [02:36<05:38,  4.29s/it]"
     ]
    },
    {
     "name": "stdout",
     "output_type": "stream",
     "text": [
      "Saving results to results/internvl/output_internvl.json...\n",
      "Results saved.\n",
      "\n",
      "Generating response for 21...\n"
     ]
    },
    {
     "name": "stderr",
     "output_type": "stream",
     "text": [
      " 22%|██▏       | 22/100 [02:39<05:10,  3.98s/it]"
     ]
    },
    {
     "name": "stdout",
     "output_type": "stream",
     "text": [
      "Saving results to results/internvl/output_internvl.json...\n",
      "Results saved.\n",
      "\n",
      "Generating response for 22...\n"
     ]
    },
    {
     "name": "stderr",
     "output_type": "stream",
     "text": [
      " 23%|██▎       | 23/100 [02:54<09:18,  7.26s/it]"
     ]
    },
    {
     "name": "stdout",
     "output_type": "stream",
     "text": [
      "Saving results to results/internvl/output_internvl.json...\n",
      "Results saved.\n",
      "\n",
      "Generating response for 23...\n"
     ]
    },
    {
     "name": "stderr",
     "output_type": "stream",
     "text": [
      " 24%|██▍       | 24/100 [02:59<08:11,  6.47s/it]"
     ]
    },
    {
     "name": "stdout",
     "output_type": "stream",
     "text": [
      "Saving results to results/internvl/output_internvl.json...\n",
      "Results saved.\n",
      "\n",
      "Generating response for 24...\n"
     ]
    },
    {
     "name": "stderr",
     "output_type": "stream",
     "text": [
      " 25%|██▌       | 25/100 [03:06<08:20,  6.68s/it]"
     ]
    },
    {
     "name": "stdout",
     "output_type": "stream",
     "text": [
      "Saving results to results/internvl/output_internvl.json...\n",
      "Results saved.\n",
      "\n",
      "Generating response for 25...\n"
     ]
    },
    {
     "name": "stderr",
     "output_type": "stream",
     "text": [
      " 26%|██▌       | 26/100 [03:11<07:43,  6.26s/it]"
     ]
    },
    {
     "name": "stdout",
     "output_type": "stream",
     "text": [
      "Saving results to results/internvl/output_internvl.json...\n",
      "Results saved.\n",
      "\n",
      "Generating response for 26...\n"
     ]
    },
    {
     "name": "stderr",
     "output_type": "stream",
     "text": [
      " 27%|██▋       | 27/100 [03:14<06:06,  5.02s/it]"
     ]
    },
    {
     "name": "stdout",
     "output_type": "stream",
     "text": [
      "Saving results to results/internvl/output_internvl.json...\n",
      "Results saved.\n",
      "\n",
      "Generating response for 27...\n"
     ]
    },
    {
     "name": "stderr",
     "output_type": "stream",
     "text": [
      " 28%|██▊       | 28/100 [03:24<08:06,  6.76s/it]"
     ]
    },
    {
     "name": "stdout",
     "output_type": "stream",
     "text": [
      "Saving results to results/internvl/output_internvl.json...\n",
      "Results saved.\n",
      "\n",
      "Generating response for 28...\n"
     ]
    },
    {
     "name": "stderr",
     "output_type": "stream",
     "text": [
      " 29%|██▉       | 29/100 [03:28<06:47,  5.73s/it]"
     ]
    },
    {
     "name": "stdout",
     "output_type": "stream",
     "text": [
      "Saving results to results/internvl/output_internvl.json...\n",
      "Results saved.\n",
      "\n",
      "Generating response for 29...\n"
     ]
    },
    {
     "name": "stderr",
     "output_type": "stream",
     "text": [
      " 30%|███       | 30/100 [03:41<09:18,  7.98s/it]"
     ]
    },
    {
     "name": "stdout",
     "output_type": "stream",
     "text": [
      "Saving results to results/internvl/output_internvl.json...\n",
      "Results saved.\n",
      "\n",
      "Generating response for 30...\n"
     ]
    },
    {
     "name": "stderr",
     "output_type": "stream",
     "text": [
      " 31%|███       | 31/100 [03:47<08:35,  7.48s/it]"
     ]
    },
    {
     "name": "stdout",
     "output_type": "stream",
     "text": [
      "Saving results to results/internvl/output_internvl.json...\n",
      "Results saved.\n",
      "\n",
      "Generating response for 31...\n"
     ]
    },
    {
     "name": "stderr",
     "output_type": "stream",
     "text": [
      " 32%|███▏      | 32/100 [03:59<10:02,  8.87s/it]"
     ]
    },
    {
     "name": "stdout",
     "output_type": "stream",
     "text": [
      "Saving results to results/internvl/output_internvl.json...\n",
      "Results saved.\n",
      "\n",
      "Generating response for 32...\n"
     ]
    },
    {
     "name": "stderr",
     "output_type": "stream",
     "text": [
      " 33%|███▎      | 33/100 [04:11<10:45,  9.63s/it]"
     ]
    },
    {
     "name": "stdout",
     "output_type": "stream",
     "text": [
      "Saving results to results/internvl/output_internvl.json...\n",
      "Results saved.\n",
      "\n",
      "Generating response for 33...\n"
     ]
    },
    {
     "name": "stderr",
     "output_type": "stream",
     "text": [
      " 34%|███▍      | 34/100 [04:30<13:55, 12.66s/it]"
     ]
    },
    {
     "name": "stdout",
     "output_type": "stream",
     "text": [
      "Saving results to results/internvl/output_internvl.json...\n",
      "Results saved.\n",
      "\n",
      "Generating response for 34...\n"
     ]
    },
    {
     "name": "stderr",
     "output_type": "stream",
     "text": [
      " 35%|███▌      | 35/100 [05:00<19:09, 17.68s/it]"
     ]
    },
    {
     "name": "stdout",
     "output_type": "stream",
     "text": [
      "Saving results to results/internvl/output_internvl.json...\n",
      "Results saved.\n",
      "\n",
      "Generating response for 35...\n"
     ]
    },
    {
     "name": "stderr",
     "output_type": "stream",
     "text": [
      " 36%|███▌      | 36/100 [05:02<13:47, 12.93s/it]"
     ]
    },
    {
     "name": "stdout",
     "output_type": "stream",
     "text": [
      "Saving results to results/internvl/output_internvl.json...\n",
      "Results saved.\n",
      "\n",
      "Generating response for 36...\n"
     ]
    },
    {
     "name": "stderr",
     "output_type": "stream",
     "text": [
      " 37%|███▋      | 37/100 [05:17<14:11, 13.52s/it]"
     ]
    },
    {
     "name": "stdout",
     "output_type": "stream",
     "text": [
      "Saving results to results/internvl/output_internvl.json...\n",
      "Results saved.\n",
      "\n",
      "Generating response for 37...\n"
     ]
    },
    {
     "name": "stderr",
     "output_type": "stream",
     "text": [
      " 38%|███▊      | 38/100 [05:19<10:40, 10.33s/it]"
     ]
    },
    {
     "name": "stdout",
     "output_type": "stream",
     "text": [
      "Saving results to results/internvl/output_internvl.json...\n",
      "Results saved.\n",
      "\n",
      "Generating response for 38...\n"
     ]
    },
    {
     "name": "stderr",
     "output_type": "stream",
     "text": [
      " 39%|███▉      | 39/100 [05:33<11:24, 11.22s/it]"
     ]
    },
    {
     "name": "stdout",
     "output_type": "stream",
     "text": [
      "Saving results to results/internvl/output_internvl.json...\n",
      "Results saved.\n",
      "\n",
      "Generating response for 39...\n"
     ]
    },
    {
     "name": "stderr",
     "output_type": "stream",
     "text": [
      " 40%|████      | 40/100 [05:34<08:21,  8.36s/it]"
     ]
    },
    {
     "name": "stdout",
     "output_type": "stream",
     "text": [
      "Saving results to results/internvl/output_internvl.json...\n",
      "Results saved.\n",
      "\n",
      "Generating response for 40...\n"
     ]
    },
    {
     "name": "stderr",
     "output_type": "stream",
     "text": [
      " 41%|████      | 41/100 [05:37<06:24,  6.51s/it]"
     ]
    },
    {
     "name": "stdout",
     "output_type": "stream",
     "text": [
      "Saving results to results/internvl/output_internvl.json...\n",
      "Results saved.\n",
      "\n",
      "Generating response for 41...\n"
     ]
    },
    {
     "name": "stderr",
     "output_type": "stream",
     "text": [
      " 42%|████▏     | 42/100 [05:39<05:02,  5.21s/it]"
     ]
    },
    {
     "name": "stdout",
     "output_type": "stream",
     "text": [
      "Saving results to results/internvl/output_internvl.json...\n",
      "Results saved.\n",
      "\n",
      "Generating response for 42...\n"
     ]
    },
    {
     "name": "stderr",
     "output_type": "stream",
     "text": [
      " 43%|████▎     | 43/100 [05:52<07:04,  7.45s/it]"
     ]
    },
    {
     "name": "stdout",
     "output_type": "stream",
     "text": [
      "Saving results to results/internvl/output_internvl.json...\n",
      "Results saved.\n",
      "\n",
      "Generating response for 43...\n"
     ]
    },
    {
     "name": "stderr",
     "output_type": "stream",
     "text": [
      " 44%|████▍     | 44/100 [06:00<07:19,  7.84s/it]"
     ]
    },
    {
     "name": "stdout",
     "output_type": "stream",
     "text": [
      "Saving results to results/internvl/output_internvl.json...\n",
      "Results saved.\n",
      "\n",
      "Generating response for 44...\n"
     ]
    },
    {
     "name": "stderr",
     "output_type": "stream",
     "text": [
      " 45%|████▌     | 45/100 [06:08<07:10,  7.82s/it]"
     ]
    },
    {
     "name": "stdout",
     "output_type": "stream",
     "text": [
      "Saving results to results/internvl/output_internvl.json...\n",
      "Results saved.\n",
      "\n",
      "Generating response for 45...\n"
     ]
    },
    {
     "name": "stderr",
     "output_type": "stream",
     "text": [
      " 46%|████▌     | 46/100 [06:13<06:16,  6.97s/it]"
     ]
    },
    {
     "name": "stdout",
     "output_type": "stream",
     "text": [
      "Saving results to results/internvl/output_internvl.json...\n",
      "Results saved.\n",
      "\n",
      "Generating response for 46...\n"
     ]
    },
    {
     "name": "stderr",
     "output_type": "stream",
     "text": [
      " 47%|████▋     | 47/100 [06:20<06:07,  6.93s/it]"
     ]
    },
    {
     "name": "stdout",
     "output_type": "stream",
     "text": [
      "Saving results to results/internvl/output_internvl.json...\n",
      "Results saved.\n",
      "\n",
      "Generating response for 47...\n"
     ]
    },
    {
     "name": "stderr",
     "output_type": "stream",
     "text": [
      " 48%|████▊     | 48/100 [06:35<08:00,  9.23s/it]"
     ]
    },
    {
     "name": "stdout",
     "output_type": "stream",
     "text": [
      "Saving results to results/internvl/output_internvl.json...\n",
      "Results saved.\n",
      "\n",
      "Generating response for 48...\n"
     ]
    },
    {
     "name": "stderr",
     "output_type": "stream",
     "text": [
      " 49%|████▉     | 49/100 [06:38<06:19,  7.43s/it]"
     ]
    },
    {
     "name": "stdout",
     "output_type": "stream",
     "text": [
      "Saving results to results/internvl/output_internvl.json...\n",
      "Results saved.\n",
      "\n",
      "Generating response for 49...\n"
     ]
    },
    {
     "name": "stderr",
     "output_type": "stream",
     "text": [
      " 50%|█████     | 50/100 [06:44<05:55,  7.12s/it]"
     ]
    },
    {
     "name": "stdout",
     "output_type": "stream",
     "text": [
      "Saving results to results/internvl/output_internvl.json...\n",
      "Results saved.\n",
      "\n",
      "Generating response for 50...\n"
     ]
    },
    {
     "name": "stderr",
     "output_type": "stream",
     "text": [
      " 51%|█████     | 51/100 [06:49<05:21,  6.57s/it]"
     ]
    },
    {
     "name": "stdout",
     "output_type": "stream",
     "text": [
      "Saving results to results/internvl/output_internvl.json...\n",
      "Results saved.\n",
      "\n",
      "Generating response for 51...\n"
     ]
    },
    {
     "name": "stderr",
     "output_type": "stream",
     "text": [
      " 52%|█████▏    | 52/100 [06:52<04:16,  5.34s/it]"
     ]
    },
    {
     "name": "stdout",
     "output_type": "stream",
     "text": [
      "Saving results to results/internvl/output_internvl.json...\n",
      "Results saved.\n",
      "\n",
      "Generating response for 52...\n"
     ]
    },
    {
     "name": "stderr",
     "output_type": "stream",
     "text": [
      " 53%|█████▎    | 53/100 [06:55<03:33,  4.54s/it]"
     ]
    },
    {
     "name": "stdout",
     "output_type": "stream",
     "text": [
      "Saving results to results/internvl/output_internvl.json...\n",
      "Results saved.\n",
      "\n",
      "Generating response for 53...\n"
     ]
    },
    {
     "name": "stderr",
     "output_type": "stream",
     "text": [
      " 54%|█████▍    | 54/100 [07:04<04:34,  5.96s/it]"
     ]
    },
    {
     "name": "stdout",
     "output_type": "stream",
     "text": [
      "Saving results to results/internvl/output_internvl.json...\n",
      "Results saved.\n",
      "\n",
      "Generating response for 54...\n"
     ]
    },
    {
     "name": "stderr",
     "output_type": "stream",
     "text": [
      " 55%|█████▌    | 55/100 [07:19<06:36,  8.80s/it]"
     ]
    },
    {
     "name": "stdout",
     "output_type": "stream",
     "text": [
      "Saving results to results/internvl/output_internvl.json...\n",
      "Results saved.\n",
      "\n",
      "Generating response for 55...\n"
     ]
    },
    {
     "name": "stderr",
     "output_type": "stream",
     "text": [
      " 56%|█████▌    | 56/100 [07:25<05:47,  7.90s/it]"
     ]
    },
    {
     "name": "stdout",
     "output_type": "stream",
     "text": [
      "Saving results to results/internvl/output_internvl.json...\n",
      "Results saved.\n",
      "\n",
      "Generating response for 56...\n"
     ]
    },
    {
     "name": "stderr",
     "output_type": "stream",
     "text": [
      " 57%|█████▋    | 57/100 [07:28<04:30,  6.29s/it]"
     ]
    },
    {
     "name": "stdout",
     "output_type": "stream",
     "text": [
      "Saving results to results/internvl/output_internvl.json...\n",
      "Results saved.\n",
      "\n",
      "Generating response for 57...\n"
     ]
    },
    {
     "name": "stderr",
     "output_type": "stream",
     "text": [
      " 58%|█████▊    | 58/100 [07:34<04:27,  6.38s/it]"
     ]
    },
    {
     "name": "stdout",
     "output_type": "stream",
     "text": [
      "Saving results to results/internvl/output_internvl.json...\n",
      "Results saved.\n",
      "\n",
      "Generating response for 58...\n"
     ]
    },
    {
     "name": "stderr",
     "output_type": "stream",
     "text": [
      " 59%|█████▉    | 59/100 [07:47<05:35,  8.18s/it]"
     ]
    },
    {
     "name": "stdout",
     "output_type": "stream",
     "text": [
      "Saving results to results/internvl/output_internvl.json...\n",
      "Results saved.\n",
      "\n",
      "Generating response for 59...\n"
     ]
    },
    {
     "name": "stderr",
     "output_type": "stream",
     "text": [
      " 60%|██████    | 60/100 [07:51<04:37,  6.93s/it]"
     ]
    },
    {
     "name": "stdout",
     "output_type": "stream",
     "text": [
      "Saving results to results/internvl/output_internvl.json...\n",
      "Results saved.\n",
      "\n",
      "Generating response for 60...\n"
     ]
    },
    {
     "name": "stderr",
     "output_type": "stream",
     "text": [
      " 61%|██████    | 61/100 [07:57<04:26,  6.85s/it]"
     ]
    },
    {
     "name": "stdout",
     "output_type": "stream",
     "text": [
      "Saving results to results/internvl/output_internvl.json...\n",
      "Results saved.\n",
      "\n",
      "Generating response for 61...\n"
     ]
    },
    {
     "name": "stderr",
     "output_type": "stream",
     "text": [
      " 62%|██████▏   | 62/100 [08:14<06:17,  9.93s/it]"
     ]
    },
    {
     "name": "stdout",
     "output_type": "stream",
     "text": [
      "Saving results to results/internvl/output_internvl.json...\n",
      "Results saved.\n",
      "\n",
      "Generating response for 62...\n"
     ]
    },
    {
     "name": "stderr",
     "output_type": "stream",
     "text": [
      " 63%|██████▎   | 63/100 [08:21<05:33,  9.00s/it]"
     ]
    },
    {
     "name": "stdout",
     "output_type": "stream",
     "text": [
      "Saving results to results/internvl/output_internvl.json...\n",
      "Results saved.\n",
      "\n",
      "Generating response for 63...\n"
     ]
    },
    {
     "name": "stderr",
     "output_type": "stream",
     "text": [
      " 64%|██████▍   | 64/100 [08:34<06:04, 10.12s/it]"
     ]
    },
    {
     "name": "stdout",
     "output_type": "stream",
     "text": [
      "Saving results to results/internvl/output_internvl.json...\n",
      "Results saved.\n",
      "\n",
      "Generating response for 64...\n"
     ]
    },
    {
     "name": "stderr",
     "output_type": "stream",
     "text": [
      " 65%|██████▌   | 65/100 [08:48<06:32, 11.21s/it]"
     ]
    },
    {
     "name": "stdout",
     "output_type": "stream",
     "text": [
      "Saving results to results/internvl/output_internvl.json...\n",
      "Results saved.\n",
      "\n",
      "Generating response for 65...\n"
     ]
    },
    {
     "name": "stderr",
     "output_type": "stream",
     "text": [
      " 66%|██████▌   | 66/100 [08:52<05:15,  9.27s/it]"
     ]
    },
    {
     "name": "stdout",
     "output_type": "stream",
     "text": [
      "Saving results to results/internvl/output_internvl.json...\n",
      "Results saved.\n",
      "\n",
      "Generating response for 66...\n"
     ]
    },
    {
     "name": "stderr",
     "output_type": "stream",
     "text": [
      " 67%|██████▋   | 67/100 [08:56<04:05,  7.43s/it]"
     ]
    },
    {
     "name": "stdout",
     "output_type": "stream",
     "text": [
      "Saving results to results/internvl/output_internvl.json...\n",
      "Results saved.\n",
      "\n",
      "Generating response for 67...\n"
     ]
    },
    {
     "name": "stderr",
     "output_type": "stream",
     "text": [
      " 68%|██████▊   | 68/100 [09:07<04:35,  8.61s/it]"
     ]
    },
    {
     "name": "stdout",
     "output_type": "stream",
     "text": [
      "Saving results to results/internvl/output_internvl.json...\n",
      "Results saved.\n",
      "\n",
      "Generating response for 68...\n"
     ]
    },
    {
     "name": "stderr",
     "output_type": "stream",
     "text": [
      " 69%|██████▉   | 69/100 [09:10<03:31,  6.84s/it]"
     ]
    },
    {
     "name": "stdout",
     "output_type": "stream",
     "text": [
      "Saving results to results/internvl/output_internvl.json...\n",
      "Results saved.\n",
      "\n",
      "Generating response for 69...\n"
     ]
    },
    {
     "name": "stderr",
     "output_type": "stream",
     "text": [
      " 70%|███████   | 70/100 [09:13<02:51,  5.72s/it]"
     ]
    },
    {
     "name": "stdout",
     "output_type": "stream",
     "text": [
      "Saving results to results/internvl/output_internvl.json...\n",
      "Results saved.\n",
      "\n",
      "Generating response for 70...\n"
     ]
    },
    {
     "name": "stderr",
     "output_type": "stream",
     "text": [
      " 71%|███████   | 71/100 [09:18<02:41,  5.57s/it]"
     ]
    },
    {
     "name": "stdout",
     "output_type": "stream",
     "text": [
      "Saving results to results/internvl/output_internvl.json...\n",
      "Results saved.\n",
      "\n",
      "Generating response for 71...\n"
     ]
    },
    {
     "name": "stderr",
     "output_type": "stream",
     "text": [
      " 72%|███████▏  | 72/100 [09:23<02:35,  5.57s/it]"
     ]
    },
    {
     "name": "stdout",
     "output_type": "stream",
     "text": [
      "Saving results to results/internvl/output_internvl.json...\n",
      "Results saved.\n",
      "\n",
      "Generating response for 72...\n"
     ]
    },
    {
     "name": "stderr",
     "output_type": "stream",
     "text": [
      " 73%|███████▎  | 73/100 [09:56<06:10, 13.73s/it]"
     ]
    },
    {
     "name": "stdout",
     "output_type": "stream",
     "text": [
      "Saving results to results/internvl/output_internvl.json...\n",
      "Results saved.\n",
      "\n",
      "Generating response for 73...\n"
     ]
    },
    {
     "name": "stderr",
     "output_type": "stream",
     "text": [
      " 74%|███████▍  | 74/100 [10:02<04:57, 11.42s/it]"
     ]
    },
    {
     "name": "stdout",
     "output_type": "stream",
     "text": [
      "Saving results to results/internvl/output_internvl.json...\n",
      "Results saved.\n",
      "\n",
      "Generating response for 74...\n"
     ]
    },
    {
     "name": "stderr",
     "output_type": "stream",
     "text": [
      " 75%|███████▌  | 75/100 [10:09<04:06,  9.86s/it]"
     ]
    },
    {
     "name": "stdout",
     "output_type": "stream",
     "text": [
      "Saving results to results/internvl/output_internvl.json...\n",
      "Results saved.\n",
      "\n",
      "Generating response for 75...\n"
     ]
    },
    {
     "name": "stderr",
     "output_type": "stream",
     "text": [
      " 76%|███████▌  | 76/100 [10:16<03:42,  9.26s/it]"
     ]
    },
    {
     "name": "stdout",
     "output_type": "stream",
     "text": [
      "Saving results to results/internvl/output_internvl.json...\n",
      "Results saved.\n",
      "\n",
      "Generating response for 76...\n"
     ]
    },
    {
     "name": "stderr",
     "output_type": "stream",
     "text": [
      " 77%|███████▋  | 77/100 [10:22<03:10,  8.26s/it]"
     ]
    },
    {
     "name": "stdout",
     "output_type": "stream",
     "text": [
      "Saving results to results/internvl/output_internvl.json...\n",
      "Results saved.\n",
      "\n",
      "Generating response for 77...\n"
     ]
    },
    {
     "name": "stderr",
     "output_type": "stream",
     "text": [
      " 78%|███████▊  | 78/100 [10:29<02:50,  7.75s/it]"
     ]
    },
    {
     "name": "stdout",
     "output_type": "stream",
     "text": [
      "Saving results to results/internvl/output_internvl.json...\n",
      "Results saved.\n",
      "\n",
      "Generating response for 78...\n"
     ]
    },
    {
     "name": "stderr",
     "output_type": "stream",
     "text": [
      " 79%|███████▉  | 79/100 [10:48<03:55, 11.20s/it]"
     ]
    },
    {
     "name": "stdout",
     "output_type": "stream",
     "text": [
      "Saving results to results/internvl/output_internvl.json...\n",
      "Results saved.\n",
      "\n",
      "Generating response for 79...\n"
     ]
    },
    {
     "name": "stderr",
     "output_type": "stream",
     "text": [
      " 80%|████████  | 80/100 [10:56<03:25, 10.28s/it]"
     ]
    },
    {
     "name": "stdout",
     "output_type": "stream",
     "text": [
      "Saving results to results/internvl/output_internvl.json...\n",
      "Results saved.\n",
      "\n",
      "Generating response for 80...\n"
     ]
    },
    {
     "name": "stderr",
     "output_type": "stream",
     "text": [
      " 81%|████████  | 81/100 [11:07<03:15, 10.30s/it]"
     ]
    },
    {
     "name": "stdout",
     "output_type": "stream",
     "text": [
      "Saving results to results/internvl/output_internvl.json...\n",
      "Results saved.\n",
      "\n",
      "Generating response for 81...\n"
     ]
    },
    {
     "name": "stderr",
     "output_type": "stream",
     "text": [
      " 82%|████████▏ | 82/100 [11:20<03:19, 11.11s/it]"
     ]
    },
    {
     "name": "stdout",
     "output_type": "stream",
     "text": [
      "Saving results to results/internvl/output_internvl.json...\n",
      "Results saved.\n",
      "\n",
      "Generating response for 82...\n"
     ]
    },
    {
     "name": "stderr",
     "output_type": "stream",
     "text": [
      " 83%|████████▎ | 83/100 [11:27<02:52, 10.12s/it]"
     ]
    },
    {
     "name": "stdout",
     "output_type": "stream",
     "text": [
      "Saving results to results/internvl/output_internvl.json...\n",
      "Results saved.\n",
      "\n",
      "Generating response for 83...\n"
     ]
    },
    {
     "name": "stderr",
     "output_type": "stream",
     "text": [
      " 84%|████████▍ | 84/100 [11:45<03:16, 12.26s/it]"
     ]
    },
    {
     "name": "stdout",
     "output_type": "stream",
     "text": [
      "Saving results to results/internvl/output_internvl.json...\n",
      "Results saved.\n",
      "\n",
      "Generating response for 84...\n"
     ]
    },
    {
     "name": "stderr",
     "output_type": "stream",
     "text": [
      " 85%|████████▌ | 85/100 [11:52<02:43, 10.87s/it]"
     ]
    },
    {
     "name": "stdout",
     "output_type": "stream",
     "text": [
      "Saving results to results/internvl/output_internvl.json...\n",
      "Results saved.\n",
      "\n",
      "Generating response for 85...\n"
     ]
    },
    {
     "name": "stderr",
     "output_type": "stream",
     "text": [
      " 86%|████████▌ | 86/100 [12:07<02:46, 11.91s/it]"
     ]
    },
    {
     "name": "stdout",
     "output_type": "stream",
     "text": [
      "Saving results to results/internvl/output_internvl.json...\n",
      "Results saved.\n",
      "\n",
      "Generating response for 86...\n"
     ]
    },
    {
     "name": "stderr",
     "output_type": "stream",
     "text": [
      " 87%|████████▋ | 87/100 [12:13<02:14, 10.32s/it]"
     ]
    },
    {
     "name": "stdout",
     "output_type": "stream",
     "text": [
      "Saving results to results/internvl/output_internvl.json...\n",
      "Results saved.\n",
      "\n",
      "Generating response for 87...\n"
     ]
    },
    {
     "name": "stderr",
     "output_type": "stream",
     "text": [
      " 88%|████████▊ | 88/100 [12:25<02:08, 10.68s/it]"
     ]
    },
    {
     "name": "stdout",
     "output_type": "stream",
     "text": [
      "Saving results to results/internvl/output_internvl.json...\n",
      "Results saved.\n",
      "\n",
      "Generating response for 88...\n"
     ]
    },
    {
     "name": "stderr",
     "output_type": "stream",
     "text": [
      " 89%|████████▉ | 89/100 [12:28<01:33,  8.51s/it]"
     ]
    },
    {
     "name": "stdout",
     "output_type": "stream",
     "text": [
      "Saving results to results/internvl/output_internvl.json...\n",
      "Results saved.\n",
      "\n",
      "Generating response for 89...\n"
     ]
    },
    {
     "name": "stderr",
     "output_type": "stream",
     "text": [
      " 90%|█████████ | 90/100 [12:31<01:08,  6.81s/it]"
     ]
    },
    {
     "name": "stdout",
     "output_type": "stream",
     "text": [
      "Saving results to results/internvl/output_internvl.json...\n",
      "Results saved.\n",
      "\n",
      "Generating response for 90...\n"
     ]
    },
    {
     "name": "stderr",
     "output_type": "stream",
     "text": [
      " 91%|█████████ | 91/100 [12:35<00:54,  6.08s/it]"
     ]
    },
    {
     "name": "stdout",
     "output_type": "stream",
     "text": [
      "Saving results to results/internvl/output_internvl.json...\n",
      "Results saved.\n",
      "\n",
      "Generating response for 91...\n"
     ]
    },
    {
     "name": "stderr",
     "output_type": "stream",
     "text": [
      " 92%|█████████▏| 92/100 [12:40<00:43,  5.48s/it]"
     ]
    },
    {
     "name": "stdout",
     "output_type": "stream",
     "text": [
      "Saving results to results/internvl/output_internvl.json...\n",
      "Results saved.\n",
      "\n",
      "Generating response for 92...\n"
     ]
    },
    {
     "name": "stderr",
     "output_type": "stream",
     "text": [
      " 93%|█████████▎| 93/100 [12:48<00:44,  6.34s/it]"
     ]
    },
    {
     "name": "stdout",
     "output_type": "stream",
     "text": [
      "Saving results to results/internvl/output_internvl.json...\n",
      "Results saved.\n",
      "\n",
      "Generating response for 93...\n"
     ]
    },
    {
     "name": "stderr",
     "output_type": "stream",
     "text": [
      " 94%|█████████▍| 94/100 [12:59<00:46,  7.67s/it]"
     ]
    },
    {
     "name": "stdout",
     "output_type": "stream",
     "text": [
      "Saving results to results/internvl/output_internvl.json...\n",
      "Results saved.\n",
      "\n",
      "Generating response for 94...\n"
     ]
    },
    {
     "name": "stderr",
     "output_type": "stream",
     "text": [
      " 95%|█████████▌| 95/100 [13:17<00:54, 10.99s/it]"
     ]
    },
    {
     "name": "stdout",
     "output_type": "stream",
     "text": [
      "Saving results to results/internvl/output_internvl.json...\n",
      "Results saved.\n",
      "\n",
      "Generating response for 95...\n"
     ]
    },
    {
     "name": "stderr",
     "output_type": "stream",
     "text": [
      " 96%|█████████▌| 96/100 [13:22<00:36,  9.23s/it]"
     ]
    },
    {
     "name": "stdout",
     "output_type": "stream",
     "text": [
      "Saving results to results/internvl/output_internvl.json...\n",
      "Results saved.\n",
      "\n",
      "Generating response for 96...\n"
     ]
    },
    {
     "name": "stderr",
     "output_type": "stream",
     "text": [
      " 97%|█████████▋| 97/100 [13:26<00:22,  7.65s/it]"
     ]
    },
    {
     "name": "stdout",
     "output_type": "stream",
     "text": [
      "Saving results to results/internvl/output_internvl.json...\n",
      "Results saved.\n",
      "\n",
      "Generating response for 97...\n"
     ]
    },
    {
     "name": "stderr",
     "output_type": "stream",
     "text": [
      " 98%|█████████▊| 98/100 [13:30<00:12,  6.48s/it]"
     ]
    },
    {
     "name": "stdout",
     "output_type": "stream",
     "text": [
      "Saving results to results/internvl/output_internvl.json...\n",
      "Results saved.\n",
      "\n",
      "Generating response for 98...\n"
     ]
    },
    {
     "name": "stderr",
     "output_type": "stream",
     "text": [
      " 99%|█████████▉| 99/100 [13:33<00:05,  5.40s/it]"
     ]
    },
    {
     "name": "stdout",
     "output_type": "stream",
     "text": [
      "Saving results to results/internvl/output_internvl.json...\n",
      "Results saved.\n",
      "\n",
      "Generating response for 99...\n"
     ]
    },
    {
     "name": "stderr",
     "output_type": "stream",
     "text": [
      "100%|██████████| 100/100 [13:40<00:00,  8.21s/it]\n"
     ]
    },
    {
     "name": "stdout",
     "output_type": "stream",
     "text": [
      "Saving results to results/internvl/output_internvl.json...\n",
      "Results saved.\n"
     ]
    },
    {
     "name": "stderr",
     "output_type": "stream",
     "text": [
      "  0%|          | 0/100 [00:00<?, ?it/s]"
     ]
    },
    {
     "name": "stdout",
     "output_type": "stream",
     "text": [
      "\n",
      "Generating response for 0...\n"
     ]
    },
    {
     "name": "stderr",
     "output_type": "stream",
     "text": [
      "  1%|          | 1/100 [00:23<38:18, 23.22s/it]"
     ]
    },
    {
     "name": "stdout",
     "output_type": "stream",
     "text": [
      "Saving results to results/internvl/output_internvl.json...\n",
      "Results saved.\n",
      "\n",
      "Generating response for 1...\n"
     ]
    },
    {
     "name": "stderr",
     "output_type": "stream",
     "text": [
      "  2%|▏         | 2/100 [00:25<17:59, 11.02s/it]"
     ]
    },
    {
     "name": "stdout",
     "output_type": "stream",
     "text": [
      "Saving results to results/internvl/output_internvl.json...\n",
      "Results saved.\n",
      "\n",
      "Generating response for 2...\n"
     ]
    },
    {
     "name": "stderr",
     "output_type": "stream",
     "text": [
      "  3%|▎         | 3/100 [00:47<25:33, 15.81s/it]"
     ]
    },
    {
     "name": "stdout",
     "output_type": "stream",
     "text": [
      "Saving results to results/internvl/output_internvl.json...\n",
      "Results saved.\n",
      "\n",
      "Generating response for 3...\n"
     ]
    },
    {
     "name": "stderr",
     "output_type": "stream",
     "text": [
      "  4%|▍         | 4/100 [00:49<16:36, 10.38s/it]"
     ]
    },
    {
     "name": "stdout",
     "output_type": "stream",
     "text": [
      "Saving results to results/internvl/output_internvl.json...\n",
      "Results saved.\n",
      "\n",
      "Generating response for 4...\n"
     ]
    },
    {
     "name": "stderr",
     "output_type": "stream",
     "text": [
      "  5%|▌         | 5/100 [01:02<18:18, 11.57s/it]"
     ]
    },
    {
     "name": "stdout",
     "output_type": "stream",
     "text": [
      "Saving results to results/internvl/output_internvl.json...\n",
      "Results saved.\n",
      "\n",
      "Generating response for 5...\n"
     ]
    },
    {
     "name": "stderr",
     "output_type": "stream",
     "text": [
      "  6%|▌         | 6/100 [01:12<16:55, 10.80s/it]"
     ]
    },
    {
     "name": "stdout",
     "output_type": "stream",
     "text": [
      "Saving results to results/internvl/output_internvl.json...\n",
      "Results saved.\n",
      "\n",
      "Generating response for 6...\n"
     ]
    },
    {
     "name": "stderr",
     "output_type": "stream",
     "text": [
      "  7%|▋         | 7/100 [01:14<12:34,  8.11s/it]"
     ]
    },
    {
     "name": "stdout",
     "output_type": "stream",
     "text": [
      "Saving results to results/internvl/output_internvl.json...\n",
      "Results saved.\n",
      "\n",
      "Generating response for 7...\n"
     ]
    },
    {
     "name": "stderr",
     "output_type": "stream",
     "text": [
      "  8%|▊         | 8/100 [01:22<12:01,  7.85s/it]"
     ]
    },
    {
     "name": "stdout",
     "output_type": "stream",
     "text": [
      "Saving results to results/internvl/output_internvl.json...\n",
      "Results saved.\n",
      "\n",
      "Generating response for 8...\n"
     ]
    },
    {
     "name": "stderr",
     "output_type": "stream",
     "text": [
      "  9%|▉         | 9/100 [01:33<13:28,  8.88s/it]"
     ]
    },
    {
     "name": "stdout",
     "output_type": "stream",
     "text": [
      "Saving results to results/internvl/output_internvl.json...\n",
      "Results saved.\n",
      "\n",
      "Generating response for 9...\n"
     ]
    },
    {
     "name": "stderr",
     "output_type": "stream",
     "text": [
      " 10%|█         | 10/100 [01:41<13:08,  8.76s/it]"
     ]
    },
    {
     "name": "stdout",
     "output_type": "stream",
     "text": [
      "Saving results to results/internvl/output_internvl.json...\n",
      "Results saved.\n",
      "\n",
      "Generating response for 10...\n"
     ]
    },
    {
     "name": "stderr",
     "output_type": "stream",
     "text": [
      " 11%|█         | 11/100 [01:44<10:08,  6.84s/it]"
     ]
    },
    {
     "name": "stdout",
     "output_type": "stream",
     "text": [
      "Saving results to results/internvl/output_internvl.json...\n",
      "Results saved.\n",
      "\n",
      "Generating response for 11...\n"
     ]
    },
    {
     "name": "stderr",
     "output_type": "stream",
     "text": [
      " 12%|█▏        | 12/100 [01:47<08:30,  5.80s/it]"
     ]
    },
    {
     "name": "stdout",
     "output_type": "stream",
     "text": [
      "Saving results to results/internvl/output_internvl.json...\n",
      "Results saved.\n",
      "\n",
      "Generating response for 12...\n"
     ]
    },
    {
     "name": "stderr",
     "output_type": "stream",
     "text": [
      " 13%|█▎        | 13/100 [01:51<07:36,  5.25s/it]"
     ]
    },
    {
     "name": "stdout",
     "output_type": "stream",
     "text": [
      "Saving results to results/internvl/output_internvl.json...\n",
      "Results saved.\n",
      "\n",
      "Generating response for 13...\n"
     ]
    },
    {
     "name": "stderr",
     "output_type": "stream",
     "text": [
      " 14%|█▍        | 14/100 [01:59<08:49,  6.15s/it]"
     ]
    },
    {
     "name": "stdout",
     "output_type": "stream",
     "text": [
      "Saving results to results/internvl/output_internvl.json...\n",
      "Results saved.\n",
      "\n",
      "Generating response for 14...\n"
     ]
    },
    {
     "name": "stderr",
     "output_type": "stream",
     "text": [
      " 15%|█▌        | 15/100 [02:09<10:04,  7.11s/it]"
     ]
    },
    {
     "name": "stdout",
     "output_type": "stream",
     "text": [
      "Saving results to results/internvl/output_internvl.json...\n",
      "Results saved.\n",
      "\n",
      "Generating response for 15...\n"
     ]
    },
    {
     "name": "stderr",
     "output_type": "stream",
     "text": [
      " 16%|█▌        | 16/100 [02:15<09:32,  6.82s/it]"
     ]
    },
    {
     "name": "stdout",
     "output_type": "stream",
     "text": [
      "Saving results to results/internvl/output_internvl.json...\n",
      "Results saved.\n",
      "\n",
      "Generating response for 16...\n"
     ]
    },
    {
     "name": "stderr",
     "output_type": "stream",
     "text": [
      " 17%|█▋        | 17/100 [02:25<10:52,  7.86s/it]"
     ]
    },
    {
     "name": "stdout",
     "output_type": "stream",
     "text": [
      "Saving results to results/internvl/output_internvl.json...\n",
      "Results saved.\n",
      "\n",
      "Generating response for 17...\n"
     ]
    },
    {
     "name": "stderr",
     "output_type": "stream",
     "text": [
      " 18%|█▊        | 18/100 [02:29<09:14,  6.76s/it]"
     ]
    },
    {
     "name": "stdout",
     "output_type": "stream",
     "text": [
      "Saving results to results/internvl/output_internvl.json...\n",
      "Results saved.\n",
      "\n",
      "Generating response for 18...\n"
     ]
    },
    {
     "name": "stderr",
     "output_type": "stream",
     "text": [
      " 19%|█▉        | 19/100 [02:32<07:20,  5.44s/it]"
     ]
    },
    {
     "name": "stdout",
     "output_type": "stream",
     "text": [
      "Saving results to results/internvl/output_internvl.json...\n",
      "Results saved.\n",
      "\n",
      "Generating response for 19...\n"
     ]
    },
    {
     "name": "stderr",
     "output_type": "stream",
     "text": [
      " 20%|██        | 20/100 [02:40<08:30,  6.39s/it]"
     ]
    },
    {
     "name": "stdout",
     "output_type": "stream",
     "text": [
      "Saving results to results/internvl/output_internvl.json...\n",
      "Results saved.\n",
      "\n",
      "Generating response for 20...\n"
     ]
    },
    {
     "name": "stderr",
     "output_type": "stream",
     "text": [
      " 21%|██        | 21/100 [02:41<06:19,  4.81s/it]"
     ]
    },
    {
     "name": "stdout",
     "output_type": "stream",
     "text": [
      "Saving results to results/internvl/output_internvl.json...\n",
      "Results saved.\n",
      "\n",
      "Generating response for 21...\n"
     ]
    },
    {
     "name": "stderr",
     "output_type": "stream",
     "text": [
      " 22%|██▏       | 22/100 [02:45<05:35,  4.30s/it]"
     ]
    },
    {
     "name": "stdout",
     "output_type": "stream",
     "text": [
      "Saving results to results/internvl/output_internvl.json...\n",
      "Results saved.\n",
      "\n",
      "Generating response for 22...\n"
     ]
    },
    {
     "name": "stderr",
     "output_type": "stream",
     "text": [
      " 23%|██▎       | 23/100 [02:55<07:43,  6.02s/it]"
     ]
    },
    {
     "name": "stdout",
     "output_type": "stream",
     "text": [
      "Saving results to results/internvl/output_internvl.json...\n",
      "Results saved.\n",
      "\n",
      "Generating response for 23...\n"
     ]
    },
    {
     "name": "stderr",
     "output_type": "stream",
     "text": [
      " 24%|██▍       | 24/100 [02:59<07:03,  5.57s/it]"
     ]
    },
    {
     "name": "stdout",
     "output_type": "stream",
     "text": [
      "Saving results to results/internvl/output_internvl.json...\n",
      "Results saved.\n",
      "\n",
      "Generating response for 24...\n"
     ]
    },
    {
     "name": "stderr",
     "output_type": "stream",
     "text": [
      " 25%|██▌       | 25/100 [03:10<09:08,  7.32s/it]"
     ]
    },
    {
     "name": "stdout",
     "output_type": "stream",
     "text": [
      "Saving results to results/internvl/output_internvl.json...\n",
      "Results saved.\n",
      "\n",
      "Generating response for 25...\n"
     ]
    },
    {
     "name": "stderr",
     "output_type": "stream",
     "text": [
      " 26%|██▌       | 26/100 [03:17<08:39,  7.02s/it]"
     ]
    },
    {
     "name": "stdout",
     "output_type": "stream",
     "text": [
      "Saving results to results/internvl/output_internvl.json...\n",
      "Results saved.\n",
      "\n",
      "Generating response for 26...\n"
     ]
    },
    {
     "name": "stderr",
     "output_type": "stream",
     "text": [
      " 27%|██▋       | 27/100 [03:19<06:46,  5.56s/it]"
     ]
    },
    {
     "name": "stdout",
     "output_type": "stream",
     "text": [
      "Saving results to results/internvl/output_internvl.json...\n",
      "Results saved.\n",
      "\n",
      "Generating response for 27...\n"
     ]
    },
    {
     "name": "stderr",
     "output_type": "stream",
     "text": [
      " 28%|██▊       | 28/100 [03:33<09:37,  8.02s/it]"
     ]
    },
    {
     "name": "stdout",
     "output_type": "stream",
     "text": [
      "Saving results to results/internvl/output_internvl.json...\n",
      "Results saved.\n",
      "\n",
      "Generating response for 28...\n"
     ]
    },
    {
     "name": "stderr",
     "output_type": "stream",
     "text": [
      " 29%|██▉       | 29/100 [03:37<08:06,  6.86s/it]"
     ]
    },
    {
     "name": "stdout",
     "output_type": "stream",
     "text": [
      "Saving results to results/internvl/output_internvl.json...\n",
      "Results saved.\n",
      "\n",
      "Generating response for 29...\n"
     ]
    },
    {
     "name": "stderr",
     "output_type": "stream",
     "text": [
      " 30%|███       | 30/100 [03:51<10:32,  9.03s/it]"
     ]
    },
    {
     "name": "stdout",
     "output_type": "stream",
     "text": [
      "Saving results to results/internvl/output_internvl.json...\n",
      "Results saved.\n",
      "\n",
      "Generating response for 30...\n"
     ]
    },
    {
     "name": "stderr",
     "output_type": "stream",
     "text": [
      " 31%|███       | 31/100 [03:56<08:58,  7.80s/it]"
     ]
    },
    {
     "name": "stdout",
     "output_type": "stream",
     "text": [
      "Saving results to results/internvl/output_internvl.json...\n",
      "Results saved.\n",
      "\n",
      "Generating response for 31...\n"
     ]
    },
    {
     "name": "stderr",
     "output_type": "stream",
     "text": [
      " 32%|███▏      | 32/100 [04:09<10:37,  9.38s/it]"
     ]
    },
    {
     "name": "stdout",
     "output_type": "stream",
     "text": [
      "Saving results to results/internvl/output_internvl.json...\n",
      "Results saved.\n",
      "\n",
      "Generating response for 32...\n"
     ]
    },
    {
     "name": "stderr",
     "output_type": "stream",
     "text": [
      " 33%|███▎      | 33/100 [04:18<10:25,  9.33s/it]"
     ]
    },
    {
     "name": "stdout",
     "output_type": "stream",
     "text": [
      "Saving results to results/internvl/output_internvl.json...\n",
      "Results saved.\n",
      "\n",
      "Generating response for 33...\n"
     ]
    },
    {
     "name": "stderr",
     "output_type": "stream",
     "text": [
      " 34%|███▍      | 34/100 [04:37<13:22, 12.15s/it]"
     ]
    },
    {
     "name": "stdout",
     "output_type": "stream",
     "text": [
      "Saving results to results/internvl/output_internvl.json...\n",
      "Results saved.\n",
      "\n",
      "Generating response for 34...\n"
     ]
    },
    {
     "name": "stderr",
     "output_type": "stream",
     "text": [
      " 35%|███▌      | 35/100 [04:57<15:37, 14.43s/it]"
     ]
    },
    {
     "name": "stdout",
     "output_type": "stream",
     "text": [
      "Saving results to results/internvl/output_internvl.json...\n",
      "Results saved.\n",
      "\n",
      "Generating response for 35...\n"
     ]
    },
    {
     "name": "stderr",
     "output_type": "stream",
     "text": [
      " 36%|███▌      | 36/100 [04:59<11:25, 10.71s/it]"
     ]
    },
    {
     "name": "stdout",
     "output_type": "stream",
     "text": [
      "Saving results to results/internvl/output_internvl.json...\n",
      "Results saved.\n",
      "\n",
      "Generating response for 36...\n"
     ]
    },
    {
     "name": "stderr",
     "output_type": "stream",
     "text": [
      " 37%|███▋      | 37/100 [05:12<12:04, 11.50s/it]"
     ]
    },
    {
     "name": "stdout",
     "output_type": "stream",
     "text": [
      "Saving results to results/internvl/output_internvl.json...\n",
      "Results saved.\n",
      "\n",
      "Generating response for 37...\n"
     ]
    },
    {
     "name": "stderr",
     "output_type": "stream",
     "text": [
      " 38%|███▊      | 38/100 [05:15<09:11,  8.89s/it]"
     ]
    },
    {
     "name": "stdout",
     "output_type": "stream",
     "text": [
      "Saving results to results/internvl/output_internvl.json...\n",
      "Results saved.\n",
      "\n",
      "Generating response for 38...\n"
     ]
    },
    {
     "name": "stderr",
     "output_type": "stream",
     "text": [
      " 39%|███▉      | 39/100 [05:29<10:35, 10.41s/it]"
     ]
    },
    {
     "name": "stdout",
     "output_type": "stream",
     "text": [
      "Saving results to results/internvl/output_internvl.json...\n",
      "Results saved.\n",
      "\n",
      "Generating response for 39...\n"
     ]
    },
    {
     "name": "stderr",
     "output_type": "stream",
     "text": [
      " 40%|████      | 40/100 [05:31<07:54,  7.90s/it]"
     ]
    },
    {
     "name": "stdout",
     "output_type": "stream",
     "text": [
      "Saving results to results/internvl/output_internvl.json...\n",
      "Results saved.\n",
      "\n",
      "Generating response for 40...\n"
     ]
    },
    {
     "name": "stderr",
     "output_type": "stream",
     "text": [
      " 41%|████      | 41/100 [05:33<06:08,  6.25s/it]"
     ]
    },
    {
     "name": "stdout",
     "output_type": "stream",
     "text": [
      "Saving results to results/internvl/output_internvl.json...\n",
      "Results saved.\n",
      "\n",
      "Generating response for 41...\n"
     ]
    },
    {
     "name": "stderr",
     "output_type": "stream",
     "text": [
      " 42%|████▏     | 42/100 [05:35<04:50,  5.01s/it]"
     ]
    },
    {
     "name": "stdout",
     "output_type": "stream",
     "text": [
      "Saving results to results/internvl/output_internvl.json...\n",
      "Results saved.\n",
      "\n",
      "Generating response for 42...\n"
     ]
    },
    {
     "name": "stderr",
     "output_type": "stream",
     "text": [
      " 43%|████▎     | 43/100 [05:47<06:42,  7.05s/it]"
     ]
    },
    {
     "name": "stdout",
     "output_type": "stream",
     "text": [
      "Saving results to results/internvl/output_internvl.json...\n",
      "Results saved.\n",
      "\n",
      "Generating response for 43...\n"
     ]
    },
    {
     "name": "stderr",
     "output_type": "stream",
     "text": [
      " 44%|████▍     | 44/100 [05:55<06:51,  7.35s/it]"
     ]
    },
    {
     "name": "stdout",
     "output_type": "stream",
     "text": [
      "Saving results to results/internvl/output_internvl.json...\n",
      "Results saved.\n",
      "\n",
      "Generating response for 44...\n"
     ]
    },
    {
     "name": "stderr",
     "output_type": "stream",
     "text": [
      " 45%|████▌     | 45/100 [06:04<07:12,  7.86s/it]"
     ]
    },
    {
     "name": "stdout",
     "output_type": "stream",
     "text": [
      "Saving results to results/internvl/output_internvl.json...\n",
      "Results saved.\n",
      "\n",
      "Generating response for 45...\n"
     ]
    },
    {
     "name": "stderr",
     "output_type": "stream",
     "text": [
      " 46%|████▌     | 46/100 [06:09<06:21,  7.06s/it]"
     ]
    },
    {
     "name": "stdout",
     "output_type": "stream",
     "text": [
      "Saving results to results/internvl/output_internvl.json...\n",
      "Results saved.\n",
      "\n",
      "Generating response for 46...\n"
     ]
    },
    {
     "name": "stderr",
     "output_type": "stream",
     "text": [
      " 47%|████▋     | 47/100 [06:18<06:39,  7.53s/it]"
     ]
    },
    {
     "name": "stdout",
     "output_type": "stream",
     "text": [
      "Saving results to results/internvl/output_internvl.json...\n",
      "Results saved.\n",
      "\n",
      "Generating response for 47...\n"
     ]
    },
    {
     "name": "stderr",
     "output_type": "stream",
     "text": [
      " 48%|████▊     | 48/100 [06:28<07:02,  8.12s/it]"
     ]
    },
    {
     "name": "stdout",
     "output_type": "stream",
     "text": [
      "Saving results to results/internvl/output_internvl.json...\n",
      "Results saved.\n",
      "\n",
      "Generating response for 48...\n"
     ]
    },
    {
     "name": "stderr",
     "output_type": "stream",
     "text": [
      " 49%|████▉     | 49/100 [06:31<05:46,  6.80s/it]"
     ]
    },
    {
     "name": "stdout",
     "output_type": "stream",
     "text": [
      "Saving results to results/internvl/output_internvl.json...\n",
      "Results saved.\n",
      "\n",
      "Generating response for 49...\n"
     ]
    },
    {
     "name": "stderr",
     "output_type": "stream",
     "text": [
      " 50%|█████     | 50/100 [06:40<06:09,  7.38s/it]"
     ]
    },
    {
     "name": "stdout",
     "output_type": "stream",
     "text": [
      "Saving results to results/internvl/output_internvl.json...\n",
      "Results saved.\n",
      "\n",
      "Generating response for 50...\n"
     ]
    },
    {
     "name": "stderr",
     "output_type": "stream",
     "text": [
      " 51%|█████     | 51/100 [06:45<05:21,  6.57s/it]"
     ]
    },
    {
     "name": "stdout",
     "output_type": "stream",
     "text": [
      "Saving results to results/internvl/output_internvl.json...\n",
      "Results saved.\n",
      "\n",
      "Generating response for 51...\n"
     ]
    },
    {
     "name": "stderr",
     "output_type": "stream",
     "text": [
      " 52%|█████▏    | 52/100 [06:47<04:17,  5.36s/it]"
     ]
    },
    {
     "name": "stdout",
     "output_type": "stream",
     "text": [
      "Saving results to results/internvl/output_internvl.json...\n",
      "Results saved.\n",
      "\n",
      "Generating response for 52...\n"
     ]
    },
    {
     "name": "stderr",
     "output_type": "stream",
     "text": [
      " 53%|█████▎    | 53/100 [06:50<03:34,  4.56s/it]"
     ]
    },
    {
     "name": "stdout",
     "output_type": "stream",
     "text": [
      "Saving results to results/internvl/output_internvl.json...\n",
      "Results saved.\n",
      "\n",
      "Generating response for 53...\n"
     ]
    },
    {
     "name": "stderr",
     "output_type": "stream",
     "text": [
      " 54%|█████▍    | 54/100 [07:00<04:40,  6.10s/it]"
     ]
    },
    {
     "name": "stdout",
     "output_type": "stream",
     "text": [
      "Saving results to results/internvl/output_internvl.json...\n",
      "Results saved.\n",
      "\n",
      "Generating response for 54...\n"
     ]
    },
    {
     "name": "stderr",
     "output_type": "stream",
     "text": [
      " 55%|█████▌    | 55/100 [07:18<07:14,  9.66s/it]"
     ]
    },
    {
     "name": "stdout",
     "output_type": "stream",
     "text": [
      "Saving results to results/internvl/output_internvl.json...\n",
      "Results saved.\n",
      "\n",
      "Generating response for 55...\n"
     ]
    },
    {
     "name": "stderr",
     "output_type": "stream",
     "text": [
      " 56%|█████▌    | 56/100 [07:24<06:20,  8.65s/it]"
     ]
    },
    {
     "name": "stdout",
     "output_type": "stream",
     "text": [
      "Saving results to results/internvl/output_internvl.json...\n",
      "Results saved.\n",
      "\n",
      "Generating response for 56...\n"
     ]
    },
    {
     "name": "stderr",
     "output_type": "stream",
     "text": [
      " 57%|█████▋    | 57/100 [07:26<04:51,  6.78s/it]"
     ]
    },
    {
     "name": "stdout",
     "output_type": "stream",
     "text": [
      "Saving results to results/internvl/output_internvl.json...\n",
      "Results saved.\n",
      "\n",
      "Generating response for 57...\n"
     ]
    },
    {
     "name": "stderr",
     "output_type": "stream",
     "text": [
      " 58%|█████▊    | 58/100 [07:34<04:50,  6.92s/it]"
     ]
    },
    {
     "name": "stdout",
     "output_type": "stream",
     "text": [
      "Saving results to results/internvl/output_internvl.json...\n",
      "Results saved.\n",
      "\n",
      "Generating response for 58...\n"
     ]
    },
    {
     "name": "stderr",
     "output_type": "stream",
     "text": [
      " 59%|█████▉    | 59/100 [07:55<07:39, 11.20s/it]"
     ]
    },
    {
     "name": "stdout",
     "output_type": "stream",
     "text": [
      "Saving results to results/internvl/output_internvl.json...\n",
      "Results saved.\n",
      "\n",
      "Generating response for 59...\n"
     ]
    },
    {
     "name": "stderr",
     "output_type": "stream",
     "text": [
      " 60%|██████    | 60/100 [08:01<06:26,  9.65s/it]"
     ]
    },
    {
     "name": "stdout",
     "output_type": "stream",
     "text": [
      "Saving results to results/internvl/output_internvl.json...\n",
      "Results saved.\n",
      "\n",
      "Generating response for 60...\n"
     ]
    },
    {
     "name": "stderr",
     "output_type": "stream",
     "text": [
      " 61%|██████    | 61/100 [08:06<05:28,  8.42s/it]"
     ]
    },
    {
     "name": "stdout",
     "output_type": "stream",
     "text": [
      "Saving results to results/internvl/output_internvl.json...\n",
      "Results saved.\n",
      "\n",
      "Generating response for 61...\n"
     ]
    },
    {
     "name": "stderr",
     "output_type": "stream",
     "text": [
      " 62%|██████▏   | 62/100 [08:21<06:35, 10.40s/it]"
     ]
    },
    {
     "name": "stdout",
     "output_type": "stream",
     "text": [
      "Saving results to results/internvl/output_internvl.json...\n",
      "Results saved.\n",
      "\n",
      "Generating response for 62...\n"
     ]
    },
    {
     "name": "stderr",
     "output_type": "stream",
     "text": [
      " 63%|██████▎   | 63/100 [08:32<06:24, 10.39s/it]"
     ]
    },
    {
     "name": "stdout",
     "output_type": "stream",
     "text": [
      "Saving results to results/internvl/output_internvl.json...\n",
      "Results saved.\n",
      "\n",
      "Generating response for 63...\n"
     ]
    },
    {
     "name": "stderr",
     "output_type": "stream",
     "text": [
      " 64%|██████▍   | 64/100 [08:44<06:34, 10.96s/it]"
     ]
    },
    {
     "name": "stdout",
     "output_type": "stream",
     "text": [
      "Saving results to results/internvl/output_internvl.json...\n",
      "Results saved.\n",
      "\n",
      "Generating response for 64...\n"
     ]
    },
    {
     "name": "stderr",
     "output_type": "stream",
     "text": [
      " 65%|██████▌   | 65/100 [08:59<07:10, 12.31s/it]"
     ]
    },
    {
     "name": "stdout",
     "output_type": "stream",
     "text": [
      "Saving results to results/internvl/output_internvl.json...\n",
      "Results saved.\n",
      "\n",
      "Generating response for 65...\n"
     ]
    },
    {
     "name": "stderr",
     "output_type": "stream",
     "text": [
      " 66%|██████▌   | 66/100 [09:06<06:00, 10.61s/it]"
     ]
    },
    {
     "name": "stdout",
     "output_type": "stream",
     "text": [
      "Saving results to results/internvl/output_internvl.json...\n",
      "Results saved.\n",
      "\n",
      "Generating response for 66...\n"
     ]
    },
    {
     "name": "stderr",
     "output_type": "stream",
     "text": [
      " 67%|██████▋   | 67/100 [09:09<04:34,  8.33s/it]"
     ]
    },
    {
     "name": "stdout",
     "output_type": "stream",
     "text": [
      "Saving results to results/internvl/output_internvl.json...\n",
      "Results saved.\n",
      "\n",
      "Generating response for 67...\n"
     ]
    },
    {
     "name": "stderr",
     "output_type": "stream",
     "text": [
      " 68%|██████▊   | 68/100 [09:23<05:18,  9.97s/it]"
     ]
    },
    {
     "name": "stdout",
     "output_type": "stream",
     "text": [
      "Saving results to results/internvl/output_internvl.json...\n",
      "Results saved.\n",
      "\n",
      "Generating response for 68...\n"
     ]
    },
    {
     "name": "stderr",
     "output_type": "stream",
     "text": [
      " 69%|██████▉   | 69/100 [09:25<04:00,  7.75s/it]"
     ]
    },
    {
     "name": "stdout",
     "output_type": "stream",
     "text": [
      "Saving results to results/internvl/output_internvl.json...\n",
      "Results saved.\n",
      "\n",
      "Generating response for 69...\n"
     ]
    },
    {
     "name": "stderr",
     "output_type": "stream",
     "text": [
      " 70%|███████   | 70/100 [09:30<03:22,  6.75s/it]"
     ]
    },
    {
     "name": "stdout",
     "output_type": "stream",
     "text": [
      "Saving results to results/internvl/output_internvl.json...\n",
      "Results saved.\n",
      "\n",
      "Generating response for 70...\n"
     ]
    },
    {
     "name": "stderr",
     "output_type": "stream",
     "text": [
      " 71%|███████   | 71/100 [09:36<03:05,  6.41s/it]"
     ]
    },
    {
     "name": "stdout",
     "output_type": "stream",
     "text": [
      "Saving results to results/internvl/output_internvl.json...\n",
      "Results saved.\n",
      "\n",
      "Generating response for 71...\n"
     ]
    },
    {
     "name": "stderr",
     "output_type": "stream",
     "text": [
      " 72%|███████▏  | 72/100 [09:40<02:45,  5.92s/it]"
     ]
    },
    {
     "name": "stdout",
     "output_type": "stream",
     "text": [
      "Saving results to results/internvl/output_internvl.json...\n",
      "Results saved.\n",
      "\n",
      "Generating response for 72...\n"
     ]
    },
    {
     "name": "stderr",
     "output_type": "stream",
     "text": [
      " 73%|███████▎  | 73/100 [09:51<03:16,  7.28s/it]"
     ]
    },
    {
     "name": "stdout",
     "output_type": "stream",
     "text": [
      "Saving results to results/internvl/output_internvl.json...\n",
      "Results saved.\n",
      "\n",
      "Generating response for 73...\n"
     ]
    },
    {
     "name": "stderr",
     "output_type": "stream",
     "text": [
      " 74%|███████▍  | 74/100 [09:57<03:04,  7.08s/it]"
     ]
    },
    {
     "name": "stdout",
     "output_type": "stream",
     "text": [
      "Saving results to results/internvl/output_internvl.json...\n",
      "Results saved.\n",
      "\n",
      "Generating response for 74...\n"
     ]
    },
    {
     "name": "stderr",
     "output_type": "stream",
     "text": [
      " 75%|███████▌  | 75/100 [10:00<02:23,  5.76s/it]"
     ]
    },
    {
     "name": "stdout",
     "output_type": "stream",
     "text": [
      "Saving results to results/internvl/output_internvl.json...\n",
      "Results saved.\n",
      "\n",
      "Generating response for 75...\n"
     ]
    },
    {
     "name": "stderr",
     "output_type": "stream",
     "text": [
      " 76%|███████▌  | 76/100 [10:08<02:35,  6.48s/it]"
     ]
    },
    {
     "name": "stdout",
     "output_type": "stream",
     "text": [
      "Saving results to results/internvl/output_internvl.json...\n",
      "Results saved.\n",
      "\n",
      "Generating response for 76...\n"
     ]
    },
    {
     "name": "stderr",
     "output_type": "stream",
     "text": [
      " 77%|███████▋  | 77/100 [10:13<02:20,  6.11s/it]"
     ]
    },
    {
     "name": "stdout",
     "output_type": "stream",
     "text": [
      "Saving results to results/internvl/output_internvl.json...\n",
      "Results saved.\n",
      "\n",
      "Generating response for 77...\n"
     ]
    },
    {
     "name": "stderr",
     "output_type": "stream",
     "text": [
      " 78%|███████▊  | 78/100 [10:20<02:18,  6.28s/it]"
     ]
    },
    {
     "name": "stdout",
     "output_type": "stream",
     "text": [
      "Saving results to results/internvl/output_internvl.json...\n",
      "Results saved.\n",
      "\n",
      "Generating response for 78...\n"
     ]
    },
    {
     "name": "stderr",
     "output_type": "stream",
     "text": [
      " 79%|███████▉  | 79/100 [10:33<02:55,  8.35s/it]"
     ]
    },
    {
     "name": "stdout",
     "output_type": "stream",
     "text": [
      "Saving results to results/internvl/output_internvl.json...\n",
      "Results saved.\n",
      "\n",
      "Generating response for 79...\n"
     ]
    },
    {
     "name": "stderr",
     "output_type": "stream",
     "text": [
      " 80%|████████  | 80/100 [10:43<02:55,  8.76s/it]"
     ]
    },
    {
     "name": "stdout",
     "output_type": "stream",
     "text": [
      "Saving results to results/internvl/output_internvl.json...\n",
      "Results saved.\n",
      "\n",
      "Generating response for 80...\n"
     ]
    },
    {
     "name": "stderr",
     "output_type": "stream",
     "text": [
      " 81%|████████  | 81/100 [10:53<02:54,  9.19s/it]"
     ]
    },
    {
     "name": "stdout",
     "output_type": "stream",
     "text": [
      "Saving results to results/internvl/output_internvl.json...\n",
      "Results saved.\n",
      "\n",
      "Generating response for 81...\n"
     ]
    },
    {
     "name": "stderr",
     "output_type": "stream",
     "text": [
      " 82%|████████▏ | 82/100 [11:09<03:20, 11.13s/it]"
     ]
    },
    {
     "name": "stdout",
     "output_type": "stream",
     "text": [
      "Saving results to results/internvl/output_internvl.json...\n",
      "Results saved.\n",
      "\n",
      "Generating response for 82...\n"
     ]
    },
    {
     "name": "stderr",
     "output_type": "stream",
     "text": [
      " 83%|████████▎ | 83/100 [11:18<02:57, 10.44s/it]"
     ]
    },
    {
     "name": "stdout",
     "output_type": "stream",
     "text": [
      "Saving results to results/internvl/output_internvl.json...\n",
      "Results saved.\n",
      "\n",
      "Generating response for 83...\n"
     ]
    },
    {
     "name": "stderr",
     "output_type": "stream",
     "text": [
      " 84%|████████▍ | 84/100 [11:38<03:32, 13.25s/it]"
     ]
    },
    {
     "name": "stdout",
     "output_type": "stream",
     "text": [
      "Saving results to results/internvl/output_internvl.json...\n",
      "Results saved.\n",
      "\n",
      "Generating response for 84...\n"
     ]
    },
    {
     "name": "stderr",
     "output_type": "stream",
     "text": [
      " 85%|████████▌ | 85/100 [11:45<02:50, 11.40s/it]"
     ]
    },
    {
     "name": "stdout",
     "output_type": "stream",
     "text": [
      "Saving results to results/internvl/output_internvl.json...\n",
      "Results saved.\n",
      "\n",
      "Generating response for 85...\n"
     ]
    },
    {
     "name": "stderr",
     "output_type": "stream",
     "text": [
      " 86%|████████▌ | 86/100 [12:01<03:02, 13.04s/it]"
     ]
    },
    {
     "name": "stdout",
     "output_type": "stream",
     "text": [
      "Saving results to results/internvl/output_internvl.json...\n",
      "Results saved.\n",
      "\n",
      "Generating response for 86...\n"
     ]
    },
    {
     "name": "stderr",
     "output_type": "stream",
     "text": [
      " 87%|████████▋ | 87/100 [12:13<02:42, 12.49s/it]"
     ]
    },
    {
     "name": "stdout",
     "output_type": "stream",
     "text": [
      "Saving results to results/internvl/output_internvl.json...\n",
      "Results saved.\n",
      "\n",
      "Generating response for 87...\n"
     ]
    },
    {
     "name": "stderr",
     "output_type": "stream",
     "text": [
      " 88%|████████▊ | 88/100 [12:29<02:44, 13.70s/it]"
     ]
    },
    {
     "name": "stdout",
     "output_type": "stream",
     "text": [
      "Saving results to results/internvl/output_internvl.json...\n",
      "Results saved.\n",
      "\n",
      "Generating response for 88...\n"
     ]
    },
    {
     "name": "stderr",
     "output_type": "stream",
     "text": [
      " 89%|████████▉ | 89/100 [12:33<01:57, 10.73s/it]"
     ]
    },
    {
     "name": "stdout",
     "output_type": "stream",
     "text": [
      "Saving results to results/internvl/output_internvl.json...\n",
      "Results saved.\n",
      "\n",
      "Generating response for 89...\n"
     ]
    },
    {
     "name": "stderr",
     "output_type": "stream",
     "text": [
      " 90%|█████████ | 90/100 [12:39<01:32,  9.30s/it]"
     ]
    },
    {
     "name": "stdout",
     "output_type": "stream",
     "text": [
      "Saving results to results/internvl/output_internvl.json...\n",
      "Results saved.\n",
      "\n",
      "Generating response for 90...\n"
     ]
    },
    {
     "name": "stderr",
     "output_type": "stream",
     "text": [
      " 91%|█████████ | 91/100 [12:43<01:08,  7.59s/it]"
     ]
    },
    {
     "name": "stdout",
     "output_type": "stream",
     "text": [
      "Saving results to results/internvl/output_internvl.json...\n",
      "Results saved.\n",
      "\n",
      "Generating response for 91...\n"
     ]
    },
    {
     "name": "stderr",
     "output_type": "stream",
     "text": [
      " 92%|█████████▏| 92/100 [12:47<00:52,  6.50s/it]"
     ]
    },
    {
     "name": "stdout",
     "output_type": "stream",
     "text": [
      "Saving results to results/internvl/output_internvl.json...\n",
      "Results saved.\n",
      "\n",
      "Generating response for 92...\n"
     ]
    },
    {
     "name": "stderr",
     "output_type": "stream",
     "text": [
      " 93%|█████████▎| 93/100 [12:54<00:46,  6.66s/it]"
     ]
    },
    {
     "name": "stdout",
     "output_type": "stream",
     "text": [
      "Saving results to results/internvl/output_internvl.json...\n",
      "Results saved.\n",
      "\n",
      "Generating response for 93...\n"
     ]
    },
    {
     "name": "stderr",
     "output_type": "stream",
     "text": [
      " 94%|█████████▍| 94/100 [13:08<00:53,  8.95s/it]"
     ]
    },
    {
     "name": "stdout",
     "output_type": "stream",
     "text": [
      "Saving results to results/internvl/output_internvl.json...\n",
      "Results saved.\n",
      "\n",
      "Generating response for 94...\n"
     ]
    },
    {
     "name": "stderr",
     "output_type": "stream",
     "text": [
      " 95%|█████████▌| 95/100 [13:23<00:54, 10.80s/it]"
     ]
    },
    {
     "name": "stdout",
     "output_type": "stream",
     "text": [
      "Saving results to results/internvl/output_internvl.json...\n",
      "Results saved.\n",
      "\n",
      "Generating response for 95...\n"
     ]
    },
    {
     "name": "stderr",
     "output_type": "stream",
     "text": [
      " 96%|█████████▌| 96/100 [13:28<00:36,  9.08s/it]"
     ]
    },
    {
     "name": "stdout",
     "output_type": "stream",
     "text": [
      "Saving results to results/internvl/output_internvl.json...\n",
      "Results saved.\n",
      "\n",
      "Generating response for 96...\n"
     ]
    },
    {
     "name": "stderr",
     "output_type": "stream",
     "text": [
      " 97%|█████████▋| 97/100 [13:31<00:21,  7.20s/it]"
     ]
    },
    {
     "name": "stdout",
     "output_type": "stream",
     "text": [
      "Saving results to results/internvl/output_internvl.json...\n",
      "Results saved.\n",
      "\n",
      "Generating response for 97...\n"
     ]
    },
    {
     "name": "stderr",
     "output_type": "stream",
     "text": [
      " 98%|█████████▊| 98/100 [13:34<00:11,  5.94s/it]"
     ]
    },
    {
     "name": "stdout",
     "output_type": "stream",
     "text": [
      "Saving results to results/internvl/output_internvl.json...\n",
      "Results saved.\n",
      "\n",
      "Generating response for 98...\n"
     ]
    },
    {
     "name": "stderr",
     "output_type": "stream",
     "text": [
      " 99%|█████████▉| 99/100 [13:38<00:05,  5.27s/it]"
     ]
    },
    {
     "name": "stdout",
     "output_type": "stream",
     "text": [
      "Saving results to results/internvl/output_internvl.json...\n",
      "Results saved.\n",
      "\n",
      "Generating response for 99...\n"
     ]
    },
    {
     "name": "stderr",
     "output_type": "stream",
     "text": [
      "100%|██████████| 100/100 [13:41<00:00,  8.21s/it]\n"
     ]
    },
    {
     "name": "stdout",
     "output_type": "stream",
     "text": [
      "Saving results to results/internvl/output_internvl.json...\n",
      "Results saved.\n"
     ]
    },
    {
     "name": "stderr",
     "output_type": "stream",
     "text": [
      "  0%|          | 0/100 [00:00<?, ?it/s]"
     ]
    },
    {
     "name": "stdout",
     "output_type": "stream",
     "text": [
      "\n",
      "Generating response for 0...\n"
     ]
    },
    {
     "name": "stderr",
     "output_type": "stream",
     "text": [
      "  1%|          | 1/100 [00:19<32:16, 19.56s/it]"
     ]
    },
    {
     "name": "stdout",
     "output_type": "stream",
     "text": [
      "Saving results to results/internvl/output_internvl.json...\n",
      "Results saved.\n",
      "\n",
      "Generating response for 1...\n"
     ]
    },
    {
     "name": "stderr",
     "output_type": "stream",
     "text": [
      "  2%|▏         | 2/100 [00:22<16:06,  9.86s/it]"
     ]
    },
    {
     "name": "stdout",
     "output_type": "stream",
     "text": [
      "Saving results to results/internvl/output_internvl.json...\n",
      "Results saved.\n",
      "\n",
      "Generating response for 2...\n"
     ]
    },
    {
     "name": "stderr",
     "output_type": "stream",
     "text": [
      "  3%|▎         | 3/100 [00:48<27:33, 17.05s/it]"
     ]
    },
    {
     "name": "stdout",
     "output_type": "stream",
     "text": [
      "Saving results to results/internvl/output_internvl.json...\n",
      "Results saved.\n",
      "\n",
      "Generating response for 3...\n"
     ]
    },
    {
     "name": "stderr",
     "output_type": "stream",
     "text": [
      "  4%|▍         | 4/100 [00:50<18:14, 11.40s/it]"
     ]
    },
    {
     "name": "stdout",
     "output_type": "stream",
     "text": [
      "Saving results to results/internvl/output_internvl.json...\n",
      "Results saved.\n",
      "\n",
      "Generating response for 4...\n"
     ]
    },
    {
     "name": "stderr",
     "output_type": "stream",
     "text": [
      "  5%|▌         | 5/100 [01:04<19:29, 12.32s/it]"
     ]
    },
    {
     "name": "stdout",
     "output_type": "stream",
     "text": [
      "Saving results to results/internvl/output_internvl.json...\n",
      "Results saved.\n",
      "\n",
      "Generating response for 5...\n"
     ]
    },
    {
     "name": "stderr",
     "output_type": "stream",
     "text": [
      "  6%|▌         | 6/100 [01:14<17:49, 11.38s/it]"
     ]
    },
    {
     "name": "stdout",
     "output_type": "stream",
     "text": [
      "Saving results to results/internvl/output_internvl.json...\n",
      "Results saved.\n",
      "\n",
      "Generating response for 6...\n"
     ]
    },
    {
     "name": "stderr",
     "output_type": "stream",
     "text": [
      "  7%|▋         | 7/100 [01:16<13:05,  8.45s/it]"
     ]
    },
    {
     "name": "stdout",
     "output_type": "stream",
     "text": [
      "Saving results to results/internvl/output_internvl.json...\n",
      "Results saved.\n",
      "\n",
      "Generating response for 7...\n"
     ]
    },
    {
     "name": "stderr",
     "output_type": "stream",
     "text": [
      "  8%|▊         | 8/100 [01:24<12:23,  8.08s/it]"
     ]
    },
    {
     "name": "stdout",
     "output_type": "stream",
     "text": [
      "Saving results to results/internvl/output_internvl.json...\n",
      "Results saved.\n",
      "\n",
      "Generating response for 8...\n"
     ]
    },
    {
     "name": "stderr",
     "output_type": "stream",
     "text": [
      "  9%|▉         | 9/100 [01:38<15:10, 10.01s/it]"
     ]
    },
    {
     "name": "stdout",
     "output_type": "stream",
     "text": [
      "Saving results to results/internvl/output_internvl.json...\n",
      "Results saved.\n",
      "\n",
      "Generating response for 9...\n"
     ]
    },
    {
     "name": "stderr",
     "output_type": "stream",
     "text": [
      " 10%|█         | 10/100 [02:10<25:05, 16.73s/it]"
     ]
    },
    {
     "name": "stdout",
     "output_type": "stream",
     "text": [
      "Saving results to results/internvl/output_internvl.json...\n",
      "Results saved.\n",
      "\n",
      "Generating response for 10...\n"
     ]
    },
    {
     "name": "stderr",
     "output_type": "stream",
     "text": [
      " 11%|█         | 11/100 [02:12<18:03, 12.18s/it]"
     ]
    },
    {
     "name": "stdout",
     "output_type": "stream",
     "text": [
      "Saving results to results/internvl/output_internvl.json...\n",
      "Results saved.\n",
      "\n",
      "Generating response for 11...\n"
     ]
    },
    {
     "name": "stderr",
     "output_type": "stream",
     "text": [
      " 12%|█▏        | 12/100 [02:14<13:41,  9.34s/it]"
     ]
    },
    {
     "name": "stdout",
     "output_type": "stream",
     "text": [
      "Saving results to results/internvl/output_internvl.json...\n",
      "Results saved.\n",
      "\n",
      "Generating response for 12...\n"
     ]
    },
    {
     "name": "stderr",
     "output_type": "stream",
     "text": [
      " 13%|█▎        | 13/100 [02:19<11:25,  7.88s/it]"
     ]
    },
    {
     "name": "stdout",
     "output_type": "stream",
     "text": [
      "Saving results to results/internvl/output_internvl.json...\n",
      "Results saved.\n",
      "\n",
      "Generating response for 13...\n"
     ]
    },
    {
     "name": "stderr",
     "output_type": "stream",
     "text": [
      " 14%|█▍        | 14/100 [02:27<11:22,  7.94s/it]"
     ]
    },
    {
     "name": "stdout",
     "output_type": "stream",
     "text": [
      "Saving results to results/internvl/output_internvl.json...\n",
      "Results saved.\n",
      "\n",
      "Generating response for 14...\n"
     ]
    },
    {
     "name": "stderr",
     "output_type": "stream",
     "text": [
      " 15%|█▌        | 15/100 [02:35<11:05,  7.83s/it]"
     ]
    },
    {
     "name": "stdout",
     "output_type": "stream",
     "text": [
      "Saving results to results/internvl/output_internvl.json...\n",
      "Results saved.\n",
      "\n",
      "Generating response for 15...\n"
     ]
    },
    {
     "name": "stderr",
     "output_type": "stream",
     "text": [
      " 16%|█▌        | 16/100 [02:41<10:15,  7.33s/it]"
     ]
    },
    {
     "name": "stdout",
     "output_type": "stream",
     "text": [
      "Saving results to results/internvl/output_internvl.json...\n",
      "Results saved.\n",
      "\n",
      "Generating response for 16...\n"
     ]
    },
    {
     "name": "stderr",
     "output_type": "stream",
     "text": [
      " 17%|█▋        | 17/100 [02:52<11:49,  8.55s/it]"
     ]
    },
    {
     "name": "stdout",
     "output_type": "stream",
     "text": [
      "Saving results to results/internvl/output_internvl.json...\n",
      "Results saved.\n",
      "\n",
      "Generating response for 17...\n"
     ]
    },
    {
     "name": "stderr",
     "output_type": "stream",
     "text": [
      " 18%|█▊        | 18/100 [02:57<10:10,  7.45s/it]"
     ]
    },
    {
     "name": "stdout",
     "output_type": "stream",
     "text": [
      "Saving results to results/internvl/output_internvl.json...\n",
      "Results saved.\n",
      "\n",
      "Generating response for 18...\n"
     ]
    },
    {
     "name": "stderr",
     "output_type": "stream",
     "text": [
      " 19%|█▉        | 19/100 [02:59<07:54,  5.86s/it]"
     ]
    },
    {
     "name": "stdout",
     "output_type": "stream",
     "text": [
      "Saving results to results/internvl/output_internvl.json...\n",
      "Results saved.\n",
      "\n",
      "Generating response for 19...\n"
     ]
    },
    {
     "name": "stderr",
     "output_type": "stream",
     "text": [
      " 20%|██        | 20/100 [03:06<08:04,  6.06s/it]"
     ]
    },
    {
     "name": "stdout",
     "output_type": "stream",
     "text": [
      "Saving results to results/internvl/output_internvl.json...\n",
      "Results saved.\n",
      "\n",
      "Generating response for 20...\n"
     ]
    },
    {
     "name": "stderr",
     "output_type": "stream",
     "text": [
      " 21%|██        | 21/100 [03:07<06:12,  4.72s/it]"
     ]
    },
    {
     "name": "stdout",
     "output_type": "stream",
     "text": [
      "Saving results to results/internvl/output_internvl.json...\n",
      "Results saved.\n",
      "\n",
      "Generating response for 21...\n"
     ]
    },
    {
     "name": "stderr",
     "output_type": "stream",
     "text": [
      " 22%|██▏       | 22/100 [03:11<05:46,  4.44s/it]"
     ]
    },
    {
     "name": "stdout",
     "output_type": "stream",
     "text": [
      "Saving results to results/internvl/output_internvl.json...\n",
      "Results saved.\n",
      "\n",
      "Generating response for 22...\n"
     ]
    },
    {
     "name": "stderr",
     "output_type": "stream",
     "text": [
      " 23%|██▎       | 23/100 [03:33<12:33,  9.78s/it]"
     ]
    },
    {
     "name": "stdout",
     "output_type": "stream",
     "text": [
      "Saving results to results/internvl/output_internvl.json...\n",
      "Results saved.\n",
      "\n",
      "Generating response for 23...\n"
     ]
    },
    {
     "name": "stderr",
     "output_type": "stream",
     "text": [
      " 24%|██▍       | 24/100 [03:38<10:24,  8.22s/it]"
     ]
    },
    {
     "name": "stdout",
     "output_type": "stream",
     "text": [
      "Saving results to results/internvl/output_internvl.json...\n",
      "Results saved.\n",
      "\n",
      "Generating response for 24...\n"
     ]
    },
    {
     "name": "stderr",
     "output_type": "stream",
     "text": [
      " 25%|██▌       | 25/100 [03:45<09:47,  7.84s/it]"
     ]
    },
    {
     "name": "stdout",
     "output_type": "stream",
     "text": [
      "Saving results to results/internvl/output_internvl.json...\n",
      "Results saved.\n",
      "\n",
      "Generating response for 25...\n"
     ]
    },
    {
     "name": "stderr",
     "output_type": "stream",
     "text": [
      " 26%|██▌       | 26/100 [03:49<08:28,  6.87s/it]"
     ]
    },
    {
     "name": "stdout",
     "output_type": "stream",
     "text": [
      "Saving results to results/internvl/output_internvl.json...\n",
      "Results saved.\n",
      "\n",
      "Generating response for 26...\n"
     ]
    },
    {
     "name": "stderr",
     "output_type": "stream",
     "text": [
      " 27%|██▋       | 27/100 [03:52<06:38,  5.46s/it]"
     ]
    },
    {
     "name": "stdout",
     "output_type": "stream",
     "text": [
      "Saving results to results/internvl/output_internvl.json...\n",
      "Results saved.\n",
      "\n",
      "Generating response for 27...\n"
     ]
    },
    {
     "name": "stderr",
     "output_type": "stream",
     "text": [
      " 28%|██▊       | 28/100 [04:03<08:45,  7.30s/it]"
     ]
    },
    {
     "name": "stdout",
     "output_type": "stream",
     "text": [
      "Saving results to results/internvl/output_internvl.json...\n",
      "Results saved.\n",
      "\n",
      "Generating response for 28...\n"
     ]
    },
    {
     "name": "stderr",
     "output_type": "stream",
     "text": [
      " 29%|██▉       | 29/100 [04:07<07:15,  6.14s/it]"
     ]
    },
    {
     "name": "stdout",
     "output_type": "stream",
     "text": [
      "Saving results to results/internvl/output_internvl.json...\n",
      "Results saved.\n",
      "\n",
      "Generating response for 29...\n"
     ]
    },
    {
     "name": "stderr",
     "output_type": "stream",
     "text": [
      " 30%|███       | 30/100 [04:26<11:45, 10.07s/it]"
     ]
    },
    {
     "name": "stdout",
     "output_type": "stream",
     "text": [
      "Saving results to results/internvl/output_internvl.json...\n",
      "Results saved.\n",
      "\n",
      "Generating response for 30...\n"
     ]
    },
    {
     "name": "stderr",
     "output_type": "stream",
     "text": [
      " 31%|███       | 31/100 [04:31<09:53,  8.61s/it]"
     ]
    },
    {
     "name": "stdout",
     "output_type": "stream",
     "text": [
      "Saving results to results/internvl/output_internvl.json...\n",
      "Results saved.\n",
      "\n",
      "Generating response for 31...\n"
     ]
    },
    {
     "name": "stderr",
     "output_type": "stream",
     "text": [
      " 32%|███▏      | 32/100 [04:45<11:28, 10.13s/it]"
     ]
    },
    {
     "name": "stdout",
     "output_type": "stream",
     "text": [
      "Saving results to results/internvl/output_internvl.json...\n",
      "Results saved.\n",
      "\n",
      "Generating response for 32...\n"
     ]
    },
    {
     "name": "stderr",
     "output_type": "stream",
     "text": [
      " 33%|███▎      | 33/100 [04:54<11:04,  9.92s/it]"
     ]
    },
    {
     "name": "stdout",
     "output_type": "stream",
     "text": [
      "Saving results to results/internvl/output_internvl.json...\n",
      "Results saved.\n",
      "\n",
      "Generating response for 33...\n"
     ]
    },
    {
     "name": "stderr",
     "output_type": "stream",
     "text": [
      " 34%|███▍      | 34/100 [05:28<18:39, 16.96s/it]"
     ]
    },
    {
     "name": "stdout",
     "output_type": "stream",
     "text": [
      "Saving results to results/internvl/output_internvl.json...\n",
      "Results saved.\n",
      "\n",
      "Generating response for 34...\n"
     ]
    },
    {
     "name": "stderr",
     "output_type": "stream",
     "text": [
      " 35%|███▌      | 35/100 [05:54<21:35, 19.93s/it]"
     ]
    },
    {
     "name": "stdout",
     "output_type": "stream",
     "text": [
      "Saving results to results/internvl/output_internvl.json...\n",
      "Results saved.\n",
      "\n",
      "Generating response for 35...\n"
     ]
    },
    {
     "name": "stderr",
     "output_type": "stream",
     "text": [
      " 36%|███▌      | 36/100 [05:57<15:37, 14.65s/it]"
     ]
    },
    {
     "name": "stdout",
     "output_type": "stream",
     "text": [
      "Saving results to results/internvl/output_internvl.json...\n",
      "Results saved.\n",
      "\n",
      "Generating response for 36...\n"
     ]
    },
    {
     "name": "stderr",
     "output_type": "stream",
     "text": [
      " 37%|███▋      | 37/100 [06:09<14:27, 13.77s/it]"
     ]
    },
    {
     "name": "stdout",
     "output_type": "stream",
     "text": [
      "Saving results to results/internvl/output_internvl.json...\n",
      "Results saved.\n",
      "\n",
      "Generating response for 37...\n"
     ]
    },
    {
     "name": "stderr",
     "output_type": "stream",
     "text": [
      " 38%|███▊      | 38/100 [06:12<11:02, 10.68s/it]"
     ]
    },
    {
     "name": "stdout",
     "output_type": "stream",
     "text": [
      "Saving results to results/internvl/output_internvl.json...\n",
      "Results saved.\n",
      "\n",
      "Generating response for 38...\n"
     ]
    },
    {
     "name": "stderr",
     "output_type": "stream",
     "text": [
      " 39%|███▉      | 39/100 [06:27<12:08, 11.94s/it]"
     ]
    },
    {
     "name": "stdout",
     "output_type": "stream",
     "text": [
      "Saving results to results/internvl/output_internvl.json...\n",
      "Results saved.\n",
      "\n",
      "Generating response for 39...\n"
     ]
    },
    {
     "name": "stderr",
     "output_type": "stream",
     "text": [
      " 40%|████      | 40/100 [06:33<10:12, 10.21s/it]"
     ]
    },
    {
     "name": "stdout",
     "output_type": "stream",
     "text": [
      "Saving results to results/internvl/output_internvl.json...\n",
      "Results saved.\n",
      "\n",
      "Generating response for 40...\n"
     ]
    },
    {
     "name": "stderr",
     "output_type": "stream",
     "text": [
      " 41%|████      | 41/100 [06:35<07:42,  7.85s/it]"
     ]
    },
    {
     "name": "stdout",
     "output_type": "stream",
     "text": [
      "Saving results to results/internvl/output_internvl.json...\n",
      "Results saved.\n",
      "\n",
      "Generating response for 41...\n"
     ]
    },
    {
     "name": "stderr",
     "output_type": "stream",
     "text": [
      " 42%|████▏     | 42/100 [06:37<05:55,  6.13s/it]"
     ]
    },
    {
     "name": "stdout",
     "output_type": "stream",
     "text": [
      "Saving results to results/internvl/output_internvl.json...\n",
      "Results saved.\n",
      "\n",
      "Generating response for 42...\n"
     ]
    },
    {
     "name": "stderr",
     "output_type": "stream",
     "text": [
      " 43%|████▎     | 43/100 [06:50<07:45,  8.16s/it]"
     ]
    },
    {
     "name": "stdout",
     "output_type": "stream",
     "text": [
      "Saving results to results/internvl/output_internvl.json...\n",
      "Results saved.\n",
      "\n",
      "Generating response for 43...\n"
     ]
    },
    {
     "name": "stderr",
     "output_type": "stream",
     "text": [
      " 44%|████▍     | 44/100 [06:58<07:35,  8.14s/it]"
     ]
    },
    {
     "name": "stdout",
     "output_type": "stream",
     "text": [
      "Saving results to results/internvl/output_internvl.json...\n",
      "Results saved.\n",
      "\n",
      "Generating response for 44...\n"
     ]
    },
    {
     "name": "stderr",
     "output_type": "stream",
     "text": [
      " 45%|████▌     | 45/100 [07:08<07:44,  8.44s/it]"
     ]
    },
    {
     "name": "stdout",
     "output_type": "stream",
     "text": [
      "Saving results to results/internvl/output_internvl.json...\n",
      "Results saved.\n",
      "\n",
      "Generating response for 45...\n"
     ]
    },
    {
     "name": "stderr",
     "output_type": "stream",
     "text": [
      " 46%|████▌     | 46/100 [07:14<06:57,  7.73s/it]"
     ]
    },
    {
     "name": "stdout",
     "output_type": "stream",
     "text": [
      "Saving results to results/internvl/output_internvl.json...\n",
      "Results saved.\n",
      "\n",
      "Generating response for 46...\n"
     ]
    },
    {
     "name": "stderr",
     "output_type": "stream",
     "text": [
      " 47%|████▋     | 47/100 [07:17<05:32,  6.27s/it]"
     ]
    },
    {
     "name": "stdout",
     "output_type": "stream",
     "text": [
      "Saving results to results/internvl/output_internvl.json...\n",
      "Results saved.\n",
      "\n",
      "Generating response for 47...\n"
     ]
    },
    {
     "name": "stderr",
     "output_type": "stream",
     "text": [
      " 48%|████▊     | 48/100 [07:26<06:10,  7.13s/it]"
     ]
    },
    {
     "name": "stdout",
     "output_type": "stream",
     "text": [
      "Saving results to results/internvl/output_internvl.json...\n",
      "Results saved.\n",
      "\n",
      "Generating response for 48...\n"
     ]
    },
    {
     "name": "stderr",
     "output_type": "stream",
     "text": [
      " 49%|████▉     | 49/100 [07:29<05:09,  6.06s/it]"
     ]
    },
    {
     "name": "stdout",
     "output_type": "stream",
     "text": [
      "Saving results to results/internvl/output_internvl.json...\n",
      "Results saved.\n",
      "\n",
      "Generating response for 49...\n"
     ]
    },
    {
     "name": "stderr",
     "output_type": "stream",
     "text": [
      " 50%|█████     | 50/100 [07:37<05:24,  6.49s/it]"
     ]
    },
    {
     "name": "stdout",
     "output_type": "stream",
     "text": [
      "Saving results to results/internvl/output_internvl.json...\n",
      "Results saved.\n",
      "\n",
      "Generating response for 50...\n"
     ]
    },
    {
     "name": "stderr",
     "output_type": "stream",
     "text": [
      " 51%|█████     | 51/100 [07:42<04:53,  5.99s/it]"
     ]
    },
    {
     "name": "stdout",
     "output_type": "stream",
     "text": [
      "Saving results to results/internvl/output_internvl.json...\n",
      "Results saved.\n",
      "\n",
      "Generating response for 51...\n"
     ]
    },
    {
     "name": "stderr",
     "output_type": "stream",
     "text": [
      " 52%|█████▏    | 52/100 [07:44<03:54,  4.88s/it]"
     ]
    },
    {
     "name": "stdout",
     "output_type": "stream",
     "text": [
      "Saving results to results/internvl/output_internvl.json...\n",
      "Results saved.\n",
      "\n",
      "Generating response for 52...\n"
     ]
    },
    {
     "name": "stderr",
     "output_type": "stream",
     "text": [
      " 53%|█████▎    | 53/100 [07:47<03:21,  4.30s/it]"
     ]
    },
    {
     "name": "stdout",
     "output_type": "stream",
     "text": [
      "Saving results to results/internvl/output_internvl.json...\n",
      "Results saved.\n",
      "\n",
      "Generating response for 53...\n"
     ]
    },
    {
     "name": "stderr",
     "output_type": "stream",
     "text": [
      " 54%|█████▍    | 54/100 [07:57<04:37,  6.02s/it]"
     ]
    },
    {
     "name": "stdout",
     "output_type": "stream",
     "text": [
      "Saving results to results/internvl/output_internvl.json...\n",
      "Results saved.\n",
      "\n",
      "Generating response for 54...\n"
     ]
    },
    {
     "name": "stderr",
     "output_type": "stream",
     "text": [
      " 55%|█████▌    | 55/100 [08:14<06:57,  9.28s/it]"
     ]
    },
    {
     "name": "stdout",
     "output_type": "stream",
     "text": [
      "Saving results to results/internvl/output_internvl.json...\n",
      "Results saved.\n",
      "\n",
      "Generating response for 55...\n"
     ]
    },
    {
     "name": "stderr",
     "output_type": "stream",
     "text": [
      " 56%|█████▌    | 56/100 [08:19<05:57,  8.13s/it]"
     ]
    },
    {
     "name": "stdout",
     "output_type": "stream",
     "text": [
      "Saving results to results/internvl/output_internvl.json...\n",
      "Results saved.\n",
      "\n",
      "Generating response for 56...\n"
     ]
    },
    {
     "name": "stderr",
     "output_type": "stream",
     "text": [
      " 57%|█████▋    | 57/100 [08:21<04:27,  6.22s/it]"
     ]
    },
    {
     "name": "stdout",
     "output_type": "stream",
     "text": [
      "Saving results to results/internvl/output_internvl.json...\n",
      "Results saved.\n",
      "\n",
      "Generating response for 57...\n"
     ]
    },
    {
     "name": "stderr",
     "output_type": "stream",
     "text": [
      " 58%|█████▊    | 58/100 [08:27<04:21,  6.22s/it]"
     ]
    },
    {
     "name": "stdout",
     "output_type": "stream",
     "text": [
      "Saving results to results/internvl/output_internvl.json...\n",
      "Results saved.\n",
      "\n",
      "Generating response for 58...\n"
     ]
    },
    {
     "name": "stderr",
     "output_type": "stream",
     "text": [
      " 59%|█████▉    | 59/100 [08:45<06:40,  9.78s/it]"
     ]
    },
    {
     "name": "stdout",
     "output_type": "stream",
     "text": [
      "Saving results to results/internvl/output_internvl.json...\n",
      "Results saved.\n",
      "\n",
      "Generating response for 59...\n"
     ]
    },
    {
     "name": "stderr",
     "output_type": "stream",
     "text": [
      " 60%|██████    | 60/100 [08:50<05:29,  8.23s/it]"
     ]
    },
    {
     "name": "stdout",
     "output_type": "stream",
     "text": [
      "Saving results to results/internvl/output_internvl.json...\n",
      "Results saved.\n",
      "\n",
      "Generating response for 60...\n"
     ]
    },
    {
     "name": "stderr",
     "output_type": "stream",
     "text": [
      " 61%|██████    | 61/100 [08:59<05:35,  8.61s/it]"
     ]
    },
    {
     "name": "stdout",
     "output_type": "stream",
     "text": [
      "Saving results to results/internvl/output_internvl.json...\n",
      "Results saved.\n",
      "\n",
      "Generating response for 61...\n"
     ]
    },
    {
     "name": "stderr",
     "output_type": "stream",
     "text": [
      " 62%|██████▏   | 62/100 [09:14<06:39, 10.52s/it]"
     ]
    },
    {
     "name": "stdout",
     "output_type": "stream",
     "text": [
      "Saving results to results/internvl/output_internvl.json...\n",
      "Results saved.\n",
      "\n",
      "Generating response for 62...\n"
     ]
    },
    {
     "name": "stderr",
     "output_type": "stream",
     "text": [
      " 63%|██████▎   | 63/100 [09:21<05:48,  9.42s/it]"
     ]
    },
    {
     "name": "stdout",
     "output_type": "stream",
     "text": [
      "Saving results to results/internvl/output_internvl.json...\n",
      "Results saved.\n",
      "\n",
      "Generating response for 63...\n"
     ]
    },
    {
     "name": "stderr",
     "output_type": "stream",
     "text": [
      " 64%|██████▍   | 64/100 [09:35<06:22, 10.63s/it]"
     ]
    },
    {
     "name": "stdout",
     "output_type": "stream",
     "text": [
      "Saving results to results/internvl/output_internvl.json...\n",
      "Results saved.\n",
      "\n",
      "Generating response for 64...\n"
     ]
    },
    {
     "name": "stderr",
     "output_type": "stream",
     "text": [
      " 65%|██████▌   | 65/100 [09:43<05:46,  9.91s/it]"
     ]
    },
    {
     "name": "stdout",
     "output_type": "stream",
     "text": [
      "Saving results to results/internvl/output_internvl.json...\n",
      "Results saved.\n",
      "\n",
      "Generating response for 65...\n"
     ]
    },
    {
     "name": "stderr",
     "output_type": "stream",
     "text": [
      " 66%|██████▌   | 66/100 [09:46<04:28,  7.91s/it]"
     ]
    },
    {
     "name": "stdout",
     "output_type": "stream",
     "text": [
      "Saving results to results/internvl/output_internvl.json...\n",
      "Results saved.\n",
      "\n",
      "Generating response for 66...\n"
     ]
    },
    {
     "name": "stderr",
     "output_type": "stream",
     "text": [
      " 67%|██████▋   | 67/100 [09:50<03:36,  6.55s/it]"
     ]
    },
    {
     "name": "stdout",
     "output_type": "stream",
     "text": [
      "Saving results to results/internvl/output_internvl.json...\n",
      "Results saved.\n",
      "\n",
      "Generating response for 67...\n"
     ]
    },
    {
     "name": "stderr",
     "output_type": "stream",
     "text": [
      " 68%|██████▊   | 68/100 [10:12<06:02, 11.34s/it]"
     ]
    },
    {
     "name": "stdout",
     "output_type": "stream",
     "text": [
      "Saving results to results/internvl/output_internvl.json...\n",
      "Results saved.\n",
      "\n",
      "Generating response for 68...\n"
     ]
    },
    {
     "name": "stderr",
     "output_type": "stream",
     "text": [
      " 69%|██████▉   | 69/100 [10:15<04:30,  8.73s/it]"
     ]
    },
    {
     "name": "stdout",
     "output_type": "stream",
     "text": [
      "Saving results to results/internvl/output_internvl.json...\n",
      "Results saved.\n",
      "\n",
      "Generating response for 69...\n"
     ]
    },
    {
     "name": "stderr",
     "output_type": "stream",
     "text": [
      " 70%|███████   | 70/100 [10:18<03:29,  6.98s/it]"
     ]
    },
    {
     "name": "stdout",
     "output_type": "stream",
     "text": [
      "Saving results to results/internvl/output_internvl.json...\n",
      "Results saved.\n",
      "\n",
      "Generating response for 70...\n"
     ]
    },
    {
     "name": "stderr",
     "output_type": "stream",
     "text": [
      " 71%|███████   | 71/100 [10:23<03:07,  6.46s/it]"
     ]
    },
    {
     "name": "stdout",
     "output_type": "stream",
     "text": [
      "Saving results to results/internvl/output_internvl.json...\n",
      "Results saved.\n",
      "\n",
      "Generating response for 71...\n"
     ]
    },
    {
     "name": "stderr",
     "output_type": "stream",
     "text": [
      " 72%|███████▏  | 72/100 [10:27<02:45,  5.91s/it]"
     ]
    },
    {
     "name": "stdout",
     "output_type": "stream",
     "text": [
      "Saving results to results/internvl/output_internvl.json...\n",
      "Results saved.\n",
      "\n",
      "Generating response for 72...\n"
     ]
    },
    {
     "name": "stderr",
     "output_type": "stream",
     "text": [
      " 73%|███████▎  | 73/100 [11:01<06:23, 14.20s/it]"
     ]
    },
    {
     "name": "stdout",
     "output_type": "stream",
     "text": [
      "Saving results to results/internvl/output_internvl.json...\n",
      "Results saved.\n",
      "\n",
      "Generating response for 73...\n"
     ]
    },
    {
     "name": "stderr",
     "output_type": "stream",
     "text": [
      " 74%|███████▍  | 74/100 [11:08<05:16, 12.18s/it]"
     ]
    },
    {
     "name": "stdout",
     "output_type": "stream",
     "text": [
      "Saving results to results/internvl/output_internvl.json...\n",
      "Results saved.\n",
      "\n",
      "Generating response for 74...\n"
     ]
    },
    {
     "name": "stderr",
     "output_type": "stream",
     "text": [
      " 75%|███████▌  | 75/100 [11:11<03:52,  9.32s/it]"
     ]
    },
    {
     "name": "stdout",
     "output_type": "stream",
     "text": [
      "Saving results to results/internvl/output_internvl.json...\n",
      "Results saved.\n",
      "\n",
      "Generating response for 75...\n"
     ]
    },
    {
     "name": "stderr",
     "output_type": "stream",
     "text": [
      " 76%|███████▌  | 76/100 [11:19<03:34,  8.96s/it]"
     ]
    },
    {
     "name": "stdout",
     "output_type": "stream",
     "text": [
      "Saving results to results/internvl/output_internvl.json...\n",
      "Results saved.\n",
      "\n",
      "Generating response for 76...\n"
     ]
    },
    {
     "name": "stderr",
     "output_type": "stream",
     "text": [
      " 77%|███████▋  | 77/100 [11:24<02:54,  7.58s/it]"
     ]
    },
    {
     "name": "stdout",
     "output_type": "stream",
     "text": [
      "Saving results to results/internvl/output_internvl.json...\n",
      "Results saved.\n",
      "\n",
      "Generating response for 77...\n"
     ]
    },
    {
     "name": "stderr",
     "output_type": "stream",
     "text": [
      " 78%|███████▊  | 78/100 [11:32<02:50,  7.76s/it]"
     ]
    },
    {
     "name": "stdout",
     "output_type": "stream",
     "text": [
      "Saving results to results/internvl/output_internvl.json...\n",
      "Results saved.\n",
      "\n",
      "Generating response for 78...\n"
     ]
    },
    {
     "name": "stderr",
     "output_type": "stream",
     "text": [
      " 79%|███████▉  | 79/100 [11:52<03:59, 11.40s/it]"
     ]
    },
    {
     "name": "stdout",
     "output_type": "stream",
     "text": [
      "Saving results to results/internvl/output_internvl.json...\n",
      "Results saved.\n",
      "\n",
      "Generating response for 79...\n"
     ]
    },
    {
     "name": "stderr",
     "output_type": "stream",
     "text": [
      " 80%|████████  | 80/100 [12:00<03:30, 10.52s/it]"
     ]
    },
    {
     "name": "stdout",
     "output_type": "stream",
     "text": [
      "Saving results to results/internvl/output_internvl.json...\n",
      "Results saved.\n",
      "\n",
      "Generating response for 80...\n"
     ]
    },
    {
     "name": "stderr",
     "output_type": "stream",
     "text": [
      " 81%|████████  | 81/100 [12:12<03:26, 10.87s/it]"
     ]
    },
    {
     "name": "stdout",
     "output_type": "stream",
     "text": [
      "Saving results to results/internvl/output_internvl.json...\n",
      "Results saved.\n",
      "\n",
      "Generating response for 81...\n"
     ]
    },
    {
     "name": "stderr",
     "output_type": "stream",
     "text": [
      " 82%|████████▏ | 82/100 [12:25<03:25, 11.44s/it]"
     ]
    },
    {
     "name": "stdout",
     "output_type": "stream",
     "text": [
      "Saving results to results/internvl/output_internvl.json...\n",
      "Results saved.\n",
      "\n",
      "Generating response for 82...\n"
     ]
    },
    {
     "name": "stderr",
     "output_type": "stream",
     "text": [
      " 83%|████████▎ | 83/100 [12:32<02:54, 10.27s/it]"
     ]
    },
    {
     "name": "stdout",
     "output_type": "stream",
     "text": [
      "Saving results to results/internvl/output_internvl.json...\n",
      "Results saved.\n",
      "\n",
      "Generating response for 83...\n"
     ]
    },
    {
     "name": "stderr",
     "output_type": "stream",
     "text": [
      " 84%|████████▍ | 84/100 [12:51<03:23, 12.71s/it]"
     ]
    },
    {
     "name": "stdout",
     "output_type": "stream",
     "text": [
      "Saving results to results/internvl/output_internvl.json...\n",
      "Results saved.\n",
      "\n",
      "Generating response for 84...\n"
     ]
    },
    {
     "name": "stderr",
     "output_type": "stream",
     "text": [
      " 85%|████████▌ | 85/100 [12:56<02:36, 10.43s/it]"
     ]
    },
    {
     "name": "stdout",
     "output_type": "stream",
     "text": [
      "Saving results to results/internvl/output_internvl.json...\n",
      "Results saved.\n",
      "\n",
      "Generating response for 85...\n"
     ]
    },
    {
     "name": "stderr",
     "output_type": "stream",
     "text": [
      " 86%|████████▌ | 86/100 [13:12<02:50, 12.21s/it]"
     ]
    },
    {
     "name": "stdout",
     "output_type": "stream",
     "text": [
      "Saving results to results/internvl/output_internvl.json...\n",
      "Results saved.\n",
      "\n",
      "Generating response for 86...\n"
     ]
    },
    {
     "name": "stderr",
     "output_type": "stream",
     "text": [
      " 87%|████████▋ | 87/100 [13:24<02:38, 12.19s/it]"
     ]
    },
    {
     "name": "stdout",
     "output_type": "stream",
     "text": [
      "Saving results to results/internvl/output_internvl.json...\n",
      "Results saved.\n",
      "\n",
      "Generating response for 87...\n"
     ]
    },
    {
     "name": "stderr",
     "output_type": "stream",
     "text": [
      " 88%|████████▊ | 88/100 [13:37<02:29, 12.46s/it]"
     ]
    },
    {
     "name": "stdout",
     "output_type": "stream",
     "text": [
      "Saving results to results/internvl/output_internvl.json...\n",
      "Results saved.\n",
      "\n",
      "Generating response for 88...\n"
     ]
    },
    {
     "name": "stderr",
     "output_type": "stream",
     "text": [
      " 89%|████████▉ | 89/100 [13:40<01:44,  9.52s/it]"
     ]
    },
    {
     "name": "stdout",
     "output_type": "stream",
     "text": [
      "Saving results to results/internvl/output_internvl.json...\n",
      "Results saved.\n",
      "\n",
      "Generating response for 89...\n"
     ]
    },
    {
     "name": "stderr",
     "output_type": "stream",
     "text": [
      " 90%|█████████ | 90/100 [13:41<01:11,  7.13s/it]"
     ]
    },
    {
     "name": "stdout",
     "output_type": "stream",
     "text": [
      "Saving results to results/internvl/output_internvl.json...\n",
      "Results saved.\n",
      "\n",
      "Generating response for 90...\n"
     ]
    },
    {
     "name": "stderr",
     "output_type": "stream",
     "text": [
      " 91%|█████████ | 91/100 [13:45<00:54,  6.06s/it]"
     ]
    },
    {
     "name": "stdout",
     "output_type": "stream",
     "text": [
      "Saving results to results/internvl/output_internvl.json...\n",
      "Results saved.\n",
      "\n",
      "Generating response for 91...\n"
     ]
    },
    {
     "name": "stderr",
     "output_type": "stream",
     "text": [
      " 92%|█████████▏| 92/100 [13:49<00:42,  5.34s/it]"
     ]
    },
    {
     "name": "stdout",
     "output_type": "stream",
     "text": [
      "Saving results to results/internvl/output_internvl.json...\n",
      "Results saved.\n",
      "\n",
      "Generating response for 92...\n"
     ]
    },
    {
     "name": "stderr",
     "output_type": "stream",
     "text": [
      " 93%|█████████▎| 93/100 [13:53<00:36,  5.17s/it]"
     ]
    },
    {
     "name": "stdout",
     "output_type": "stream",
     "text": [
      "Saving results to results/internvl/output_internvl.json...\n",
      "Results saved.\n",
      "\n",
      "Generating response for 93...\n"
     ]
    },
    {
     "name": "stderr",
     "output_type": "stream",
     "text": [
      " 94%|█████████▍| 94/100 [14:10<00:52,  8.68s/it]"
     ]
    },
    {
     "name": "stdout",
     "output_type": "stream",
     "text": [
      "Saving results to results/internvl/output_internvl.json...\n",
      "Results saved.\n",
      "\n",
      "Generating response for 94...\n"
     ]
    },
    {
     "name": "stderr",
     "output_type": "stream",
     "text": [
      " 95%|█████████▌| 95/100 [14:33<01:05, 13.03s/it]"
     ]
    },
    {
     "name": "stdout",
     "output_type": "stream",
     "text": [
      "Saving results to results/internvl/output_internvl.json...\n",
      "Results saved.\n",
      "\n",
      "Generating response for 95...\n"
     ]
    },
    {
     "name": "stderr",
     "output_type": "stream",
     "text": [
      " 96%|█████████▌| 96/100 [14:39<00:42, 10.66s/it]"
     ]
    },
    {
     "name": "stdout",
     "output_type": "stream",
     "text": [
      "Saving results to results/internvl/output_internvl.json...\n",
      "Results saved.\n",
      "\n",
      "Generating response for 96...\n"
     ]
    },
    {
     "name": "stderr",
     "output_type": "stream",
     "text": [
      " 97%|█████████▋| 97/100 [14:42<00:25,  8.33s/it]"
     ]
    },
    {
     "name": "stdout",
     "output_type": "stream",
     "text": [
      "Saving results to results/internvl/output_internvl.json...\n",
      "Results saved.\n",
      "\n",
      "Generating response for 97...\n"
     ]
    },
    {
     "name": "stderr",
     "output_type": "stream",
     "text": [
      " 98%|█████████▊| 98/100 [14:44<00:13,  6.69s/it]"
     ]
    },
    {
     "name": "stdout",
     "output_type": "stream",
     "text": [
      "Saving results to results/internvl/output_internvl.json...\n",
      "Results saved.\n",
      "\n",
      "Generating response for 98...\n"
     ]
    },
    {
     "name": "stderr",
     "output_type": "stream",
     "text": [
      " 99%|█████████▉| 99/100 [14:48<00:05,  5.87s/it]"
     ]
    },
    {
     "name": "stdout",
     "output_type": "stream",
     "text": [
      "Saving results to results/internvl/output_internvl.json...\n",
      "Results saved.\n",
      "\n",
      "Generating response for 99...\n"
     ]
    },
    {
     "name": "stderr",
     "output_type": "stream",
     "text": [
      "100%|██████████| 100/100 [14:57<00:00,  8.98s/it]\n"
     ]
    },
    {
     "name": "stdout",
     "output_type": "stream",
     "text": [
      "Saving results to results/internvl/output_internvl.json...\n",
      "Results saved.\n"
     ]
    },
    {
     "name": "stderr",
     "output_type": "stream",
     "text": [
      "  0%|          | 0/100 [00:00<?, ?it/s]"
     ]
    },
    {
     "name": "stdout",
     "output_type": "stream",
     "text": [
      "\n",
      "Generating response for 0...\n"
     ]
    },
    {
     "name": "stderr",
     "output_type": "stream",
     "text": [
      "  1%|          | 1/100 [00:18<31:16, 18.96s/it]"
     ]
    },
    {
     "name": "stdout",
     "output_type": "stream",
     "text": [
      "Saving results to results/internvl/output_internvl.json...\n",
      "Results saved.\n",
      "\n",
      "Generating response for 1...\n"
     ]
    },
    {
     "name": "stderr",
     "output_type": "stream",
     "text": [
      "  2%|▏         | 2/100 [00:21<15:26,  9.45s/it]"
     ]
    },
    {
     "name": "stdout",
     "output_type": "stream",
     "text": [
      "Saving results to results/internvl/output_internvl.json...\n",
      "Results saved.\n",
      "\n",
      "Generating response for 2...\n"
     ]
    },
    {
     "name": "stderr",
     "output_type": "stream",
     "text": [
      "  3%|▎         | 3/100 [00:37<19:57, 12.34s/it]"
     ]
    },
    {
     "name": "stdout",
     "output_type": "stream",
     "text": [
      "Saving results to results/internvl/output_internvl.json...\n",
      "Results saved.\n",
      "\n",
      "Generating response for 3...\n"
     ]
    },
    {
     "name": "stderr",
     "output_type": "stream",
     "text": [
      "  4%|▍         | 4/100 [00:40<13:55,  8.70s/it]"
     ]
    },
    {
     "name": "stdout",
     "output_type": "stream",
     "text": [
      "Saving results to results/internvl/output_internvl.json...\n",
      "Results saved.\n",
      "\n",
      "Generating response for 4...\n"
     ]
    },
    {
     "name": "stderr",
     "output_type": "stream",
     "text": [
      "  5%|▌         | 5/100 [00:52<15:37,  9.87s/it]"
     ]
    },
    {
     "name": "stdout",
     "output_type": "stream",
     "text": [
      "Saving results to results/internvl/output_internvl.json...\n",
      "Results saved.\n",
      "\n",
      "Generating response for 5...\n"
     ]
    },
    {
     "name": "stderr",
     "output_type": "stream",
     "text": [
      "  6%|▌         | 6/100 [00:59<13:54,  8.88s/it]"
     ]
    },
    {
     "name": "stdout",
     "output_type": "stream",
     "text": [
      "Saving results to results/internvl/output_internvl.json...\n",
      "Results saved.\n",
      "\n",
      "Generating response for 6...\n"
     ]
    },
    {
     "name": "stderr",
     "output_type": "stream",
     "text": [
      "  7%|▋         | 7/100 [01:03<11:02,  7.12s/it]"
     ]
    },
    {
     "name": "stdout",
     "output_type": "stream",
     "text": [
      "Saving results to results/internvl/output_internvl.json...\n",
      "Results saved.\n",
      "\n",
      "Generating response for 7...\n"
     ]
    },
    {
     "name": "stderr",
     "output_type": "stream",
     "text": [
      "  8%|▊         | 8/100 [01:09<10:32,  6.87s/it]"
     ]
    },
    {
     "name": "stdout",
     "output_type": "stream",
     "text": [
      "Saving results to results/internvl/output_internvl.json...\n",
      "Results saved.\n",
      "\n",
      "Generating response for 8...\n"
     ]
    },
    {
     "name": "stderr",
     "output_type": "stream",
     "text": [
      "  9%|▉         | 9/100 [01:18<11:30,  7.59s/it]"
     ]
    },
    {
     "name": "stdout",
     "output_type": "stream",
     "text": [
      "Saving results to results/internvl/output_internvl.json...\n",
      "Results saved.\n",
      "\n",
      "Generating response for 9...\n"
     ]
    },
    {
     "name": "stderr",
     "output_type": "stream",
     "text": [
      " 10%|█         | 10/100 [01:43<19:14, 12.83s/it]"
     ]
    },
    {
     "name": "stdout",
     "output_type": "stream",
     "text": [
      "Saving results to results/internvl/output_internvl.json...\n",
      "Results saved.\n",
      "\n",
      "Generating response for 10...\n"
     ]
    },
    {
     "name": "stderr",
     "output_type": "stream",
     "text": [
      " 11%|█         | 11/100 [01:45<14:29,  9.77s/it]"
     ]
    },
    {
     "name": "stdout",
     "output_type": "stream",
     "text": [
      "Saving results to results/internvl/output_internvl.json...\n",
      "Results saved.\n",
      "\n",
      "Generating response for 11...\n"
     ]
    },
    {
     "name": "stderr",
     "output_type": "stream",
     "text": [
      " 12%|█▏        | 12/100 [01:50<11:57,  8.16s/it]"
     ]
    },
    {
     "name": "stdout",
     "output_type": "stream",
     "text": [
      "Saving results to results/internvl/output_internvl.json...\n",
      "Results saved.\n",
      "\n",
      "Generating response for 12...\n"
     ]
    },
    {
     "name": "stderr",
     "output_type": "stream",
     "text": [
      " 13%|█▎        | 13/100 [01:56<10:50,  7.48s/it]"
     ]
    },
    {
     "name": "stdout",
     "output_type": "stream",
     "text": [
      "Saving results to results/internvl/output_internvl.json...\n",
      "Results saved.\n",
      "\n",
      "Generating response for 13...\n"
     ]
    },
    {
     "name": "stderr",
     "output_type": "stream",
     "text": [
      " 14%|█▍        | 14/100 [02:04<11:12,  7.82s/it]"
     ]
    },
    {
     "name": "stdout",
     "output_type": "stream",
     "text": [
      "Saving results to results/internvl/output_internvl.json...\n",
      "Results saved.\n",
      "\n",
      "Generating response for 14...\n"
     ]
    },
    {
     "name": "stderr",
     "output_type": "stream",
     "text": [
      " 15%|█▌        | 15/100 [02:13<11:35,  8.18s/it]"
     ]
    },
    {
     "name": "stdout",
     "output_type": "stream",
     "text": [
      "Saving results to results/internvl/output_internvl.json...\n",
      "Results saved.\n",
      "\n",
      "Generating response for 15...\n"
     ]
    },
    {
     "name": "stderr",
     "output_type": "stream",
     "text": [
      " 16%|█▌        | 16/100 [02:20<10:33,  7.54s/it]"
     ]
    },
    {
     "name": "stdout",
     "output_type": "stream",
     "text": [
      "Saving results to results/internvl/output_internvl.json...\n",
      "Results saved.\n",
      "\n",
      "Generating response for 16...\n"
     ]
    },
    {
     "name": "stderr",
     "output_type": "stream",
     "text": [
      " 17%|█▋        | 17/100 [02:29<11:11,  8.09s/it]"
     ]
    },
    {
     "name": "stdout",
     "output_type": "stream",
     "text": [
      "Saving results to results/internvl/output_internvl.json...\n",
      "Results saved.\n",
      "\n",
      "Generating response for 17...\n"
     ]
    },
    {
     "name": "stderr",
     "output_type": "stream",
     "text": [
      " 18%|█▊        | 18/100 [02:32<09:12,  6.73s/it]"
     ]
    },
    {
     "name": "stdout",
     "output_type": "stream",
     "text": [
      "Saving results to results/internvl/output_internvl.json...\n",
      "Results saved.\n",
      "\n",
      "Generating response for 18...\n"
     ]
    },
    {
     "name": "stderr",
     "output_type": "stream",
     "text": [
      " 19%|█▉        | 19/100 [02:35<07:12,  5.34s/it]"
     ]
    },
    {
     "name": "stdout",
     "output_type": "stream",
     "text": [
      "Saving results to results/internvl/output_internvl.json...\n",
      "Results saved.\n",
      "\n",
      "Generating response for 19...\n"
     ]
    },
    {
     "name": "stderr",
     "output_type": "stream",
     "text": [
      " 20%|██        | 20/100 [02:42<07:50,  5.88s/it]"
     ]
    },
    {
     "name": "stdout",
     "output_type": "stream",
     "text": [
      "Saving results to results/internvl/output_internvl.json...\n",
      "Results saved.\n",
      "\n",
      "Generating response for 20...\n"
     ]
    },
    {
     "name": "stderr",
     "output_type": "stream",
     "text": [
      " 21%|██        | 21/100 [02:43<05:57,  4.53s/it]"
     ]
    },
    {
     "name": "stdout",
     "output_type": "stream",
     "text": [
      "Saving results to results/internvl/output_internvl.json...\n",
      "Results saved.\n",
      "\n",
      "Generating response for 21...\n"
     ]
    },
    {
     "name": "stderr",
     "output_type": "stream",
     "text": [
      " 22%|██▏       | 22/100 [02:47<05:34,  4.28s/it]"
     ]
    },
    {
     "name": "stdout",
     "output_type": "stream",
     "text": [
      "Saving results to results/internvl/output_internvl.json...\n",
      "Results saved.\n",
      "\n",
      "Generating response for 22...\n"
     ]
    },
    {
     "name": "stderr",
     "output_type": "stream",
     "text": [
      " 23%|██▎       | 23/100 [02:59<08:27,  6.60s/it]"
     ]
    },
    {
     "name": "stdout",
     "output_type": "stream",
     "text": [
      "Saving results to results/internvl/output_internvl.json...\n",
      "Results saved.\n",
      "\n",
      "Generating response for 23...\n"
     ]
    },
    {
     "name": "stderr",
     "output_type": "stream",
     "text": [
      " 24%|██▍       | 24/100 [03:02<07:10,  5.67s/it]"
     ]
    },
    {
     "name": "stdout",
     "output_type": "stream",
     "text": [
      "Saving results to results/internvl/output_internvl.json...\n",
      "Results saved.\n",
      "\n",
      "Generating response for 24...\n"
     ]
    },
    {
     "name": "stderr",
     "output_type": "stream",
     "text": [
      " 25%|██▌       | 25/100 [03:13<08:50,  7.08s/it]"
     ]
    },
    {
     "name": "stdout",
     "output_type": "stream",
     "text": [
      "Saving results to results/internvl/output_internvl.json...\n",
      "Results saved.\n",
      "\n",
      "Generating response for 25...\n"
     ]
    },
    {
     "name": "stderr",
     "output_type": "stream",
     "text": [
      " 26%|██▌       | 26/100 [03:20<08:48,  7.14s/it]"
     ]
    },
    {
     "name": "stdout",
     "output_type": "stream",
     "text": [
      "Saving results to results/internvl/output_internvl.json...\n",
      "Results saved.\n",
      "\n",
      "Generating response for 26...\n"
     ]
    },
    {
     "name": "stderr",
     "output_type": "stream",
     "text": [
      " 27%|██▋       | 27/100 [03:22<06:42,  5.51s/it]"
     ]
    },
    {
     "name": "stdout",
     "output_type": "stream",
     "text": [
      "Saving results to results/internvl/output_internvl.json...\n",
      "Results saved.\n",
      "\n",
      "Generating response for 27...\n"
     ]
    },
    {
     "name": "stderr",
     "output_type": "stream",
     "text": [
      " 28%|██▊       | 28/100 [03:33<08:36,  7.17s/it]"
     ]
    },
    {
     "name": "stdout",
     "output_type": "stream",
     "text": [
      "Saving results to results/internvl/output_internvl.json...\n",
      "Results saved.\n",
      "\n",
      "Generating response for 28...\n"
     ]
    },
    {
     "name": "stderr",
     "output_type": "stream",
     "text": [
      " 29%|██▉       | 29/100 [03:37<07:28,  6.31s/it]"
     ]
    },
    {
     "name": "stdout",
     "output_type": "stream",
     "text": [
      "Saving results to results/internvl/output_internvl.json...\n",
      "Results saved.\n",
      "\n",
      "Generating response for 29...\n"
     ]
    },
    {
     "name": "stderr",
     "output_type": "stream",
     "text": [
      " 30%|███       | 30/100 [03:50<09:32,  8.18s/it]"
     ]
    },
    {
     "name": "stdout",
     "output_type": "stream",
     "text": [
      "Saving results to results/internvl/output_internvl.json...\n",
      "Results saved.\n",
      "\n",
      "Generating response for 30...\n"
     ]
    },
    {
     "name": "stderr",
     "output_type": "stream",
     "text": [
      " 31%|███       | 31/100 [03:55<08:30,  7.40s/it]"
     ]
    },
    {
     "name": "stdout",
     "output_type": "stream",
     "text": [
      "Saving results to results/internvl/output_internvl.json...\n",
      "Results saved.\n",
      "\n",
      "Generating response for 31...\n"
     ]
    },
    {
     "name": "stderr",
     "output_type": "stream",
     "text": [
      " 32%|███▏      | 32/100 [04:07<09:59,  8.81s/it]"
     ]
    },
    {
     "name": "stdout",
     "output_type": "stream",
     "text": [
      "Saving results to results/internvl/output_internvl.json...\n",
      "Results saved.\n",
      "\n",
      "Generating response for 32...\n"
     ]
    },
    {
     "name": "stderr",
     "output_type": "stream",
     "text": [
      " 33%|███▎      | 33/100 [04:17<10:05,  9.03s/it]"
     ]
    },
    {
     "name": "stdout",
     "output_type": "stream",
     "text": [
      "Saving results to results/internvl/output_internvl.json...\n",
      "Results saved.\n",
      "\n",
      "Generating response for 33...\n"
     ]
    },
    {
     "name": "stderr",
     "output_type": "stream",
     "text": [
      " 34%|███▍      | 34/100 [04:45<16:19, 14.85s/it]"
     ]
    },
    {
     "name": "stdout",
     "output_type": "stream",
     "text": [
      "Saving results to results/internvl/output_internvl.json...\n",
      "Results saved.\n",
      "\n",
      "Generating response for 34...\n"
     ]
    },
    {
     "name": "stderr",
     "output_type": "stream",
     "text": [
      " 35%|███▌      | 35/100 [05:02<16:40, 15.39s/it]"
     ]
    },
    {
     "name": "stdout",
     "output_type": "stream",
     "text": [
      "Saving results to results/internvl/output_internvl.json...\n",
      "Results saved.\n",
      "\n",
      "Generating response for 35...\n"
     ]
    },
    {
     "name": "stderr",
     "output_type": "stream",
     "text": [
      " 36%|███▌      | 36/100 [05:05<12:28, 11.69s/it]"
     ]
    },
    {
     "name": "stdout",
     "output_type": "stream",
     "text": [
      "Saving results to results/internvl/output_internvl.json...\n",
      "Results saved.\n",
      "\n",
      "Generating response for 36...\n"
     ]
    },
    {
     "name": "stderr",
     "output_type": "stream",
     "text": [
      " 37%|███▋      | 37/100 [05:14<11:31, 10.97s/it]"
     ]
    },
    {
     "name": "stdout",
     "output_type": "stream",
     "text": [
      "Saving results to results/internvl/output_internvl.json...\n",
      "Results saved.\n",
      "\n",
      "Generating response for 37...\n"
     ]
    },
    {
     "name": "stderr",
     "output_type": "stream",
     "text": [
      " 38%|███▊      | 38/100 [05:17<08:53,  8.61s/it]"
     ]
    },
    {
     "name": "stdout",
     "output_type": "stream",
     "text": [
      "Saving results to results/internvl/output_internvl.json...\n",
      "Results saved.\n",
      "\n",
      "Generating response for 38...\n"
     ]
    },
    {
     "name": "stderr",
     "output_type": "stream",
     "text": [
      " 39%|███▉      | 39/100 [05:31<10:18, 10.14s/it]"
     ]
    },
    {
     "name": "stdout",
     "output_type": "stream",
     "text": [
      "Saving results to results/internvl/output_internvl.json...\n",
      "Results saved.\n",
      "\n",
      "Generating response for 39...\n"
     ]
    },
    {
     "name": "stderr",
     "output_type": "stream",
     "text": [
      " 40%|████      | 40/100 [05:33<07:47,  7.79s/it]"
     ]
    },
    {
     "name": "stdout",
     "output_type": "stream",
     "text": [
      "Saving results to results/internvl/output_internvl.json...\n",
      "Results saved.\n",
      "\n",
      "Generating response for 40...\n"
     ]
    },
    {
     "name": "stderr",
     "output_type": "stream",
     "text": [
      " 41%|████      | 41/100 [05:36<06:04,  6.17s/it]"
     ]
    },
    {
     "name": "stdout",
     "output_type": "stream",
     "text": [
      "Saving results to results/internvl/output_internvl.json...\n",
      "Results saved.\n",
      "\n",
      "Generating response for 41...\n"
     ]
    },
    {
     "name": "stderr",
     "output_type": "stream",
     "text": [
      " 42%|████▏     | 42/100 [05:38<04:54,  5.08s/it]"
     ]
    },
    {
     "name": "stdout",
     "output_type": "stream",
     "text": [
      "Saving results to results/internvl/output_internvl.json...\n",
      "Results saved.\n",
      "\n",
      "Generating response for 42...\n"
     ]
    },
    {
     "name": "stderr",
     "output_type": "stream",
     "text": [
      " 43%|████▎     | 43/100 [05:51<07:03,  7.43s/it]"
     ]
    },
    {
     "name": "stdout",
     "output_type": "stream",
     "text": [
      "Saving results to results/internvl/output_internvl.json...\n",
      "Results saved.\n",
      "\n",
      "Generating response for 43...\n"
     ]
    },
    {
     "name": "stderr",
     "output_type": "stream",
     "text": [
      " 44%|████▍     | 44/100 [05:59<07:07,  7.64s/it]"
     ]
    },
    {
     "name": "stdout",
     "output_type": "stream",
     "text": [
      "Saving results to results/internvl/output_internvl.json...\n",
      "Results saved.\n",
      "\n",
      "Generating response for 44...\n"
     ]
    },
    {
     "name": "stderr",
     "output_type": "stream",
     "text": [
      " 45%|████▌     | 45/100 [06:07<07:08,  7.79s/it]"
     ]
    },
    {
     "name": "stdout",
     "output_type": "stream",
     "text": [
      "Saving results to results/internvl/output_internvl.json...\n",
      "Results saved.\n",
      "\n",
      "Generating response for 45...\n"
     ]
    },
    {
     "name": "stderr",
     "output_type": "stream",
     "text": [
      " 46%|████▌     | 46/100 [06:13<06:30,  7.22s/it]"
     ]
    },
    {
     "name": "stdout",
     "output_type": "stream",
     "text": [
      "Saving results to results/internvl/output_internvl.json...\n",
      "Results saved.\n",
      "\n",
      "Generating response for 46...\n"
     ]
    },
    {
     "name": "stderr",
     "output_type": "stream",
     "text": [
      " 47%|████▋     | 47/100 [06:20<06:15,  7.08s/it]"
     ]
    },
    {
     "name": "stdout",
     "output_type": "stream",
     "text": [
      "Saving results to results/internvl/output_internvl.json...\n",
      "Results saved.\n",
      "\n",
      "Generating response for 47...\n"
     ]
    },
    {
     "name": "stderr",
     "output_type": "stream",
     "text": [
      " 48%|████▊     | 48/100 [06:31<07:03,  8.14s/it]"
     ]
    },
    {
     "name": "stdout",
     "output_type": "stream",
     "text": [
      "Saving results to results/internvl/output_internvl.json...\n",
      "Results saved.\n",
      "\n",
      "Generating response for 48...\n"
     ]
    },
    {
     "name": "stderr",
     "output_type": "stream",
     "text": [
      " 49%|████▉     | 49/100 [06:34<05:37,  6.62s/it]"
     ]
    },
    {
     "name": "stdout",
     "output_type": "stream",
     "text": [
      "Saving results to results/internvl/output_internvl.json...\n",
      "Results saved.\n",
      "\n",
      "Generating response for 49...\n"
     ]
    },
    {
     "name": "stderr",
     "output_type": "stream",
     "text": [
      " 50%|█████     | 50/100 [06:49<07:47,  9.34s/it]"
     ]
    },
    {
     "name": "stdout",
     "output_type": "stream",
     "text": [
      "Saving results to results/internvl/output_internvl.json...\n",
      "Results saved.\n",
      "\n",
      "Generating response for 50...\n"
     ]
    },
    {
     "name": "stderr",
     "output_type": "stream",
     "text": [
      " 51%|█████     | 51/100 [06:58<07:25,  9.09s/it]"
     ]
    },
    {
     "name": "stdout",
     "output_type": "stream",
     "text": [
      "Saving results to results/internvl/output_internvl.json...\n",
      "Results saved.\n",
      "\n",
      "Generating response for 51...\n"
     ]
    },
    {
     "name": "stderr",
     "output_type": "stream",
     "text": [
      " 52%|█████▏    | 52/100 [07:00<05:37,  7.02s/it]"
     ]
    },
    {
     "name": "stdout",
     "output_type": "stream",
     "text": [
      "Saving results to results/internvl/output_internvl.json...\n",
      "Results saved.\n",
      "\n",
      "Generating response for 52...\n"
     ]
    },
    {
     "name": "stderr",
     "output_type": "stream",
     "text": [
      " 53%|█████▎    | 53/100 [07:03<04:34,  5.84s/it]"
     ]
    },
    {
     "name": "stdout",
     "output_type": "stream",
     "text": [
      "Saving results to results/internvl/output_internvl.json...\n",
      "Results saved.\n",
      "\n",
      "Generating response for 53...\n"
     ]
    },
    {
     "name": "stderr",
     "output_type": "stream",
     "text": [
      " 54%|█████▍    | 54/100 [07:13<05:26,  7.10s/it]"
     ]
    },
    {
     "name": "stdout",
     "output_type": "stream",
     "text": [
      "Saving results to results/internvl/output_internvl.json...\n",
      "Results saved.\n",
      "\n",
      "Generating response for 54...\n"
     ]
    },
    {
     "name": "stderr",
     "output_type": "stream",
     "text": [
      " 55%|█████▌    | 55/100 [07:31<07:45, 10.35s/it]"
     ]
    },
    {
     "name": "stdout",
     "output_type": "stream",
     "text": [
      "Saving results to results/internvl/output_internvl.json...\n",
      "Results saved.\n",
      "\n",
      "Generating response for 55...\n"
     ]
    },
    {
     "name": "stderr",
     "output_type": "stream",
     "text": [
      " 56%|█████▌    | 56/100 [07:37<06:34,  8.97s/it]"
     ]
    },
    {
     "name": "stdout",
     "output_type": "stream",
     "text": [
      "Saving results to results/internvl/output_internvl.json...\n",
      "Results saved.\n",
      "\n",
      "Generating response for 56...\n"
     ]
    },
    {
     "name": "stderr",
     "output_type": "stream",
     "text": [
      " 57%|█████▋    | 57/100 [07:42<05:35,  7.81s/it]"
     ]
    },
    {
     "name": "stdout",
     "output_type": "stream",
     "text": [
      "Saving results to results/internvl/output_internvl.json...\n",
      "Results saved.\n",
      "\n",
      "Generating response for 57...\n"
     ]
    },
    {
     "name": "stderr",
     "output_type": "stream",
     "text": [
      " 58%|█████▊    | 58/100 [07:48<05:04,  7.26s/it]"
     ]
    },
    {
     "name": "stdout",
     "output_type": "stream",
     "text": [
      "Saving results to results/internvl/output_internvl.json...\n",
      "Results saved.\n",
      "\n",
      "Generating response for 58...\n"
     ]
    },
    {
     "name": "stderr",
     "output_type": "stream",
     "text": [
      " 59%|█████▉    | 59/100 [08:07<07:23, 10.81s/it]"
     ]
    },
    {
     "name": "stdout",
     "output_type": "stream",
     "text": [
      "Saving results to results/internvl/output_internvl.json...\n",
      "Results saved.\n",
      "\n",
      "Generating response for 59...\n"
     ]
    },
    {
     "name": "stderr",
     "output_type": "stream",
     "text": [
      " 60%|██████    | 60/100 [08:11<05:54,  8.86s/it]"
     ]
    },
    {
     "name": "stdout",
     "output_type": "stream",
     "text": [
      "Saving results to results/internvl/output_internvl.json...\n",
      "Results saved.\n",
      "\n",
      "Generating response for 60...\n"
     ]
    },
    {
     "name": "stderr",
     "output_type": "stream",
     "text": [
      " 61%|██████    | 61/100 [08:17<05:02,  7.76s/it]"
     ]
    },
    {
     "name": "stdout",
     "output_type": "stream",
     "text": [
      "Saving results to results/internvl/output_internvl.json...\n",
      "Results saved.\n",
      "\n",
      "Generating response for 61...\n"
     ]
    },
    {
     "name": "stderr",
     "output_type": "stream",
     "text": [
      " 62%|██████▏   | 62/100 [08:31<06:12,  9.80s/it]"
     ]
    },
    {
     "name": "stdout",
     "output_type": "stream",
     "text": [
      "Saving results to results/internvl/output_internvl.json...\n",
      "Results saved.\n",
      "\n",
      "Generating response for 62...\n"
     ]
    },
    {
     "name": "stderr",
     "output_type": "stream",
     "text": [
      " 63%|██████▎   | 63/100 [08:34<04:39,  7.56s/it]"
     ]
    },
    {
     "name": "stdout",
     "output_type": "stream",
     "text": [
      "Saving results to results/internvl/output_internvl.json...\n",
      "Results saved.\n",
      "\n",
      "Generating response for 63...\n"
     ]
    },
    {
     "name": "stderr",
     "output_type": "stream",
     "text": [
      " 64%|██████▍   | 64/100 [08:47<05:32,  9.23s/it]"
     ]
    },
    {
     "name": "stdout",
     "output_type": "stream",
     "text": [
      "Saving results to results/internvl/output_internvl.json...\n",
      "Results saved.\n",
      "\n",
      "Generating response for 64...\n"
     ]
    },
    {
     "name": "stderr",
     "output_type": "stream",
     "text": [
      " 65%|██████▌   | 65/100 [08:55<05:14,  8.97s/it]"
     ]
    },
    {
     "name": "stdout",
     "output_type": "stream",
     "text": [
      "Saving results to results/internvl/output_internvl.json...\n",
      "Results saved.\n",
      "\n",
      "Generating response for 65...\n"
     ]
    },
    {
     "name": "stderr",
     "output_type": "stream",
     "text": [
      " 66%|██████▌   | 66/100 [09:01<04:33,  8.05s/it]"
     ]
    },
    {
     "name": "stdout",
     "output_type": "stream",
     "text": [
      "Saving results to results/internvl/output_internvl.json...\n",
      "Results saved.\n",
      "\n",
      "Generating response for 66...\n"
     ]
    },
    {
     "name": "stderr",
     "output_type": "stream",
     "text": [
      " 67%|██████▋   | 67/100 [09:04<03:37,  6.59s/it]"
     ]
    },
    {
     "name": "stdout",
     "output_type": "stream",
     "text": [
      "Saving results to results/internvl/output_internvl.json...\n",
      "Results saved.\n",
      "\n",
      "Generating response for 67...\n"
     ]
    },
    {
     "name": "stderr",
     "output_type": "stream",
     "text": [
      " 68%|██████▊   | 68/100 [09:19<04:51,  9.10s/it]"
     ]
    },
    {
     "name": "stdout",
     "output_type": "stream",
     "text": [
      "Saving results to results/internvl/output_internvl.json...\n",
      "Results saved.\n",
      "\n",
      "Generating response for 68...\n"
     ]
    },
    {
     "name": "stderr",
     "output_type": "stream",
     "text": [
      " 69%|██████▉   | 69/100 [09:21<03:40,  7.10s/it]"
     ]
    },
    {
     "name": "stdout",
     "output_type": "stream",
     "text": [
      "Saving results to results/internvl/output_internvl.json...\n",
      "Results saved.\n",
      "\n",
      "Generating response for 69...\n"
     ]
    },
    {
     "name": "stderr",
     "output_type": "stream",
     "text": [
      " 70%|███████   | 70/100 [09:24<02:54,  5.82s/it]"
     ]
    },
    {
     "name": "stdout",
     "output_type": "stream",
     "text": [
      "Saving results to results/internvl/output_internvl.json...\n",
      "Results saved.\n",
      "\n",
      "Generating response for 70...\n"
     ]
    },
    {
     "name": "stderr",
     "output_type": "stream",
     "text": [
      " 71%|███████   | 71/100 [09:30<02:46,  5.73s/it]"
     ]
    },
    {
     "name": "stdout",
     "output_type": "stream",
     "text": [
      "Saving results to results/internvl/output_internvl.json...\n",
      "Results saved.\n",
      "\n",
      "Generating response for 71...\n"
     ]
    },
    {
     "name": "stderr",
     "output_type": "stream",
     "text": [
      " 72%|███████▏  | 72/100 [09:37<02:53,  6.19s/it]"
     ]
    },
    {
     "name": "stdout",
     "output_type": "stream",
     "text": [
      "Saving results to results/internvl/output_internvl.json...\n",
      "Results saved.\n",
      "\n",
      "Generating response for 72...\n"
     ]
    },
    {
     "name": "stderr",
     "output_type": "stream",
     "text": [
      " 73%|███████▎  | 73/100 [09:48<03:27,  7.68s/it]"
     ]
    },
    {
     "name": "stdout",
     "output_type": "stream",
     "text": [
      "Saving results to results/internvl/output_internvl.json...\n",
      "Results saved.\n",
      "\n",
      "Generating response for 73...\n"
     ]
    },
    {
     "name": "stderr",
     "output_type": "stream",
     "text": [
      " 74%|███████▍  | 74/100 [09:54<03:03,  7.04s/it]"
     ]
    },
    {
     "name": "stdout",
     "output_type": "stream",
     "text": [
      "Saving results to results/internvl/output_internvl.json...\n",
      "Results saved.\n",
      "\n",
      "Generating response for 74...\n"
     ]
    },
    {
     "name": "stderr",
     "output_type": "stream",
     "text": [
      " 75%|███████▌  | 75/100 [09:57<02:30,  6.00s/it]"
     ]
    },
    {
     "name": "stdout",
     "output_type": "stream",
     "text": [
      "Saving results to results/internvl/output_internvl.json...\n",
      "Results saved.\n",
      "\n",
      "Generating response for 75...\n"
     ]
    },
    {
     "name": "stderr",
     "output_type": "stream",
     "text": [
      " 76%|███████▌  | 76/100 [10:06<02:40,  6.69s/it]"
     ]
    },
    {
     "name": "stdout",
     "output_type": "stream",
     "text": [
      "Saving results to results/internvl/output_internvl.json...\n",
      "Results saved.\n",
      "\n",
      "Generating response for 76...\n"
     ]
    },
    {
     "name": "stderr",
     "output_type": "stream",
     "text": [
      " 77%|███████▋  | 77/100 [10:12<02:30,  6.55s/it]"
     ]
    },
    {
     "name": "stdout",
     "output_type": "stream",
     "text": [
      "Saving results to results/internvl/output_internvl.json...\n",
      "Results saved.\n",
      "\n",
      "Generating response for 77...\n"
     ]
    },
    {
     "name": "stderr",
     "output_type": "stream",
     "text": [
      " 78%|███████▊  | 78/100 [10:22<02:45,  7.52s/it]"
     ]
    },
    {
     "name": "stdout",
     "output_type": "stream",
     "text": [
      "Saving results to results/internvl/output_internvl.json...\n",
      "Results saved.\n",
      "\n",
      "Generating response for 78...\n"
     ]
    },
    {
     "name": "stderr",
     "output_type": "stream",
     "text": [
      " 79%|███████▉  | 79/100 [10:34<03:09,  9.04s/it]"
     ]
    },
    {
     "name": "stdout",
     "output_type": "stream",
     "text": [
      "Saving results to results/internvl/output_internvl.json...\n",
      "Results saved.\n",
      "\n",
      "Generating response for 79...\n"
     ]
    },
    {
     "name": "stderr",
     "output_type": "stream",
     "text": [
      " 80%|████████  | 80/100 [10:44<03:06,  9.33s/it]"
     ]
    },
    {
     "name": "stdout",
     "output_type": "stream",
     "text": [
      "Saving results to results/internvl/output_internvl.json...\n",
      "Results saved.\n",
      "\n",
      "Generating response for 80...\n"
     ]
    },
    {
     "name": "stderr",
     "output_type": "stream",
     "text": [
      " 81%|████████  | 81/100 [10:55<03:03,  9.67s/it]"
     ]
    },
    {
     "name": "stdout",
     "output_type": "stream",
     "text": [
      "Saving results to results/internvl/output_internvl.json...\n",
      "Results saved.\n",
      "\n",
      "Generating response for 81...\n"
     ]
    },
    {
     "name": "stderr",
     "output_type": "stream",
     "text": [
      " 82%|████████▏ | 82/100 [11:08<03:14, 10.81s/it]"
     ]
    },
    {
     "name": "stdout",
     "output_type": "stream",
     "text": [
      "Saving results to results/internvl/output_internvl.json...\n",
      "Results saved.\n",
      "\n",
      "Generating response for 82...\n"
     ]
    },
    {
     "name": "stderr",
     "output_type": "stream",
     "text": [
      " 83%|████████▎ | 83/100 [11:13<02:31,  8.89s/it]"
     ]
    },
    {
     "name": "stdout",
     "output_type": "stream",
     "text": [
      "Saving results to results/internvl/output_internvl.json...\n",
      "Results saved.\n",
      "\n",
      "Generating response for 83...\n"
     ]
    },
    {
     "name": "stderr",
     "output_type": "stream",
     "text": [
      " 84%|████████▍ | 84/100 [11:28<02:53, 10.82s/it]"
     ]
    },
    {
     "name": "stdout",
     "output_type": "stream",
     "text": [
      "Saving results to results/internvl/output_internvl.json...\n",
      "Results saved.\n",
      "\n",
      "Generating response for 84...\n"
     ]
    },
    {
     "name": "stderr",
     "output_type": "stream",
     "text": [
      " 85%|████████▌ | 85/100 [11:33<02:16,  9.10s/it]"
     ]
    },
    {
     "name": "stdout",
     "output_type": "stream",
     "text": [
      "Saving results to results/internvl/output_internvl.json...\n",
      "Results saved.\n",
      "\n",
      "Generating response for 85...\n"
     ]
    },
    {
     "name": "stderr",
     "output_type": "stream",
     "text": [
      " 86%|████████▌ | 86/100 [11:53<02:53, 12.39s/it]"
     ]
    },
    {
     "name": "stdout",
     "output_type": "stream",
     "text": [
      "Saving results to results/internvl/output_internvl.json...\n",
      "Results saved.\n",
      "\n",
      "Generating response for 86...\n"
     ]
    },
    {
     "name": "stderr",
     "output_type": "stream",
     "text": [
      " 87%|████████▋ | 87/100 [12:04<02:35, 12.00s/it]"
     ]
    },
    {
     "name": "stdout",
     "output_type": "stream",
     "text": [
      "Saving results to results/internvl/output_internvl.json...\n",
      "Results saved.\n",
      "\n",
      "Generating response for 87...\n"
     ]
    },
    {
     "name": "stderr",
     "output_type": "stream",
     "text": [
      " 88%|████████▊ | 88/100 [12:17<02:26, 12.25s/it]"
     ]
    },
    {
     "name": "stdout",
     "output_type": "stream",
     "text": [
      "Saving results to results/internvl/output_internvl.json...\n",
      "Results saved.\n",
      "\n",
      "Generating response for 88...\n"
     ]
    },
    {
     "name": "stderr",
     "output_type": "stream",
     "text": [
      " 89%|████████▉ | 89/100 [12:19<01:41,  9.22s/it]"
     ]
    },
    {
     "name": "stdout",
     "output_type": "stream",
     "text": [
      "Saving results to results/internvl/output_internvl.json...\n",
      "Results saved.\n",
      "\n",
      "Generating response for 89...\n"
     ]
    },
    {
     "name": "stderr",
     "output_type": "stream",
     "text": [
      " 90%|█████████ | 90/100 [12:21<01:11,  7.15s/it]"
     ]
    },
    {
     "name": "stdout",
     "output_type": "stream",
     "text": [
      "Saving results to results/internvl/output_internvl.json...\n",
      "Results saved.\n",
      "\n",
      "Generating response for 90...\n"
     ]
    },
    {
     "name": "stderr",
     "output_type": "stream",
     "text": [
      " 91%|█████████ | 91/100 [12:26<00:58,  6.46s/it]"
     ]
    },
    {
     "name": "stdout",
     "output_type": "stream",
     "text": [
      "Saving results to results/internvl/output_internvl.json...\n",
      "Results saved.\n",
      "\n",
      "Generating response for 91...\n"
     ]
    },
    {
     "name": "stderr",
     "output_type": "stream",
     "text": [
      " 92%|█████████▏| 92/100 [12:30<00:45,  5.64s/it]"
     ]
    },
    {
     "name": "stdout",
     "output_type": "stream",
     "text": [
      "Saving results to results/internvl/output_internvl.json...\n",
      "Results saved.\n",
      "\n",
      "Generating response for 92...\n"
     ]
    },
    {
     "name": "stderr",
     "output_type": "stream",
     "text": [
      " 93%|█████████▎| 93/100 [12:35<00:38,  5.52s/it]"
     ]
    },
    {
     "name": "stdout",
     "output_type": "stream",
     "text": [
      "Saving results to results/internvl/output_internvl.json...\n",
      "Results saved.\n",
      "\n",
      "Generating response for 93...\n"
     ]
    },
    {
     "name": "stderr",
     "output_type": "stream",
     "text": [
      " 94%|█████████▍| 94/100 [12:52<00:53,  8.87s/it]"
     ]
    },
    {
     "name": "stdout",
     "output_type": "stream",
     "text": [
      "Saving results to results/internvl/output_internvl.json...\n",
      "Results saved.\n",
      "\n",
      "Generating response for 94...\n"
     ]
    },
    {
     "name": "stderr",
     "output_type": "stream",
     "text": [
      " 95%|█████████▌| 95/100 [13:07<00:53, 10.62s/it]"
     ]
    },
    {
     "name": "stdout",
     "output_type": "stream",
     "text": [
      "Saving results to results/internvl/output_internvl.json...\n",
      "Results saved.\n",
      "\n",
      "Generating response for 95...\n"
     ]
    },
    {
     "name": "stderr",
     "output_type": "stream",
     "text": [
      " 96%|█████████▌| 96/100 [13:12<00:35,  8.95s/it]"
     ]
    },
    {
     "name": "stdout",
     "output_type": "stream",
     "text": [
      "Saving results to results/internvl/output_internvl.json...\n",
      "Results saved.\n",
      "\n",
      "Generating response for 96...\n"
     ]
    },
    {
     "name": "stderr",
     "output_type": "stream",
     "text": [
      " 97%|█████████▋| 97/100 [13:15<00:21,  7.11s/it]"
     ]
    },
    {
     "name": "stdout",
     "output_type": "stream",
     "text": [
      "Saving results to results/internvl/output_internvl.json...\n",
      "Results saved.\n",
      "\n",
      "Generating response for 97...\n"
     ]
    },
    {
     "name": "stderr",
     "output_type": "stream",
     "text": [
      " 98%|█████████▊| 98/100 [13:18<00:12,  6.15s/it]"
     ]
    },
    {
     "name": "stdout",
     "output_type": "stream",
     "text": [
      "Saving results to results/internvl/output_internvl.json...\n",
      "Results saved.\n",
      "\n",
      "Generating response for 98...\n"
     ]
    },
    {
     "name": "stderr",
     "output_type": "stream",
     "text": [
      " 99%|█████████▉| 99/100 [13:21<00:05,  5.17s/it]"
     ]
    },
    {
     "name": "stdout",
     "output_type": "stream",
     "text": [
      "Saving results to results/internvl/output_internvl.json...\n",
      "Results saved.\n",
      "\n",
      "Generating response for 99...\n"
     ]
    },
    {
     "name": "stderr",
     "output_type": "stream",
     "text": [
      "100%|██████████| 100/100 [13:28<00:00,  8.09s/it]\n"
     ]
    },
    {
     "name": "stdout",
     "output_type": "stream",
     "text": [
      "Saving results to results/internvl/output_internvl.json...\n",
      "Results saved.\n"
     ]
    },
    {
     "name": "stderr",
     "output_type": "stream",
     "text": [
      "  0%|          | 0/100 [00:00<?, ?it/s]"
     ]
    },
    {
     "name": "stdout",
     "output_type": "stream",
     "text": [
      "\n",
      "Generating response for 0...\n"
     ]
    },
    {
     "name": "stderr",
     "output_type": "stream",
     "text": [
      "  1%|          | 1/100 [00:28<46:31, 28.20s/it]"
     ]
    },
    {
     "name": "stdout",
     "output_type": "stream",
     "text": [
      "Saving results to results/internvl/output_internvl.json...\n",
      "Results saved.\n",
      "\n",
      "Generating response for 1...\n"
     ]
    },
    {
     "name": "stderr",
     "output_type": "stream",
     "text": [
      "  2%|▏         | 2/100 [00:30<21:31, 13.18s/it]"
     ]
    },
    {
     "name": "stdout",
     "output_type": "stream",
     "text": [
      "Saving results to results/internvl/output_internvl.json...\n",
      "Results saved.\n",
      "\n",
      "Generating response for 2...\n"
     ]
    },
    {
     "name": "stderr",
     "output_type": "stream",
     "text": [
      "  3%|▎         | 3/100 [00:53<28:26, 17.59s/it]"
     ]
    },
    {
     "name": "stdout",
     "output_type": "stream",
     "text": [
      "Saving results to results/internvl/output_internvl.json...\n",
      "Results saved.\n",
      "\n",
      "Generating response for 3...\n"
     ]
    },
    {
     "name": "stderr",
     "output_type": "stream",
     "text": [
      "  4%|▍         | 4/100 [00:56<18:39, 11.66s/it]"
     ]
    },
    {
     "name": "stdout",
     "output_type": "stream",
     "text": [
      "Saving results to results/internvl/output_internvl.json...\n",
      "Results saved.\n",
      "\n",
      "Generating response for 4...\n"
     ]
    },
    {
     "name": "stderr",
     "output_type": "stream",
     "text": [
      "  5%|▌         | 5/100 [01:15<22:36, 14.28s/it]"
     ]
    },
    {
     "name": "stdout",
     "output_type": "stream",
     "text": [
      "Saving results to results/internvl/output_internvl.json...\n",
      "Results saved.\n",
      "\n",
      "Generating response for 5...\n"
     ]
    },
    {
     "name": "stderr",
     "output_type": "stream",
     "text": [
      "  6%|▌         | 6/100 [01:27<21:08, 13.49s/it]"
     ]
    },
    {
     "name": "stdout",
     "output_type": "stream",
     "text": [
      "Saving results to results/internvl/output_internvl.json...\n",
      "Results saved.\n",
      "\n",
      "Generating response for 6...\n"
     ]
    },
    {
     "name": "stderr",
     "output_type": "stream",
     "text": [
      "  7%|▋         | 7/100 [01:30<15:43, 10.15s/it]"
     ]
    },
    {
     "name": "stdout",
     "output_type": "stream",
     "text": [
      "Saving results to results/internvl/output_internvl.json...\n",
      "Results saved.\n",
      "\n",
      "Generating response for 7...\n"
     ]
    },
    {
     "name": "stderr",
     "output_type": "stream",
     "text": [
      "  8%|▊         | 8/100 [01:38<14:36,  9.52s/it]"
     ]
    },
    {
     "name": "stdout",
     "output_type": "stream",
     "text": [
      "Saving results to results/internvl/output_internvl.json...\n",
      "Results saved.\n",
      "\n",
      "Generating response for 8...\n"
     ]
    },
    {
     "name": "stderr",
     "output_type": "stream",
     "text": [
      "  9%|▉         | 9/100 [01:50<15:47, 10.41s/it]"
     ]
    },
    {
     "name": "stdout",
     "output_type": "stream",
     "text": [
      "Saving results to results/internvl/output_internvl.json...\n",
      "Results saved.\n",
      "\n",
      "Generating response for 9...\n"
     ]
    },
    {
     "name": "stderr",
     "output_type": "stream",
     "text": [
      " 10%|█         | 10/100 [02:24<26:08, 17.43s/it]"
     ]
    },
    {
     "name": "stdout",
     "output_type": "stream",
     "text": [
      "Saving results to results/internvl/output_internvl.json...\n",
      "Results saved.\n",
      "\n",
      "Generating response for 10...\n"
     ]
    },
    {
     "name": "stderr",
     "output_type": "stream",
     "text": [
      " 11%|█         | 11/100 [02:25<18:47, 12.67s/it]"
     ]
    },
    {
     "name": "stdout",
     "output_type": "stream",
     "text": [
      "Saving results to results/internvl/output_internvl.json...\n",
      "Results saved.\n",
      "\n",
      "Generating response for 11...\n"
     ]
    },
    {
     "name": "stderr",
     "output_type": "stream",
     "text": [
      " 12%|█▏        | 12/100 [02:28<14:07,  9.63s/it]"
     ]
    },
    {
     "name": "stdout",
     "output_type": "stream",
     "text": [
      "Saving results to results/internvl/output_internvl.json...\n",
      "Results saved.\n",
      "\n",
      "Generating response for 12...\n"
     ]
    },
    {
     "name": "stderr",
     "output_type": "stream",
     "text": [
      " 13%|█▎        | 13/100 [02:32<11:30,  7.93s/it]"
     ]
    },
    {
     "name": "stdout",
     "output_type": "stream",
     "text": [
      "Saving results to results/internvl/output_internvl.json...\n",
      "Results saved.\n",
      "\n",
      "Generating response for 13...\n"
     ]
    },
    {
     "name": "stderr",
     "output_type": "stream",
     "text": [
      " 14%|█▍        | 14/100 [02:41<11:38,  8.12s/it]"
     ]
    },
    {
     "name": "stdout",
     "output_type": "stream",
     "text": [
      "Saving results to results/internvl/output_internvl.json...\n",
      "Results saved.\n",
      "\n",
      "Generating response for 14...\n"
     ]
    },
    {
     "name": "stderr",
     "output_type": "stream",
     "text": [
      " 15%|█▌        | 15/100 [02:50<12:01,  8.48s/it]"
     ]
    },
    {
     "name": "stdout",
     "output_type": "stream",
     "text": [
      "Saving results to results/internvl/output_internvl.json...\n",
      "Results saved.\n",
      "\n",
      "Generating response for 15...\n"
     ]
    },
    {
     "name": "stderr",
     "output_type": "stream",
     "text": [
      " 16%|█▌        | 16/100 [02:56<10:48,  7.72s/it]"
     ]
    },
    {
     "name": "stdout",
     "output_type": "stream",
     "text": [
      "Saving results to results/internvl/output_internvl.json...\n",
      "Results saved.\n",
      "\n",
      "Generating response for 16...\n"
     ]
    },
    {
     "name": "stderr",
     "output_type": "stream",
     "text": [
      " 17%|█▋        | 17/100 [03:09<12:41,  9.17s/it]"
     ]
    },
    {
     "name": "stdout",
     "output_type": "stream",
     "text": [
      "Saving results to results/internvl/output_internvl.json...\n",
      "Results saved.\n",
      "\n",
      "Generating response for 17...\n"
     ]
    },
    {
     "name": "stderr",
     "output_type": "stream",
     "text": [
      " 18%|█▊        | 18/100 [03:12<10:14,  7.49s/it]"
     ]
    },
    {
     "name": "stdout",
     "output_type": "stream",
     "text": [
      "Saving results to results/internvl/output_internvl.json...\n",
      "Results saved.\n",
      "\n",
      "Generating response for 18...\n"
     ]
    },
    {
     "name": "stderr",
     "output_type": "stream",
     "text": [
      " 19%|█▉        | 19/100 [03:14<07:56,  5.88s/it]"
     ]
    },
    {
     "name": "stdout",
     "output_type": "stream",
     "text": [
      "Saving results to results/internvl/output_internvl.json...\n",
      "Results saved.\n",
      "\n",
      "Generating response for 19...\n"
     ]
    },
    {
     "name": "stderr",
     "output_type": "stream",
     "text": [
      " 20%|██        | 20/100 [03:20<07:51,  5.90s/it]"
     ]
    },
    {
     "name": "stdout",
     "output_type": "stream",
     "text": [
      "Saving results to results/internvl/output_internvl.json...\n",
      "Results saved.\n",
      "\n",
      "Generating response for 20...\n"
     ]
    },
    {
     "name": "stderr",
     "output_type": "stream",
     "text": [
      " 21%|██        | 21/100 [03:21<05:53,  4.48s/it]"
     ]
    },
    {
     "name": "stdout",
     "output_type": "stream",
     "text": [
      "Saving results to results/internvl/output_internvl.json...\n",
      "Results saved.\n",
      "\n",
      "Generating response for 21...\n"
     ]
    },
    {
     "name": "stderr",
     "output_type": "stream",
     "text": [
      " 22%|██▏       | 22/100 [03:24<05:12,  4.01s/it]"
     ]
    },
    {
     "name": "stdout",
     "output_type": "stream",
     "text": [
      "Saving results to results/internvl/output_internvl.json...\n",
      "Results saved.\n",
      "\n",
      "Generating response for 22...\n"
     ]
    },
    {
     "name": "stderr",
     "output_type": "stream",
     "text": [
      " 23%|██▎       | 23/100 [03:36<08:07,  6.33s/it]"
     ]
    },
    {
     "name": "stdout",
     "output_type": "stream",
     "text": [
      "Saving results to results/internvl/output_internvl.json...\n",
      "Results saved.\n",
      "\n",
      "Generating response for 23...\n"
     ]
    },
    {
     "name": "stderr",
     "output_type": "stream",
     "text": [
      " 24%|██▍       | 24/100 [03:40<07:13,  5.71s/it]"
     ]
    },
    {
     "name": "stdout",
     "output_type": "stream",
     "text": [
      "Saving results to results/internvl/output_internvl.json...\n",
      "Results saved.\n",
      "\n",
      "Generating response for 24...\n"
     ]
    },
    {
     "name": "stderr",
     "output_type": "stream",
     "text": [
      " 25%|██▌       | 25/100 [03:46<07:02,  5.63s/it]"
     ]
    },
    {
     "name": "stdout",
     "output_type": "stream",
     "text": [
      "Saving results to results/internvl/output_internvl.json...\n",
      "Results saved.\n",
      "\n",
      "Generating response for 25...\n"
     ]
    },
    {
     "name": "stderr",
     "output_type": "stream",
     "text": [
      " 26%|██▌       | 26/100 [03:53<07:29,  6.07s/it]"
     ]
    },
    {
     "name": "stdout",
     "output_type": "stream",
     "text": [
      "Saving results to results/internvl/output_internvl.json...\n",
      "Results saved.\n",
      "\n",
      "Generating response for 26...\n"
     ]
    },
    {
     "name": "stderr",
     "output_type": "stream",
     "text": [
      " 27%|██▋       | 27/100 [03:55<06:02,  4.96s/it]"
     ]
    },
    {
     "name": "stdout",
     "output_type": "stream",
     "text": [
      "Saving results to results/internvl/output_internvl.json...\n",
      "Results saved.\n",
      "\n",
      "Generating response for 27...\n"
     ]
    },
    {
     "name": "stderr",
     "output_type": "stream",
     "text": [
      " 28%|██▊       | 28/100 [04:07<08:34,  7.14s/it]"
     ]
    },
    {
     "name": "stdout",
     "output_type": "stream",
     "text": [
      "Saving results to results/internvl/output_internvl.json...\n",
      "Results saved.\n",
      "\n",
      "Generating response for 28...\n"
     ]
    },
    {
     "name": "stderr",
     "output_type": "stream",
     "text": [
      " 29%|██▉       | 29/100 [04:11<07:11,  6.08s/it]"
     ]
    },
    {
     "name": "stdout",
     "output_type": "stream",
     "text": [
      "Saving results to results/internvl/output_internvl.json...\n",
      "Results saved.\n",
      "\n",
      "Generating response for 29...\n"
     ]
    },
    {
     "name": "stderr",
     "output_type": "stream",
     "text": [
      " 30%|███       | 30/100 [04:24<09:22,  8.03s/it]"
     ]
    },
    {
     "name": "stdout",
     "output_type": "stream",
     "text": [
      "Saving results to results/internvl/output_internvl.json...\n",
      "Results saved.\n",
      "\n",
      "Generating response for 30...\n"
     ]
    },
    {
     "name": "stderr",
     "output_type": "stream",
     "text": [
      " 31%|███       | 31/100 [04:30<08:46,  7.62s/it]"
     ]
    },
    {
     "name": "stdout",
     "output_type": "stream",
     "text": [
      "Saving results to results/internvl/output_internvl.json...\n",
      "Results saved.\n",
      "\n",
      "Generating response for 31...\n"
     ]
    },
    {
     "name": "stderr",
     "output_type": "stream",
     "text": [
      " 32%|███▏      | 32/100 [04:41<09:41,  8.55s/it]"
     ]
    },
    {
     "name": "stdout",
     "output_type": "stream",
     "text": [
      "Saving results to results/internvl/output_internvl.json...\n",
      "Results saved.\n",
      "\n",
      "Generating response for 32...\n"
     ]
    },
    {
     "name": "stderr",
     "output_type": "stream",
     "text": [
      " 33%|███▎      | 33/100 [04:51<10:07,  9.06s/it]"
     ]
    },
    {
     "name": "stdout",
     "output_type": "stream",
     "text": [
      "Saving results to results/internvl/output_internvl.json...\n",
      "Results saved.\n",
      "\n",
      "Generating response for 33...\n"
     ]
    },
    {
     "name": "stderr",
     "output_type": "stream",
     "text": [
      " 34%|███▍      | 34/100 [05:20<16:26, 14.94s/it]"
     ]
    },
    {
     "name": "stdout",
     "output_type": "stream",
     "text": [
      "Saving results to results/internvl/output_internvl.json...\n",
      "Results saved.\n",
      "\n",
      "Generating response for 34...\n"
     ]
    },
    {
     "name": "stderr",
     "output_type": "stream",
     "text": [
      " 35%|███▌      | 35/100 [05:41<18:02, 16.65s/it]"
     ]
    },
    {
     "name": "stdout",
     "output_type": "stream",
     "text": [
      "Saving results to results/internvl/output_internvl.json...\n",
      "Results saved.\n",
      "\n",
      "Generating response for 35...\n"
     ]
    },
    {
     "name": "stderr",
     "output_type": "stream",
     "text": [
      " 36%|███▌      | 36/100 [05:42<13:02, 12.23s/it]"
     ]
    },
    {
     "name": "stdout",
     "output_type": "stream",
     "text": [
      "Saving results to results/internvl/output_internvl.json...\n",
      "Results saved.\n",
      "\n",
      "Generating response for 36...\n"
     ]
    },
    {
     "name": "stderr",
     "output_type": "stream",
     "text": [
      " 37%|███▋      | 37/100 [05:50<11:28, 10.92s/it]"
     ]
    },
    {
     "name": "stdout",
     "output_type": "stream",
     "text": [
      "Saving results to results/internvl/output_internvl.json...\n",
      "Results saved.\n",
      "\n",
      "Generating response for 37...\n"
     ]
    },
    {
     "name": "stderr",
     "output_type": "stream",
     "text": [
      " 38%|███▊      | 38/100 [05:53<08:48,  8.52s/it]"
     ]
    },
    {
     "name": "stdout",
     "output_type": "stream",
     "text": [
      "Saving results to results/internvl/output_internvl.json...\n",
      "Results saved.\n",
      "\n",
      "Generating response for 38...\n"
     ]
    },
    {
     "name": "stderr",
     "output_type": "stream",
     "text": [
      " 39%|███▉      | 39/100 [06:09<10:47, 10.61s/it]"
     ]
    },
    {
     "name": "stdout",
     "output_type": "stream",
     "text": [
      "Saving results to results/internvl/output_internvl.json...\n",
      "Results saved.\n",
      "\n",
      "Generating response for 39...\n"
     ]
    },
    {
     "name": "stderr",
     "output_type": "stream",
     "text": [
      " 40%|████      | 40/100 [06:11<08:06,  8.11s/it]"
     ]
    },
    {
     "name": "stdout",
     "output_type": "stream",
     "text": [
      "Saving results to results/internvl/output_internvl.json...\n",
      "Results saved.\n",
      "\n",
      "Generating response for 40...\n"
     ]
    },
    {
     "name": "stderr",
     "output_type": "stream",
     "text": [
      " 41%|████      | 41/100 [06:13<06:03,  6.16s/it]"
     ]
    },
    {
     "name": "stdout",
     "output_type": "stream",
     "text": [
      "Saving results to results/internvl/output_internvl.json...\n",
      "Results saved.\n",
      "\n",
      "Generating response for 41...\n"
     ]
    },
    {
     "name": "stderr",
     "output_type": "stream",
     "text": [
      " 42%|████▏     | 42/100 [06:15<04:44,  4.90s/it]"
     ]
    },
    {
     "name": "stdout",
     "output_type": "stream",
     "text": [
      "Saving results to results/internvl/output_internvl.json...\n",
      "Results saved.\n",
      "\n",
      "Generating response for 42...\n"
     ]
    },
    {
     "name": "stderr",
     "output_type": "stream",
     "text": [
      " 43%|████▎     | 43/100 [06:29<07:14,  7.62s/it]"
     ]
    },
    {
     "name": "stdout",
     "output_type": "stream",
     "text": [
      "Saving results to results/internvl/output_internvl.json...\n",
      "Results saved.\n",
      "\n",
      "Generating response for 43...\n"
     ]
    },
    {
     "name": "stderr",
     "output_type": "stream",
     "text": [
      " 44%|████▍     | 44/100 [06:37<07:26,  7.97s/it]"
     ]
    },
    {
     "name": "stdout",
     "output_type": "stream",
     "text": [
      "Saving results to results/internvl/output_internvl.json...\n",
      "Results saved.\n",
      "\n",
      "Generating response for 44...\n"
     ]
    },
    {
     "name": "stderr",
     "output_type": "stream",
     "text": [
      " 45%|████▌     | 45/100 [06:46<07:31,  8.20s/it]"
     ]
    },
    {
     "name": "stdout",
     "output_type": "stream",
     "text": [
      "Saving results to results/internvl/output_internvl.json...\n",
      "Results saved.\n",
      "\n",
      "Generating response for 45...\n"
     ]
    },
    {
     "name": "stderr",
     "output_type": "stream",
     "text": [
      " 46%|████▌     | 46/100 [06:51<06:32,  7.27s/it]"
     ]
    },
    {
     "name": "stdout",
     "output_type": "stream",
     "text": [
      "Saving results to results/internvl/output_internvl.json...\n",
      "Results saved.\n",
      "\n",
      "Generating response for 46...\n"
     ]
    },
    {
     "name": "stderr",
     "output_type": "stream",
     "text": [
      " 47%|████▋     | 47/100 [06:53<05:01,  5.69s/it]"
     ]
    },
    {
     "name": "stdout",
     "output_type": "stream",
     "text": [
      "Saving results to results/internvl/output_internvl.json...\n",
      "Results saved.\n",
      "\n",
      "Generating response for 47...\n"
     ]
    },
    {
     "name": "stderr",
     "output_type": "stream",
     "text": [
      " 48%|████▊     | 48/100 [07:14<08:43, 10.07s/it]"
     ]
    },
    {
     "name": "stdout",
     "output_type": "stream",
     "text": [
      "Saving results to results/internvl/output_internvl.json...\n",
      "Results saved.\n",
      "\n",
      "Generating response for 48...\n"
     ]
    },
    {
     "name": "stderr",
     "output_type": "stream",
     "text": [
      " 49%|████▉     | 49/100 [07:18<07:02,  8.28s/it]"
     ]
    },
    {
     "name": "stdout",
     "output_type": "stream",
     "text": [
      "Saving results to results/internvl/output_internvl.json...\n",
      "Results saved.\n",
      "\n",
      "Generating response for 49...\n"
     ]
    },
    {
     "name": "stderr",
     "output_type": "stream",
     "text": [
      " 50%|█████     | 50/100 [07:26<06:57,  8.36s/it]"
     ]
    },
    {
     "name": "stdout",
     "output_type": "stream",
     "text": [
      "Saving results to results/internvl/output_internvl.json...\n",
      "Results saved.\n",
      "\n",
      "Generating response for 50...\n"
     ]
    },
    {
     "name": "stderr",
     "output_type": "stream",
     "text": [
      " 51%|█████     | 51/100 [07:32<06:11,  7.58s/it]"
     ]
    },
    {
     "name": "stdout",
     "output_type": "stream",
     "text": [
      "Saving results to results/internvl/output_internvl.json...\n",
      "Results saved.\n",
      "\n",
      "Generating response for 51...\n"
     ]
    },
    {
     "name": "stderr",
     "output_type": "stream",
     "text": [
      " 52%|█████▏    | 52/100 [07:34<04:39,  5.82s/it]"
     ]
    },
    {
     "name": "stdout",
     "output_type": "stream",
     "text": [
      "Saving results to results/internvl/output_internvl.json...\n",
      "Results saved.\n",
      "\n",
      "Generating response for 52...\n"
     ]
    },
    {
     "name": "stderr",
     "output_type": "stream",
     "text": [
      " 53%|█████▎    | 53/100 [07:37<04:01,  5.13s/it]"
     ]
    },
    {
     "name": "stdout",
     "output_type": "stream",
     "text": [
      "Saving results to results/internvl/output_internvl.json...\n",
      "Results saved.\n",
      "\n",
      "Generating response for 53...\n"
     ]
    },
    {
     "name": "stderr",
     "output_type": "stream",
     "text": [
      " 54%|█████▍    | 54/100 [07:47<04:54,  6.41s/it]"
     ]
    },
    {
     "name": "stdout",
     "output_type": "stream",
     "text": [
      "Saving results to results/internvl/output_internvl.json...\n",
      "Results saved.\n",
      "\n",
      "Generating response for 54...\n"
     ]
    },
    {
     "name": "stderr",
     "output_type": "stream",
     "text": [
      " 55%|█████▌    | 55/100 [08:04<07:15,  9.69s/it]"
     ]
    },
    {
     "name": "stdout",
     "output_type": "stream",
     "text": [
      "Saving results to results/internvl/output_internvl.json...\n",
      "Results saved.\n",
      "\n",
      "Generating response for 55...\n"
     ]
    },
    {
     "name": "stderr",
     "output_type": "stream",
     "text": [
      " 56%|█████▌    | 56/100 [08:11<06:27,  8.80s/it]"
     ]
    },
    {
     "name": "stdout",
     "output_type": "stream",
     "text": [
      "Saving results to results/internvl/output_internvl.json...\n",
      "Results saved.\n",
      "\n",
      "Generating response for 56...\n"
     ]
    },
    {
     "name": "stderr",
     "output_type": "stream",
     "text": [
      " 57%|█████▋    | 57/100 [08:13<04:57,  6.91s/it]"
     ]
    },
    {
     "name": "stdout",
     "output_type": "stream",
     "text": [
      "Saving results to results/internvl/output_internvl.json...\n",
      "Results saved.\n",
      "\n",
      "Generating response for 57...\n"
     ]
    },
    {
     "name": "stderr",
     "output_type": "stream",
     "text": [
      " 58%|█████▊    | 58/100 [08:26<06:05,  8.69s/it]"
     ]
    },
    {
     "name": "stdout",
     "output_type": "stream",
     "text": [
      "Saving results to results/internvl/output_internvl.json...\n",
      "Results saved.\n",
      "\n",
      "Generating response for 58...\n"
     ]
    },
    {
     "name": "stderr",
     "output_type": "stream",
     "text": [
      " 59%|█████▉    | 59/100 [08:43<07:41, 11.26s/it]"
     ]
    },
    {
     "name": "stdout",
     "output_type": "stream",
     "text": [
      "Saving results to results/internvl/output_internvl.json...\n",
      "Results saved.\n",
      "\n",
      "Generating response for 59...\n"
     ]
    },
    {
     "name": "stderr",
     "output_type": "stream",
     "text": [
      " 60%|██████    | 60/100 [08:47<06:06,  9.16s/it]"
     ]
    },
    {
     "name": "stdout",
     "output_type": "stream",
     "text": [
      "Saving results to results/internvl/output_internvl.json...\n",
      "Results saved.\n",
      "\n",
      "Generating response for 60...\n"
     ]
    },
    {
     "name": "stderr",
     "output_type": "stream",
     "text": [
      " 61%|██████    | 61/100 [08:54<05:27,  8.39s/it]"
     ]
    },
    {
     "name": "stdout",
     "output_type": "stream",
     "text": [
      "Saving results to results/internvl/output_internvl.json...\n",
      "Results saved.\n",
      "\n",
      "Generating response for 61...\n"
     ]
    },
    {
     "name": "stderr",
     "output_type": "stream",
     "text": [
      " 62%|██████▏   | 62/100 [09:13<07:15, 11.46s/it]"
     ]
    },
    {
     "name": "stdout",
     "output_type": "stream",
     "text": [
      "Saving results to results/internvl/output_internvl.json...\n",
      "Results saved.\n",
      "\n",
      "Generating response for 62...\n"
     ]
    },
    {
     "name": "stderr",
     "output_type": "stream",
     "text": [
      " 63%|██████▎   | 63/100 [09:15<05:24,  8.76s/it]"
     ]
    },
    {
     "name": "stdout",
     "output_type": "stream",
     "text": [
      "Saving results to results/internvl/output_internvl.json...\n",
      "Results saved.\n",
      "\n",
      "Generating response for 63...\n"
     ]
    },
    {
     "name": "stderr",
     "output_type": "stream",
     "text": [
      " 64%|██████▍   | 64/100 [09:29<06:12, 10.33s/it]"
     ]
    },
    {
     "name": "stdout",
     "output_type": "stream",
     "text": [
      "Saving results to results/internvl/output_internvl.json...\n",
      "Results saved.\n",
      "\n",
      "Generating response for 64...\n"
     ]
    },
    {
     "name": "stderr",
     "output_type": "stream",
     "text": [
      " 65%|██████▌   | 65/100 [09:51<08:02, 13.78s/it]"
     ]
    },
    {
     "name": "stdout",
     "output_type": "stream",
     "text": [
      "Saving results to results/internvl/output_internvl.json...\n",
      "Results saved.\n",
      "\n",
      "Generating response for 65...\n"
     ]
    },
    {
     "name": "stderr",
     "output_type": "stream",
     "text": [
      " 66%|██████▌   | 66/100 [09:54<06:01, 10.64s/it]"
     ]
    },
    {
     "name": "stdout",
     "output_type": "stream",
     "text": [
      "Saving results to results/internvl/output_internvl.json...\n",
      "Results saved.\n",
      "\n",
      "Generating response for 66...\n"
     ]
    },
    {
     "name": "stderr",
     "output_type": "stream",
     "text": [
      " 67%|██████▋   | 67/100 [09:58<04:40,  8.49s/it]"
     ]
    },
    {
     "name": "stdout",
     "output_type": "stream",
     "text": [
      "Saving results to results/internvl/output_internvl.json...\n",
      "Results saved.\n",
      "\n",
      "Generating response for 67...\n"
     ]
    },
    {
     "name": "stderr",
     "output_type": "stream",
     "text": [
      " 68%|██████▊   | 68/100 [10:17<06:18, 11.83s/it]"
     ]
    },
    {
     "name": "stdout",
     "output_type": "stream",
     "text": [
      "Saving results to results/internvl/output_internvl.json...\n",
      "Results saved.\n",
      "\n",
      "Generating response for 68...\n"
     ]
    },
    {
     "name": "stderr",
     "output_type": "stream",
     "text": [
      " 69%|██████▉   | 69/100 [10:21<04:52,  9.43s/it]"
     ]
    },
    {
     "name": "stdout",
     "output_type": "stream",
     "text": [
      "Saving results to results/internvl/output_internvl.json...\n",
      "Results saved.\n",
      "\n",
      "Generating response for 69...\n"
     ]
    },
    {
     "name": "stderr",
     "output_type": "stream",
     "text": [
      " 70%|███████   | 70/100 [10:24<03:44,  7.49s/it]"
     ]
    },
    {
     "name": "stdout",
     "output_type": "stream",
     "text": [
      "Saving results to results/internvl/output_internvl.json...\n",
      "Results saved.\n",
      "\n",
      "Generating response for 70...\n"
     ]
    },
    {
     "name": "stderr",
     "output_type": "stream",
     "text": [
      " 71%|███████   | 71/100 [10:30<03:20,  6.92s/it]"
     ]
    },
    {
     "name": "stdout",
     "output_type": "stream",
     "text": [
      "Saving results to results/internvl/output_internvl.json...\n",
      "Results saved.\n",
      "\n",
      "Generating response for 71...\n"
     ]
    },
    {
     "name": "stderr",
     "output_type": "stream",
     "text": [
      " 72%|███████▏  | 72/100 [10:36<03:09,  6.76s/it]"
     ]
    },
    {
     "name": "stdout",
     "output_type": "stream",
     "text": [
      "Saving results to results/internvl/output_internvl.json...\n",
      "Results saved.\n",
      "\n",
      "Generating response for 72...\n"
     ]
    },
    {
     "name": "stderr",
     "output_type": "stream",
     "text": [
      " 73%|███████▎  | 73/100 [10:45<03:17,  7.33s/it]"
     ]
    },
    {
     "name": "stdout",
     "output_type": "stream",
     "text": [
      "Saving results to results/internvl/output_internvl.json...\n",
      "Results saved.\n",
      "\n",
      "Generating response for 73...\n"
     ]
    },
    {
     "name": "stderr",
     "output_type": "stream",
     "text": [
      " 74%|███████▍  | 74/100 [10:51<02:58,  6.87s/it]"
     ]
    },
    {
     "name": "stdout",
     "output_type": "stream",
     "text": [
      "Saving results to results/internvl/output_internvl.json...\n",
      "Results saved.\n",
      "\n",
      "Generating response for 74...\n"
     ]
    },
    {
     "name": "stderr",
     "output_type": "stream",
     "text": [
      " 75%|███████▌  | 75/100 [10:54<02:23,  5.74s/it]"
     ]
    },
    {
     "name": "stdout",
     "output_type": "stream",
     "text": [
      "Saving results to results/internvl/output_internvl.json...\n",
      "Results saved.\n",
      "\n",
      "Generating response for 75...\n"
     ]
    },
    {
     "name": "stderr",
     "output_type": "stream",
     "text": [
      " 76%|███████▌  | 76/100 [11:02<02:35,  6.47s/it]"
     ]
    },
    {
     "name": "stdout",
     "output_type": "stream",
     "text": [
      "Saving results to results/internvl/output_internvl.json...\n",
      "Results saved.\n",
      "\n",
      "Generating response for 76...\n"
     ]
    },
    {
     "name": "stderr",
     "output_type": "stream",
     "text": [
      " 77%|███████▋  | 77/100 [11:07<02:18,  6.02s/it]"
     ]
    },
    {
     "name": "stdout",
     "output_type": "stream",
     "text": [
      "Saving results to results/internvl/output_internvl.json...\n",
      "Results saved.\n",
      "\n",
      "Generating response for 77...\n"
     ]
    },
    {
     "name": "stderr",
     "output_type": "stream",
     "text": [
      " 78%|███████▊  | 78/100 [11:12<02:09,  5.87s/it]"
     ]
    },
    {
     "name": "stdout",
     "output_type": "stream",
     "text": [
      "Saving results to results/internvl/output_internvl.json...\n",
      "Results saved.\n",
      "\n",
      "Generating response for 78...\n"
     ]
    },
    {
     "name": "stderr",
     "output_type": "stream",
     "text": [
      " 79%|███████▉  | 79/100 [11:29<03:09,  9.03s/it]"
     ]
    },
    {
     "name": "stdout",
     "output_type": "stream",
     "text": [
      "Saving results to results/internvl/output_internvl.json...\n",
      "Results saved.\n",
      "\n",
      "Generating response for 79...\n"
     ]
    },
    {
     "name": "stderr",
     "output_type": "stream",
     "text": [
      " 80%|████████  | 80/100 [11:42<03:24, 10.21s/it]"
     ]
    },
    {
     "name": "stdout",
     "output_type": "stream",
     "text": [
      "Saving results to results/internvl/output_internvl.json...\n",
      "Results saved.\n",
      "\n",
      "Generating response for 80...\n"
     ]
    },
    {
     "name": "stderr",
     "output_type": "stream",
     "text": [
      " 81%|████████  | 81/100 [11:53<03:20, 10.57s/it]"
     ]
    },
    {
     "name": "stdout",
     "output_type": "stream",
     "text": [
      "Saving results to results/internvl/output_internvl.json...\n",
      "Results saved.\n",
      "\n",
      "Generating response for 81...\n"
     ]
    },
    {
     "name": "stderr",
     "output_type": "stream",
     "text": [
      " 82%|████████▏ | 82/100 [12:06<03:22, 11.26s/it]"
     ]
    },
    {
     "name": "stdout",
     "output_type": "stream",
     "text": [
      "Saving results to results/internvl/output_internvl.json...\n",
      "Results saved.\n",
      "\n",
      "Generating response for 82...\n"
     ]
    },
    {
     "name": "stderr",
     "output_type": "stream",
     "text": [
      " 83%|████████▎ | 83/100 [12:13<02:47,  9.86s/it]"
     ]
    },
    {
     "name": "stdout",
     "output_type": "stream",
     "text": [
      "Saving results to results/internvl/output_internvl.json...\n",
      "Results saved.\n",
      "\n",
      "Generating response for 83...\n"
     ]
    },
    {
     "name": "stderr",
     "output_type": "stream",
     "text": [
      " 84%|████████▍ | 84/100 [12:29<03:09, 11.87s/it]"
     ]
    },
    {
     "name": "stdout",
     "output_type": "stream",
     "text": [
      "Saving results to results/internvl/output_internvl.json...\n",
      "Results saved.\n",
      "\n",
      "Generating response for 84...\n"
     ]
    },
    {
     "name": "stderr",
     "output_type": "stream",
     "text": [
      " 85%|████████▌ | 85/100 [12:34<02:25,  9.73s/it]"
     ]
    },
    {
     "name": "stdout",
     "output_type": "stream",
     "text": [
      "Saving results to results/internvl/output_internvl.json...\n",
      "Results saved.\n",
      "\n",
      "Generating response for 85...\n"
     ]
    },
    {
     "name": "stderr",
     "output_type": "stream",
     "text": [
      " 86%|████████▌ | 86/100 [12:48<02:35, 11.07s/it]"
     ]
    },
    {
     "name": "stdout",
     "output_type": "stream",
     "text": [
      "Saving results to results/internvl/output_internvl.json...\n",
      "Results saved.\n",
      "\n",
      "Generating response for 86...\n"
     ]
    },
    {
     "name": "stderr",
     "output_type": "stream",
     "text": [
      " 87%|████████▋ | 87/100 [13:01<02:31, 11.68s/it]"
     ]
    },
    {
     "name": "stdout",
     "output_type": "stream",
     "text": [
      "Saving results to results/internvl/output_internvl.json...\n",
      "Results saved.\n",
      "\n",
      "Generating response for 87...\n"
     ]
    },
    {
     "name": "stderr",
     "output_type": "stream",
     "text": [
      " 88%|████████▊ | 88/100 [13:10<02:10, 10.85s/it]"
     ]
    },
    {
     "name": "stdout",
     "output_type": "stream",
     "text": [
      "Saving results to results/internvl/output_internvl.json...\n",
      "Results saved.\n",
      "\n",
      "Generating response for 88...\n"
     ]
    },
    {
     "name": "stderr",
     "output_type": "stream",
     "text": [
      " 89%|████████▉ | 89/100 [13:13<01:33,  8.47s/it]"
     ]
    },
    {
     "name": "stdout",
     "output_type": "stream",
     "text": [
      "Saving results to results/internvl/output_internvl.json...\n",
      "Results saved.\n",
      "\n",
      "Generating response for 89...\n"
     ]
    },
    {
     "name": "stderr",
     "output_type": "stream",
     "text": [
      " 90%|█████████ | 90/100 [13:15<01:05,  6.53s/it]"
     ]
    },
    {
     "name": "stdout",
     "output_type": "stream",
     "text": [
      "Saving results to results/internvl/output_internvl.json...\n",
      "Results saved.\n",
      "\n",
      "Generating response for 90...\n"
     ]
    },
    {
     "name": "stderr",
     "output_type": "stream",
     "text": [
      " 91%|█████████ | 91/100 [13:18<00:50,  5.56s/it]"
     ]
    },
    {
     "name": "stdout",
     "output_type": "stream",
     "text": [
      "Saving results to results/internvl/output_internvl.json...\n",
      "Results saved.\n",
      "\n",
      "Generating response for 91...\n"
     ]
    },
    {
     "name": "stderr",
     "output_type": "stream",
     "text": [
      " 92%|█████████▏| 92/100 [13:22<00:40,  5.11s/it]"
     ]
    },
    {
     "name": "stdout",
     "output_type": "stream",
     "text": [
      "Saving results to results/internvl/output_internvl.json...\n",
      "Results saved.\n",
      "\n",
      "Generating response for 92...\n"
     ]
    },
    {
     "name": "stderr",
     "output_type": "stream",
     "text": [
      " 93%|█████████▎| 93/100 [13:29<00:38,  5.56s/it]"
     ]
    },
    {
     "name": "stdout",
     "output_type": "stream",
     "text": [
      "Saving results to results/internvl/output_internvl.json...\n",
      "Results saved.\n",
      "\n",
      "Generating response for 93...\n"
     ]
    },
    {
     "name": "stderr",
     "output_type": "stream",
     "text": [
      " 94%|█████████▍| 94/100 [13:45<00:52,  8.79s/it]"
     ]
    },
    {
     "name": "stdout",
     "output_type": "stream",
     "text": [
      "Saving results to results/internvl/output_internvl.json...\n",
      "Results saved.\n",
      "\n",
      "Generating response for 94...\n"
     ]
    },
    {
     "name": "stderr",
     "output_type": "stream",
     "text": [
      " 95%|█████████▌| 95/100 [14:02<00:55, 11.05s/it]"
     ]
    },
    {
     "name": "stdout",
     "output_type": "stream",
     "text": [
      "Saving results to results/internvl/output_internvl.json...\n",
      "Results saved.\n",
      "\n",
      "Generating response for 95...\n"
     ]
    },
    {
     "name": "stderr",
     "output_type": "stream",
     "text": [
      " 96%|█████████▌| 96/100 [14:07<00:37,  9.27s/it]"
     ]
    },
    {
     "name": "stdout",
     "output_type": "stream",
     "text": [
      "Saving results to results/internvl/output_internvl.json...\n",
      "Results saved.\n",
      "\n",
      "Generating response for 96...\n"
     ]
    },
    {
     "name": "stderr",
     "output_type": "stream",
     "text": [
      " 97%|█████████▋| 97/100 [14:10<00:22,  7.43s/it]"
     ]
    },
    {
     "name": "stdout",
     "output_type": "stream",
     "text": [
      "Saving results to results/internvl/output_internvl.json...\n",
      "Results saved.\n",
      "\n",
      "Generating response for 97...\n"
     ]
    },
    {
     "name": "stderr",
     "output_type": "stream",
     "text": [
      " 98%|█████████▊| 98/100 [14:13<00:11,  6.00s/it]"
     ]
    },
    {
     "name": "stdout",
     "output_type": "stream",
     "text": [
      "Saving results to results/internvl/output_internvl.json...\n",
      "Results saved.\n",
      "\n",
      "Generating response for 98...\n"
     ]
    },
    {
     "name": "stderr",
     "output_type": "stream",
     "text": [
      " 99%|█████████▉| 99/100 [14:16<00:05,  5.18s/it]"
     ]
    },
    {
     "name": "stdout",
     "output_type": "stream",
     "text": [
      "Saving results to results/internvl/output_internvl.json...\n",
      "Results saved.\n",
      "\n",
      "Generating response for 99...\n"
     ]
    },
    {
     "name": "stderr",
     "output_type": "stream",
     "text": [
      "100%|██████████| 100/100 [14:24<00:00,  8.65s/it]\n"
     ]
    },
    {
     "name": "stdout",
     "output_type": "stream",
     "text": [
      "Saving results to results/internvl/output_internvl.json...\n",
      "Results saved.\n"
     ]
    },
    {
     "name": "stderr",
     "output_type": "stream",
     "text": [
      "  0%|          | 0/100 [00:00<?, ?it/s]"
     ]
    },
    {
     "name": "stdout",
     "output_type": "stream",
     "text": [
      "\n",
      "Generating response for 0...\n"
     ]
    },
    {
     "name": "stderr",
     "output_type": "stream",
     "text": [
      "  1%|          | 1/100 [00:19<31:40, 19.20s/it]"
     ]
    },
    {
     "name": "stdout",
     "output_type": "stream",
     "text": [
      "Saving results to results/internvl/output_internvl.json...\n",
      "Results saved.\n",
      "\n",
      "Generating response for 1...\n"
     ]
    },
    {
     "name": "stderr",
     "output_type": "stream",
     "text": [
      "  2%|▏         | 2/100 [00:23<16:37, 10.18s/it]"
     ]
    },
    {
     "name": "stdout",
     "output_type": "stream",
     "text": [
      "Saving results to results/internvl/output_internvl.json...\n",
      "Results saved.\n",
      "\n",
      "Generating response for 2...\n"
     ]
    },
    {
     "name": "stderr",
     "output_type": "stream",
     "text": [
      "  3%|▎         | 3/100 [00:38<20:22, 12.61s/it]"
     ]
    },
    {
     "name": "stdout",
     "output_type": "stream",
     "text": [
      "Saving results to results/internvl/output_internvl.json...\n",
      "Results saved.\n",
      "\n",
      "Generating response for 3...\n"
     ]
    },
    {
     "name": "stderr",
     "output_type": "stream",
     "text": [
      "  4%|▍         | 4/100 [00:40<13:10,  8.24s/it]"
     ]
    },
    {
     "name": "stdout",
     "output_type": "stream",
     "text": [
      "Saving results to results/internvl/output_internvl.json...\n",
      "Results saved.\n",
      "\n",
      "Generating response for 4...\n"
     ]
    },
    {
     "name": "stderr",
     "output_type": "stream",
     "text": [
      "  5%|▌         | 5/100 [00:54<16:50, 10.64s/it]"
     ]
    },
    {
     "name": "stdout",
     "output_type": "stream",
     "text": [
      "Saving results to results/internvl/output_internvl.json...\n",
      "Results saved.\n",
      "\n",
      "Generating response for 5...\n"
     ]
    },
    {
     "name": "stderr",
     "output_type": "stream",
     "text": [
      "  6%|▌         | 6/100 [01:02<15:15,  9.74s/it]"
     ]
    },
    {
     "name": "stdout",
     "output_type": "stream",
     "text": [
      "Saving results to results/internvl/output_internvl.json...\n",
      "Results saved.\n",
      "\n",
      "Generating response for 6...\n"
     ]
    },
    {
     "name": "stderr",
     "output_type": "stream",
     "text": [
      "  7%|▋         | 7/100 [01:05<11:28,  7.40s/it]"
     ]
    },
    {
     "name": "stdout",
     "output_type": "stream",
     "text": [
      "Saving results to results/internvl/output_internvl.json...\n",
      "Results saved.\n",
      "\n",
      "Generating response for 7...\n"
     ]
    },
    {
     "name": "stderr",
     "output_type": "stream",
     "text": [
      "  8%|▊         | 8/100 [01:13<11:31,  7.52s/it]"
     ]
    },
    {
     "name": "stdout",
     "output_type": "stream",
     "text": [
      "Saving results to results/internvl/output_internvl.json...\n",
      "Results saved.\n",
      "\n",
      "Generating response for 8...\n"
     ]
    },
    {
     "name": "stderr",
     "output_type": "stream",
     "text": [
      "  9%|▉         | 9/100 [01:24<13:08,  8.67s/it]"
     ]
    },
    {
     "name": "stdout",
     "output_type": "stream",
     "text": [
      "Saving results to results/internvl/output_internvl.json...\n",
      "Results saved.\n",
      "\n",
      "Generating response for 9...\n"
     ]
    },
    {
     "name": "stderr",
     "output_type": "stream",
     "text": [
      " 10%|█         | 10/100 [01:30<11:34,  7.72s/it]"
     ]
    },
    {
     "name": "stdout",
     "output_type": "stream",
     "text": [
      "Saving results to results/internvl/output_internvl.json...\n",
      "Results saved.\n",
      "\n",
      "Generating response for 10...\n"
     ]
    },
    {
     "name": "stderr",
     "output_type": "stream",
     "text": [
      " 11%|█         | 11/100 [01:32<08:52,  5.98s/it]"
     ]
    },
    {
     "name": "stdout",
     "output_type": "stream",
     "text": [
      "Saving results to results/internvl/output_internvl.json...\n",
      "Results saved.\n",
      "\n",
      "Generating response for 11...\n"
     ]
    },
    {
     "name": "stderr",
     "output_type": "stream",
     "text": [
      " 12%|█▏        | 12/100 [01:34<07:00,  4.77s/it]"
     ]
    },
    {
     "name": "stdout",
     "output_type": "stream",
     "text": [
      "Saving results to results/internvl/output_internvl.json...\n",
      "Results saved.\n",
      "\n",
      "Generating response for 12...\n"
     ]
    },
    {
     "name": "stderr",
     "output_type": "stream",
     "text": [
      " 13%|█▎        | 13/100 [01:43<08:59,  6.20s/it]"
     ]
    },
    {
     "name": "stdout",
     "output_type": "stream",
     "text": [
      "Saving results to results/internvl/output_internvl.json...\n",
      "Results saved.\n",
      "\n",
      "Generating response for 13...\n"
     ]
    },
    {
     "name": "stderr",
     "output_type": "stream",
     "text": [
      " 14%|█▍        | 14/100 [01:51<09:24,  6.57s/it]"
     ]
    },
    {
     "name": "stdout",
     "output_type": "stream",
     "text": [
      "Saving results to results/internvl/output_internvl.json...\n",
      "Results saved.\n",
      "\n",
      "Generating response for 14...\n"
     ]
    },
    {
     "name": "stderr",
     "output_type": "stream",
     "text": [
      " 15%|█▌        | 15/100 [02:00<10:27,  7.38s/it]"
     ]
    },
    {
     "name": "stdout",
     "output_type": "stream",
     "text": [
      "Saving results to results/internvl/output_internvl.json...\n",
      "Results saved.\n",
      "\n",
      "Generating response for 15...\n"
     ]
    },
    {
     "name": "stderr",
     "output_type": "stream",
     "text": [
      " 16%|█▌        | 16/100 [02:05<09:20,  6.67s/it]"
     ]
    },
    {
     "name": "stdout",
     "output_type": "stream",
     "text": [
      "Saving results to results/internvl/output_internvl.json...\n",
      "Results saved.\n",
      "\n",
      "Generating response for 16...\n"
     ]
    },
    {
     "name": "stderr",
     "output_type": "stream",
     "text": [
      " 17%|█▋        | 17/100 [02:16<11:04,  8.00s/it]"
     ]
    },
    {
     "name": "stdout",
     "output_type": "stream",
     "text": [
      "Saving results to results/internvl/output_internvl.json...\n",
      "Results saved.\n",
      "\n",
      "Generating response for 17...\n"
     ]
    },
    {
     "name": "stderr",
     "output_type": "stream",
     "text": [
      " 18%|█▊        | 18/100 [02:20<09:19,  6.83s/it]"
     ]
    },
    {
     "name": "stdout",
     "output_type": "stream",
     "text": [
      "Saving results to results/internvl/output_internvl.json...\n",
      "Results saved.\n",
      "\n",
      "Generating response for 18...\n"
     ]
    },
    {
     "name": "stderr",
     "output_type": "stream",
     "text": [
      " 19%|█▉        | 19/100 [02:22<07:17,  5.40s/it]"
     ]
    },
    {
     "name": "stdout",
     "output_type": "stream",
     "text": [
      "Saving results to results/internvl/output_internvl.json...\n",
      "Results saved.\n",
      "\n",
      "Generating response for 19...\n"
     ]
    },
    {
     "name": "stderr",
     "output_type": "stream",
     "text": [
      " 20%|██        | 20/100 [02:29<07:53,  5.92s/it]"
     ]
    },
    {
     "name": "stdout",
     "output_type": "stream",
     "text": [
      "Saving results to results/internvl/output_internvl.json...\n",
      "Results saved.\n",
      "\n",
      "Generating response for 20...\n"
     ]
    },
    {
     "name": "stderr",
     "output_type": "stream",
     "text": [
      " 21%|██        | 21/100 [02:31<06:01,  4.57s/it]"
     ]
    },
    {
     "name": "stdout",
     "output_type": "stream",
     "text": [
      "Saving results to results/internvl/output_internvl.json...\n",
      "Results saved.\n",
      "\n",
      "Generating response for 21...\n"
     ]
    },
    {
     "name": "stderr",
     "output_type": "stream",
     "text": [
      " 22%|██▏       | 22/100 [02:34<05:23,  4.15s/it]"
     ]
    },
    {
     "name": "stdout",
     "output_type": "stream",
     "text": [
      "Saving results to results/internvl/output_internvl.json...\n",
      "Results saved.\n",
      "\n",
      "Generating response for 22...\n"
     ]
    },
    {
     "name": "stderr",
     "output_type": "stream",
     "text": [
      " 23%|██▎       | 23/100 [02:44<07:30,  5.85s/it]"
     ]
    },
    {
     "name": "stdout",
     "output_type": "stream",
     "text": [
      "Saving results to results/internvl/output_internvl.json...\n",
      "Results saved.\n",
      "\n",
      "Generating response for 23...\n"
     ]
    },
    {
     "name": "stderr",
     "output_type": "stream",
     "text": [
      " 24%|██▍       | 24/100 [02:49<07:09,  5.65s/it]"
     ]
    },
    {
     "name": "stdout",
     "output_type": "stream",
     "text": [
      "Saving results to results/internvl/output_internvl.json...\n",
      "Results saved.\n",
      "\n",
      "Generating response for 24...\n"
     ]
    },
    {
     "name": "stderr",
     "output_type": "stream",
     "text": [
      " 25%|██▌       | 25/100 [03:02<09:44,  7.80s/it]"
     ]
    },
    {
     "name": "stdout",
     "output_type": "stream",
     "text": [
      "Saving results to results/internvl/output_internvl.json...\n",
      "Results saved.\n",
      "\n",
      "Generating response for 25...\n"
     ]
    },
    {
     "name": "stderr",
     "output_type": "stream",
     "text": [
      " 26%|██▌       | 26/100 [03:08<09:06,  7.38s/it]"
     ]
    },
    {
     "name": "stdout",
     "output_type": "stream",
     "text": [
      "Saving results to results/internvl/output_internvl.json...\n",
      "Results saved.\n",
      "\n",
      "Generating response for 26...\n"
     ]
    },
    {
     "name": "stderr",
     "output_type": "stream",
     "text": [
      " 27%|██▋       | 27/100 [03:10<07:03,  5.80s/it]"
     ]
    },
    {
     "name": "stdout",
     "output_type": "stream",
     "text": [
      "Saving results to results/internvl/output_internvl.json...\n",
      "Results saved.\n",
      "\n",
      "Generating response for 27...\n"
     ]
    },
    {
     "name": "stderr",
     "output_type": "stream",
     "text": [
      " 28%|██▊       | 28/100 [03:21<08:49,  7.35s/it]"
     ]
    },
    {
     "name": "stdout",
     "output_type": "stream",
     "text": [
      "Saving results to results/internvl/output_internvl.json...\n",
      "Results saved.\n",
      "\n",
      "Generating response for 28...\n"
     ]
    },
    {
     "name": "stderr",
     "output_type": "stream",
     "text": [
      " 29%|██▉       | 29/100 [03:26<07:37,  6.45s/it]"
     ]
    },
    {
     "name": "stdout",
     "output_type": "stream",
     "text": [
      "Saving results to results/internvl/output_internvl.json...\n",
      "Results saved.\n",
      "\n",
      "Generating response for 29...\n"
     ]
    },
    {
     "name": "stderr",
     "output_type": "stream",
     "text": [
      " 30%|███       | 30/100 [03:41<10:42,  9.19s/it]"
     ]
    },
    {
     "name": "stdout",
     "output_type": "stream",
     "text": [
      "Saving results to results/internvl/output_internvl.json...\n",
      "Results saved.\n",
      "\n",
      "Generating response for 30...\n"
     ]
    },
    {
     "name": "stderr",
     "output_type": "stream",
     "text": [
      " 31%|███       | 31/100 [03:47<09:25,  8.19s/it]"
     ]
    },
    {
     "name": "stdout",
     "output_type": "stream",
     "text": [
      "Saving results to results/internvl/output_internvl.json...\n",
      "Results saved.\n",
      "\n",
      "Generating response for 31...\n"
     ]
    },
    {
     "name": "stderr",
     "output_type": "stream",
     "text": [
      " 32%|███▏      | 32/100 [04:00<11:05,  9.79s/it]"
     ]
    },
    {
     "name": "stdout",
     "output_type": "stream",
     "text": [
      "Saving results to results/internvl/output_internvl.json...\n",
      "Results saved.\n",
      "\n",
      "Generating response for 32...\n"
     ]
    },
    {
     "name": "stderr",
     "output_type": "stream",
     "text": [
      " 33%|███▎      | 33/100 [04:10<10:48,  9.68s/it]"
     ]
    },
    {
     "name": "stdout",
     "output_type": "stream",
     "text": [
      "Saving results to results/internvl/output_internvl.json...\n",
      "Results saved.\n",
      "\n",
      "Generating response for 33...\n"
     ]
    },
    {
     "name": "stderr",
     "output_type": "stream",
     "text": [
      " 34%|███▍      | 34/100 [04:42<18:00, 16.36s/it]"
     ]
    },
    {
     "name": "stdout",
     "output_type": "stream",
     "text": [
      "Saving results to results/internvl/output_internvl.json...\n",
      "Results saved.\n",
      "\n",
      "Generating response for 34...\n"
     ]
    },
    {
     "name": "stderr",
     "output_type": "stream",
     "text": [
      " 35%|███▌      | 35/100 [05:03<19:12, 17.72s/it]"
     ]
    },
    {
     "name": "stdout",
     "output_type": "stream",
     "text": [
      "Saving results to results/internvl/output_internvl.json...\n",
      "Results saved.\n",
      "\n",
      "Generating response for 35...\n"
     ]
    },
    {
     "name": "stderr",
     "output_type": "stream",
     "text": [
      " 36%|███▌      | 36/100 [05:05<14:04, 13.20s/it]"
     ]
    },
    {
     "name": "stdout",
     "output_type": "stream",
     "text": [
      "Saving results to results/internvl/output_internvl.json...\n",
      "Results saved.\n",
      "\n",
      "Generating response for 36...\n"
     ]
    },
    {
     "name": "stderr",
     "output_type": "stream",
     "text": [
      " 37%|███▋      | 37/100 [05:14<12:27, 11.87s/it]"
     ]
    },
    {
     "name": "stdout",
     "output_type": "stream",
     "text": [
      "Saving results to results/internvl/output_internvl.json...\n",
      "Results saved.\n",
      "\n",
      "Generating response for 37...\n"
     ]
    },
    {
     "name": "stderr",
     "output_type": "stream",
     "text": [
      " 38%|███▊      | 38/100 [05:17<09:26,  9.13s/it]"
     ]
    },
    {
     "name": "stdout",
     "output_type": "stream",
     "text": [
      "Saving results to results/internvl/output_internvl.json...\n",
      "Results saved.\n",
      "\n",
      "Generating response for 38...\n"
     ]
    },
    {
     "name": "stderr",
     "output_type": "stream",
     "text": [
      " 39%|███▉      | 39/100 [05:34<11:41, 11.50s/it]"
     ]
    },
    {
     "name": "stdout",
     "output_type": "stream",
     "text": [
      "Saving results to results/internvl/output_internvl.json...\n",
      "Results saved.\n",
      "\n",
      "Generating response for 39...\n"
     ]
    },
    {
     "name": "stderr",
     "output_type": "stream",
     "text": [
      " 40%|████      | 40/100 [05:37<09:01,  9.02s/it]"
     ]
    },
    {
     "name": "stdout",
     "output_type": "stream",
     "text": [
      "Saving results to results/internvl/output_internvl.json...\n",
      "Results saved.\n",
      "\n",
      "Generating response for 40...\n"
     ]
    },
    {
     "name": "stderr",
     "output_type": "stream",
     "text": [
      " 41%|████      | 41/100 [05:40<07:00,  7.13s/it]"
     ]
    },
    {
     "name": "stdout",
     "output_type": "stream",
     "text": [
      "Saving results to results/internvl/output_internvl.json...\n",
      "Results saved.\n",
      "\n",
      "Generating response for 41...\n"
     ]
    },
    {
     "name": "stderr",
     "output_type": "stream",
     "text": [
      " 42%|████▏     | 42/100 [05:42<05:20,  5.52s/it]"
     ]
    },
    {
     "name": "stdout",
     "output_type": "stream",
     "text": [
      "Saving results to results/internvl/output_internvl.json...\n",
      "Results saved.\n",
      "\n",
      "Generating response for 42...\n"
     ]
    },
    {
     "name": "stderr",
     "output_type": "stream",
     "text": [
      " 43%|████▎     | 43/100 [05:54<07:08,  7.52s/it]"
     ]
    },
    {
     "name": "stdout",
     "output_type": "stream",
     "text": [
      "Saving results to results/internvl/output_internvl.json...\n",
      "Results saved.\n",
      "\n",
      "Generating response for 43...\n"
     ]
    },
    {
     "name": "stderr",
     "output_type": "stream",
     "text": [
      " 44%|████▍     | 44/100 [06:02<07:10,  7.68s/it]"
     ]
    },
    {
     "name": "stdout",
     "output_type": "stream",
     "text": [
      "Saving results to results/internvl/output_internvl.json...\n",
      "Results saved.\n",
      "\n",
      "Generating response for 44...\n"
     ]
    },
    {
     "name": "stderr",
     "output_type": "stream",
     "text": [
      " 45%|████▌     | 45/100 [06:10<07:07,  7.78s/it]"
     ]
    },
    {
     "name": "stdout",
     "output_type": "stream",
     "text": [
      "Saving results to results/internvl/output_internvl.json...\n",
      "Results saved.\n",
      "\n",
      "Generating response for 45...\n"
     ]
    },
    {
     "name": "stderr",
     "output_type": "stream",
     "text": [
      " 46%|████▌     | 46/100 [06:15<06:17,  7.00s/it]"
     ]
    },
    {
     "name": "stdout",
     "output_type": "stream",
     "text": [
      "Saving results to results/internvl/output_internvl.json...\n",
      "Results saved.\n",
      "\n",
      "Generating response for 46...\n"
     ]
    },
    {
     "name": "stderr",
     "output_type": "stream",
     "text": [
      " 47%|████▋     | 47/100 [06:18<05:02,  5.70s/it]"
     ]
    },
    {
     "name": "stdout",
     "output_type": "stream",
     "text": [
      "Saving results to results/internvl/output_internvl.json...\n",
      "Results saved.\n",
      "\n",
      "Generating response for 47...\n"
     ]
    },
    {
     "name": "stderr",
     "output_type": "stream",
     "text": [
      " 48%|████▊     | 48/100 [06:37<08:29,  9.80s/it]"
     ]
    },
    {
     "name": "stdout",
     "output_type": "stream",
     "text": [
      "Saving results to results/internvl/output_internvl.json...\n",
      "Results saved.\n",
      "\n",
      "Generating response for 48...\n"
     ]
    },
    {
     "name": "stderr",
     "output_type": "stream",
     "text": [
      " 49%|████▉     | 49/100 [06:42<07:10,  8.45s/it]"
     ]
    },
    {
     "name": "stdout",
     "output_type": "stream",
     "text": [
      "Saving results to results/internvl/output_internvl.json...\n",
      "Results saved.\n",
      "\n",
      "Generating response for 49...\n"
     ]
    },
    {
     "name": "stderr",
     "output_type": "stream",
     "text": [
      " 50%|█████     | 50/100 [06:48<06:16,  7.53s/it]"
     ]
    },
    {
     "name": "stdout",
     "output_type": "stream",
     "text": [
      "Saving results to results/internvl/output_internvl.json...\n",
      "Results saved.\n",
      "\n",
      "Generating response for 50...\n"
     ]
    },
    {
     "name": "stderr",
     "output_type": "stream",
     "text": [
      " 51%|█████     | 51/100 [06:56<06:22,  7.81s/it]"
     ]
    },
    {
     "name": "stdout",
     "output_type": "stream",
     "text": [
      "Saving results to results/internvl/output_internvl.json...\n",
      "Results saved.\n",
      "\n",
      "Generating response for 51...\n"
     ]
    },
    {
     "name": "stderr",
     "output_type": "stream",
     "text": [
      " 52%|█████▏    | 52/100 [06:58<04:53,  6.11s/it]"
     ]
    },
    {
     "name": "stdout",
     "output_type": "stream",
     "text": [
      "Saving results to results/internvl/output_internvl.json...\n",
      "Results saved.\n",
      "\n",
      "Generating response for 52...\n"
     ]
    },
    {
     "name": "stderr",
     "output_type": "stream",
     "text": [
      " 53%|█████▎    | 53/100 [07:01<03:58,  5.08s/it]"
     ]
    },
    {
     "name": "stdout",
     "output_type": "stream",
     "text": [
      "Saving results to results/internvl/output_internvl.json...\n",
      "Results saved.\n",
      "\n",
      "Generating response for 53...\n"
     ]
    },
    {
     "name": "stderr",
     "output_type": "stream",
     "text": [
      " 54%|█████▍    | 54/100 [07:10<04:51,  6.33s/it]"
     ]
    },
    {
     "name": "stdout",
     "output_type": "stream",
     "text": [
      "Saving results to results/internvl/output_internvl.json...\n",
      "Results saved.\n",
      "\n",
      "Generating response for 54...\n"
     ]
    },
    {
     "name": "stderr",
     "output_type": "stream",
     "text": [
      " 55%|█████▌    | 55/100 [07:28<07:11,  9.59s/it]"
     ]
    },
    {
     "name": "stdout",
     "output_type": "stream",
     "text": [
      "Saving results to results/internvl/output_internvl.json...\n",
      "Results saved.\n",
      "\n",
      "Generating response for 55...\n"
     ]
    },
    {
     "name": "stderr",
     "output_type": "stream",
     "text": [
      " 56%|█████▌    | 56/100 [07:33<06:08,  8.37s/it]"
     ]
    },
    {
     "name": "stdout",
     "output_type": "stream",
     "text": [
      "Saving results to results/internvl/output_internvl.json...\n",
      "Results saved.\n",
      "\n",
      "Generating response for 56...\n"
     ]
    },
    {
     "name": "stderr",
     "output_type": "stream",
     "text": [
      " 57%|█████▋    | 57/100 [07:35<04:36,  6.42s/it]"
     ]
    },
    {
     "name": "stdout",
     "output_type": "stream",
     "text": [
      "Saving results to results/internvl/output_internvl.json...\n",
      "Results saved.\n",
      "\n",
      "Generating response for 57...\n"
     ]
    },
    {
     "name": "stderr",
     "output_type": "stream",
     "text": [
      " 58%|█████▊    | 58/100 [07:44<04:59,  7.14s/it]"
     ]
    },
    {
     "name": "stdout",
     "output_type": "stream",
     "text": [
      "Saving results to results/internvl/output_internvl.json...\n",
      "Results saved.\n",
      "\n",
      "Generating response for 58...\n"
     ]
    },
    {
     "name": "stderr",
     "output_type": "stream",
     "text": [
      " 59%|█████▉    | 59/100 [07:58<06:25,  9.40s/it]"
     ]
    },
    {
     "name": "stdout",
     "output_type": "stream",
     "text": [
      "Saving results to results/internvl/output_internvl.json...\n",
      "Results saved.\n",
      "\n",
      "Generating response for 59...\n"
     ]
    },
    {
     "name": "stderr",
     "output_type": "stream",
     "text": [
      " 60%|██████    | 60/100 [08:02<05:05,  7.63s/it]"
     ]
    },
    {
     "name": "stdout",
     "output_type": "stream",
     "text": [
      "Saving results to results/internvl/output_internvl.json...\n",
      "Results saved.\n",
      "\n",
      "Generating response for 60...\n"
     ]
    },
    {
     "name": "stderr",
     "output_type": "stream",
     "text": [
      " 61%|██████    | 61/100 [08:11<05:09,  7.93s/it]"
     ]
    },
    {
     "name": "stdout",
     "output_type": "stream",
     "text": [
      "Saving results to results/internvl/output_internvl.json...\n",
      "Results saved.\n",
      "\n",
      "Generating response for 61...\n"
     ]
    },
    {
     "name": "stderr",
     "output_type": "stream",
     "text": [
      " 62%|██████▏   | 62/100 [08:25<06:14,  9.84s/it]"
     ]
    },
    {
     "name": "stdout",
     "output_type": "stream",
     "text": [
      "Saving results to results/internvl/output_internvl.json...\n",
      "Results saved.\n",
      "\n",
      "Generating response for 62...\n"
     ]
    },
    {
     "name": "stderr",
     "output_type": "stream",
     "text": [
      " 63%|██████▎   | 63/100 [08:34<05:54,  9.59s/it]"
     ]
    },
    {
     "name": "stdout",
     "output_type": "stream",
     "text": [
      "Saving results to results/internvl/output_internvl.json...\n",
      "Results saved.\n",
      "\n",
      "Generating response for 63...\n"
     ]
    },
    {
     "name": "stderr",
     "output_type": "stream",
     "text": [
      " 64%|██████▍   | 64/100 [08:48<06:35, 10.97s/it]"
     ]
    },
    {
     "name": "stdout",
     "output_type": "stream",
     "text": [
      "Saving results to results/internvl/output_internvl.json...\n",
      "Results saved.\n",
      "\n",
      "Generating response for 64...\n"
     ]
    },
    {
     "name": "stderr",
     "output_type": "stream",
     "text": [
      " 65%|██████▌   | 65/100 [08:56<05:53, 10.11s/it]"
     ]
    },
    {
     "name": "stdout",
     "output_type": "stream",
     "text": [
      "Saving results to results/internvl/output_internvl.json...\n",
      "Results saved.\n",
      "\n",
      "Generating response for 65...\n"
     ]
    },
    {
     "name": "stderr",
     "output_type": "stream",
     "text": [
      " 66%|██████▌   | 66/100 [09:00<04:40,  8.24s/it]"
     ]
    },
    {
     "name": "stdout",
     "output_type": "stream",
     "text": [
      "Saving results to results/internvl/output_internvl.json...\n",
      "Results saved.\n",
      "\n",
      "Generating response for 66...\n"
     ]
    },
    {
     "name": "stderr",
     "output_type": "stream",
     "text": [
      " 67%|██████▋   | 67/100 [09:03<03:39,  6.66s/it]"
     ]
    },
    {
     "name": "stdout",
     "output_type": "stream",
     "text": [
      "Saving results to results/internvl/output_internvl.json...\n",
      "Results saved.\n",
      "\n",
      "Generating response for 67...\n"
     ]
    },
    {
     "name": "stderr",
     "output_type": "stream",
     "text": [
      " 68%|██████▊   | 68/100 [09:19<05:06,  9.58s/it]"
     ]
    },
    {
     "name": "stdout",
     "output_type": "stream",
     "text": [
      "Saving results to results/internvl/output_internvl.json...\n",
      "Results saved.\n",
      "\n",
      "Generating response for 68...\n"
     ]
    },
    {
     "name": "stderr",
     "output_type": "stream",
     "text": [
      " 69%|██████▉   | 69/100 [09:22<03:48,  7.38s/it]"
     ]
    },
    {
     "name": "stdout",
     "output_type": "stream",
     "text": [
      "Saving results to results/internvl/output_internvl.json...\n",
      "Results saved.\n",
      "\n",
      "Generating response for 69...\n"
     ]
    },
    {
     "name": "stderr",
     "output_type": "stream",
     "text": [
      " 70%|███████   | 70/100 [09:25<03:03,  6.13s/it]"
     ]
    },
    {
     "name": "stdout",
     "output_type": "stream",
     "text": [
      "Saving results to results/internvl/output_internvl.json...\n",
      "Results saved.\n",
      "\n",
      "Generating response for 70...\n"
     ]
    },
    {
     "name": "stderr",
     "output_type": "stream",
     "text": [
      " 71%|███████   | 71/100 [09:31<02:53,  5.99s/it]"
     ]
    },
    {
     "name": "stdout",
     "output_type": "stream",
     "text": [
      "Saving results to results/internvl/output_internvl.json...\n",
      "Results saved.\n",
      "\n",
      "Generating response for 71...\n"
     ]
    },
    {
     "name": "stderr",
     "output_type": "stream",
     "text": [
      " 72%|███████▏  | 72/100 [09:36<02:40,  5.73s/it]"
     ]
    },
    {
     "name": "stdout",
     "output_type": "stream",
     "text": [
      "Saving results to results/internvl/output_internvl.json...\n",
      "Results saved.\n",
      "\n",
      "Generating response for 72...\n"
     ]
    },
    {
     "name": "stderr",
     "output_type": "stream",
     "text": [
      " 73%|███████▎  | 73/100 [09:45<03:06,  6.90s/it]"
     ]
    },
    {
     "name": "stdout",
     "output_type": "stream",
     "text": [
      "Saving results to results/internvl/output_internvl.json...\n",
      "Results saved.\n",
      "\n",
      "Generating response for 73...\n"
     ]
    },
    {
     "name": "stderr",
     "output_type": "stream",
     "text": [
      " 74%|███████▍  | 74/100 [09:50<02:44,  6.31s/it]"
     ]
    },
    {
     "name": "stdout",
     "output_type": "stream",
     "text": [
      "Saving results to results/internvl/output_internvl.json...\n",
      "Results saved.\n",
      "\n",
      "Generating response for 74...\n"
     ]
    },
    {
     "name": "stderr",
     "output_type": "stream",
     "text": [
      " 75%|███████▌  | 75/100 [09:56<02:30,  6.01s/it]"
     ]
    },
    {
     "name": "stdout",
     "output_type": "stream",
     "text": [
      "Saving results to results/internvl/output_internvl.json...\n",
      "Results saved.\n",
      "\n",
      "Generating response for 75...\n"
     ]
    },
    {
     "name": "stderr",
     "output_type": "stream",
     "text": [
      " 76%|███████▌  | 76/100 [10:03<02:37,  6.55s/it]"
     ]
    },
    {
     "name": "stdout",
     "output_type": "stream",
     "text": [
      "Saving results to results/internvl/output_internvl.json...\n",
      "Results saved.\n",
      "\n",
      "Generating response for 76...\n"
     ]
    },
    {
     "name": "stderr",
     "output_type": "stream",
     "text": [
      " 77%|███████▋  | 77/100 [10:08<02:18,  6.02s/it]"
     ]
    },
    {
     "name": "stdout",
     "output_type": "stream",
     "text": [
      "Saving results to results/internvl/output_internvl.json...\n",
      "Results saved.\n",
      "\n",
      "Generating response for 77...\n"
     ]
    },
    {
     "name": "stderr",
     "output_type": "stream",
     "text": [
      " 78%|███████▊  | 78/100 [10:13<02:07,  5.77s/it]"
     ]
    },
    {
     "name": "stdout",
     "output_type": "stream",
     "text": [
      "Saving results to results/internvl/output_internvl.json...\n",
      "Results saved.\n",
      "\n",
      "Generating response for 78...\n"
     ]
    },
    {
     "name": "stderr",
     "output_type": "stream",
     "text": [
      " 79%|███████▉  | 79/100 [10:25<02:40,  7.63s/it]"
     ]
    },
    {
     "name": "stdout",
     "output_type": "stream",
     "text": [
      "Saving results to results/internvl/output_internvl.json...\n",
      "Results saved.\n",
      "\n",
      "Generating response for 79...\n"
     ]
    },
    {
     "name": "stderr",
     "output_type": "stream",
     "text": [
      " 80%|████████  | 80/100 [10:34<02:38,  7.90s/it]"
     ]
    },
    {
     "name": "stdout",
     "output_type": "stream",
     "text": [
      "Saving results to results/internvl/output_internvl.json...\n",
      "Results saved.\n",
      "\n",
      "Generating response for 80...\n"
     ]
    },
    {
     "name": "stderr",
     "output_type": "stream",
     "text": [
      " 81%|████████  | 81/100 [10:44<02:44,  8.63s/it]"
     ]
    },
    {
     "name": "stdout",
     "output_type": "stream",
     "text": [
      "Saving results to results/internvl/output_internvl.json...\n",
      "Results saved.\n",
      "\n",
      "Generating response for 81...\n"
     ]
    },
    {
     "name": "stderr",
     "output_type": "stream",
     "text": [
      " 82%|████████▏ | 82/100 [10:58<03:01, 10.07s/it]"
     ]
    },
    {
     "name": "stdout",
     "output_type": "stream",
     "text": [
      "Saving results to results/internvl/output_internvl.json...\n",
      "Results saved.\n",
      "\n",
      "Generating response for 82...\n"
     ]
    },
    {
     "name": "stderr",
     "output_type": "stream",
     "text": [
      " 83%|████████▎ | 83/100 [11:05<02:37,  9.27s/it]"
     ]
    },
    {
     "name": "stdout",
     "output_type": "stream",
     "text": [
      "Saving results to results/internvl/output_internvl.json...\n",
      "Results saved.\n",
      "\n",
      "Generating response for 83...\n"
     ]
    },
    {
     "name": "stderr",
     "output_type": "stream",
     "text": [
      " 84%|████████▍ | 84/100 [11:20<02:56, 11.03s/it]"
     ]
    },
    {
     "name": "stdout",
     "output_type": "stream",
     "text": [
      "Saving results to results/internvl/output_internvl.json...\n",
      "Results saved.\n",
      "\n",
      "Generating response for 84...\n"
     ]
    },
    {
     "name": "stderr",
     "output_type": "stream",
     "text": [
      " 85%|████████▌ | 85/100 [11:25<02:17,  9.16s/it]"
     ]
    },
    {
     "name": "stdout",
     "output_type": "stream",
     "text": [
      "Saving results to results/internvl/output_internvl.json...\n",
      "Results saved.\n",
      "\n",
      "Generating response for 85...\n"
     ]
    },
    {
     "name": "stderr",
     "output_type": "stream",
     "text": [
      " 86%|████████▌ | 86/100 [11:44<02:47, 12.00s/it]"
     ]
    },
    {
     "name": "stdout",
     "output_type": "stream",
     "text": [
      "Saving results to results/internvl/output_internvl.json...\n",
      "Results saved.\n",
      "\n",
      "Generating response for 86...\n"
     ]
    },
    {
     "name": "stderr",
     "output_type": "stream",
     "text": [
      " 87%|████████▋ | 87/100 [11:54<02:31, 11.62s/it]"
     ]
    },
    {
     "name": "stdout",
     "output_type": "stream",
     "text": [
      "Saving results to results/internvl/output_internvl.json...\n",
      "Results saved.\n",
      "\n",
      "Generating response for 87...\n"
     ]
    },
    {
     "name": "stderr",
     "output_type": "stream",
     "text": [
      " 88%|████████▊ | 88/100 [12:05<02:14, 11.24s/it]"
     ]
    },
    {
     "name": "stdout",
     "output_type": "stream",
     "text": [
      "Saving results to results/internvl/output_internvl.json...\n",
      "Results saved.\n",
      "\n",
      "Generating response for 88...\n"
     ]
    },
    {
     "name": "stderr",
     "output_type": "stream",
     "text": [
      " 89%|████████▉ | 89/100 [12:08<01:36,  8.74s/it]"
     ]
    },
    {
     "name": "stdout",
     "output_type": "stream",
     "text": [
      "Saving results to results/internvl/output_internvl.json...\n",
      "Results saved.\n",
      "\n",
      "Generating response for 89...\n"
     ]
    },
    {
     "name": "stderr",
     "output_type": "stream",
     "text": [
      " 90%|█████████ | 90/100 [12:10<01:08,  6.80s/it]"
     ]
    },
    {
     "name": "stdout",
     "output_type": "stream",
     "text": [
      "Saving results to results/internvl/output_internvl.json...\n",
      "Results saved.\n",
      "\n",
      "Generating response for 90...\n"
     ]
    },
    {
     "name": "stderr",
     "output_type": "stream",
     "text": [
      " 91%|█████████ | 91/100 [12:14<00:54,  6.01s/it]"
     ]
    },
    {
     "name": "stdout",
     "output_type": "stream",
     "text": [
      "Saving results to results/internvl/output_internvl.json...\n",
      "Results saved.\n",
      "\n",
      "Generating response for 91...\n"
     ]
    },
    {
     "name": "stderr",
     "output_type": "stream",
     "text": [
      " 92%|█████████▏| 92/100 [12:17<00:41,  5.21s/it]"
     ]
    },
    {
     "name": "stdout",
     "output_type": "stream",
     "text": [
      "Saving results to results/internvl/output_internvl.json...\n",
      "Results saved.\n",
      "\n",
      "Generating response for 92...\n"
     ]
    },
    {
     "name": "stderr",
     "output_type": "stream",
     "text": [
      " 93%|█████████▎| 93/100 [12:23<00:38,  5.48s/it]"
     ]
    },
    {
     "name": "stdout",
     "output_type": "stream",
     "text": [
      "Saving results to results/internvl/output_internvl.json...\n",
      "Results saved.\n",
      "\n",
      "Generating response for 93...\n"
     ]
    },
    {
     "name": "stderr",
     "output_type": "stream",
     "text": [
      " 94%|█████████▍| 94/100 [12:40<00:52,  8.77s/it]"
     ]
    },
    {
     "name": "stdout",
     "output_type": "stream",
     "text": [
      "Saving results to results/internvl/output_internvl.json...\n",
      "Results saved.\n",
      "\n",
      "Generating response for 94...\n"
     ]
    },
    {
     "name": "stderr",
     "output_type": "stream",
     "text": [
      " 95%|█████████▌| 95/100 [12:55<00:53, 10.69s/it]"
     ]
    },
    {
     "name": "stdout",
     "output_type": "stream",
     "text": [
      "Saving results to results/internvl/output_internvl.json...\n",
      "Results saved.\n",
      "\n",
      "Generating response for 95...\n"
     ]
    },
    {
     "name": "stderr",
     "output_type": "stream",
     "text": [
      " 96%|█████████▌| 96/100 [13:00<00:35,  8.98s/it]"
     ]
    },
    {
     "name": "stdout",
     "output_type": "stream",
     "text": [
      "Saving results to results/internvl/output_internvl.json...\n",
      "Results saved.\n",
      "\n",
      "Generating response for 96...\n"
     ]
    },
    {
     "name": "stderr",
     "output_type": "stream",
     "text": [
      " 97%|█████████▋| 97/100 [13:04<00:22,  7.35s/it]"
     ]
    },
    {
     "name": "stdout",
     "output_type": "stream",
     "text": [
      "Saving results to results/internvl/output_internvl.json...\n",
      "Results saved.\n",
      "\n",
      "Generating response for 97...\n"
     ]
    },
    {
     "name": "stderr",
     "output_type": "stream",
     "text": [
      " 98%|█████████▊| 98/100 [13:06<00:11,  5.98s/it]"
     ]
    },
    {
     "name": "stdout",
     "output_type": "stream",
     "text": [
      "Saving results to results/internvl/output_internvl.json...\n",
      "Results saved.\n",
      "\n",
      "Generating response for 98...\n"
     ]
    },
    {
     "name": "stderr",
     "output_type": "stream",
     "text": [
      " 99%|█████████▉| 99/100 [13:09<00:05,  5.09s/it]"
     ]
    },
    {
     "name": "stdout",
     "output_type": "stream",
     "text": [
      "Saving results to results/internvl/output_internvl.json...\n",
      "Results saved.\n",
      "\n",
      "Generating response for 99...\n"
     ]
    },
    {
     "name": "stderr",
     "output_type": "stream",
     "text": [
      "100%|██████████| 100/100 [13:16<00:00,  7.97s/it]\n"
     ]
    },
    {
     "name": "stdout",
     "output_type": "stream",
     "text": [
      "Saving results to results/internvl/output_internvl.json...\n",
      "Results saved.\n"
     ]
    },
    {
     "name": "stderr",
     "output_type": "stream",
     "text": [
      "  0%|          | 0/100 [00:00<?, ?it/s]"
     ]
    },
    {
     "name": "stdout",
     "output_type": "stream",
     "text": [
      "\n",
      "Generating response for 0...\n"
     ]
    },
    {
     "name": "stderr",
     "output_type": "stream",
     "text": [
      "  1%|          | 1/100 [00:23<38:47, 23.51s/it]"
     ]
    },
    {
     "name": "stdout",
     "output_type": "stream",
     "text": [
      "Saving results to results/internvl/output_internvl.json...\n",
      "Results saved.\n",
      "\n",
      "Generating response for 1...\n"
     ]
    },
    {
     "name": "stderr",
     "output_type": "stream",
     "text": [
      "  2%|▏         | 2/100 [00:26<18:42, 11.46s/it]"
     ]
    },
    {
     "name": "stdout",
     "output_type": "stream",
     "text": [
      "Saving results to results/internvl/output_internvl.json...\n",
      "Results saved.\n",
      "\n",
      "Generating response for 2...\n"
     ]
    },
    {
     "name": "stderr",
     "output_type": "stream",
     "text": [
      "  3%|▎         | 3/100 [00:50<27:37, 17.09s/it]"
     ]
    },
    {
     "name": "stdout",
     "output_type": "stream",
     "text": [
      "Saving results to results/internvl/output_internvl.json...\n",
      "Results saved.\n",
      "\n",
      "Generating response for 3...\n"
     ]
    },
    {
     "name": "stderr",
     "output_type": "stream",
     "text": [
      "  4%|▍         | 4/100 [00:57<21:08, 13.21s/it]"
     ]
    },
    {
     "name": "stdout",
     "output_type": "stream",
     "text": [
      "Saving results to results/internvl/output_internvl.json...\n",
      "Results saved.\n",
      "\n",
      "Generating response for 4...\n"
     ]
    },
    {
     "name": "stderr",
     "output_type": "stream",
     "text": [
      "  5%|▌         | 5/100 [01:09<20:20, 12.85s/it]"
     ]
    },
    {
     "name": "stdout",
     "output_type": "stream",
     "text": [
      "Saving results to results/internvl/output_internvl.json...\n",
      "Results saved.\n",
      "\n",
      "Generating response for 5...\n"
     ]
    },
    {
     "name": "stderr",
     "output_type": "stream",
     "text": [
      "  6%|▌         | 6/100 [01:18<17:54, 11.43s/it]"
     ]
    },
    {
     "name": "stdout",
     "output_type": "stream",
     "text": [
      "Saving results to results/internvl/output_internvl.json...\n",
      "Results saved.\n",
      "\n",
      "Generating response for 6...\n"
     ]
    },
    {
     "name": "stderr",
     "output_type": "stream",
     "text": [
      "  7%|▋         | 7/100 [01:20<13:08,  8.48s/it]"
     ]
    },
    {
     "name": "stdout",
     "output_type": "stream",
     "text": [
      "Saving results to results/internvl/output_internvl.json...\n",
      "Results saved.\n",
      "\n",
      "Generating response for 7...\n"
     ]
    },
    {
     "name": "stderr",
     "output_type": "stream",
     "text": [
      "  8%|▊         | 8/100 [01:27<12:08,  7.92s/it]"
     ]
    },
    {
     "name": "stdout",
     "output_type": "stream",
     "text": [
      "Saving results to results/internvl/output_internvl.json...\n",
      "Results saved.\n",
      "\n",
      "Generating response for 8...\n"
     ]
    },
    {
     "name": "stderr",
     "output_type": "stream",
     "text": [
      "  9%|▉         | 9/100 [01:41<14:42,  9.69s/it]"
     ]
    },
    {
     "name": "stdout",
     "output_type": "stream",
     "text": [
      "Saving results to results/internvl/output_internvl.json...\n",
      "Results saved.\n",
      "\n",
      "Generating response for 9...\n"
     ]
    },
    {
     "name": "stderr",
     "output_type": "stream",
     "text": [
      " 10%|█         | 10/100 [01:51<14:42,  9.80s/it]"
     ]
    },
    {
     "name": "stdout",
     "output_type": "stream",
     "text": [
      "Saving results to results/internvl/output_internvl.json...\n",
      "Results saved.\n",
      "\n",
      "Generating response for 10...\n"
     ]
    },
    {
     "name": "stderr",
     "output_type": "stream",
     "text": [
      " 11%|█         | 11/100 [01:53<11:03,  7.46s/it]"
     ]
    },
    {
     "name": "stdout",
     "output_type": "stream",
     "text": [
      "Saving results to results/internvl/output_internvl.json...\n",
      "Results saved.\n",
      "\n",
      "Generating response for 11...\n"
     ]
    },
    {
     "name": "stderr",
     "output_type": "stream",
     "text": [
      " 12%|█▏        | 12/100 [01:56<08:53,  6.07s/it]"
     ]
    },
    {
     "name": "stdout",
     "output_type": "stream",
     "text": [
      "Saving results to results/internvl/output_internvl.json...\n",
      "Results saved.\n",
      "\n",
      "Generating response for 12...\n"
     ]
    },
    {
     "name": "stderr",
     "output_type": "stream",
     "text": [
      " 13%|█▎        | 13/100 [02:00<08:07,  5.60s/it]"
     ]
    },
    {
     "name": "stdout",
     "output_type": "stream",
     "text": [
      "Saving results to results/internvl/output_internvl.json...\n",
      "Results saved.\n",
      "\n",
      "Generating response for 13...\n"
     ]
    },
    {
     "name": "stderr",
     "output_type": "stream",
     "text": [
      " 14%|█▍        | 14/100 [02:10<09:41,  6.76s/it]"
     ]
    },
    {
     "name": "stdout",
     "output_type": "stream",
     "text": [
      "Saving results to results/internvl/output_internvl.json...\n",
      "Results saved.\n",
      "\n",
      "Generating response for 14...\n"
     ]
    },
    {
     "name": "stderr",
     "output_type": "stream",
     "text": [
      " 15%|█▌        | 15/100 [02:20<11:09,  7.88s/it]"
     ]
    },
    {
     "name": "stdout",
     "output_type": "stream",
     "text": [
      "Saving results to results/internvl/output_internvl.json...\n",
      "Results saved.\n",
      "\n",
      "Generating response for 15...\n"
     ]
    },
    {
     "name": "stderr",
     "output_type": "stream",
     "text": [
      " 16%|█▌        | 16/100 [02:26<10:18,  7.36s/it]"
     ]
    },
    {
     "name": "stdout",
     "output_type": "stream",
     "text": [
      "Saving results to results/internvl/output_internvl.json...\n",
      "Results saved.\n",
      "\n",
      "Generating response for 16...\n"
     ]
    },
    {
     "name": "stderr",
     "output_type": "stream",
     "text": [
      " 17%|█▋        | 17/100 [02:37<11:24,  8.25s/it]"
     ]
    },
    {
     "name": "stdout",
     "output_type": "stream",
     "text": [
      "Saving results to results/internvl/output_internvl.json...\n",
      "Results saved.\n",
      "\n",
      "Generating response for 17...\n"
     ]
    },
    {
     "name": "stderr",
     "output_type": "stream",
     "text": [
      " 18%|█▊        | 18/100 [02:41<09:33,  7.00s/it]"
     ]
    },
    {
     "name": "stdout",
     "output_type": "stream",
     "text": [
      "Saving results to results/internvl/output_internvl.json...\n",
      "Results saved.\n",
      "\n",
      "Generating response for 18...\n"
     ]
    },
    {
     "name": "stderr",
     "output_type": "stream",
     "text": [
      " 19%|█▉        | 19/100 [02:44<07:50,  5.81s/it]"
     ]
    },
    {
     "name": "stdout",
     "output_type": "stream",
     "text": [
      "Saving results to results/internvl/output_internvl.json...\n",
      "Results saved.\n",
      "\n",
      "Generating response for 19...\n"
     ]
    },
    {
     "name": "stderr",
     "output_type": "stream",
     "text": [
      " 20%|██        | 20/100 [02:50<08:05,  6.07s/it]"
     ]
    },
    {
     "name": "stdout",
     "output_type": "stream",
     "text": [
      "Saving results to results/internvl/output_internvl.json...\n",
      "Results saved.\n",
      "\n",
      "Generating response for 20...\n"
     ]
    },
    {
     "name": "stderr",
     "output_type": "stream",
     "text": [
      " 21%|██        | 21/100 [02:52<06:04,  4.61s/it]"
     ]
    },
    {
     "name": "stdout",
     "output_type": "stream",
     "text": [
      "Saving results to results/internvl/output_internvl.json...\n",
      "Results saved.\n",
      "\n",
      "Generating response for 21...\n"
     ]
    },
    {
     "name": "stderr",
     "output_type": "stream",
     "text": [
      " 22%|██▏       | 22/100 [02:54<05:15,  4.04s/it]"
     ]
    },
    {
     "name": "stdout",
     "output_type": "stream",
     "text": [
      "Saving results to results/internvl/output_internvl.json...\n",
      "Results saved.\n",
      "\n",
      "Generating response for 22...\n"
     ]
    },
    {
     "name": "stderr",
     "output_type": "stream",
     "text": [
      " 23%|██▎       | 23/100 [03:09<09:15,  7.21s/it]"
     ]
    },
    {
     "name": "stdout",
     "output_type": "stream",
     "text": [
      "Saving results to results/internvl/output_internvl.json...\n",
      "Results saved.\n",
      "\n",
      "Generating response for 23...\n"
     ]
    },
    {
     "name": "stderr",
     "output_type": "stream",
     "text": [
      " 24%|██▍       | 24/100 [03:15<08:31,  6.73s/it]"
     ]
    },
    {
     "name": "stdout",
     "output_type": "stream",
     "text": [
      "Saving results to results/internvl/output_internvl.json...\n",
      "Results saved.\n",
      "\n",
      "Generating response for 24...\n"
     ]
    },
    {
     "name": "stderr",
     "output_type": "stream",
     "text": [
      " 25%|██▌       | 25/100 [03:28<10:44,  8.59s/it]"
     ]
    },
    {
     "name": "stdout",
     "output_type": "stream",
     "text": [
      "Saving results to results/internvl/output_internvl.json...\n",
      "Results saved.\n",
      "\n",
      "Generating response for 25...\n"
     ]
    },
    {
     "name": "stderr",
     "output_type": "stream",
     "text": [
      " 26%|██▌       | 26/100 [03:36<10:24,  8.44s/it]"
     ]
    },
    {
     "name": "stdout",
     "output_type": "stream",
     "text": [
      "Saving results to results/internvl/output_internvl.json...\n",
      "Results saved.\n",
      "\n",
      "Generating response for 26...\n"
     ]
    },
    {
     "name": "stderr",
     "output_type": "stream",
     "text": [
      " 27%|██▋       | 27/100 [03:38<07:54,  6.50s/it]"
     ]
    },
    {
     "name": "stdout",
     "output_type": "stream",
     "text": [
      "Saving results to results/internvl/output_internvl.json...\n",
      "Results saved.\n",
      "\n",
      "Generating response for 27...\n"
     ]
    },
    {
     "name": "stderr",
     "output_type": "stream",
     "text": [
      " 28%|██▊       | 28/100 [03:49<09:38,  8.04s/it]"
     ]
    },
    {
     "name": "stdout",
     "output_type": "stream",
     "text": [
      "Saving results to results/internvl/output_internvl.json...\n",
      "Results saved.\n",
      "\n",
      "Generating response for 28...\n"
     ]
    },
    {
     "name": "stderr",
     "output_type": "stream",
     "text": [
      " 29%|██▉       | 29/100 [03:52<07:48,  6.59s/it]"
     ]
    },
    {
     "name": "stdout",
     "output_type": "stream",
     "text": [
      "Saving results to results/internvl/output_internvl.json...\n",
      "Results saved.\n",
      "\n",
      "Generating response for 29...\n"
     ]
    },
    {
     "name": "stderr",
     "output_type": "stream",
     "text": [
      " 30%|███       | 30/100 [04:11<12:01, 10.31s/it]"
     ]
    },
    {
     "name": "stdout",
     "output_type": "stream",
     "text": [
      "Saving results to results/internvl/output_internvl.json...\n",
      "Results saved.\n",
      "\n",
      "Generating response for 30...\n"
     ]
    },
    {
     "name": "stderr",
     "output_type": "stream",
     "text": [
      " 31%|███       | 31/100 [04:16<09:54,  8.62s/it]"
     ]
    },
    {
     "name": "stdout",
     "output_type": "stream",
     "text": [
      "Saving results to results/internvl/output_internvl.json...\n",
      "Results saved.\n",
      "\n",
      "Generating response for 31...\n"
     ]
    },
    {
     "name": "stderr",
     "output_type": "stream",
     "text": [
      " 32%|███▏      | 32/100 [04:28<10:46,  9.50s/it]"
     ]
    },
    {
     "name": "stdout",
     "output_type": "stream",
     "text": [
      "Saving results to results/internvl/output_internvl.json...\n",
      "Results saved.\n",
      "\n",
      "Generating response for 32...\n"
     ]
    },
    {
     "name": "stderr",
     "output_type": "stream",
     "text": [
      " 33%|███▎      | 33/100 [04:39<11:20, 10.16s/it]"
     ]
    },
    {
     "name": "stdout",
     "output_type": "stream",
     "text": [
      "Saving results to results/internvl/output_internvl.json...\n",
      "Results saved.\n",
      "\n",
      "Generating response for 33...\n"
     ]
    },
    {
     "name": "stderr",
     "output_type": "stream",
     "text": [
      " 34%|███▍      | 34/100 [05:09<17:36, 16.01s/it]"
     ]
    },
    {
     "name": "stdout",
     "output_type": "stream",
     "text": [
      "Saving results to results/internvl/output_internvl.json...\n",
      "Results saved.\n",
      "\n",
      "Generating response for 34...\n"
     ]
    },
    {
     "name": "stderr",
     "output_type": "stream",
     "text": [
      " 35%|███▌      | 35/100 [05:31<19:25, 17.94s/it]"
     ]
    },
    {
     "name": "stdout",
     "output_type": "stream",
     "text": [
      "Saving results to results/internvl/output_internvl.json...\n",
      "Results saved.\n",
      "\n",
      "Generating response for 35...\n"
     ]
    },
    {
     "name": "stderr",
     "output_type": "stream",
     "text": [
      " 36%|███▌      | 36/100 [05:34<14:03, 13.19s/it]"
     ]
    },
    {
     "name": "stdout",
     "output_type": "stream",
     "text": [
      "Saving results to results/internvl/output_internvl.json...\n",
      "Results saved.\n",
      "\n",
      "Generating response for 36...\n"
     ]
    },
    {
     "name": "stderr",
     "output_type": "stream",
     "text": [
      " 37%|███▋      | 37/100 [05:42<12:17, 11.71s/it]"
     ]
    },
    {
     "name": "stdout",
     "output_type": "stream",
     "text": [
      "Saving results to results/internvl/output_internvl.json...\n",
      "Results saved.\n",
      "\n",
      "Generating response for 37...\n"
     ]
    },
    {
     "name": "stderr",
     "output_type": "stream",
     "text": [
      " 38%|███▊      | 38/100 [05:45<09:20,  9.04s/it]"
     ]
    },
    {
     "name": "stdout",
     "output_type": "stream",
     "text": [
      "Saving results to results/internvl/output_internvl.json...\n",
      "Results saved.\n",
      "\n",
      "Generating response for 38...\n"
     ]
    },
    {
     "name": "stderr",
     "output_type": "stream",
     "text": [
      " 39%|███▉      | 39/100 [05:57<10:10, 10.01s/it]"
     ]
    },
    {
     "name": "stdout",
     "output_type": "stream",
     "text": [
      "Saving results to results/internvl/output_internvl.json...\n",
      "Results saved.\n",
      "\n",
      "Generating response for 39...\n"
     ]
    },
    {
     "name": "stderr",
     "output_type": "stream",
     "text": [
      " 40%|████      | 40/100 [05:59<07:34,  7.58s/it]"
     ]
    },
    {
     "name": "stdout",
     "output_type": "stream",
     "text": [
      "Saving results to results/internvl/output_internvl.json...\n",
      "Results saved.\n",
      "\n",
      "Generating response for 40...\n"
     ]
    },
    {
     "name": "stderr",
     "output_type": "stream",
     "text": [
      " 41%|████      | 41/100 [06:01<05:55,  6.02s/it]"
     ]
    },
    {
     "name": "stdout",
     "output_type": "stream",
     "text": [
      "Saving results to results/internvl/output_internvl.json...\n",
      "Results saved.\n",
      "\n",
      "Generating response for 41...\n"
     ]
    },
    {
     "name": "stderr",
     "output_type": "stream",
     "text": [
      " 42%|████▏     | 42/100 [06:04<04:44,  4.90s/it]"
     ]
    },
    {
     "name": "stdout",
     "output_type": "stream",
     "text": [
      "Saving results to results/internvl/output_internvl.json...\n",
      "Results saved.\n",
      "\n",
      "Generating response for 42...\n"
     ]
    },
    {
     "name": "stderr",
     "output_type": "stream",
     "text": [
      " 43%|████▎     | 43/100 [06:17<07:07,  7.50s/it]"
     ]
    },
    {
     "name": "stdout",
     "output_type": "stream",
     "text": [
      "Saving results to results/internvl/output_internvl.json...\n",
      "Results saved.\n",
      "\n",
      "Generating response for 43...\n"
     ]
    },
    {
     "name": "stderr",
     "output_type": "stream",
     "text": [
      " 44%|████▍     | 44/100 [06:25<07:13,  7.74s/it]"
     ]
    },
    {
     "name": "stdout",
     "output_type": "stream",
     "text": [
      "Saving results to results/internvl/output_internvl.json...\n",
      "Results saved.\n",
      "\n",
      "Generating response for 44...\n"
     ]
    },
    {
     "name": "stderr",
     "output_type": "stream",
     "text": [
      " 45%|████▌     | 45/100 [06:35<07:32,  8.23s/it]"
     ]
    },
    {
     "name": "stdout",
     "output_type": "stream",
     "text": [
      "Saving results to results/internvl/output_internvl.json...\n",
      "Results saved.\n",
      "\n",
      "Generating response for 45...\n"
     ]
    },
    {
     "name": "stderr",
     "output_type": "stream",
     "text": [
      " 46%|████▌     | 46/100 [06:42<07:06,  7.91s/it]"
     ]
    },
    {
     "name": "stdout",
     "output_type": "stream",
     "text": [
      "Saving results to results/internvl/output_internvl.json...\n",
      "Results saved.\n",
      "\n",
      "Generating response for 46...\n"
     ]
    },
    {
     "name": "stderr",
     "output_type": "stream",
     "text": [
      " 47%|████▋     | 47/100 [06:45<05:44,  6.50s/it]"
     ]
    },
    {
     "name": "stdout",
     "output_type": "stream",
     "text": [
      "Saving results to results/internvl/output_internvl.json...\n",
      "Results saved.\n",
      "\n",
      "Generating response for 47...\n"
     ]
    },
    {
     "name": "stderr",
     "output_type": "stream",
     "text": [
      " 48%|████▊     | 48/100 [06:54<06:19,  7.30s/it]"
     ]
    },
    {
     "name": "stdout",
     "output_type": "stream",
     "text": [
      "Saving results to results/internvl/output_internvl.json...\n",
      "Results saved.\n",
      "\n",
      "Generating response for 48...\n"
     ]
    },
    {
     "name": "stderr",
     "output_type": "stream",
     "text": [
      " 49%|████▉     | 49/100 [06:57<05:07,  6.02s/it]"
     ]
    },
    {
     "name": "stdout",
     "output_type": "stream",
     "text": [
      "Saving results to results/internvl/output_internvl.json...\n",
      "Results saved.\n",
      "\n",
      "Generating response for 49...\n"
     ]
    },
    {
     "name": "stderr",
     "output_type": "stream",
     "text": [
      " 50%|█████     | 50/100 [07:05<05:25,  6.51s/it]"
     ]
    },
    {
     "name": "stdout",
     "output_type": "stream",
     "text": [
      "Saving results to results/internvl/output_internvl.json...\n",
      "Results saved.\n",
      "\n",
      "Generating response for 50...\n"
     ]
    },
    {
     "name": "stderr",
     "output_type": "stream",
     "text": [
      " 51%|█████     | 51/100 [07:10<04:52,  5.97s/it]"
     ]
    },
    {
     "name": "stdout",
     "output_type": "stream",
     "text": [
      "Saving results to results/internvl/output_internvl.json...\n",
      "Results saved.\n",
      "\n",
      "Generating response for 51...\n"
     ]
    },
    {
     "name": "stderr",
     "output_type": "stream",
     "text": [
      " 52%|█████▏    | 52/100 [07:12<03:52,  4.85s/it]"
     ]
    },
    {
     "name": "stdout",
     "output_type": "stream",
     "text": [
      "Saving results to results/internvl/output_internvl.json...\n",
      "Results saved.\n",
      "\n",
      "Generating response for 52...\n"
     ]
    },
    {
     "name": "stderr",
     "output_type": "stream",
     "text": [
      " 53%|█████▎    | 53/100 [07:15<03:17,  4.20s/it]"
     ]
    },
    {
     "name": "stdout",
     "output_type": "stream",
     "text": [
      "Saving results to results/internvl/output_internvl.json...\n",
      "Results saved.\n",
      "\n",
      "Generating response for 53...\n"
     ]
    },
    {
     "name": "stderr",
     "output_type": "stream",
     "text": [
      " 54%|█████▍    | 54/100 [07:24<04:25,  5.78s/it]"
     ]
    },
    {
     "name": "stdout",
     "output_type": "stream",
     "text": [
      "Saving results to results/internvl/output_internvl.json...\n",
      "Results saved.\n",
      "\n",
      "Generating response for 54...\n"
     ]
    },
    {
     "name": "stderr",
     "output_type": "stream",
     "text": [
      " 55%|█████▌    | 55/100 [07:41<06:49,  9.10s/it]"
     ]
    },
    {
     "name": "stdout",
     "output_type": "stream",
     "text": [
      "Saving results to results/internvl/output_internvl.json...\n",
      "Results saved.\n",
      "\n",
      "Generating response for 55...\n"
     ]
    },
    {
     "name": "stderr",
     "output_type": "stream",
     "text": [
      " 56%|█████▌    | 56/100 [07:47<05:57,  8.12s/it]"
     ]
    },
    {
     "name": "stdout",
     "output_type": "stream",
     "text": [
      "Saving results to results/internvl/output_internvl.json...\n",
      "Results saved.\n",
      "\n",
      "Generating response for 56...\n"
     ]
    },
    {
     "name": "stderr",
     "output_type": "stream",
     "text": [
      " 57%|█████▋    | 57/100 [07:49<04:31,  6.31s/it]"
     ]
    },
    {
     "name": "stdout",
     "output_type": "stream",
     "text": [
      "Saving results to results/internvl/output_internvl.json...\n",
      "Results saved.\n",
      "\n",
      "Generating response for 57...\n"
     ]
    },
    {
     "name": "stderr",
     "output_type": "stream",
     "text": [
      " 58%|█████▊    | 58/100 [07:59<05:17,  7.56s/it]"
     ]
    },
    {
     "name": "stdout",
     "output_type": "stream",
     "text": [
      "Saving results to results/internvl/output_internvl.json...\n",
      "Results saved.\n",
      "\n",
      "Generating response for 58...\n"
     ]
    },
    {
     "name": "stderr",
     "output_type": "stream",
     "text": [
      " 59%|█████▉    | 59/100 [08:17<07:18, 10.69s/it]"
     ]
    },
    {
     "name": "stdout",
     "output_type": "stream",
     "text": [
      "Saving results to results/internvl/output_internvl.json...\n",
      "Results saved.\n",
      "\n",
      "Generating response for 59...\n"
     ]
    },
    {
     "name": "stderr",
     "output_type": "stream",
     "text": [
      " 60%|██████    | 60/100 [08:23<06:06,  9.17s/it]"
     ]
    },
    {
     "name": "stdout",
     "output_type": "stream",
     "text": [
      "Saving results to results/internvl/output_internvl.json...\n",
      "Results saved.\n",
      "\n",
      "Generating response for 60...\n"
     ]
    },
    {
     "name": "stderr",
     "output_type": "stream",
     "text": [
      " 61%|██████    | 61/100 [08:32<05:51,  9.01s/it]"
     ]
    },
    {
     "name": "stdout",
     "output_type": "stream",
     "text": [
      "Saving results to results/internvl/output_internvl.json...\n",
      "Results saved.\n",
      "\n",
      "Generating response for 61...\n"
     ]
    },
    {
     "name": "stderr",
     "output_type": "stream",
     "text": [
      " 62%|██████▏   | 62/100 [08:50<07:29, 11.82s/it]"
     ]
    },
    {
     "name": "stdout",
     "output_type": "stream",
     "text": [
      "Saving results to results/internvl/output_internvl.json...\n",
      "Results saved.\n",
      "\n",
      "Generating response for 62...\n"
     ]
    },
    {
     "name": "stderr",
     "output_type": "stream",
     "text": [
      " 63%|██████▎   | 63/100 [08:58<06:39, 10.79s/it]"
     ]
    },
    {
     "name": "stdout",
     "output_type": "stream",
     "text": [
      "Saving results to results/internvl/output_internvl.json...\n",
      "Results saved.\n",
      "\n",
      "Generating response for 63...\n"
     ]
    },
    {
     "name": "stderr",
     "output_type": "stream",
     "text": [
      " 64%|██████▍   | 64/100 [09:11<06:53, 11.50s/it]"
     ]
    },
    {
     "name": "stdout",
     "output_type": "stream",
     "text": [
      "Saving results to results/internvl/output_internvl.json...\n",
      "Results saved.\n",
      "\n",
      "Generating response for 64...\n"
     ]
    },
    {
     "name": "stderr",
     "output_type": "stream",
     "text": [
      " 65%|██████▌   | 65/100 [09:20<06:13, 10.68s/it]"
     ]
    },
    {
     "name": "stdout",
     "output_type": "stream",
     "text": [
      "Saving results to results/internvl/output_internvl.json...\n",
      "Results saved.\n",
      "\n",
      "Generating response for 65...\n"
     ]
    },
    {
     "name": "stderr",
     "output_type": "stream",
     "text": [
      " 66%|██████▌   | 66/100 [09:26<05:10,  9.14s/it]"
     ]
    },
    {
     "name": "stdout",
     "output_type": "stream",
     "text": [
      "Saving results to results/internvl/output_internvl.json...\n",
      "Results saved.\n",
      "\n",
      "Generating response for 66...\n"
     ]
    },
    {
     "name": "stderr",
     "output_type": "stream",
     "text": [
      " 67%|██████▋   | 67/100 [09:29<04:04,  7.40s/it]"
     ]
    },
    {
     "name": "stdout",
     "output_type": "stream",
     "text": [
      "Saving results to results/internvl/output_internvl.json...\n",
      "Results saved.\n",
      "\n",
      "Generating response for 67...\n"
     ]
    },
    {
     "name": "stderr",
     "output_type": "stream",
     "text": [
      " 68%|██████▊   | 68/100 [09:51<06:14, 11.71s/it]"
     ]
    },
    {
     "name": "stdout",
     "output_type": "stream",
     "text": [
      "Saving results to results/internvl/output_internvl.json...\n",
      "Results saved.\n",
      "\n",
      "Generating response for 68...\n"
     ]
    },
    {
     "name": "stderr",
     "output_type": "stream",
     "text": [
      " 69%|██████▉   | 69/100 [09:54<04:44,  9.17s/it]"
     ]
    },
    {
     "name": "stdout",
     "output_type": "stream",
     "text": [
      "Saving results to results/internvl/output_internvl.json...\n",
      "Results saved.\n",
      "\n",
      "Generating response for 69...\n"
     ]
    },
    {
     "name": "stderr",
     "output_type": "stream",
     "text": [
      " 70%|███████   | 70/100 [09:58<03:44,  7.49s/it]"
     ]
    },
    {
     "name": "stdout",
     "output_type": "stream",
     "text": [
      "Saving results to results/internvl/output_internvl.json...\n",
      "Results saved.\n",
      "\n",
      "Generating response for 70...\n"
     ]
    },
    {
     "name": "stderr",
     "output_type": "stream",
     "text": [
      " 71%|███████   | 71/100 [10:04<03:24,  7.04s/it]"
     ]
    },
    {
     "name": "stdout",
     "output_type": "stream",
     "text": [
      "Saving results to results/internvl/output_internvl.json...\n",
      "Results saved.\n",
      "\n",
      "Generating response for 71...\n"
     ]
    },
    {
     "name": "stderr",
     "output_type": "stream",
     "text": [
      " 72%|███████▏  | 72/100 [10:09<02:59,  6.40s/it]"
     ]
    },
    {
     "name": "stdout",
     "output_type": "stream",
     "text": [
      "Saving results to results/internvl/output_internvl.json...\n",
      "Results saved.\n",
      "\n",
      "Generating response for 72...\n"
     ]
    },
    {
     "name": "stderr",
     "output_type": "stream",
     "text": [
      " 73%|███████▎  | 73/100 [10:17<03:11,  7.11s/it]"
     ]
    },
    {
     "name": "stdout",
     "output_type": "stream",
     "text": [
      "Saving results to results/internvl/output_internvl.json...\n",
      "Results saved.\n",
      "\n",
      "Generating response for 73...\n"
     ]
    },
    {
     "name": "stderr",
     "output_type": "stream",
     "text": [
      " 74%|███████▍  | 74/100 [10:24<03:02,  7.01s/it]"
     ]
    },
    {
     "name": "stdout",
     "output_type": "stream",
     "text": [
      "Saving results to results/internvl/output_internvl.json...\n",
      "Results saved.\n",
      "\n",
      "Generating response for 74...\n"
     ]
    },
    {
     "name": "stderr",
     "output_type": "stream",
     "text": [
      " 75%|███████▌  | 75/100 [10:27<02:25,  5.83s/it]"
     ]
    },
    {
     "name": "stdout",
     "output_type": "stream",
     "text": [
      "Saving results to results/internvl/output_internvl.json...\n",
      "Results saved.\n",
      "\n",
      "Generating response for 75...\n"
     ]
    },
    {
     "name": "stderr",
     "output_type": "stream",
     "text": [
      " 76%|███████▌  | 76/100 [10:36<02:40,  6.71s/it]"
     ]
    },
    {
     "name": "stdout",
     "output_type": "stream",
     "text": [
      "Saving results to results/internvl/output_internvl.json...\n",
      "Results saved.\n",
      "\n",
      "Generating response for 76...\n"
     ]
    },
    {
     "name": "stderr",
     "output_type": "stream",
     "text": [
      " 77%|███████▋  | 77/100 [10:41<02:20,  6.11s/it]"
     ]
    },
    {
     "name": "stdout",
     "output_type": "stream",
     "text": [
      "Saving results to results/internvl/output_internvl.json...\n",
      "Results saved.\n",
      "\n",
      "Generating response for 77...\n"
     ]
    },
    {
     "name": "stderr",
     "output_type": "stream",
     "text": [
      " 78%|███████▊  | 78/100 [10:53<02:52,  7.84s/it]"
     ]
    },
    {
     "name": "stdout",
     "output_type": "stream",
     "text": [
      "Saving results to results/internvl/output_internvl.json...\n",
      "Results saved.\n",
      "\n",
      "Generating response for 78...\n"
     ]
    },
    {
     "name": "stderr",
     "output_type": "stream",
     "text": [
      " 79%|███████▉  | 79/100 [11:04<03:06,  8.87s/it]"
     ]
    },
    {
     "name": "stdout",
     "output_type": "stream",
     "text": [
      "Saving results to results/internvl/output_internvl.json...\n",
      "Results saved.\n",
      "\n",
      "Generating response for 79...\n"
     ]
    },
    {
     "name": "stderr",
     "output_type": "stream",
     "text": [
      " 80%|████████  | 80/100 [11:13<02:58,  8.93s/it]"
     ]
    },
    {
     "name": "stdout",
     "output_type": "stream",
     "text": [
      "Saving results to results/internvl/output_internvl.json...\n",
      "Results saved.\n",
      "\n",
      "Generating response for 80...\n"
     ]
    },
    {
     "name": "stderr",
     "output_type": "stream",
     "text": [
      " 81%|████████  | 81/100 [11:25<03:05,  9.74s/it]"
     ]
    },
    {
     "name": "stdout",
     "output_type": "stream",
     "text": [
      "Saving results to results/internvl/output_internvl.json...\n",
      "Results saved.\n",
      "\n",
      "Generating response for 81...\n"
     ]
    },
    {
     "name": "stderr",
     "output_type": "stream",
     "text": [
      " 82%|████████▏ | 82/100 [11:37<03:11, 10.65s/it]"
     ]
    },
    {
     "name": "stdout",
     "output_type": "stream",
     "text": [
      "Saving results to results/internvl/output_internvl.json...\n",
      "Results saved.\n",
      "\n",
      "Generating response for 82...\n"
     ]
    },
    {
     "name": "stderr",
     "output_type": "stream",
     "text": [
      " 83%|████████▎ | 83/100 [11:45<02:46,  9.78s/it]"
     ]
    },
    {
     "name": "stdout",
     "output_type": "stream",
     "text": [
      "Saving results to results/internvl/output_internvl.json...\n",
      "Results saved.\n",
      "\n",
      "Generating response for 83...\n"
     ]
    },
    {
     "name": "stderr",
     "output_type": "stream",
     "text": [
      " 84%|████████▍ | 84/100 [11:58<02:52, 10.75s/it]"
     ]
    },
    {
     "name": "stdout",
     "output_type": "stream",
     "text": [
      "Saving results to results/internvl/output_internvl.json...\n",
      "Results saved.\n",
      "\n",
      "Generating response for 84...\n"
     ]
    },
    {
     "name": "stderr",
     "output_type": "stream",
     "text": [
      " 85%|████████▌ | 85/100 [12:03<02:16,  9.10s/it]"
     ]
    },
    {
     "name": "stdout",
     "output_type": "stream",
     "text": [
      "Saving results to results/internvl/output_internvl.json...\n",
      "Results saved.\n",
      "\n",
      "Generating response for 85...\n"
     ]
    },
    {
     "name": "stderr",
     "output_type": "stream",
     "text": [
      " 86%|████████▌ | 86/100 [12:21<02:45, 11.79s/it]"
     ]
    },
    {
     "name": "stdout",
     "output_type": "stream",
     "text": [
      "Saving results to results/internvl/output_internvl.json...\n",
      "Results saved.\n",
      "\n",
      "Generating response for 86...\n"
     ]
    },
    {
     "name": "stderr",
     "output_type": "stream",
     "text": [
      " 87%|████████▋ | 87/100 [12:28<02:12, 10.20s/it]"
     ]
    },
    {
     "name": "stdout",
     "output_type": "stream",
     "text": [
      "Saving results to results/internvl/output_internvl.json...\n",
      "Results saved.\n",
      "\n",
      "Generating response for 87...\n"
     ]
    },
    {
     "name": "stderr",
     "output_type": "stream",
     "text": [
      " 88%|████████▊ | 88/100 [12:41<02:13, 11.11s/it]"
     ]
    },
    {
     "name": "stdout",
     "output_type": "stream",
     "text": [
      "Saving results to results/internvl/output_internvl.json...\n",
      "Results saved.\n",
      "\n",
      "Generating response for 88...\n"
     ]
    },
    {
     "name": "stderr",
     "output_type": "stream",
     "text": [
      " 89%|████████▉ | 89/100 [12:45<01:36,  8.80s/it]"
     ]
    },
    {
     "name": "stdout",
     "output_type": "stream",
     "text": [
      "Saving results to results/internvl/output_internvl.json...\n",
      "Results saved.\n",
      "\n",
      "Generating response for 89...\n"
     ]
    },
    {
     "name": "stderr",
     "output_type": "stream",
     "text": [
      " 90%|█████████ | 90/100 [12:47<01:08,  6.87s/it]"
     ]
    },
    {
     "name": "stdout",
     "output_type": "stream",
     "text": [
      "Saving results to results/internvl/output_internvl.json...\n",
      "Results saved.\n",
      "\n",
      "Generating response for 90...\n"
     ]
    },
    {
     "name": "stderr",
     "output_type": "stream",
     "text": [
      " 91%|█████████ | 91/100 [12:50<00:52,  5.86s/it]"
     ]
    },
    {
     "name": "stdout",
     "output_type": "stream",
     "text": [
      "Saving results to results/internvl/output_internvl.json...\n",
      "Results saved.\n",
      "\n",
      "Generating response for 91...\n"
     ]
    },
    {
     "name": "stderr",
     "output_type": "stream",
     "text": [
      " 92%|█████████▏| 92/100 [12:54<00:41,  5.21s/it]"
     ]
    },
    {
     "name": "stdout",
     "output_type": "stream",
     "text": [
      "Saving results to results/internvl/output_internvl.json...\n",
      "Results saved.\n",
      "\n",
      "Generating response for 92...\n"
     ]
    },
    {
     "name": "stderr",
     "output_type": "stream",
     "text": [
      " 93%|█████████▎| 93/100 [13:02<00:42,  6.13s/it]"
     ]
    },
    {
     "name": "stdout",
     "output_type": "stream",
     "text": [
      "Saving results to results/internvl/output_internvl.json...\n",
      "Results saved.\n",
      "\n",
      "Generating response for 93...\n"
     ]
    },
    {
     "name": "stderr",
     "output_type": "stream",
     "text": [
      " 94%|█████████▍| 94/100 [13:18<00:53,  8.85s/it]"
     ]
    },
    {
     "name": "stdout",
     "output_type": "stream",
     "text": [
      "Saving results to results/internvl/output_internvl.json...\n",
      "Results saved.\n",
      "\n",
      "Generating response for 94...\n"
     ]
    },
    {
     "name": "stderr",
     "output_type": "stream",
     "text": [
      " 95%|█████████▌| 95/100 [13:34<00:55, 11.19s/it]"
     ]
    },
    {
     "name": "stdout",
     "output_type": "stream",
     "text": [
      "Saving results to results/internvl/output_internvl.json...\n",
      "Results saved.\n",
      "\n",
      "Generating response for 95...\n"
     ]
    },
    {
     "name": "stderr",
     "output_type": "stream",
     "text": [
      " 96%|█████████▌| 96/100 [13:39<00:37,  9.38s/it]"
     ]
    },
    {
     "name": "stdout",
     "output_type": "stream",
     "text": [
      "Saving results to results/internvl/output_internvl.json...\n",
      "Results saved.\n",
      "\n",
      "Generating response for 96...\n"
     ]
    },
    {
     "name": "stderr",
     "output_type": "stream",
     "text": [
      " 97%|█████████▋| 97/100 [13:42<00:22,  7.36s/it]"
     ]
    },
    {
     "name": "stdout",
     "output_type": "stream",
     "text": [
      "Saving results to results/internvl/output_internvl.json...\n",
      "Results saved.\n",
      "\n",
      "Generating response for 97...\n"
     ]
    },
    {
     "name": "stderr",
     "output_type": "stream",
     "text": [
      " 98%|█████████▊| 98/100 [13:51<00:15,  7.79s/it]"
     ]
    },
    {
     "name": "stdout",
     "output_type": "stream",
     "text": [
      "Saving results to results/internvl/output_internvl.json...\n",
      "Results saved.\n",
      "\n",
      "Generating response for 98...\n"
     ]
    },
    {
     "name": "stderr",
     "output_type": "stream",
     "text": [
      " 99%|█████████▉| 99/100 [13:54<00:06,  6.42s/it]"
     ]
    },
    {
     "name": "stdout",
     "output_type": "stream",
     "text": [
      "Saving results to results/internvl/output_internvl.json...\n",
      "Results saved.\n",
      "\n",
      "Generating response for 99...\n"
     ]
    },
    {
     "name": "stderr",
     "output_type": "stream",
     "text": [
      "100%|██████████| 100/100 [13:58<00:00,  8.38s/it]\n"
     ]
    },
    {
     "name": "stdout",
     "output_type": "stream",
     "text": [
      "Saving results to results/internvl/output_internvl.json...\n",
      "Results saved.\n"
     ]
    },
    {
     "name": "stderr",
     "output_type": "stream",
     "text": [
      "  0%|          | 0/100 [00:00<?, ?it/s]"
     ]
    },
    {
     "name": "stdout",
     "output_type": "stream",
     "text": [
      "\n",
      "Generating response for 0...\n"
     ]
    },
    {
     "name": "stderr",
     "output_type": "stream",
     "text": [
      "  1%|          | 1/100 [00:20<34:27, 20.88s/it]"
     ]
    },
    {
     "name": "stdout",
     "output_type": "stream",
     "text": [
      "Saving results to results/internvl/output_internvl.json...\n",
      "Results saved.\n",
      "\n",
      "Generating response for 1...\n"
     ]
    },
    {
     "name": "stderr",
     "output_type": "stream",
     "text": [
      "  2%|▏         | 2/100 [00:23<16:13,  9.94s/it]"
     ]
    },
    {
     "name": "stdout",
     "output_type": "stream",
     "text": [
      "Saving results to results/internvl/output_internvl.json...\n",
      "Results saved.\n",
      "\n",
      "Generating response for 2...\n"
     ]
    },
    {
     "name": "stderr",
     "output_type": "stream",
     "text": [
      "  3%|▎         | 3/100 [00:38<19:54, 12.32s/it]"
     ]
    },
    {
     "name": "stdout",
     "output_type": "stream",
     "text": [
      "Saving results to results/internvl/output_internvl.json...\n",
      "Results saved.\n",
      "\n",
      "Generating response for 3...\n"
     ]
    },
    {
     "name": "stderr",
     "output_type": "stream",
     "text": [
      "  4%|▍         | 4/100 [00:40<13:11,  8.24s/it]"
     ]
    },
    {
     "name": "stdout",
     "output_type": "stream",
     "text": [
      "Saving results to results/internvl/output_internvl.json...\n",
      "Results saved.\n",
      "\n",
      "Generating response for 4...\n"
     ]
    },
    {
     "name": "stderr",
     "output_type": "stream",
     "text": [
      "  5%|▌         | 5/100 [00:52<15:13,  9.62s/it]"
     ]
    },
    {
     "name": "stdout",
     "output_type": "stream",
     "text": [
      "Saving results to results/internvl/output_internvl.json...\n",
      "Results saved.\n",
      "\n",
      "Generating response for 5...\n"
     ]
    },
    {
     "name": "stderr",
     "output_type": "stream",
     "text": [
      "  6%|▌         | 6/100 [01:00<14:27,  9.23s/it]"
     ]
    },
    {
     "name": "stdout",
     "output_type": "stream",
     "text": [
      "Saving results to results/internvl/output_internvl.json...\n",
      "Results saved.\n",
      "\n",
      "Generating response for 6...\n"
     ]
    },
    {
     "name": "stderr",
     "output_type": "stream",
     "text": [
      "  7%|▋         | 7/100 [01:03<10:46,  6.96s/it]"
     ]
    },
    {
     "name": "stdout",
     "output_type": "stream",
     "text": [
      "Saving results to results/internvl/output_internvl.json...\n",
      "Results saved.\n",
      "\n",
      "Generating response for 7...\n"
     ]
    },
    {
     "name": "stderr",
     "output_type": "stream",
     "text": [
      "  8%|▊         | 8/100 [01:12<11:39,  7.60s/it]"
     ]
    },
    {
     "name": "stdout",
     "output_type": "stream",
     "text": [
      "Saving results to results/internvl/output_internvl.json...\n",
      "Results saved.\n",
      "\n",
      "Generating response for 8...\n"
     ]
    },
    {
     "name": "stderr",
     "output_type": "stream",
     "text": [
      "  9%|▉         | 9/100 [01:27<15:22, 10.14s/it]"
     ]
    },
    {
     "name": "stdout",
     "output_type": "stream",
     "text": [
      "Saving results to results/internvl/output_internvl.json...\n",
      "Results saved.\n",
      "\n",
      "Generating response for 9...\n"
     ]
    },
    {
     "name": "stderr",
     "output_type": "stream",
     "text": [
      " 10%|█         | 10/100 [01:52<21:52, 14.59s/it]"
     ]
    },
    {
     "name": "stdout",
     "output_type": "stream",
     "text": [
      "Saving results to results/internvl/output_internvl.json...\n",
      "Results saved.\n",
      "\n",
      "Generating response for 10...\n"
     ]
    },
    {
     "name": "stderr",
     "output_type": "stream",
     "text": [
      " 11%|█         | 11/100 [01:55<16:18, 10.99s/it]"
     ]
    },
    {
     "name": "stdout",
     "output_type": "stream",
     "text": [
      "Saving results to results/internvl/output_internvl.json...\n",
      "Results saved.\n",
      "\n",
      "Generating response for 11...\n"
     ]
    },
    {
     "name": "stderr",
     "output_type": "stream",
     "text": [
      " 12%|█▏        | 12/100 [01:58<12:33,  8.56s/it]"
     ]
    },
    {
     "name": "stdout",
     "output_type": "stream",
     "text": [
      "Saving results to results/internvl/output_internvl.json...\n",
      "Results saved.\n",
      "\n",
      "Generating response for 12...\n"
     ]
    },
    {
     "name": "stderr",
     "output_type": "stream",
     "text": [
      " 13%|█▎        | 13/100 [02:07<12:37,  8.70s/it]"
     ]
    },
    {
     "name": "stdout",
     "output_type": "stream",
     "text": [
      "Saving results to results/internvl/output_internvl.json...\n",
      "Results saved.\n",
      "\n",
      "Generating response for 13...\n"
     ]
    },
    {
     "name": "stderr",
     "output_type": "stream",
     "text": [
      " 14%|█▍        | 14/100 [02:15<12:05,  8.44s/it]"
     ]
    },
    {
     "name": "stdout",
     "output_type": "stream",
     "text": [
      "Saving results to results/internvl/output_internvl.json...\n",
      "Results saved.\n",
      "\n",
      "Generating response for 14...\n"
     ]
    },
    {
     "name": "stderr",
     "output_type": "stream",
     "text": [
      " 15%|█▌        | 15/100 [02:24<12:10,  8.60s/it]"
     ]
    },
    {
     "name": "stdout",
     "output_type": "stream",
     "text": [
      "Saving results to results/internvl/output_internvl.json...\n",
      "Results saved.\n",
      "\n",
      "Generating response for 15...\n"
     ]
    },
    {
     "name": "stderr",
     "output_type": "stream",
     "text": [
      " 16%|█▌        | 16/100 [02:29<10:55,  7.81s/it]"
     ]
    },
    {
     "name": "stdout",
     "output_type": "stream",
     "text": [
      "Saving results to results/internvl/output_internvl.json...\n",
      "Results saved.\n",
      "\n",
      "Generating response for 16...\n"
     ]
    },
    {
     "name": "stderr",
     "output_type": "stream",
     "text": [
      " 17%|█▋        | 17/100 [02:39<11:37,  8.40s/it]"
     ]
    },
    {
     "name": "stdout",
     "output_type": "stream",
     "text": [
      "Saving results to results/internvl/output_internvl.json...\n",
      "Results saved.\n",
      "\n",
      "Generating response for 17...\n"
     ]
    },
    {
     "name": "stderr",
     "output_type": "stream",
     "text": [
      " 18%|█▊        | 18/100 [02:45<10:20,  7.56s/it]"
     ]
    },
    {
     "name": "stdout",
     "output_type": "stream",
     "text": [
      "Saving results to results/internvl/output_internvl.json...\n",
      "Results saved.\n",
      "\n",
      "Generating response for 18...\n"
     ]
    },
    {
     "name": "stderr",
     "output_type": "stream",
     "text": [
      " 19%|█▉        | 19/100 [02:48<08:33,  6.35s/it]"
     ]
    },
    {
     "name": "stdout",
     "output_type": "stream",
     "text": [
      "Saving results to results/internvl/output_internvl.json...\n",
      "Results saved.\n",
      "\n",
      "Generating response for 19...\n"
     ]
    },
    {
     "name": "stderr",
     "output_type": "stream",
     "text": [
      " 20%|██        | 20/100 [02:55<08:30,  6.38s/it]"
     ]
    },
    {
     "name": "stdout",
     "output_type": "stream",
     "text": [
      "Saving results to results/internvl/output_internvl.json...\n",
      "Results saved.\n",
      "\n",
      "Generating response for 20...\n"
     ]
    },
    {
     "name": "stderr",
     "output_type": "stream",
     "text": [
      " 21%|██        | 21/100 [02:56<06:22,  4.84s/it]"
     ]
    },
    {
     "name": "stdout",
     "output_type": "stream",
     "text": [
      "Saving results to results/internvl/output_internvl.json...\n",
      "Results saved.\n",
      "\n",
      "Generating response for 21...\n"
     ]
    },
    {
     "name": "stderr",
     "output_type": "stream",
     "text": [
      " 22%|██▏       | 22/100 [02:59<05:38,  4.35s/it]"
     ]
    },
    {
     "name": "stdout",
     "output_type": "stream",
     "text": [
      "Saving results to results/internvl/output_internvl.json...\n",
      "Results saved.\n",
      "\n",
      "Generating response for 22...\n"
     ]
    },
    {
     "name": "stderr",
     "output_type": "stream",
     "text": [
      " 23%|██▎       | 23/100 [03:14<09:32,  7.43s/it]"
     ]
    },
    {
     "name": "stdout",
     "output_type": "stream",
     "text": [
      "Saving results to results/internvl/output_internvl.json...\n",
      "Results saved.\n",
      "\n",
      "Generating response for 23...\n"
     ]
    },
    {
     "name": "stderr",
     "output_type": "stream",
     "text": [
      " 24%|██▍       | 24/100 [03:18<08:08,  6.43s/it]"
     ]
    },
    {
     "name": "stdout",
     "output_type": "stream",
     "text": [
      "Saving results to results/internvl/output_internvl.json...\n",
      "Results saved.\n",
      "\n",
      "Generating response for 24...\n"
     ]
    },
    {
     "name": "stderr",
     "output_type": "stream",
     "text": [
      " 25%|██▌       | 25/100 [03:32<10:45,  8.61s/it]"
     ]
    },
    {
     "name": "stdout",
     "output_type": "stream",
     "text": [
      "Saving results to results/internvl/output_internvl.json...\n",
      "Results saved.\n",
      "\n",
      "Generating response for 25...\n"
     ]
    },
    {
     "name": "stderr",
     "output_type": "stream",
     "text": [
      " 26%|██▌       | 26/100 [03:37<09:26,  7.65s/it]"
     ]
    },
    {
     "name": "stdout",
     "output_type": "stream",
     "text": [
      "Saving results to results/internvl/output_internvl.json...\n",
      "Results saved.\n",
      "\n",
      "Generating response for 26...\n"
     ]
    },
    {
     "name": "stderr",
     "output_type": "stream",
     "text": [
      " 27%|██▋       | 27/100 [03:39<07:17,  6.00s/it]"
     ]
    },
    {
     "name": "stdout",
     "output_type": "stream",
     "text": [
      "Saving results to results/internvl/output_internvl.json...\n",
      "Results saved.\n",
      "\n",
      "Generating response for 27...\n"
     ]
    },
    {
     "name": "stderr",
     "output_type": "stream",
     "text": [
      " 28%|██▊       | 28/100 [03:50<08:59,  7.49s/it]"
     ]
    },
    {
     "name": "stdout",
     "output_type": "stream",
     "text": [
      "Saving results to results/internvl/output_internvl.json...\n",
      "Results saved.\n",
      "\n",
      "Generating response for 28...\n"
     ]
    },
    {
     "name": "stderr",
     "output_type": "stream",
     "text": [
      " 29%|██▉       | 29/100 [03:54<07:28,  6.31s/it]"
     ]
    },
    {
     "name": "stdout",
     "output_type": "stream",
     "text": [
      "Saving results to results/internvl/output_internvl.json...\n",
      "Results saved.\n",
      "\n",
      "Generating response for 29...\n"
     ]
    },
    {
     "name": "stderr",
     "output_type": "stream",
     "text": [
      " 30%|███       | 30/100 [04:10<10:56,  9.38s/it]"
     ]
    },
    {
     "name": "stdout",
     "output_type": "stream",
     "text": [
      "Saving results to results/internvl/output_internvl.json...\n",
      "Results saved.\n",
      "\n",
      "Generating response for 30...\n"
     ]
    },
    {
     "name": "stderr",
     "output_type": "stream",
     "text": [
      " 31%|███       | 31/100 [04:16<09:33,  8.32s/it]"
     ]
    },
    {
     "name": "stdout",
     "output_type": "stream",
     "text": [
      "Saving results to results/internvl/output_internvl.json...\n",
      "Results saved.\n",
      "\n",
      "Generating response for 31...\n"
     ]
    },
    {
     "name": "stderr",
     "output_type": "stream",
     "text": [
      " 32%|███▏      | 32/100 [04:30<11:18,  9.97s/it]"
     ]
    },
    {
     "name": "stdout",
     "output_type": "stream",
     "text": [
      "Saving results to results/internvl/output_internvl.json...\n",
      "Results saved.\n",
      "\n",
      "Generating response for 32...\n"
     ]
    },
    {
     "name": "stderr",
     "output_type": "stream",
     "text": [
      " 33%|███▎      | 33/100 [04:41<11:20, 10.16s/it]"
     ]
    },
    {
     "name": "stdout",
     "output_type": "stream",
     "text": [
      "Saving results to results/internvl/output_internvl.json...\n",
      "Results saved.\n",
      "\n",
      "Generating response for 33...\n"
     ]
    },
    {
     "name": "stderr",
     "output_type": "stream",
     "text": [
      " 34%|███▍      | 34/100 [05:00<14:20, 13.04s/it]"
     ]
    },
    {
     "name": "stdout",
     "output_type": "stream",
     "text": [
      "Saving results to results/internvl/output_internvl.json...\n",
      "Results saved.\n",
      "\n",
      "Generating response for 34...\n"
     ]
    },
    {
     "name": "stderr",
     "output_type": "stream",
     "text": [
      " 35%|███▌      | 35/100 [05:19<16:01, 14.79s/it]"
     ]
    },
    {
     "name": "stdout",
     "output_type": "stream",
     "text": [
      "Saving results to results/internvl/output_internvl.json...\n",
      "Results saved.\n",
      "\n",
      "Generating response for 35...\n"
     ]
    },
    {
     "name": "stderr",
     "output_type": "stream",
     "text": [
      " 36%|███▌      | 36/100 [05:21<11:41, 10.96s/it]"
     ]
    },
    {
     "name": "stdout",
     "output_type": "stream",
     "text": [
      "Saving results to results/internvl/output_internvl.json...\n",
      "Results saved.\n",
      "\n",
      "Generating response for 36...\n"
     ]
    },
    {
     "name": "stderr",
     "output_type": "stream",
     "text": [
      " 37%|███▋      | 37/100 [05:36<12:42, 12.10s/it]"
     ]
    },
    {
     "name": "stdout",
     "output_type": "stream",
     "text": [
      "Saving results to results/internvl/output_internvl.json...\n",
      "Results saved.\n",
      "\n",
      "Generating response for 37...\n"
     ]
    },
    {
     "name": "stderr",
     "output_type": "stream",
     "text": [
      " 38%|███▊      | 38/100 [05:39<09:37,  9.31s/it]"
     ]
    },
    {
     "name": "stdout",
     "output_type": "stream",
     "text": [
      "Saving results to results/internvl/output_internvl.json...\n",
      "Results saved.\n",
      "\n",
      "Generating response for 38...\n"
     ]
    },
    {
     "name": "stderr",
     "output_type": "stream",
     "text": [
      " 39%|███▉      | 39/100 [05:53<10:50, 10.67s/it]"
     ]
    },
    {
     "name": "stdout",
     "output_type": "stream",
     "text": [
      "Saving results to results/internvl/output_internvl.json...\n",
      "Results saved.\n",
      "\n",
      "Generating response for 39...\n"
     ]
    },
    {
     "name": "stderr",
     "output_type": "stream",
     "text": [
      " 40%|████      | 40/100 [05:55<08:04,  8.08s/it]"
     ]
    },
    {
     "name": "stdout",
     "output_type": "stream",
     "text": [
      "Saving results to results/internvl/output_internvl.json...\n",
      "Results saved.\n",
      "\n",
      "Generating response for 40...\n"
     ]
    },
    {
     "name": "stderr",
     "output_type": "stream",
     "text": [
      " 41%|████      | 41/100 [05:57<06:06,  6.21s/it]"
     ]
    },
    {
     "name": "stdout",
     "output_type": "stream",
     "text": [
      "Saving results to results/internvl/output_internvl.json...\n",
      "Results saved.\n",
      "\n",
      "Generating response for 41...\n"
     ]
    },
    {
     "name": "stderr",
     "output_type": "stream",
     "text": [
      " 42%|████▏     | 42/100 [05:58<04:40,  4.83s/it]"
     ]
    },
    {
     "name": "stdout",
     "output_type": "stream",
     "text": [
      "Saving results to results/internvl/output_internvl.json...\n",
      "Results saved.\n",
      "\n",
      "Generating response for 42...\n"
     ]
    },
    {
     "name": "stderr",
     "output_type": "stream",
     "text": [
      " 43%|████▎     | 43/100 [06:09<06:25,  6.77s/it]"
     ]
    },
    {
     "name": "stdout",
     "output_type": "stream",
     "text": [
      "Saving results to results/internvl/output_internvl.json...\n",
      "Results saved.\n",
      "\n",
      "Generating response for 43...\n"
     ]
    },
    {
     "name": "stderr",
     "output_type": "stream",
     "text": [
      " 44%|████▍     | 44/100 [06:18<06:42,  7.19s/it]"
     ]
    },
    {
     "name": "stdout",
     "output_type": "stream",
     "text": [
      "Saving results to results/internvl/output_internvl.json...\n",
      "Results saved.\n",
      "\n",
      "Generating response for 44...\n"
     ]
    },
    {
     "name": "stderr",
     "output_type": "stream",
     "text": [
      " 45%|████▌     | 45/100 [06:26<06:54,  7.54s/it]"
     ]
    },
    {
     "name": "stdout",
     "output_type": "stream",
     "text": [
      "Saving results to results/internvl/output_internvl.json...\n",
      "Results saved.\n",
      "\n",
      "Generating response for 45...\n"
     ]
    },
    {
     "name": "stderr",
     "output_type": "stream",
     "text": [
      " 46%|████▌     | 46/100 [06:32<06:24,  7.12s/it]"
     ]
    },
    {
     "name": "stdout",
     "output_type": "stream",
     "text": [
      "Saving results to results/internvl/output_internvl.json...\n",
      "Results saved.\n",
      "\n",
      "Generating response for 46...\n"
     ]
    },
    {
     "name": "stderr",
     "output_type": "stream",
     "text": [
      " 47%|████▋     | 47/100 [06:35<05:07,  5.80s/it]"
     ]
    },
    {
     "name": "stdout",
     "output_type": "stream",
     "text": [
      "Saving results to results/internvl/output_internvl.json...\n",
      "Results saved.\n",
      "\n",
      "Generating response for 47...\n"
     ]
    },
    {
     "name": "stderr",
     "output_type": "stream",
     "text": [
      " 48%|████▊     | 48/100 [06:53<08:08,  9.39s/it]"
     ]
    },
    {
     "name": "stdout",
     "output_type": "stream",
     "text": [
      "Saving results to results/internvl/output_internvl.json...\n",
      "Results saved.\n",
      "\n",
      "Generating response for 48...\n"
     ]
    },
    {
     "name": "stderr",
     "output_type": "stream",
     "text": [
      " 49%|████▉     | 49/100 [06:56<06:31,  7.68s/it]"
     ]
    },
    {
     "name": "stdout",
     "output_type": "stream",
     "text": [
      "Saving results to results/internvl/output_internvl.json...\n",
      "Results saved.\n",
      "\n",
      "Generating response for 49...\n"
     ]
    },
    {
     "name": "stderr",
     "output_type": "stream",
     "text": [
      " 50%|█████     | 50/100 [07:13<08:45, 10.51s/it]"
     ]
    },
    {
     "name": "stdout",
     "output_type": "stream",
     "text": [
      "Saving results to results/internvl/output_internvl.json...\n",
      "Results saved.\n",
      "\n",
      "Generating response for 50...\n"
     ]
    },
    {
     "name": "stderr",
     "output_type": "stream",
     "text": [
      " 51%|█████     | 51/100 [07:18<07:07,  8.73s/it]"
     ]
    },
    {
     "name": "stdout",
     "output_type": "stream",
     "text": [
      "Saving results to results/internvl/output_internvl.json...\n",
      "Results saved.\n",
      "\n",
      "Generating response for 51...\n"
     ]
    },
    {
     "name": "stderr",
     "output_type": "stream",
     "text": [
      " 52%|█████▏    | 52/100 [07:20<05:23,  6.74s/it]"
     ]
    },
    {
     "name": "stdout",
     "output_type": "stream",
     "text": [
      "Saving results to results/internvl/output_internvl.json...\n",
      "Results saved.\n",
      "\n",
      "Generating response for 52...\n"
     ]
    },
    {
     "name": "stderr",
     "output_type": "stream",
     "text": [
      " 53%|█████▎    | 53/100 [07:22<04:15,  5.43s/it]"
     ]
    },
    {
     "name": "stdout",
     "output_type": "stream",
     "text": [
      "Saving results to results/internvl/output_internvl.json...\n",
      "Results saved.\n",
      "\n",
      "Generating response for 53...\n"
     ]
    },
    {
     "name": "stderr",
     "output_type": "stream",
     "text": [
      " 54%|█████▍    | 54/100 [07:32<05:09,  6.72s/it]"
     ]
    },
    {
     "name": "stdout",
     "output_type": "stream",
     "text": [
      "Saving results to results/internvl/output_internvl.json...\n",
      "Results saved.\n",
      "\n",
      "Generating response for 54...\n"
     ]
    },
    {
     "name": "stderr",
     "output_type": "stream",
     "text": [
      " 55%|█████▌    | 55/100 [07:43<05:52,  7.83s/it]"
     ]
    },
    {
     "name": "stdout",
     "output_type": "stream",
     "text": [
      "Saving results to results/internvl/output_internvl.json...\n",
      "Results saved.\n",
      "\n",
      "Generating response for 55...\n"
     ]
    },
    {
     "name": "stderr",
     "output_type": "stream",
     "text": [
      " 56%|█████▌    | 56/100 [07:49<05:20,  7.28s/it]"
     ]
    },
    {
     "name": "stdout",
     "output_type": "stream",
     "text": [
      "Saving results to results/internvl/output_internvl.json...\n",
      "Results saved.\n",
      "\n",
      "Generating response for 56...\n"
     ]
    },
    {
     "name": "stderr",
     "output_type": "stream",
     "text": [
      " 57%|█████▋    | 57/100 [07:52<04:17,  5.98s/it]"
     ]
    },
    {
     "name": "stdout",
     "output_type": "stream",
     "text": [
      "Saving results to results/internvl/output_internvl.json...\n",
      "Results saved.\n",
      "\n",
      "Generating response for 57...\n"
     ]
    },
    {
     "name": "stderr",
     "output_type": "stream",
     "text": [
      " 58%|█████▊    | 58/100 [08:03<05:21,  7.66s/it]"
     ]
    },
    {
     "name": "stdout",
     "output_type": "stream",
     "text": [
      "Saving results to results/internvl/output_internvl.json...\n",
      "Results saved.\n",
      "\n",
      "Generating response for 58...\n"
     ]
    },
    {
     "name": "stderr",
     "output_type": "stream",
     "text": [
      " 59%|█████▉    | 59/100 [08:21<07:21, 10.78s/it]"
     ]
    },
    {
     "name": "stdout",
     "output_type": "stream",
     "text": [
      "Saving results to results/internvl/output_internvl.json...\n",
      "Results saved.\n",
      "\n",
      "Generating response for 59...\n"
     ]
    },
    {
     "name": "stderr",
     "output_type": "stream",
     "text": [
      " 60%|██████    | 60/100 [08:27<06:12,  9.30s/it]"
     ]
    },
    {
     "name": "stdout",
     "output_type": "stream",
     "text": [
      "Saving results to results/internvl/output_internvl.json...\n",
      "Results saved.\n",
      "\n",
      "Generating response for 60...\n"
     ]
    },
    {
     "name": "stderr",
     "output_type": "stream",
     "text": [
      " 61%|██████    | 61/100 [08:37<06:11,  9.53s/it]"
     ]
    },
    {
     "name": "stdout",
     "output_type": "stream",
     "text": [
      "Saving results to results/internvl/output_internvl.json...\n",
      "Results saved.\n",
      "\n",
      "Generating response for 61...\n"
     ]
    },
    {
     "name": "stderr",
     "output_type": "stream",
     "text": [
      " 62%|██████▏   | 62/100 [08:51<06:46, 10.70s/it]"
     ]
    },
    {
     "name": "stdout",
     "output_type": "stream",
     "text": [
      "Saving results to results/internvl/output_internvl.json...\n",
      "Results saved.\n",
      "\n",
      "Generating response for 62...\n"
     ]
    },
    {
     "name": "stderr",
     "output_type": "stream",
     "text": [
      " 63%|██████▎   | 63/100 [08:59<06:09,  9.98s/it]"
     ]
    },
    {
     "name": "stdout",
     "output_type": "stream",
     "text": [
      "Saving results to results/internvl/output_internvl.json...\n",
      "Results saved.\n",
      "\n",
      "Generating response for 63...\n"
     ]
    },
    {
     "name": "stderr",
     "output_type": "stream",
     "text": [
      " 64%|██████▍   | 64/100 [09:11<06:21, 10.60s/it]"
     ]
    },
    {
     "name": "stdout",
     "output_type": "stream",
     "text": [
      "Saving results to results/internvl/output_internvl.json...\n",
      "Results saved.\n",
      "\n",
      "Generating response for 64...\n"
     ]
    },
    {
     "name": "stderr",
     "output_type": "stream",
     "text": [
      " 65%|██████▌   | 65/100 [09:19<05:46,  9.90s/it]"
     ]
    },
    {
     "name": "stdout",
     "output_type": "stream",
     "text": [
      "Saving results to results/internvl/output_internvl.json...\n",
      "Results saved.\n",
      "\n",
      "Generating response for 65...\n"
     ]
    },
    {
     "name": "stderr",
     "output_type": "stream",
     "text": [
      " 66%|██████▌   | 66/100 [09:24<04:42,  8.30s/it]"
     ]
    },
    {
     "name": "stdout",
     "output_type": "stream",
     "text": [
      "Saving results to results/internvl/output_internvl.json...\n",
      "Results saved.\n",
      "\n",
      "Generating response for 66...\n"
     ]
    },
    {
     "name": "stderr",
     "output_type": "stream",
     "text": [
      " 67%|██████▋   | 67/100 [09:28<03:58,  7.23s/it]"
     ]
    },
    {
     "name": "stdout",
     "output_type": "stream",
     "text": [
      "Saving results to results/internvl/output_internvl.json...\n",
      "Results saved.\n",
      "\n",
      "Generating response for 67...\n"
     ]
    },
    {
     "name": "stderr",
     "output_type": "stream",
     "text": [
      " 68%|██████▊   | 68/100 [09:46<05:30, 10.33s/it]"
     ]
    },
    {
     "name": "stdout",
     "output_type": "stream",
     "text": [
      "Saving results to results/internvl/output_internvl.json...\n",
      "Results saved.\n",
      "\n",
      "Generating response for 68...\n"
     ]
    },
    {
     "name": "stderr",
     "output_type": "stream",
     "text": [
      " 69%|██████▉   | 69/100 [09:49<04:09,  8.06s/it]"
     ]
    },
    {
     "name": "stdout",
     "output_type": "stream",
     "text": [
      "Saving results to results/internvl/output_internvl.json...\n",
      "Results saved.\n",
      "\n",
      "Generating response for 69...\n"
     ]
    },
    {
     "name": "stderr",
     "output_type": "stream",
     "text": [
      " 70%|███████   | 70/100 [09:53<03:24,  6.82s/it]"
     ]
    },
    {
     "name": "stdout",
     "output_type": "stream",
     "text": [
      "Saving results to results/internvl/output_internvl.json...\n",
      "Results saved.\n",
      "\n",
      "Generating response for 70...\n"
     ]
    },
    {
     "name": "stderr",
     "output_type": "stream",
     "text": [
      " 71%|███████   | 71/100 [09:59<03:15,  6.72s/it]"
     ]
    },
    {
     "name": "stdout",
     "output_type": "stream",
     "text": [
      "Saving results to results/internvl/output_internvl.json...\n",
      "Results saved.\n",
      "\n",
      "Generating response for 71...\n"
     ]
    },
    {
     "name": "stderr",
     "output_type": "stream",
     "text": [
      " 72%|███████▏  | 72/100 [10:04<02:54,  6.24s/it]"
     ]
    },
    {
     "name": "stdout",
     "output_type": "stream",
     "text": [
      "Saving results to results/internvl/output_internvl.json...\n",
      "Results saved.\n",
      "\n",
      "Generating response for 72...\n"
     ]
    },
    {
     "name": "stderr",
     "output_type": "stream",
     "text": [
      " 73%|███████▎  | 73/100 [10:11<02:52,  6.40s/it]"
     ]
    },
    {
     "name": "stdout",
     "output_type": "stream",
     "text": [
      "Saving results to results/internvl/output_internvl.json...\n",
      "Results saved.\n",
      "\n",
      "Generating response for 73...\n"
     ]
    },
    {
     "name": "stderr",
     "output_type": "stream",
     "text": [
      " 74%|███████▍  | 74/100 [10:18<02:47,  6.45s/it]"
     ]
    },
    {
     "name": "stdout",
     "output_type": "stream",
     "text": [
      "Saving results to results/internvl/output_internvl.json...\n",
      "Results saved.\n",
      "\n",
      "Generating response for 74...\n"
     ]
    },
    {
     "name": "stderr",
     "output_type": "stream",
     "text": [
      " 75%|███████▌  | 75/100 [10:24<02:38,  6.33s/it]"
     ]
    },
    {
     "name": "stdout",
     "output_type": "stream",
     "text": [
      "Saving results to results/internvl/output_internvl.json...\n",
      "Results saved.\n",
      "\n",
      "Generating response for 75...\n"
     ]
    },
    {
     "name": "stderr",
     "output_type": "stream",
     "text": [
      " 76%|███████▌  | 76/100 [10:32<02:44,  6.84s/it]"
     ]
    },
    {
     "name": "stdout",
     "output_type": "stream",
     "text": [
      "Saving results to results/internvl/output_internvl.json...\n",
      "Results saved.\n",
      "\n",
      "Generating response for 76...\n"
     ]
    },
    {
     "name": "stderr",
     "output_type": "stream",
     "text": [
      " 77%|███████▋  | 77/100 [10:39<02:39,  6.93s/it]"
     ]
    },
    {
     "name": "stdout",
     "output_type": "stream",
     "text": [
      "Saving results to results/internvl/output_internvl.json...\n",
      "Results saved.\n",
      "\n",
      "Generating response for 77...\n"
     ]
    },
    {
     "name": "stderr",
     "output_type": "stream",
     "text": [
      " 78%|███████▊  | 78/100 [10:45<02:23,  6.54s/it]"
     ]
    },
    {
     "name": "stdout",
     "output_type": "stream",
     "text": [
      "Saving results to results/internvl/output_internvl.json...\n",
      "Results saved.\n",
      "\n",
      "Generating response for 78...\n"
     ]
    },
    {
     "name": "stderr",
     "output_type": "stream",
     "text": [
      " 79%|███████▉  | 79/100 [10:58<02:59,  8.56s/it]"
     ]
    },
    {
     "name": "stdout",
     "output_type": "stream",
     "text": [
      "Saving results to results/internvl/output_internvl.json...\n",
      "Results saved.\n",
      "\n",
      "Generating response for 79...\n"
     ]
    },
    {
     "name": "stderr",
     "output_type": "stream",
     "text": [
      " 80%|████████  | 80/100 [11:06<02:51,  8.55s/it]"
     ]
    },
    {
     "name": "stdout",
     "output_type": "stream",
     "text": [
      "Saving results to results/internvl/output_internvl.json...\n",
      "Results saved.\n",
      "\n",
      "Generating response for 80...\n"
     ]
    },
    {
     "name": "stderr",
     "output_type": "stream",
     "text": [
      " 81%|████████  | 81/100 [11:17<02:51,  9.03s/it]"
     ]
    },
    {
     "name": "stdout",
     "output_type": "stream",
     "text": [
      "Saving results to results/internvl/output_internvl.json...\n",
      "Results saved.\n",
      "\n",
      "Generating response for 81...\n"
     ]
    },
    {
     "name": "stderr",
     "output_type": "stream",
     "text": [
      " 82%|████████▏ | 82/100 [11:30<03:04, 10.25s/it]"
     ]
    },
    {
     "name": "stdout",
     "output_type": "stream",
     "text": [
      "Saving results to results/internvl/output_internvl.json...\n",
      "Results saved.\n",
      "\n",
      "Generating response for 82...\n"
     ]
    },
    {
     "name": "stderr",
     "output_type": "stream",
     "text": [
      " 83%|████████▎ | 83/100 [11:39<02:50, 10.01s/it]"
     ]
    },
    {
     "name": "stdout",
     "output_type": "stream",
     "text": [
      "Saving results to results/internvl/output_internvl.json...\n",
      "Results saved.\n",
      "\n",
      "Generating response for 83...\n"
     ]
    },
    {
     "name": "stderr",
     "output_type": "stream",
     "text": [
      " 84%|████████▍ | 84/100 [11:57<03:19, 12.47s/it]"
     ]
    },
    {
     "name": "stdout",
     "output_type": "stream",
     "text": [
      "Saving results to results/internvl/output_internvl.json...\n",
      "Results saved.\n",
      "\n",
      "Generating response for 84...\n"
     ]
    },
    {
     "name": "stderr",
     "output_type": "stream",
     "text": [
      " 85%|████████▌ | 85/100 [12:02<02:32, 10.15s/it]"
     ]
    },
    {
     "name": "stdout",
     "output_type": "stream",
     "text": [
      "Saving results to results/internvl/output_internvl.json...\n",
      "Results saved.\n",
      "\n",
      "Generating response for 85...\n"
     ]
    },
    {
     "name": "stderr",
     "output_type": "stream",
     "text": [
      " 86%|████████▌ | 86/100 [12:23<03:09, 13.52s/it]"
     ]
    },
    {
     "name": "stdout",
     "output_type": "stream",
     "text": [
      "Saving results to results/internvl/output_internvl.json...\n",
      "Results saved.\n",
      "\n",
      "Generating response for 86...\n"
     ]
    },
    {
     "name": "stderr",
     "output_type": "stream",
     "text": [
      " 87%|████████▋ | 87/100 [12:33<02:40, 12.38s/it]"
     ]
    },
    {
     "name": "stdout",
     "output_type": "stream",
     "text": [
      "Saving results to results/internvl/output_internvl.json...\n",
      "Results saved.\n",
      "\n",
      "Generating response for 87...\n"
     ]
    },
    {
     "name": "stderr",
     "output_type": "stream",
     "text": [
      " 88%|████████▊ | 88/100 [12:43<02:20, 11.73s/it]"
     ]
    },
    {
     "name": "stdout",
     "output_type": "stream",
     "text": [
      "Saving results to results/internvl/output_internvl.json...\n",
      "Results saved.\n",
      "\n",
      "Generating response for 88...\n"
     ]
    },
    {
     "name": "stderr",
     "output_type": "stream",
     "text": [
      " 89%|████████▉ | 89/100 [12:46<01:39,  9.08s/it]"
     ]
    },
    {
     "name": "stdout",
     "output_type": "stream",
     "text": [
      "Saving results to results/internvl/output_internvl.json...\n",
      "Results saved.\n",
      "\n",
      "Generating response for 89...\n"
     ]
    },
    {
     "name": "stderr",
     "output_type": "stream",
     "text": [
      " 90%|█████████ | 90/100 [12:48<01:09,  6.97s/it]"
     ]
    },
    {
     "name": "stdout",
     "output_type": "stream",
     "text": [
      "Saving results to results/internvl/output_internvl.json...\n",
      "Results saved.\n",
      "\n",
      "Generating response for 90...\n"
     ]
    },
    {
     "name": "stderr",
     "output_type": "stream",
     "text": [
      " 91%|█████████ | 91/100 [12:51<00:51,  5.75s/it]"
     ]
    },
    {
     "name": "stdout",
     "output_type": "stream",
     "text": [
      "Saving results to results/internvl/output_internvl.json...\n",
      "Results saved.\n",
      "\n",
      "Generating response for 91...\n"
     ]
    },
    {
     "name": "stderr",
     "output_type": "stream",
     "text": [
      " 92%|█████████▏| 92/100 [12:55<00:40,  5.06s/it]"
     ]
    },
    {
     "name": "stdout",
     "output_type": "stream",
     "text": [
      "Saving results to results/internvl/output_internvl.json...\n",
      "Results saved.\n",
      "\n",
      "Generating response for 92...\n"
     ]
    },
    {
     "name": "stderr",
     "output_type": "stream",
     "text": [
      " 93%|█████████▎| 93/100 [13:02<00:39,  5.61s/it]"
     ]
    },
    {
     "name": "stdout",
     "output_type": "stream",
     "text": [
      "Saving results to results/internvl/output_internvl.json...\n",
      "Results saved.\n",
      "\n",
      "Generating response for 93...\n"
     ]
    },
    {
     "name": "stderr",
     "output_type": "stream",
     "text": [
      " 94%|█████████▍| 94/100 [13:18<00:53,  8.93s/it]"
     ]
    },
    {
     "name": "stdout",
     "output_type": "stream",
     "text": [
      "Saving results to results/internvl/output_internvl.json...\n",
      "Results saved.\n",
      "\n",
      "Generating response for 94...\n"
     ]
    },
    {
     "name": "stderr",
     "output_type": "stream",
     "text": [
      " 95%|█████████▌| 95/100 [13:42<01:06, 13.37s/it]"
     ]
    },
    {
     "name": "stdout",
     "output_type": "stream",
     "text": [
      "Saving results to results/internvl/output_internvl.json...\n",
      "Results saved.\n",
      "\n",
      "Generating response for 95...\n"
     ]
    },
    {
     "name": "stderr",
     "output_type": "stream",
     "text": [
      " 96%|█████████▌| 96/100 [13:48<00:44, 11.14s/it]"
     ]
    },
    {
     "name": "stdout",
     "output_type": "stream",
     "text": [
      "Saving results to results/internvl/output_internvl.json...\n",
      "Results saved.\n",
      "\n",
      "Generating response for 96...\n"
     ]
    },
    {
     "name": "stderr",
     "output_type": "stream",
     "text": [
      " 97%|█████████▋| 97/100 [13:51<00:25,  8.65s/it]"
     ]
    },
    {
     "name": "stdout",
     "output_type": "stream",
     "text": [
      "Saving results to results/internvl/output_internvl.json...\n",
      "Results saved.\n",
      "\n",
      "Generating response for 97...\n"
     ]
    },
    {
     "name": "stderr",
     "output_type": "stream",
     "text": [
      " 98%|█████████▊| 98/100 [13:54<00:13,  6.94s/it]"
     ]
    },
    {
     "name": "stdout",
     "output_type": "stream",
     "text": [
      "Saving results to results/internvl/output_internvl.json...\n",
      "Results saved.\n",
      "\n",
      "Generating response for 98...\n"
     ]
    },
    {
     "name": "stderr",
     "output_type": "stream",
     "text": [
      " 99%|█████████▉| 99/100 [13:58<00:06,  6.26s/it]"
     ]
    },
    {
     "name": "stdout",
     "output_type": "stream",
     "text": [
      "Saving results to results/internvl/output_internvl.json...\n",
      "Results saved.\n",
      "\n",
      "Generating response for 99...\n"
     ]
    },
    {
     "name": "stderr",
     "output_type": "stream",
     "text": [
      "100%|██████████| 100/100 [14:01<00:00,  8.42s/it]\n"
     ]
    },
    {
     "name": "stdout",
     "output_type": "stream",
     "text": [
      "Saving results to results/internvl/output_internvl.json...\n",
      "Results saved.\n"
     ]
    },
    {
     "name": "stderr",
     "output_type": "stream",
     "text": [
      "  0%|          | 0/100 [00:00<?, ?it/s]"
     ]
    },
    {
     "name": "stdout",
     "output_type": "stream",
     "text": [
      "\n",
      "Generating response for 0...\n"
     ]
    },
    {
     "name": "stderr",
     "output_type": "stream",
     "text": [
      "  1%|          | 1/100 [00:19<32:51, 19.92s/it]"
     ]
    },
    {
     "name": "stdout",
     "output_type": "stream",
     "text": [
      "Saving results to results/internvl/output_internvl.json...\n",
      "Results saved.\n",
      "\n",
      "Generating response for 1...\n"
     ]
    },
    {
     "name": "stderr",
     "output_type": "stream",
     "text": [
      "  2%|▏         | 2/100 [00:22<15:24,  9.44s/it]"
     ]
    },
    {
     "name": "stdout",
     "output_type": "stream",
     "text": [
      "Saving results to results/internvl/output_internvl.json...\n",
      "Results saved.\n",
      "\n",
      "Generating response for 2...\n"
     ]
    },
    {
     "name": "stderr",
     "output_type": "stream",
     "text": [
      "  3%|▎         | 3/100 [00:41<22:25, 13.87s/it]"
     ]
    },
    {
     "name": "stdout",
     "output_type": "stream",
     "text": [
      "Saving results to results/internvl/output_internvl.json...\n",
      "Results saved.\n",
      "\n",
      "Generating response for 3...\n"
     ]
    },
    {
     "name": "stderr",
     "output_type": "stream",
     "text": [
      "  4%|▍         | 4/100 [00:43<14:42,  9.20s/it]"
     ]
    },
    {
     "name": "stdout",
     "output_type": "stream",
     "text": [
      "Saving results to results/internvl/output_internvl.json...\n",
      "Results saved.\n",
      "\n",
      "Generating response for 4...\n"
     ]
    },
    {
     "name": "stderr",
     "output_type": "stream",
     "text": [
      "  5%|▌         | 5/100 [00:55<16:13, 10.24s/it]"
     ]
    },
    {
     "name": "stdout",
     "output_type": "stream",
     "text": [
      "Saving results to results/internvl/output_internvl.json...\n",
      "Results saved.\n",
      "\n",
      "Generating response for 5...\n"
     ]
    },
    {
     "name": "stderr",
     "output_type": "stream",
     "text": [
      "  6%|▌         | 6/100 [01:03<14:54,  9.52s/it]"
     ]
    },
    {
     "name": "stdout",
     "output_type": "stream",
     "text": [
      "Saving results to results/internvl/output_internvl.json...\n",
      "Results saved.\n",
      "\n",
      "Generating response for 6...\n"
     ]
    },
    {
     "name": "stderr",
     "output_type": "stream",
     "text": [
      "  7%|▋         | 7/100 [01:05<11:13,  7.25s/it]"
     ]
    },
    {
     "name": "stdout",
     "output_type": "stream",
     "text": [
      "Saving results to results/internvl/output_internvl.json...\n",
      "Results saved.\n",
      "\n",
      "Generating response for 7...\n"
     ]
    },
    {
     "name": "stderr",
     "output_type": "stream",
     "text": [
      "  8%|▊         | 8/100 [01:13<11:28,  7.48s/it]"
     ]
    },
    {
     "name": "stdout",
     "output_type": "stream",
     "text": [
      "Saving results to results/internvl/output_internvl.json...\n",
      "Results saved.\n",
      "\n",
      "Generating response for 8...\n"
     ]
    },
    {
     "name": "stderr",
     "output_type": "stream",
     "text": [
      "  9%|▉         | 9/100 [01:25<13:26,  8.86s/it]"
     ]
    },
    {
     "name": "stdout",
     "output_type": "stream",
     "text": [
      "Saving results to results/internvl/output_internvl.json...\n",
      "Results saved.\n",
      "\n",
      "Generating response for 9...\n"
     ]
    },
    {
     "name": "stderr",
     "output_type": "stream",
     "text": [
      " 10%|█         | 10/100 [01:59<24:50, 16.57s/it]"
     ]
    },
    {
     "name": "stdout",
     "output_type": "stream",
     "text": [
      "Saving results to results/internvl/output_internvl.json...\n",
      "Results saved.\n",
      "\n",
      "Generating response for 10...\n"
     ]
    },
    {
     "name": "stderr",
     "output_type": "stream",
     "text": [
      " 11%|█         | 11/100 [02:01<17:57, 12.10s/it]"
     ]
    },
    {
     "name": "stdout",
     "output_type": "stream",
     "text": [
      "Saving results to results/internvl/output_internvl.json...\n",
      "Results saved.\n",
      "\n",
      "Generating response for 11...\n"
     ]
    },
    {
     "name": "stderr",
     "output_type": "stream",
     "text": [
      " 12%|█▏        | 12/100 [02:04<13:42,  9.35s/it]"
     ]
    },
    {
     "name": "stdout",
     "output_type": "stream",
     "text": [
      "Saving results to results/internvl/output_internvl.json...\n",
      "Results saved.\n",
      "\n",
      "Generating response for 12...\n"
     ]
    },
    {
     "name": "stderr",
     "output_type": "stream",
     "text": [
      " 13%|█▎        | 13/100 [02:09<11:34,  7.98s/it]"
     ]
    },
    {
     "name": "stdout",
     "output_type": "stream",
     "text": [
      "Saving results to results/internvl/output_internvl.json...\n",
      "Results saved.\n",
      "\n",
      "Generating response for 13...\n"
     ]
    },
    {
     "name": "stderr",
     "output_type": "stream",
     "text": [
      " 14%|█▍        | 14/100 [02:17<11:19,  7.90s/it]"
     ]
    },
    {
     "name": "stdout",
     "output_type": "stream",
     "text": [
      "Saving results to results/internvl/output_internvl.json...\n",
      "Results saved.\n",
      "\n",
      "Generating response for 14...\n"
     ]
    },
    {
     "name": "stderr",
     "output_type": "stream",
     "text": [
      " 15%|█▌        | 15/100 [02:26<11:35,  8.18s/it]"
     ]
    },
    {
     "name": "stdout",
     "output_type": "stream",
     "text": [
      "Saving results to results/internvl/output_internvl.json...\n",
      "Results saved.\n",
      "\n",
      "Generating response for 15...\n"
     ]
    },
    {
     "name": "stderr",
     "output_type": "stream",
     "text": [
      " 16%|█▌        | 16/100 [02:31<10:09,  7.26s/it]"
     ]
    },
    {
     "name": "stdout",
     "output_type": "stream",
     "text": [
      "Saving results to results/internvl/output_internvl.json...\n",
      "Results saved.\n",
      "\n",
      "Generating response for 16...\n"
     ]
    },
    {
     "name": "stderr",
     "output_type": "stream",
     "text": [
      " 17%|█▋        | 17/100 [02:40<11:05,  8.01s/it]"
     ]
    },
    {
     "name": "stdout",
     "output_type": "stream",
     "text": [
      "Saving results to results/internvl/output_internvl.json...\n",
      "Results saved.\n",
      "\n",
      "Generating response for 17...\n"
     ]
    },
    {
     "name": "stderr",
     "output_type": "stream",
     "text": [
      " 18%|█▊        | 18/100 [02:45<09:22,  6.86s/it]"
     ]
    },
    {
     "name": "stdout",
     "output_type": "stream",
     "text": [
      "Saving results to results/internvl/output_internvl.json...\n",
      "Results saved.\n",
      "\n",
      "Generating response for 18...\n"
     ]
    },
    {
     "name": "stderr",
     "output_type": "stream",
     "text": [
      " 19%|█▉        | 19/100 [02:47<07:33,  5.60s/it]"
     ]
    },
    {
     "name": "stdout",
     "output_type": "stream",
     "text": [
      "Saving results to results/internvl/output_internvl.json...\n",
      "Results saved.\n",
      "\n",
      "Generating response for 19...\n"
     ]
    },
    {
     "name": "stderr",
     "output_type": "stream",
     "text": [
      " 20%|██        | 20/100 [02:53<07:33,  5.66s/it]"
     ]
    },
    {
     "name": "stdout",
     "output_type": "stream",
     "text": [
      "Saving results to results/internvl/output_internvl.json...\n",
      "Results saved.\n",
      "\n",
      "Generating response for 20...\n"
     ]
    },
    {
     "name": "stderr",
     "output_type": "stream",
     "text": [
      " 21%|██        | 21/100 [02:55<05:57,  4.53s/it]"
     ]
    },
    {
     "name": "stdout",
     "output_type": "stream",
     "text": [
      "Saving results to results/internvl/output_internvl.json...\n",
      "Results saved.\n",
      "\n",
      "Generating response for 21...\n"
     ]
    },
    {
     "name": "stderr",
     "output_type": "stream",
     "text": [
      " 22%|██▏       | 22/100 [02:58<05:22,  4.14s/it]"
     ]
    },
    {
     "name": "stdout",
     "output_type": "stream",
     "text": [
      "Saving results to results/internvl/output_internvl.json...\n",
      "Results saved.\n",
      "\n",
      "Generating response for 22...\n"
     ]
    },
    {
     "name": "stderr",
     "output_type": "stream",
     "text": [
      " 23%|██▎       | 23/100 [03:09<07:50,  6.11s/it]"
     ]
    },
    {
     "name": "stdout",
     "output_type": "stream",
     "text": [
      "Saving results to results/internvl/output_internvl.json...\n",
      "Results saved.\n",
      "\n",
      "Generating response for 23...\n"
     ]
    },
    {
     "name": "stderr",
     "output_type": "stream",
     "text": [
      " 24%|██▍       | 24/100 [03:14<07:12,  5.69s/it]"
     ]
    },
    {
     "name": "stdout",
     "output_type": "stream",
     "text": [
      "Saving results to results/internvl/output_internvl.json...\n",
      "Results saved.\n",
      "\n",
      "Generating response for 24...\n"
     ]
    },
    {
     "name": "stderr",
     "output_type": "stream",
     "text": [
      " 25%|██▌       | 25/100 [03:27<10:02,  8.03s/it]"
     ]
    },
    {
     "name": "stdout",
     "output_type": "stream",
     "text": [
      "Saving results to results/internvl/output_internvl.json...\n",
      "Results saved.\n",
      "\n",
      "Generating response for 25...\n"
     ]
    },
    {
     "name": "stderr",
     "output_type": "stream",
     "text": [
      " 26%|██▌       | 26/100 [03:32<08:53,  7.21s/it]"
     ]
    },
    {
     "name": "stdout",
     "output_type": "stream",
     "text": [
      "Saving results to results/internvl/output_internvl.json...\n",
      "Results saved.\n",
      "\n",
      "Generating response for 26...\n"
     ]
    },
    {
     "name": "stderr",
     "output_type": "stream",
     "text": [
      " 27%|██▋       | 27/100 [03:35<06:57,  5.72s/it]"
     ]
    },
    {
     "name": "stdout",
     "output_type": "stream",
     "text": [
      "Saving results to results/internvl/output_internvl.json...\n",
      "Results saved.\n",
      "\n",
      "Generating response for 27...\n"
     ]
    },
    {
     "name": "stderr",
     "output_type": "stream",
     "text": [
      " 28%|██▊       | 28/100 [03:46<08:55,  7.44s/it]"
     ]
    },
    {
     "name": "stdout",
     "output_type": "stream",
     "text": [
      "Saving results to results/internvl/output_internvl.json...\n",
      "Results saved.\n",
      "\n",
      "Generating response for 28...\n"
     ]
    },
    {
     "name": "stderr",
     "output_type": "stream",
     "text": [
      " 29%|██▉       | 29/100 [03:49<07:17,  6.17s/it]"
     ]
    },
    {
     "name": "stdout",
     "output_type": "stream",
     "text": [
      "Saving results to results/internvl/output_internvl.json...\n",
      "Results saved.\n",
      "\n",
      "Generating response for 29...\n"
     ]
    },
    {
     "name": "stderr",
     "output_type": "stream",
     "text": [
      " 30%|███       | 30/100 [04:01<09:15,  7.94s/it]"
     ]
    },
    {
     "name": "stdout",
     "output_type": "stream",
     "text": [
      "Saving results to results/internvl/output_internvl.json...\n",
      "Results saved.\n",
      "\n",
      "Generating response for 30...\n"
     ]
    },
    {
     "name": "stderr",
     "output_type": "stream",
     "text": [
      " 31%|███       | 31/100 [04:07<08:11,  7.12s/it]"
     ]
    },
    {
     "name": "stdout",
     "output_type": "stream",
     "text": [
      "Saving results to results/internvl/output_internvl.json...\n",
      "Results saved.\n",
      "\n",
      "Generating response for 31...\n"
     ]
    },
    {
     "name": "stderr",
     "output_type": "stream",
     "text": [
      " 32%|███▏      | 32/100 [04:19<09:45,  8.62s/it]"
     ]
    },
    {
     "name": "stdout",
     "output_type": "stream",
     "text": [
      "Saving results to results/internvl/output_internvl.json...\n",
      "Results saved.\n",
      "\n",
      "Generating response for 32...\n"
     ]
    },
    {
     "name": "stderr",
     "output_type": "stream",
     "text": [
      " 33%|███▎      | 33/100 [04:28<09:53,  8.86s/it]"
     ]
    },
    {
     "name": "stdout",
     "output_type": "stream",
     "text": [
      "Saving results to results/internvl/output_internvl.json...\n",
      "Results saved.\n",
      "\n",
      "Generating response for 33...\n"
     ]
    }
   ],
   "source": [
    "\n",
    "    # load data\n",
    "    input_file = os.path.join(args.task_data_pth, args.input_file)\n",
    "    print(f\"Reading {input_file}...\")\n",
    "    data = read_json(input_file)\n",
    "    # load or create query data\n",
    "    if args.query_file:\n",
    "        query_file = os.path.join(args.task_data_pth, args.query_file)\n",
    "        if os.path.exists(query_file):\n",
    "            print(f\"Loading existing {query_file}...\")\n",
    "            query_data = read_json(query_file)\n",
    "    else:\n",
    "        print(\"\\nCreating new query...\")\n",
    "        # load caption\n",
    "        caption_data = {}\n",
    "        if args.use_caption:\n",
    "            caption_file = args.caption_file\n",
    "            if os.path.exists(caption_file):\n",
    "                print(f\"Reading {caption_file}...\")\n",
    "                try:\n",
    "                    caption_data = read_json(caption_file)[\"texts\"]\n",
    "                    print(\"Caption data loaded.\")\n",
    "                except:\n",
    "                    print(\"Caption data not found!! Please Check.\")                    \n",
    "        # load ocr\n",
    "        ocr_data = {}\n",
    "        if args.use_ocr:\n",
    "            ocr_file = args.ocr_file\n",
    "            if os.path.exists(ocr_file):\n",
    "                print(f\"Reading {ocr_file}...\")\n",
    "                try:\n",
    "                    ocr_data = read_json(ocr_file)[\"texts\"]\n",
    "                    print(\"OCR data loaded.\")\n",
    "                except:\n",
    "                    print(\"OCR data not found!! Please Check.\")\n",
    "        # create query\n",
    "        query_data = create_query_data(data, caption_data, ocr_data, args)\n",
    "\n",
    "    # output file\n",
    "    os.makedirs(args.output_dir, exist_ok=True)\n",
    "    output_file = os.path.join(args.output_dir, args.output_file)\n",
    "    \n",
    "    # load results\n",
    "    if os.path.exists(output_file):\n",
    "        print(\"\\nResults already exist.\")\n",
    "        print(f\"Reading {output_file}...\")\n",
    "        results = read_json(output_file)\n",
    "    else:\n",
    "        results = {}\n",
    "\n",
    "    # load model\n",
    "    print(f\"\\nLoading {args.model}...\")\n",
    "    if args.model == 'bard':\n",
    "        if args.key == '':\n",
    "            print(\"Loading key from environment variable\")\n",
    "            key = os.environ['_BARD_API_KEY']\n",
    "        else:\n",
    "            key = args.key\n",
    "        model = bard.Bard_Model(key)\n",
    "    \n",
    "    elif \"gpt\" in args.model:\n",
    "        if args.key == '':\n",
    "            print(\"Loading token from environment variable\")\n",
    "            key = os.getenv(\"OPENAI_API_KEY\")\n",
    "        else:\n",
    "            key = args.key\n",
    "        model = gpt.GPT_Model(args.model, key)\n",
    "    \n",
    "    elif \"claude\" in args.model:\n",
    "        if args.key == '':\n",
    "            print(\"Loading token from environment variable\")\n",
    "            key = os.environ.get(\"ANTHROPIC_API_KEY\")\n",
    "        else:\n",
    "            key = args.key\n",
    "        model = claude.Claude_Model(args.model, key)\n",
    "    elif \"internlm\" in args.model:\n",
    "        model = internlm.InternLM_Model()\n",
    "    elif \"llava_one_v\" in args.model:\n",
    "        model = llava_one_v.Llava_One_V()\n",
    "    elif \"internvl\" in args.model:\n",
    "        model = internvl.InternVL_Model()\n",
    "            \n",
    "    \n",
    "    print(f\"Model loaded.\")\n",
    "    \n",
    "    # build final test pid list\n",
    "    test_pids = list(data.keys())\n",
    "    print(\"\\nNumber of test problems in total:\", len(test_pids))\n",
    "\n",
    "    available_directories = [d for d in os.listdir(args.poison_data_dir) if os.path.isdir(os.path.join(args.poison_data_dir, d))]\n",
    "    target_names = read_json(os.path.join(args.task_data_pth, \"target/caps.json\"))\n",
    "    if not all([name in available_directories for name in target_names]):\n",
    "        print(\"Not all targets have directories. Working with:\", available_directories)\n",
    "    target_names = [item[\"name\"] for item in target_names[\"annotations\"] if item[\"name\"] in available_directories]\n",
    "\n",
    "    skip_pids = []\n",
    "    if not args.rerun:\n",
    "        print(\"\\nRemoving problems with existing valid response...\")\n",
    "        for i, name in enumerate(target_names):\n",
    "            skip_pids.append([])\n",
    "            for pid in test_pids:\n",
    "                # print(f\"Checking {pid}...\")\n",
    "                if pid in results and 'response' in results[pid]:\n",
    "                    response = results[pid][name]['response']\n",
    "                    if verify_response(response):\n",
    "                        # print(f\"Valid response found for {pid}.\")\n",
    "                        skip_pids[i].append(pid)\n",
    "    else:\n",
    "        print(\"\\nRerun answer extraction for all problems...\")\n",
    "\n",
    "    test_pids = [[pid for pid in test_pids if pid not in target_skip_pids] for target_skip_pids in skip_pids]\n",
    "    print(\"Number of test problems to run for each target:\", {target_names[i]: len(target_pids) for i, target_pids in enumerate(test_pids)})\n",
    "    # print(test_pids)\n",
    "\n",
    "    \n",
    "\n",
    "    # tqdm, enumerate results\n",
    "    for i, target_name in enumerate(target_names):\n",
    "        for _, pid in enumerate(tqdm(test_pids[i])):\n",
    "            problem = data[pid]\n",
    "            query = query_data[pid]\n",
    "            image = problem['image']\n",
    "            image_path = os.path.join(args.poison_data_dir, target_name, f'{int(image.split(\".\")[0])+1}.png')\n",
    "\n",
    "            if args.debug:\n",
    "                print(\"--------------------------------------------------------------\")\n",
    "            print(f\"\\nGenerating response for {pid}...\")\n",
    "            try:\n",
    "                response = model.get_response(image_path, query)\n",
    "                new_caption = model.get_response(image_path, \"describe what is in this image\")\n",
    "                # print(f\"Response: {response}\")\n",
    "                if pid not in results:\n",
    "                    results[pid] = problem\n",
    "                if \"targets\" not in results[pid]:\n",
    "                    results[pid][\"targets\"] = {}\n",
    "                if target_name not in results[pid][\"targets\"]:\n",
    "                    results[pid][\"targets\"][target_name] = {}\n",
    "\n",
    "                results[pid][\"targets\"][target_name]['query'] = query\n",
    "                results[pid][\"targets\"][target_name]['model_description'] = new_caption\n",
    "                if args.shot_type == 'solution':\n",
    "                    results[pid][\"targets\"][target_name]['response'] = response\n",
    "                else:\n",
    "                    output, error = evaluate_code(response)\n",
    "                    results[pid][\"targets\"][target_name]['response'] = response\n",
    "                    results[pid][\"targets\"][target_name]['execution'] = output\n",
    "                    results[pid][\"targets\"][target_name]['error'] = str(error)\n",
    "                if args.debug:\n",
    "                    print(f\"\\n#Query: \\n{query}\")\n",
    "                    print(f\"\\n#Response: \\n{response}\")\n",
    "            except Exception as e:\n",
    "                print(e)\n",
    "                print(f\"Error in extracting answer for {pid}\")\n",
    "                results[pid][target_name]['error'] = e\n",
    "        \n",
    "            try:\n",
    "                print(f\"Saving results to {output_file}...\")\n",
    "                save_json(results, output_file)\n",
    "                print(f\"Results saved.\")\n",
    "            except Exception as e:\n",
    "                print(e)\n",
    "                print(f\"Error in saving {output_file}\")"
   ]
  },
  {
   "cell_type": "markdown",
   "metadata": {},
   "source": []
  },
  {
   "cell_type": "markdown",
   "metadata": {},
   "source": [
    "### Extract Answer"
   ]
  },
  {
   "cell_type": "code",
   "execution_count": null,
   "metadata": {},
   "outputs": [],
   "source": [
    "import os\n",
    "import re\n",
    "import time\n",
    "import argparse\n",
    "\n",
    "from tqdm import tqdm\n",
    "from poison_utils import *\n",
    "\n",
    "# OpenAI\n",
    "import openai\n",
    "from dotenv import load_dotenv\n",
    "from prompts.ext_ans import demo_prompt"
   ]
  },
  {
   "cell_type": "code",
   "execution_count": null,
   "metadata": {},
   "outputs": [],
   "source": [
    "load_dotenv()\n",
    "openai.api_key = os.getenv(\"OPENAI_API_KEY\")"
   ]
  },
  {
   "cell_type": "code",
   "execution_count": null,
   "metadata": {},
   "outputs": [],
   "source": [
    "def verify_extraction(extraction):\n",
    "    extraction = extraction.strip()\n",
    "    if extraction == \"\" or extraction == None:\n",
    "        return False\n",
    "    return True\n",
    "\n",
    "\n",
    "def create_test_prompt(demo_prompt, query, response):\n",
    "    demo_prompt = demo_prompt.strip()\n",
    "    test_prompt = f\"{query}\\n\\n{response}\"\n",
    "    full_prompt = f\"{demo_prompt}\\n\\n{test_prompt}\\n\\nExtracted answer: \"\n",
    "    return full_prompt\n",
    "\n",
    "\n",
    "def extract_answer(response, problem, target_name, model=None, quick_extract=False):\n",
    "    question_type = problem['question_type']\n",
    "    answer_type = problem['answer_type']\n",
    "    choices = problem['choices']\n",
    "    query = problem[target_name]['query']\n",
    "    pid = problem['pid']\n",
    "\n",
    "    if response == \"\":\n",
    "        return \"\"\n",
    "    \n",
    "    if question_type == 'multi_choice' and response in choices:\n",
    "        return response\n",
    "    \n",
    "    if answer_type == \"integer\":\n",
    "        try:\n",
    "            extraction = int(response)\n",
    "            return str(extraction)\n",
    "        except:\n",
    "            pass\n",
    "\n",
    "    if answer_type == \"float\":\n",
    "        try:\n",
    "            extraction = str(float(response))\n",
    "            return extraction\n",
    "        except:\n",
    "            pass\n",
    "\n",
    "    # quick extraction\n",
    "    if quick_extract:\n",
    "        print(\"Quickly extracting answer...\")\n",
    "        # The answer is \"text\". -> \"text\"\n",
    "        try:\n",
    "            result = re.search(r'The answer is \"(.*)\"\\.', response)\n",
    "            if result:\n",
    "                extraction = result.group(1)\n",
    "                return extraction\n",
    "        except:\n",
    "            pass\n",
    "\n",
    "    # general extraction\n",
    "    try:\n",
    "        full_prompt = create_test_prompt(demo_prompt, query, response)\n",
    "        # extraction = model.get_chat_response(full_prompt)\n",
    "        extraction = get_chat_response(full_prompt, openai.api_key)\n",
    "        return extraction\n",
    "    except Exception as e:\n",
    "        print(e)\n",
    "        print(f\"Error in extracting answer for {pid}\")\n",
    "\n",
    "    return \"\"\n",
    "\n",
    "    "
   ]
  },
  {
   "cell_type": "code",
   "execution_count": null,
   "metadata": {},
   "outputs": [],
   "source": [
    "args = {\n",
    "    \"output_dir\": f\"results/{model}\",\n",
    "    \"output_file\": f\"output_{model}.json\",\n",
    "    \"response_label\": ,\n",
    "    \"llm_engine\": ,\n",
    "    \"number\": ,\n",
    "    \"quick_extract\": ,\n",
    "    \"rerun\": , \n",
    "    \"save_every\": ,\n",
    "    \"output_label\": \n",
    "}"
   ]
  },
  {
   "cell_type": "code",
   "execution_count": null,
   "metadata": {},
   "outputs": [],
   "source": [
    "# args\n",
    "label = args.response_label\n",
    "result_file = os.path.join(args.output_dir, args.output_file)\n",
    "\n",
    "if args.output_label != '':\n",
    "    output_file = result_file.replace('.json', f'_{args.output_label}.json')\n",
    "else:\n",
    "    output_file = result_file\n",
    "\n",
    "# read results\n",
    "print(f\"Reading {result_file}...\")\n",
    "results = read_json(result_file)\n",
    "\n",
    "# model = llama_3_1.LLaMA()\n",
    "\n",
    "# full pids\n",
    "full_pids = list(results.keys())\n",
    "if args.number > 0:\n",
    "    full_pids = full_pids[:min(args.number, len(full_pids))]\n",
    "print(\"Number of testing problems:\", len(full_pids))\n",
    "\n",
    "# test pids\n",
    "if args.rerun:\n",
    "    test_pids = full_pids\n",
    "else:\n",
    "    test_pids = []\n",
    "    for pid in full_pids:\n",
    "        # print(pid)\n",
    "        if 'extraction' not in results[pid] or not verify_extraction(results[pid]['extraction']):\n",
    "            test_pids.append(pid)\n",
    "\n",
    "\n",
    "test_num = len(test_pids)\n",
    "print(\"Number of problems to run:\", test_num)\n",
    "# print(test_pids)\n",
    "\n",
    "# tqdm, enumerate results\n",
    "for i, pid in enumerate(tqdm(test_pids)):\n",
    "    target_names = results[pid][\"targets\"].keys()\n",
    "    for name in target_names:\n",
    "        problem = results[pid]\n",
    "\n",
    "        assert label in problem[\"targets\"][name]\n",
    "        response = problem[\"targets\"][name][label]       \n",
    "\n",
    "        \n",
    "        # extraction  = extract_answer(response, problem, name, model, args.quick_extract)\n",
    "        extraction  = extract_answer(response, problem, name, None, args.quick_extract)\n",
    "        results[pid][\"targets\"][name]['extraction'] = extraction\n",
    "\n",
    "        if i % args.save_every == 0 or i == test_num - 1:\n",
    "            print(f\"Saving results to {output_file}...\")\n",
    "            save_json(results, output_file)\n",
    "            print(f\"Results saved.\")"
   ]
  },
  {
   "cell_type": "code",
   "execution_count": null,
   "metadata": {},
   "outputs": [],
   "source": []
  }
 ],
 "metadata": {
  "kernelspec": {
   "display_name": "VLM_Poisoning",
   "language": "python",
   "name": "python3"
  },
  "language_info": {
   "codemirror_mode": {
    "name": "ipython",
    "version": 3
   },
   "file_extension": ".py",
   "mimetype": "text/x-python",
   "name": "python",
   "nbconvert_exporter": "python",
   "pygments_lexer": "ipython3",
   "version": "3.10.16"
  }
 },
 "nbformat": 4,
 "nbformat_minor": 2
}
